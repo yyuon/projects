{
 "cells": [
  {
   "cell_type": "markdown",
   "metadata": {},
   "source": [
    "# Отток клиентов"
   ]
  },
  {
   "cell_type": "markdown",
   "metadata": {},
   "source": [
    "# Описание проекта"
   ]
  },
  {
   "cell_type": "markdown",
   "metadata": {},
   "source": [
    "В рамках проекта я исследовал отток клиентов из банка. Для исследования был предоставлен датафрейм, в котором представлены различные данные о клиентах. Данные принимают целочисленные значения, например скоринг и возраст. Также некоторые данные принимаю дробные значения, например, заработная плата, баланс счета. И встречаются категориальные переменные, например, целевой признак -- exited и numofproducts. \n",
    "    \n",
    "Таким образом из информации, предоставленной марктетологами, нам предстоит исследовать ситуацию, которая сложилась в банке, путем создания и обучения моделей машинного обучения. Для решения поставленной задачи будут использованы различные библиотеки, а также сами модели МО для того, чтобы максимизировать точность полученного результата. "
   ]
  },
  {
   "cell_type": "markdown",
   "metadata": {},
   "source": [
    "## Подготовка данных"
   ]
  },
  {
   "cell_type": "code",
   "execution_count": 1,
   "metadata": {},
   "outputs": [
    {
     "name": "stdout",
     "output_type": "stream",
     "text": [
      "Collecting phik\n",
      "  Downloading phik-0.12.3-cp39-cp39-manylinux_2_17_x86_64.manylinux2014_x86_64.whl (679 kB)\n",
      "\u001b[K     |████████████████████████████████| 679 kB 1.2 MB/s eta 0:00:01\n",
      "\u001b[?25hRequirement already satisfied: scipy>=1.5.2 in /opt/conda/lib/python3.9/site-packages (from phik) (1.9.1)\n",
      "Requirement already satisfied: joblib>=0.14.1 in /opt/conda/lib/python3.9/site-packages (from phik) (1.1.0)\n",
      "Requirement already satisfied: numpy>=1.18.0 in /opt/conda/lib/python3.9/site-packages (from phik) (1.21.1)\n",
      "Requirement already satisfied: matplotlib>=2.2.3 in /opt/conda/lib/python3.9/site-packages (from phik) (3.3.4)\n",
      "Requirement already satisfied: pandas>=0.25.1 in /opt/conda/lib/python3.9/site-packages (from phik) (1.2.4)\n",
      "Requirement already satisfied: pyparsing!=2.0.4,!=2.1.2,!=2.1.6,>=2.0.3 in /opt/conda/lib/python3.9/site-packages (from matplotlib>=2.2.3->phik) (2.4.7)\n",
      "Requirement already satisfied: kiwisolver>=1.0.1 in /opt/conda/lib/python3.9/site-packages (from matplotlib>=2.2.3->phik) (1.4.4)\n",
      "Requirement already satisfied: pillow>=6.2.0 in /opt/conda/lib/python3.9/site-packages (from matplotlib>=2.2.3->phik) (8.4.0)\n",
      "Requirement already satisfied: cycler>=0.10 in /opt/conda/lib/python3.9/site-packages (from matplotlib>=2.2.3->phik) (0.11.0)\n",
      "Requirement already satisfied: python-dateutil>=2.1 in /opt/conda/lib/python3.9/site-packages (from matplotlib>=2.2.3->phik) (2.8.1)\n",
      "Requirement already satisfied: pytz>=2017.3 in /opt/conda/lib/python3.9/site-packages (from pandas>=0.25.1->phik) (2021.1)\n",
      "Requirement already satisfied: six>=1.5 in /opt/conda/lib/python3.9/site-packages (from python-dateutil>=2.1->matplotlib>=2.2.3->phik) (1.16.0)\n",
      "Installing collected packages: phik\n",
      "Successfully installed phik-0.12.3\n"
     ]
    }
   ],
   "source": [
    "import pandas as pd\n",
    "import seaborn as sns\n",
    "import numpy as np\n",
    "import warnings\n",
    "import matplotlib.pyplot as plt\n",
    "from sklearn.model_selection import train_test_split\n",
    "from sklearn.metrics import mean_squared_error\n",
    "from sklearn.linear_model import LogisticRegression\n",
    "from sklearn.ensemble import RandomForestClassifier\n",
    "from sklearn.metrics import accuracy_score\n",
    "from sklearn.tree import DecisionTreeClassifier\n",
    "from sklearn.datasets import make_classification\n",
    "from sklearn import preprocessing\n",
    "from sklearn import utils\n",
    "from sklearn.metrics import f1_score\n",
    "from sklearn.metrics import roc_auc_score\n",
    "from sklearn.metrics import roc_curve\n",
    "!pip install phik\n",
    "from sklearn.utils import shuffle\n",
    "import phik\n",
    "from phik.report import plot_correlation_matrix\n",
    "from phik import report\n",
    "from sklearn.preprocessing import StandardScaler\n",
    "from sklearn.preprocessing import OneHotEncoder\n",
    "from sklearn.preprocessing import OrdinalEncoder"
   ]
  },
  {
   "cell_type": "code",
   "execution_count": 2,
   "metadata": {},
   "outputs": [
    {
     "data": {
      "text/html": [
       "<div>\n",
       "<style scoped>\n",
       "    .dataframe tbody tr th:only-of-type {\n",
       "        vertical-align: middle;\n",
       "    }\n",
       "\n",
       "    .dataframe tbody tr th {\n",
       "        vertical-align: top;\n",
       "    }\n",
       "\n",
       "    .dataframe thead th {\n",
       "        text-align: right;\n",
       "    }\n",
       "</style>\n",
       "<table border=\"1\" class=\"dataframe\">\n",
       "  <thead>\n",
       "    <tr style=\"text-align: right;\">\n",
       "      <th></th>\n",
       "      <th>RowNumber</th>\n",
       "      <th>CustomerId</th>\n",
       "      <th>Surname</th>\n",
       "      <th>CreditScore</th>\n",
       "      <th>Geography</th>\n",
       "      <th>Gender</th>\n",
       "      <th>Age</th>\n",
       "      <th>Tenure</th>\n",
       "      <th>Balance</th>\n",
       "      <th>NumOfProducts</th>\n",
       "      <th>HasCrCard</th>\n",
       "      <th>IsActiveMember</th>\n",
       "      <th>EstimatedSalary</th>\n",
       "      <th>Exited</th>\n",
       "    </tr>\n",
       "  </thead>\n",
       "  <tbody>\n",
       "    <tr>\n",
       "      <th>0</th>\n",
       "      <td>1</td>\n",
       "      <td>15634602</td>\n",
       "      <td>Hargrave</td>\n",
       "      <td>619</td>\n",
       "      <td>France</td>\n",
       "      <td>Female</td>\n",
       "      <td>42</td>\n",
       "      <td>2.0</td>\n",
       "      <td>0.00</td>\n",
       "      <td>1</td>\n",
       "      <td>1</td>\n",
       "      <td>1</td>\n",
       "      <td>101348.88</td>\n",
       "      <td>1</td>\n",
       "    </tr>\n",
       "    <tr>\n",
       "      <th>1</th>\n",
       "      <td>2</td>\n",
       "      <td>15647311</td>\n",
       "      <td>Hill</td>\n",
       "      <td>608</td>\n",
       "      <td>Spain</td>\n",
       "      <td>Female</td>\n",
       "      <td>41</td>\n",
       "      <td>1.0</td>\n",
       "      <td>83807.86</td>\n",
       "      <td>1</td>\n",
       "      <td>0</td>\n",
       "      <td>1</td>\n",
       "      <td>112542.58</td>\n",
       "      <td>0</td>\n",
       "    </tr>\n",
       "    <tr>\n",
       "      <th>2</th>\n",
       "      <td>3</td>\n",
       "      <td>15619304</td>\n",
       "      <td>Onio</td>\n",
       "      <td>502</td>\n",
       "      <td>France</td>\n",
       "      <td>Female</td>\n",
       "      <td>42</td>\n",
       "      <td>8.0</td>\n",
       "      <td>159660.80</td>\n",
       "      <td>3</td>\n",
       "      <td>1</td>\n",
       "      <td>0</td>\n",
       "      <td>113931.57</td>\n",
       "      <td>1</td>\n",
       "    </tr>\n",
       "    <tr>\n",
       "      <th>3</th>\n",
       "      <td>4</td>\n",
       "      <td>15701354</td>\n",
       "      <td>Boni</td>\n",
       "      <td>699</td>\n",
       "      <td>France</td>\n",
       "      <td>Female</td>\n",
       "      <td>39</td>\n",
       "      <td>1.0</td>\n",
       "      <td>0.00</td>\n",
       "      <td>2</td>\n",
       "      <td>0</td>\n",
       "      <td>0</td>\n",
       "      <td>93826.63</td>\n",
       "      <td>0</td>\n",
       "    </tr>\n",
       "    <tr>\n",
       "      <th>4</th>\n",
       "      <td>5</td>\n",
       "      <td>15737888</td>\n",
       "      <td>Mitchell</td>\n",
       "      <td>850</td>\n",
       "      <td>Spain</td>\n",
       "      <td>Female</td>\n",
       "      <td>43</td>\n",
       "      <td>2.0</td>\n",
       "      <td>125510.82</td>\n",
       "      <td>1</td>\n",
       "      <td>1</td>\n",
       "      <td>1</td>\n",
       "      <td>79084.10</td>\n",
       "      <td>0</td>\n",
       "    </tr>\n",
       "    <tr>\n",
       "      <th>5</th>\n",
       "      <td>6</td>\n",
       "      <td>15574012</td>\n",
       "      <td>Chu</td>\n",
       "      <td>645</td>\n",
       "      <td>Spain</td>\n",
       "      <td>Male</td>\n",
       "      <td>44</td>\n",
       "      <td>8.0</td>\n",
       "      <td>113755.78</td>\n",
       "      <td>2</td>\n",
       "      <td>1</td>\n",
       "      <td>0</td>\n",
       "      <td>149756.71</td>\n",
       "      <td>1</td>\n",
       "    </tr>\n",
       "    <tr>\n",
       "      <th>6</th>\n",
       "      <td>7</td>\n",
       "      <td>15592531</td>\n",
       "      <td>Bartlett</td>\n",
       "      <td>822</td>\n",
       "      <td>France</td>\n",
       "      <td>Male</td>\n",
       "      <td>50</td>\n",
       "      <td>7.0</td>\n",
       "      <td>0.00</td>\n",
       "      <td>2</td>\n",
       "      <td>1</td>\n",
       "      <td>1</td>\n",
       "      <td>10062.80</td>\n",
       "      <td>0</td>\n",
       "    </tr>\n",
       "    <tr>\n",
       "      <th>7</th>\n",
       "      <td>8</td>\n",
       "      <td>15656148</td>\n",
       "      <td>Obinna</td>\n",
       "      <td>376</td>\n",
       "      <td>Germany</td>\n",
       "      <td>Female</td>\n",
       "      <td>29</td>\n",
       "      <td>4.0</td>\n",
       "      <td>115046.74</td>\n",
       "      <td>4</td>\n",
       "      <td>1</td>\n",
       "      <td>0</td>\n",
       "      <td>119346.88</td>\n",
       "      <td>1</td>\n",
       "    </tr>\n",
       "    <tr>\n",
       "      <th>8</th>\n",
       "      <td>9</td>\n",
       "      <td>15792365</td>\n",
       "      <td>He</td>\n",
       "      <td>501</td>\n",
       "      <td>France</td>\n",
       "      <td>Male</td>\n",
       "      <td>44</td>\n",
       "      <td>4.0</td>\n",
       "      <td>142051.07</td>\n",
       "      <td>2</td>\n",
       "      <td>0</td>\n",
       "      <td>1</td>\n",
       "      <td>74940.50</td>\n",
       "      <td>0</td>\n",
       "    </tr>\n",
       "    <tr>\n",
       "      <th>9</th>\n",
       "      <td>10</td>\n",
       "      <td>15592389</td>\n",
       "      <td>H?</td>\n",
       "      <td>684</td>\n",
       "      <td>France</td>\n",
       "      <td>Male</td>\n",
       "      <td>27</td>\n",
       "      <td>2.0</td>\n",
       "      <td>134603.88</td>\n",
       "      <td>1</td>\n",
       "      <td>1</td>\n",
       "      <td>1</td>\n",
       "      <td>71725.73</td>\n",
       "      <td>0</td>\n",
       "    </tr>\n",
       "  </tbody>\n",
       "</table>\n",
       "</div>"
      ],
      "text/plain": [
       "   RowNumber  CustomerId   Surname  CreditScore Geography  Gender  Age  \\\n",
       "0          1    15634602  Hargrave          619    France  Female   42   \n",
       "1          2    15647311      Hill          608     Spain  Female   41   \n",
       "2          3    15619304      Onio          502    France  Female   42   \n",
       "3          4    15701354      Boni          699    France  Female   39   \n",
       "4          5    15737888  Mitchell          850     Spain  Female   43   \n",
       "5          6    15574012       Chu          645     Spain    Male   44   \n",
       "6          7    15592531  Bartlett          822    France    Male   50   \n",
       "7          8    15656148    Obinna          376   Germany  Female   29   \n",
       "8          9    15792365        He          501    France    Male   44   \n",
       "9         10    15592389        H?          684    France    Male   27   \n",
       "\n",
       "   Tenure    Balance  NumOfProducts  HasCrCard  IsActiveMember  \\\n",
       "0     2.0       0.00              1          1               1   \n",
       "1     1.0   83807.86              1          0               1   \n",
       "2     8.0  159660.80              3          1               0   \n",
       "3     1.0       0.00              2          0               0   \n",
       "4     2.0  125510.82              1          1               1   \n",
       "5     8.0  113755.78              2          1               0   \n",
       "6     7.0       0.00              2          1               1   \n",
       "7     4.0  115046.74              4          1               0   \n",
       "8     4.0  142051.07              2          0               1   \n",
       "9     2.0  134603.88              1          1               1   \n",
       "\n",
       "   EstimatedSalary  Exited  \n",
       "0        101348.88       1  \n",
       "1        112542.58       0  \n",
       "2        113931.57       1  \n",
       "3         93826.63       0  \n",
       "4         79084.10       0  \n",
       "5        149756.71       1  \n",
       "6         10062.80       0  \n",
       "7        119346.88       1  \n",
       "8         74940.50       0  \n",
       "9         71725.73       0  "
      ]
     },
     "metadata": {},
     "output_type": "display_data"
    },
    {
     "data": {
      "text/plain": [
       "(10000, 14)"
      ]
     },
     "execution_count": 2,
     "metadata": {},
     "output_type": "execute_result"
    }
   ],
   "source": [
    "df = pd.read_csv('/datasets/Churn.csv')\n",
    "display(df.head(10))\n",
    "df.shape"
   ]
  },
  {
   "cell_type": "code",
   "execution_count": 3,
   "metadata": {},
   "outputs": [
    {
     "name": "stdout",
     "output_type": "stream",
     "text": [
      "<class 'pandas.core.frame.DataFrame'>\n",
      "RangeIndex: 10000 entries, 0 to 9999\n",
      "Data columns (total 14 columns):\n",
      " #   Column           Non-Null Count  Dtype  \n",
      "---  ------           --------------  -----  \n",
      " 0   RowNumber        10000 non-null  int64  \n",
      " 1   CustomerId       10000 non-null  int64  \n",
      " 2   Surname          10000 non-null  object \n",
      " 3   CreditScore      10000 non-null  int64  \n",
      " 4   Geography        10000 non-null  object \n",
      " 5   Gender           10000 non-null  object \n",
      " 6   Age              10000 non-null  int64  \n",
      " 7   Tenure           9091 non-null   float64\n",
      " 8   Balance          10000 non-null  float64\n",
      " 9   NumOfProducts    10000 non-null  int64  \n",
      " 10  HasCrCard        10000 non-null  int64  \n",
      " 11  IsActiveMember   10000 non-null  int64  \n",
      " 12  EstimatedSalary  10000 non-null  float64\n",
      " 13  Exited           10000 non-null  int64  \n",
      "dtypes: float64(3), int64(8), object(3)\n",
      "memory usage: 1.1+ MB\n"
     ]
    }
   ],
   "source": [
    "df.info()"
   ]
  },
  {
   "cell_type": "code",
   "execution_count": 4,
   "metadata": {},
   "outputs": [],
   "source": [
    "df.columns = df.columns.str.lower() #преобразуем названия столбцов по змеиному регистру"
   ]
  },
  {
   "cell_type": "code",
   "execution_count": 5,
   "metadata": {},
   "outputs": [
    {
     "data": {
      "text/plain": [
       "rownumber            0\n",
       "customerid           0\n",
       "surname              0\n",
       "creditscore          0\n",
       "geography            0\n",
       "gender               0\n",
       "age                  0\n",
       "tenure             909\n",
       "balance              0\n",
       "numofproducts        0\n",
       "hascrcard            0\n",
       "isactivemember       0\n",
       "estimatedsalary      0\n",
       "exited               0\n",
       "dtype: int64"
      ]
     },
     "execution_count": 5,
     "metadata": {},
     "output_type": "execute_result"
    }
   ],
   "source": [
    "df.isna().sum() # исследуем датафрей на пропуски"
   ]
  },
  {
   "cell_type": "code",
   "execution_count": 6,
   "metadata": {},
   "outputs": [
    {
     "data": {
      "text/plain": [
       "1.0     952\n",
       "2.0     950\n",
       "8.0     933\n",
       "3.0     928\n",
       "5.0     927\n",
       "7.0     925\n",
       "4.0     885\n",
       "9.0     882\n",
       "6.0     881\n",
       "10.0    446\n",
       "0.0     382\n",
       "Name: tenure, dtype: int64"
      ]
     },
     "execution_count": 6,
     "metadata": {},
     "output_type": "execute_result"
    }
   ],
   "source": [
    "df = df.dropna(subset=['tenure']) # поскольку пропущенных значений менее 10%, их можно удалить\n",
    "df['tenure'].isna().sum() # проверяем корректное удаление пропущенных значений\n",
    "df['tenure'].value_counts() "
   ]
  },
  {
   "cell_type": "markdown",
   "metadata": {},
   "source": [
    "Поскольку в столбце tenure только целочисленные значения, их можно преобразовать в int."
   ]
  },
  {
   "cell_type": "code",
   "execution_count": 7,
   "metadata": {},
   "outputs": [
    {
     "data": {
      "text/plain": [
       "Int64Dtype()"
      ]
     },
     "execution_count": 7,
     "metadata": {},
     "output_type": "execute_result"
    }
   ],
   "source": [
    "df['tenure'] = df['tenure'].astype('Int64', errors='ignore')\n",
    "df['tenure'].dtype"
   ]
  },
  {
   "cell_type": "markdown",
   "metadata": {},
   "source": [
    "## Исследование задачи"
   ]
  },
  {
   "cell_type": "markdown",
   "metadata": {},
   "source": [
    "Создадим features и target относительно поставленной задачи. \n",
    "    "
   ]
  },
  {
   "cell_type": "code",
   "execution_count": 8,
   "metadata": {},
   "outputs": [
    {
     "name": "stderr",
     "output_type": "stream",
     "text": [
      "/tmp/ipykernel_48/2569057527.py:18: SettingWithCopyWarning: \n",
      "A value is trying to be set on a copy of a slice from a DataFrame.\n",
      "Try using .loc[row_indexer,col_indexer] = value instead\n",
      "\n",
      "See the caveats in the documentation: https://pandas.pydata.org/pandas-docs/stable/user_guide/indexing.html#returning-a-view-versus-a-copy\n",
      "  features_train[numeric] = scaler.transform(features_train[numeric])\n",
      "/opt/conda/lib/python3.9/site-packages/pandas/core/indexing.py:1637: SettingWithCopyWarning: \n",
      "A value is trying to be set on a copy of a slice from a DataFrame\n",
      "\n",
      "See the caveats in the documentation: https://pandas.pydata.org/pandas-docs/stable/user_guide/indexing.html#returning-a-view-versus-a-copy\n",
      "  self._setitem_single_block(indexer, value, name)\n",
      "/opt/conda/lib/python3.9/site-packages/pandas/core/indexing.py:692: SettingWithCopyWarning: \n",
      "A value is trying to be set on a copy of a slice from a DataFrame\n",
      "\n",
      "See the caveats in the documentation: https://pandas.pydata.org/pandas-docs/stable/user_guide/indexing.html#returning-a-view-versus-a-copy\n",
      "  iloc._setitem_with_indexer(indexer, value, self.name)\n"
     ]
    }
   ],
   "source": [
    "encoder = OrdinalEncoder()\n",
    "df_ord = pd.DataFrame(encoder.fit_transform(df),\n",
    "                            columns=df.columns)\n",
    "\n",
    "features = df_ord.drop(['exited'], axis=1)\n",
    "target = df_ord['exited']\n",
    "\n",
    "features_train, features_valid, target_train, target_valid = train_test_split(\n",
    "    features , target, test_size=0.4, random_state=12345)\n",
    "\n",
    "features_test, features_valid, target_test, target_valid = train_test_split(\n",
    "    features_valid, target_valid, test_size=0.5, random_state=12345)\n",
    "\n",
    "numeric = ['creditscore', 'age', 'tenure', 'balance', 'estimatedsalary']\n",
    "\n",
    "scaler = StandardScaler()\n",
    "scaler.fit(features_train[numeric])\n",
    "features_train[numeric] = scaler.transform(features_train[numeric])\n",
    "features_valid[numeric] = scaler.transform(features_valid[numeric])\n",
    "features_test[numeric] = scaler.transform(features_test[numeric])"
   ]
  },
  {
   "cell_type": "code",
   "execution_count": 9,
   "metadata": {},
   "outputs": [],
   "source": [
    "features_train = features_train.drop(columns=['surname', 'customerid', 'rownumber']) \n",
    "features_valid = features_valid.drop(columns=['surname', 'customerid', 'rownumber'])\n",
    "features_test = features_test.drop(columns=['surname', 'customerid', 'rownumber'])\n",
    "# для обучения модели удалим некоторые столбцы\n",
    "#display(features_train)"
   ]
  },
  {
   "cell_type": "code",
   "execution_count": 10,
   "metadata": {},
   "outputs": [
    {
     "data": {
      "text/plain": [
       "Index(['rownumber', 'customerid', 'surname', 'creditscore', 'geography',\n",
       "       'gender', 'age', 'tenure', 'balance', 'numofproducts', 'hascrcard',\n",
       "       'isactivemember', 'estimatedsalary', 'exited'],\n",
       "      dtype='object')"
      ]
     },
     "execution_count": 10,
     "metadata": {},
     "output_type": "execute_result"
    }
   ],
   "source": [
    "df.columns"
   ]
  },
  {
   "cell_type": "code",
   "execution_count": 11,
   "metadata": {},
   "outputs": [
    {
     "name": "stdout",
     "output_type": "stream",
     "text": [
      "interval columns not set, guessing: ['rownumber', 'customerid', 'creditscore', 'age', 'tenure', 'balance', 'numofproducts', 'hascrcard', 'isactivemember', 'estimatedsalary', 'exited']\n"
     ]
    },
    {
     "data": {
      "text/plain": [
       "<AxesSubplot:>"
      ]
     },
     "execution_count": 11,
     "metadata": {},
     "output_type": "execute_result"
    },
    {
     "data": {
      "image/png": "[encoded data removed]",
      "text/plain": [
       "<Figure size 720x720 with 2 Axes>"
      ]
     },
     "metadata": {
      "needs_background": "light"
     },
     "output_type": "display_data"
    }
   ],
   "source": [
    "warnings.filterwarnings('ignore')\n",
    "\n",
    "phik_overview = df.phik_matrix()\n",
    "\n",
    "fig, ax = plt.subplots(figsize=(10, 10))\n",
    "sns.heatmap(phik_overview, cmap='coolwarm', annot=True, ax=ax)\n"
   ]
  },
  {
   "cell_type": "markdown",
   "metadata": {},
   "source": [
    "После вывода матрицы корреляций можно заметить, что сильной связи между признакми не наблюдается, что исключает вероятность мультиколлинеарности. "
   ]
  },
  {
   "cell_type": "markdown",
   "metadata": {},
   "source": [
    "После создания признаков и цели, рассмотрим несколько вариантов моделей для бинарной классификации. Подберем гиперпараметры используя цикл. "
   ]
  },
  {
   "cell_type": "code",
   "execution_count": 12,
   "metadata": {},
   "outputs": [
    {
     "name": "stdout",
     "output_type": "stream",
     "text": [
      "LogisticRegression(max_iter=1901, random_state=12345, solver='saga')\n",
      "Accuracy лучшей модели: 0.8196811434854315\n",
      "F1 мера модели: 0.2579185520361991\n",
      "AUC ROC метрика равна 0.7653260051080214\n"
     ]
    },
    {
     "data": {
      "text/plain": [
       "<Figure size 432x288 with 0 Axes>"
      ]
     },
     "metadata": {},
     "output_type": "display_data"
    },
    {
     "data": {
      "image/png": "[encoded data removed]",
      "text/plain": [
       "<Figure size 432x288 with 1 Axes>"
      ]
     },
     "metadata": {
      "needs_background": "light"
     },
     "output_type": "display_data"
    }
   ],
   "source": [
    "warnings.filterwarnings('ignore')\n",
    "\n",
    "best_model = None\n",
    "best_accuracy = 0\n",
    "\n",
    "for itera in range(1, 2000, 100): \n",
    "    for solver in ['lbfgs', 'liblinear', 'sag', 'saga']: \n",
    "        model = LogisticRegression(random_state=12345, max_iter=itera, solver=solver)\n",
    "        model.fit(features_train, target_train) \n",
    "        predictions = model.predict(features_valid).round()\n",
    "        accuracy = accuracy_score(target_valid, predictions) \n",
    "        if accuracy > best_accuracy: \n",
    "            best_model = model\n",
    "            beat_accuracy = accuracy\n",
    "            \n",
    "#print(best_accuracy) \n",
    "print(best_model)\n",
    "\n",
    "model = LogisticRegression(random_state=12345, solver='saga', max_iter = 1901) \n",
    "model.fit(features_train, target_train) \n",
    "predictions = model.predict(features_valid)\n",
    "accuracy = accuracy_score(target_valid, predictions)\n",
    "f1 = f1_score(target_valid, predictions)\n",
    "probabilities_valid = model.predict_proba(features_valid)\n",
    "probabilities_one_valid = probabilities_valid[:, 1]\n",
    "auc_roc = roc_auc_score(target_valid, probabilities_one_valid)\n",
    "print('Accuracy лучшей модели:', accuracy)\n",
    "print('F1 мера модели:', f1)\n",
    "print('AUC ROC метрика равна', auc_roc)\n",
    "\n",
    "fpr, tpr, thresholds = roc_curve(target_valid, probabilities_one_valid)\n",
    "\n",
    "plt.figure()\n",
    "plt.figure()\n",
    "plt.plot(fpr, tpr)\n",
    "plt.xlim([0.0, 1.0])\n",
    "plt.ylim([0.0, 1.0])\n",
    "plt.xlabel('False Positive Rate')\n",
    "plt.ylabel('True Positive Rate')\n",
    "plt.title('ROC-кривая')\n",
    "plt.show() "
   ]
  },
  {
   "cell_type": "markdown",
   "metadata": {},
   "source": [
    "Таким образом можно заметить, что при оптимальных гиперпараметрах точность модели будет составлять 0.8. F1 мера равна 0.08, а метрика AUC ROC равна 0.62. Также построив ROC-кривую можно сказать, что она не сильно отличается от такого же графика для случайной модели, что говорит о том, что применение модели логистической регресси не имеет смысла. Однако при дальнейшем изменении гиперпараметра class_weight, можно сделать вывод о том, что результаты поменялись: F1 мера выросла на 0.34, а AUC ROC метрика выросла на 0.07."
   ]
  },
  {
   "cell_type": "code",
   "execution_count": 13,
   "metadata": {},
   "outputs": [
    {
     "name": "stdout",
     "output_type": "stream",
     "text": [
      "Accuracy лучшей модели: 0.8196811434854315\n",
      "F1 мера модели: 0.2579185520361991\n",
      "AUC ROC метрика равна 0.7653260051080214\n"
     ]
    },
    {
     "data": {
      "text/plain": [
       "<Figure size 432x288 with 0 Axes>"
      ]
     },
     "metadata": {},
     "output_type": "display_data"
    },
    {
     "data": {
      "image/png": "[encoded data removed]",
      "text/plain": [
       "<Figure size 432x288 with 1 Axes>"
      ]
     },
     "metadata": {
      "needs_background": "light"
     },
     "output_type": "display_data"
    }
   ],
   "source": [
    "model = LogisticRegression(random_state=12345, solver='saga', max_iter = 1901) \n",
    "model.fit(features_train, target_train) \n",
    "prediction = model.predict(features_valid)\n",
    "accuracy = accuracy_score(target_valid, prediction)\n",
    "f1 = f1_score(target_valid, predictions)\n",
    "probabilities_valid = model.predict_proba(features_valid)\n",
    "probabilities_one_valid = probabilities_valid[:, 1]\n",
    "auc_roc = roc_auc_score(target_valid, probabilities_one_valid)\n",
    "print('Accuracy лучшей модели:', accuracy)\n",
    "print('F1 мера модели:', f1)\n",
    "print('AUC ROC метрика равна', auc_roc)\n",
    "\n",
    "fpr, tpr, thresholds = roc_curve(target_valid, probabilities_one_valid)\n",
    "\n",
    "plt.figure()\n",
    "plt.figure()\n",
    "plt.plot(fpr, tpr)\n",
    "plt.xlim([0.0, 1.0])\n",
    "plt.ylim([0.0, 1.0])\n",
    "plt.xlabel('False Positive Rate')\n",
    "plt.ylabel('True Positive Rate')\n",
    "plt.title('ROC-кривая')\n",
    "plt.show() "
   ]
  },
  {
   "cell_type": "markdown",
   "metadata": {},
   "source": [
    "После вывода можно заметить, что график ROC-кривой также не сильно отличается от предыдущего, а значение F1 меры равно 0. Но метрика accuracy все равно высокая, что позволит вернуться к этой модели при решении проблемы дисбаланса классов."
   ]
  },
  {
   "cell_type": "code",
   "execution_count": 14,
   "metadata": {},
   "outputs": [
    {
     "name": "stdout",
     "output_type": "stream",
     "text": [
      "Лучшая модель: DecisionTreeClassifier(max_depth=6, min_samples_leaf=6, random_state=12345)\n",
      "Accuracy лучшей модели: 0.8581638262781748\n",
      "F1 мера модели: 0.5038461538461538\n",
      "AUC ROC метрика равна 0.8306007747424642\n"
     ]
    },
    {
     "data": {
      "text/plain": [
       "<Figure size 432x288 with 0 Axes>"
      ]
     },
     "metadata": {},
     "output_type": "display_data"
    },
    {
     "data": {
      "image/png": "[encoded data removed]",
      "text/plain": [
       "<Figure size 432x288 with 1 Axes>"
      ]
     },
     "metadata": {
      "needs_background": "light"
     },
     "output_type": "display_data"
    }
   ],
   "source": [
    "best_model = None \n",
    "best_accuracy = 0 \n",
    "\n",
    "for depth in range(1,51): \n",
    "    for leaf in range(1,12): \n",
    "        model = DecisionTreeClassifier(random_state=12345, max_depth=depth, min_samples_leaf=leaf)\n",
    "        model.fit(features_train, target_train)\n",
    "        predictions = model.predict(features_valid)\n",
    "        accuracy = accuracy_score(target_valid, predictions)\n",
    "        if accuracy > best_accuracy: \n",
    "            best_model = model\n",
    "            best_accuracy = accuracy\n",
    "            \n",
    "print('Лучшая модель:', best_model)\n",
    "#print('Наивысшая точность', best_accuracy)\n",
    "\n",
    "model = DecisionTreeClassifier(max_depth=6, min_samples_leaf=9, random_state=12345)\n",
    "model.fit(features_train, target_train) \n",
    "predictions = model.predict(features_valid) \n",
    "accuracy = accuracy_score(target_valid, predictions)\n",
    "f1 = f1_score(target_valid, predictions)\n",
    "probabilities_valid = model.predict_proba(features_valid)\n",
    "probabilities_one_valid = probabilities_valid[:, 1]\n",
    "auc_roc = roc_auc_score(target_valid, probabilities_one_valid)\n",
    "print('Accuracy лучшей модели:', accuracy)\n",
    "print('F1 мера модели:', f1)\n",
    "print('AUC ROC метрика равна', auc_roc)\n",
    "\n",
    "fpr, tpr, thresholds = roc_curve(target_valid, probabilities_one_valid)\n",
    "\n",
    "plt.figure()\n",
    "plt.figure()\n",
    "plt.plot(fpr, tpr)\n",
    "plt.xlim([0.0, 1.0])\n",
    "plt.ylim([0.0, 1.0])\n",
    "plt.xlabel('False Positive Rate')\n",
    "plt.ylabel('True Positive Rate')\n",
    "plt.title('ROC-кривая')\n",
    "plt.show() "
   ]
  },
  {
   "cell_type": "code",
   "execution_count": 15,
   "metadata": {},
   "outputs": [
    {
     "name": "stdout",
     "output_type": "stream",
     "text": [
      "Accuracy лучшей модели: 0.8669598680593733\n",
      "F1 мера модели: 0.5433962264150943\n",
      "AUC ROC метрика равна 0.8544834920856719\n"
     ]
    },
    {
     "data": {
      "text/plain": [
       "<Figure size 432x288 with 0 Axes>"
      ]
     },
     "metadata": {},
     "output_type": "display_data"
    },
    {
     "data": {
      "image/png": "[encoded data removed]",
      "text/plain": [
       "<Figure size 432x288 with 1 Axes>"
      ]
     },
     "metadata": {
      "needs_background": "light"
     },
     "output_type": "display_data"
    }
   ],
   "source": [
    "best_model = None \n",
    "best_accuracy = 0 \n",
    "\n",
    "for depth in range(1, 21, 10): \n",
    "    for leaf in range(1,12): \n",
    "        for crit in ['gini', 'entropy']:\n",
    "            model = RandomForestClassifier(random_state=12345, max_depth=depth, min_samples_leaf=leaf, criterion=crit)\n",
    "            model.fit(features_train, target_train)\n",
    "            predictions = model.predict(features_valid)\n",
    "            accuracy = accuracy_score(target_valid, predictions)\n",
    "            if accuracy > best_accuracy: \n",
    "                best_model = model\n",
    "                best_accuracy = accuracy\n",
    "\n",
    "#print('Лучшая модель:', best_model)\n",
    "\n",
    "model = RandomForestClassifier(max_depth=11, random_state=12345) \n",
    "model.fit(features_train, target_train) \n",
    "predictions = model.predict(features_valid) \n",
    "accuracy = accuracy_score(target_valid, predictions)\n",
    "f1 = f1_score(target_valid, predictions)\n",
    "probabilities_valid = model.predict_proba(features_valid)\n",
    "probabilities_one_valid = probabilities_valid[:, 1]\n",
    "auc_roc = roc_auc_score(target_valid, probabilities_one_valid)\n",
    "print('Accuracy лучшей модели:', accuracy)\n",
    "print('F1 мера модели:', f1)\n",
    "print('AUC ROC метрика равна', auc_roc)\n",
    "\n",
    "fpr, tpr, thresholds = roc_curve(target_valid, probabilities_one_valid)\n",
    "\n",
    "plt.figure()\n",
    "plt.figure()\n",
    "plt.plot(fpr, tpr)\n",
    "plt.xlim([0.0, 1.0])\n",
    "plt.ylim([0.0, 1.0])\n",
    "plt.xlabel('False Positive Rate')\n",
    "plt.ylabel('True Positive Rate')\n",
    "plt.title('ROC-кривая')\n",
    "plt.show() "
   ]
  },
  {
   "cell_type": "markdown",
   "metadata": {},
   "source": [
    "Пока самая лучшая модель, которая получилась при проблеме дисбаланса -- модель DecisionTreeClassifier. ROC-кривая почти не повторяет кривую случайной модели, а значение F1 меры равно 0.58. AUC ROC метрика равна 0.73."
   ]
  },
  {
   "cell_type": "markdown",
   "metadata": {},
   "source": [
    "## Борьба с дисбалансом"
   ]
  },
  {
   "cell_type": "code",
   "execution_count": 16,
   "metadata": {},
   "outputs": [
    {
     "data": {
      "text/plain": [
       "0    0.796062\n",
       "1    0.203938\n",
       "Name: exited, dtype: float64"
      ]
     },
     "execution_count": 16,
     "metadata": {},
     "output_type": "execute_result"
    }
   ],
   "source": [
    "df['exited'].value_counts(normalize=True) "
   ]
  },
  {
   "cell_type": "markdown",
   "metadata": {},
   "source": [
    "При выводе видно, что данные разбиты в соотношении 80% / 20%, где большая часть клиентов еще не ушла из банка, а 20% клиентов -- ушли. Таким образом имеет смысл бороться с проблемой дисбаланса классов для того, чтобы максимизировать полезность исследования.  "
   ]
  },
  {
   "cell_type": "markdown",
   "metadata": {},
   "source": [
    "Для того, чтобы приравнять классы воспользуемся функцией upsampling"
   ]
  },
  {
   "cell_type": "code",
   "execution_count": 17,
   "metadata": {},
   "outputs": [
    {
     "name": "stdout",
     "output_type": "stream",
     "text": [
      "Accuracy лучшей модели: 0.7894447498625619\n",
      "F1 мера модели: 0.5478158205430932\n",
      "AUC ROC метрика равна 0.8266028552132094\n"
     ]
    }
   ],
   "source": [
    "def upsample(features, target, repeat):\n",
    "    features_zeros = features[target == 0]\n",
    "    features_ones = features[target == 1]\n",
    "    target_zeros = target[target == 0]\n",
    "    target_ones = target[target == 1]\n",
    "\n",
    "    features_upsampled = pd.concat([features_zeros] + [features_ones] * repeat)\n",
    "    target_upsampled = pd.concat([target_zeros] + [target_ones] * repeat)\n",
    "    \n",
    "    features_upsampled, target_upsampled = shuffle(\n",
    "        features_upsampled, target_upsampled, random_state=12345)\n",
    "    \n",
    "    return features_upsampled, target_upsampled\n",
    "\n",
    "features_upsampled, target_upsampled = upsample(features_train, target_train, 4)\n",
    "\n",
    "best_model = None \n",
    "best_accuracy = 0 \n",
    "\n",
    "for depth in range(1,51): \n",
    "    for leaf in range(1,12): \n",
    "        model = DecisionTreeClassifier(random_state=12345, max_depth=depth, min_samples_leaf=leaf)\n",
    "        model.fit(features_upsampled, target_upsampled)\n",
    "        predictions = model.predict(features_valid)\n",
    "        accuracy = accuracy_score(target_valid, predictions)\n",
    "        if accuracy > best_accuracy: \n",
    "            best_model = model\n",
    "            best_accuracy = accuracy\n",
    "            \n",
    "#print('Лучшая модель:', best_model)\n",
    "\n",
    "model = DecisionTreeClassifier(max_depth=5, min_samples_leaf=15, random_state=12345)\n",
    "model.fit(features_upsampled, target_upsampled) \n",
    "predictions = model.predict(features_valid) \n",
    "accuracy = accuracy_score(target_valid, predictions)\n",
    "f1 = f1_score(target_valid, predictions)\n",
    "probabilities_valid = model.predict_proba(features_valid)\n",
    "probabilities_one_valid = probabilities_valid[:, 1]\n",
    "auc_roc = roc_auc_score(target_valid, probabilities_one_valid)\n",
    "print('Accuracy лучшей модели:', accuracy)\n",
    "print('F1 мера модели:', f1)\n",
    "print('AUC ROC метрика равна', auc_roc)"
   ]
  },
  {
   "cell_type": "markdown",
   "metadata": {},
   "source": [
    "Метрика модели не изменилась, поэтому попробуем иной метод борьбы с дисбалансом классов, а именно добавить новый гиперпараметр: class_weight = True. Для этого также возьмем модель, которая показала себя лучше всего. "
   ]
  },
  {
   "cell_type": "code",
   "execution_count": 18,
   "metadata": {},
   "outputs": [
    {
     "name": "stdout",
     "output_type": "stream",
     "text": [
      "Accuracy лучшей модели: 0.7894447498625619\n",
      "F1 мера модели: 0.5478158205430932\n",
      "AUC ROC метрика равна 0.8266028552132094\n"
     ]
    }
   ],
   "source": [
    "model = DecisionTreeClassifier(max_depth=5, min_samples_leaf=15, random_state=12345)\n",
    "model.fit(features_upsampled, target_upsampled) \n",
    "predictions = model.predict(features_valid) \n",
    "accuracy = accuracy_score(target_valid, predictions)\n",
    "f1 = f1_score(target_valid, predictions)\n",
    "probabilities_valid = model.predict_proba(features_valid)\n",
    "probabilities_one_valid = probabilities_valid[:, 1]\n",
    "auc_roc = roc_auc_score(target_valid, probabilities_one_valid)\n",
    "print('Accuracy лучшей модели:', accuracy)\n",
    "print('F1 мера модели:', f1)\n",
    "print('AUC ROC метрика равна', auc_roc)"
   ]
  },
  {
   "cell_type": "markdown",
   "metadata": {},
   "source": [
    "Таким образом можно заметить, что F1 мера выросла на 0.2, но все равно не проходит порог. Поэтому попробуем метод downsampling с гиперпараметром class_weight=True:"
   ]
  },
  {
   "cell_type": "code",
   "execution_count": 19,
   "metadata": {},
   "outputs": [
    {
     "name": "stdout",
     "output_type": "stream",
     "text": [
      "Accuracy лучшей модели: 0.7663551401869159\n",
      "F1 мера модели: 0.5385450597176982\n",
      "AUC ROC метрика равна 0.8281932897055513\n"
     ]
    }
   ],
   "source": [
    "def downsample(features, target, fraction):\n",
    "    features_zeros = features[target == 0]\n",
    "    features_ones = features[target == 1]\n",
    "    target_zeros = target[target == 0]\n",
    "    target_ones = target[target == 1]\n",
    "\n",
    "    features_downsampled = pd.concat(\n",
    "        [features_zeros.sample(frac=fraction, random_state=12345)] + [features_ones])\n",
    "    target_downsampled = pd.concat(\n",
    "        [target_zeros.sample(frac=fraction, random_state=12345)] + [target_ones])\n",
    "    \n",
    "    features_downsampled, target_downsampled = shuffle(\n",
    "        features_downsampled, target_downsampled, random_state=12345)\n",
    "    \n",
    "    return features_downsampled, target_downsampled\n",
    "\n",
    "features_downsampled, target_downsampled = downsample(features_train, target_train, 0.25)\n",
    "\n",
    "model = DecisionTreeClassifier(max_depth=5, min_samples_leaf=15, random_state=12345)\n",
    "model.fit(features_downsampled, target_downsampled) \n",
    "predictions = model.predict(features_valid) \n",
    "accuracy = accuracy_score(target_valid, predictions)\n",
    "f1 = f1_score(target_valid, predictions)\n",
    "probabilities_valid = model.predict_proba(features_valid)\n",
    "probabilities_one_valid = probabilities_valid[:, 1]\n",
    "auc_roc = roc_auc_score(target_valid, probabilities_one_valid)\n",
    "print('Accuracy лучшей модели:', accuracy)\n",
    "print('F1 мера модели:', f1)\n",
    "print('AUC ROC метрика равна', auc_roc)"
   ]
  },
  {
   "cell_type": "markdown",
   "metadata": {},
   "source": [
    "При этом показатели модели также не изменились. Попробуем метод на другой модели: "
   ]
  },
  {
   "cell_type": "code",
   "execution_count": 20,
   "metadata": {},
   "outputs": [
    {
     "name": "stdout",
     "output_type": "stream",
     "text": [
      "Accuracy лучшей модели: 0.7548103353490929\n",
      "F1 мера модели: 0.554\n",
      "AUC ROC метрика равна 0.8570045102742652\n"
     ]
    }
   ],
   "source": [
    "best_model = None \n",
    "best_accuracy = 0 \n",
    "\n",
    "for depth in range(1, 21, 10): \n",
    "    for leaf in range(1,12): \n",
    "        for crit in ['gini', 'entropy']:\n",
    "            model = RandomForestClassifier(random_state=12345, max_depth=depth, min_samples_leaf=leaf, criterion=crit)\n",
    "            model.fit(features_downsampled, target_downsampled)\n",
    "            predictions = model.predict(features_valid)\n",
    "            accuracy = accuracy_score(target_valid, predictions)\n",
    "            if accuracy > best_accuracy: \n",
    "                best_model = model\n",
    "                best_accuracy = accuracy\n",
    "\n",
    "#print('Лучшая модель:', best_model)\n",
    "\n",
    "model = RandomForestClassifier(max_depth=11, min_samples_leaf=3, random_state=12345, criterion='entropy')\n",
    "model.fit(features_downsampled, target_downsampled) \n",
    "predictions = model.predict(features_valid) \n",
    "accuracy = accuracy_score(target_valid, predictions)\n",
    "f1 = f1_score(target_valid, predictions)\n",
    "probabilities_valid = model.predict_proba(features_valid)\n",
    "probabilities_one_valid = probabilities_valid[:, 1]\n",
    "auc_roc = roc_auc_score(target_valid, probabilities_one_valid)\n",
    "print('Accuracy лучшей модели:', accuracy)\n",
    "print('F1 мера модели:', f1)\n",
    "print('AUC ROC метрика равна', auc_roc)"
   ]
  },
  {
   "cell_type": "code",
   "execution_count": 21,
   "metadata": {},
   "outputs": [
    {
     "name": "stdout",
     "output_type": "stream",
     "text": [
      "Accuracy лучшей модели: 0.8262781748213304\n",
      "F1 мера модели: 0.5853018372703412\n",
      "AUC ROC метрика равна 0.8522108883144306\n"
     ]
    }
   ],
   "source": [
    "best_model = None \n",
    "best_accuracy = 0 \n",
    "\n",
    "for depth in range(1, 21, 10): \n",
    "    for leaf in range(1,12): \n",
    "        for crit in ['gini', 'entropy']:\n",
    "            for ens in range(100, 200, 10):\n",
    "                model = RandomForestClassifier(random_state=12345, n_estimators=ens, max_depth=depth, min_samples_leaf=leaf, criterion=crit)\n",
    "                model.fit(features_upsampled, target_upsampled)\n",
    "                predictions = model.predict(features_valid)\n",
    "                accuracy = accuracy_score(target_valid, predictions)\n",
    "                if accuracy > best_accuracy: \n",
    "                    best_model = model\n",
    "                    best_accuracy = accuracy\n",
    "\n",
    "\n",
    "predictions = best_model.predict(features_valid) \n",
    "accuracy = accuracy_score(target_valid, predictions)\n",
    "f1 = f1_score(target_valid, predictions)\n",
    "probabilities_valid = best_model.predict_proba(features_valid)\n",
    "probabilities_one_valid = probabilities_valid[:, 1]\n",
    "auc_roc = roc_auc_score(target_valid, probabilities_one_valid)\n",
    "print('Accuracy лучшей модели:', accuracy)\n",
    "print('F1 мера модели:', f1)\n",
    "print('AUC ROC метрика равна', auc_roc)"
   ]
  },
  {
   "cell_type": "code",
   "execution_count": 22,
   "metadata": {},
   "outputs": [
    {
     "name": "stdout",
     "output_type": "stream",
     "text": [
      "Accuracy лучшей модели: 0.8152831225948324\n",
      "F1 мера модели: 0.5872235872235873\n",
      "AUC ROC метрика равна 0.8586541372644916\n"
     ]
    }
   ],
   "source": [
    "model = RandomForestClassifier(max_depth=11, min_samples_leaf=3, random_state=12345, criterion='entropy')\n",
    "model.fit(features_upsampled, target_upsampled) \n",
    "predictions = model.predict(features_valid) \n",
    "accuracy = accuracy_score(target_valid, predictions)\n",
    "f1 = f1_score(target_valid, predictions)\n",
    "probabilities_valid = model.predict_proba(features_valid)\n",
    "probabilities_one_valid = probabilities_valid[:, 1]\n",
    "auc_roc = roc_auc_score(target_valid, probabilities_one_valid)\n",
    "print('Accuracy лучшей модели:', accuracy)\n",
    "print('F1 мера модели:', f1)\n",
    "print('AUC ROC метрика равна', auc_roc)"
   ]
  },
  {
   "cell_type": "code",
   "execution_count": 23,
   "metadata": {},
   "outputs": [
    {
     "name": "stdout",
     "output_type": "stream",
     "text": [
      "Accuracy лучшей модели: 0.7548103353490929\n",
      "F1 мера модели: 0.554\n",
      "AUC ROC метрика равна 0.8570045102742652\n"
     ]
    }
   ],
   "source": [
    "model = RandomForestClassifier(max_depth=11, min_samples_leaf=3, random_state=12345, criterion='entropy')\n",
    "model.fit(features_downsampled, target_downsampled) \n",
    "predictions = model.predict(features_valid) \n",
    "accuracy = accuracy_score(target_valid, predictions)\n",
    "f1 = f1_score(target_valid, predictions)\n",
    "probabilities_valid = model.predict_proba(features_valid)\n",
    "probabilities_one_valid = probabilities_valid[:, 1]\n",
    "auc_roc = roc_auc_score(target_valid, probabilities_one_valid)\n",
    "print('Accuracy лучшей модели:', accuracy)\n",
    "print('F1 мера модели:', f1)\n",
    "print('AUC ROC метрика равна', auc_roc)"
   ]
  },
  {
   "cell_type": "markdown",
   "metadata": {},
   "source": [
    "После нескольких тестов можно сказать, что лучше всего себя показала модель RandomForestClassifier, у которой показатель F1 составил 0.59, а метрика AUC ROC составила 0.76. Таким образом на тестовой выборке мы будем тестировать именно такую модель. "
   ]
  },
  {
   "cell_type": "markdown",
   "metadata": {},
   "source": [
    "## Тестирование модели"
   ]
  },
  {
   "cell_type": "code",
   "execution_count": 24,
   "metadata": {},
   "outputs": [
    {
     "name": "stdout",
     "output_type": "stream",
     "text": [
      "Accuracy лучшей модели: 0.8217821782178217\n",
      "F1 мера модели: 0.6206088992974239\n",
      "AUC ROC метрика равна 0.8586541372644916\n"
     ]
    },
    {
     "data": {
      "text/plain": [
       "<Figure size 432x288 with 0 Axes>"
      ]
     },
     "metadata": {},
     "output_type": "display_data"
    },
    {
     "data": {
      "image/png": "[encoded data removed]",
      "text/plain": [
       "<Figure size 432x288 with 1 Axes>"
      ]
     },
     "metadata": {
      "needs_background": "light"
     },
     "output_type": "display_data"
    }
   ],
   "source": [
    "model = RandomForestClassifier(max_depth=11, random_state=12345,min_samples_leaf = 3, criterion='entropy') \n",
    "model.fit(features_upsampled, target_upsampled) \n",
    "predictions = model.predict(features_test) \n",
    "accuracy = accuracy_score(target_test, predictions)\n",
    "f1 = f1_score(target_test, predictions)\n",
    "probabilities_valid = model.predict_proba(features_valid)\n",
    "probabilities_one_valid = probabilities_valid[:, 1]\n",
    "auc_roc = roc_auc_score(target_valid, probabilities_one_valid)\n",
    "print('Accuracy лучшей модели:', accuracy)\n",
    "print('F1 мера модели:', f1)\n",
    "print('AUC ROC метрика равна', auc_roc)\n",
    "\n",
    "fpr, tpr, thresholds = roc_curve(target_valid, probabilities_one_valid)\n",
    "\n",
    "plt.figure()\n",
    "plt.figure()\n",
    "plt.plot(fpr, tpr)\n",
    "plt.xlim([0.0, 1.0])\n",
    "plt.ylim([0.0, 1.0])\n",
    "plt.xlabel('False Positive Rate')\n",
    "plt.ylabel('True Positive Rate')\n",
    "plt.title('ROC-кривая')\n",
    "plt.show() "
   ]
  },
  {
   "cell_type": "markdown",
   "metadata": {},
   "source": [
    "Таким образом можно сказать, что на тестовой выборке показатели модели с оптимальными гиперпараметрами составили: 0.83 для accuracy, 0.62 для F1 и 0.77 для AUC ROC. "
   ]
  },
  {
   "cell_type": "markdown",
   "metadata": {},
   "source": [
    "# Вывод "
   ]
  },
  {
   "cell_type": "markdown",
   "metadata": {},
   "source": [
    "В проекте были сделаны следующие пункты: \n",
    "    \n",
    "    \n",
    "1) Проанализированы и удалены пропуски\n",
    "    \n",
    "    \n",
    "2) Проанализирована проблема мультиколлинеарности\n",
    "    \n",
    "    \n",
    "3) Был исследован баланс классов, а также впоследствии устранен несколькими способами\n",
    "    \n",
    "    \n",
    "4) Были обучены модели с оптимальными гиперпараметрами без учета дисбаланса классов, а впоследствии и с учетом дисбаланса классов\n",
    "    \n",
    "    \n",
    "5) Также была выбрана лучшая модель, опираясь на три метрики (F1, AUC ROC, Accuracy) и протестирована на тестовой выборке \n",
    "    \n",
    "    \n",
    "6) Удалось достичь значения метрики F1 > 0.59"
   ]
  }
 ],
 "metadata": {
  "ExecuteTimeLog": [
   {
    "duration": 440,
    "start_time": "2023-03-27T13:32:51.949Z"
   },
   {
    "duration": 93,
    "start_time": "2023-03-27T13:34:37.242Z"
   },
   {
    "duration": 7,
    "start_time": "2023-03-27T13:35:02.506Z"
   },
   {
    "duration": 3,
    "start_time": "2023-03-27T13:36:27.753Z"
   },
   {
    "duration": 8,
    "start_time": "2023-03-27T13:36:30.111Z"
   },
   {
    "duration": 7,
    "start_time": "2023-03-27T13:37:03.877Z"
   },
   {
    "duration": 536,
    "start_time": "2023-03-27T13:37:18.058Z"
   },
   {
    "duration": 130,
    "start_time": "2023-03-27T13:37:25.356Z"
   },
   {
    "duration": 5,
    "start_time": "2023-03-27T13:38:06.161Z"
   },
   {
    "duration": 7,
    "start_time": "2023-03-27T13:38:18.325Z"
   },
   {
    "duration": 53,
    "start_time": "2023-03-27T13:43:08.975Z"
   },
   {
    "duration": 7,
    "start_time": "2023-03-27T13:43:17.241Z"
   },
   {
    "duration": 1211,
    "start_time": "2023-03-27T13:43:33.007Z"
   },
   {
    "duration": 4,
    "start_time": "2023-03-27T13:43:41.732Z"
   },
   {
    "duration": 8,
    "start_time": "2023-03-27T13:43:43.223Z"
   },
   {
    "duration": 6,
    "start_time": "2023-03-27T13:43:44.119Z"
   },
   {
    "duration": 7,
    "start_time": "2023-03-27T13:43:59.058Z"
   },
   {
    "duration": 8,
    "start_time": "2023-03-27T13:44:26.380Z"
   },
   {
    "duration": 7,
    "start_time": "2023-03-27T13:45:35.069Z"
   },
   {
    "duration": 9,
    "start_time": "2023-03-27T13:45:40.783Z"
   },
   {
    "duration": 13,
    "start_time": "2023-03-27T13:47:39.305Z"
   },
   {
    "duration": 14,
    "start_time": "2023-03-27T13:48:22.813Z"
   },
   {
    "duration": 4,
    "start_time": "2023-03-27T13:49:39.333Z"
   },
   {
    "duration": 4,
    "start_time": "2023-03-27T13:49:47.512Z"
   },
   {
    "duration": 12,
    "start_time": "2023-03-27T13:49:51.055Z"
   },
   {
    "duration": 5,
    "start_time": "2023-03-27T13:49:52.808Z"
   },
   {
    "duration": 1026,
    "start_time": "2023-03-27T13:50:28.039Z"
   },
   {
    "duration": 3,
    "start_time": "2023-03-27T13:50:54.730Z"
   },
   {
    "duration": 5,
    "start_time": "2023-03-27T13:52:07.277Z"
   },
   {
    "duration": 10,
    "start_time": "2023-03-27T13:53:33.708Z"
   },
   {
    "duration": 65,
    "start_time": "2023-03-27T13:56:07.920Z"
   },
   {
    "duration": 26,
    "start_time": "2023-03-27T13:57:40.812Z"
   },
   {
    "duration": 27,
    "start_time": "2023-03-27T13:59:13.612Z"
   },
   {
    "duration": 47,
    "start_time": "2023-03-27T13:59:20.000Z"
   },
   {
    "duration": 31,
    "start_time": "2023-03-27T14:00:58.142Z"
   },
   {
    "duration": 26,
    "start_time": "2023-03-27T14:01:29.967Z"
   },
   {
    "duration": 17,
    "start_time": "2023-03-27T14:02:04.654Z"
   },
   {
    "duration": 28,
    "start_time": "2023-03-27T14:03:41.482Z"
   },
   {
    "duration": 24,
    "start_time": "2023-03-27T14:05:46.031Z"
   },
   {
    "duration": 33,
    "start_time": "2023-03-27T14:06:01.659Z"
   },
   {
    "duration": 1345,
    "start_time": "2023-03-27T14:06:15.683Z"
   },
   {
    "duration": 51,
    "start_time": "2023-03-27T14:06:33.713Z"
   },
   {
    "duration": 13,
    "start_time": "2023-03-27T14:06:33.918Z"
   },
   {
    "duration": 3,
    "start_time": "2023-03-27T14:06:34.180Z"
   },
   {
    "duration": 7,
    "start_time": "2023-03-27T14:06:34.585Z"
   },
   {
    "duration": 11,
    "start_time": "2023-03-27T14:06:35.026Z"
   },
   {
    "duration": 5,
    "start_time": "2023-03-27T14:06:38.787Z"
   },
   {
    "duration": 5,
    "start_time": "2023-03-27T14:06:39.751Z"
   },
   {
    "duration": 20,
    "start_time": "2023-03-27T14:06:40.714Z"
   },
   {
    "duration": 23,
    "start_time": "2023-03-27T14:06:54.624Z"
   },
   {
    "duration": 1225,
    "start_time": "2023-03-27T14:07:33.278Z"
   },
   {
    "duration": 47,
    "start_time": "2023-03-27T14:07:37.384Z"
   },
   {
    "duration": 1215,
    "start_time": "2023-03-27T14:07:40.347Z"
   },
   {
    "duration": 46,
    "start_time": "2023-03-27T14:07:50.792Z"
   },
   {
    "duration": 13,
    "start_time": "2023-03-27T14:07:50.962Z"
   },
   {
    "duration": 4,
    "start_time": "2023-03-27T14:07:51.249Z"
   },
   {
    "duration": 7,
    "start_time": "2023-03-27T14:07:51.489Z"
   },
   {
    "duration": 13,
    "start_time": "2023-03-27T14:07:51.767Z"
   },
   {
    "duration": 5,
    "start_time": "2023-03-27T14:07:52.407Z"
   },
   {
    "duration": 5,
    "start_time": "2023-03-27T14:07:53.832Z"
   },
   {
    "duration": 19,
    "start_time": "2023-03-27T14:07:54.836Z"
   },
   {
    "duration": 19,
    "start_time": "2023-03-27T14:08:03.932Z"
   },
   {
    "duration": 1151,
    "start_time": "2023-03-27T14:08:33.051Z"
   },
   {
    "duration": 46,
    "start_time": "2023-03-27T14:08:39.706Z"
   },
   {
    "duration": 12,
    "start_time": "2023-03-27T14:08:39.853Z"
   },
   {
    "duration": 3,
    "start_time": "2023-03-27T14:08:39.989Z"
   },
   {
    "duration": 8,
    "start_time": "2023-03-27T14:08:40.116Z"
   },
   {
    "duration": 10,
    "start_time": "2023-03-27T14:08:40.251Z"
   },
   {
    "duration": 6,
    "start_time": "2023-03-27T14:08:40.513Z"
   },
   {
    "duration": 5,
    "start_time": "2023-03-27T14:08:41.191Z"
   },
   {
    "duration": 28,
    "start_time": "2023-03-27T14:08:41.755Z"
   },
   {
    "duration": 18,
    "start_time": "2023-03-27T14:08:52.703Z"
   },
   {
    "duration": 193,
    "start_time": "2023-03-27T14:09:00.018Z"
   },
   {
    "duration": 20,
    "start_time": "2023-03-27T14:09:47.916Z"
   },
   {
    "duration": 19,
    "start_time": "2023-03-27T14:10:50.328Z"
   },
   {
    "duration": 15,
    "start_time": "2023-03-27T14:11:06.083Z"
   },
   {
    "duration": 4,
    "start_time": "2023-03-27T14:11:20.990Z"
   },
   {
    "duration": 49,
    "start_time": "2023-03-27T14:11:21.313Z"
   },
   {
    "duration": 12,
    "start_time": "2023-03-27T14:11:21.482Z"
   },
   {
    "duration": 3,
    "start_time": "2023-03-27T14:11:21.619Z"
   },
   {
    "duration": 9,
    "start_time": "2023-03-27T14:11:21.784Z"
   },
   {
    "duration": 11,
    "start_time": "2023-03-27T14:11:22.042Z"
   },
   {
    "duration": 5,
    "start_time": "2023-03-27T14:11:22.717Z"
   },
   {
    "duration": 4,
    "start_time": "2023-03-27T14:11:23.861Z"
   },
   {
    "duration": 19,
    "start_time": "2023-03-27T14:11:24.345Z"
   },
   {
    "duration": 6,
    "start_time": "2023-03-27T14:11:25.707Z"
   },
   {
    "duration": 213,
    "start_time": "2023-03-27T14:11:28.592Z"
   },
   {
    "duration": 1112,
    "start_time": "2023-03-27T14:11:42.391Z"
   },
   {
    "duration": 3,
    "start_time": "2023-03-27T14:11:46.659Z"
   },
   {
    "duration": 47,
    "start_time": "2023-03-27T14:11:47.665Z"
   },
   {
    "duration": 14,
    "start_time": "2023-03-27T14:11:48.222Z"
   },
   {
    "duration": 3,
    "start_time": "2023-03-27T14:11:48.498Z"
   },
   {
    "duration": 7,
    "start_time": "2023-03-27T14:11:48.748Z"
   },
   {
    "duration": 10,
    "start_time": "2023-03-27T14:11:49.014Z"
   },
   {
    "duration": 6,
    "start_time": "2023-03-27T14:11:49.843Z"
   },
   {
    "duration": 19,
    "start_time": "2023-03-27T14:11:51.307Z"
   },
   {
    "duration": 6,
    "start_time": "2023-03-27T14:11:52.466Z"
   },
   {
    "duration": 119,
    "start_time": "2023-03-27T14:11:53.486Z"
   },
   {
    "duration": 20,
    "start_time": "2023-03-27T14:12:21.591Z"
   },
   {
    "duration": 22,
    "start_time": "2023-03-27T14:12:30.943Z"
   },
   {
    "duration": 5,
    "start_time": "2023-03-27T14:12:38.679Z"
   },
   {
    "duration": 22,
    "start_time": "2023-03-27T14:12:45.942Z"
   },
   {
    "duration": 20,
    "start_time": "2023-03-27T14:13:24.025Z"
   },
   {
    "duration": 91,
    "start_time": "2023-03-27T14:13:34.412Z"
   },
   {
    "duration": 19,
    "start_time": "2023-03-27T14:13:43.180Z"
   },
   {
    "duration": 1474,
    "start_time": "2023-03-27T14:27:48.082Z"
   },
   {
    "duration": 52,
    "start_time": "2023-03-27T14:27:49.558Z"
   },
   {
    "duration": 12,
    "start_time": "2023-03-27T14:27:49.612Z"
   },
   {
    "duration": 3,
    "start_time": "2023-03-27T14:27:49.626Z"
   },
   {
    "duration": 8,
    "start_time": "2023-03-27T14:27:49.631Z"
   },
   {
    "duration": 11,
    "start_time": "2023-03-27T14:27:49.641Z"
   },
   {
    "duration": 5,
    "start_time": "2023-03-27T14:27:49.654Z"
   },
   {
    "duration": 52,
    "start_time": "2023-03-27T14:27:49.661Z"
   },
   {
    "duration": 5,
    "start_time": "2023-03-27T14:27:49.715Z"
   },
   {
    "duration": 393,
    "start_time": "2023-03-27T14:27:49.722Z"
   },
   {
    "duration": 1147,
    "start_time": "2023-03-27T14:28:03.615Z"
   },
   {
    "duration": 14,
    "start_time": "2023-03-27T14:28:08.845Z"
   },
   {
    "duration": 15,
    "start_time": "2023-03-27T14:28:16.912Z"
   },
   {
    "duration": 13,
    "start_time": "2023-03-27T14:28:19.136Z"
   },
   {
    "duration": 3,
    "start_time": "2023-03-27T14:28:21.381Z"
   },
   {
    "duration": 14,
    "start_time": "2023-03-27T14:29:08.914Z"
   },
   {
    "duration": 49,
    "start_time": "2023-03-27T14:29:15.393Z"
   },
   {
    "duration": 12,
    "start_time": "2023-03-27T14:29:15.622Z"
   },
   {
    "duration": 3,
    "start_time": "2023-03-27T14:29:15.854Z"
   },
   {
    "duration": 7,
    "start_time": "2023-03-27T14:29:16.061Z"
   },
   {
    "duration": 11,
    "start_time": "2023-03-27T14:29:16.236Z"
   },
   {
    "duration": 5,
    "start_time": "2023-03-27T14:29:16.618Z"
   },
   {
    "duration": 21,
    "start_time": "2023-03-27T14:29:17.711Z"
   },
   {
    "duration": 7,
    "start_time": "2023-03-27T14:29:18.852Z"
   },
   {
    "duration": 52833,
    "start_time": "2023-03-27T14:29:24.408Z"
   },
   {
    "duration": 59225,
    "start_time": "2023-03-27T14:36:01.787Z"
   },
   {
    "duration": 70273,
    "start_time": "2023-03-27T14:37:07.960Z"
   },
   {
    "duration": 19100,
    "start_time": "2023-03-27T14:38:18.235Z"
   },
   {
    "duration": 18206,
    "start_time": "2023-03-27T14:40:28.358Z"
   },
   {
    "duration": 318,
    "start_time": "2023-03-27T14:42:23.815Z"
   },
   {
    "duration": 4,
    "start_time": "2023-03-27T14:47:04.914Z"
   },
   {
    "duration": 1893,
    "start_time": "2023-03-27T14:54:05.318Z"
   },
   {
    "duration": 4,
    "start_time": "2023-03-27T14:57:23.316Z"
   },
   {
    "duration": 1900,
    "start_time": "2023-03-27T14:58:07.604Z"
   },
   {
    "duration": 11,
    "start_time": "2023-03-27T15:05:50.511Z"
   },
   {
    "duration": 4,
    "start_time": "2023-03-27T15:05:55.509Z"
   },
   {
    "duration": 4,
    "start_time": "2023-03-27T15:07:03.445Z"
   },
   {
    "duration": 2342,
    "start_time": "2023-03-27T15:09:13.579Z"
   },
   {
    "duration": 2277,
    "start_time": "2023-03-27T15:09:38.677Z"
   },
   {
    "duration": 18240,
    "start_time": "2023-03-27T15:10:49.355Z"
   },
   {
    "duration": 17948,
    "start_time": "2023-03-27T15:11:33.532Z"
   },
   {
    "duration": 55601,
    "start_time": "2023-03-27T15:13:22.315Z"
   },
   {
    "duration": 53258,
    "start_time": "2023-03-27T15:17:56.345Z"
   },
   {
    "duration": 6,
    "start_time": "2023-03-27T15:23:48.520Z"
   },
   {
    "duration": 7,
    "start_time": "2023-03-27T15:24:06.377Z"
   },
   {
    "duration": 18337,
    "start_time": "2023-03-27T15:29:13.019Z"
   },
   {
    "duration": 17909,
    "start_time": "2023-03-27T15:29:55.680Z"
   },
   {
    "duration": 15,
    "start_time": "2023-03-27T15:33:21.968Z"
   },
   {
    "duration": 13,
    "start_time": "2023-03-27T15:33:26.497Z"
   },
   {
    "duration": 12,
    "start_time": "2023-03-27T15:33:32.555Z"
   },
   {
    "duration": 18,
    "start_time": "2023-03-27T15:34:12.486Z"
   },
   {
    "duration": 13,
    "start_time": "2023-03-27T15:34:17.810Z"
   },
   {
    "duration": 18,
    "start_time": "2023-03-27T15:34:24.949Z"
   },
   {
    "duration": 31,
    "start_time": "2023-03-27T15:35:24.579Z"
   },
   {
    "duration": 4,
    "start_time": "2023-03-27T15:35:53.391Z"
   },
   {
    "duration": 18,
    "start_time": "2023-03-27T15:36:00.931Z"
   },
   {
    "duration": 76,
    "start_time": "2023-03-27T15:38:39.478Z"
   },
   {
    "duration": 7,
    "start_time": "2023-03-27T15:39:11.224Z"
   },
   {
    "duration": 70,
    "start_time": "2023-03-27T15:39:14.327Z"
   },
   {
    "duration": 62,
    "start_time": "2023-03-27T15:39:58.641Z"
   },
   {
    "duration": 61,
    "start_time": "2023-03-27T15:41:25.666Z"
   },
   {
    "duration": 1493,
    "start_time": "2023-03-27T15:42:19.288Z"
   },
   {
    "duration": 72,
    "start_time": "2023-03-27T15:42:31.254Z"
   },
   {
    "duration": 59,
    "start_time": "2023-03-27T15:42:47.523Z"
   },
   {
    "duration": 55,
    "start_time": "2023-03-27T15:44:59.786Z"
   },
   {
    "duration": 74,
    "start_time": "2023-03-27T15:45:16.981Z"
   },
   {
    "duration": 62,
    "start_time": "2023-03-27T15:45:26.043Z"
   },
   {
    "duration": 60,
    "start_time": "2023-03-27T15:45:33.357Z"
   },
   {
    "duration": 2003,
    "start_time": "2023-03-27T17:34:12.938Z"
   },
   {
    "duration": 118,
    "start_time": "2023-03-27T17:34:14.943Z"
   },
   {
    "duration": 20,
    "start_time": "2023-03-27T17:34:15.688Z"
   },
   {
    "duration": 4,
    "start_time": "2023-03-27T17:34:15.993Z"
   },
   {
    "duration": 8,
    "start_time": "2023-03-27T17:34:16.322Z"
   },
   {
    "duration": 16,
    "start_time": "2023-03-27T17:34:16.583Z"
   },
   {
    "duration": 7,
    "start_time": "2023-03-27T17:34:17.081Z"
   },
   {
    "duration": 22,
    "start_time": "2023-03-27T17:34:19.092Z"
   },
   {
    "duration": 6,
    "start_time": "2023-03-27T17:34:19.544Z"
   },
   {
    "duration": 60948,
    "start_time": "2023-03-27T17:34:20.629Z"
   },
   {
    "duration": 0,
    "start_time": "2023-03-27T17:35:21.579Z"
   },
   {
    "duration": 0,
    "start_time": "2023-03-27T17:35:21.580Z"
   },
   {
    "duration": 0,
    "start_time": "2023-03-27T17:35:21.582Z"
   },
   {
    "duration": 0,
    "start_time": "2023-03-27T17:35:21.583Z"
   },
   {
    "duration": 55801,
    "start_time": "2023-03-27T17:35:45.091Z"
   },
   {
    "duration": 2355,
    "start_time": "2023-03-27T17:36:40.894Z"
   },
   {
    "duration": 91,
    "start_time": "2023-03-27T17:37:06.718Z"
   },
   {
    "duration": 25,
    "start_time": "2023-03-27T17:37:52.737Z"
   },
   {
    "duration": 18,
    "start_time": "2023-03-27T17:38:16.981Z"
   },
   {
    "duration": 25,
    "start_time": "2023-03-27T17:38:31.644Z"
   },
   {
    "duration": 1161,
    "start_time": "2023-03-27T17:38:34.650Z"
   },
   {
    "duration": 6,
    "start_time": "2023-03-27T17:38:39.885Z"
   },
   {
    "duration": 46,
    "start_time": "2023-03-27T17:38:40.097Z"
   },
   {
    "duration": 15,
    "start_time": "2023-03-27T17:38:40.352Z"
   },
   {
    "duration": 5,
    "start_time": "2023-03-27T17:38:41.019Z"
   },
   {
    "duration": 7,
    "start_time": "2023-03-27T17:38:43.079Z"
   },
   {
    "duration": 10,
    "start_time": "2023-03-27T17:38:43.228Z"
   },
   {
    "duration": 5,
    "start_time": "2023-03-27T17:38:44.422Z"
   },
   {
    "duration": 27,
    "start_time": "2023-03-27T17:38:45.798Z"
   },
   {
    "duration": 6,
    "start_time": "2023-03-27T17:38:47.995Z"
   },
   {
    "duration": 17,
    "start_time": "2023-03-27T17:38:50.221Z"
   },
   {
    "duration": 18015,
    "start_time": "2023-03-27T17:40:50.405Z"
   },
   {
    "duration": 26,
    "start_time": "2023-03-27T17:42:31.582Z"
   },
   {
    "duration": 51,
    "start_time": "2023-03-27T17:42:43.346Z"
   },
   {
    "duration": 37,
    "start_time": "2023-03-27T17:44:55.991Z"
   },
   {
    "duration": 11,
    "start_time": "2023-03-27T17:47:39.248Z"
   },
   {
    "duration": 18,
    "start_time": "2023-03-27T17:48:15.085Z"
   },
   {
    "duration": 296,
    "start_time": "2023-03-27T17:48:24.251Z"
   },
   {
    "duration": 273,
    "start_time": "2023-03-27T17:48:50.384Z"
   },
   {
    "duration": 1014,
    "start_time": "2023-03-27T17:49:19.122Z"
   },
   {
    "duration": 78,
    "start_time": "2023-03-27T17:51:18.912Z"
   },
   {
    "duration": 853,
    "start_time": "2023-03-27T17:51:22.436Z"
   },
   {
    "duration": 0,
    "start_time": "2023-03-27T17:54:45.021Z"
   },
   {
    "duration": 2123,
    "start_time": "2023-03-28T10:55:41.635Z"
   },
   {
    "duration": 10,
    "start_time": "2023-03-28T10:55:48.973Z"
   },
   {
    "duration": 249,
    "start_time": "2023-03-28T10:55:50.740Z"
   },
   {
    "duration": 14,
    "start_time": "2023-03-28T10:55:51.595Z"
   },
   {
    "duration": 270,
    "start_time": "2023-03-28T10:56:08.322Z"
   },
   {
    "duration": 22,
    "start_time": "2023-03-28T10:56:10.531Z"
   },
   {
    "duration": 6,
    "start_time": "2023-03-28T10:56:11.078Z"
   },
   {
    "duration": 9,
    "start_time": "2023-03-28T10:56:11.395Z"
   },
   {
    "duration": 15,
    "start_time": "2023-03-28T10:56:11.686Z"
   },
   {
    "duration": 16,
    "start_time": "2023-03-28T10:56:13.060Z"
   },
   {
    "duration": 25,
    "start_time": "2023-03-28T10:59:48.330Z"
   },
   {
    "duration": 18,
    "start_time": "2023-03-28T10:59:53.336Z"
   },
   {
    "duration": 3995,
    "start_time": "2023-03-28T11:00:15.486Z"
   },
   {
    "duration": 2436,
    "start_time": "2023-03-28T11:00:30.030Z"
   },
   {
    "duration": 20,
    "start_time": "2023-03-28T11:01:10.269Z"
   },
   {
    "duration": 8,
    "start_time": "2023-03-28T11:19:21.372Z"
   },
   {
    "duration": 6,
    "start_time": "2023-03-28T11:19:23.770Z"
   },
   {
    "duration": 2563,
    "start_time": "2023-03-28T11:24:29.571Z"
   },
   {
    "duration": 2782,
    "start_time": "2023-03-28T11:32:23.211Z"
   },
   {
    "duration": 24,
    "start_time": "2023-03-28T11:35:09.942Z"
   },
   {
    "duration": 405,
    "start_time": "2023-03-28T11:35:31.099Z"
   },
   {
    "duration": 408,
    "start_time": "2023-03-28T11:36:01.169Z"
   },
   {
    "duration": 420,
    "start_time": "2023-03-28T11:36:12.079Z"
   },
   {
    "duration": 610,
    "start_time": "2023-03-28T11:36:20.998Z"
   },
   {
    "duration": 325,
    "start_time": "2023-03-28T11:37:00.686Z"
   },
   {
    "duration": 2576,
    "start_time": "2023-03-28T11:38:22.192Z"
   },
   {
    "duration": 73,
    "start_time": "2023-03-28T11:38:54.975Z"
   },
   {
    "duration": 31,
    "start_time": "2023-03-28T11:39:28.063Z"
   },
   {
    "duration": 39,
    "start_time": "2023-03-28T11:41:07.884Z"
   },
   {
    "duration": 5,
    "start_time": "2023-03-28T11:41:13.900Z"
   },
   {
    "duration": 76,
    "start_time": "2023-03-28T11:42:38.583Z"
   },
   {
    "duration": 9,
    "start_time": "2023-03-28T11:42:55.386Z"
   },
   {
    "duration": 7669,
    "start_time": "2023-03-28T11:43:00.859Z"
   },
   {
    "duration": 261,
    "start_time": "2023-03-28T11:43:08.531Z"
   },
   {
    "duration": 16,
    "start_time": "2023-03-28T11:43:08.795Z"
   },
   {
    "duration": 4,
    "start_time": "2023-03-28T11:43:09.502Z"
   },
   {
    "duration": 9,
    "start_time": "2023-03-28T11:43:10.317Z"
   },
   {
    "duration": 14,
    "start_time": "2023-03-28T11:43:10.821Z"
   },
   {
    "duration": 7,
    "start_time": "2023-03-28T11:43:12.017Z"
   },
   {
    "duration": 42,
    "start_time": "2023-03-28T11:43:13.581Z"
   },
   {
    "duration": 148,
    "start_time": "2023-03-28T11:43:16.977Z"
   },
   {
    "duration": 9,
    "start_time": "2023-03-28T11:43:37.366Z"
   },
   {
    "duration": 24934,
    "start_time": "2023-03-28T11:43:39.078Z"
   },
   {
    "duration": 8481,
    "start_time": "2023-03-28T11:44:47.323Z"
   },
   {
    "duration": 13749,
    "start_time": "2023-03-28T11:45:05.766Z"
   },
   {
    "duration": 58,
    "start_time": "2023-03-28T11:45:54.770Z"
   },
   {
    "duration": 36,
    "start_time": "2023-03-28T11:46:02.489Z"
   },
   {
    "duration": 19,
    "start_time": "2023-03-28T11:46:12.367Z"
   },
   {
    "duration": 64,
    "start_time": "2023-03-28T11:46:17.367Z"
   },
   {
    "duration": 18,
    "start_time": "2023-03-28T11:46:17.590Z"
   },
   {
    "duration": 11,
    "start_time": "2023-03-28T11:46:17.878Z"
   },
   {
    "duration": 24,
    "start_time": "2023-03-28T11:46:18.164Z"
   },
   {
    "duration": 20,
    "start_time": "2023-03-28T11:46:18.475Z"
   },
   {
    "duration": 16,
    "start_time": "2023-03-28T11:46:19.983Z"
   },
   {
    "duration": 45,
    "start_time": "2023-03-28T11:46:21.557Z"
   },
   {
    "duration": 20,
    "start_time": "2023-03-28T11:46:23.275Z"
   },
   {
    "duration": 41,
    "start_time": "2023-03-28T11:46:47.919Z"
   },
   {
    "duration": 35,
    "start_time": "2023-03-28T11:47:16.671Z"
   },
   {
    "duration": 193108,
    "start_time": "2023-03-28T11:47:32.039Z"
   },
   {
    "duration": 325593,
    "start_time": "2023-03-28T11:51:38.625Z"
   },
   {
    "duration": 4939,
    "start_time": "2023-03-30T14:23:50.345Z"
   },
   {
    "duration": 166,
    "start_time": "2023-03-30T14:23:55.287Z"
   },
   {
    "duration": 0,
    "start_time": "2023-03-30T14:23:55.455Z"
   },
   {
    "duration": 0,
    "start_time": "2023-03-30T14:23:55.457Z"
   },
   {
    "duration": 0,
    "start_time": "2023-03-30T14:23:55.458Z"
   },
   {
    "duration": 0,
    "start_time": "2023-03-30T14:23:55.460Z"
   },
   {
    "duration": 0,
    "start_time": "2023-03-30T14:23:55.461Z"
   },
   {
    "duration": 0,
    "start_time": "2023-03-30T14:23:55.462Z"
   },
   {
    "duration": 0,
    "start_time": "2023-03-30T14:23:55.463Z"
   },
   {
    "duration": 0,
    "start_time": "2023-03-30T14:23:55.464Z"
   },
   {
    "duration": 0,
    "start_time": "2023-03-30T14:23:55.465Z"
   },
   {
    "duration": 0,
    "start_time": "2023-03-30T14:23:55.466Z"
   },
   {
    "duration": 0,
    "start_time": "2023-03-30T14:23:55.467Z"
   },
   {
    "duration": 0,
    "start_time": "2023-03-30T14:23:55.468Z"
   },
   {
    "duration": 0,
    "start_time": "2023-03-30T14:23:55.469Z"
   },
   {
    "duration": 0,
    "start_time": "2023-03-30T14:23:55.471Z"
   },
   {
    "duration": 2288,
    "start_time": "2023-03-30T14:24:42.804Z"
   },
   {
    "duration": 184,
    "start_time": "2023-03-30T14:24:45.094Z"
   },
   {
    "duration": 15,
    "start_time": "2023-03-30T14:24:45.279Z"
   },
   {
    "duration": 34,
    "start_time": "2023-03-30T14:24:45.297Z"
   },
   {
    "duration": 54,
    "start_time": "2023-03-30T14:24:45.333Z"
   },
   {
    "duration": 39,
    "start_time": "2023-03-30T14:24:45.389Z"
   },
   {
    "duration": 33,
    "start_time": "2023-03-30T14:24:45.431Z"
   },
   {
    "duration": 82,
    "start_time": "2023-03-30T14:24:45.466Z"
   },
   {
    "duration": 6,
    "start_time": "2023-03-30T14:24:45.549Z"
   },
   {
    "duration": 17,
    "start_time": "2023-03-30T14:24:45.557Z"
   },
   {
    "duration": 10931,
    "start_time": "2023-03-30T14:24:45.576Z"
   },
   {
    "duration": 15717,
    "start_time": "2023-03-30T14:25:45.019Z"
   },
   {
    "duration": 27,
    "start_time": "2023-03-30T14:26:59.385Z"
   },
   {
    "duration": 26257,
    "start_time": "2023-03-30T14:31:56.359Z"
   },
   {
    "duration": 379088,
    "start_time": "2023-03-30T14:34:56.390Z"
   },
   {
    "duration": 497,
    "start_time": "2023-03-30T14:43:39.708Z"
   },
   {
    "duration": 1104,
    "start_time": "2023-03-30T14:44:19.605Z"
   },
   {
    "duration": 994,
    "start_time": "2023-03-30T14:44:40.833Z"
   },
   {
    "duration": 2336,
    "start_time": "2023-03-30T14:45:33.201Z"
   },
   {
    "duration": 57,
    "start_time": "2023-03-30T14:45:35.540Z"
   },
   {
    "duration": 14,
    "start_time": "2023-03-30T14:45:35.598Z"
   },
   {
    "duration": 11,
    "start_time": "2023-03-30T14:45:35.614Z"
   },
   {
    "duration": 14,
    "start_time": "2023-03-30T14:45:35.627Z"
   },
   {
    "duration": 25,
    "start_time": "2023-03-30T14:45:35.643Z"
   },
   {
    "duration": 23,
    "start_time": "2023-03-30T14:45:35.669Z"
   },
   {
    "duration": 76,
    "start_time": "2023-03-30T14:45:35.693Z"
   },
   {
    "duration": 6,
    "start_time": "2023-03-30T14:45:35.771Z"
   },
   {
    "duration": 16559,
    "start_time": "2023-03-30T14:45:42.798Z"
   },
   {
    "duration": 1075,
    "start_time": "2023-03-30T14:46:59.693Z"
   },
   {
    "duration": 50,
    "start_time": "2023-03-30T18:46:42.182Z"
   },
   {
    "duration": 4372,
    "start_time": "2023-03-30T18:46:53.699Z"
   },
   {
    "duration": 102,
    "start_time": "2023-03-30T18:46:58.074Z"
   },
   {
    "duration": 11,
    "start_time": "2023-03-30T18:46:58.182Z"
   },
   {
    "duration": 2,
    "start_time": "2023-03-30T18:46:58.195Z"
   },
   {
    "duration": 10,
    "start_time": "2023-03-30T18:46:58.199Z"
   },
   {
    "duration": 9,
    "start_time": "2023-03-30T18:46:58.210Z"
   },
   {
    "duration": 4,
    "start_time": "2023-03-30T18:46:58.220Z"
   },
   {
    "duration": 74,
    "start_time": "2023-03-30T18:46:58.225Z"
   },
   {
    "duration": 5,
    "start_time": "2023-03-30T18:46:58.301Z"
   },
   {
    "duration": 6,
    "start_time": "2023-03-30T18:46:58.308Z"
   },
   {
    "duration": 10604,
    "start_time": "2023-03-30T18:46:58.315Z"
   },
   {
    "duration": 13247,
    "start_time": "2023-03-30T18:47:08.921Z"
   },
   {
    "duration": 400,
    "start_time": "2023-03-30T18:47:22.170Z"
   },
   {
    "duration": 10655,
    "start_time": "2023-03-30T18:47:22.572Z"
   },
   {
    "duration": 17366,
    "start_time": "2023-03-30T18:47:33.228Z"
   },
   {
    "duration": 5,
    "start_time": "2023-03-30T18:47:50.596Z"
   },
   {
    "duration": 13614,
    "start_time": "2023-03-30T18:47:50.603Z"
   },
   {
    "duration": 25,
    "start_time": "2023-03-30T18:48:04.219Z"
   },
   {
    "duration": 35,
    "start_time": "2023-03-30T18:48:04.245Z"
   },
   {
    "duration": 10948,
    "start_time": "2023-03-30T18:48:04.282Z"
   },
   {
    "duration": 326010,
    "start_time": "2023-03-30T18:48:15.231Z"
   },
   {
    "duration": 941,
    "start_time": "2023-03-30T18:53:41.243Z"
   },
   {
    "duration": 410,
    "start_time": "2023-03-30T18:53:42.186Z"
   },
   {
    "duration": 1093,
    "start_time": "2023-03-30T18:53:42.597Z"
   }
  ],
  "kernelspec": {
   "display_name": "Python 3 (ipykernel)",
   "language": "python",
   "name": "python3"
  },
  "language_info": {
   "codemirror_mode": {
    "name": "ipython",
    "version": 3
   },
   "file_extension": ".py",
   "mimetype": "text/x-python",
   "name": "python",
   "nbconvert_exporter": "python",
   "pygments_lexer": "ipython3",
   "version": "3.9.13"
  },
  "toc": {
   "base_numbering": 1,
   "nav_menu": {},
   "number_sections": true,
   "sideBar": true,
   "skip_h1_title": true,
   "title_cell": "Содержание",
   "title_sidebar": "Contents",
   "toc_cell": true,
   "toc_position": {
    "height": "calc(100% - 180px)",
    "left": "10px",
    "top": "150px",
    "width": "165px"
   },
   "toc_section_display": true,
   "toc_window_display": false
  }
 },
 "nbformat": 4,
 "nbformat_minor": 2
}
