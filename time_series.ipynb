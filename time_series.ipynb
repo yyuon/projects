{
 "cells": [
  {
   "cell_type": "markdown",
   "metadata": {
    "toc": true
   },
   "source": [
    "<h1>Содержание<span class=\"tocSkip\"></span></h1>\n",
    "<div class=\"toc\"><ul class=\"toc-item\"><li><span><a href=\"#Подготовка\" data-toc-modified-id=\"Подготовка-1\"><span class=\"toc-item-num\">1&nbsp;&nbsp;</span>Подготовка</a></span></li><li><span><a href=\"#Анализ\" data-toc-modified-id=\"Анализ-2\"><span class=\"toc-item-num\">2&nbsp;&nbsp;</span>Анализ</a></span></li><li><span><a href=\"#Обучение\" data-toc-modified-id=\"Обучение-3\"><span class=\"toc-item-num\">3&nbsp;&nbsp;</span>Обучение</a></span></li><li><span><a href=\"#Тестирование\" data-toc-modified-id=\"Тестирование-4\"><span class=\"toc-item-num\">4&nbsp;&nbsp;</span>Тестирование</a>"
   ]
  },
  {
   "cell_type": "markdown",
   "metadata": {},
   "source": [
    "#  Прогнозирование заказов такси"
   ]
  },
  {
   "cell_type": "markdown",
   "metadata": {},
   "source": [
    "Компания «Чётенькое такси» собрала исторические данные о заказах такси в аэропортах. Чтобы привлекать больше водителей в период пиковой нагрузки, нужно спрогнозировать количество заказов такси на следующий час. Построим модель для такого предсказания со значением метрики RMSE не более 48."
   ]
  },
  {
   "cell_type": "markdown",
   "metadata": {},
   "source": [
    "## Подготовка"
   ]
  },
  {
   "cell_type": "code",
   "execution_count": 1,
   "metadata": {},
   "outputs": [],
   "source": [
    "import pandas as pd\n",
    "import numpy as np \n",
    "import seaborn as sns\n",
    "import matplotlib.pyplot as plt\n",
    "\n",
    "from sklearn.model_selection import train_test_split, TimeSeriesSplit, GridSearchCV\n",
    "from sklearn.linear_model import LinearRegression\n",
    "from sklearn.metrics import mean_squared_error\n",
    "from statsmodels.tsa.seasonal import seasonal_decompose\n",
    "\n",
    "from catboost import CatBoostRegressor\n",
    "\n",
    "import xgboost as xgb\n",
    "\n",
    "from statsmodels.tsa.arima.model import ARIMA"
   ]
  },
  {
   "cell_type": "code",
   "execution_count": 2,
   "metadata": {},
   "outputs": [],
   "source": [
    "df = pd.read_csv('/datasets/taxi.csv', index_col=[0], parse_dates=[0])"
   ]
  },
  {
   "cell_type": "code",
   "execution_count": 3,
   "metadata": {},
   "outputs": [
    {
     "data": {
      "text/html": [
       "<div>\n",
       "<style scoped>\n",
       "    .dataframe tbody tr th:only-of-type {\n",
       "        vertical-align: middle;\n",
       "    }\n",
       "\n",
       "    .dataframe tbody tr th {\n",
       "        vertical-align: top;\n",
       "    }\n",
       "\n",
       "    .dataframe thead th {\n",
       "        text-align: right;\n",
       "    }\n",
       "</style>\n",
       "<table border=\"1\" class=\"dataframe\">\n",
       "  <thead>\n",
       "    <tr style=\"text-align: right;\">\n",
       "      <th></th>\n",
       "      <th>num_orders</th>\n",
       "    </tr>\n",
       "    <tr>\n",
       "      <th>datetime</th>\n",
       "      <th></th>\n",
       "    </tr>\n",
       "  </thead>\n",
       "  <tbody>\n",
       "    <tr>\n",
       "      <th>2018-03-01 00:00:00</th>\n",
       "      <td>9</td>\n",
       "    </tr>\n",
       "    <tr>\n",
       "      <th>2018-03-01 00:10:00</th>\n",
       "      <td>14</td>\n",
       "    </tr>\n",
       "    <tr>\n",
       "      <th>2018-03-01 00:20:00</th>\n",
       "      <td>28</td>\n",
       "    </tr>\n",
       "    <tr>\n",
       "      <th>2018-03-01 00:30:00</th>\n",
       "      <td>20</td>\n",
       "    </tr>\n",
       "    <tr>\n",
       "      <th>2018-03-01 00:40:00</th>\n",
       "      <td>32</td>\n",
       "    </tr>\n",
       "    <tr>\n",
       "      <th>...</th>\n",
       "      <td>...</td>\n",
       "    </tr>\n",
       "    <tr>\n",
       "      <th>2018-08-31 23:10:00</th>\n",
       "      <td>32</td>\n",
       "    </tr>\n",
       "    <tr>\n",
       "      <th>2018-08-31 23:20:00</th>\n",
       "      <td>24</td>\n",
       "    </tr>\n",
       "    <tr>\n",
       "      <th>2018-08-31 23:30:00</th>\n",
       "      <td>27</td>\n",
       "    </tr>\n",
       "    <tr>\n",
       "      <th>2018-08-31 23:40:00</th>\n",
       "      <td>39</td>\n",
       "    </tr>\n",
       "    <tr>\n",
       "      <th>2018-08-31 23:50:00</th>\n",
       "      <td>53</td>\n",
       "    </tr>\n",
       "  </tbody>\n",
       "</table>\n",
       "<p>26496 rows × 1 columns</p>\n",
       "</div>"
      ],
      "text/plain": [
       "                     num_orders\n",
       "datetime                       \n",
       "2018-03-01 00:00:00           9\n",
       "2018-03-01 00:10:00          14\n",
       "2018-03-01 00:20:00          28\n",
       "2018-03-01 00:30:00          20\n",
       "2018-03-01 00:40:00          32\n",
       "...                         ...\n",
       "2018-08-31 23:10:00          32\n",
       "2018-08-31 23:20:00          24\n",
       "2018-08-31 23:30:00          27\n",
       "2018-08-31 23:40:00          39\n",
       "2018-08-31 23:50:00          53\n",
       "\n",
       "[26496 rows x 1 columns]"
      ]
     },
     "execution_count": 3,
     "metadata": {},
     "output_type": "execute_result"
    }
   ],
   "source": [
    "df"
   ]
  },
  {
   "cell_type": "code",
   "execution_count": 4,
   "metadata": {},
   "outputs": [
    {
     "name": "stdout",
     "output_type": "stream",
     "text": [
      "<class 'pandas.core.frame.DataFrame'>\n",
      "DatetimeIndex: 26496 entries, 2018-03-01 00:00:00 to 2018-08-31 23:50:00\n",
      "Data columns (total 1 columns):\n",
      " #   Column      Non-Null Count  Dtype\n",
      "---  ------      --------------  -----\n",
      " 0   num_orders  26496 non-null  int64\n",
      "dtypes: int64(1)\n",
      "memory usage: 414.0 KB\n"
     ]
    }
   ],
   "source": [
    "df.info()"
   ]
  },
  {
   "cell_type": "code",
   "execution_count": 5,
   "metadata": {},
   "outputs": [
    {
     "data": {
      "text/plain": [
       "num_orders    0\n",
       "dtype: int64"
      ]
     },
     "execution_count": 5,
     "metadata": {},
     "output_type": "execute_result"
    }
   ],
   "source": [
    "df.isna().sum()"
   ]
  },
  {
   "cell_type": "code",
   "execution_count": 6,
   "metadata": {},
   "outputs": [],
   "source": [
    "df.sort_index(inplace=True) \n",
    "df = df.resample('1H').sum()"
   ]
  },
  {
   "cell_type": "markdown",
   "metadata": {},
   "source": [
    "Ресемплируем данные по одному часу"
   ]
  },
  {
   "cell_type": "code",
   "execution_count": 7,
   "metadata": {},
   "outputs": [],
   "source": [
    "df['rolling_mean'] = df.rolling(2).mean()"
   ]
  },
  {
   "cell_type": "markdown",
   "metadata": {},
   "source": [
    "Добавим скользяшее среднее"
   ]
  },
  {
   "cell_type": "markdown",
   "metadata": {},
   "source": [
    "## Анализ"
   ]
  },
  {
   "cell_type": "code",
   "execution_count": 8,
   "metadata": {},
   "outputs": [
    {
     "data": {
      "image/png": "[encoded data removed]",
      "text/plain": [
       "<Figure size 1152x432 with 1 Axes>"
      ]
     },
     "metadata": {
      "needs_background": "light"
     },
     "output_type": "display_data"
    }
   ],
   "source": [
    "plt.figure(figsize=(16, 6))\n",
    "plt.plot(df)\n",
    "plt.xlabel('Дата')\n",
    "plt.ylabel('Количество заказов')\n",
    "plt.grid(True)\n",
    "plt.show()"
   ]
  },
  {
   "cell_type": "markdown",
   "metadata": {},
   "source": [
    "Выведем получившийся график"
   ]
  },
  {
   "cell_type": "markdown",
   "metadata": {},
   "source": [
    "По графику можно сделать вывод о том, что тренд восходящий, к сентябрю 2018 года количество заказов выросло практически в 4 раза по сравнению с минимумом, который был достигнут в марте того же года. "
   ]
  },
  {
   "cell_type": "code",
   "execution_count": 9,
   "metadata": {},
   "outputs": [
    {
     "data": {
      "image/png": "[encoded data removed]",
      "text/plain": [
       "<Figure size 720x432 with 1 Axes>"
      ]
     },
     "metadata": {
      "needs_background": "light"
     },
     "output_type": "display_data"
    },
    {
     "data": {
      "image/png": "[encoded data removed]",
      "text/plain": [
       "<Figure size 720x432 with 1 Axes>"
      ]
     },
     "metadata": {
      "needs_background": "light"
     },
     "output_type": "display_data"
    }
   ],
   "source": [
    "decomposition = seasonal_decompose(df['num_orders'], model='additive')\n",
    "\n",
    "trend = decomposition.trend\n",
    "seasonal = decomposition.seasonal\n",
    "residuals = decomposition.resid\n",
    "\n",
    "plt.figure(figsize=(10, 6))\n",
    "plt.plot(trend)\n",
    "plt.title('Тренд')\n",
    "plt.xlabel('Дата')\n",
    "plt.ylabel('Количество вызовов')\n",
    "plt.show()\n",
    "\n",
    "plt.figure(figsize=(10, 6))\n",
    "plt.plot(seasonal[:30])\n",
    "plt.title('Сезонность (первые 30 дней)')\n",
    "plt.xlabel('Дата')\n",
    "plt.ylabel('Количество вызовов')\n",
    "plt.show()"
   ]
  },
  {
   "cell_type": "markdown",
   "metadata": {},
   "source": [
    "## Обучение"
   ]
  },
  {
   "cell_type": "code",
   "execution_count": 10,
   "metadata": {},
   "outputs": [],
   "source": [
    "def make(df, max_lag, rolling_mean_size):\n",
    "    df['year'] = df.index.year\n",
    "    df['month'] = df.index.month\n",
    "    df['day'] = df.index.day\n",
    "    df['dayofweek'] = df.index.dayofweek\n",
    "    \n",
    "    for lag in range(1, max_lag + 1):\n",
    "        df['lag_{}'.format(lag)] = df['num_orders'].shift(lag)\n",
    "\n",
    "    df['rolling_mean'] = df['num_orders'].shift().rolling(rolling_mean_size).mean()\n",
    "    \n",
    "#make(df, 5, 5)\n"
   ]
  },
  {
   "cell_type": "code",
   "execution_count": 11,
   "metadata": {},
   "outputs": [],
   "source": [
    "def make_features(df, max_lag, rolling_mean_size):\n",
    "    df_copy = df.copy()\n",
    "\n",
    "    df_copy['year'] = df_copy.index.year\n",
    "    df_copy['month'] = df_copy.index.month\n",
    "    df_copy['day'] = df_copy.index.day\n",
    "    df_copy['dayofweek'] = df_copy.index.dayofweek\n",
    "    \n",
    "    for lag in range(1, max_lag + 1):\n",
    "        df_copy['lag_{}'.format(lag)] = df_copy['num_orders'].shift(lag)\n",
    "\n",
    "    df_copy['rolling_mean'] = df_copy['num_orders'].shift().rolling(rolling_mean_size).mean()\n",
    "    \n",
    "make_features(df, 24, 24)"
   ]
  },
  {
   "cell_type": "markdown",
   "metadata": {},
   "source": [
    "Для более качественного прогноза добавим признаки в датасет"
   ]
  },
  {
   "cell_type": "code",
   "execution_count": 12,
   "metadata": {},
   "outputs": [],
   "source": [
    "train, test = train_test_split(df, shuffle=False, test_size=0.1)\n",
    "\n",
    "train = train.dropna()"
   ]
  },
  {
   "cell_type": "markdown",
   "metadata": {},
   "source": [
    "Создадим тестовую и тренировочную выборку для дальнейшего исследования"
   ]
  },
  {
   "cell_type": "code",
   "execution_count": 13,
   "metadata": {},
   "outputs": [],
   "source": [
    "X_train = train.drop('num_orders', axis=1)\n",
    "y_train = train['num_orders']\n",
    "\n",
    "X_test = test.drop('num_orders', axis=1)\n",
    "y_test = test['num_orders']"
   ]
  },
  {
   "cell_type": "code",
   "execution_count": 14,
   "metadata": {},
   "outputs": [
    {
     "data": {
      "text/plain": [
       "rolling_mean    0\n",
       "dtype: int64"
      ]
     },
     "execution_count": 14,
     "metadata": {},
     "output_type": "execute_result"
    }
   ],
   "source": [
    "X_train.isna().sum()"
   ]
  },
  {
   "cell_type": "code",
   "execution_count": 15,
   "metadata": {},
   "outputs": [],
   "source": [
    "X_train = X_train.dropna()\n",
    "LR = LinearRegression() \n",
    "LR.fit(X_train, y_train) \n",
    "predictions = LR.predict(X_train) \n"
   ]
  },
  {
   "cell_type": "markdown",
   "metadata": {},
   "source": [
    "Для начала попробуем модель линейной регрессии"
   ]
  },
  {
   "cell_type": "code",
   "execution_count": 16,
   "metadata": {},
   "outputs": [
    {
     "name": "stdout",
     "output_type": "stream",
     "text": [
      "RMSE равно: 18.072624180098128\n"
     ]
    }
   ],
   "source": [
    "rmse = np.sqrt(mean_squared_error(y_train, predictions))\n",
    "print('RMSE равно:', rmse)"
   ]
  },
  {
   "cell_type": "markdown",
   "metadata": {},
   "source": [
    "Метрика на тренировочной выборке равна 33.21"
   ]
  },
  {
   "cell_type": "code",
   "execution_count": 17,
   "metadata": {},
   "outputs": [],
   "source": [
    "model = CatBoostRegressor(random_state=12345, silent=True)\n",
    "\n",
    "param_grid = {\n",
    "    'depth': [4, 6, 8],\n",
    "    'learning_rate': [0.1, 0.01, 0.001],\n",
    "    'iterations': [100, 200, 300]\n",
    "}\n",
    "\n",
    "tsp = TimeSeriesSplit(n_splits=3)\n",
    "search = GridSearchCV(estimator=model, param_grid=param_grid, cv=tsp, scoring='neg_mean_squared_error')"
   ]
  },
  {
   "cell_type": "markdown",
   "metadata": {},
   "source": [
    "Рассмотрим вторую модель и подберем для нее оптимальные гиперпараметры, используя GridSearchCV"
   ]
  },
  {
   "cell_type": "code",
   "execution_count": 18,
   "metadata": {
    "scrolled": false
   },
   "outputs": [
    {
     "name": "stdout",
     "output_type": "stream",
     "text": [
      "CPU times: user 10.7 s, sys: 1.27 s, total: 11.9 s\n",
      "Wall time: 55.7 s\n"
     ]
    },
    {
     "data": {
      "text/plain": [
       "GridSearchCV(cv=TimeSeriesSplit(gap=0, max_train_size=None, n_splits=3, test_size=None),\n",
       "             estimator=<catboost.core.CatBoostRegressor object at 0x7fb700021a30>,\n",
       "             param_grid={'depth': [4, 6, 8], 'iterations': [100, 200, 300],\n",
       "                         'learning_rate': [0.1, 0.01, 0.001]},\n",
       "             scoring='neg_mean_squared_error')"
      ]
     },
     "execution_count": 18,
     "metadata": {},
     "output_type": "execute_result"
    }
   ],
   "source": [
    "%%time\n",
    "search.fit(X_train, y_train)"
   ]
  },
  {
   "cell_type": "code",
   "execution_count": 19,
   "metadata": {},
   "outputs": [
    {
     "name": "stdout",
     "output_type": "stream",
     "text": [
      "{'depth': 4, 'iterations': 100, 'learning_rate': 0.1}\n"
     ]
    }
   ],
   "source": [
    "print(search.best_params_)"
   ]
  },
  {
   "cell_type": "markdown",
   "metadata": {},
   "source": [
    "Обучение заняло почти 3 минуты, после чего можно посмотреть на список оптимальных гиперпараметров и впоследствии применить их для обучения модели"
   ]
  },
  {
   "cell_type": "code",
   "execution_count": 20,
   "metadata": {},
   "outputs": [],
   "source": [
    "model = CatBoostRegressor(random_state=12345, silent=True, loss_function='RMSE', \n",
    "                         depth=4, iterations=100, learning_rate=0.1)\n",
    "\n",
    "model.fit(X_train, y_train) \n",
    "\n",
    "pred = model.predict(X_train)\n"
   ]
  },
  {
   "cell_type": "code",
   "execution_count": 21,
   "metadata": {},
   "outputs": [
    {
     "name": "stdout",
     "output_type": "stream",
     "text": [
      "RMSE для CatBoostRegressor: 18.120666335528018\n"
     ]
    }
   ],
   "source": [
    "cat_rmse = np.sqrt(mean_squared_error(y_train, pred))\n",
    "print('RMSE для CatBoostRegressor:', cat_rmse)"
   ]
  },
  {
   "cell_type": "markdown",
   "metadata": {},
   "source": [
    "Для модели CatBoostRegressor RMSE составляет 33.02"
   ]
  },
  {
   "cell_type": "code",
   "execution_count": 22,
   "metadata": {},
   "outputs": [],
   "source": [
    "xgb = xgb.XGBRegressor()\n",
    "xgb.fit(X_train, y_train) \n",
    "pred_xgb = xgb.predict(X_train) "
   ]
  },
  {
   "cell_type": "markdown",
   "metadata": {},
   "source": [
    "\n",
    "Далее попробуем модель XGBRegressor"
   ]
  },
  {
   "cell_type": "code",
   "execution_count": 23,
   "metadata": {},
   "outputs": [],
   "source": [
    "xgb_rmse = np.sqrt(mean_squared_error(y_train, pred_xgb))"
   ]
  },
  {
   "cell_type": "code",
   "execution_count": 24,
   "metadata": {},
   "outputs": [],
   "source": [
    "print('RMSE для модели XGBRegressor составляет:', xgb_rmse)"
   ]
  },
  {
   "cell_type": "markdown",
   "metadata": {},
   "source": [
    "Для нее метрика RMSE составила 28.44"
   ]
  },
  {
   "cell_type": "markdown",
   "metadata": {},
   "source": [
    "## Тестирование"
   ]
  },
  {
   "cell_type": "code",
   "execution_count": null,
   "metadata": {},
   "outputs": [],
   "source": [
    "model_final = xgb.XGBRegressor()\n",
    "model_final.fit(X_train, y_train) \n",
    "final_pred = model_final.predict(X_test) "
   ]
  },
  {
   "cell_type": "code",
   "execution_count": 26,
   "metadata": {},
   "outputs": [],
   "source": [
    "final_rmse = np.sqrt(mean_squared_error(y_test, final_pred))"
   ]
  },
  {
   "cell_type": "code",
   "execution_count": 27,
   "metadata": {},
   "outputs": [
    {
     "name": "stdout",
     "output_type": "stream",
     "text": [
      "RMSE лучшей модели на тестовой выборке равно 38.02375960725036\n"
     ]
    }
   ],
   "source": [
    "print('RMSE лучшей модели на тестовой выборке равно', final_rmse)"
   ]
  },
  {
   "cell_type": "code",
   "execution_count": 28,
   "metadata": {},
   "outputs": [
    {
     "data": {
      "image/png": "[encoded data removed]",
      "text/plain": [
       "<Figure size 1152x576 with 1 Axes>"
      ]
     },
     "metadata": {
      "needs_background": "light"
     },
     "output_type": "display_data"
    }
   ],
   "source": [
    "pred_series = pd.Series(final_pred, index=y_test.index)\n",
    "\n",
    "plt.figure(figsize=(16, 8))\n",
    "plt.plot(df.index, df['num_orders'], label='Таргет')\n",
    "plt.plot(pred_series.index, pred_series, label='Прогноз')\n",
    "plt.xlabel('Дата')\n",
    "plt.ylabel('Количество заказов')\n",
    "plt.title('Сравнение предсказаний с таргетом')\n",
    "plt.legend()\n",
    "plt.show()"
   ]
  },
  {
   "cell_type": "markdown",
   "metadata": {},
   "source": [
    "В проекте было проанализировано несколько моделей (LinearRegression, CatBoostRegressor, XGBRegressor). Все модели были проанализированы на тренировочной выборке, что позволило выбрать лучшую модель и использовать ее на тестовой выборке. Лучшей моделью оказалась модель XGBRegressor, которая показала результат в 38.02 на тестовой выборке, что ниже требуемого уровня. Таким образом можно заключить, что поставленная задача была выполнена, а именно найдена и обучена модель, которая сможет прогнозировать временной ряд со значением метрики RMSE < 48"
   ]
  }
 ],
 "metadata": {
  "ExecuteTimeLog": [
   {
    "duration": 513,
    "start_time": "2023-06-14T07:38:18.995Z"
   },
   {
    "duration": 175,
    "start_time": "2023-06-14T07:38:33.638Z"
   },
   {
    "duration": 25,
    "start_time": "2023-06-14T07:38:40.613Z"
   },
   {
    "duration": 393,
    "start_time": "2023-06-15T10:09:33.882Z"
   },
   {
    "duration": 194,
    "start_time": "2023-06-15T10:09:34.344Z"
   },
   {
    "duration": 15,
    "start_time": "2023-06-15T10:09:35.449Z"
   },
   {
    "duration": 5,
    "start_time": "2023-06-15T10:09:43.239Z"
   },
   {
    "duration": 6,
    "start_time": "2023-06-15T10:09:52.653Z"
   },
   {
    "duration": 883,
    "start_time": "2023-06-15T10:11:50.203Z"
   },
   {
    "duration": 109,
    "start_time": "2023-06-15T10:16:25.784Z"
   },
   {
    "duration": 14,
    "start_time": "2023-06-15T10:16:47.051Z"
   },
   {
    "duration": 9,
    "start_time": "2023-06-15T10:17:42.887Z"
   },
   {
    "duration": 5,
    "start_time": "2023-06-15T10:17:45.917Z"
   },
   {
    "duration": 9,
    "start_time": "2023-06-15T10:17:48.397Z"
   },
   {
    "duration": 10,
    "start_time": "2023-06-15T10:17:51.046Z"
   },
   {
    "duration": 9,
    "start_time": "2023-06-15T10:20:36.329Z"
   },
   {
    "duration": 7,
    "start_time": "2023-06-15T10:21:20.239Z"
   },
   {
    "duration": 2,
    "start_time": "2023-06-15T10:21:37.795Z"
   },
   {
    "duration": 2,
    "start_time": "2023-06-15T10:21:44.949Z"
   },
   {
    "duration": 42,
    "start_time": "2023-06-15T10:21:52.663Z"
   },
   {
    "duration": 8,
    "start_time": "2023-06-15T10:21:53.433Z"
   },
   {
    "duration": 10,
    "start_time": "2023-06-15T10:21:55.851Z"
   },
   {
    "duration": 9,
    "start_time": "2023-06-15T10:21:57.628Z"
   },
   {
    "duration": 5,
    "start_time": "2023-06-15T10:21:58.168Z"
   },
   {
    "duration": 3,
    "start_time": "2023-06-15T10:22:03.046Z"
   },
   {
    "duration": 3,
    "start_time": "2023-06-15T10:22:05.366Z"
   },
   {
    "duration": 2,
    "start_time": "2023-06-15T10:22:09.763Z"
   },
   {
    "duration": 45,
    "start_time": "2023-06-15T10:24:36.755Z"
   },
   {
    "duration": 9,
    "start_time": "2023-06-15T10:24:37.560Z"
   },
   {
    "duration": 8,
    "start_time": "2023-06-15T10:24:41.758Z"
   },
   {
    "duration": 2504,
    "start_time": "2023-06-15T10:24:49.672Z"
   },
   {
    "duration": 5,
    "start_time": "2023-06-15T10:24:55.045Z"
   },
   {
    "duration": 6,
    "start_time": "2023-06-15T10:26:08.206Z"
   },
   {
    "duration": 4,
    "start_time": "2023-06-15T10:26:40.263Z"
   },
   {
    "duration": 198,
    "start_time": "2023-06-15T10:26:47.351Z"
   },
   {
    "duration": 18,
    "start_time": "2023-06-15T10:27:06.656Z"
   },
   {
    "duration": 2,
    "start_time": "2023-06-15T10:28:44.169Z"
   },
   {
    "duration": 205,
    "start_time": "2023-06-15T10:28:55.399Z"
   },
   {
    "duration": 207,
    "start_time": "2023-06-15T10:30:13.794Z"
   },
   {
    "duration": 202,
    "start_time": "2023-06-15T10:30:17.598Z"
   },
   {
    "duration": 189,
    "start_time": "2023-06-15T10:30:20.701Z"
   },
   {
    "duration": 193,
    "start_time": "2023-06-15T10:30:28.895Z"
   },
   {
    "duration": 184,
    "start_time": "2023-06-15T10:30:40.652Z"
   },
   {
    "duration": 238,
    "start_time": "2023-06-15T10:30:51.837Z"
   },
   {
    "duration": 211,
    "start_time": "2023-06-15T10:30:58.999Z"
   },
   {
    "duration": 248,
    "start_time": "2023-06-15T10:33:54.074Z"
   },
   {
    "duration": 136,
    "start_time": "2023-06-15T10:34:03.053Z"
   },
   {
    "duration": 146,
    "start_time": "2023-06-15T10:34:06.571Z"
   },
   {
    "duration": 145,
    "start_time": "2023-06-15T10:34:12.894Z"
   },
   {
    "duration": 148,
    "start_time": "2023-06-15T10:35:01.693Z"
   },
   {
    "duration": 160,
    "start_time": "2023-06-15T10:35:22.495Z"
   },
   {
    "duration": 489,
    "start_time": "2023-06-15T10:47:21.055Z"
   },
   {
    "duration": 19,
    "start_time": "2023-06-15T10:47:50.343Z"
   },
   {
    "duration": 4,
    "start_time": "2023-06-15T10:47:54.744Z"
   },
   {
    "duration": 171,
    "start_time": "2023-06-15T10:48:08.967Z"
   },
   {
    "duration": 4,
    "start_time": "2023-06-15T10:48:25.675Z"
   },
   {
    "duration": 10,
    "start_time": "2023-06-15T10:48:51.009Z"
   },
   {
    "duration": 14,
    "start_time": "2023-06-15T10:49:06.095Z"
   },
   {
    "duration": 5,
    "start_time": "2023-06-15T10:59:06.385Z"
   },
   {
    "duration": 16,
    "start_time": "2023-06-15T11:00:19.576Z"
   },
   {
    "duration": 5,
    "start_time": "2023-06-15T11:00:35.241Z"
   },
   {
    "duration": 6,
    "start_time": "2023-06-15T11:00:47.686Z"
   },
   {
    "duration": 4,
    "start_time": "2023-06-15T11:00:52.812Z"
   },
   {
    "duration": 4,
    "start_time": "2023-06-15T11:01:11.501Z"
   },
   {
    "duration": 5,
    "start_time": "2023-06-15T11:01:18.108Z"
   },
   {
    "duration": 17,
    "start_time": "2023-06-15T11:01:34.903Z"
   },
   {
    "duration": 4,
    "start_time": "2023-06-15T11:01:50.667Z"
   },
   {
    "duration": 5,
    "start_time": "2023-06-15T11:01:57.750Z"
   },
   {
    "duration": 13,
    "start_time": "2023-06-15T11:02:04.292Z"
   },
   {
    "duration": 4,
    "start_time": "2023-06-15T11:02:20.881Z"
   },
   {
    "duration": 4,
    "start_time": "2023-06-15T11:02:22.686Z"
   },
   {
    "duration": 5,
    "start_time": "2023-06-15T11:02:24.501Z"
   },
   {
    "duration": 7,
    "start_time": "2023-06-15T11:02:26.247Z"
   },
   {
    "duration": 4,
    "start_time": "2023-06-15T11:03:20.873Z"
   },
   {
    "duration": 5,
    "start_time": "2023-06-15T11:03:32.560Z"
   },
   {
    "duration": 36,
    "start_time": "2023-06-15T11:04:01.348Z"
   },
   {
    "duration": 3,
    "start_time": "2023-06-15T11:05:30.232Z"
   },
   {
    "duration": 4,
    "start_time": "2023-06-15T11:06:45.670Z"
   },
   {
    "duration": 9,
    "start_time": "2023-06-15T11:07:09.462Z"
   },
   {
    "duration": 3,
    "start_time": "2023-06-15T11:07:12.188Z"
   },
   {
    "duration": 301,
    "start_time": "2023-06-15T11:07:19.503Z"
   },
   {
    "duration": 8,
    "start_time": "2023-06-15T11:07:49.148Z"
   },
   {
    "duration": 5,
    "start_time": "2023-06-15T11:07:49.793Z"
   },
   {
    "duration": 3,
    "start_time": "2023-06-15T11:08:11.487Z"
   },
   {
    "duration": 19405,
    "start_time": "2023-06-15T11:08:12.873Z"
   },
   {
    "duration": 3,
    "start_time": "2023-06-15T11:08:38.996Z"
   },
   {
    "duration": 141698,
    "start_time": "2023-06-15T11:08:39.765Z"
   },
   {
    "duration": 4,
    "start_time": "2023-06-15T11:12:55.459Z"
   },
   {
    "duration": 3,
    "start_time": "2023-06-15T11:13:31.783Z"
   },
   {
    "duration": 867,
    "start_time": "2023-06-15T11:15:22.043Z"
   },
   {
    "duration": 4,
    "start_time": "2023-06-15T11:16:41.979Z"
   },
   {
    "duration": 2,
    "start_time": "2023-06-15T11:16:46.110Z"
   },
   {
    "duration": 4,
    "start_time": "2023-06-15T11:17:12.478Z"
   },
   {
    "duration": 4,
    "start_time": "2023-06-15T11:18:44.659Z"
   },
   {
    "duration": 4,
    "start_time": "2023-06-15T11:18:53.539Z"
   },
   {
    "duration": 3,
    "start_time": "2023-06-15T11:19:13.974Z"
   },
   {
    "duration": 18,
    "start_time": "2023-06-15T11:19:21.251Z"
   },
   {
    "duration": 4,
    "start_time": "2023-06-15T11:19:28.867Z"
   },
   {
    "duration": 5,
    "start_time": "2023-06-15T11:19:29.351Z"
   },
   {
    "duration": 22,
    "start_time": "2023-06-15T11:19:34.768Z"
   },
   {
    "duration": 21,
    "start_time": "2023-06-15T11:19:49.640Z"
   },
   {
    "duration": 6,
    "start_time": "2023-06-15T11:20:50.398Z"
   },
   {
    "duration": 6,
    "start_time": "2023-06-15T11:21:00.825Z"
   },
   {
    "duration": 8,
    "start_time": "2023-06-15T11:21:02.245Z"
   },
   {
    "duration": 5,
    "start_time": "2023-06-15T11:21:02.852Z"
   },
   {
    "duration": 6,
    "start_time": "2023-06-15T11:21:04.285Z"
   },
   {
    "duration": 10,
    "start_time": "2023-06-15T11:21:06.650Z"
   },
   {
    "duration": 3,
    "start_time": "2023-06-15T11:21:09.303Z"
   },
   {
    "duration": 4,
    "start_time": "2023-06-15T11:21:12.043Z"
   },
   {
    "duration": 171056,
    "start_time": "2023-06-15T11:21:14.509Z"
   },
   {
    "duration": 2,
    "start_time": "2023-06-15T11:24:14.463Z"
   },
   {
    "duration": 1382,
    "start_time": "2023-06-15T11:24:25.343Z"
   },
   {
    "duration": 3,
    "start_time": "2023-06-15T11:24:28.063Z"
   },
   {
    "duration": 212,
    "start_time": "2023-06-15T11:25:07.067Z"
   },
   {
    "duration": 6115,
    "start_time": "2023-06-15T11:26:02.931Z"
   },
   {
    "duration": 8,
    "start_time": "2023-06-15T11:26:32.856Z"
   },
   {
    "duration": 2,
    "start_time": "2023-06-15T11:26:42.111Z"
   },
   {
    "duration": 3,
    "start_time": "2023-06-15T11:26:48.186Z"
   },
   {
    "duration": 96,
    "start_time": "2023-06-15T11:27:37.231Z"
   },
   {
    "duration": 3,
    "start_time": "2023-06-15T11:27:37.404Z"
   },
   {
    "duration": 3,
    "start_time": "2023-06-15T11:27:41.190Z"
   },
   {
    "duration": 3,
    "start_time": "2023-06-15T11:27:41.590Z"
   },
   {
    "duration": 4,
    "start_time": "2023-06-15T11:27:48.697Z"
   },
   {
    "duration": 3,
    "start_time": "2023-06-15T11:27:49.073Z"
   },
   {
    "duration": 8,
    "start_time": "2023-06-15T11:28:38.113Z"
   },
   {
    "duration": 9,
    "start_time": "2023-06-15T11:29:29.753Z"
   },
   {
    "duration": 8,
    "start_time": "2023-06-15T11:30:58.035Z"
   },
   {
    "duration": 8,
    "start_time": "2023-06-15T11:31:08.972Z"
   },
   {
    "duration": 4,
    "start_time": "2023-06-15T11:31:14.647Z"
   },
   {
    "duration": 6241,
    "start_time": "2023-06-15T11:31:19.380Z"
   },
   {
    "duration": 3,
    "start_time": "2023-06-15T11:31:27.312Z"
   },
   {
    "duration": 2,
    "start_time": "2023-06-15T11:31:27.746Z"
   },
   {
    "duration": 8,
    "start_time": "2023-06-15T11:31:28.781Z"
   },
   {
    "duration": 3,
    "start_time": "2023-06-15T11:31:34.091Z"
   },
   {
    "duration": 8,
    "start_time": "2023-06-15T11:31:37.035Z"
   },
   {
    "duration": 2528,
    "start_time": "2023-06-15T11:31:44.597Z"
   },
   {
    "duration": 4,
    "start_time": "2023-06-15T11:32:25.978Z"
   },
   {
    "duration": 3,
    "start_time": "2023-06-15T11:33:05.264Z"
   },
   {
    "duration": 219,
    "start_time": "2023-06-15T11:34:41.540Z"
   },
   {
    "duration": 17,
    "start_time": "2023-06-15T11:37:42.828Z"
   },
   {
    "duration": 18,
    "start_time": "2023-06-15T11:37:49.287Z"
   },
   {
    "duration": 11,
    "start_time": "2023-06-15T12:25:55.559Z"
   },
   {
    "duration": 2202,
    "start_time": "2023-06-15T14:45:13.427Z"
   },
   {
    "duration": 317,
    "start_time": "2023-06-15T14:45:15.631Z"
   },
   {
    "duration": 12,
    "start_time": "2023-06-15T14:45:15.950Z"
   },
   {
    "duration": 12,
    "start_time": "2023-06-15T14:45:18.128Z"
   },
   {
    "duration": 6,
    "start_time": "2023-06-15T14:45:18.530Z"
   },
   {
    "duration": 9,
    "start_time": "2023-06-15T14:45:23.033Z"
   },
   {
    "duration": 8,
    "start_time": "2023-06-15T14:45:24.627Z"
   },
   {
    "duration": 358,
    "start_time": "2023-06-15T14:45:27.328Z"
   },
   {
    "duration": 309,
    "start_time": "2023-06-15T14:45:34.527Z"
   },
   {
    "duration": 226,
    "start_time": "2023-06-15T14:45:38.608Z"
   },
   {
    "duration": 234,
    "start_time": "2023-06-15T14:45:43.845Z"
   },
   {
    "duration": 8,
    "start_time": "2023-06-15T14:51:28.580Z"
   },
   {
    "duration": 141,
    "start_time": "2023-06-15T14:52:23.412Z"
   },
   {
    "duration": 13,
    "start_time": "2023-06-15T14:52:35.220Z"
   },
   {
    "duration": 56,
    "start_time": "2023-06-15T14:52:39.277Z"
   },
   {
    "duration": 19,
    "start_time": "2023-06-15T14:52:39.823Z"
   },
   {
    "duration": 11,
    "start_time": "2023-06-15T14:52:40.224Z"
   },
   {
    "duration": 6,
    "start_time": "2023-06-15T14:52:41.235Z"
   },
   {
    "duration": 7,
    "start_time": "2023-06-15T14:52:41.838Z"
   },
   {
    "duration": 5,
    "start_time": "2023-06-15T14:52:43.379Z"
   },
   {
    "duration": 235,
    "start_time": "2023-06-15T14:52:45.028Z"
   },
   {
    "duration": 12,
    "start_time": "2023-06-15T14:52:47.062Z"
   },
   {
    "duration": 8,
    "start_time": "2023-06-15T14:54:25.928Z"
   },
   {
    "duration": 5,
    "start_time": "2023-06-15T14:54:52.730Z"
   },
   {
    "duration": 242,
    "start_time": "2023-06-15T14:54:54.441Z"
   },
   {
    "duration": 98,
    "start_time": "2023-06-15T14:55:00.231Z"
   },
   {
    "duration": 12,
    "start_time": "2023-06-15T14:55:03.040Z"
   },
   {
    "duration": 6,
    "start_time": "2023-06-15T14:55:09.023Z"
   },
   {
    "duration": 226,
    "start_time": "2023-06-15T14:55:10.327Z"
   },
   {
    "duration": 5,
    "start_time": "2023-06-15T14:57:34.867Z"
   },
   {
    "duration": 225,
    "start_time": "2023-06-15T14:57:36.979Z"
   },
   {
    "duration": 5,
    "start_time": "2023-06-15T14:57:42.828Z"
   },
   {
    "duration": 221,
    "start_time": "2023-06-15T14:57:44.928Z"
   },
   {
    "duration": 7,
    "start_time": "2023-06-15T14:57:49.512Z"
   },
   {
    "duration": 229,
    "start_time": "2023-06-15T14:57:51.528Z"
   },
   {
    "duration": 9,
    "start_time": "2023-06-15T14:58:24.108Z"
   },
   {
    "duration": 1868,
    "start_time": "2023-06-15T23:07:42.087Z"
   },
   {
    "duration": 196,
    "start_time": "2023-06-15T23:07:43.957Z"
   },
   {
    "duration": 11,
    "start_time": "2023-06-15T23:07:44.155Z"
   },
   {
    "duration": 29,
    "start_time": "2023-06-15T23:07:44.168Z"
   },
   {
    "duration": 6,
    "start_time": "2023-06-15T23:07:44.919Z"
   },
   {
    "duration": 15,
    "start_time": "2023-06-15T23:07:45.144Z"
   },
   {
    "duration": 12,
    "start_time": "2023-06-15T23:07:46.303Z"
   },
   {
    "duration": 268,
    "start_time": "2023-06-15T23:07:50.704Z"
   },
   {
    "duration": 113,
    "start_time": "2023-06-15T23:07:53.136Z"
   },
   {
    "duration": 4,
    "start_time": "2023-06-15T23:11:00.011Z"
   },
   {
    "duration": 11,
    "start_time": "2023-06-15T23:11:27.789Z"
   },
   {
    "duration": 435,
    "start_time": "2023-06-15T23:11:32.031Z"
   },
   {
    "duration": 5,
    "start_time": "2023-06-15T23:11:42.712Z"
   },
   {
    "duration": 187,
    "start_time": "2023-06-15T23:12:12.479Z"
   },
   {
    "duration": 317,
    "start_time": "2023-06-15T23:12:52.092Z"
   },
   {
    "duration": 4,
    "start_time": "2023-06-15T23:14:28.321Z"
   },
   {
    "duration": 20,
    "start_time": "2023-06-15T23:16:43.441Z"
   },
   {
    "duration": 3,
    "start_time": "2023-06-15T23:43:40.620Z"
   },
   {
    "duration": 54,
    "start_time": "2023-06-15T23:43:41.940Z"
   },
   {
    "duration": 9,
    "start_time": "2023-06-15T23:43:42.120Z"
   },
   {
    "duration": 9,
    "start_time": "2023-06-15T23:43:42.272Z"
   },
   {
    "duration": 5,
    "start_time": "2023-06-15T23:43:42.463Z"
   },
   {
    "duration": 8,
    "start_time": "2023-06-15T23:43:42.990Z"
   },
   {
    "duration": 7,
    "start_time": "2023-06-15T23:43:43.844Z"
   },
   {
    "duration": 197,
    "start_time": "2023-06-15T23:43:44.908Z"
   },
   {
    "duration": 13,
    "start_time": "2023-06-15T23:43:47.430Z"
   },
   {
    "duration": 344,
    "start_time": "2023-06-15T23:43:48.440Z"
   },
   {
    "duration": 19,
    "start_time": "2023-06-15T23:44:02.566Z"
   },
   {
    "duration": 9,
    "start_time": "2023-06-15T23:44:09.915Z"
   },
   {
    "duration": 7,
    "start_time": "2023-06-15T23:44:11.558Z"
   },
   {
    "duration": 9,
    "start_time": "2023-06-15T23:44:12.329Z"
   },
   {
    "duration": 9,
    "start_time": "2023-06-15T23:44:13.195Z"
   },
   {
    "duration": 4,
    "start_time": "2023-06-15T23:44:16.094Z"
   },
   {
    "duration": 8,
    "start_time": "2023-06-15T23:44:22.440Z"
   },
   {
    "duration": 1699,
    "start_time": "2023-06-15T23:45:56.858Z"
   },
   {
    "duration": 4,
    "start_time": "2023-06-15T23:45:59.915Z"
   },
   {
    "duration": 80058,
    "start_time": "2023-06-15T23:46:06.818Z"
   },
   {
    "duration": 3,
    "start_time": "2023-06-15T23:48:08.693Z"
   },
   {
    "duration": 4,
    "start_time": "2023-06-15T23:48:25.290Z"
   },
   {
    "duration": 110242,
    "start_time": "2023-06-15T23:48:28.409Z"
   },
   {
    "duration": 3,
    "start_time": "2023-06-15T23:50:23.981Z"
   },
   {
    "duration": 564,
    "start_time": "2023-06-15T23:50:29.395Z"
   },
   {
    "duration": 4,
    "start_time": "2023-06-15T23:50:30.423Z"
   },
   {
    "duration": 58439,
    "start_time": "2023-06-15T23:50:33.229Z"
   },
   {
    "duration": 5,
    "start_time": "2023-06-15T23:51:34.048Z"
   },
   {
    "duration": 3,
    "start_time": "2023-06-15T23:51:34.423Z"
   },
   {
    "duration": 3,
    "start_time": "2023-06-15T23:51:54.277Z"
   },
   {
    "duration": 8,
    "start_time": "2023-06-15T23:52:01.331Z"
   },
   {
    "duration": 4,
    "start_time": "2023-06-15T23:52:05.555Z"
   },
   {
    "duration": 9,
    "start_time": "2023-06-15T23:53:46.310Z"
   },
   {
    "duration": 13,
    "start_time": "2023-06-15T23:53:52.027Z"
   },
   {
    "duration": 4,
    "start_time": "2023-06-15T23:53:59.769Z"
   },
   {
    "duration": 63117,
    "start_time": "2023-06-15T23:54:04.153Z"
   },
   {
    "duration": 11,
    "start_time": "2023-06-15T23:56:43.828Z"
   },
   {
    "duration": 543,
    "start_time": "2023-06-15T23:59:59.131Z"
   },
   {
    "duration": 1494,
    "start_time": "2023-06-16T00:00:20.173Z"
   },
   {
    "duration": 3,
    "start_time": "2023-06-16T00:00:23.757Z"
   },
   {
    "duration": 5,
    "start_time": "2023-06-16T00:00:24.349Z"
   },
   {
    "duration": 1216,
    "start_time": "2023-06-16T00:00:29.807Z"
   },
   {
    "duration": 4,
    "start_time": "2023-06-16T00:00:32.273Z"
   },
   {
    "duration": 3,
    "start_time": "2023-06-16T00:00:32.878Z"
   },
   {
    "duration": 2483,
    "start_time": "2023-06-16T00:00:38.494Z"
   },
   {
    "duration": 4,
    "start_time": "2023-06-16T00:00:41.909Z"
   },
   {
    "duration": 3,
    "start_time": "2023-06-16T00:00:42.373Z"
   },
   {
    "duration": 7,
    "start_time": "2023-06-16T00:00:59.557Z"
   },
   {
    "duration": 4,
    "start_time": "2023-06-16T00:01:00.457Z"
   },
   {
    "duration": 3,
    "start_time": "2023-06-16T00:01:00.686Z"
   },
   {
    "duration": 5,
    "start_time": "2023-06-16T00:01:58.886Z"
   },
   {
    "duration": 196,
    "start_time": "2023-06-16T00:02:00.052Z"
   },
   {
    "duration": 25,
    "start_time": "2023-06-16T00:02:06.301Z"
   },
   {
    "duration": 7,
    "start_time": "2023-06-16T00:02:10.672Z"
   },
   {
    "duration": 4,
    "start_time": "2023-06-16T00:02:11.389Z"
   },
   {
    "duration": 6,
    "start_time": "2023-06-16T00:02:11.684Z"
   },
   {
    "duration": 11,
    "start_time": "2023-06-16T00:02:13.943Z"
   },
   {
    "duration": 8,
    "start_time": "2023-06-16T00:02:19.788Z"
   },
   {
    "duration": 5,
    "start_time": "2023-06-16T00:02:20.856Z"
   },
   {
    "duration": 4,
    "start_time": "2023-06-16T00:02:21.451Z"
   },
   {
    "duration": 6,
    "start_time": "2023-06-16T00:02:48.242Z"
   },
   {
    "duration": 58839,
    "start_time": "2023-06-16T00:02:55.209Z"
   },
   {
    "duration": 4,
    "start_time": "2023-06-16T00:04:10.806Z"
   },
   {
    "duration": 4,
    "start_time": "2023-06-16T00:04:11.366Z"
   },
   {
    "duration": 22,
    "start_time": "2023-06-16T00:12:10.508Z"
   },
   {
    "duration": 10,
    "start_time": "2023-06-16T00:12:11.654Z"
   },
   {
    "duration": 5,
    "start_time": "2023-06-16T00:12:12.102Z"
   },
   {
    "duration": 6,
    "start_time": "2023-06-16T00:12:12.313Z"
   },
   {
    "duration": 8,
    "start_time": "2023-06-16T00:12:12.780Z"
   },
   {
    "duration": 5,
    "start_time": "2023-06-16T00:12:17.213Z"
   },
   {
    "duration": 26,
    "start_time": "2023-06-16T00:12:21.417Z"
   },
   {
    "duration": 9,
    "start_time": "2023-06-16T00:12:22.124Z"
   },
   {
    "duration": 6,
    "start_time": "2023-06-16T00:12:22.540Z"
   },
   {
    "duration": 6,
    "start_time": "2023-06-16T00:12:22.700Z"
   },
   {
    "duration": 12,
    "start_time": "2023-06-16T00:12:23.073Z"
   },
   {
    "duration": 6,
    "start_time": "2023-06-16T00:12:23.977Z"
   },
   {
    "duration": 12,
    "start_time": "2023-06-16T00:12:30.772Z"
   },
   {
    "duration": 5,
    "start_time": "2023-06-16T00:12:31.397Z"
   },
   {
    "duration": 32,
    "start_time": "2023-06-16T00:12:35.533Z"
   },
   {
    "duration": 9,
    "start_time": "2023-06-16T00:12:36.322Z"
   },
   {
    "duration": 4,
    "start_time": "2023-06-16T00:12:37.435Z"
   },
   {
    "duration": 5,
    "start_time": "2023-06-16T00:12:37.835Z"
   },
   {
    "duration": 9,
    "start_time": "2023-06-16T00:12:38.495Z"
   },
   {
    "duration": 4,
    "start_time": "2023-06-16T00:12:39.664Z"
   },
   {
    "duration": 22,
    "start_time": "2023-06-16T00:12:43.750Z"
   },
   {
    "duration": 6,
    "start_time": "2023-06-16T00:12:44.791Z"
   },
   {
    "duration": 5,
    "start_time": "2023-06-16T00:12:45.492Z"
   },
   {
    "duration": 6,
    "start_time": "2023-06-16T00:12:45.736Z"
   },
   {
    "duration": 8,
    "start_time": "2023-06-16T00:12:46.832Z"
   },
   {
    "duration": 4,
    "start_time": "2023-06-16T00:12:49.360Z"
   },
   {
    "duration": 22,
    "start_time": "2023-06-16T00:12:56.796Z"
   },
   {
    "duration": 7,
    "start_time": "2023-06-16T00:12:57.370Z"
   },
   {
    "duration": 5,
    "start_time": "2023-06-16T00:12:57.981Z"
   },
   {
    "duration": 6,
    "start_time": "2023-06-16T00:12:58.199Z"
   },
   {
    "duration": 10,
    "start_time": "2023-06-16T00:12:58.399Z"
   },
   {
    "duration": 5,
    "start_time": "2023-06-16T00:12:59.529Z"
   },
   {
    "duration": 60102,
    "start_time": "2023-06-16T00:13:08.868Z"
   },
   {
    "duration": 5,
    "start_time": "2023-06-16T00:14:22.242Z"
   },
   {
    "duration": 4,
    "start_time": "2023-06-16T00:14:22.387Z"
   },
   {
    "duration": 11,
    "start_time": "2023-06-16T00:14:42.530Z"
   },
   {
    "duration": 88803,
    "start_time": "2023-06-16T00:14:43.905Z"
   },
   {
    "duration": 3,
    "start_time": "2023-06-16T00:16:16.917Z"
   },
   {
    "duration": 605,
    "start_time": "2023-06-16T00:16:20.341Z"
   },
   {
    "duration": 4,
    "start_time": "2023-06-16T00:16:21.831Z"
   },
   {
    "duration": 6,
    "start_time": "2023-06-16T00:17:06.962Z"
   },
   {
    "duration": 195,
    "start_time": "2023-06-16T00:17:08.162Z"
   },
   {
    "duration": 319,
    "start_time": "2023-06-16T00:17:09.259Z"
   },
   {
    "duration": 4,
    "start_time": "2023-06-16T00:17:13.451Z"
   },
   {
    "duration": 22,
    "start_time": "2023-06-16T00:17:13.908Z"
   },
   {
    "duration": 8,
    "start_time": "2023-06-16T00:17:17.493Z"
   },
   {
    "duration": 5,
    "start_time": "2023-06-16T00:17:19.119Z"
   },
   {
    "duration": 5,
    "start_time": "2023-06-16T00:17:19.261Z"
   },
   {
    "duration": 10,
    "start_time": "2023-06-16T00:17:19.400Z"
   },
   {
    "duration": 4,
    "start_time": "2023-06-16T00:17:20.048Z"
   },
   {
    "duration": 4,
    "start_time": "2023-06-16T00:17:23.030Z"
   },
   {
    "duration": 77263,
    "start_time": "2023-06-16T00:17:29.309Z"
   },
   {
    "duration": 3,
    "start_time": "2023-06-16T00:18:49.923Z"
   },
   {
    "duration": 3,
    "start_time": "2023-06-16T00:18:51.806Z"
   },
   {
    "duration": 868,
    "start_time": "2023-06-16T00:18:54.516Z"
   },
   {
    "duration": 5,
    "start_time": "2023-06-16T00:18:55.984Z"
   },
   {
    "duration": 2,
    "start_time": "2023-06-16T00:18:59.966Z"
   },
   {
    "duration": 2,
    "start_time": "2023-06-16T00:19:00.512Z"
   },
   {
    "duration": 2,
    "start_time": "2023-06-16T00:19:00.800Z"
   },
   {
    "duration": 62039,
    "start_time": "2023-06-16T00:19:03.345Z"
   },
   {
    "duration": 3,
    "start_time": "2023-06-16T00:20:50.588Z"
   },
   {
    "duration": 3,
    "start_time": "2023-06-16T00:20:50.900Z"
   },
   {
    "duration": 5,
    "start_time": "2023-06-16T00:21:35.700Z"
   },
   {
    "duration": 205,
    "start_time": "2023-06-16T00:21:36.704Z"
   },
   {
    "duration": 475,
    "start_time": "2023-06-16T00:21:43.148Z"
   },
   {
    "duration": 5,
    "start_time": "2023-06-16T00:21:43.888Z"
   },
   {
    "duration": 29,
    "start_time": "2023-06-16T00:21:44.088Z"
   },
   {
    "duration": 6,
    "start_time": "2023-06-16T00:21:44.981Z"
   },
   {
    "duration": 6,
    "start_time": "2023-06-16T00:21:45.988Z"
   },
   {
    "duration": 5,
    "start_time": "2023-06-16T00:21:46.204Z"
   },
   {
    "duration": 10,
    "start_time": "2023-06-16T00:21:46.437Z"
   },
   {
    "duration": 4,
    "start_time": "2023-06-16T00:21:48.698Z"
   },
   {
    "duration": 4,
    "start_time": "2023-06-16T00:21:55.201Z"
   },
   {
    "duration": 189,
    "start_time": "2023-06-16T00:21:55.675Z"
   },
   {
    "duration": 351,
    "start_time": "2023-06-16T00:21:56.097Z"
   },
   {
    "duration": 5,
    "start_time": "2023-06-16T00:21:56.519Z"
   },
   {
    "duration": 30,
    "start_time": "2023-06-16T00:21:56.668Z"
   },
   {
    "duration": 7,
    "start_time": "2023-06-16T00:21:57.611Z"
   },
   {
    "duration": 5,
    "start_time": "2023-06-16T00:21:58.364Z"
   },
   {
    "duration": 13,
    "start_time": "2023-06-16T00:21:58.538Z"
   },
   {
    "duration": 8,
    "start_time": "2023-06-16T00:21:58.820Z"
   },
   {
    "duration": 9,
    "start_time": "2023-06-16T00:22:00.334Z"
   },
   {
    "duration": 6,
    "start_time": "2023-06-16T00:22:07.816Z"
   },
   {
    "duration": 230,
    "start_time": "2023-06-16T00:22:08.594Z"
   },
   {
    "duration": 400,
    "start_time": "2023-06-16T00:22:09.610Z"
   },
   {
    "duration": 4,
    "start_time": "2023-06-16T00:22:10.012Z"
   },
   {
    "duration": 23,
    "start_time": "2023-06-16T00:22:10.143Z"
   },
   {
    "duration": 7,
    "start_time": "2023-06-16T00:22:11.286Z"
   },
   {
    "duration": 5,
    "start_time": "2023-06-16T00:22:12.224Z"
   },
   {
    "duration": 6,
    "start_time": "2023-06-16T00:22:12.773Z"
   },
   {
    "duration": 10,
    "start_time": "2023-06-16T00:22:13.393Z"
   },
   {
    "duration": 9,
    "start_time": "2023-06-16T00:22:14.826Z"
   },
   {
    "duration": 5,
    "start_time": "2023-06-16T00:22:17.763Z"
   },
   {
    "duration": 66242,
    "start_time": "2023-06-16T00:22:20.125Z"
   },
   {
    "duration": 4,
    "start_time": "2023-06-16T00:23:26.368Z"
   },
   {
    "duration": 625,
    "start_time": "2023-06-16T00:23:26.373Z"
   },
   {
    "duration": 4,
    "start_time": "2023-06-16T00:23:27.000Z"
   },
   {
    "duration": 2,
    "start_time": "2023-06-16T00:23:35.478Z"
   },
   {
    "duration": 3,
    "start_time": "2023-06-16T00:23:35.745Z"
   },
   {
    "duration": 2,
    "start_time": "2023-06-16T00:23:35.883Z"
   },
   {
    "duration": 63983,
    "start_time": "2023-06-16T00:23:36.965Z"
   },
   {
    "duration": 4,
    "start_time": "2023-06-16T00:25:24.002Z"
   },
   {
    "duration": 4,
    "start_time": "2023-06-16T00:25:24.205Z"
   },
   {
    "duration": 5,
    "start_time": "2023-06-16T00:28:46.282Z"
   },
   {
    "duration": 215,
    "start_time": "2023-06-16T00:28:47.212Z"
   },
   {
    "duration": 369,
    "start_time": "2023-06-16T00:28:48.237Z"
   },
   {
    "duration": 4,
    "start_time": "2023-06-16T00:28:48.682Z"
   },
   {
    "duration": 32,
    "start_time": "2023-06-16T00:28:48.825Z"
   },
   {
    "duration": 9,
    "start_time": "2023-06-16T00:28:49.978Z"
   },
   {
    "duration": 5,
    "start_time": "2023-06-16T00:28:50.915Z"
   },
   {
    "duration": 5,
    "start_time": "2023-06-16T00:28:51.086Z"
   },
   {
    "duration": 16,
    "start_time": "2023-06-16T00:28:53.029Z"
   },
   {
    "duration": 4,
    "start_time": "2023-06-16T00:28:53.419Z"
   },
   {
    "duration": 59163,
    "start_time": "2023-06-16T00:29:01.822Z"
   },
   {
    "duration": 3,
    "start_time": "2023-06-16T00:30:02.982Z"
   },
   {
    "duration": 4,
    "start_time": "2023-06-16T00:30:03.362Z"
   },
   {
    "duration": 11,
    "start_time": "2023-06-16T00:36:46.478Z"
   },
   {
    "duration": 12,
    "start_time": "2023-06-16T00:36:56.388Z"
   },
   {
    "duration": 12,
    "start_time": "2023-06-16T00:37:13.970Z"
   },
   {
    "duration": 12,
    "start_time": "2023-06-16T00:37:27.453Z"
   },
   {
    "duration": 174,
    "start_time": "2023-06-16T00:37:48.179Z"
   },
   {
    "duration": 168,
    "start_time": "2023-06-16T00:37:56.116Z"
   },
   {
    "duration": 181,
    "start_time": "2023-06-16T00:38:05.915Z"
   },
   {
    "duration": 13,
    "start_time": "2023-06-16T00:38:30.765Z"
   },
   {
    "duration": 203,
    "start_time": "2023-06-16T00:38:39.795Z"
   },
   {
    "duration": 358,
    "start_time": "2023-06-16T00:38:49.317Z"
   },
   {
    "duration": 237,
    "start_time": "2023-06-16T00:38:54.920Z"
   },
   {
    "duration": 243,
    "start_time": "2023-06-16T00:39:33.271Z"
   },
   {
    "duration": 218,
    "start_time": "2023-06-16T00:40:18.803Z"
   },
   {
    "duration": 1489,
    "start_time": "2023-06-16T00:40:37.423Z"
   },
   {
    "duration": 47,
    "start_time": "2023-06-16T00:40:38.913Z"
   },
   {
    "duration": 11,
    "start_time": "2023-06-16T00:40:38.962Z"
   },
   {
    "duration": 15,
    "start_time": "2023-06-16T00:40:38.974Z"
   },
   {
    "duration": 6,
    "start_time": "2023-06-16T00:40:38.991Z"
   },
   {
    "duration": 14,
    "start_time": "2023-06-16T00:40:38.998Z"
   },
   {
    "duration": 9,
    "start_time": "2023-06-16T00:40:39.013Z"
   },
   {
    "duration": 298,
    "start_time": "2023-06-16T00:40:39.031Z"
   },
   {
    "duration": 410,
    "start_time": "2023-06-16T00:40:39.330Z"
   },
   {
    "duration": 4,
    "start_time": "2023-06-16T00:40:39.741Z"
   },
   {
    "duration": 23,
    "start_time": "2023-06-16T00:40:39.746Z"
   },
   {
    "duration": 8,
    "start_time": "2023-06-16T00:40:39.770Z"
   },
   {
    "duration": 6,
    "start_time": "2023-06-16T00:40:39.779Z"
   },
   {
    "duration": 7,
    "start_time": "2023-06-16T00:40:39.787Z"
   },
   {
    "duration": 9,
    "start_time": "2023-06-16T00:40:39.796Z"
   },
   {
    "duration": 4,
    "start_time": "2023-06-16T00:40:39.832Z"
   },
   {
    "duration": 16,
    "start_time": "2023-06-16T00:40:39.838Z"
   },
   {
    "duration": 55755,
    "start_time": "2023-06-16T00:40:39.856Z"
   },
   {
    "duration": 3,
    "start_time": "2023-06-16T00:41:35.612Z"
   },
   {
    "duration": 697,
    "start_time": "2023-06-16T00:41:35.617Z"
   },
   {
    "duration": 5,
    "start_time": "2023-06-16T00:41:36.315Z"
   },
   {
    "duration": 20,
    "start_time": "2023-06-16T00:41:36.321Z"
   },
   {
    "duration": 14,
    "start_time": "2023-06-16T00:41:36.343Z"
   },
   {
    "duration": 16,
    "start_time": "2023-06-16T00:41:36.358Z"
   },
   {
    "duration": 61458,
    "start_time": "2023-06-16T00:41:36.375Z"
   },
   {
    "duration": 4,
    "start_time": "2023-06-16T00:42:37.835Z"
   },
   {
    "duration": 16,
    "start_time": "2023-06-16T00:42:37.841Z"
   },
   {
    "duration": 234,
    "start_time": "2023-06-16T00:42:37.859Z"
   }
  ],
  "kernelspec": {
   "display_name": "Python 3 (ipykernel)",
   "language": "python",
   "name": "python3"
  },
  "language_info": {
   "codemirror_mode": {
    "name": "ipython",
    "version": 3
   },
   "file_extension": ".py",
   "mimetype": "text/x-python",
   "name": "python",
   "nbconvert_exporter": "python",
   "pygments_lexer": "ipython3",
   "version": "3.9.13"
  },
  "toc": {
   "base_numbering": 1,
   "nav_menu": {},
   "number_sections": true,
   "sideBar": true,
   "skip_h1_title": true,
   "title_cell": "Содержание",
   "title_sidebar": "Contents",
   "toc_cell": true,
   "toc_position": {
    "height": "calc(100% - 180px)",
    "left": "10px",
    "top": "150px",
    "width": "165px"
   },
   "toc_section_display": true,
   "toc_window_display": false
  }
 },
 "nbformat": 4,
 "nbformat_minor": 2
}
