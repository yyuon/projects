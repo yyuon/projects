{
 "cells": [
  {
   "cell_type": "markdown",
   "metadata": {},
   "source": [
    "# Восстановление золота из руды"
   ]
  },
  {
   "cell_type": "markdown",
   "metadata": {},
   "source": [
    "В представленном проекте представлена аналитика по датасетам, которые были предоставлены в качестве задания к сборному проекту. В ходе исследования были использованы две модели из библиотеки sklearn, а именно случайный лес и логистическая регрессия. Также данные были обработаны, удалены пропуски и выбросы. Стоит заметить, что в ходе исследования оказалось, что расчеты эффективности обогащения проведены неправильно. "
   ]
  },
  {
   "cell_type": "markdown",
   "metadata": {},
   "source": [
    "## Подготовка данных"
   ]
  },
  {
   "cell_type": "code",
   "execution_count": 1,
   "metadata": {},
   "outputs": [
    {
     "data": {
      "text/html": [
       "<style>.container { width:90% !important; }</style>"
      ],
      "text/plain": [
       "<IPython.core.display.HTML object>"
      ]
     },
     "metadata": {},
     "output_type": "display_data"
    }
   ],
   "source": [
    "import pandas as pd\n",
    "import numpy as np\n",
    "from sklearn.metrics import mean_squared_error, make_scorer\n",
    "from sklearn.metrics import mean_absolute_error as mae \n",
    "import seaborn as sns\n",
    "import matplotlib.pyplot as plt\n",
    "import warnings\n",
    "from sklearn.linear_model import LogisticRegression\n",
    "from sklearn.preprocessing import OrdinalEncoder\n",
    "from sklearn.ensemble import RandomForestRegressor\n",
    "from sklearn.linear_model import LinearRegression \n",
    "from sklearn.preprocessing import StandardScaler\n",
    "from sklearn.model_selection import cross_val_score\n",
    "from sklearn.dummy import DummyRegressor\n",
    "from sklearn.model_selection import GridSearchCV\n",
    "\n",
    "from IPython.core.display import display, HTML\n",
    "display(HTML(\"<style>.container { width:90% !important; }</style>\"))"
   ]
  },
  {
   "cell_type": "code",
   "execution_count": 2,
   "metadata": {},
   "outputs": [],
   "source": [
    "df_train = pd.read_csv('/datasets/gold_recovery_train_new.csv')\n",
    "df_test = pd.read_csv('/datasets/gold_recovery_test_new.csv')\n",
    "df_full = pd.read_csv('/datasets/gold_recovery_full_new.csv')"
   ]
  },
  {
   "cell_type": "code",
   "execution_count": 3,
   "metadata": {},
   "outputs": [],
   "source": [
    "df_test = df_test.set_index('date')\n",
    "df_train = df_train.set_index('date') \n",
    "df_full = df_full.set_index('date')"
   ]
  },
  {
   "cell_type": "code",
   "execution_count": 4,
   "metadata": {},
   "outputs": [
    {
     "data": {
      "text/html": [
       "<div>\n",
       "<style scoped>\n",
       "    .dataframe tbody tr th:only-of-type {\n",
       "        vertical-align: middle;\n",
       "    }\n",
       "\n",
       "    .dataframe tbody tr th {\n",
       "        vertical-align: top;\n",
       "    }\n",
       "\n",
       "    .dataframe thead th {\n",
       "        text-align: right;\n",
       "    }\n",
       "</style>\n",
       "<table border=\"1\" class=\"dataframe\">\n",
       "  <thead>\n",
       "    <tr style=\"text-align: right;\">\n",
       "      <th></th>\n",
       "      <th>final.output.concentrate_ag</th>\n",
       "      <th>final.output.concentrate_pb</th>\n",
       "      <th>final.output.concentrate_sol</th>\n",
       "      <th>final.output.concentrate_au</th>\n",
       "      <th>final.output.recovery</th>\n",
       "      <th>final.output.tail_ag</th>\n",
       "      <th>final.output.tail_pb</th>\n",
       "      <th>final.output.tail_sol</th>\n",
       "      <th>final.output.tail_au</th>\n",
       "      <th>primary_cleaner.input.sulfate</th>\n",
       "      <th>...</th>\n",
       "      <th>secondary_cleaner.state.floatbank4_a_air</th>\n",
       "      <th>secondary_cleaner.state.floatbank4_a_level</th>\n",
       "      <th>secondary_cleaner.state.floatbank4_b_air</th>\n",
       "      <th>secondary_cleaner.state.floatbank4_b_level</th>\n",
       "      <th>secondary_cleaner.state.floatbank5_a_air</th>\n",
       "      <th>secondary_cleaner.state.floatbank5_a_level</th>\n",
       "      <th>secondary_cleaner.state.floatbank5_b_air</th>\n",
       "      <th>secondary_cleaner.state.floatbank5_b_level</th>\n",
       "      <th>secondary_cleaner.state.floatbank6_a_air</th>\n",
       "      <th>secondary_cleaner.state.floatbank6_a_level</th>\n",
       "    </tr>\n",
       "    <tr>\n",
       "      <th>date</th>\n",
       "      <th></th>\n",
       "      <th></th>\n",
       "      <th></th>\n",
       "      <th></th>\n",
       "      <th></th>\n",
       "      <th></th>\n",
       "      <th></th>\n",
       "      <th></th>\n",
       "      <th></th>\n",
       "      <th></th>\n",
       "      <th></th>\n",
       "      <th></th>\n",
       "      <th></th>\n",
       "      <th></th>\n",
       "      <th></th>\n",
       "      <th></th>\n",
       "      <th></th>\n",
       "      <th></th>\n",
       "      <th></th>\n",
       "      <th></th>\n",
       "      <th></th>\n",
       "    </tr>\n",
       "  </thead>\n",
       "  <tbody>\n",
       "    <tr>\n",
       "      <th>2016-08-26 01:59:59</th>\n",
       "      <td>5.975928</td>\n",
       "      <td>11.289822</td>\n",
       "      <td>7.722498</td>\n",
       "      <td>42.361028</td>\n",
       "      <td>64.065041</td>\n",
       "      <td>8.486489</td>\n",
       "      <td>2.929787</td>\n",
       "      <td>7.337885</td>\n",
       "      <td>3.700302</td>\n",
       "      <td>123.415934</td>\n",
       "      <td>...</td>\n",
       "      <td>17.976363</td>\n",
       "      <td>-400.073402</td>\n",
       "      <td>9.955942</td>\n",
       "      <td>-400.131254</td>\n",
       "      <td>10.045788</td>\n",
       "      <td>-400.482761</td>\n",
       "      <td>4.950956</td>\n",
       "      <td>-400.192093</td>\n",
       "      <td>24.933783</td>\n",
       "      <td>-500.127915</td>\n",
       "    </tr>\n",
       "    <tr>\n",
       "      <th>2017-07-25 23:59:59</th>\n",
       "      <td>2.855415</td>\n",
       "      <td>7.808789</td>\n",
       "      <td>5.823692</td>\n",
       "      <td>27.591702</td>\n",
       "      <td>54.415486</td>\n",
       "      <td>6.872784</td>\n",
       "      <td>3.358020</td>\n",
       "      <td>11.125584</td>\n",
       "      <td>3.277495</td>\n",
       "      <td>123.237967</td>\n",
       "      <td>...</td>\n",
       "      <td>13.062646</td>\n",
       "      <td>-499.850068</td>\n",
       "      <td>9.998684</td>\n",
       "      <td>-380.150805</td>\n",
       "      <td>16.003969</td>\n",
       "      <td>-498.544452</td>\n",
       "      <td>9.982700</td>\n",
       "      <td>-499.779313</td>\n",
       "      <td>14.989955</td>\n",
       "      <td>-499.486963</td>\n",
       "    </tr>\n",
       "    <tr>\n",
       "      <th>2018-04-23 03:59:59</th>\n",
       "      <td>5.014995</td>\n",
       "      <td>10.090377</td>\n",
       "      <td>9.103401</td>\n",
       "      <td>46.336867</td>\n",
       "      <td>76.412599</td>\n",
       "      <td>11.212008</td>\n",
       "      <td>1.524528</td>\n",
       "      <td>8.869654</td>\n",
       "      <td>2.256266</td>\n",
       "      <td>164.826695</td>\n",
       "      <td>...</td>\n",
       "      <td>27.005982</td>\n",
       "      <td>-499.063023</td>\n",
       "      <td>19.949608</td>\n",
       "      <td>-499.643137</td>\n",
       "      <td>19.984293</td>\n",
       "      <td>-498.629860</td>\n",
       "      <td>14.987542</td>\n",
       "      <td>-499.661629</td>\n",
       "      <td>18.000870</td>\n",
       "      <td>-499.209469</td>\n",
       "    </tr>\n",
       "  </tbody>\n",
       "</table>\n",
       "<p>3 rows × 86 columns</p>\n",
       "</div>"
      ],
      "text/plain": [
       "                     final.output.concentrate_ag  final.output.concentrate_pb  \\\n",
       "date                                                                            \n",
       "2016-08-26 01:59:59                     5.975928                    11.289822   \n",
       "2017-07-25 23:59:59                     2.855415                     7.808789   \n",
       "2018-04-23 03:59:59                     5.014995                    10.090377   \n",
       "\n",
       "                     final.output.concentrate_sol  \\\n",
       "date                                                \n",
       "2016-08-26 01:59:59                      7.722498   \n",
       "2017-07-25 23:59:59                      5.823692   \n",
       "2018-04-23 03:59:59                      9.103401   \n",
       "\n",
       "                     final.output.concentrate_au  final.output.recovery  \\\n",
       "date                                                                      \n",
       "2016-08-26 01:59:59                    42.361028              64.065041   \n",
       "2017-07-25 23:59:59                    27.591702              54.415486   \n",
       "2018-04-23 03:59:59                    46.336867              76.412599   \n",
       "\n",
       "                     final.output.tail_ag  final.output.tail_pb  \\\n",
       "date                                                              \n",
       "2016-08-26 01:59:59              8.486489              2.929787   \n",
       "2017-07-25 23:59:59              6.872784              3.358020   \n",
       "2018-04-23 03:59:59             11.212008              1.524528   \n",
       "\n",
       "                     final.output.tail_sol  final.output.tail_au  \\\n",
       "date                                                               \n",
       "2016-08-26 01:59:59               7.337885              3.700302   \n",
       "2017-07-25 23:59:59              11.125584              3.277495   \n",
       "2018-04-23 03:59:59               8.869654              2.256266   \n",
       "\n",
       "                     primary_cleaner.input.sulfate  ...  \\\n",
       "date                                                ...   \n",
       "2016-08-26 01:59:59                     123.415934  ...   \n",
       "2017-07-25 23:59:59                     123.237967  ...   \n",
       "2018-04-23 03:59:59                     164.826695  ...   \n",
       "\n",
       "                     secondary_cleaner.state.floatbank4_a_air  \\\n",
       "date                                                            \n",
       "2016-08-26 01:59:59                                 17.976363   \n",
       "2017-07-25 23:59:59                                 13.062646   \n",
       "2018-04-23 03:59:59                                 27.005982   \n",
       "\n",
       "                     secondary_cleaner.state.floatbank4_a_level  \\\n",
       "date                                                              \n",
       "2016-08-26 01:59:59                                 -400.073402   \n",
       "2017-07-25 23:59:59                                 -499.850068   \n",
       "2018-04-23 03:59:59                                 -499.063023   \n",
       "\n",
       "                     secondary_cleaner.state.floatbank4_b_air  \\\n",
       "date                                                            \n",
       "2016-08-26 01:59:59                                  9.955942   \n",
       "2017-07-25 23:59:59                                  9.998684   \n",
       "2018-04-23 03:59:59                                 19.949608   \n",
       "\n",
       "                     secondary_cleaner.state.floatbank4_b_level  \\\n",
       "date                                                              \n",
       "2016-08-26 01:59:59                                 -400.131254   \n",
       "2017-07-25 23:59:59                                 -380.150805   \n",
       "2018-04-23 03:59:59                                 -499.643137   \n",
       "\n",
       "                     secondary_cleaner.state.floatbank5_a_air  \\\n",
       "date                                                            \n",
       "2016-08-26 01:59:59                                 10.045788   \n",
       "2017-07-25 23:59:59                                 16.003969   \n",
       "2018-04-23 03:59:59                                 19.984293   \n",
       "\n",
       "                     secondary_cleaner.state.floatbank5_a_level  \\\n",
       "date                                                              \n",
       "2016-08-26 01:59:59                                 -400.482761   \n",
       "2017-07-25 23:59:59                                 -498.544452   \n",
       "2018-04-23 03:59:59                                 -498.629860   \n",
       "\n",
       "                     secondary_cleaner.state.floatbank5_b_air  \\\n",
       "date                                                            \n",
       "2016-08-26 01:59:59                                  4.950956   \n",
       "2017-07-25 23:59:59                                  9.982700   \n",
       "2018-04-23 03:59:59                                 14.987542   \n",
       "\n",
       "                     secondary_cleaner.state.floatbank5_b_level  \\\n",
       "date                                                              \n",
       "2016-08-26 01:59:59                                 -400.192093   \n",
       "2017-07-25 23:59:59                                 -499.779313   \n",
       "2018-04-23 03:59:59                                 -499.661629   \n",
       "\n",
       "                     secondary_cleaner.state.floatbank6_a_air  \\\n",
       "date                                                            \n",
       "2016-08-26 01:59:59                                 24.933783   \n",
       "2017-07-25 23:59:59                                 14.989955   \n",
       "2018-04-23 03:59:59                                 18.000870   \n",
       "\n",
       "                     secondary_cleaner.state.floatbank6_a_level  \n",
       "date                                                             \n",
       "2016-08-26 01:59:59                                 -500.127915  \n",
       "2017-07-25 23:59:59                                 -499.486963  \n",
       "2018-04-23 03:59:59                                 -499.209469  \n",
       "\n",
       "[3 rows x 86 columns]"
      ]
     },
     "metadata": {},
     "output_type": "display_data"
    }
   ],
   "source": [
    "display(df_train.sample(3))"
   ]
  },
  {
   "cell_type": "code",
   "execution_count": 5,
   "metadata": {},
   "outputs": [
    {
     "data": {
      "text/html": [
       "<div>\n",
       "<style scoped>\n",
       "    .dataframe tbody tr th:only-of-type {\n",
       "        vertical-align: middle;\n",
       "    }\n",
       "\n",
       "    .dataframe tbody tr th {\n",
       "        vertical-align: top;\n",
       "    }\n",
       "\n",
       "    .dataframe thead th {\n",
       "        text-align: right;\n",
       "    }\n",
       "</style>\n",
       "<table border=\"1\" class=\"dataframe\">\n",
       "  <thead>\n",
       "    <tr style=\"text-align: right;\">\n",
       "      <th></th>\n",
       "      <th>primary_cleaner.input.sulfate</th>\n",
       "      <th>primary_cleaner.input.depressant</th>\n",
       "      <th>primary_cleaner.input.feed_size</th>\n",
       "      <th>primary_cleaner.input.xanthate</th>\n",
       "      <th>primary_cleaner.state.floatbank8_a_air</th>\n",
       "      <th>primary_cleaner.state.floatbank8_a_level</th>\n",
       "      <th>primary_cleaner.state.floatbank8_b_air</th>\n",
       "      <th>primary_cleaner.state.floatbank8_b_level</th>\n",
       "      <th>primary_cleaner.state.floatbank8_c_air</th>\n",
       "      <th>primary_cleaner.state.floatbank8_c_level</th>\n",
       "      <th>...</th>\n",
       "      <th>secondary_cleaner.state.floatbank4_a_air</th>\n",
       "      <th>secondary_cleaner.state.floatbank4_a_level</th>\n",
       "      <th>secondary_cleaner.state.floatbank4_b_air</th>\n",
       "      <th>secondary_cleaner.state.floatbank4_b_level</th>\n",
       "      <th>secondary_cleaner.state.floatbank5_a_air</th>\n",
       "      <th>secondary_cleaner.state.floatbank5_a_level</th>\n",
       "      <th>secondary_cleaner.state.floatbank5_b_air</th>\n",
       "      <th>secondary_cleaner.state.floatbank5_b_level</th>\n",
       "      <th>secondary_cleaner.state.floatbank6_a_air</th>\n",
       "      <th>secondary_cleaner.state.floatbank6_a_level</th>\n",
       "    </tr>\n",
       "    <tr>\n",
       "      <th>date</th>\n",
       "      <th></th>\n",
       "      <th></th>\n",
       "      <th></th>\n",
       "      <th></th>\n",
       "      <th></th>\n",
       "      <th></th>\n",
       "      <th></th>\n",
       "      <th></th>\n",
       "      <th></th>\n",
       "      <th></th>\n",
       "      <th></th>\n",
       "      <th></th>\n",
       "      <th></th>\n",
       "      <th></th>\n",
       "      <th></th>\n",
       "      <th></th>\n",
       "      <th></th>\n",
       "      <th></th>\n",
       "      <th></th>\n",
       "      <th></th>\n",
       "      <th></th>\n",
       "    </tr>\n",
       "  </thead>\n",
       "  <tbody>\n",
       "    <tr>\n",
       "      <th>2016-12-15 01:59:59</th>\n",
       "      <td>176.962362</td>\n",
       "      <td>11.947522</td>\n",
       "      <td>7.926667</td>\n",
       "      <td>0.998209</td>\n",
       "      <td>1582.963417</td>\n",
       "      <td>-499.567802</td>\n",
       "      <td>1574.738312</td>\n",
       "      <td>-499.493138</td>\n",
       "      <td>1575.665101</td>\n",
       "      <td>-498.801004</td>\n",
       "      <td>...</td>\n",
       "      <td>17.007079</td>\n",
       "      <td>-499.620489</td>\n",
       "      <td>15.01926</td>\n",
       "      <td>-500.236308</td>\n",
       "      <td>18.002488</td>\n",
       "      <td>-499.861786</td>\n",
       "      <td>12.002204</td>\n",
       "      <td>-499.914344</td>\n",
       "      <td>20.995004</td>\n",
       "      <td>-499.481548</td>\n",
       "    </tr>\n",
       "    <tr>\n",
       "      <th>2017-10-12 17:59:59</th>\n",
       "      <td>17.886900</td>\n",
       "      <td>0.113356</td>\n",
       "      <td>6.880000</td>\n",
       "      <td>0.026293</td>\n",
       "      <td>1116.534824</td>\n",
       "      <td>-783.448551</td>\n",
       "      <td>1214.626814</td>\n",
       "      <td>-786.788294</td>\n",
       "      <td>212.035417</td>\n",
       "      <td>-778.084538</td>\n",
       "      <td>...</td>\n",
       "      <td>9.880762</td>\n",
       "      <td>-624.097984</td>\n",
       "      <td>8.70885</td>\n",
       "      <td>-430.051900</td>\n",
       "      <td>7.325534</td>\n",
       "      <td>-564.932874</td>\n",
       "      <td>5.929711</td>\n",
       "      <td>-525.363957</td>\n",
       "      <td>8.102306</td>\n",
       "      <td>-759.155694</td>\n",
       "    </tr>\n",
       "    <tr>\n",
       "      <th>2017-10-17 14:59:59</th>\n",
       "      <td>157.879686</td>\n",
       "      <td>6.490224</td>\n",
       "      <td>6.275000</td>\n",
       "      <td>2.204942</td>\n",
       "      <td>1502.027343</td>\n",
       "      <td>-499.427812</td>\n",
       "      <td>1501.663353</td>\n",
       "      <td>-496.628610</td>\n",
       "      <td>1502.203760</td>\n",
       "      <td>-501.231231</td>\n",
       "      <td>...</td>\n",
       "      <td>18.036840</td>\n",
       "      <td>-500.051611</td>\n",
       "      <td>15.86224</td>\n",
       "      <td>-400.202538</td>\n",
       "      <td>13.043260</td>\n",
       "      <td>-500.606924</td>\n",
       "      <td>9.995791</td>\n",
       "      <td>-500.104477</td>\n",
       "      <td>14.000077</td>\n",
       "      <td>-500.272491</td>\n",
       "    </tr>\n",
       "  </tbody>\n",
       "</table>\n",
       "<p>3 rows × 52 columns</p>\n",
       "</div>"
      ],
      "text/plain": [
       "                     primary_cleaner.input.sulfate  \\\n",
       "date                                                 \n",
       "2016-12-15 01:59:59                     176.962362   \n",
       "2017-10-12 17:59:59                      17.886900   \n",
       "2017-10-17 14:59:59                     157.879686   \n",
       "\n",
       "                     primary_cleaner.input.depressant  \\\n",
       "date                                                    \n",
       "2016-12-15 01:59:59                         11.947522   \n",
       "2017-10-12 17:59:59                          0.113356   \n",
       "2017-10-17 14:59:59                          6.490224   \n",
       "\n",
       "                     primary_cleaner.input.feed_size  \\\n",
       "date                                                   \n",
       "2016-12-15 01:59:59                         7.926667   \n",
       "2017-10-12 17:59:59                         6.880000   \n",
       "2017-10-17 14:59:59                         6.275000   \n",
       "\n",
       "                     primary_cleaner.input.xanthate  \\\n",
       "date                                                  \n",
       "2016-12-15 01:59:59                        0.998209   \n",
       "2017-10-12 17:59:59                        0.026293   \n",
       "2017-10-17 14:59:59                        2.204942   \n",
       "\n",
       "                     primary_cleaner.state.floatbank8_a_air  \\\n",
       "date                                                          \n",
       "2016-12-15 01:59:59                             1582.963417   \n",
       "2017-10-12 17:59:59                             1116.534824   \n",
       "2017-10-17 14:59:59                             1502.027343   \n",
       "\n",
       "                     primary_cleaner.state.floatbank8_a_level  \\\n",
       "date                                                            \n",
       "2016-12-15 01:59:59                               -499.567802   \n",
       "2017-10-12 17:59:59                               -783.448551   \n",
       "2017-10-17 14:59:59                               -499.427812   \n",
       "\n",
       "                     primary_cleaner.state.floatbank8_b_air  \\\n",
       "date                                                          \n",
       "2016-12-15 01:59:59                             1574.738312   \n",
       "2017-10-12 17:59:59                             1214.626814   \n",
       "2017-10-17 14:59:59                             1501.663353   \n",
       "\n",
       "                     primary_cleaner.state.floatbank8_b_level  \\\n",
       "date                                                            \n",
       "2016-12-15 01:59:59                               -499.493138   \n",
       "2017-10-12 17:59:59                               -786.788294   \n",
       "2017-10-17 14:59:59                               -496.628610   \n",
       "\n",
       "                     primary_cleaner.state.floatbank8_c_air  \\\n",
       "date                                                          \n",
       "2016-12-15 01:59:59                             1575.665101   \n",
       "2017-10-12 17:59:59                              212.035417   \n",
       "2017-10-17 14:59:59                             1502.203760   \n",
       "\n",
       "                     primary_cleaner.state.floatbank8_c_level  ...  \\\n",
       "date                                                           ...   \n",
       "2016-12-15 01:59:59                               -498.801004  ...   \n",
       "2017-10-12 17:59:59                               -778.084538  ...   \n",
       "2017-10-17 14:59:59                               -501.231231  ...   \n",
       "\n",
       "                     secondary_cleaner.state.floatbank4_a_air  \\\n",
       "date                                                            \n",
       "2016-12-15 01:59:59                                 17.007079   \n",
       "2017-10-12 17:59:59                                  9.880762   \n",
       "2017-10-17 14:59:59                                 18.036840   \n",
       "\n",
       "                     secondary_cleaner.state.floatbank4_a_level  \\\n",
       "date                                                              \n",
       "2016-12-15 01:59:59                                 -499.620489   \n",
       "2017-10-12 17:59:59                                 -624.097984   \n",
       "2017-10-17 14:59:59                                 -500.051611   \n",
       "\n",
       "                     secondary_cleaner.state.floatbank4_b_air  \\\n",
       "date                                                            \n",
       "2016-12-15 01:59:59                                  15.01926   \n",
       "2017-10-12 17:59:59                                   8.70885   \n",
       "2017-10-17 14:59:59                                  15.86224   \n",
       "\n",
       "                     secondary_cleaner.state.floatbank4_b_level  \\\n",
       "date                                                              \n",
       "2016-12-15 01:59:59                                 -500.236308   \n",
       "2017-10-12 17:59:59                                 -430.051900   \n",
       "2017-10-17 14:59:59                                 -400.202538   \n",
       "\n",
       "                     secondary_cleaner.state.floatbank5_a_air  \\\n",
       "date                                                            \n",
       "2016-12-15 01:59:59                                 18.002488   \n",
       "2017-10-12 17:59:59                                  7.325534   \n",
       "2017-10-17 14:59:59                                 13.043260   \n",
       "\n",
       "                     secondary_cleaner.state.floatbank5_a_level  \\\n",
       "date                                                              \n",
       "2016-12-15 01:59:59                                 -499.861786   \n",
       "2017-10-12 17:59:59                                 -564.932874   \n",
       "2017-10-17 14:59:59                                 -500.606924   \n",
       "\n",
       "                     secondary_cleaner.state.floatbank5_b_air  \\\n",
       "date                                                            \n",
       "2016-12-15 01:59:59                                 12.002204   \n",
       "2017-10-12 17:59:59                                  5.929711   \n",
       "2017-10-17 14:59:59                                  9.995791   \n",
       "\n",
       "                     secondary_cleaner.state.floatbank5_b_level  \\\n",
       "date                                                              \n",
       "2016-12-15 01:59:59                                 -499.914344   \n",
       "2017-10-12 17:59:59                                 -525.363957   \n",
       "2017-10-17 14:59:59                                 -500.104477   \n",
       "\n",
       "                     secondary_cleaner.state.floatbank6_a_air  \\\n",
       "date                                                            \n",
       "2016-12-15 01:59:59                                 20.995004   \n",
       "2017-10-12 17:59:59                                  8.102306   \n",
       "2017-10-17 14:59:59                                 14.000077   \n",
       "\n",
       "                     secondary_cleaner.state.floatbank6_a_level  \n",
       "date                                                             \n",
       "2016-12-15 01:59:59                                 -499.481548  \n",
       "2017-10-12 17:59:59                                 -759.155694  \n",
       "2017-10-17 14:59:59                                 -500.272491  \n",
       "\n",
       "[3 rows x 52 columns]"
      ]
     },
     "metadata": {},
     "output_type": "display_data"
    }
   ],
   "source": [
    "display(df_test.sample(3))"
   ]
  },
  {
   "cell_type": "code",
   "execution_count": 6,
   "metadata": {},
   "outputs": [
    {
     "data": {
      "text/html": [
       "<div>\n",
       "<style scoped>\n",
       "    .dataframe tbody tr th:only-of-type {\n",
       "        vertical-align: middle;\n",
       "    }\n",
       "\n",
       "    .dataframe tbody tr th {\n",
       "        vertical-align: top;\n",
       "    }\n",
       "\n",
       "    .dataframe thead th {\n",
       "        text-align: right;\n",
       "    }\n",
       "</style>\n",
       "<table border=\"1\" class=\"dataframe\">\n",
       "  <thead>\n",
       "    <tr style=\"text-align: right;\">\n",
       "      <th></th>\n",
       "      <th>final.output.concentrate_ag</th>\n",
       "      <th>final.output.concentrate_pb</th>\n",
       "      <th>final.output.concentrate_sol</th>\n",
       "      <th>final.output.concentrate_au</th>\n",
       "      <th>final.output.recovery</th>\n",
       "      <th>final.output.tail_ag</th>\n",
       "      <th>final.output.tail_pb</th>\n",
       "      <th>final.output.tail_sol</th>\n",
       "      <th>final.output.tail_au</th>\n",
       "      <th>primary_cleaner.input.sulfate</th>\n",
       "      <th>...</th>\n",
       "      <th>secondary_cleaner.state.floatbank4_a_air</th>\n",
       "      <th>secondary_cleaner.state.floatbank4_a_level</th>\n",
       "      <th>secondary_cleaner.state.floatbank4_b_air</th>\n",
       "      <th>secondary_cleaner.state.floatbank4_b_level</th>\n",
       "      <th>secondary_cleaner.state.floatbank5_a_air</th>\n",
       "      <th>secondary_cleaner.state.floatbank5_a_level</th>\n",
       "      <th>secondary_cleaner.state.floatbank5_b_air</th>\n",
       "      <th>secondary_cleaner.state.floatbank5_b_level</th>\n",
       "      <th>secondary_cleaner.state.floatbank6_a_air</th>\n",
       "      <th>secondary_cleaner.state.floatbank6_a_level</th>\n",
       "    </tr>\n",
       "    <tr>\n",
       "      <th>date</th>\n",
       "      <th></th>\n",
       "      <th></th>\n",
       "      <th></th>\n",
       "      <th></th>\n",
       "      <th></th>\n",
       "      <th></th>\n",
       "      <th></th>\n",
       "      <th></th>\n",
       "      <th></th>\n",
       "      <th></th>\n",
       "      <th></th>\n",
       "      <th></th>\n",
       "      <th></th>\n",
       "      <th></th>\n",
       "      <th></th>\n",
       "      <th></th>\n",
       "      <th></th>\n",
       "      <th></th>\n",
       "      <th></th>\n",
       "      <th></th>\n",
       "      <th></th>\n",
       "    </tr>\n",
       "  </thead>\n",
       "  <tbody>\n",
       "    <tr>\n",
       "      <th>2016-05-06 18:59:59</th>\n",
       "      <td>4.765935</td>\n",
       "      <td>10.753662</td>\n",
       "      <td>8.609253</td>\n",
       "      <td>45.243526</td>\n",
       "      <td>57.310418</td>\n",
       "      <td>8.360965</td>\n",
       "      <td>2.418788</td>\n",
       "      <td>11.389649</td>\n",
       "      <td>3.753568</td>\n",
       "      <td>130.074199</td>\n",
       "      <td>...</td>\n",
       "      <td>13.964161</td>\n",
       "      <td>-500.171269</td>\n",
       "      <td>12.022765</td>\n",
       "      <td>-499.741732</td>\n",
       "      <td>11.071073</td>\n",
       "      <td>-500.175308</td>\n",
       "      <td>9.993003</td>\n",
       "      <td>-500.354224</td>\n",
       "      <td>19.990557</td>\n",
       "      <td>-499.976366</td>\n",
       "    </tr>\n",
       "    <tr>\n",
       "      <th>2016-04-12 08:00:00</th>\n",
       "      <td>5.692372</td>\n",
       "      <td>10.994390</td>\n",
       "      <td>8.900822</td>\n",
       "      <td>43.338874</td>\n",
       "      <td>68.367532</td>\n",
       "      <td>7.029374</td>\n",
       "      <td>1.660480</td>\n",
       "      <td>13.886426</td>\n",
       "      <td>2.423800</td>\n",
       "      <td>115.869818</td>\n",
       "      <td>...</td>\n",
       "      <td>15.057091</td>\n",
       "      <td>-504.129517</td>\n",
       "      <td>12.024573</td>\n",
       "      <td>-498.958557</td>\n",
       "      <td>19.024595</td>\n",
       "      <td>-501.587218</td>\n",
       "      <td>18.978055</td>\n",
       "      <td>-499.534180</td>\n",
       "      <td>29.972609</td>\n",
       "      <td>-500.327614</td>\n",
       "    </tr>\n",
       "    <tr>\n",
       "      <th>2017-11-13 12:59:59</th>\n",
       "      <td>5.142671</td>\n",
       "      <td>9.520834</td>\n",
       "      <td>8.836800</td>\n",
       "      <td>46.182535</td>\n",
       "      <td>63.784814</td>\n",
       "      <td>10.661801</td>\n",
       "      <td>2.563852</td>\n",
       "      <td>12.274698</td>\n",
       "      <td>3.425622</td>\n",
       "      <td>93.293917</td>\n",
       "      <td>...</td>\n",
       "      <td>17.000060</td>\n",
       "      <td>-499.942294</td>\n",
       "      <td>9.982338</td>\n",
       "      <td>-499.973720</td>\n",
       "      <td>11.005222</td>\n",
       "      <td>-500.503611</td>\n",
       "      <td>8.995045</td>\n",
       "      <td>-500.065081</td>\n",
       "      <td>15.994826</td>\n",
       "      <td>-500.014032</td>\n",
       "    </tr>\n",
       "  </tbody>\n",
       "</table>\n",
       "<p>3 rows × 86 columns</p>\n",
       "</div>"
      ],
      "text/plain": [
       "                     final.output.concentrate_ag  final.output.concentrate_pb  \\\n",
       "date                                                                            \n",
       "2016-05-06 18:59:59                     4.765935                    10.753662   \n",
       "2016-04-12 08:00:00                     5.692372                    10.994390   \n",
       "2017-11-13 12:59:59                     5.142671                     9.520834   \n",
       "\n",
       "                     final.output.concentrate_sol  \\\n",
       "date                                                \n",
       "2016-05-06 18:59:59                      8.609253   \n",
       "2016-04-12 08:00:00                      8.900822   \n",
       "2017-11-13 12:59:59                      8.836800   \n",
       "\n",
       "                     final.output.concentrate_au  final.output.recovery  \\\n",
       "date                                                                      \n",
       "2016-05-06 18:59:59                    45.243526              57.310418   \n",
       "2016-04-12 08:00:00                    43.338874              68.367532   \n",
       "2017-11-13 12:59:59                    46.182535              63.784814   \n",
       "\n",
       "                     final.output.tail_ag  final.output.tail_pb  \\\n",
       "date                                                              \n",
       "2016-05-06 18:59:59              8.360965              2.418788   \n",
       "2016-04-12 08:00:00              7.029374              1.660480   \n",
       "2017-11-13 12:59:59             10.661801              2.563852   \n",
       "\n",
       "                     final.output.tail_sol  final.output.tail_au  \\\n",
       "date                                                               \n",
       "2016-05-06 18:59:59              11.389649              3.753568   \n",
       "2016-04-12 08:00:00              13.886426              2.423800   \n",
       "2017-11-13 12:59:59              12.274698              3.425622   \n",
       "\n",
       "                     primary_cleaner.input.sulfate  ...  \\\n",
       "date                                                ...   \n",
       "2016-05-06 18:59:59                     130.074199  ...   \n",
       "2016-04-12 08:00:00                     115.869818  ...   \n",
       "2017-11-13 12:59:59                      93.293917  ...   \n",
       "\n",
       "                     secondary_cleaner.state.floatbank4_a_air  \\\n",
       "date                                                            \n",
       "2016-05-06 18:59:59                                 13.964161   \n",
       "2016-04-12 08:00:00                                 15.057091   \n",
       "2017-11-13 12:59:59                                 17.000060   \n",
       "\n",
       "                     secondary_cleaner.state.floatbank4_a_level  \\\n",
       "date                                                              \n",
       "2016-05-06 18:59:59                                 -500.171269   \n",
       "2016-04-12 08:00:00                                 -504.129517   \n",
       "2017-11-13 12:59:59                                 -499.942294   \n",
       "\n",
       "                     secondary_cleaner.state.floatbank4_b_air  \\\n",
       "date                                                            \n",
       "2016-05-06 18:59:59                                 12.022765   \n",
       "2016-04-12 08:00:00                                 12.024573   \n",
       "2017-11-13 12:59:59                                  9.982338   \n",
       "\n",
       "                     secondary_cleaner.state.floatbank4_b_level  \\\n",
       "date                                                              \n",
       "2016-05-06 18:59:59                                 -499.741732   \n",
       "2016-04-12 08:00:00                                 -498.958557   \n",
       "2017-11-13 12:59:59                                 -499.973720   \n",
       "\n",
       "                     secondary_cleaner.state.floatbank5_a_air  \\\n",
       "date                                                            \n",
       "2016-05-06 18:59:59                                 11.071073   \n",
       "2016-04-12 08:00:00                                 19.024595   \n",
       "2017-11-13 12:59:59                                 11.005222   \n",
       "\n",
       "                     secondary_cleaner.state.floatbank5_a_level  \\\n",
       "date                                                              \n",
       "2016-05-06 18:59:59                                 -500.175308   \n",
       "2016-04-12 08:00:00                                 -501.587218   \n",
       "2017-11-13 12:59:59                                 -500.503611   \n",
       "\n",
       "                     secondary_cleaner.state.floatbank5_b_air  \\\n",
       "date                                                            \n",
       "2016-05-06 18:59:59                                  9.993003   \n",
       "2016-04-12 08:00:00                                 18.978055   \n",
       "2017-11-13 12:59:59                                  8.995045   \n",
       "\n",
       "                     secondary_cleaner.state.floatbank5_b_level  \\\n",
       "date                                                              \n",
       "2016-05-06 18:59:59                                 -500.354224   \n",
       "2016-04-12 08:00:00                                 -499.534180   \n",
       "2017-11-13 12:59:59                                 -500.065081   \n",
       "\n",
       "                     secondary_cleaner.state.floatbank6_a_air  \\\n",
       "date                                                            \n",
       "2016-05-06 18:59:59                                 19.990557   \n",
       "2016-04-12 08:00:00                                 29.972609   \n",
       "2017-11-13 12:59:59                                 15.994826   \n",
       "\n",
       "                     secondary_cleaner.state.floatbank6_a_level  \n",
       "date                                                             \n",
       "2016-05-06 18:59:59                                 -499.976366  \n",
       "2016-04-12 08:00:00                                 -500.327614  \n",
       "2017-11-13 12:59:59                                 -500.014032  \n",
       "\n",
       "[3 rows x 86 columns]"
      ]
     },
     "metadata": {},
     "output_type": "display_data"
    }
   ],
   "source": [
    "display(df_full.sample(3))"
   ]
  },
  {
   "cell_type": "code",
   "execution_count": 7,
   "metadata": {
    "scrolled": true
   },
   "outputs": [
    {
     "data": {
      "text/plain": [
       "Index(['primary_cleaner.input.sulfate', 'primary_cleaner.input.depressant',\n",
       "       'primary_cleaner.input.feed_size', 'primary_cleaner.input.xanthate',\n",
       "       'primary_cleaner.state.floatbank8_a_air',\n",
       "       'primary_cleaner.state.floatbank8_a_level',\n",
       "       'primary_cleaner.state.floatbank8_b_air',\n",
       "       'primary_cleaner.state.floatbank8_b_level',\n",
       "       'primary_cleaner.state.floatbank8_c_air',\n",
       "       'primary_cleaner.state.floatbank8_c_level',\n",
       "       'primary_cleaner.state.floatbank8_d_air',\n",
       "       'primary_cleaner.state.floatbank8_d_level', 'rougher.input.feed_ag',\n",
       "       'rougher.input.feed_pb', 'rougher.input.feed_rate',\n",
       "       'rougher.input.feed_size', 'rougher.input.feed_sol',\n",
       "       'rougher.input.feed_au', 'rougher.input.floatbank10_sulfate',\n",
       "       'rougher.input.floatbank10_xanthate',\n",
       "       'rougher.input.floatbank11_sulfate',\n",
       "       'rougher.input.floatbank11_xanthate', 'rougher.state.floatbank10_a_air',\n",
       "       'rougher.state.floatbank10_a_level', 'rougher.state.floatbank10_b_air',\n",
       "       'rougher.state.floatbank10_b_level', 'rougher.state.floatbank10_c_air',\n",
       "       'rougher.state.floatbank10_c_level', 'rougher.state.floatbank10_d_air',\n",
       "       'rougher.state.floatbank10_d_level', 'rougher.state.floatbank10_e_air',\n",
       "       'rougher.state.floatbank10_e_level', 'rougher.state.floatbank10_f_air',\n",
       "       'rougher.state.floatbank10_f_level',\n",
       "       'secondary_cleaner.state.floatbank2_a_air',\n",
       "       'secondary_cleaner.state.floatbank2_a_level',\n",
       "       'secondary_cleaner.state.floatbank2_b_air',\n",
       "       'secondary_cleaner.state.floatbank2_b_level',\n",
       "       'secondary_cleaner.state.floatbank3_a_air',\n",
       "       'secondary_cleaner.state.floatbank3_a_level',\n",
       "       'secondary_cleaner.state.floatbank3_b_air',\n",
       "       'secondary_cleaner.state.floatbank3_b_level',\n",
       "       'secondary_cleaner.state.floatbank4_a_air',\n",
       "       'secondary_cleaner.state.floatbank4_a_level',\n",
       "       'secondary_cleaner.state.floatbank4_b_air',\n",
       "       'secondary_cleaner.state.floatbank4_b_level',\n",
       "       'secondary_cleaner.state.floatbank5_a_air',\n",
       "       'secondary_cleaner.state.floatbank5_a_level',\n",
       "       'secondary_cleaner.state.floatbank5_b_air',\n",
       "       'secondary_cleaner.state.floatbank5_b_level',\n",
       "       'secondary_cleaner.state.floatbank6_a_air',\n",
       "       'secondary_cleaner.state.floatbank6_a_level'],\n",
       "      dtype='object')"
      ]
     },
     "execution_count": 7,
     "metadata": {},
     "output_type": "execute_result"
    }
   ],
   "source": [
    "df_test.columns "
   ]
  },
  {
   "cell_type": "code",
   "execution_count": 8,
   "metadata": {},
   "outputs": [
    {
     "name": "stdout",
     "output_type": "stream",
     "text": [
      "<class 'pandas.core.frame.DataFrame'>\n",
      "Index: 14149 entries, 2016-01-15 00:00:00 to 2018-08-18 10:59:59\n",
      "Data columns (total 86 columns):\n",
      " #   Column                                              Non-Null Count  Dtype  \n",
      "---  ------                                              --------------  -----  \n",
      " 0   final.output.concentrate_ag                         14148 non-null  float64\n",
      " 1   final.output.concentrate_pb                         14148 non-null  float64\n",
      " 2   final.output.concentrate_sol                        13938 non-null  float64\n",
      " 3   final.output.concentrate_au                         14149 non-null  float64\n",
      " 4   final.output.recovery                               14149 non-null  float64\n",
      " 5   final.output.tail_ag                                14149 non-null  float64\n",
      " 6   final.output.tail_pb                                14049 non-null  float64\n",
      " 7   final.output.tail_sol                               14144 non-null  float64\n",
      " 8   final.output.tail_au                                14149 non-null  float64\n",
      " 9   primary_cleaner.input.sulfate                       14129 non-null  float64\n",
      " 10  primary_cleaner.input.depressant                    14117 non-null  float64\n",
      " 11  primary_cleaner.input.feed_size                     14149 non-null  float64\n",
      " 12  primary_cleaner.input.xanthate                      14049 non-null  float64\n",
      " 13  primary_cleaner.output.concentrate_ag               14149 non-null  float64\n",
      " 14  primary_cleaner.output.concentrate_pb               14063 non-null  float64\n",
      " 15  primary_cleaner.output.concentrate_sol              13863 non-null  float64\n",
      " 16  primary_cleaner.output.concentrate_au               14149 non-null  float64\n",
      " 17  primary_cleaner.output.tail_ag                      14148 non-null  float64\n",
      " 18  primary_cleaner.output.tail_pb                      14134 non-null  float64\n",
      " 19  primary_cleaner.output.tail_sol                     14103 non-null  float64\n",
      " 20  primary_cleaner.output.tail_au                      14149 non-null  float64\n",
      " 21  primary_cleaner.state.floatbank8_a_air              14145 non-null  float64\n",
      " 22  primary_cleaner.state.floatbank8_a_level            14148 non-null  float64\n",
      " 23  primary_cleaner.state.floatbank8_b_air              14145 non-null  float64\n",
      " 24  primary_cleaner.state.floatbank8_b_level            14148 non-null  float64\n",
      " 25  primary_cleaner.state.floatbank8_c_air              14147 non-null  float64\n",
      " 26  primary_cleaner.state.floatbank8_c_level            14148 non-null  float64\n",
      " 27  primary_cleaner.state.floatbank8_d_air              14146 non-null  float64\n",
      " 28  primary_cleaner.state.floatbank8_d_level            14148 non-null  float64\n",
      " 29  rougher.calculation.sulfate_to_au_concentrate       14148 non-null  float64\n",
      " 30  rougher.calculation.floatbank10_sulfate_to_au_feed  14148 non-null  float64\n",
      " 31  rougher.calculation.floatbank11_sulfate_to_au_feed  14148 non-null  float64\n",
      " 32  rougher.calculation.au_pb_ratio                     14149 non-null  float64\n",
      " 33  rougher.input.feed_ag                               14149 non-null  float64\n",
      " 34  rougher.input.feed_pb                               14049 non-null  float64\n",
      " 35  rougher.input.feed_rate                             14141 non-null  float64\n",
      " 36  rougher.input.feed_size                             14005 non-null  float64\n",
      " 37  rougher.input.feed_sol                              14071 non-null  float64\n",
      " 38  rougher.input.feed_au                               14149 non-null  float64\n",
      " 39  rougher.input.floatbank10_sulfate                   14120 non-null  float64\n",
      " 40  rougher.input.floatbank10_xanthate                  14141 non-null  float64\n",
      " 41  rougher.input.floatbank11_sulfate                   14113 non-null  float64\n",
      " 42  rougher.input.floatbank11_xanthate                  13721 non-null  float64\n",
      " 43  rougher.output.concentrate_ag                       14149 non-null  float64\n",
      " 44  rougher.output.concentrate_pb                       14149 non-null  float64\n",
      " 45  rougher.output.concentrate_sol                      14127 non-null  float64\n",
      " 46  rougher.output.concentrate_au                       14149 non-null  float64\n",
      " 47  rougher.output.recovery                             14149 non-null  float64\n",
      " 48  rougher.output.tail_ag                              14148 non-null  float64\n",
      " 49  rougher.output.tail_pb                              14149 non-null  float64\n",
      " 50  rougher.output.tail_sol                             14149 non-null  float64\n",
      " 51  rougher.output.tail_au                              14149 non-null  float64\n",
      " 52  rougher.state.floatbank10_a_air                     14148 non-null  float64\n",
      " 53  rougher.state.floatbank10_a_level                   14148 non-null  float64\n",
      " 54  rougher.state.floatbank10_b_air                     14148 non-null  float64\n",
      " 55  rougher.state.floatbank10_b_level                   14148 non-null  float64\n",
      " 56  rougher.state.floatbank10_c_air                     14148 non-null  float64\n",
      " 57  rougher.state.floatbank10_c_level                   14148 non-null  float64\n",
      " 58  rougher.state.floatbank10_d_air                     14149 non-null  float64\n",
      " 59  rougher.state.floatbank10_d_level                   14149 non-null  float64\n",
      " 60  rougher.state.floatbank10_e_air                     13713 non-null  float64\n",
      " 61  rougher.state.floatbank10_e_level                   14149 non-null  float64\n",
      " 62  rougher.state.floatbank10_f_air                     14149 non-null  float64\n",
      " 63  rougher.state.floatbank10_f_level                   14149 non-null  float64\n",
      " 64  secondary_cleaner.output.tail_ag                    14147 non-null  float64\n",
      " 65  secondary_cleaner.output.tail_pb                    14139 non-null  float64\n",
      " 66  secondary_cleaner.output.tail_sol                   12544 non-null  float64\n",
      " 67  secondary_cleaner.output.tail_au                    14149 non-null  float64\n",
      " 68  secondary_cleaner.state.floatbank2_a_air            13932 non-null  float64\n",
      " 69  secondary_cleaner.state.floatbank2_a_level          14148 non-null  float64\n",
      " 70  secondary_cleaner.state.floatbank2_b_air            14128 non-null  float64\n",
      " 71  secondary_cleaner.state.floatbank2_b_level          14148 non-null  float64\n",
      " 72  secondary_cleaner.state.floatbank3_a_air            14145 non-null  float64\n",
      " 73  secondary_cleaner.state.floatbank3_a_level          14148 non-null  float64\n",
      " 74  secondary_cleaner.state.floatbank3_b_air            14148 non-null  float64\n",
      " 75  secondary_cleaner.state.floatbank3_b_level          14148 non-null  float64\n",
      " 76  secondary_cleaner.state.floatbank4_a_air            14143 non-null  float64\n",
      " 77  secondary_cleaner.state.floatbank4_a_level          14148 non-null  float64\n",
      " 78  secondary_cleaner.state.floatbank4_b_air            14148 non-null  float64\n",
      " 79  secondary_cleaner.state.floatbank4_b_level          14148 non-null  float64\n",
      " 80  secondary_cleaner.state.floatbank5_a_air            14148 non-null  float64\n",
      " 81  secondary_cleaner.state.floatbank5_a_level          14148 non-null  float64\n",
      " 82  secondary_cleaner.state.floatbank5_b_air            14148 non-null  float64\n",
      " 83  secondary_cleaner.state.floatbank5_b_level          14148 non-null  float64\n",
      " 84  secondary_cleaner.state.floatbank6_a_air            14147 non-null  float64\n",
      " 85  secondary_cleaner.state.floatbank6_a_level          14148 non-null  float64\n",
      "dtypes: float64(86)\n",
      "memory usage: 9.4+ MB\n",
      "<class 'pandas.core.frame.DataFrame'>\n",
      "Index: 5290 entries, 2016-09-01 00:59:59 to 2017-12-31 23:59:59\n",
      "Data columns (total 52 columns):\n",
      " #   Column                                      Non-Null Count  Dtype  \n",
      "---  ------                                      --------------  -----  \n",
      " 0   primary_cleaner.input.sulfate               5286 non-null   float64\n",
      " 1   primary_cleaner.input.depressant            5285 non-null   float64\n",
      " 2   primary_cleaner.input.feed_size             5290 non-null   float64\n",
      " 3   primary_cleaner.input.xanthate              5286 non-null   float64\n",
      " 4   primary_cleaner.state.floatbank8_a_air      5290 non-null   float64\n",
      " 5   primary_cleaner.state.floatbank8_a_level    5290 non-null   float64\n",
      " 6   primary_cleaner.state.floatbank8_b_air      5290 non-null   float64\n",
      " 7   primary_cleaner.state.floatbank8_b_level    5290 non-null   float64\n",
      " 8   primary_cleaner.state.floatbank8_c_air      5290 non-null   float64\n",
      " 9   primary_cleaner.state.floatbank8_c_level    5290 non-null   float64\n",
      " 10  primary_cleaner.state.floatbank8_d_air      5290 non-null   float64\n",
      " 11  primary_cleaner.state.floatbank8_d_level    5290 non-null   float64\n",
      " 12  rougher.input.feed_ag                       5290 non-null   float64\n",
      " 13  rougher.input.feed_pb                       5290 non-null   float64\n",
      " 14  rougher.input.feed_rate                     5287 non-null   float64\n",
      " 15  rougher.input.feed_size                     5289 non-null   float64\n",
      " 16  rougher.input.feed_sol                      5269 non-null   float64\n",
      " 17  rougher.input.feed_au                       5290 non-null   float64\n",
      " 18  rougher.input.floatbank10_sulfate           5285 non-null   float64\n",
      " 19  rougher.input.floatbank10_xanthate          5290 non-null   float64\n",
      " 20  rougher.input.floatbank11_sulfate           5282 non-null   float64\n",
      " 21  rougher.input.floatbank11_xanthate          5265 non-null   float64\n",
      " 22  rougher.state.floatbank10_a_air             5290 non-null   float64\n",
      " 23  rougher.state.floatbank10_a_level           5290 non-null   float64\n",
      " 24  rougher.state.floatbank10_b_air             5290 non-null   float64\n",
      " 25  rougher.state.floatbank10_b_level           5290 non-null   float64\n",
      " 26  rougher.state.floatbank10_c_air             5290 non-null   float64\n",
      " 27  rougher.state.floatbank10_c_level           5290 non-null   float64\n",
      " 28  rougher.state.floatbank10_d_air             5290 non-null   float64\n",
      " 29  rougher.state.floatbank10_d_level           5290 non-null   float64\n",
      " 30  rougher.state.floatbank10_e_air             5290 non-null   float64\n",
      " 31  rougher.state.floatbank10_e_level           5290 non-null   float64\n",
      " 32  rougher.state.floatbank10_f_air             5290 non-null   float64\n",
      " 33  rougher.state.floatbank10_f_level           5290 non-null   float64\n",
      " 34  secondary_cleaner.state.floatbank2_a_air    5287 non-null   float64\n",
      " 35  secondary_cleaner.state.floatbank2_a_level  5290 non-null   float64\n",
      " 36  secondary_cleaner.state.floatbank2_b_air    5288 non-null   float64\n",
      " 37  secondary_cleaner.state.floatbank2_b_level  5290 non-null   float64\n",
      " 38  secondary_cleaner.state.floatbank3_a_air    5281 non-null   float64\n",
      " 39  secondary_cleaner.state.floatbank3_a_level  5290 non-null   float64\n",
      " 40  secondary_cleaner.state.floatbank3_b_air    5290 non-null   float64\n",
      " 41  secondary_cleaner.state.floatbank3_b_level  5290 non-null   float64\n",
      " 42  secondary_cleaner.state.floatbank4_a_air    5290 non-null   float64\n",
      " 43  secondary_cleaner.state.floatbank4_a_level  5290 non-null   float64\n",
      " 44  secondary_cleaner.state.floatbank4_b_air    5290 non-null   float64\n",
      " 45  secondary_cleaner.state.floatbank4_b_level  5290 non-null   float64\n",
      " 46  secondary_cleaner.state.floatbank5_a_air    5290 non-null   float64\n",
      " 47  secondary_cleaner.state.floatbank5_a_level  5290 non-null   float64\n",
      " 48  secondary_cleaner.state.floatbank5_b_air    5290 non-null   float64\n",
      " 49  secondary_cleaner.state.floatbank5_b_level  5290 non-null   float64\n",
      " 50  secondary_cleaner.state.floatbank6_a_air    5290 non-null   float64\n",
      " 51  secondary_cleaner.state.floatbank6_a_level  5290 non-null   float64\n",
      "dtypes: float64(52)\n",
      "memory usage: 2.1+ MB\n",
      "<class 'pandas.core.frame.DataFrame'>\n",
      "Index: 19439 entries, 2016-01-15 00:00:00 to 2018-08-18 10:59:59\n",
      "Data columns (total 86 columns):\n",
      " #   Column                                              Non-Null Count  Dtype  \n",
      "---  ------                                              --------------  -----  \n",
      " 0   final.output.concentrate_ag                         19438 non-null  float64\n",
      " 1   final.output.concentrate_pb                         19438 non-null  float64\n",
      " 2   final.output.concentrate_sol                        19228 non-null  float64\n",
      " 3   final.output.concentrate_au                         19439 non-null  float64\n",
      " 4   final.output.recovery                               19439 non-null  float64\n",
      " 5   final.output.tail_ag                                19438 non-null  float64\n",
      " 6   final.output.tail_pb                                19338 non-null  float64\n",
      " 7   final.output.tail_sol                               19433 non-null  float64\n",
      " 8   final.output.tail_au                                19439 non-null  float64\n",
      " 9   primary_cleaner.input.sulfate                       19415 non-null  float64\n",
      " 10  primary_cleaner.input.depressant                    19402 non-null  float64\n",
      " 11  primary_cleaner.input.feed_size                     19439 non-null  float64\n",
      " 12  primary_cleaner.input.xanthate                      19335 non-null  float64\n",
      " 13  primary_cleaner.output.concentrate_ag               19439 non-null  float64\n",
      " 14  primary_cleaner.output.concentrate_pb               19323 non-null  float64\n",
      " 15  primary_cleaner.output.concentrate_sol              19069 non-null  float64\n",
      " 16  primary_cleaner.output.concentrate_au               19439 non-null  float64\n",
      " 17  primary_cleaner.output.tail_ag                      19435 non-null  float64\n",
      " 18  primary_cleaner.output.tail_pb                      19418 non-null  float64\n",
      " 19  primary_cleaner.output.tail_sol                     19377 non-null  float64\n",
      " 20  primary_cleaner.output.tail_au                      19439 non-null  float64\n",
      " 21  primary_cleaner.state.floatbank8_a_air              19435 non-null  float64\n",
      " 22  primary_cleaner.state.floatbank8_a_level            19438 non-null  float64\n",
      " 23  primary_cleaner.state.floatbank8_b_air              19435 non-null  float64\n",
      " 24  primary_cleaner.state.floatbank8_b_level            19438 non-null  float64\n",
      " 25  primary_cleaner.state.floatbank8_c_air              19437 non-null  float64\n",
      " 26  primary_cleaner.state.floatbank8_c_level            19438 non-null  float64\n",
      " 27  primary_cleaner.state.floatbank8_d_air              19436 non-null  float64\n",
      " 28  primary_cleaner.state.floatbank8_d_level            19438 non-null  float64\n",
      " 29  rougher.calculation.sulfate_to_au_concentrate       19437 non-null  float64\n",
      " 30  rougher.calculation.floatbank10_sulfate_to_au_feed  19437 non-null  float64\n",
      " 31  rougher.calculation.floatbank11_sulfate_to_au_feed  19437 non-null  float64\n",
      " 32  rougher.calculation.au_pb_ratio                     19439 non-null  float64\n",
      " 33  rougher.input.feed_ag                               19439 non-null  float64\n",
      " 34  rougher.input.feed_pb                               19339 non-null  float64\n",
      " 35  rougher.input.feed_rate                             19428 non-null  float64\n",
      " 36  rougher.input.feed_size                             19294 non-null  float64\n",
      " 37  rougher.input.feed_sol                              19340 non-null  float64\n",
      " 38  rougher.input.feed_au                               19439 non-null  float64\n",
      " 39  rougher.input.floatbank10_sulfate                   19405 non-null  float64\n",
      " 40  rougher.input.floatbank10_xanthate                  19431 non-null  float64\n",
      " 41  rougher.input.floatbank11_sulfate                   19395 non-null  float64\n",
      " 42  rougher.input.floatbank11_xanthate                  18986 non-null  float64\n",
      " 43  rougher.output.concentrate_ag                       19439 non-null  float64\n",
      " 44  rougher.output.concentrate_pb                       19439 non-null  float64\n",
      " 45  rougher.output.concentrate_sol                      19416 non-null  float64\n",
      " 46  rougher.output.concentrate_au                       19439 non-null  float64\n",
      " 47  rougher.output.recovery                             19439 non-null  float64\n",
      " 48  rougher.output.tail_ag                              19438 non-null  float64\n",
      " 49  rougher.output.tail_pb                              19439 non-null  float64\n",
      " 50  rougher.output.tail_sol                             19439 non-null  float64\n",
      " 51  rougher.output.tail_au                              19439 non-null  float64\n",
      " 52  rougher.state.floatbank10_a_air                     19438 non-null  float64\n",
      " 53  rougher.state.floatbank10_a_level                   19438 non-null  float64\n",
      " 54  rougher.state.floatbank10_b_air                     19438 non-null  float64\n",
      " 55  rougher.state.floatbank10_b_level                   19438 non-null  float64\n",
      " 56  rougher.state.floatbank10_c_air                     19438 non-null  float64\n",
      " 57  rougher.state.floatbank10_c_level                   19438 non-null  float64\n",
      " 58  rougher.state.floatbank10_d_air                     19439 non-null  float64\n",
      " 59  rougher.state.floatbank10_d_level                   19439 non-null  float64\n",
      " 60  rougher.state.floatbank10_e_air                     19003 non-null  float64\n",
      " 61  rougher.state.floatbank10_e_level                   19439 non-null  float64\n",
      " 62  rougher.state.floatbank10_f_air                     19439 non-null  float64\n",
      " 63  rougher.state.floatbank10_f_level                   19439 non-null  float64\n",
      " 64  secondary_cleaner.output.tail_ag                    19437 non-null  float64\n",
      " 65  secondary_cleaner.output.tail_pb                    19427 non-null  float64\n",
      " 66  secondary_cleaner.output.tail_sol                   17691 non-null  float64\n",
      " 67  secondary_cleaner.output.tail_au                    19439 non-null  float64\n",
      " 68  secondary_cleaner.state.floatbank2_a_air            19219 non-null  float64\n",
      " 69  secondary_cleaner.state.floatbank2_a_level          19438 non-null  float64\n",
      " 70  secondary_cleaner.state.floatbank2_b_air            19416 non-null  float64\n",
      " 71  secondary_cleaner.state.floatbank2_b_level          19438 non-null  float64\n",
      " 72  secondary_cleaner.state.floatbank3_a_air            19426 non-null  float64\n",
      " 73  secondary_cleaner.state.floatbank3_a_level          19438 non-null  float64\n",
      " 74  secondary_cleaner.state.floatbank3_b_air            19438 non-null  float64\n",
      " 75  secondary_cleaner.state.floatbank3_b_level          19438 non-null  float64\n",
      " 76  secondary_cleaner.state.floatbank4_a_air            19433 non-null  float64\n",
      " 77  secondary_cleaner.state.floatbank4_a_level          19438 non-null  float64\n",
      " 78  secondary_cleaner.state.floatbank4_b_air            19438 non-null  float64\n",
      " 79  secondary_cleaner.state.floatbank4_b_level          19438 non-null  float64\n",
      " 80  secondary_cleaner.state.floatbank5_a_air            19438 non-null  float64\n",
      " 81  secondary_cleaner.state.floatbank5_a_level          19438 non-null  float64\n",
      " 82  secondary_cleaner.state.floatbank5_b_air            19438 non-null  float64\n",
      " 83  secondary_cleaner.state.floatbank5_b_level          19438 non-null  float64\n",
      " 84  secondary_cleaner.state.floatbank6_a_air            19437 non-null  float64\n",
      " 85  secondary_cleaner.state.floatbank6_a_level          19438 non-null  float64\n",
      "dtypes: float64(86)\n",
      "memory usage: 12.9+ MB\n"
     ]
    }
   ],
   "source": [
    "df_train.info() \n",
    "df_test.info()\n",
    "df_full.info()"
   ]
  },
  {
   "cell_type": "markdown",
   "metadata": {},
   "source": [
    "Теперь удалим все пропуски"
   ]
  },
  {
   "cell_type": "code",
   "execution_count": 9,
   "metadata": {
    "scrolled": false
   },
   "outputs": [
    {
     "data": {
      "text/plain": [
       "rougher.input.floatbank11_xanthate          25\n",
       "rougher.input.feed_sol                      21\n",
       "secondary_cleaner.state.floatbank3_a_air     9\n",
       "rougher.input.floatbank11_sulfate            8\n",
       "primary_cleaner.input.depressant             5\n",
       "rougher.input.floatbank10_sulfate            5\n",
       "primary_cleaner.input.sulfate                4\n",
       "primary_cleaner.input.xanthate               4\n",
       "rougher.input.feed_rate                      3\n",
       "secondary_cleaner.state.floatbank2_a_air     3\n",
       "dtype: int64"
      ]
     },
     "metadata": {},
     "output_type": "display_data"
    }
   ],
   "source": [
    "b = df_test.isna().sum()\n",
    "display(b.sort_values(ascending=False).head(10))"
   ]
  },
  {
   "cell_type": "code",
   "execution_count": 10,
   "metadata": {
    "scrolled": true
   },
   "outputs": [
    {
     "data": {
      "text/plain": [
       "primary_cleaner.input.sulfate        0\n",
       "primary_cleaner.input.depressant     0\n",
       "rougher.state.floatbank10_d_air      0\n",
       "rougher.state.floatbank10_d_level    0\n",
       "rougher.state.floatbank10_e_air      0\n",
       "dtype: int64"
      ]
     },
     "metadata": {},
     "output_type": "display_data"
    }
   ],
   "source": [
    "df_test = df_test.ffill()\n",
    "display(df_test.isna().sum().sort_values(ascending=False).head(5))"
   ]
  },
  {
   "cell_type": "code",
   "execution_count": 11,
   "metadata": {},
   "outputs": [
    {
     "data": {
      "text/plain": [
       "secondary_cleaner.output.tail_sol           1605\n",
       "rougher.state.floatbank10_e_air              436\n",
       "rougher.input.floatbank11_xanthate           428\n",
       "primary_cleaner.output.concentrate_sol       286\n",
       "secondary_cleaner.state.floatbank2_a_air     217\n",
       "final.output.concentrate_sol                 211\n",
       "rougher.input.feed_size                      144\n",
       "rougher.input.feed_pb                        100\n",
       "final.output.tail_pb                         100\n",
       "primary_cleaner.input.xanthate               100\n",
       "dtype: int64"
      ]
     },
     "metadata": {},
     "output_type": "display_data"
    }
   ],
   "source": [
    "display(df_train.isna().sum().sort_values(ascending=False).head(10))"
   ]
  },
  {
   "cell_type": "code",
   "execution_count": 12,
   "metadata": {},
   "outputs": [
    {
     "data": {
      "text/plain": [
       "final.output.concentrate_ag          0\n",
       "rougher.state.floatbank10_b_air      0\n",
       "rougher.state.floatbank10_f_air      0\n",
       "rougher.state.floatbank10_e_level    0\n",
       "rougher.state.floatbank10_e_air      0\n",
       "dtype: int64"
      ]
     },
     "metadata": {},
     "output_type": "display_data"
    }
   ],
   "source": [
    "df_train = df_train.ffill()\n",
    "display(df_train.isna().sum().sort_values(ascending=False).head(5))"
   ]
  },
  {
   "cell_type": "code",
   "execution_count": 13,
   "metadata": {},
   "outputs": [
    {
     "data": {
      "text/plain": [
       "secondary_cleaner.output.tail_sol           1748\n",
       "rougher.input.floatbank11_xanthate           453\n",
       "rougher.state.floatbank10_e_air              436\n",
       "primary_cleaner.output.concentrate_sol       370\n",
       "secondary_cleaner.state.floatbank2_a_air     220\n",
       "final.output.concentrate_sol                 211\n",
       "rougher.input.feed_size                      145\n",
       "primary_cleaner.output.concentrate_pb        116\n",
       "primary_cleaner.input.xanthate               104\n",
       "final.output.tail_pb                         101\n",
       "dtype: int64"
      ]
     },
     "metadata": {},
     "output_type": "display_data"
    }
   ],
   "source": [
    "display(df_full.isna().sum().sort_values(ascending=False).head(10))\n"
   ]
  },
  {
   "cell_type": "code",
   "execution_count": 14,
   "metadata": {},
   "outputs": [
    {
     "data": {
      "text/plain": [
       "final.output.concentrate_ag          0\n",
       "rougher.state.floatbank10_b_air      0\n",
       "rougher.state.floatbank10_f_air      0\n",
       "rougher.state.floatbank10_e_level    0\n",
       "rougher.state.floatbank10_e_air      0\n",
       "dtype: int64"
      ]
     },
     "metadata": {},
     "output_type": "display_data"
    }
   ],
   "source": [
    "df_full = df_full.ffill()\n",
    "display(df_full.isna().sum().sort_values(ascending=False).head(5))"
   ]
  },
  {
   "cell_type": "code",
   "execution_count": 15,
   "metadata": {},
   "outputs": [
    {
     "name": "stdout",
     "output_type": "stream",
     "text": [
      "MAE равно: 9.73512347450521e-15\n"
     ]
    }
   ],
   "source": [
    "A = df_train['rougher.output.concentrate_au'] \n",
    "B = df_train['rougher.input.feed_au']\n",
    "C = df_train['rougher.output.tail_au'] \n",
    "\n",
    "recovery = (((A * (B - C)) / (B * (A - C)))) * 100\n",
    "\n",
    "MAE = mae(recovery, df_train['rougher.output.recovery'])\n",
    "print('MAE равно:', MAE)"
   ]
  },
  {
   "attachments": {
    "Image%20%281%29.png": {
     "image/png": "[encoded data removed]"
    }
   },
   "cell_type": "markdown",
   "metadata": {},
   "source": [
    "\n",
    "![Image%20%281%29.png](attachment:Image%20%281%29.png)"
   ]
  },
  {
   "cell_type": "markdown",
   "metadata": {},
   "source": [
    "Оценивая абсолютную ошибку можно заметить, что они слишком велика, из чего следует вывод, что эффективность обогащения определена верно, поскольку ошибка составляет 9.73"
   ]
  },
  {
   "cell_type": "markdown",
   "metadata": {},
   "source": [
    "Оценивая вывод принтов по колонкам можно заметить, что некоторых данных нет в тестовой выборке. Таким образом можно заметить, что согласно заданию, в данных нет некоторых столбцов, потому что они будут быть посчитаны через какое-то время после составления предыдущих столбцов. В данных нет столбцов, в который показывается результат, а именно ().output.(). Если второе слово -- output, то таких данных не будет в тестовой выборке, потому что они будут посчитаны впоследствии. "
   ]
  },
  {
   "cell_type": "code",
   "execution_count": 16,
   "metadata": {},
   "outputs": [
    {
     "data": {
      "text/html": [
       "<style  type=\"text/css\" >\n",
       "#T_630a5_row0_col0,#T_630a5_row1_col1,#T_630a5_row2_col2,#T_630a5_row3_col3,#T_630a5_row4_col4,#T_630a5_row5_col5,#T_630a5_row6_col6,#T_630a5_row7_col7,#T_630a5_row8_col8,#T_630a5_row9_col9,#T_630a5_row10_col10,#T_630a5_row11_col11,#T_630a5_row12_col12,#T_630a5_row13_col13,#T_630a5_row14_col14,#T_630a5_row15_col15,#T_630a5_row16_col16,#T_630a5_row17_col17,#T_630a5_row18_col18,#T_630a5_row19_col19,#T_630a5_row20_col20,#T_630a5_row21_col21,#T_630a5_row22_col22,#T_630a5_row23_col23,#T_630a5_row24_col24,#T_630a5_row25_col25,#T_630a5_row26_col26,#T_630a5_row27_col27,#T_630a5_row28_col28,#T_630a5_row29_col29,#T_630a5_row30_col30,#T_630a5_row31_col31,#T_630a5_row32_col32,#T_630a5_row33_col33,#T_630a5_row34_col34,#T_630a5_row35_col35,#T_630a5_row36_col36,#T_630a5_row37_col37,#T_630a5_row38_col38,#T_630a5_row39_col39,#T_630a5_row40_col40,#T_630a5_row41_col41,#T_630a5_row42_col42,#T_630a5_row43_col43,#T_630a5_row44_col44,#T_630a5_row45_col45,#T_630a5_row46_col46,#T_630a5_row47_col47,#T_630a5_row48_col48,#T_630a5_row49_col49,#T_630a5_row50_col50,#T_630a5_row51_col51{\n",
       "            background-color:  #b40426;\n",
       "            color:  #f1f1f1;\n",
       "        }#T_630a5_row0_col1,#T_630a5_row3_col22,#T_630a5_row8_col33,#T_630a5_row10_col50,#T_630a5_row28_col31,#T_630a5_row36_col40,#T_630a5_row36_col46,#T_630a5_row40_col36,#T_630a5_row40_col44{\n",
       "            background-color:  #f2cab5;\n",
       "            color:  #000000;\n",
       "        }#T_630a5_row0_col2,#T_630a5_row6_col13,#T_630a5_row6_col23,#T_630a5_row7_col14,#T_630a5_row12_col10,#T_630a5_row17_col10,#T_630a5_row20_col48,#T_630a5_row25_col34,#T_630a5_row38_col0,#T_630a5_row44_col30,#T_630a5_row47_col13,#T_630a5_row47_col27,#T_630a5_row47_col46,#T_630a5_row49_col18,#T_630a5_row49_col45,#T_630a5_row51_col32{\n",
       "            background-color:  #a3c2fe;\n",
       "            color:  #000000;\n",
       "        }#T_630a5_row0_col3,#T_630a5_row19_col16,#T_630a5_row29_col32,#T_630a5_row31_col28,#T_630a5_row33_col28,#T_630a5_row39_col38{\n",
       "            background-color:  #f6bfa6;\n",
       "            color:  #000000;\n",
       "        }#T_630a5_row0_col4,#T_630a5_row0_col39,#T_630a5_row1_col25,#T_630a5_row2_col41,#T_630a5_row7_col34,#T_630a5_row9_col38,#T_630a5_row9_col46,#T_630a5_row10_col2,#T_630a5_row11_col41,#T_630a5_row12_col7,#T_630a5_row12_col11,#T_630a5_row13_col27,#T_630a5_row15_col36,#T_630a5_row18_col8,#T_630a5_row19_col43,#T_630a5_row23_col47,#T_630a5_row24_col11,#T_630a5_row25_col37,#T_630a5_row31_col18,#T_630a5_row32_col37,#T_630a5_row34_col41,#T_630a5_row35_col0,#T_630a5_row37_col8,#T_630a5_row37_col46,#T_630a5_row37_col48,#T_630a5_row40_col5,#T_630a5_row42_col11,#T_630a5_row43_col9,#T_630a5_row43_col39,#T_630a5_row46_col45{\n",
       "            background-color:  #7093f3;\n",
       "            color:  #000000;\n",
       "        }#T_630a5_row0_col5,#T_630a5_row0_col26,#T_630a5_row8_col49,#T_630a5_row12_col23,#T_630a5_row15_col43,#T_630a5_row17_col48,#T_630a5_row20_col40,#T_630a5_row20_col47,#T_630a5_row21_col26,#T_630a5_row22_col40,#T_630a5_row24_col36,#T_630a5_row25_col0,#T_630a5_row27_col37,#T_630a5_row29_col14,#T_630a5_row30_col42,#T_630a5_row39_col29,#T_630a5_row43_col11,#T_630a5_row43_col35,#T_630a5_row50_col21,#T_630a5_row51_col2,#T_630a5_row51_col35{\n",
       "            background-color:  #6e90f2;\n",
       "            color:  #000000;\n",
       "        }#T_630a5_row0_col6,#T_630a5_row0_col34,#T_630a5_row7_col8,#T_630a5_row8_col35,#T_630a5_row12_col46,#T_630a5_row15_col2,#T_630a5_row18_col50,#T_630a5_row19_col9,#T_630a5_row19_col35,#T_630a5_row20_col50,#T_630a5_row22_col45,#T_630a5_row23_col51,#T_630a5_row27_col0,#T_630a5_row29_col16,#T_630a5_row31_col20,#T_630a5_row32_col14,#T_630a5_row33_col37,#T_630a5_row35_col17,#T_630a5_row39_col8,#T_630a5_row42_col24,#T_630a5_row45_col8{\n",
       "            background-color:  #6c8ff1;\n",
       "            color:  #000000;\n",
       "        }#T_630a5_row0_col7,#T_630a5_row1_col34,#T_630a5_row2_col11,#T_630a5_row2_col32,#T_630a5_row5_col6,#T_630a5_row5_col38,#T_630a5_row7_col38,#T_630a5_row9_col4,#T_630a5_row9_col6,#T_630a5_row9_col37,#T_630a5_row11_col40,#T_630a5_row11_col48,#T_630a5_row15_col44,#T_630a5_row17_col14,#T_630a5_row17_col24,#T_630a5_row18_col41,#T_630a5_row19_col26,#T_630a5_row19_col51,#T_630a5_row23_col11,#T_630a5_row26_col12,#T_630a5_row30_col41,#T_630a5_row31_col1,#T_630a5_row31_col35,#T_630a5_row32_col11,#T_630a5_row34_col9,#T_630a5_row39_col5,#T_630a5_row40_col14,#T_630a5_row40_col51,#T_630a5_row41_col8,#T_630a5_row43_col12,#T_630a5_row45_col39,#T_630a5_row46_col15,#T_630a5_row46_col17,#T_630a5_row47_col2,#T_630a5_row50_col35{\n",
       "            background-color:  #7597f6;\n",
       "            color:  #000000;\n",
       "        }#T_630a5_row0_col8,#T_630a5_row0_col33,#T_630a5_row1_col8,#T_630a5_row2_col15,#T_630a5_row6_col49,#T_630a5_row10_col49,#T_630a5_row12_col14,#T_630a5_row20_col17,#T_630a5_row21_col47,#T_630a5_row21_col51,#T_630a5_row25_col35,#T_630a5_row32_col35,#T_630a5_row34_col11,#T_630a5_row35_col8,#T_630a5_row35_col13,#T_630a5_row37_col1,#T_630a5_row39_col0,#T_630a5_row39_col33,#T_630a5_row47_col39,#T_630a5_row48_col12,#T_630a5_row49_col5{\n",
       "            background-color:  #7b9ff9;\n",
       "            color:  #000000;\n",
       "        }#T_630a5_row0_col9,#T_630a5_row0_col11,#T_630a5_row0_col35,#T_630a5_row0_col51,#T_630a5_row1_col28,#T_630a5_row2_col8,#T_630a5_row14_col29,#T_630a5_row15_col26,#T_630a5_row18_col49,#T_630a5_row19_col32,#T_630a5_row25_col49,#T_630a5_row25_col51,#T_630a5_row27_col51,#T_630a5_row28_col41,#T_630a5_row33_col39,#T_630a5_row39_col36,#T_630a5_row41_col42,#T_630a5_row42_col39,#T_630a5_row42_col41,#T_630a5_row45_col11,#T_630a5_row45_col31,#T_630a5_row45_col34,#T_630a5_row46_col37,#T_630a5_row48_col5{\n",
       "            background-color:  #5b7ae5;\n",
       "            color:  #000000;\n",
       "        }#T_630a5_row0_col10,#T_630a5_row1_col31,#T_630a5_row4_col2,#T_630a5_row6_col9,#T_630a5_row9_col48,#T_630a5_row10_col11,#T_630a5_row18_col40,#T_630a5_row30_col37,#T_630a5_row33_col20,#T_630a5_row35_col3,#T_630a5_row35_col46,#T_630a5_row36_col49,#T_630a5_row40_col43,#T_630a5_row45_col26,#T_630a5_row46_col16,#T_630a5_row51_col39{\n",
       "            background-color:  #7295f4;\n",
       "            color:  #000000;\n",
       "        }#T_630a5_row0_col12,#T_630a5_row8_col46,#T_630a5_row14_col22,#T_630a5_row23_col15,#T_630a5_row37_col34,#T_630a5_row42_col3,#T_630a5_row42_col4,#T_630a5_row44_col18,#T_630a5_row46_col8{\n",
       "            background-color:  #dfdbd9;\n",
       "            color:  #000000;\n",
       "        }#T_630a5_row0_col13,#T_630a5_row6_col48,#T_630a5_row8_col48,#T_630a5_row13_col22,#T_630a5_row46_col36,#T_630a5_row50_col32{\n",
       "            background-color:  #f0cdbb;\n",
       "            color:  #000000;\n",
       "        }#T_630a5_row0_col14,#T_630a5_row14_col3,#T_630a5_row41_col38{\n",
       "            background-color:  #f4c6af;\n",
       "            color:  #000000;\n",
       "        }#T_630a5_row0_col15,#T_630a5_row0_col46,#T_630a5_row6_col0,#T_630a5_row6_col14,#T_630a5_row7_col33,#T_630a5_row11_col33,#T_630a5_row16_col41,#T_630a5_row17_col20,#T_630a5_row21_col4,#T_630a5_row22_col39,#T_630a5_row23_col5,#T_630a5_row24_col2,#T_630a5_row24_col4,#T_630a5_row28_col10,#T_630a5_row29_col36,#T_630a5_row34_col3,#T_630a5_row35_col2,#T_630a5_row36_col17,#T_630a5_row37_col45,#T_630a5_row38_col3,#T_630a5_row44_col26,#T_630a5_row49_col42,#T_630a5_row51_col6,#T_630a5_row51_col29{\n",
       "            background-color:  #90b2fe;\n",
       "            color:  #000000;\n",
       "        }#T_630a5_row0_col16,#T_630a5_row13_col1,#T_630a5_row23_col22,#T_630a5_row38_col48,#T_630a5_row40_col50,#T_630a5_row42_col46,#T_630a5_row50_col33{\n",
       "            background-color:  #f3c8b2;\n",
       "            color:  #000000;\n",
       "        }#T_630a5_row0_col17,#T_630a5_row10_col30,#T_630a5_row16_col45,#T_630a5_row21_col3,#T_630a5_row40_col42,#T_630a5_row46_col30,#T_630a5_row50_col48{\n",
       "            background-color:  #ead4c8;\n",
       "            color:  #000000;\n",
       "        }#T_630a5_row0_col18,#T_630a5_row30_col25,#T_630a5_row48_col36{\n",
       "            background-color:  #f6a586;\n",
       "            color:  #000000;\n",
       "        }#T_630a5_row0_col19,#T_630a5_row0_col21,#T_630a5_row23_col16,#T_630a5_row23_col18,#T_630a5_row26_col25,#T_630a5_row32_col25,#T_630a5_row48_col50{\n",
       "            background-color:  #f7ba9f;\n",
       "            color:  #000000;\n",
       "        }#T_630a5_row0_col20,#T_630a5_row42_col48,#T_630a5_row48_col40{\n",
       "            background-color:  #f7ad90;\n",
       "            color:  #000000;\n",
       "        }#T_630a5_row0_col22,#T_630a5_row2_col12,#T_630a5_row6_col29,#T_630a5_row10_col26,#T_630a5_row12_col50,#T_630a5_row15_col45,#T_630a5_row17_col22,#T_630a5_row20_col45,#T_630a5_row36_col18,#T_630a5_row42_col18,#T_630a5_row42_col23,#T_630a5_row43_col45,#T_630a5_row44_col20,#T_630a5_row44_col38{\n",
       "            background-color:  #dbdcde;\n",
       "            color:  #000000;\n",
       "        }#T_630a5_row0_col23,#T_630a5_row6_col26,#T_630a5_row14_col15,#T_630a5_row16_col22,#T_630a5_row21_col23,#T_630a5_row33_col48{\n",
       "            background-color:  #dddcdc;\n",
       "            color:  #000000;\n",
       "        }#T_630a5_row0_col24,#T_630a5_row0_col37,#T_630a5_row3_col40,#T_630a5_row4_col43,#T_630a5_row12_col15,#T_630a5_row14_col48,#T_630a5_row18_col4,#T_630a5_row18_col28,#T_630a5_row19_col7,#T_630a5_row20_col49,#T_630a5_row24_col43,#T_630a5_row30_col51,#T_630a5_row31_col43,#T_630a5_row39_col43,#T_630a5_row41_col36,#T_630a5_row45_col5{\n",
       "            background-color:  #5e7de7;\n",
       "            color:  #000000;\n",
       "        }#T_630a5_row0_col25,#T_630a5_row3_col8,#T_630a5_row3_col50,#T_630a5_row5_col44,#T_630a5_row8_col0,#T_630a5_row8_col14,#T_630a5_row8_col16,#T_630a5_row9_col0,#T_630a5_row9_col39,#T_630a5_row16_col44,#T_630a5_row17_col7,#T_630a5_row19_col41,#T_630a5_row29_col1,#T_630a5_row30_col35,#T_630a5_row32_col41,#T_630a5_row32_col44,#T_630a5_row33_col18,#T_630a5_row35_col20,#T_630a5_row36_col9,#T_630a5_row36_col51,#T_630a5_row40_col47,#T_630a5_row41_col31,#T_630a5_row42_col9,#T_630a5_row43_col8,#T_630a5_row43_col40,#T_630a5_row48_col51{\n",
       "            background-color:  #82a6fb;\n",
       "            color:  #000000;\n",
       "        }#T_630a5_row0_col27,#T_630a5_row5_col33,#T_630a5_row8_col23,#T_630a5_row9_col18,#T_630a5_row9_col30,#T_630a5_row10_col5,#T_630a5_row13_col38,#T_630a5_row14_col43,#T_630a5_row15_col13,#T_630a5_row18_col46,#T_630a5_row19_col5,#T_630a5_row21_col33,#T_630a5_row24_col38,#T_630a5_row28_col2,#T_630a5_row30_col2,#T_630a5_row39_col12,#T_630a5_row41_col0,#T_630a5_row41_col17,#T_630a5_row50_col42{\n",
       "            background-color:  #81a4fb;\n",
       "            color:  #000000;\n",
       "        }#T_630a5_row0_col28,#T_630a5_row0_col31,#T_630a5_row0_col47,#T_630a5_row1_col27,#T_630a5_row2_col35,#T_630a5_row3_col47,#T_630a5_row4_col11,#T_630a5_row6_col2,#T_630a5_row6_col11,#T_630a5_row7_col46,#T_630a5_row12_col30,#T_630a5_row12_col36,#T_630a5_row13_col33,#T_630a5_row19_col47,#T_630a5_row29_col35,#T_630a5_row35_col48,#T_630a5_row39_col25,#T_630a5_row39_col27,#T_630a5_row41_col29,#T_630a5_row42_col49,#T_630a5_row43_col17,#T_630a5_row43_col47,#T_630a5_row45_col41,#T_630a5_row48_col49{\n",
       "            background-color:  #7396f5;\n",
       "            color:  #000000;\n",
       "        }#T_630a5_row0_col29,#T_630a5_row0_col38,#T_630a5_row4_col51,#T_630a5_row5_col0,#T_630a5_row5_col32,#T_630a5_row7_col15,#T_630a5_row7_col41,#T_630a5_row8_col13,#T_630a5_row9_col3,#T_630a5_row9_col33,#T_630a5_row14_col41,#T_630a5_row15_col39,#T_630a5_row18_col17,#T_630a5_row21_col38,#T_630a5_row25_col44,#T_630a5_row27_col44,#T_630a5_row41_col47,#T_630a5_row43_col29,#T_630a5_row51_col4{\n",
       "            background-color:  #88abfd;\n",
       "            color:  #000000;\n",
       "        }#T_630a5_row0_col30,#T_630a5_row10_col35,#T_630a5_row13_col45,#T_630a5_row14_col50,#T_630a5_row15_col11,#T_630a5_row15_col47,#T_630a5_row16_col7,#T_630a5_row17_col15,#T_630a5_row18_col30,#T_630a5_row20_col7,#T_630a5_row20_col30,#T_630a5_row21_col32,#T_630a5_row28_col49,#T_630a5_row29_col43,#T_630a5_row29_col51,#T_630a5_row30_col18,#T_630a5_row33_col45,#T_630a5_row37_col42,#T_630a5_row41_col6,#T_630a5_row41_col10,#T_630a5_row41_col44,#T_630a5_row44_col41,#T_630a5_row45_col25,#T_630a5_row45_col27,#T_630a5_row45_col46,#T_630a5_row48_col41{\n",
       "            background-color:  #5875e1;\n",
       "            color:  #000000;\n",
       "        }#T_630a5_row0_col32,#T_630a5_row6_col35,#T_630a5_row13_col28,#T_630a5_row14_col26,#T_630a5_row15_col48,#T_630a5_row16_col34,#T_630a5_row19_col11,#T_630a5_row21_col24,#T_630a5_row23_col29,#T_630a5_row24_col45,#T_630a5_row25_col45,#T_630a5_row26_col51,#T_630a5_row28_col17,#T_630a5_row30_col15,#T_630a5_row31_col45,#T_630a5_row40_col37,#T_630a5_row44_col2,#T_630a5_row44_col39,#T_630a5_row45_col33,#T_630a5_row48_col39,#T_630a5_row50_col0,#T_630a5_row50_col11{\n",
       "            background-color:  #5673e0;\n",
       "            color:  #000000;\n",
       "        }#T_630a5_row0_col36,#T_630a5_row1_col40,#T_630a5_row2_col26,#T_630a5_row17_col25,#T_630a5_row17_col27,#T_630a5_row19_col45,#T_630a5_row34_col23,#T_630a5_row38_col24,#T_630a5_row44_col45,#T_630a5_row48_col18,#T_630a5_row48_col23{\n",
       "            background-color:  #b7cff9;\n",
       "            color:  #000000;\n",
       "        }#T_630a5_row0_col40,#T_630a5_row4_col14,#T_630a5_row8_col47,#T_630a5_row9_col36,#T_630a5_row11_col30,#T_630a5_row12_col26,#T_630a5_row17_col5,#T_630a5_row17_col38,#T_630a5_row17_col44,#T_630a5_row21_col44,#T_630a5_row23_col36,#T_630a5_row29_col2,#T_630a5_row29_col34,#T_630a5_row38_col23,#T_630a5_row41_col3,#T_630a5_row44_col28,#T_630a5_row47_col29,#T_630a5_row48_col43{\n",
       "            background-color:  #98b9ff;\n",
       "            color:  #000000;\n",
       "        }#T_630a5_row0_col41,#T_630a5_row1_col33,#T_630a5_row5_col8,#T_630a5_row5_col48,#T_630a5_row13_col25,#T_630a5_row13_col29,#T_630a5_row16_col5,#T_630a5_row16_col43,#T_630a5_row17_col11,#T_630a5_row17_col39,#T_630a5_row18_col29,#T_630a5_row18_col31,#T_630a5_row21_col35,#T_630a5_row24_col47,#T_630a5_row32_col45,#T_630a5_row41_col5,#T_630a5_row45_col28{\n",
       "            background-color:  #6f92f3;\n",
       "            color:  #000000;\n",
       "        }#T_630a5_row0_col42,#T_630a5_row2_col19,#T_630a5_row3_col15,#T_630a5_row7_col23,#T_630a5_row9_col1,#T_630a5_row18_col42,#T_630a5_row20_col15,#T_630a5_row20_col44,#T_630a5_row27_col10,#T_630a5_row34_col8,#T_630a5_row36_col33,#T_630a5_row36_col35,#T_630a5_row39_col16,#T_630a5_row40_col12,#T_630a5_row43_col20,#T_630a5_row45_col21,#T_630a5_row47_col22{\n",
       "            background-color:  #c3d5f4;\n",
       "            color:  #000000;\n",
       "        }#T_630a5_row0_col43,#T_630a5_row4_col15,#T_630a5_row5_col20,#T_630a5_row5_col31,#T_630a5_row7_col42,#T_630a5_row11_col18,#T_630a5_row11_col21,#T_630a5_row16_col17,#T_630a5_row17_col9,#T_630a5_row19_col38,#T_630a5_row20_col41,#T_630a5_row33_col23,#T_630a5_row34_col5,#T_630a5_row35_col12,#T_630a5_row35_col18,#T_630a5_row39_col17,#T_630a5_row39_col31,#T_630a5_row40_col2,#T_630a5_row41_col12,#T_630a5_row42_col26,#T_630a5_row47_col9,#T_630a5_row51_col38,#T_630a5_row51_col41{\n",
       "            background-color:  #80a3fa;\n",
       "            color:  #000000;\n",
       "        }#T_630a5_row0_col44,#T_630a5_row1_col16,#T_630a5_row1_col23,#T_630a5_row4_col28,#T_630a5_row5_col13,#T_630a5_row9_col23,#T_630a5_row13_col23,#T_630a5_row18_col1,#T_630a5_row22_col19,#T_630a5_row36_col1,#T_630a5_row42_col0,#T_630a5_row42_col45,#T_630a5_row43_col23,#T_630a5_row43_col42,#T_630a5_row44_col1,#T_630a5_row50_col6{\n",
       "            background-color:  #cdd9ec;\n",
       "            color:  #000000;\n",
       "        }#T_630a5_row0_col45,#T_630a5_row2_col29,#T_630a5_row4_col20,#T_630a5_row6_col20,#T_630a5_row6_col47,#T_630a5_row7_col20,#T_630a5_row7_col43,#T_630a5_row9_col50,#T_630a5_row10_col47,#T_630a5_row12_col8,#T_630a5_row16_col13,#T_630a5_row29_col4,#T_630a5_row32_col23,#T_630a5_row34_col13,#T_630a5_row35_col23,#T_630a5_row35_col31,#T_630a5_row36_col19,#T_630a5_row41_col19,#T_630a5_row47_col0,#T_630a5_row47_col31,#T_630a5_row49_col14,#T_630a5_row49_col31{\n",
       "            background-color:  #9fbfff;\n",
       "            color:  #000000;\n",
       "        }#T_630a5_row0_col48,#T_630a5_row2_col14,#T_630a5_row9_col21,#T_630a5_row12_col33,#T_630a5_row19_col44,#T_630a5_row29_col46,#T_630a5_row30_col34,#T_630a5_row32_col36,#T_630a5_row35_col27,#T_630a5_row37_col14,#T_630a5_row37_col30,#T_630a5_row39_col18,#T_630a5_row41_col26,#T_630a5_row41_col28,#T_630a5_row42_col25,#T_630a5_row42_col27,#T_630a5_row42_col32,#T_630a5_row47_col40,#T_630a5_row50_col44,#T_630a5_row51_col31,#T_630a5_row51_col48{\n",
       "            background-color:  #a1c0ff;\n",
       "            color:  #000000;\n",
       "        }#T_630a5_row0_col49,#T_630a5_row2_col7,#T_630a5_row15_col32,#T_630a5_row15_col35,#T_630a5_row16_col9,#T_630a5_row16_col11,#T_630a5_row20_col4,#T_630a5_row20_col27,#T_630a5_row20_col28,#T_630a5_row20_col29,#T_630a5_row22_col49,#T_630a5_row22_col51,#T_630a5_row25_col43,#T_630a5_row26_col39,#T_630a5_row26_col41,#T_630a5_row26_col49,#T_630a5_row27_col43,#T_630a5_row29_col11,#T_630a5_row30_col14,#T_630a5_row30_col19,#T_630a5_row33_col47,#T_630a5_row36_col39,#T_630a5_row45_col2,#T_630a5_row45_col51,#T_630a5_row48_col37,#T_630a5_row50_col22{\n",
       "            background-color:  #5f7fe8;\n",
       "            color:  #000000;\n",
       "        }#T_630a5_row0_col50,#T_630a5_row2_col13,#T_630a5_row9_col2,#T_630a5_row9_col42,#T_630a5_row10_col0,#T_630a5_row11_col2,#T_630a5_row11_col12,#T_630a5_row12_col44,#T_630a5_row22_col4,#T_630a5_row25_col36,#T_630a5_row26_col2,#T_630a5_row27_col36,#T_630a5_row28_col6,#T_630a5_row31_col42,#T_630a5_row33_col19,#T_630a5_row43_col34,#T_630a5_row44_col47,#T_630a5_row46_col0,#T_630a5_row46_col23,#T_630a5_row49_col29,#T_630a5_row49_col44{\n",
       "            background-color:  #96b7ff;\n",
       "            color:  #000000;\n",
       "        }#T_630a5_row1_col0,#T_630a5_row4_col48,#T_630a5_row6_col30,#T_630a5_row6_col42,#T_630a5_row9_col22,#T_630a5_row10_col42,#T_630a5_row24_col29,#T_630a5_row31_col8,#T_630a5_row40_col6,#T_630a5_row40_col46{\n",
       "            background-color:  #ebd3c6;\n",
       "            color:  #000000;\n",
       "        }#T_630a5_row1_col2,#T_630a5_row1_col3,#T_630a5_row8_col21,#T_630a5_row10_col34,#T_630a5_row15_col21,#T_630a5_row17_col31,#T_630a5_row33_col34,#T_630a5_row35_col50,#T_630a5_row38_col12,#T_630a5_row40_col17,#T_630a5_row44_col33{\n",
       "            background-color:  #bed2f6;\n",
       "            color:  #000000;\n",
       "        }#T_630a5_row1_col4,#T_630a5_row5_col37,#T_630a5_row10_col45,#T_630a5_row12_col24,#T_630a5_row13_col11,#T_630a5_row13_col31,#T_630a5_row17_col30,#T_630a5_row21_col5,#T_630a5_row21_col43,#T_630a5_row23_col48,#T_630a5_row24_col37,#T_630a5_row27_col1,#T_630a5_row27_col35,#T_630a5_row29_col13,#T_630a5_row30_col39,#T_630a5_row31_col21,#T_630a5_row32_col20,#T_630a5_row36_col11,#T_630a5_row46_col14,#T_630a5_row48_col17{\n",
       "            background-color:  #7a9df8;\n",
       "            color:  #000000;\n",
       "        }#T_630a5_row1_col5,#T_630a5_row2_col24,#T_630a5_row4_col47,#T_630a5_row7_col0,#T_630a5_row10_col18,#T_630a5_row12_col4,#T_630a5_row12_col31,#T_630a5_row17_col6,#T_630a5_row25_col12,#T_630a5_row26_col10,#T_630a5_row27_col12,#T_630a5_row33_col44,#T_630a5_row34_col16,#T_630a5_row35_col25,#T_630a5_row37_col32,#T_630a5_row43_col15,#T_630a5_row43_col36,#T_630a5_row46_col22,#T_630a5_row47_col41,#T_630a5_row51_col14{\n",
       "            background-color:  #a2c1ff;\n",
       "            color:  #000000;\n",
       "        }#T_630a5_row1_col6,#T_630a5_row2_col23,#T_630a5_row4_col45,#T_630a5_row5_col34,#T_630a5_row5_col35,#T_630a5_row5_col47,#T_630a5_row6_col5,#T_630a5_row9_col20,#T_630a5_row9_col29,#T_630a5_row9_col34,#T_630a5_row9_col40,#T_630a5_row9_col44,#T_630a5_row11_col19,#T_630a5_row11_col20,#T_630a5_row13_col15,#T_630a5_row17_col23,#T_630a5_row17_col36,#T_630a5_row18_col39,#T_630a5_row23_col32,#T_630a5_row29_col42,#T_630a5_row31_col13,#T_630a5_row34_col17,#T_630a5_row34_col47,#T_630a5_row35_col1,#T_630a5_row37_col3,#T_630a5_row37_col13,#T_630a5_row38_col45,#T_630a5_row41_col33,#T_630a5_row42_col51,#T_630a5_row44_col24,#T_630a5_row44_col51,#T_630a5_row45_col1,#T_630a5_row46_col12,#T_630a5_row48_col16{\n",
       "            background-color:  #7ea1fa;\n",
       "            color:  #000000;\n",
       "        }#T_630a5_row1_col7,#T_630a5_row1_col41,#T_630a5_row3_col48,#T_630a5_row5_col26,#T_630a5_row9_col27,#T_630a5_row9_col45,#T_630a5_row11_col15,#T_630a5_row11_col29,#T_630a5_row11_col45,#T_630a5_row14_col2,#T_630a5_row17_col28,#T_630a5_row20_col46,#T_630a5_row21_col29,#T_630a5_row21_col36,#T_630a5_row27_col21,#T_630a5_row29_col44,#T_630a5_row30_col36,#T_630a5_row32_col39,#T_630a5_row34_col0,#T_630a5_row35_col22,#T_630a5_row35_col45,#T_630a5_row43_col30,#T_630a5_row48_col14,#T_630a5_row51_col17{\n",
       "            background-color:  #89acfd;\n",
       "            color:  #000000;\n",
       "        }#T_630a5_row1_col9,#T_630a5_row9_col24,#T_630a5_row12_col28,#T_630a5_row13_col39,#T_630a5_row14_col39,#T_630a5_row18_col43,#T_630a5_row19_col4,#T_630a5_row19_col27,#T_630a5_row22_col10,#T_630a5_row24_col35,#T_630a5_row26_col35,#T_630a5_row36_col45,#T_630a5_row39_col2,#T_630a5_row39_col24,#T_630a5_row40_col3,#T_630a5_row45_col0,#T_630a5_row50_col51,#T_630a5_row51_col46{\n",
       "            background-color:  #8db0fe;\n",
       "            color:  #000000;\n",
       "        }#T_630a5_row1_col10,#T_630a5_row1_col43,#T_630a5_row4_col49,#T_630a5_row5_col40,#T_630a5_row9_col35,#T_630a5_row16_col36,#T_630a5_row18_col33,#T_630a5_row19_col40,#T_630a5_row20_col32,#T_630a5_row21_col31,#T_630a5_row23_col9,#T_630a5_row25_col23,#T_630a5_row25_col42,#T_630a5_row27_col23,#T_630a5_row27_col42,#T_630a5_row30_col44,#T_630a5_row33_col13,#T_630a5_row34_col19,#T_630a5_row38_col15,#T_630a5_row40_col16,#T_630a5_row43_col5,#T_630a5_row46_col1,#T_630a5_row46_col47,#T_630a5_row47_col35,#T_630a5_row48_col19,#T_630a5_row48_col45{\n",
       "            background-color:  #7da0f9;\n",
       "            color:  #000000;\n",
       "        }#T_630a5_row1_col11,#T_630a5_row1_col29,#T_630a5_row5_col4,#T_630a5_row5_col10,#T_630a5_row5_col29,#T_630a5_row9_col41,#T_630a5_row9_col43,#T_630a5_row9_col47,#T_630a5_row11_col39,#T_630a5_row12_col18,#T_630a5_row15_col0,#T_630a5_row25_col1,#T_630a5_row25_col13,#T_630a5_row29_col0,#T_630a5_row29_col18,#T_630a5_row33_col35,#T_630a5_row37_col0,#T_630a5_row37_col5,#T_630a5_row37_col12,#T_630a5_row38_col51,#T_630a5_row48_col15,#T_630a5_row49_col41{\n",
       "            background-color:  #779af7;\n",
       "            color:  #000000;\n",
       "        }#T_630a5_row1_col12,#T_630a5_row1_col13,#T_630a5_row12_col13{\n",
       "            background-color:  #f3c7b1;\n",
       "            color:  #000000;\n",
       "        }#T_630a5_row1_col14,#T_630a5_row4_col17,#T_630a5_row5_col12,#T_630a5_row10_col19,#T_630a5_row13_col21,#T_630a5_row19_col13,#T_630a5_row20_col42,#T_630a5_row34_col6,#T_630a5_row34_col18,#T_630a5_row44_col14,#T_630a5_row44_col16,#T_630a5_row46_col27,#T_630a5_row46_col38,#T_630a5_row47_col16{\n",
       "            background-color:  #bbd1f8;\n",
       "            color:  #000000;\n",
       "        }#T_630a5_row1_col15,#T_630a5_row2_col31,#T_630a5_row3_col4,#T_630a5_row3_col12,#T_630a5_row5_col15,#T_630a5_row7_col24,#T_630a5_row10_col14,#T_630a5_row10_col16,#T_630a5_row11_col7,#T_630a5_row11_col25,#T_630a5_row16_col2,#T_630a5_row16_col42,#T_630a5_row34_col14,#T_630a5_row34_col43,#T_630a5_row36_col43,#T_630a5_row36_col47,#T_630a5_row37_col21,#T_630a5_row40_col20,#T_630a5_row42_col5,#T_630a5_row43_col13,#T_630a5_row43_col31,#T_630a5_row47_col1,#T_630a5_row47_col38,#T_630a5_row49_col1,#T_630a5_row49_col17,#T_630a5_row51_col15,#T_630a5_row51_col42{\n",
       "            background-color:  #94b6ff;\n",
       "            color:  #000000;\n",
       "        }#T_630a5_row1_col17,#T_630a5_row8_col26,#T_630a5_row8_col40,#T_630a5_row15_col23,#T_630a5_row22_col1,#T_630a5_row24_col33,#T_630a5_row40_col39,#T_630a5_row46_col32,#T_630a5_row50_col29{\n",
       "            background-color:  #edd1c2;\n",
       "            color:  #000000;\n",
       "        }#T_630a5_row1_col18,#T_630a5_row7_col13,#T_630a5_row10_col24,#T_630a5_row23_col19,#T_630a5_row32_col40,#T_630a5_row38_col46,#T_630a5_row51_col47{\n",
       "            background-color:  #ccd9ed;\n",
       "            color:  #000000;\n",
       "        }#T_630a5_row1_col19,#T_630a5_row8_col24,#T_630a5_row34_col32,#T_630a5_row38_col42,#T_630a5_row40_col4,#T_630a5_row44_col22,#T_630a5_row48_col29{\n",
       "            background-color:  #dcdddd;\n",
       "            color:  #000000;\n",
       "        }#T_630a5_row1_col20,#T_630a5_row4_col24,#T_630a5_row10_col12,#T_630a5_row20_col13,#T_630a5_row27_col6,#T_630a5_row34_col25,#T_630a5_row34_col38,#T_630a5_row36_col31,#T_630a5_row42_col16{\n",
       "            background-color:  #c7d7f0;\n",
       "            color:  #000000;\n",
       "        }#T_630a5_row1_col21,#T_630a5_row4_col36,#T_630a5_row19_col22,#T_630a5_row29_col8,#T_630a5_row31_col40,#T_630a5_row31_col48,#T_630a5_row33_col40,#T_630a5_row40_col26,#T_630a5_row40_col29,#T_630a5_row40_col32,#T_630a5_row48_col25{\n",
       "            background-color:  #e0dbd8;\n",
       "            color:  #000000;\n",
       "        }#T_630a5_row1_col22,#T_630a5_row6_col50,#T_630a5_row8_col31,#T_630a5_row17_col1,#T_630a5_row21_col20,#T_630a5_row25_col24,#T_630a5_row27_col24,#T_630a5_row44_col40{\n",
       "            background-color:  #f2c9b4;\n",
       "            color:  #000000;\n",
       "        }#T_630a5_row1_col24,#T_630a5_row15_col17,#T_630a5_row16_col30,#T_630a5_row23_col17,#T_630a5_row24_col18,#T_630a5_row26_col15,#T_630a5_row28_col16,#T_630a5_row28_col20,#T_630a5_row32_col12,#T_630a5_row39_col46,#T_630a5_row45_col4,#T_630a5_row50_col5,#T_630a5_row50_col41{\n",
       "            background-color:  #4257c9;\n",
       "            color:  #f1f1f1;\n",
       "        }#T_630a5_row1_col26,#T_630a5_row2_col3,#T_630a5_row3_col28,#T_630a5_row3_col34,#T_630a5_row14_col7,#T_630a5_row14_col27,#T_630a5_row15_col12,#T_630a5_row15_col31,#T_630a5_row16_col32,#T_630a5_row17_col35,#T_630a5_row18_col2,#T_630a5_row18_col26,#T_630a5_row20_col26,#T_630a5_row23_col33,#T_630a5_row23_col46,#T_630a5_row24_col16,#T_630a5_row24_col22,#T_630a5_row26_col45,#T_630a5_row27_col5,#T_630a5_row31_col15,#T_630a5_row32_col3,#T_630a5_row33_col5,#T_630a5_row37_col38,#T_630a5_row37_col44,#T_630a5_row45_col29,#T_630a5_row48_col9,#T_630a5_row50_col49{\n",
       "            background-color:  #536edd;\n",
       "            color:  #000000;\n",
       "        }#T_630a5_row1_col30,#T_630a5_row1_col32,#T_630a5_row2_col34,#T_630a5_row2_col36,#T_630a5_row2_col43,#T_630a5_row2_col44,#T_630a5_row2_col47,#T_630a5_row2_col48,#T_630a5_row2_col49,#T_630a5_row2_col51,#T_630a5_row3_col2,#T_630a5_row3_col11,#T_630a5_row3_col24,#T_630a5_row3_col25,#T_630a5_row3_col27,#T_630a5_row3_col29,#T_630a5_row3_col31,#T_630a5_row3_col33,#T_630a5_row3_col35,#T_630a5_row15_col6,#T_630a5_row15_col10,#T_630a5_row15_col40,#T_630a5_row16_col46,#T_630a5_row22_col24,#T_630a5_row22_col26,#T_630a5_row22_col28,#T_630a5_row22_col29,#T_630a5_row22_col37,#T_630a5_row23_col8,#T_630a5_row23_col12,#T_630a5_row23_col24,#T_630a5_row23_col38,#T_630a5_row23_col50,#T_630a5_row24_col42,#T_630a5_row26_col0,#T_630a5_row26_col3,#T_630a5_row26_col7,#T_630a5_row26_col9,#T_630a5_row26_col13,#T_630a5_row26_col18,#T_630a5_row26_col20,#T_630a5_row26_col42,#T_630a5_row28_col0,#T_630a5_row28_col5,#T_630a5_row28_col9,#T_630a5_row28_col15,#T_630a5_row28_col19,#T_630a5_row28_col21,#T_630a5_row28_col22,#T_630a5_row28_col42,#T_630a5_row30_col7,#T_630a5_row32_col0,#T_630a5_row32_col1,#T_630a5_row37_col4,#T_630a5_row45_col17,#T_630a5_row45_col40,#T_630a5_row46_col39,#T_630a5_row46_col41,#T_630a5_row50_col9,#T_630a5_row50_col14,#T_630a5_row50_col16,#T_630a5_row50_col23,#T_630a5_row50_col45{\n",
       "            background-color:  #3b4cc0;\n",
       "            color:  #f1f1f1;\n",
       "        }#T_630a5_row1_col35,#T_630a5_row6_col7,#T_630a5_row7_col4,#T_630a5_row14_col24,#T_630a5_row16_col49,#T_630a5_row23_col35,#T_630a5_row24_col21,#T_630a5_row30_col3,#T_630a5_row32_col9,#T_630a5_row35_col49,#T_630a5_row37_col7,#T_630a5_row48_col2,#T_630a5_row48_col7,#T_630a5_row51_col7{\n",
       "            background-color:  #4c66d6;\n",
       "            color:  #000000;\n",
       "        }#T_630a5_row1_col36,#T_630a5_row1_col44,#T_630a5_row8_col12,#T_630a5_row12_col40,#T_630a5_row13_col16,#T_630a5_row13_col19,#T_630a5_row29_col17,#T_630a5_row31_col38,#T_630a5_row39_col13,#T_630a5_row44_col12,#T_630a5_row47_col20,#T_630a5_row47_col50,#T_630a5_row50_col38{\n",
       "            background-color:  #afcafc;\n",
       "            color:  #000000;\n",
       "        }#T_630a5_row1_col37,#T_630a5_row2_col6,#T_630a5_row4_col7,#T_630a5_row12_col45,#T_630a5_row16_col31,#T_630a5_row16_col33,#T_630a5_row16_col48,#T_630a5_row22_col33,#T_630a5_row28_col7,#T_630a5_row30_col5{\n",
       "            background-color:  #445acc;\n",
       "            color:  #f1f1f1;\n",
       "        }#T_630a5_row1_col38,#T_630a5_row5_col17,#T_630a5_row9_col12,#T_630a5_row17_col3,#T_630a5_row33_col17,#T_630a5_row38_col22,#T_630a5_row41_col13,#T_630a5_row41_col21,#T_630a5_row42_col13,#T_630a5_row43_col28,#T_630a5_row46_col29,#T_630a5_row47_col14,#T_630a5_row49_col3{\n",
       "            background-color:  #b2ccfb;\n",
       "            color:  #000000;\n",
       "        }#T_630a5_row1_col39,#T_630a5_row7_col27,#T_630a5_row11_col14,#T_630a5_row11_col31,#T_630a5_row13_col7,#T_630a5_row13_col36,#T_630a5_row19_col10,#T_630a5_row19_col25,#T_630a5_row21_col39,#T_630a5_row21_col41,#T_630a5_row25_col2,#T_630a5_row27_col2,#T_630a5_row36_col5,#T_630a5_row37_col29,#T_630a5_row39_col3,#T_630a5_row42_col47,#T_630a5_row43_col25,#T_630a5_row43_col27,#T_630a5_row47_col5,#T_630a5_row49_col12,#T_630a5_row49_col15,#T_630a5_row49_col36,#T_630a5_row49_col46{\n",
       "            background-color:  #92b4fe;\n",
       "            color:  #000000;\n",
       "        }#T_630a5_row1_col42,#T_630a5_row7_col1,#T_630a5_row13_col20,#T_630a5_row23_col21,#T_630a5_row34_col26,#T_630a5_row35_col28,#T_630a5_row35_col36,#T_630a5_row38_col4,#T_630a5_row42_col19{\n",
       "            background-color:  #c6d6f1;\n",
       "            color:  #000000;\n",
       "        }#T_630a5_row1_col45,#T_630a5_row4_col9,#T_630a5_row7_col48,#T_630a5_row9_col8,#T_630a5_row10_col9,#T_630a5_row11_col0,#T_630a5_row11_col3,#T_630a5_row22_col43,#T_630a5_row28_col36,#T_630a5_row30_col23,#T_630a5_row31_col23,#T_630a5_row32_col18,#T_630a5_row32_col42,#T_630a5_row34_col12,#T_630a5_row34_col39,#T_630a5_row49_col2,#T_630a5_row50_col13,#T_630a5_row51_col5{\n",
       "            background-color:  #7699f6;\n",
       "            color:  #000000;\n",
       "        }#T_630a5_row1_col46,#T_630a5_row8_col37,#T_630a5_row9_col49,#T_630a5_row12_col35,#T_630a5_row14_col5,#T_630a5_row16_col51,#T_630a5_row17_col34,#T_630a5_row17_col51,#T_630a5_row19_col24,#T_630a5_row20_col12,#T_630a5_row20_col37,#T_630a5_row21_col28,#T_630a5_row22_col8,#T_630a5_row22_col48,#T_630a5_row24_col23,#T_630a5_row28_col39,#T_630a5_row28_col47,#T_630a5_row31_col16,#T_630a5_row32_col15,#T_630a5_row34_col7,#T_630a5_row35_col38,#T_630a5_row36_col41,#T_630a5_row40_col45,#T_630a5_row41_col43,#T_630a5_row42_col2,#T_630a5_row43_col6,#T_630a5_row43_col10{\n",
       "            background-color:  #5d7ce6;\n",
       "            color:  #000000;\n",
       "        }#T_630a5_row1_col47,#T_630a5_row4_col37,#T_630a5_row13_col32,#T_630a5_row16_col8,#T_630a5_row17_col45,#T_630a5_row20_col11,#T_630a5_row24_col5,#T_630a5_row31_col7,#T_630a5_row44_col35,#T_630a5_row45_col38{\n",
       "            background-color:  #4a63d3;\n",
       "            color:  #f1f1f1;\n",
       "        }#T_630a5_row1_col48,#T_630a5_row3_col6,#T_630a5_row7_col30,#T_630a5_row8_col45,#T_630a5_row9_col31,#T_630a5_row14_col13,#T_630a5_row14_col36,#T_630a5_row15_col41,#T_630a5_row19_col36,#T_630a5_row19_col39,#T_630a5_row29_col23,#T_630a5_row37_col2,#T_630a5_row46_col13,#T_630a5_row49_col4,#T_630a5_row51_col0,#T_630a5_row51_col34{\n",
       "            background-color:  #85a8fc;\n",
       "            color:  #000000;\n",
       "        }#T_630a5_row1_col49,#T_630a5_row13_col35,#T_630a5_row14_col6,#T_630a5_row15_col8,#T_630a5_row15_col29,#T_630a5_row15_col49,#T_630a5_row16_col26,#T_630a5_row16_col27,#T_630a5_row16_col50,#T_630a5_row20_col5,#T_630a5_row23_col28,#T_630a5_row24_col15,#T_630a5_row26_col16,#T_630a5_row33_col3{\n",
       "            background-color:  #4961d2;\n",
       "            color:  #f1f1f1;\n",
       "        }#T_630a5_row1_col50,#T_630a5_row3_col46,#T_630a5_row8_col51,#T_630a5_row12_col9,#T_630a5_row20_col39,#T_630a5_row24_col34,#T_630a5_row26_col34,#T_630a5_row27_col19,#T_630a5_row28_col38,#T_630a5_row31_col2,#T_630a5_row38_col14,#T_630a5_row38_col47,#T_630a5_row46_col43,#T_630a5_row48_col21,#T_630a5_row49_col6,#T_630a5_row49_col10,#T_630a5_row49_col40,#T_630a5_row51_col12{\n",
       "            background-color:  #86a9fc;\n",
       "            color:  #000000;\n",
       "        }#T_630a5_row1_col51,#T_630a5_row7_col10,#T_630a5_row8_col5,#T_630a5_row11_col51,#T_630a5_row13_col43,#T_630a5_row13_col47,#T_630a5_row24_col17,#T_630a5_row27_col49,#T_630a5_row30_col16,#T_630a5_row30_col22,#T_630a5_row31_col0,#T_630a5_row31_col39,#T_630a5_row31_col47,#T_630a5_row33_col41,#T_630a5_row33_col49,#T_630a5_row39_col48,#T_630a5_row41_col37,#T_630a5_row43_col51,#T_630a5_row44_col7{\n",
       "            background-color:  #5a78e4;\n",
       "            color:  #000000;\n",
       "        }#T_630a5_row2_col0,#T_630a5_row2_col25,#T_630a5_row5_col2,#T_630a5_row5_col50,#T_630a5_row7_col19,#T_630a5_row7_col26,#T_630a5_row8_col1,#T_630a5_row12_col5,#T_630a5_row12_col38,#T_630a5_row12_col42,#T_630a5_row14_col42,#T_630a5_row17_col18,#T_630a5_row19_col8,#T_630a5_row19_col29,#T_630a5_row20_col34,#T_630a5_row22_col36,#T_630a5_row31_col44,#T_630a5_row33_col12,#T_630a5_row33_col42,#T_630a5_row37_col25,#T_630a5_row37_col27,#T_630a5_row39_col26,#T_630a5_row39_col30,#T_630a5_row43_col0,#T_630a5_row43_col19,#T_630a5_row43_col32,#T_630a5_row49_col33{\n",
       "            background-color:  #9bbcff;\n",
       "            color:  #000000;\n",
       "        }#T_630a5_row2_col1,#T_630a5_row4_col29,#T_630a5_row5_col1,#T_630a5_row11_col22,#T_630a5_row20_col36,#T_630a5_row26_col48,#T_630a5_row31_col10,#T_630a5_row38_col26,#T_630a5_row38_col34{\n",
       "            background-color:  #cad8ef;\n",
       "            color:  #000000;\n",
       "        }#T_630a5_row2_col4,#T_630a5_row13_col24,#T_630a5_row15_col33,#T_630a5_row16_col24,#T_630a5_row18_col9,#T_630a5_row22_col27,#T_630a5_row23_col26,#T_630a5_row23_col40,#T_630a5_row26_col22,#T_630a5_row28_col18,#T_630a5_row30_col13,#T_630a5_row37_col6,#T_630a5_row37_col10,#T_630a5_row45_col6{\n",
       "            background-color:  #3f53c6;\n",
       "            color:  #f1f1f1;\n",
       "        }#T_630a5_row2_col5,#T_630a5_row2_col39,#T_630a5_row5_col30,#T_630a5_row5_col41,#T_630a5_row5_col43,#T_630a5_row6_col15,#T_630a5_row6_col45,#T_630a5_row7_col44,#T_630a5_row9_col10,#T_630a5_row10_col15,#T_630a5_row11_col8,#T_630a5_row11_col34,#T_630a5_row11_col42,#T_630a5_row11_col46,#T_630a5_row18_col32,#T_630a5_row20_col8,#T_630a5_row21_col40,#T_630a5_row26_col37,#T_630a5_row27_col13,#T_630a5_row28_col37,#T_630a5_row31_col19,#T_630a5_row33_col1,#T_630a5_row34_col51,#T_630a5_row35_col5,#T_630a5_row38_col5,#T_630a5_row41_col25,#T_630a5_row41_col27,#T_630a5_row44_col5,#T_630a5_row44_col49,#T_630a5_row45_col32,#T_630a5_row45_col47,#T_630a5_row47_col11,#T_630a5_row47_col37,#T_630a5_row49_col34,#T_630a5_row49_col38{\n",
       "            background-color:  #799cf8;\n",
       "            color:  #000000;\n",
       "        }#T_630a5_row2_col9,#T_630a5_row2_col40,#T_630a5_row3_col41,#T_630a5_row3_col49,#T_630a5_row4_col41,#T_630a5_row7_col35,#T_630a5_row11_col6,#T_630a5_row11_col35,#T_630a5_row12_col39,#T_630a5_row12_col48,#T_630a5_row13_col10,#T_630a5_row14_col37,#T_630a5_row17_col32,#T_630a5_row18_col10,#T_630a5_row19_col48,#T_630a5_row21_col9,#T_630a5_row21_col37,#T_630a5_row25_col11,#T_630a5_row26_col17,#T_630a5_row26_col36,#T_630a5_row26_col47,#T_630a5_row27_col18,#T_630a5_row30_col11,#T_630a5_row30_col12,#T_630a5_row37_col9,#T_630a5_row38_col11,#T_630a5_row38_col49,#T_630a5_row39_col9,#T_630a5_row45_col30,#T_630a5_row45_col50,#T_630a5_row46_col49,#T_630a5_row49_col39,#T_630a5_row49_col43{\n",
       "            background-color:  #6788ee;\n",
       "            color:  #000000;\n",
       "        }#T_630a5_row2_col10,#T_630a5_row2_col42,#T_630a5_row8_col7,#T_630a5_row16_col4,#T_630a5_row22_col25,#T_630a5_row23_col6,#T_630a5_row28_col1,#T_630a5_row28_col14,#T_630a5_row30_col9,#T_630a5_row35_col4,#T_630a5_row45_col10{\n",
       "            background-color:  #4055c8;\n",
       "            color:  #f1f1f1;\n",
       "        }#T_630a5_row2_col16,#T_630a5_row4_col1,#T_630a5_row5_col16,#T_630a5_row10_col1,#T_630a5_row36_col16,#T_630a5_row37_col50,#T_630a5_row38_col13,#T_630a5_row38_col17,#T_630a5_row38_col21,#T_630a5_row39_col14,#T_630a5_row41_col14,#T_630a5_row45_col42,#T_630a5_row47_col24{\n",
       "            background-color:  #b5cdfa;\n",
       "            color:  #000000;\n",
       "        }#T_630a5_row2_col17,#T_630a5_row6_col21,#T_630a5_row19_col2,#T_630a5_row21_col15,#T_630a5_row22_col42,#T_630a5_row28_col40,#T_630a5_row30_col4,#T_630a5_row31_col46,#T_630a5_row32_col10,#T_630a5_row38_col29{\n",
       "            background-color:  #c0d4f5;\n",
       "            color:  #000000;\n",
       "        }#T_630a5_row2_col18,#T_630a5_row2_col37,#T_630a5_row4_col39,#T_630a5_row6_col43,#T_630a5_row11_col47,#T_630a5_row13_col46,#T_630a5_row14_col35,#T_630a5_row15_col50,#T_630a5_row18_col27,#T_630a5_row18_col38,#T_630a5_row19_col28,#T_630a5_row19_col49,#T_630a5_row20_col6,#T_630a5_row23_col34,#T_630a5_row24_col39,#T_630a5_row24_col41,#T_630a5_row27_col47,#T_630a5_row28_col12,#T_630a5_row28_col43,#T_630a5_row30_col49,#T_630a5_row32_col43,#T_630a5_row33_col16,#T_630a5_row33_col43,#T_630a5_row35_col47,#T_630a5_row37_col47,#T_630a5_row38_col7,#T_630a5_row40_col15,#T_630a5_row43_col2,#T_630a5_row45_col49,#T_630a5_row46_col11,#T_630a5_row46_col19,#T_630a5_row48_col11,#T_630a5_row49_col11,#T_630a5_row50_col43{\n",
       "            background-color:  #6384eb;\n",
       "            color:  #000000;\n",
       "        }#T_630a5_row2_col20,#T_630a5_row7_col6,#T_630a5_row14_col8,#T_630a5_row14_col51,#T_630a5_row15_col28,#T_630a5_row15_col34,#T_630a5_row18_col37,#T_630a5_row21_col34,#T_630a5_row24_col51,#T_630a5_row26_col43,#T_630a5_row29_col47,#T_630a5_row30_col20,#T_630a5_row31_col14,#T_630a5_row31_col41,#T_630a5_row31_col49,#T_630a5_row35_col51,#T_630a5_row37_col51,#T_630a5_row38_col37,#T_630a5_row39_col37,#T_630a5_row39_col47,#T_630a5_row41_col49{\n",
       "            background-color:  #5977e3;\n",
       "            color:  #000000;\n",
       "        }#T_630a5_row2_col21,#T_630a5_row4_col21,#T_630a5_row6_col17,#T_630a5_row6_col34,#T_630a5_row9_col13,#T_630a5_row10_col17,#T_630a5_row11_col23,#T_630a5_row21_col13,#T_630a5_row21_col45,#T_630a5_row22_col18,#T_630a5_row31_col34,#T_630a5_row32_col6,#T_630a5_row36_col0,#T_630a5_row36_col32,#T_630a5_row37_col36{\n",
       "            background-color:  #c1d4f4;\n",
       "            color:  #000000;\n",
       "        }#T_630a5_row2_col22,#T_630a5_row7_col17,#T_630a5_row7_col50,#T_630a5_row9_col16,#T_630a5_row17_col40,#T_630a5_row19_col42,#T_630a5_row22_col44,#T_630a5_row36_col14,#T_630a5_row40_col13,#T_630a5_row41_col1,#T_630a5_row43_col1,#T_630a5_row51_col16,#T_630a5_row51_col21{\n",
       "            background-color:  #b1cbfc;\n",
       "            color:  #000000;\n",
       "        }#T_630a5_row2_col27,#T_630a5_row5_col36,#T_630a5_row5_col42,#T_630a5_row6_col18,#T_630a5_row18_col48,#T_630a5_row19_col15,#T_630a5_row25_col38,#T_630a5_row35_col33,#T_630a5_row39_col19,#T_630a5_row39_col28,#T_630a5_row41_col30,#T_630a5_row44_col15,#T_630a5_row51_col1,#T_630a5_row51_col30{\n",
       "            background-color:  #9dbdff;\n",
       "            color:  #000000;\n",
       "        }#T_630a5_row2_col28,#T_630a5_row7_col12,#T_630a5_row7_col21,#T_630a5_row11_col13,#T_630a5_row12_col29,#T_630a5_row25_col17,#T_630a5_row27_col17,#T_630a5_row31_col36,#T_630a5_row33_col36,#T_630a5_row35_col30,#T_630a5_row41_col32,#T_630a5_row44_col25,#T_630a5_row44_col27,#T_630a5_row44_col32,#T_630a5_row49_col13,#T_630a5_row49_col16{\n",
       "            background-color:  #aac7fd;\n",
       "            color:  #000000;\n",
       "        }#T_630a5_row2_col30,#T_630a5_row8_col18,#T_630a5_row9_col32,#T_630a5_row14_col44,#T_630a5_row15_col42,#T_630a5_row18_col34,#T_630a5_row33_col2,#T_630a5_row34_col15,#T_630a5_row35_col19,#T_630a5_row36_col12,#T_630a5_row37_col20,#T_630a5_row40_col23,#T_630a5_row43_col7,#T_630a5_row45_col22,#T_630a5_row47_col34,#T_630a5_row48_col13,#T_630a5_row49_col0,#T_630a5_row51_col10,#T_630a5_row51_col40{\n",
       "            background-color:  #8fb1fe;\n",
       "            color:  #000000;\n",
       "        }#T_630a5_row2_col33,#T_630a5_row4_col0,#T_630a5_row7_col2,#T_630a5_row8_col20,#T_630a5_row8_col22,#T_630a5_row9_col28,#T_630a5_row13_col50,#T_630a5_row15_col1,#T_630a5_row17_col4,#T_630a5_row20_col43,#T_630a5_row21_col10,#T_630a5_row21_col50,#T_630a5_row26_col4,#T_630a5_row31_col12,#T_630a5_row32_col38,#T_630a5_row35_col21,#T_630a5_row35_col29,#T_630a5_row36_col15,#T_630a5_row37_col33,#T_630a5_row39_col50,#T_630a5_row40_col18,#T_630a5_row40_col19,#T_630a5_row41_col45,#T_630a5_row42_col30,#T_630a5_row49_col8,#T_630a5_row51_col25,#T_630a5_row51_col27{\n",
       "            background-color:  #97b8ff;\n",
       "            color:  #000000;\n",
       "        }#T_630a5_row2_col38,#T_630a5_row10_col43,#T_630a5_row13_col49,#T_630a5_row15_col37,#T_630a5_row22_col38,#T_630a5_row24_col49,#T_630a5_row27_col22,#T_630a5_row29_col22,#T_630a5_row31_col22,#T_630a5_row31_col51,#T_630a5_row32_col2,#T_630a5_row32_col51,#T_630a5_row34_col2,#T_630a5_row35_col11,#T_630a5_row37_col40,#T_630a5_row37_col41,#T_630a5_row40_col7,#T_630a5_row41_col9,#T_630a5_row41_col35,#T_630a5_row41_col48,#T_630a5_row44_col11,#T_630a5_row45_col13,#T_630a5_row45_col24,#T_630a5_row45_col48,#T_630a5_row46_col35,#T_630a5_row50_col1{\n",
       "            background-color:  #6282ea;\n",
       "            color:  #000000;\n",
       "        }#T_630a5_row2_col45,#T_630a5_row8_col43,#T_630a5_row11_col44,#T_630a5_row12_col20,#T_630a5_row16_col37,#T_630a5_row18_col12,#T_630a5_row19_col30,#T_630a5_row20_col10,#T_630a5_row20_col33,#T_630a5_row20_col51,#T_630a5_row21_col48,#T_630a5_row22_col46,#T_630a5_row25_col18,#T_630a5_row28_col11,#T_630a5_row31_col37,#T_630a5_row33_col22,#T_630a5_row35_col9,#T_630a5_row36_col7,#T_630a5_row38_col9,#T_630a5_row39_col11,#T_630a5_row40_col11,#T_630a5_row43_col37,#T_630a5_row43_col38,#T_630a5_row43_col41,#T_630a5_row46_col51,#T_630a5_row51_col11{\n",
       "            background-color:  #6a8bef;\n",
       "            color:  #000000;\n",
       "        }#T_630a5_row2_col46,#T_630a5_row3_col30,#T_630a5_row3_col37,#T_630a5_row14_col38,#T_630a5_row14_col40,#T_630a5_row15_col38,#T_630a5_row16_col38,#T_630a5_row22_col31,#T_630a5_row24_col20,#T_630a5_row31_col3,#T_630a5_row39_col49{\n",
       "            background-color:  #4358cb;\n",
       "            color:  #f1f1f1;\n",
       "        }#T_630a5_row2_col50,#T_630a5_row23_col0,#T_630a5_row29_col10,#T_630a5_row34_col10,#T_630a5_row34_col24,#T_630a5_row35_col24,#T_630a5_row42_col31,#T_630a5_row42_col33,#T_630a5_row43_col50,#T_630a5_row44_col13,#T_630a5_row44_col21,#T_630a5_row45_col3,#T_630a5_row47_col8,#T_630a5_row47_col28,#T_630a5_row49_col26,#T_630a5_row49_col50{\n",
       "            background-color:  #b9d0f9;\n",
       "            color:  #000000;\n",
       "        }#T_630a5_row3_col0,#T_630a5_row5_col22,#T_630a5_row6_col40,#T_630a5_row8_col27,#T_630a5_row16_col19,#T_630a5_row24_col25,#T_630a5_row24_col27,#T_630a5_row28_col29,#T_630a5_row28_col33,#T_630a5_row46_col42,#T_630a5_row50_col25,#T_630a5_row50_col27{\n",
       "            background-color:  #f1ccb8;\n",
       "            color:  #000000;\n",
       "        }#T_630a5_row3_col1,#T_630a5_row4_col19,#T_630a5_row17_col29,#T_630a5_row21_col2,#T_630a5_row36_col37,#T_630a5_row37_col26,#T_630a5_row43_col3,#T_630a5_row43_col14,#T_630a5_row44_col19,#T_630a5_row47_col3{\n",
       "            background-color:  #bad0f8;\n",
       "            color:  #000000;\n",
       "        }#T_630a5_row3_col5,#T_630a5_row3_col38,#T_630a5_row14_col4,#T_630a5_row15_col24,#T_630a5_row18_col5,#T_630a5_row19_col46,#T_630a5_row23_col30,#T_630a5_row25_col7,#T_630a5_row25_col9,#T_630a5_row26_col19,#T_630a5_row39_col6,#T_630a5_row42_col37,#T_630a5_row45_col9{\n",
       "            background-color:  #4f69d9;\n",
       "            color:  #000000;\n",
       "        }#T_630a5_row3_col7,#T_630a5_row3_col32,#T_630a5_row10_col7,#T_630a5_row14_col10,#T_630a5_row14_col31,#T_630a5_row14_col49,#T_630a5_row23_col31,#T_630a5_row23_col49,#T_630a5_row24_col44,#T_630a5_row26_col23,#T_630a5_row26_col44,#T_630a5_row27_col9,#T_630a5_row32_col17,#T_630a5_row32_col19,#T_630a5_row33_col7,#T_630a5_row33_col9,#T_630a5_row35_col44,#T_630a5_row37_col49,#T_630a5_row46_col9{\n",
       "            background-color:  #4e68d8;\n",
       "            color:  #000000;\n",
       "        }#T_630a5_row3_col9,#T_630a5_row16_col10,#T_630a5_row24_col0,#T_630a5_row24_col1,#T_630a5_row24_col3,#T_630a5_row30_col0,#T_630a5_row45_col7,#T_630a5_row45_col12{\n",
       "            background-color:  #3e51c5;\n",
       "            color:  #f1f1f1;\n",
       "        }#T_630a5_row3_col10,#T_630a5_row5_col3,#T_630a5_row5_col28,#T_630a5_row5_col45,#T_630a5_row6_col51,#T_630a5_row7_col29,#T_630a5_row10_col51,#T_630a5_row11_col17,#T_630a5_row13_col14,#T_630a5_row13_col40,#T_630a5_row16_col12,#T_630a5_row19_col6,#T_630a5_row22_col7,#T_630a5_row23_col44,#T_630a5_row25_col19,#T_630a5_row25_col21,#T_630a5_row29_col21,#T_630a5_row35_col15,#T_630a5_row37_col18,#T_630a5_row37_col19,#T_630a5_row50_col2{\n",
       "            background-color:  #8caffe;\n",
       "            color:  #000000;\n",
       "        }#T_630a5_row3_col13,#T_630a5_row6_col22,#T_630a5_row29_col48,#T_630a5_row38_col33,#T_630a5_row47_col51{\n",
       "            background-color:  #cfdaea;\n",
       "            color:  #000000;\n",
       "        }#T_630a5_row3_col14,#T_630a5_row22_col23,#T_630a5_row50_col31{\n",
       "            background-color:  #f4c5ad;\n",
       "            color:  #000000;\n",
       "        }#T_630a5_row3_col16,#T_630a5_row22_col3,#T_630a5_row24_col31,#T_630a5_row34_col48,#T_630a5_row40_col31,#T_630a5_row48_col32,#T_630a5_row48_col38{\n",
       "            background-color:  #eed0c0;\n",
       "            color:  #000000;\n",
       "        }#T_630a5_row3_col17,#T_630a5_row4_col16,#T_630a5_row5_col14,#T_630a5_row7_col18,#T_630a5_row9_col14,#T_630a5_row17_col42,#T_630a5_row19_col33,#T_630a5_row19_col50,#T_630a5_row24_col10,#T_630a5_row29_col19,#T_630a5_row29_col38,#T_630a5_row35_col14,#T_630a5_row36_col24,#T_630a5_row37_col31,#T_630a5_row38_col18,#T_630a5_row40_col21,#T_630a5_row43_col24,#T_630a5_row45_col44,#T_630a5_row48_col22,#T_630a5_row49_col48,#T_630a5_row51_col36,#T_630a5_row51_col45{\n",
       "            background-color:  #9abbff;\n",
       "            color:  #000000;\n",
       "        }#T_630a5_row3_col18,#T_630a5_row18_col0,#T_630a5_row25_col26,#T_630a5_row27_col26,#T_630a5_row42_col36,#T_630a5_row44_col46{\n",
       "            background-color:  #f7af91;\n",
       "            color:  #000000;\n",
       "        }#T_630a5_row3_col19,#T_630a5_row30_col46,#T_630a5_row34_col31,#T_630a5_row36_col6,#T_630a5_row36_col10,#T_630a5_row36_col20,#T_630a5_row36_col38,#T_630a5_row42_col1,#T_630a5_row44_col8,#T_630a5_row45_col15,#T_630a5_row45_col20,#T_630a5_row48_col4{\n",
       "            background-color:  #dedcdb;\n",
       "            color:  #000000;\n",
       "        }#T_630a5_row3_col20,#T_630a5_row14_col19,#T_630a5_row40_col48{\n",
       "            background-color:  #f7aa8c;\n",
       "            color:  #000000;\n",
       "        }#T_630a5_row3_col21,#T_630a5_row10_col33,#T_630a5_row16_col0,#T_630a5_row19_col3,#T_630a5_row44_col10,#T_630a5_row48_col10,#T_630a5_row48_col26{\n",
       "            background-color:  #e6d7cf;\n",
       "            color:  #000000;\n",
       "        }#T_630a5_row3_col23,#T_630a5_row21_col0,#T_630a5_row26_col33,#T_630a5_row28_col27{\n",
       "            background-color:  #f5c2aa;\n",
       "            color:  #000000;\n",
       "        }#T_630a5_row3_col26,#T_630a5_row6_col37,#T_630a5_row7_col49,#T_630a5_row10_col37,#T_630a5_row11_col49,#T_630a5_row12_col34,#T_630a5_row15_col25,#T_630a5_row16_col25,#T_630a5_row16_col29,#T_630a5_row17_col37,#T_630a5_row18_col11,#T_630a5_row24_col19,#T_630a5_row27_col7,#T_630a5_row28_col45,#T_630a5_row29_col3,#T_630a5_row29_col5,#T_630a5_row29_col7,#T_630a5_row31_col5,#T_630a5_row32_col13,#T_630a5_row35_col7,#T_630a5_row44_col37,#T_630a5_row49_col7,#T_630a5_row50_col39{\n",
       "            background-color:  #4b64d5;\n",
       "            color:  #f1f1f1;\n",
       "        }#T_630a5_row3_col36,#T_630a5_row3_col45,#T_630a5_row4_col34,#T_630a5_row8_col17,#T_630a5_row8_col19,#T_630a5_row27_col4,#T_630a5_row36_col30,#T_630a5_row37_col24,#T_630a5_row40_col22,#T_630a5_row42_col17,#T_630a5_row51_col26{\n",
       "            background-color:  #adc9fd;\n",
       "            color:  #000000;\n",
       "        }#T_630a5_row3_col39,#T_630a5_row5_col49,#T_630a5_row8_col39,#T_630a5_row9_col51,#T_630a5_row11_col10,#T_630a5_row13_col4,#T_630a5_row13_col6,#T_630a5_row13_col8,#T_630a5_row13_col51,#T_630a5_row14_col32,#T_630a5_row14_col47,#T_630a5_row16_col35,#T_630a5_row16_col47,#T_630a5_row18_col51,#T_630a5_row19_col37,#T_630a5_row20_col38,#T_630a5_row25_col20,#T_630a5_row25_col47,#T_630a5_row27_col11,#T_630a5_row30_col47,#T_630a5_row32_col47,#T_630a5_row33_col14,#T_630a5_row37_col39,#T_630a5_row39_col7,#T_630a5_row41_col34,#T_630a5_row48_col35,#T_630a5_row49_col9,#T_630a5_row49_col37{\n",
       "            background-color:  #6687ed;\n",
       "            color:  #000000;\n",
       "        }#T_630a5_row3_col42,#T_630a5_row18_col13,#T_630a5_row18_col36,#T_630a5_row24_col48,#T_630a5_row35_col26,#T_630a5_row38_col25,#T_630a5_row38_col27,#T_630a5_row38_col32,#T_630a5_row39_col22,#T_630a5_row42_col21,#T_630a5_row42_col43,#T_630a5_row51_col23{\n",
       "            background-color:  #c5d6f2;\n",
       "            color:  #000000;\n",
       "        }#T_630a5_row3_col43,#T_630a5_row4_col5,#T_630a5_row5_col18,#T_630a5_row5_col24,#T_630a5_row5_col25,#T_630a5_row5_col27,#T_630a5_row5_col39,#T_630a5_row7_col40,#T_630a5_row7_col45,#T_630a5_row11_col36,#T_630a5_row13_col2,#T_630a5_row19_col31,#T_630a5_row23_col43,#T_630a5_row28_col4,#T_630a5_row33_col21,#T_630a5_row42_col28,#T_630a5_row47_col12,#T_630a5_row47_col17,#T_630a5_row47_col43{\n",
       "            background-color:  #84a7fc;\n",
       "            color:  #000000;\n",
       "        }#T_630a5_row3_col44,#T_630a5_row7_col9,#T_630a5_row10_col22,#T_630a5_row20_col22,#T_630a5_row21_col17,#T_630a5_row30_col6,#T_630a5_row34_col28,#T_630a5_row34_col50,#T_630a5_row40_col24,#T_630a5_row46_col4{\n",
       "            background-color:  #d1dae9;\n",
       "            color:  #000000;\n",
       "        }#T_630a5_row3_col51,#T_630a5_row5_col46,#T_630a5_row6_col41,#T_630a5_row8_col2,#T_630a5_row10_col41,#T_630a5_row13_col48,#T_630a5_row17_col41,#T_630a5_row17_col46,#T_630a5_row20_col31,#T_630a5_row22_col47,#T_630a5_row32_col22,#T_630a5_row38_col43,#T_630a5_row45_col36,#T_630a5_row46_col21,#T_630a5_row50_col19{\n",
       "            background-color:  #6b8df0;\n",
       "            color:  #000000;\n",
       "        }#T_630a5_row4_col3,#T_630a5_row4_col38,#T_630a5_row9_col7,#T_630a5_row22_col15,#T_630a5_row28_col8,#T_630a5_row33_col10,#T_630a5_row38_col28,#T_630a5_row44_col23,#T_630a5_row46_col34,#T_630a5_row47_col23,#T_630a5_row50_col10{\n",
       "            background-color:  #cbd8ee;\n",
       "            color:  #000000;\n",
       "        }#T_630a5_row4_col6,#T_630a5_row6_col4,#T_630a5_row31_col33{\n",
       "            background-color:  #be242e;\n",
       "            color:  #f1f1f1;\n",
       "        }#T_630a5_row4_col8{\n",
       "            background-color:  #e36c55;\n",
       "            color:  #000000;\n",
       "        }#T_630a5_row4_col10,#T_630a5_row10_col4{\n",
       "            background-color:  #c12b30;\n",
       "            color:  #f1f1f1;\n",
       "        }#T_630a5_row4_col12,#T_630a5_row6_col12,#T_630a5_row15_col3,#T_630a5_row18_col44,#T_630a5_row20_col1,#T_630a5_row24_col8,#T_630a5_row25_col6,#T_630a5_row34_col27,#T_630a5_row34_col30,#T_630a5_row36_col50{\n",
       "            background-color:  #c9d7f0;\n",
       "            color:  #000000;\n",
       "        }#T_630a5_row4_col13,#T_630a5_row5_col19,#T_630a5_row5_col21,#T_630a5_row8_col3,#T_630a5_row9_col17,#T_630a5_row11_col16,#T_630a5_row11_col32,#T_630a5_row12_col3,#T_630a5_row13_col5,#T_630a5_row29_col12,#T_630a5_row41_col20,#T_630a5_row43_col26,#T_630a5_row47_col25,#T_630a5_row49_col21,#T_630a5_row51_col8,#T_630a5_row51_col19{\n",
       "            background-color:  #a6c4fe;\n",
       "            color:  #000000;\n",
       "        }#T_630a5_row4_col18,#T_630a5_row7_col3,#T_630a5_row9_col19,#T_630a5_row23_col41,#T_630a5_row24_col6,#T_630a5_row27_col38,#T_630a5_row38_col20,#T_630a5_row41_col18,#T_630a5_row42_col29,#T_630a5_row43_col46,#T_630a5_row46_col18,#T_630a5_row47_col15,#T_630a5_row47_col33,#T_630a5_row49_col19,#T_630a5_row49_col25,#T_630a5_row49_col27,#T_630a5_row51_col24,#T_630a5_row51_col33{\n",
       "            background-color:  #9ebeff;\n",
       "            color:  #000000;\n",
       "        }#T_630a5_row4_col22,#T_630a5_row5_col11,#T_630a5_row10_col29,#T_630a5_row10_col38,#T_630a5_row17_col50,#T_630a5_row34_col42,#T_630a5_row34_col46,#T_630a5_row42_col8,#T_630a5_row51_col50{\n",
       "            background-color:  #d8dce2;\n",
       "            color:  #000000;\n",
       "        }#T_630a5_row4_col23,#T_630a5_row11_col26,#T_630a5_row11_col50,#T_630a5_row12_col16,#T_630a5_row31_col4,#T_630a5_row32_col4,#T_630a5_row36_col29,#T_630a5_row39_col32,#T_630a5_row41_col15,#T_630a5_row43_col48,#T_630a5_row44_col17,#T_630a5_row47_col19,#T_630a5_row47_col32,#T_630a5_row47_col42,#T_630a5_row49_col24{\n",
       "            background-color:  #abc8fd;\n",
       "            color:  #000000;\n",
       "        }#T_630a5_row4_col25,#T_630a5_row4_col27,#T_630a5_row4_col31,#T_630a5_row21_col12,#T_630a5_row24_col46,#T_630a5_row32_col8,#T_630a5_row38_col10,#T_630a5_row42_col20{\n",
       "            background-color:  #d5dbe5;\n",
       "            color:  #000000;\n",
       "        }#T_630a5_row4_col26,#T_630a5_row6_col28,#T_630a5_row7_col22,#T_630a5_row8_col38,#T_630a5_row18_col45,#T_630a5_row22_col14,#T_630a5_row41_col23,#T_630a5_row42_col38{\n",
       "            background-color:  #d6dce4;\n",
       "            color:  #000000;\n",
       "        }#T_630a5_row4_col30,#T_630a5_row6_col46,#T_630a5_row10_col32,#T_630a5_row10_col46,#T_630a5_row15_col14,#T_630a5_row19_col1,#T_630a5_row20_col19,#T_630a5_row40_col25,#T_630a5_row48_col27{\n",
       "            background-color:  #e2dad5;\n",
       "            color:  #000000;\n",
       "        }#T_630a5_row4_col32,#T_630a5_row6_col38,#T_630a5_row11_col5,#T_630a5_row26_col8,#T_630a5_row36_col8,#T_630a5_row38_col1,#T_630a5_row39_col23,#T_630a5_row44_col0,#T_630a5_row44_col50{\n",
       "            background-color:  #d7dce3;\n",
       "            color:  #000000;\n",
       "        }#T_630a5_row4_col33,#T_630a5_row19_col17,#T_630a5_row22_col12,#T_630a5_row27_col48,#T_630a5_row30_col40,#T_630a5_row34_col44,#T_630a5_row36_col4,#T_630a5_row38_col6,#T_630a5_row38_col31,#T_630a5_row46_col6,#T_630a5_row46_col10{\n",
       "            background-color:  #d4dbe6;\n",
       "            color:  #000000;\n",
       "        }#T_630a5_row4_col35,#T_630a5_row7_col51,#T_630a5_row12_col49,#T_630a5_row14_col11,#T_630a5_row14_col17,#T_630a5_row14_col25,#T_630a5_row14_col28,#T_630a5_row14_col33,#T_630a5_row14_col34,#T_630a5_row15_col30,#T_630a5_row15_col46,#T_630a5_row27_col45,#T_630a5_row29_col45,#T_630a5_row29_col49,#T_630a5_row39_col42,#T_630a5_row39_col51,#T_630a5_row43_col49,#T_630a5_row46_col5{\n",
       "            background-color:  #5572df;\n",
       "            color:  #000000;\n",
       "        }#T_630a5_row4_col40,#T_630a5_row6_col33,#T_630a5_row8_col28,#T_630a5_row40_col41,#T_630a5_row44_col3,#T_630a5_row45_col14,#T_630a5_row48_col6,#T_630a5_row48_col33,#T_630a5_row49_col47{\n",
       "            background-color:  #e8d6cc;\n",
       "            color:  #000000;\n",
       "        }#T_630a5_row4_col42,#T_630a5_row9_col11,#T_630a5_row17_col0,#T_630a5_row22_col13,#T_630a5_row46_col40{\n",
       "            background-color:  #e9d5cb;\n",
       "            color:  #000000;\n",
       "        }#T_630a5_row4_col44,#T_630a5_row6_col31,#T_630a5_row8_col29,#T_630a5_row16_col3,#T_630a5_row25_col8,#T_630a5_row27_col8,#T_630a5_row30_col8,#T_630a5_row35_col34,#T_630a5_row40_col10,#T_630a5_row41_col40,#T_630a5_row46_col26{\n",
       "            background-color:  #ead5c9;\n",
       "            color:  #000000;\n",
       "        }#T_630a5_row4_col46,#T_630a5_row10_col25,#T_630a5_row10_col27,#T_630a5_row14_col45,#T_630a5_row30_col48,#T_630a5_row32_col46,#T_630a5_row32_col48,#T_630a5_row34_col37,#T_630a5_row34_col40,#T_630a5_row38_col8,#T_630a5_row38_col44,#T_630a5_row44_col4{\n",
       "            background-color:  #e1dad6;\n",
       "            color:  #000000;\n",
       "        }#T_630a5_row4_col50,#T_630a5_row29_col24{\n",
       "            background-color:  #efcfbf;\n",
       "            color:  #000000;\n",
       "        }#T_630a5_row5_col7,#T_630a5_row6_col24,#T_630a5_row23_col45,#T_630a5_row30_col10,#T_630a5_row31_col6,#T_630a5_row33_col6,#T_630a5_row36_col3,#T_630a5_row36_col22,#T_630a5_row38_col30,#T_630a5_row44_col34,#T_630a5_row46_col33{\n",
       "            background-color:  #cedaeb;\n",
       "            color:  #000000;\n",
       "        }#T_630a5_row5_col9{\n",
       "            background-color:  #ed8366;\n",
       "            color:  #000000;\n",
       "        }#T_630a5_row5_col23,#T_630a5_row8_col36,#T_630a5_row10_col28,#T_630a5_row18_col22,#T_630a5_row22_col21,#T_630a5_row25_col40,#T_630a5_row25_col48,#T_630a5_row27_col40,#T_630a5_row42_col34{\n",
       "            background-color:  #d3dbe7;\n",
       "            color:  #000000;\n",
       "        }#T_630a5_row5_col51,#T_630a5_row6_col39,#T_630a5_row8_col15,#T_630a5_row8_col41,#T_630a5_row10_col39,#T_630a5_row11_col43,#T_630a5_row13_col34,#T_630a5_row21_col7,#T_630a5_row22_col50,#T_630a5_row24_col12,#T_630a5_row25_col16,#T_630a5_row29_col20,#T_630a5_row29_col37,#T_630a5_row32_col16,#T_630a5_row33_col0,#T_630a5_row35_col39,#T_630a5_row35_col40,#T_630a5_row37_col17,#T_630a5_row38_col35,#T_630a5_row41_col7,#T_630a5_row41_col11,#T_630a5_row41_col51,#T_630a5_row44_col9,#T_630a5_row49_col35,#T_630a5_row51_col9,#T_630a5_row51_col37{\n",
       "            background-color:  #688aef;\n",
       "            color:  #000000;\n",
       "        }#T_630a5_row6_col1,#T_630a5_row6_col19,#T_630a5_row14_col1,#T_630a5_row23_col1,#T_630a5_row23_col13,#T_630a5_row36_col13,#T_630a5_row43_col16,#T_630a5_row44_col43,#T_630a5_row47_col21,#T_630a5_row49_col23,#T_630a5_row49_col28,#T_630a5_row51_col22,#T_630a5_row51_col49{\n",
       "            background-color:  #b6cefa;\n",
       "            color:  #000000;\n",
       "        }#T_630a5_row6_col3,#T_630a5_row16_col1,#T_630a5_row22_col17,#T_630a5_row22_col20,#T_630a5_row33_col46,#T_630a5_row43_col22,#T_630a5_row43_col44,#T_630a5_row45_col43,#T_630a5_row50_col4,#T_630a5_row50_col12{\n",
       "            background-color:  #bfd3f6;\n",
       "            color:  #000000;\n",
       "        }#T_630a5_row6_col8,#T_630a5_row12_col17,#T_630a5_row30_col24{\n",
       "            background-color:  #d95847;\n",
       "            color:  #000000;\n",
       "        }#T_630a5_row6_col10,#T_630a5_row10_col6{\n",
       "            background-color:  #bb1b2c;\n",
       "            color:  #f1f1f1;\n",
       "        }#T_630a5_row6_col16,#T_630a5_row7_col25,#T_630a5_row7_col31,#T_630a5_row7_col32,#T_630a5_row9_col15,#T_630a5_row9_col26,#T_630a5_row11_col27,#T_630a5_row13_col44,#T_630a5_row15_col19,#T_630a5_row16_col39,#T_630a5_row17_col26,#T_630a5_row21_col6,#T_630a5_row28_col34,#T_630a5_row37_col15,#T_630a5_row38_col16,#T_630a5_row39_col45,#T_630a5_row41_col24,#T_630a5_row41_col50,#T_630a5_row43_col33,#T_630a5_row48_col47,#T_630a5_row51_col44{\n",
       "            background-color:  #93b5fe;\n",
       "            color:  #000000;\n",
       "        }#T_630a5_row6_col25,#T_630a5_row8_col32,#T_630a5_row38_col36,#T_630a5_row38_col50,#T_630a5_row40_col30,#T_630a5_row42_col10,#T_630a5_row42_col22,#T_630a5_row44_col6,#T_630a5_row46_col24{\n",
       "            background-color:  #e5d8d1;\n",
       "            color:  #000000;\n",
       "        }#T_630a5_row6_col27,#T_630a5_row11_col9,#T_630a5_row16_col15,#T_630a5_row40_col28,#T_630a5_row42_col6{\n",
       "            background-color:  #e4d9d2;\n",
       "            color:  #000000;\n",
       "        }#T_630a5_row6_col32,#T_630a5_row19_col23,#T_630a5_row21_col1,#T_630a5_row21_col22,#T_630a5_row40_col27,#T_630a5_row45_col23{\n",
       "            background-color:  #e3d9d3;\n",
       "            color:  #000000;\n",
       "        }#T_630a5_row6_col36,#T_630a5_row10_col31,#T_630a5_row10_col36,#T_630a5_row12_col22,#T_630a5_row13_col0,#T_630a5_row19_col20,#T_630a5_row47_col49,#T_630a5_row48_col34{\n",
       "            background-color:  #e7d7ce;\n",
       "            color:  #000000;\n",
       "        }#T_630a5_row6_col44,#T_630a5_row34_col35,#T_630a5_row42_col40,#T_630a5_row48_col28,#T_630a5_row48_col31{\n",
       "            background-color:  #ecd3c5;\n",
       "            color:  #000000;\n",
       "        }#T_630a5_row7_col5,#T_630a5_row8_col44,#T_630a5_row12_col0,#T_630a5_row12_col2,#T_630a5_row12_col21,#T_630a5_row17_col19,#T_630a5_row17_col21,#T_630a5_row28_col46,#T_630a5_row34_col33,#T_630a5_row45_col18{\n",
       "            background-color:  #d9dce1;\n",
       "            color:  #000000;\n",
       "        }#T_630a5_row7_col11,#T_630a5_row7_col28,#T_630a5_row12_col27,#T_630a5_row17_col16,#T_630a5_row21_col8,#T_630a5_row21_col42,#T_630a5_row25_col46,#T_630a5_row34_col1,#T_630a5_row36_col21,#T_630a5_row37_col23,#T_630a5_row38_col19,#T_630a5_row39_col15,#T_630a5_row39_col20,#T_630a5_row43_col21,#T_630a5_row46_col3,#T_630a5_row47_col4,#T_630a5_row47_col18,#T_630a5_row47_col30{\n",
       "            background-color:  #a9c6fd;\n",
       "            color:  #000000;\n",
       "        }#T_630a5_row7_col16,#T_630a5_row8_col34,#T_630a5_row11_col28,#T_630a5_row24_col40,#T_630a5_row36_col25,#T_630a5_row36_col27,#T_630a5_row36_col28,#T_630a5_row39_col1,#T_630a5_row42_col12,#T_630a5_row42_col15,#T_630a5_row45_col19,#T_630a5_row47_col45,#T_630a5_row47_col48,#T_630a5_row50_col17{\n",
       "            background-color:  #b3cdfb;\n",
       "            color:  #000000;\n",
       "        }#T_630a5_row7_col36,#T_630a5_row7_col39,#T_630a5_row9_col25,#T_630a5_row13_col9,#T_630a5_row13_col41,#T_630a5_row13_col42,#T_630a5_row21_col25,#T_630a5_row21_col27,#T_630a5_row22_col2,#T_630a5_row22_col6,#T_630a5_row22_col11,#T_630a5_row22_col41,#T_630a5_row26_col38,#T_630a5_row28_col35,#T_630a5_row34_col21,#T_630a5_row34_col45,#T_630a5_row37_col22,#T_630a5_row38_col2,#T_630a5_row41_col2,#T_630a5_row50_col34,#T_630a5_row50_col36{\n",
       "            background-color:  #8badfd;\n",
       "            color:  #000000;\n",
       "        }#T_630a5_row7_col37,#T_630a5_row8_col11,#T_630a5_row11_col4,#T_630a5_row14_col12,#T_630a5_row18_col25,#T_630a5_row18_col47,#T_630a5_row21_col30,#T_630a5_row21_col49,#T_630a5_row25_col14,#T_630a5_row25_col22,#T_630a5_row26_col11,#T_630a5_row27_col16,#T_630a5_row27_col20,#T_630a5_row30_col17,#T_630a5_row33_col11,#T_630a5_row33_col51,#T_630a5_row34_col49,#T_630a5_row35_col41,#T_630a5_row35_col43,#T_630a5_row37_col43,#T_630a5_row39_col34,#T_630a5_row40_col9,#T_630a5_row40_col49,#T_630a5_row45_col37,#T_630a5_row50_col3,#T_630a5_row50_col37,#T_630a5_row51_col43{\n",
       "            background-color:  #6485ec;\n",
       "            color:  #000000;\n",
       "        }#T_630a5_row7_col47,#T_630a5_row8_col9,#T_630a5_row14_col30,#T_630a5_row15_col9,#T_630a5_row15_col51,#T_630a5_row20_col35,#T_630a5_row22_col34,#T_630a5_row23_col37,#T_630a5_row25_col5,#T_630a5_row27_col15,#T_630a5_row28_col51,#T_630a5_row35_col42,#T_630a5_row36_col2,#T_630a5_row43_col4{\n",
       "            background-color:  #5470de;\n",
       "            color:  #000000;\n",
       "        }#T_630a5_row8_col4{\n",
       "            background-color:  #e8765c;\n",
       "            color:  #000000;\n",
       "        }#T_630a5_row8_col6,#T_630a5_row10_col8{\n",
       "            background-color:  #dd5f4b;\n",
       "            color:  #000000;\n",
       "        }#T_630a5_row8_col10{\n",
       "            background-color:  #e16751;\n",
       "            color:  #000000;\n",
       "        }#T_630a5_row8_col25,#T_630a5_row13_col12,#T_630a5_row21_col18,#T_630a5_row23_col3,#T_630a5_row33_col24,#T_630a5_row48_col8{\n",
       "            background-color:  #f1cdba;\n",
       "            color:  #000000;\n",
       "        }#T_630a5_row8_col30,#T_630a5_row20_col21,#T_630a5_row45_col16,#T_630a5_row50_col46{\n",
       "            background-color:  #f2cbb7;\n",
       "            color:  #000000;\n",
       "        }#T_630a5_row8_col42,#T_630a5_row13_col3,#T_630a5_row22_col5,#T_630a5_row26_col46,#T_630a5_row28_col48,#T_630a5_row29_col40,#T_630a5_row36_col23,#T_630a5_row40_col1,#T_630a5_row46_col31{\n",
       "            background-color:  #d2dbe8;\n",
       "            color:  #000000;\n",
       "        }#T_630a5_row8_col50,#T_630a5_row16_col23,#T_630a5_row20_col23,#T_630a5_row21_col16,#T_630a5_row27_col28{\n",
       "            background-color:  #f7b599;\n",
       "            color:  #000000;\n",
       "        }#T_630a5_row9_col5,#T_630a5_row26_col32{\n",
       "            background-color:  #ec7f63;\n",
       "            color:  #000000;\n",
       "        }#T_630a5_row10_col3,#T_630a5_row10_col21,#T_630a5_row13_col18,#T_630a5_row15_col20,#T_630a5_row17_col2,#T_630a5_row25_col10,#T_630a5_row34_col20,#T_630a5_row41_col16,#T_630a5_row41_col22,#T_630a5_row42_col14,#T_630a5_row42_col50{\n",
       "            background-color:  #c4d5f3;\n",
       "            color:  #000000;\n",
       "        }#T_630a5_row10_col13,#T_630a5_row10_col20,#T_630a5_row11_col24,#T_630a5_row12_col6,#T_630a5_row17_col8,#T_630a5_row23_col39,#T_630a5_row27_col34,#T_630a5_row34_col4,#T_630a5_row34_col22,#T_630a5_row36_col26,#T_630a5_row40_col0,#T_630a5_row46_col20,#T_630a5_row48_col1,#T_630a5_row49_col20,#T_630a5_row51_col18{\n",
       "            background-color:  #a5c3fe;\n",
       "            color:  #000000;\n",
       "        }#T_630a5_row10_col23,#T_630a5_row11_col1,#T_630a5_row12_col25,#T_630a5_row23_col42,#T_630a5_row26_col6,#T_630a5_row27_col46,#T_630a5_row30_col38,#T_630a5_row35_col16,#T_630a5_row35_col32,#T_630a5_row44_col29,#T_630a5_row47_col6,#T_630a5_row47_col10,#T_630a5_row48_col0,#T_630a5_row49_col30,#T_630a5_row49_col32,#T_630a5_row51_col13,#T_630a5_row51_col20{\n",
       "            background-color:  #a7c5fe;\n",
       "            color:  #000000;\n",
       "        }#T_630a5_row10_col40,#T_630a5_row10_col48,#T_630a5_row18_col21,#T_630a5_row31_col24,#T_630a5_row40_col8,#T_630a5_row46_col28,#T_630a5_row50_col8{\n",
       "            background-color:  #efcebd;\n",
       "            color:  #000000;\n",
       "        }#T_630a5_row10_col44,#T_630a5_row14_col0,#T_630a5_row15_col16,#T_630a5_row33_col8,#T_630a5_row39_col40,#T_630a5_row40_col33,#T_630a5_row48_col30{\n",
       "            background-color:  #edd2c3;\n",
       "            color:  #000000;\n",
       "        }#T_630a5_row11_col37,#T_630a5_row11_col38,#T_630a5_row12_col41,#T_630a5_row15_col5,#T_630a5_row17_col49,#T_630a5_row18_col6,#T_630a5_row20_col25,#T_630a5_row23_col7,#T_630a5_row27_col14,#T_630a5_row30_col21,#T_630a5_row30_col45,#T_630a5_row31_col11,#T_630a5_row32_col49,#T_630a5_row37_col11,#T_630a5_row39_col35,#T_630a5_row40_col35,#T_630a5_row42_col7,#T_630a5_row45_col35{\n",
       "            background-color:  #6180e9;\n",
       "            color:  #000000;\n",
       "        }#T_630a5_row12_col1,#T_630a5_row26_col31,#T_630a5_row29_col50{\n",
       "            background-color:  #f5c1a9;\n",
       "            color:  #000000;\n",
       "        }#T_630a5_row12_col19,#T_630a5_row15_col22,#T_630a5_row19_col12,#T_630a5_row22_col16,#T_630a5_row40_col34,#T_630a5_row48_col24,#T_630a5_row50_col40{\n",
       "            background-color:  #dadce0;\n",
       "            color:  #000000;\n",
       "        }#T_630a5_row12_col32,#T_630a5_row12_col37,#T_630a5_row12_col51,#T_630a5_row14_col9,#T_630a5_row23_col25,#T_630a5_row23_col27,#T_630a5_row24_col14,#T_630a5_row25_col39,#T_630a5_row25_col41,#T_630a5_row27_col39,#T_630a5_row27_col41,#T_630a5_row28_col23,#T_630a5_row28_col44,#T_630a5_row29_col15,#T_630a5_row29_col39,#T_630a5_row30_col43,#T_630a5_row46_col2,#T_630a5_row47_col7{\n",
       "            background-color:  #516ddb;\n",
       "            color:  #000000;\n",
       "        }#T_630a5_row12_col43,#T_630a5_row12_col47,#T_630a5_row13_col37,#T_630a5_row16_col28,#T_630a5_row20_col2,#T_630a5_row20_col24,#T_630a5_row23_col4,#T_630a5_row24_col9,#T_630a5_row25_col3,#T_630a5_row26_col14,#T_630a5_row35_col10,#T_630a5_row50_col7,#T_630a5_row50_col47{\n",
       "            background-color:  #485fd1;\n",
       "            color:  #f1f1f1;\n",
       "        }#T_630a5_row13_col17,#T_630a5_row14_col18{\n",
       "            background-color:  #f39577;\n",
       "            color:  #000000;\n",
       "        }#T_630a5_row13_col26,#T_630a5_row14_col46,#T_630a5_row15_col27,#T_630a5_row17_col43,#T_630a5_row17_col47,#T_630a5_row18_col7,#T_630a5_row18_col35,#T_630a5_row19_col34,#T_630a5_row21_col11,#T_630a5_row21_col46,#T_630a5_row22_col32,#T_630a5_row25_col15,#T_630a5_row26_col21,#T_630a5_row29_col41,#T_630a5_row32_col5,#T_630a5_row32_col21,#T_630a5_row39_col10,#T_630a5_row39_col44,#T_630a5_row41_col4,#T_630a5_row42_col35{\n",
       "            background-color:  #506bda;\n",
       "            color:  #000000;\n",
       "        }#T_630a5_row13_col30,#T_630a5_row16_col40,#T_630a5_row20_col9,#T_630a5_row22_col30,#T_630a5_row26_col1,#T_630a5_row26_col5,#T_630a5_row28_col13,#T_630a5_row50_col15{\n",
       "            background-color:  #3c4ec2;\n",
       "            color:  #f1f1f1;\n",
       "        }#T_630a5_row14_col16{\n",
       "            background-color:  #e57058;\n",
       "            color:  #000000;\n",
       "        }#T_630a5_row14_col20{\n",
       "            background-color:  #f59d7e;\n",
       "            color:  #000000;\n",
       "        }#T_630a5_row14_col21{\n",
       "            background-color:  #f7a688;\n",
       "            color:  #000000;\n",
       "        }#T_630a5_row14_col23,#T_630a5_row20_col3,#T_630a5_row44_col36{\n",
       "            background-color:  #f7a889;\n",
       "            color:  #000000;\n",
       "        }#T_630a5_row15_col4,#T_630a5_row15_col7,#T_630a5_row16_col6,#T_630a5_row22_col35,#T_630a5_row24_col13,#T_630a5_row28_col3,#T_630a5_row30_col1{\n",
       "            background-color:  #3d50c3;\n",
       "            color:  #f1f1f1;\n",
       "        }#T_630a5_row15_col18,#T_630a5_row18_col15,#T_630a5_row25_col4,#T_630a5_row31_col17,#T_630a5_row33_col4,#T_630a5_row33_col38,#T_630a5_row37_col16,#T_630a5_row39_col21,#T_630a5_row47_col36,#T_630a5_row47_col44,#T_630a5_row48_col3,#T_630a5_row51_col3,#T_630a5_row51_col28{\n",
       "            background-color:  #aec9fc;\n",
       "            color:  #000000;\n",
       "        }#T_630a5_row16_col14{\n",
       "            background-color:  #e7745b;\n",
       "            color:  #000000;\n",
       "        }#T_630a5_row16_col18,#T_630a5_row25_col50,#T_630a5_row27_col50{\n",
       "            background-color:  #f6bda2;\n",
       "            color:  #000000;\n",
       "        }#T_630a5_row16_col20,#T_630a5_row19_col18{\n",
       "            background-color:  #f7bca1;\n",
       "            color:  #000000;\n",
       "        }#T_630a5_row16_col21,#T_630a5_row18_col19,#T_630a5_row19_col0,#T_630a5_row32_col50,#T_630a5_row38_col41{\n",
       "            background-color:  #f5c0a7;\n",
       "            color:  #000000;\n",
       "        }#T_630a5_row17_col12{\n",
       "            background-color:  #d85646;\n",
       "            color:  #000000;\n",
       "        }#T_630a5_row17_col13{\n",
       "            background-color:  #f18d6f;\n",
       "            color:  #000000;\n",
       "        }#T_630a5_row17_col33,#T_630a5_row22_col0,#T_630a5_row22_col9,#T_630a5_row26_col40,#T_630a5_row29_col6,#T_630a5_row32_col34,#T_630a5_row34_col29,#T_630a5_row37_col28,#T_630a5_row43_col18,#T_630a5_row44_col31,#T_630a5_row46_col25,#T_630a5_row47_col26,#T_630a5_row48_col20,#T_630a5_row49_col22,#T_630a5_row49_col51{\n",
       "            background-color:  #bcd2f7;\n",
       "            color:  #000000;\n",
       "        }#T_630a5_row18_col3,#T_630a5_row18_col23,#T_630a5_row24_col50,#T_630a5_row29_col30{\n",
       "            background-color:  #f7ac8e;\n",
       "            color:  #000000;\n",
       "        }#T_630a5_row18_col14{\n",
       "            background-color:  #f29274;\n",
       "            color:  #000000;\n",
       "        }#T_630a5_row18_col16,#T_630a5_row46_col44{\n",
       "            background-color:  #f7b497;\n",
       "            color:  #000000;\n",
       "        }#T_630a5_row18_col20,#T_630a5_row20_col18,#T_630a5_row32_col30{\n",
       "            background-color:  #c83836;\n",
       "            color:  #f1f1f1;\n",
       "        }#T_630a5_row18_col24,#T_630a5_row23_col2,#T_630a5_row23_col10,#T_630a5_row27_col3,#T_630a5_row32_col7,#T_630a5_row33_col15,#T_630a5_row35_col6,#T_630a5_row39_col4,#T_630a5_row41_col46,#T_630a5_row46_col7,#T_630a5_row50_col18{\n",
       "            background-color:  #465ecf;\n",
       "            color:  #f1f1f1;\n",
       "        }#T_630a5_row19_col14,#T_630a5_row21_col14,#T_630a5_row30_col50,#T_630a5_row36_col48{\n",
       "            background-color:  #f6a283;\n",
       "            color:  #000000;\n",
       "        }#T_630a5_row19_col21,#T_630a5_row26_col30{\n",
       "            background-color:  #d44e41;\n",
       "            color:  #000000;\n",
       "        }#T_630a5_row20_col0,#T_630a5_row25_col28,#T_630a5_row27_col32,#T_630a5_row31_col50,#T_630a5_row33_col26,#T_630a5_row33_col50{\n",
       "            background-color:  #f7b79b;\n",
       "            color:  #000000;\n",
       "        }#T_630a5_row20_col14{\n",
       "            background-color:  #f49a7b;\n",
       "            color:  #000000;\n",
       "        }#T_630a5_row20_col16{\n",
       "            background-color:  #f7b396;\n",
       "            color:  #000000;\n",
       "        }#T_630a5_row21_col19{\n",
       "            background-color:  #d55042;\n",
       "            color:  #000000;\n",
       "        }#T_630a5_row23_col14,#T_630a5_row46_col50,#T_630a5_row48_col42{\n",
       "            background-color:  #f7b194;\n",
       "            color:  #000000;\n",
       "        }#T_630a5_row23_col20,#T_630a5_row26_col29,#T_630a5_row28_col25,#T_630a5_row32_col29{\n",
       "            background-color:  #f5c4ac;\n",
       "            color:  #000000;\n",
       "        }#T_630a5_row24_col7,#T_630a5_row29_col9,#T_630a5_row31_col9,#T_630a5_row50_col20{\n",
       "            background-color:  #455cce;\n",
       "            color:  #f1f1f1;\n",
       "        }#T_630a5_row24_col26,#T_630a5_row26_col24,#T_630a5_row33_col31{\n",
       "            background-color:  #bd1f2d;\n",
       "            color:  #f1f1f1;\n",
       "        }#T_630a5_row24_col28{\n",
       "            background-color:  #c43032;\n",
       "            color:  #f1f1f1;\n",
       "        }#T_630a5_row24_col30,#T_630a5_row30_col28{\n",
       "            background-color:  #da5a49;\n",
       "            color:  #000000;\n",
       "        }#T_630a5_row24_col32,#T_630a5_row32_col28{\n",
       "            background-color:  #e97a5f;\n",
       "            color:  #000000;\n",
       "        }#T_630a5_row25_col27,#T_630a5_row27_col25{\n",
       "            background-color:  #b70d28;\n",
       "            color:  #f1f1f1;\n",
       "        }#T_630a5_row25_col29,#T_630a5_row29_col25{\n",
       "            background-color:  #c32e31;\n",
       "            color:  #f1f1f1;\n",
       "        }#T_630a5_row25_col30,#T_630a5_row27_col30,#T_630a5_row30_col27,#T_630a5_row32_col33{\n",
       "            background-color:  #f6a385;\n",
       "            color:  #000000;\n",
       "        }#T_630a5_row25_col31,#T_630a5_row27_col31,#T_630a5_row31_col27{\n",
       "            background-color:  #ca3b37;\n",
       "            color:  #f1f1f1;\n",
       "        }#T_630a5_row25_col32,#T_630a5_row29_col26,#T_630a5_row31_col26,#T_630a5_row38_col39,#T_630a5_row50_col24{\n",
       "            background-color:  #f7b89c;\n",
       "            color:  #000000;\n",
       "        }#T_630a5_row25_col33,#T_630a5_row31_col25,#T_630a5_row33_col25,#T_630a5_row42_col44,#T_630a5_row44_col42{\n",
       "            background-color:  #cb3e38;\n",
       "            color:  #f1f1f1;\n",
       "        }#T_630a5_row26_col27,#T_630a5_row32_col27{\n",
       "            background-color:  #f7b99e;\n",
       "            color:  #000000;\n",
       "        }#T_630a5_row26_col28,#T_630a5_row27_col29,#T_630a5_row28_col26,#T_630a5_row29_col27{\n",
       "            background-color:  #c0282f;\n",
       "            color:  #f1f1f1;\n",
       "        }#T_630a5_row26_col50{\n",
       "            background-color:  #f39778;\n",
       "            color:  #000000;\n",
       "        }#T_630a5_row27_col33,#T_630a5_row33_col27{\n",
       "            background-color:  #cd423b;\n",
       "            color:  #f1f1f1;\n",
       "        }#T_630a5_row28_col24{\n",
       "            background-color:  #c53334;\n",
       "            color:  #f1f1f1;\n",
       "        }#T_630a5_row28_col30,#T_630a5_row36_col34{\n",
       "            background-color:  #de614d;\n",
       "            color:  #000000;\n",
       "        }#T_630a5_row28_col32{\n",
       "            background-color:  #ec8165;\n",
       "            color:  #000000;\n",
       "        }#T_630a5_row28_col50,#T_630a5_row30_col31,#T_630a5_row31_col30,#T_630a5_row33_col30,#T_630a5_row44_col48,#T_630a5_row50_col26{\n",
       "            background-color:  #f59c7d;\n",
       "            color:  #000000;\n",
       "        }#T_630a5_row29_col28{\n",
       "            background-color:  #f6bea4;\n",
       "            color:  #000000;\n",
       "        }#T_630a5_row29_col31,#T_630a5_row30_col26,#T_630a5_row31_col29,#T_630a5_row40_col38{\n",
       "            background-color:  #d1493f;\n",
       "            color:  #f1f1f1;\n",
       "        }#T_630a5_row29_col33,#T_630a5_row33_col29,#T_630a5_row35_col37,#T_630a5_row37_col35,#T_630a5_row38_col40,#T_630a5_row39_col41,#T_630a5_row41_col39{\n",
       "            background-color:  #d0473d;\n",
       "            color:  #f1f1f1;\n",
       "        }#T_630a5_row30_col29,#T_630a5_row36_col42,#T_630a5_row50_col30{\n",
       "            background-color:  #f7b093;\n",
       "            color:  #000000;\n",
       "        }#T_630a5_row30_col32{\n",
       "            background-color:  #c73635;\n",
       "            color:  #f1f1f1;\n",
       "        }#T_630a5_row30_col33,#T_630a5_row31_col32,#T_630a5_row48_col44,#T_630a5_row50_col28{\n",
       "            background-color:  #f59f80;\n",
       "            color:  #000000;\n",
       "        }#T_630a5_row32_col24,#T_630a5_row32_col26{\n",
       "            background-color:  #e9785d;\n",
       "            color:  #000000;\n",
       "        }#T_630a5_row32_col31,#T_630a5_row33_col32{\n",
       "            background-color:  #f5a081;\n",
       "            color:  #000000;\n",
       "        }#T_630a5_row34_col36{\n",
       "            background-color:  #dc5d4a;\n",
       "            color:  #000000;\n",
       "        }#T_630a5_row36_col44{\n",
       "            background-color:  #f7a98b;\n",
       "            color:  #000000;\n",
       "        }#T_630a5_row46_col48,#T_630a5_row48_col46{\n",
       "            background-color:  #df634e;\n",
       "            color:  #000000;\n",
       "        }</style><table id=\"T_630a5_\" ><thead>    <tr>        <th class=\"blank level0\" ></th>        <th class=\"col_heading level0 col0\" >primary_cleaner.input.sulfate</th>        <th class=\"col_heading level0 col1\" >primary_cleaner.input.depressant</th>        <th class=\"col_heading level0 col2\" >primary_cleaner.input.feed_size</th>        <th class=\"col_heading level0 col3\" >primary_cleaner.input.xanthate</th>        <th class=\"col_heading level0 col4\" >primary_cleaner.state.floatbank8_a_air</th>        <th class=\"col_heading level0 col5\" >primary_cleaner.state.floatbank8_a_level</th>        <th class=\"col_heading level0 col6\" >primary_cleaner.state.floatbank8_b_air</th>        <th class=\"col_heading level0 col7\" >primary_cleaner.state.floatbank8_b_level</th>        <th class=\"col_heading level0 col8\" >primary_cleaner.state.floatbank8_c_air</th>        <th class=\"col_heading level0 col9\" >primary_cleaner.state.floatbank8_c_level</th>        <th class=\"col_heading level0 col10\" >primary_cleaner.state.floatbank8_d_air</th>        <th class=\"col_heading level0 col11\" >primary_cleaner.state.floatbank8_d_level</th>        <th class=\"col_heading level0 col12\" >rougher.input.feed_ag</th>        <th class=\"col_heading level0 col13\" >rougher.input.feed_pb</th>        <th class=\"col_heading level0 col14\" >rougher.input.feed_rate</th>        <th class=\"col_heading level0 col15\" >rougher.input.feed_size</th>        <th class=\"col_heading level0 col16\" >rougher.input.feed_sol</th>        <th class=\"col_heading level0 col17\" >rougher.input.feed_au</th>        <th class=\"col_heading level0 col18\" >rougher.input.floatbank10_sulfate</th>        <th class=\"col_heading level0 col19\" >rougher.input.floatbank10_xanthate</th>        <th class=\"col_heading level0 col20\" >rougher.input.floatbank11_sulfate</th>        <th class=\"col_heading level0 col21\" >rougher.input.floatbank11_xanthate</th>        <th class=\"col_heading level0 col22\" >rougher.state.floatbank10_a_air</th>        <th class=\"col_heading level0 col23\" >rougher.state.floatbank10_a_level</th>        <th class=\"col_heading level0 col24\" >rougher.state.floatbank10_b_air</th>        <th class=\"col_heading level0 col25\" >rougher.state.floatbank10_b_level</th>        <th class=\"col_heading level0 col26\" >rougher.state.floatbank10_c_air</th>        <th class=\"col_heading level0 col27\" >rougher.state.floatbank10_c_level</th>        <th class=\"col_heading level0 col28\" >rougher.state.floatbank10_d_air</th>        <th class=\"col_heading level0 col29\" >rougher.state.floatbank10_d_level</th>        <th class=\"col_heading level0 col30\" >rougher.state.floatbank10_e_air</th>        <th class=\"col_heading level0 col31\" >rougher.state.floatbank10_e_level</th>        <th class=\"col_heading level0 col32\" >rougher.state.floatbank10_f_air</th>        <th class=\"col_heading level0 col33\" >rougher.state.floatbank10_f_level</th>        <th class=\"col_heading level0 col34\" >secondary_cleaner.state.floatbank2_a_air</th>        <th class=\"col_heading level0 col35\" >secondary_cleaner.state.floatbank2_a_level</th>        <th class=\"col_heading level0 col36\" >secondary_cleaner.state.floatbank2_b_air</th>        <th class=\"col_heading level0 col37\" >secondary_cleaner.state.floatbank2_b_level</th>        <th class=\"col_heading level0 col38\" >secondary_cleaner.state.floatbank3_a_air</th>        <th class=\"col_heading level0 col39\" >secondary_cleaner.state.floatbank3_a_level</th>        <th class=\"col_heading level0 col40\" >secondary_cleaner.state.floatbank3_b_air</th>        <th class=\"col_heading level0 col41\" >secondary_cleaner.state.floatbank3_b_level</th>        <th class=\"col_heading level0 col42\" >secondary_cleaner.state.floatbank4_a_air</th>        <th class=\"col_heading level0 col43\" >secondary_cleaner.state.floatbank4_a_level</th>        <th class=\"col_heading level0 col44\" >secondary_cleaner.state.floatbank4_b_air</th>        <th class=\"col_heading level0 col45\" >secondary_cleaner.state.floatbank4_b_level</th>        <th class=\"col_heading level0 col46\" >secondary_cleaner.state.floatbank5_a_air</th>        <th class=\"col_heading level0 col47\" >secondary_cleaner.state.floatbank5_a_level</th>        <th class=\"col_heading level0 col48\" >secondary_cleaner.state.floatbank5_b_air</th>        <th class=\"col_heading level0 col49\" >secondary_cleaner.state.floatbank5_b_level</th>        <th class=\"col_heading level0 col50\" >secondary_cleaner.state.floatbank6_a_air</th>        <th class=\"col_heading level0 col51\" >secondary_cleaner.state.floatbank6_a_level</th>    </tr></thead><tbody>\n",
       "                <tr>\n",
       "                        <th id=\"T_630a5_level0_row0\" class=\"row_heading level0 row0\" >primary_cleaner.input.sulfate</th>\n",
       "                        <td id=\"T_630a5_row0_col0\" class=\"data row0 col0\" >1.000000</td>\n",
       "                        <td id=\"T_630a5_row0_col1\" class=\"data row0 col1\" >0.452138</td>\n",
       "                        <td id=\"T_630a5_row0_col2\" class=\"data row0 col2\" >0.114564</td>\n",
       "                        <td id=\"T_630a5_row0_col3\" class=\"data row0 col3\" >0.496786</td>\n",
       "                        <td id=\"T_630a5_row0_col4\" class=\"data row0 col4\" >0.100810</td>\n",
       "                        <td id=\"T_630a5_row0_col5\" class=\"data row0 col5\" >0.047802</td>\n",
       "                        <td id=\"T_630a5_row0_col6\" class=\"data row0 col6\" >0.074719</td>\n",
       "                        <td id=\"T_630a5_row0_col7\" class=\"data row0 col7\" >0.139819</td>\n",
       "                        <td id=\"T_630a5_row0_col8\" class=\"data row0 col8\" >0.024925</td>\n",
       "                        <td id=\"T_630a5_row0_col9\" class=\"data row0 col9\" >0.028155</td>\n",
       "                        <td id=\"T_630a5_row0_col10\" class=\"data row0 col10\" >0.093636</td>\n",
       "                        <td id=\"T_630a5_row0_col11\" class=\"data row0 col11\" >-0.019008</td>\n",
       "                        <td id=\"T_630a5_row0_col12\" class=\"data row0 col12\" >0.359236</td>\n",
       "                        <td id=\"T_630a5_row0_col13\" class=\"data row0 col13\" >0.428248</td>\n",
       "                        <td id=\"T_630a5_row0_col14\" class=\"data row0 col14\" >0.461740</td>\n",
       "                        <td id=\"T_630a5_row0_col15\" class=\"data row0 col15\" >-0.010257</td>\n",
       "                        <td id=\"T_630a5_row0_col16\" class=\"data row0 col16\" >0.423813</td>\n",
       "                        <td id=\"T_630a5_row0_col17\" class=\"data row0 col17\" >0.436207</td>\n",
       "                        <td id=\"T_630a5_row0_col18\" class=\"data row0 col18\" >0.616477</td>\n",
       "                        <td id=\"T_630a5_row0_col19\" class=\"data row0 col19\" >0.550640</td>\n",
       "                        <td id=\"T_630a5_row0_col20\" class=\"data row0 col20\" >0.585522</td>\n",
       "                        <td id=\"T_630a5_row0_col21\" class=\"data row0 col21\" >0.539113</td>\n",
       "                        <td id=\"T_630a5_row0_col22\" class=\"data row0 col22\" >0.234925</td>\n",
       "                        <td id=\"T_630a5_row0_col23\" class=\"data row0 col23\" >0.222601</td>\n",
       "                        <td id=\"T_630a5_row0_col24\" class=\"data row0 col24\" >-0.229253</td>\n",
       "                        <td id=\"T_630a5_row0_col25\" class=\"data row0 col25\" >-0.047140</td>\n",
       "                        <td id=\"T_630a5_row0_col26\" class=\"data row0 col26\" >-0.245993</td>\n",
       "                        <td id=\"T_630a5_row0_col27\" class=\"data row0 col27\" >-0.052403</td>\n",
       "                        <td id=\"T_630a5_row0_col28\" class=\"data row0 col28\" >-0.246659</td>\n",
       "                        <td id=\"T_630a5_row0_col29\" class=\"data row0 col29\" >-0.014574</td>\n",
       "                        <td id=\"T_630a5_row0_col30\" class=\"data row0 col30\" >-0.233454</td>\n",
       "                        <td id=\"T_630a5_row0_col31\" class=\"data row0 col31\" >-0.119842</td>\n",
       "                        <td id=\"T_630a5_row0_col32\" class=\"data row0 col32\" >-0.248709</td>\n",
       "                        <td id=\"T_630a5_row0_col33\" class=\"data row0 col33\" >-0.063864</td>\n",
       "                        <td id=\"T_630a5_row0_col34\" class=\"data row0 col34\" >0.051477</td>\n",
       "                        <td id=\"T_630a5_row0_col35\" class=\"data row0 col35\" >-0.037756</td>\n",
       "                        <td id=\"T_630a5_row0_col36\" class=\"data row0 col36\" >0.257649</td>\n",
       "                        <td id=\"T_630a5_row0_col37\" class=\"data row0 col37\" >-0.010734</td>\n",
       "                        <td id=\"T_630a5_row0_col38\" class=\"data row0 col38\" >0.144912</td>\n",
       "                        <td id=\"T_630a5_row0_col39\" class=\"data row0 col39\" >0.004598</td>\n",
       "                        <td id=\"T_630a5_row0_col40\" class=\"data row0 col40\" >0.147967</td>\n",
       "                        <td id=\"T_630a5_row0_col41\" class=\"data row0 col41\" >0.020321</td>\n",
       "                        <td id=\"T_630a5_row0_col42\" class=\"data row0 col42\" >0.305068</td>\n",
       "                        <td id=\"T_630a5_row0_col43\" class=\"data row0 col43\" >0.116753</td>\n",
       "                        <td id=\"T_630a5_row0_col44\" class=\"data row0 col44\" >0.347817</td>\n",
       "                        <td id=\"T_630a5_row0_col45\" class=\"data row0 col45\" >0.067733</td>\n",
       "                        <td id=\"T_630a5_row0_col46\" class=\"data row0 col46\" >0.093433</td>\n",
       "                        <td id=\"T_630a5_row0_col47\" class=\"data row0 col47\" >0.127277</td>\n",
       "                        <td id=\"T_630a5_row0_col48\" class=\"data row0 col48\" >0.156416</td>\n",
       "                        <td id=\"T_630a5_row0_col49\" class=\"data row0 col49\" >0.072229</td>\n",
       "                        <td id=\"T_630a5_row0_col50\" class=\"data row0 col50\" >-0.134194</td>\n",
       "                        <td id=\"T_630a5_row0_col51\" class=\"data row0 col51\" >0.034655</td>\n",
       "            </tr>\n",
       "            <tr>\n",
       "                        <th id=\"T_630a5_level0_row1\" class=\"row_heading level0 row1\" >primary_cleaner.input.depressant</th>\n",
       "                        <td id=\"T_630a5_row1_col0\" class=\"data row1 col0\" >0.452138</td>\n",
       "                        <td id=\"T_630a5_row1_col1\" class=\"data row1 col1\" >1.000000</td>\n",
       "                        <td id=\"T_630a5_row1_col2\" class=\"data row1 col2\" >0.214707</td>\n",
       "                        <td id=\"T_630a5_row1_col3\" class=\"data row1 col3\" >0.144649</td>\n",
       "                        <td id=\"T_630a5_row1_col4\" class=\"data row1 col4\" >0.128135</td>\n",
       "                        <td id=\"T_630a5_row1_col5\" class=\"data row1 col5\" >0.215392</td>\n",
       "                        <td id=\"T_630a5_row1_col6\" class=\"data row1 col6\" >0.133109</td>\n",
       "                        <td id=\"T_630a5_row1_col7\" class=\"data row1 col7\" >0.200031</td>\n",
       "                        <td id=\"T_630a5_row1_col8\" class=\"data row1 col8\" >0.025947</td>\n",
       "                        <td id=\"T_630a5_row1_col9\" class=\"data row1 col9\" >0.185370</td>\n",
       "                        <td id=\"T_630a5_row1_col10\" class=\"data row1 col10\" >0.126572</td>\n",
       "                        <td id=\"T_630a5_row1_col11\" class=\"data row1 col11\" >0.073040</td>\n",
       "                        <td id=\"T_630a5_row1_col12\" class=\"data row1 col12\" >0.497323</td>\n",
       "                        <td id=\"T_630a5_row1_col13\" class=\"data row1 col13\" >0.466184</td>\n",
       "                        <td id=\"T_630a5_row1_col14\" class=\"data row1 col14\" >0.133046</td>\n",
       "                        <td id=\"T_630a5_row1_col15\" class=\"data row1 col15\" >0.005012</td>\n",
       "                        <td id=\"T_630a5_row1_col16\" class=\"data row1 col16\" >0.171353</td>\n",
       "                        <td id=\"T_630a5_row1_col17\" class=\"data row1 col17\" >0.460382</td>\n",
       "                        <td id=\"T_630a5_row1_col18\" class=\"data row1 col18\" >0.231353</td>\n",
       "                        <td id=\"T_630a5_row1_col19\" class=\"data row1 col19\" >0.339256</td>\n",
       "                        <td id=\"T_630a5_row1_col20\" class=\"data row1 col20\" >0.210909</td>\n",
       "                        <td id=\"T_630a5_row1_col21\" class=\"data row1 col21\" >0.345551</td>\n",
       "                        <td id=\"T_630a5_row1_col22\" class=\"data row1 col22\" >0.408884</td>\n",
       "                        <td id=\"T_630a5_row1_col23\" class=\"data row1 col23\" >0.130801</td>\n",
       "                        <td id=\"T_630a5_row1_col24\" class=\"data row1 col24\" >-0.356190</td>\n",
       "                        <td id=\"T_630a5_row1_col25\" class=\"data row1 col25\" >-0.114405</td>\n",
       "                        <td id=\"T_630a5_row1_col26\" class=\"data row1 col26\" >-0.367074</td>\n",
       "                        <td id=\"T_630a5_row1_col27\" class=\"data row1 col27\" >-0.105012</td>\n",
       "                        <td id=\"T_630a5_row1_col28\" class=\"data row1 col28\" >-0.348432</td>\n",
       "                        <td id=\"T_630a5_row1_col29\" class=\"data row1 col29\" >-0.075352</td>\n",
       "                        <td id=\"T_630a5_row1_col30\" class=\"data row1 col30\" >-0.362110</td>\n",
       "                        <td id=\"T_630a5_row1_col31\" class=\"data row1 col31\" >-0.127322</td>\n",
       "                        <td id=\"T_630a5_row1_col32\" class=\"data row1 col32\" >-0.377406</td>\n",
       "                        <td id=\"T_630a5_row1_col33\" class=\"data row1 col33\" >-0.112718</td>\n",
       "                        <td id=\"T_630a5_row1_col34\" class=\"data row1 col34\" >0.077763</td>\n",
       "                        <td id=\"T_630a5_row1_col35\" class=\"data row1 col35\" >-0.089231</td>\n",
       "                        <td id=\"T_630a5_row1_col36\" class=\"data row1 col36\" >0.231374</td>\n",
       "                        <td id=\"T_630a5_row1_col37\" class=\"data row1 col37\" >-0.102904</td>\n",
       "                        <td id=\"T_630a5_row1_col38\" class=\"data row1 col38\" >0.280420</td>\n",
       "                        <td id=\"T_630a5_row1_col39\" class=\"data row1 col39\" >0.119902</td>\n",
       "                        <td id=\"T_630a5_row1_col40\" class=\"data row1 col40\" >0.253658</td>\n",
       "                        <td id=\"T_630a5_row1_col41\" class=\"data row1 col41\" >0.109505</td>\n",
       "                        <td id=\"T_630a5_row1_col42\" class=\"data row1 col42\" >0.321422</td>\n",
       "                        <td id=\"T_630a5_row1_col43\" class=\"data row1 col43\" >0.108111</td>\n",
       "                        <td id=\"T_630a5_row1_col44\" class=\"data row1 col44\" >0.234910</td>\n",
       "                        <td id=\"T_630a5_row1_col45\" class=\"data row1 col45\" >-0.087961</td>\n",
       "                        <td id=\"T_630a5_row1_col46\" class=\"data row1 col46\" >-0.092530</td>\n",
       "                        <td id=\"T_630a5_row1_col47\" class=\"data row1 col47\" >-0.001364</td>\n",
       "                        <td id=\"T_630a5_row1_col48\" class=\"data row1 col48\" >0.062158</td>\n",
       "                        <td id=\"T_630a5_row1_col49\" class=\"data row1 col49\" >-0.003504</td>\n",
       "                        <td id=\"T_630a5_row1_col50\" class=\"data row1 col50\" >-0.200422</td>\n",
       "                        <td id=\"T_630a5_row1_col51\" class=\"data row1 col51\" >0.029256</td>\n",
       "            </tr>\n",
       "            <tr>\n",
       "                        <th id=\"T_630a5_level0_row2\" class=\"row_heading level0 row2\" >primary_cleaner.input.feed_size</th>\n",
       "                        <td id=\"T_630a5_row2_col0\" class=\"data row2 col0\" >0.114564</td>\n",
       "                        <td id=\"T_630a5_row2_col1\" class=\"data row2 col1\" >0.214707</td>\n",
       "                        <td id=\"T_630a5_row2_col2\" class=\"data row2 col2\" >1.000000</td>\n",
       "                        <td id=\"T_630a5_row2_col3\" class=\"data row2 col3\" >-0.291292</td>\n",
       "                        <td id=\"T_630a5_row2_col4\" class=\"data row2 col4\" >-0.064628</td>\n",
       "                        <td id=\"T_630a5_row2_col5\" class=\"data row2 col5\" >0.082869</td>\n",
       "                        <td id=\"T_630a5_row2_col6\" class=\"data row2 col6\" >-0.063490</td>\n",
       "                        <td id=\"T_630a5_row2_col7\" class=\"data row2 col7\" >0.071470</td>\n",
       "                        <td id=\"T_630a5_row2_col8\" class=\"data row2 col8\" >-0.091542</td>\n",
       "                        <td id=\"T_630a5_row2_col9\" class=\"data row2 col9\" >0.066384</td>\n",
       "                        <td id=\"T_630a5_row2_col10\" class=\"data row2 col10\" >-0.074156</td>\n",
       "                        <td id=\"T_630a5_row2_col11\" class=\"data row2 col11\" >0.065808</td>\n",
       "                        <td id=\"T_630a5_row2_col12\" class=\"data row2 col12\" >0.338795</td>\n",
       "                        <td id=\"T_630a5_row2_col13\" class=\"data row2 col13\" >0.000398</td>\n",
       "                        <td id=\"T_630a5_row2_col14\" class=\"data row2 col14\" >0.019618</td>\n",
       "                        <td id=\"T_630a5_row2_col15\" class=\"data row2 col15\" >-0.087339</td>\n",
       "                        <td id=\"T_630a5_row2_col16\" class=\"data row2 col16\" >0.057400</td>\n",
       "                        <td id=\"T_630a5_row2_col17\" class=\"data row2 col17\" >0.238692</td>\n",
       "                        <td id=\"T_630a5_row2_col18\" class=\"data row2 col18\" >-0.186211</td>\n",
       "                        <td id=\"T_630a5_row2_col19\" class=\"data row2 col19\" >0.224360</td>\n",
       "                        <td id=\"T_630a5_row2_col20\" class=\"data row2 col20\" >-0.231701</td>\n",
       "                        <td id=\"T_630a5_row2_col21\" class=\"data row2 col21\" >0.200080</td>\n",
       "                        <td id=\"T_630a5_row2_col22\" class=\"data row2 col22\" >0.023678</td>\n",
       "                        <td id=\"T_630a5_row2_col23\" class=\"data row2 col23\" >-0.236632</td>\n",
       "                        <td id=\"T_630a5_row2_col24\" class=\"data row2 col24\" >0.044605</td>\n",
       "                        <td id=\"T_630a5_row2_col25\" class=\"data row2 col25\" >0.051614</td>\n",
       "                        <td id=\"T_630a5_row2_col26\" class=\"data row2 col26\" >0.064617</td>\n",
       "                        <td id=\"T_630a5_row2_col27\" class=\"data row2 col27\" >0.049608</td>\n",
       "                        <td id=\"T_630a5_row2_col28\" class=\"data row2 col28\" >-0.009526</td>\n",
       "                        <td id=\"T_630a5_row2_col29\" class=\"data row2 col29\" >0.073623</td>\n",
       "                        <td id=\"T_630a5_row2_col30\" class=\"data row2 col30\" >-0.012558</td>\n",
       "                        <td id=\"T_630a5_row2_col31\" class=\"data row2 col31\" >0.006890</td>\n",
       "                        <td id=\"T_630a5_row2_col32\" class=\"data row2 col32\" >-0.129796</td>\n",
       "                        <td id=\"T_630a5_row2_col33\" class=\"data row2 col33\" >0.036627</td>\n",
       "                        <td id=\"T_630a5_row2_col34\" class=\"data row2 col34\" >-0.128544</td>\n",
       "                        <td id=\"T_630a5_row2_col35\" class=\"data row2 col35\" >0.044605</td>\n",
       "                        <td id=\"T_630a5_row2_col36\" class=\"data row2 col36\" >-0.182687</td>\n",
       "                        <td id=\"T_630a5_row2_col37\" class=\"data row2 col37\" >0.005911</td>\n",
       "                        <td id=\"T_630a5_row2_col38\" class=\"data row2 col38\" >0.024735</td>\n",
       "                        <td id=\"T_630a5_row2_col39\" class=\"data row2 col39\" >0.032868</td>\n",
       "                        <td id=\"T_630a5_row2_col40\" class=\"data row2 col40\" >-0.017527</td>\n",
       "                        <td id=\"T_630a5_row2_col41\" class=\"data row2 col41\" >0.025709</td>\n",
       "                        <td id=\"T_630a5_row2_col42\" class=\"data row2 col42\" >-0.148328</td>\n",
       "                        <td id=\"T_630a5_row2_col43\" class=\"data row2 col43\" >-0.121148</td>\n",
       "                        <td id=\"T_630a5_row2_col44\" class=\"data row2 col44\" >-0.173658</td>\n",
       "                        <td id=\"T_630a5_row2_col45\" class=\"data row2 col45\" >-0.137180</td>\n",
       "                        <td id=\"T_630a5_row2_col46\" class=\"data row2 col46\" >-0.192880</td>\n",
       "                        <td id=\"T_630a5_row2_col47\" class=\"data row2 col47\" >-0.059167</td>\n",
       "                        <td id=\"T_630a5_row2_col48\" class=\"data row2 col48\" >-0.214970</td>\n",
       "                        <td id=\"T_630a5_row2_col49\" class=\"data row2 col49\" >-0.054173</td>\n",
       "                        <td id=\"T_630a5_row2_col50\" class=\"data row2 col50\" >0.026930</td>\n",
       "                        <td id=\"T_630a5_row2_col51\" class=\"data row2 col51\" >-0.083021</td>\n",
       "            </tr>\n",
       "            <tr>\n",
       "                        <th id=\"T_630a5_level0_row3\" class=\"row_heading level0 row3\" >primary_cleaner.input.xanthate</th>\n",
       "                        <td id=\"T_630a5_row3_col0\" class=\"data row3 col0\" >0.496786</td>\n",
       "                        <td id=\"T_630a5_row3_col1\" class=\"data row3 col1\" >0.144649</td>\n",
       "                        <td id=\"T_630a5_row3_col2\" class=\"data row3 col2\" >-0.291292</td>\n",
       "                        <td id=\"T_630a5_row3_col3\" class=\"data row3 col3\" >1.000000</td>\n",
       "                        <td id=\"T_630a5_row3_col4\" class=\"data row3 col4\" >0.208295</td>\n",
       "                        <td id=\"T_630a5_row3_col5\" class=\"data row3 col5\" >-0.056301</td>\n",
       "                        <td id=\"T_630a5_row3_col6\" class=\"data row3 col6\" >0.153433</td>\n",
       "                        <td id=\"T_630a5_row3_col7\" class=\"data row3 col7\" >0.017111</td>\n",
       "                        <td id=\"T_630a5_row3_col8\" class=\"data row3 col8\" >0.045527</td>\n",
       "                        <td id=\"T_630a5_row3_col9\" class=\"data row3 col9\" >-0.075309</td>\n",
       "                        <td id=\"T_630a5_row3_col10\" class=\"data row3 col10\" >0.174404</td>\n",
       "                        <td id=\"T_630a5_row3_col11\" class=\"data row3 col11\" >-0.141550</td>\n",
       "                        <td id=\"T_630a5_row3_col12\" class=\"data row3 col12\" >0.049574</td>\n",
       "                        <td id=\"T_630a5_row3_col13\" class=\"data row3 col13\" >0.241885</td>\n",
       "                        <td id=\"T_630a5_row3_col14\" class=\"data row3 col14\" >0.464580</td>\n",
       "                        <td id=\"T_630a5_row3_col15\" class=\"data row3 col15\" >0.195480</td>\n",
       "                        <td id=\"T_630a5_row3_col16\" class=\"data row3 col16\" >0.372327</td>\n",
       "                        <td id=\"T_630a5_row3_col17\" class=\"data row3 col17\" >0.095280</td>\n",
       "                        <td id=\"T_630a5_row3_col18\" class=\"data row3 col18\" >0.581719</td>\n",
       "                        <td id=\"T_630a5_row3_col19\" class=\"data row3 col19\" >0.350601</td>\n",
       "                        <td id=\"T_630a5_row3_col20\" class=\"data row3 col20\" >0.594250</td>\n",
       "                        <td id=\"T_630a5_row3_col21\" class=\"data row3 col21\" >0.378950</td>\n",
       "                        <td id=\"T_630a5_row3_col22\" class=\"data row3 col22\" >0.402104</td>\n",
       "                        <td id=\"T_630a5_row3_col23\" class=\"data row3 col23\" >0.424813</td>\n",
       "                        <td id=\"T_630a5_row3_col24\" class=\"data row3 col24\" >-0.385724</td>\n",
       "                        <td id=\"T_630a5_row3_col25\" class=\"data row3 col25\" >-0.341158</td>\n",
       "                        <td id=\"T_630a5_row3_col26\" class=\"data row3 col26\" >-0.404612</td>\n",
       "                        <td id=\"T_630a5_row3_col27\" class=\"data row3 col27\" >-0.345842</td>\n",
       "                        <td id=\"T_630a5_row3_col28\" class=\"data row3 col28\" >-0.392190</td>\n",
       "                        <td id=\"T_630a5_row3_col29\" class=\"data row3 col29\" >-0.325264</td>\n",
       "                        <td id=\"T_630a5_row3_col30\" class=\"data row3 col30\" >-0.320581</td>\n",
       "                        <td id=\"T_630a5_row3_col31\" class=\"data row3 col31\" >-0.362139</td>\n",
       "                        <td id=\"T_630a5_row3_col32\" class=\"data row3 col32\" >-0.289656</td>\n",
       "                        <td id=\"T_630a5_row3_col33\" class=\"data row3 col33\" >-0.333668</td>\n",
       "                        <td id=\"T_630a5_row3_col34\" class=\"data row3 col34\" >-0.038199</td>\n",
       "                        <td id=\"T_630a5_row3_col35\" class=\"data row3 col35\" >-0.160438</td>\n",
       "                        <td id=\"T_630a5_row3_col36\" class=\"data row3 col36\" >0.221401</td>\n",
       "                        <td id=\"T_630a5_row3_col37\" class=\"data row3 col37\" >-0.111152</td>\n",
       "                        <td id=\"T_630a5_row3_col38\" class=\"data row3 col38\" >-0.041667</td>\n",
       "                        <td id=\"T_630a5_row3_col39\" class=\"data row3 col39\" >-0.033249</td>\n",
       "                        <td id=\"T_630a5_row3_col40\" class=\"data row3 col40\" >-0.050318</td>\n",
       "                        <td id=\"T_630a5_row3_col41\" class=\"data row3 col41\" >-0.008513</td>\n",
       "                        <td id=\"T_630a5_row3_col42\" class=\"data row3 col42\" >0.313515</td>\n",
       "                        <td id=\"T_630a5_row3_col43\" class=\"data row3 col43\" >0.131815</td>\n",
       "                        <td id=\"T_630a5_row3_col44\" class=\"data row3 col44\" >0.361214</td>\n",
       "                        <td id=\"T_630a5_row3_col45\" class=\"data row3 col45\" >0.122248</td>\n",
       "                        <td id=\"T_630a5_row3_col46\" class=\"data row3 col46\" >0.059953</td>\n",
       "                        <td id=\"T_630a5_row3_col47\" class=\"data row3 col47\" >0.128417</td>\n",
       "                        <td id=\"T_630a5_row3_col48\" class=\"data row3 col48\" >0.078242</td>\n",
       "                        <td id=\"T_630a5_row3_col49\" class=\"data row3 col49\" >0.096969</td>\n",
       "                        <td id=\"T_630a5_row3_col50\" class=\"data row3 col50\" >-0.217392</td>\n",
       "                        <td id=\"T_630a5_row3_col51\" class=\"data row3 col51\" >0.081986</td>\n",
       "            </tr>\n",
       "            <tr>\n",
       "                        <th id=\"T_630a5_level0_row4\" class=\"row_heading level0 row4\" >primary_cleaner.state.floatbank8_a_air</th>\n",
       "                        <td id=\"T_630a5_row4_col0\" class=\"data row4 col0\" >0.100810</td>\n",
       "                        <td id=\"T_630a5_row4_col1\" class=\"data row4 col1\" >0.128135</td>\n",
       "                        <td id=\"T_630a5_row4_col2\" class=\"data row4 col2\" >-0.064628</td>\n",
       "                        <td id=\"T_630a5_row4_col3\" class=\"data row4 col3\" >0.208295</td>\n",
       "                        <td id=\"T_630a5_row4_col4\" class=\"data row4 col4\" >1.000000</td>\n",
       "                        <td id=\"T_630a5_row4_col5\" class=\"data row4 col5\" >0.121274</td>\n",
       "                        <td id=\"T_630a5_row4_col6\" class=\"data row4 col6\" >0.968679</td>\n",
       "                        <td id=\"T_630a5_row4_col7\" class=\"data row4 col7\" >-0.018713</td>\n",
       "                        <td id=\"T_630a5_row4_col8\" class=\"data row4 col8\" >0.814992</td>\n",
       "                        <td id=\"T_630a5_row4_col9\" class=\"data row4 col9\" >0.114058</td>\n",
       "                        <td id=\"T_630a5_row4_col10\" class=\"data row4 col10\" >0.959166</td>\n",
       "                        <td id=\"T_630a5_row4_col11\" class=\"data row4 col11\" >0.061389</td>\n",
       "                        <td id=\"T_630a5_row4_col12\" class=\"data row4 col12\" >0.252818</td>\n",
       "                        <td id=\"T_630a5_row4_col13\" class=\"data row4 col13\" >0.064620</td>\n",
       "                        <td id=\"T_630a5_row4_col14\" class=\"data row4 col14\" >-0.010564</td>\n",
       "                        <td id=\"T_630a5_row4_col15\" class=\"data row4 col15\" >-0.073142</td>\n",
       "                        <td id=\"T_630a5_row4_col16\" class=\"data row4 col16\" >-0.060574</td>\n",
       "                        <td id=\"T_630a5_row4_col17\" class=\"data row4 col17\" >0.218384</td>\n",
       "                        <td id=\"T_630a5_row4_col18\" class=\"data row4 col18\" >0.041911</td>\n",
       "                        <td id=\"T_630a5_row4_col19\" class=\"data row4 col19\" >0.187693</td>\n",
       "                        <td id=\"T_630a5_row4_col20\" class=\"data row4 col20\" >0.046837</td>\n",
       "                        <td id=\"T_630a5_row4_col21\" class=\"data row4 col21\" >0.199009</td>\n",
       "                        <td id=\"T_630a5_row4_col22\" class=\"data row4 col22\" >0.215473</td>\n",
       "                        <td id=\"T_630a5_row4_col23\" class=\"data row4 col23\" >-0.033903</td>\n",
       "                        <td id=\"T_630a5_row4_col24\" class=\"data row4 col24\" >0.199338</td>\n",
       "                        <td id=\"T_630a5_row4_col25\" class=\"data row4 col25\" >0.291111</td>\n",
       "                        <td id=\"T_630a5_row4_col26\" class=\"data row4 col26\" >0.216971</td>\n",
       "                        <td id=\"T_630a5_row4_col27\" class=\"data row4 col27\" >0.285786</td>\n",
       "                        <td id=\"T_630a5_row4_col28\" class=\"data row4 col28\" >0.160151</td>\n",
       "                        <td id=\"T_630a5_row4_col29\" class=\"data row4 col29\" >0.245276</td>\n",
       "                        <td id=\"T_630a5_row4_col30\" class=\"data row4 col30\" >0.347687</td>\n",
       "                        <td id=\"T_630a5_row4_col31\" class=\"data row4 col31\" >0.280493</td>\n",
       "                        <td id=\"T_630a5_row4_col32\" class=\"data row4 col32\" >0.280753</td>\n",
       "                        <td id=\"T_630a5_row4_col33\" class=\"data row4 col33\" >0.289477</td>\n",
       "                        <td id=\"T_630a5_row4_col34\" class=\"data row4 col34\" >0.258797</td>\n",
       "                        <td id=\"T_630a5_row4_col35\" class=\"data row4 col35\" >-0.059849</td>\n",
       "                        <td id=\"T_630a5_row4_col36\" class=\"data row4 col36\" >0.422603</td>\n",
       "                        <td id=\"T_630a5_row4_col37\" class=\"data row4 col37\" >-0.084396</td>\n",
       "                        <td id=\"T_630a5_row4_col38\" class=\"data row4 col38\" >0.369040</td>\n",
       "                        <td id=\"T_630a5_row4_col39\" class=\"data row4 col39\" >-0.040073</td>\n",
       "                        <td id=\"T_630a5_row4_col40\" class=\"data row4 col40\" >0.457278</td>\n",
       "                        <td id=\"T_630a5_row4_col41\" class=\"data row4 col41\" >-0.007847</td>\n",
       "                        <td id=\"T_630a5_row4_col42\" class=\"data row4 col42\" >0.469180</td>\n",
       "                        <td id=\"T_630a5_row4_col43\" class=\"data row4 col43\" >0.005962</td>\n",
       "                        <td id=\"T_630a5_row4_col44\" class=\"data row4 col44\" >0.476742</td>\n",
       "                        <td id=\"T_630a5_row4_col45\" class=\"data row4 col45\" >-0.058593</td>\n",
       "                        <td id=\"T_630a5_row4_col46\" class=\"data row4 col46\" >0.408050</td>\n",
       "                        <td id=\"T_630a5_row4_col47\" class=\"data row4 col47\" >0.271547</td>\n",
       "                        <td id=\"T_630a5_row4_col48\" class=\"data row4 col48\" >0.465492</td>\n",
       "                        <td id=\"T_630a5_row4_col49\" class=\"data row4 col49\" >0.161509</td>\n",
       "                        <td id=\"T_630a5_row4_col50\" class=\"data row4 col50\" >0.345231</td>\n",
       "                        <td id=\"T_630a5_row4_col51\" class=\"data row4 col51\" >0.172154</td>\n",
       "            </tr>\n",
       "            <tr>\n",
       "                        <th id=\"T_630a5_level0_row5\" class=\"row_heading level0 row5\" >primary_cleaner.state.floatbank8_a_level</th>\n",
       "                        <td id=\"T_630a5_row5_col0\" class=\"data row5 col0\" >0.047802</td>\n",
       "                        <td id=\"T_630a5_row5_col1\" class=\"data row5 col1\" >0.215392</td>\n",
       "                        <td id=\"T_630a5_row5_col2\" class=\"data row5 col2\" >0.082869</td>\n",
       "                        <td id=\"T_630a5_row5_col3\" class=\"data row5 col3\" >-0.056301</td>\n",
       "                        <td id=\"T_630a5_row5_col4\" class=\"data row5 col4\" >0.121274</td>\n",
       "                        <td id=\"T_630a5_row5_col5\" class=\"data row5 col5\" >1.000000</td>\n",
       "                        <td id=\"T_630a5_row5_col6\" class=\"data row5 col6\" >0.101975</td>\n",
       "                        <td id=\"T_630a5_row5_col7\" class=\"data row5 col7\" >0.417515</td>\n",
       "                        <td id=\"T_630a5_row5_col8\" class=\"data row5 col8\" >-0.018378</td>\n",
       "                        <td id=\"T_630a5_row5_col9\" class=\"data row5 col9\" >0.784061</td>\n",
       "                        <td id=\"T_630a5_row5_col10\" class=\"data row5 col10\" >0.110760</td>\n",
       "                        <td id=\"T_630a5_row5_col11\" class=\"data row5 col11\" >0.406960</td>\n",
       "                        <td id=\"T_630a5_row5_col12\" class=\"data row5 col12\" >0.197111</td>\n",
       "                        <td id=\"T_630a5_row5_col13\" class=\"data row5 col13\" >0.231743</td>\n",
       "                        <td id=\"T_630a5_row5_col14\" class=\"data row5 col14\" >-0.009139</td>\n",
       "                        <td id=\"T_630a5_row5_col15\" class=\"data row5 col15\" >0.004788</td>\n",
       "                        <td id=\"T_630a5_row5_col16\" class=\"data row5 col16\" >0.055251</td>\n",
       "                        <td id=\"T_630a5_row5_col17\" class=\"data row5 col17\" >0.184980</td>\n",
       "                        <td id=\"T_630a5_row5_col18\" class=\"data row5 col18\" >-0.058344</td>\n",
       "                        <td id=\"T_630a5_row5_col19\" class=\"data row5 col19\" >0.110566</td>\n",
       "                        <td id=\"T_630a5_row5_col20\" class=\"data row5 col20\" >-0.079213</td>\n",
       "                        <td id=\"T_630a5_row5_col21\" class=\"data row5 col21\" >0.090125</td>\n",
       "                        <td id=\"T_630a5_row5_col22\" class=\"data row5 col22\" >0.387206</td>\n",
       "                        <td id=\"T_630a5_row5_col23\" class=\"data row5 col23\" >0.159607</td>\n",
       "                        <td id=\"T_630a5_row5_col24\" class=\"data row5 col24\" >-0.076365</td>\n",
       "                        <td id=\"T_630a5_row5_col25\" class=\"data row5 col25\" >-0.037724</td>\n",
       "                        <td id=\"T_630a5_row5_col26\" class=\"data row5 col26\" >-0.129885</td>\n",
       "                        <td id=\"T_630a5_row5_col27\" class=\"data row5 col27\" >-0.043906</td>\n",
       "                        <td id=\"T_630a5_row5_col28\" class=\"data row5 col28\" >-0.134939</td>\n",
       "                        <td id=\"T_630a5_row5_col29\" class=\"data row5 col29\" >-0.071941</td>\n",
       "                        <td id=\"T_630a5_row5_col30\" class=\"data row5 col30\" >-0.098849</td>\n",
       "                        <td id=\"T_630a5_row5_col31\" class=\"data row5 col31\" >-0.072159</td>\n",
       "                        <td id=\"T_630a5_row5_col32\" class=\"data row5 col32\" >-0.050940</td>\n",
       "                        <td id=\"T_630a5_row5_col33\" class=\"data row5 col33\" >-0.042153</td>\n",
       "                        <td id=\"T_630a5_row5_col34\" class=\"data row5 col34\" >0.108288</td>\n",
       "                        <td id=\"T_630a5_row5_col35\" class=\"data row5 col35\" >0.083484</td>\n",
       "                        <td id=\"T_630a5_row5_col36\" class=\"data row5 col36\" >0.163920</td>\n",
       "                        <td id=\"T_630a5_row5_col37\" class=\"data row5 col37\" >0.080897</td>\n",
       "                        <td id=\"T_630a5_row5_col38\" class=\"data row5 col38\" >0.083934</td>\n",
       "                        <td id=\"T_630a5_row5_col39\" class=\"data row5 col39\" >0.069909</td>\n",
       "                        <td id=\"T_630a5_row5_col40\" class=\"data row5 col40\" >0.057372</td>\n",
       "                        <td id=\"T_630a5_row5_col41\" class=\"data row5 col41\" >0.053060</td>\n",
       "                        <td id=\"T_630a5_row5_col42\" class=\"data row5 col42\" >0.171716</td>\n",
       "                        <td id=\"T_630a5_row5_col43\" class=\"data row5 col43\" >0.096500</td>\n",
       "                        <td id=\"T_630a5_row5_col44\" class=\"data row5 col44\" >0.084418</td>\n",
       "                        <td id=\"T_630a5_row5_col45\" class=\"data row5 col45\" >-0.005819</td>\n",
       "                        <td id=\"T_630a5_row5_col46\" class=\"data row5 col46\" >-0.036132</td>\n",
       "                        <td id=\"T_630a5_row5_col47\" class=\"data row5 col47\" >0.164220</td>\n",
       "                        <td id=\"T_630a5_row5_col48\" class=\"data row5 col48\" >-0.012665</td>\n",
       "                        <td id=\"T_630a5_row5_col49\" class=\"data row5 col49\" >0.091263</td>\n",
       "                        <td id=\"T_630a5_row5_col50\" class=\"data row5 col50\" >-0.107710</td>\n",
       "                        <td id=\"T_630a5_row5_col51\" class=\"data row5 col51\" >0.076271</td>\n",
       "            </tr>\n",
       "            <tr>\n",
       "                        <th id=\"T_630a5_level0_row6\" class=\"row_heading level0 row6\" >primary_cleaner.state.floatbank8_b_air</th>\n",
       "                        <td id=\"T_630a5_row6_col0\" class=\"data row6 col0\" >0.074719</td>\n",
       "                        <td id=\"T_630a5_row6_col1\" class=\"data row6 col1\" >0.133109</td>\n",
       "                        <td id=\"T_630a5_row6_col2\" class=\"data row6 col2\" >-0.063490</td>\n",
       "                        <td id=\"T_630a5_row6_col3\" class=\"data row6 col3\" >0.153433</td>\n",
       "                        <td id=\"T_630a5_row6_col4\" class=\"data row6 col4\" >0.968679</td>\n",
       "                        <td id=\"T_630a5_row6_col5\" class=\"data row6 col5\" >0.101975</td>\n",
       "                        <td id=\"T_630a5_row6_col6\" class=\"data row6 col6\" >1.000000</td>\n",
       "                        <td id=\"T_630a5_row6_col7\" class=\"data row6 col7\" >0.010220</td>\n",
       "                        <td id=\"T_630a5_row6_col8\" class=\"data row6 col8\" >0.862946</td>\n",
       "                        <td id=\"T_630a5_row6_col9\" class=\"data row6 col9\" >0.101127</td>\n",
       "                        <td id=\"T_630a5_row6_col10\" class=\"data row6 col10\" >0.974342</td>\n",
       "                        <td id=\"T_630a5_row6_col11\" class=\"data row6 col11\" >0.059940</td>\n",
       "                        <td id=\"T_630a5_row6_col12\" class=\"data row6 col12\" >0.250553</td>\n",
       "                        <td id=\"T_630a5_row6_col13\" class=\"data row6 col13\" >0.054633</td>\n",
       "                        <td id=\"T_630a5_row6_col14\" class=\"data row6 col14\" >-0.044562</td>\n",
       "                        <td id=\"T_630a5_row6_col15\" class=\"data row6 col15\" >-0.098048</td>\n",
       "                        <td id=\"T_630a5_row6_col16\" class=\"data row6 col16\" >-0.088980</td>\n",
       "                        <td id=\"T_630a5_row6_col17\" class=\"data row6 col17\" >0.243540</td>\n",
       "                        <td id=\"T_630a5_row6_col18\" class=\"data row6 col18\" >0.035523</td>\n",
       "                        <td id=\"T_630a5_row6_col19\" class=\"data row6 col19\" >0.172360</td>\n",
       "                        <td id=\"T_630a5_row6_col20\" class=\"data row6 col20\" >0.047361</td>\n",
       "                        <td id=\"T_630a5_row6_col21\" class=\"data row6 col21\" >0.194925</td>\n",
       "                        <td id=\"T_630a5_row6_col22\" class=\"data row6 col22\" >0.169211</td>\n",
       "                        <td id=\"T_630a5_row6_col23\" class=\"data row6 col23\" >-0.073373</td>\n",
       "                        <td id=\"T_630a5_row6_col24\" class=\"data row6 col24\" >0.230489</td>\n",
       "                        <td id=\"T_630a5_row6_col25\" class=\"data row6 col25\" >0.371841</td>\n",
       "                        <td id=\"T_630a5_row6_col26\" class=\"data row6 col26\" >0.259523</td>\n",
       "                        <td id=\"T_630a5_row6_col27\" class=\"data row6 col27\" >0.368792</td>\n",
       "                        <td id=\"T_630a5_row6_col28\" class=\"data row6 col28\" >0.203227</td>\n",
       "                        <td id=\"T_630a5_row6_col29\" class=\"data row6 col29\" >0.327134</td>\n",
       "                        <td id=\"T_630a5_row6_col30\" class=\"data row6 col30\" >0.402047</td>\n",
       "                        <td id=\"T_630a5_row6_col31\" class=\"data row6 col31\" >0.391511</td>\n",
       "                        <td id=\"T_630a5_row6_col32\" class=\"data row6 col32\" >0.344900</td>\n",
       "                        <td id=\"T_630a5_row6_col33\" class=\"data row6 col33\" >0.394670</td>\n",
       "                        <td id=\"T_630a5_row6_col34\" class=\"data row6 col34\" >0.326207</td>\n",
       "                        <td id=\"T_630a5_row6_col35\" class=\"data row6 col35\" >-0.052484</td>\n",
       "                        <td id=\"T_630a5_row6_col36\" class=\"data row6 col36\" >0.458442</td>\n",
       "                        <td id=\"T_630a5_row6_col37\" class=\"data row6 col37\" >-0.079535</td>\n",
       "                        <td id=\"T_630a5_row6_col38\" class=\"data row6 col38\" >0.415503</td>\n",
       "                        <td id=\"T_630a5_row6_col39\" class=\"data row6 col39\" >-0.023823</td>\n",
       "                        <td id=\"T_630a5_row6_col40\" class=\"data row6 col40\" >0.518832</td>\n",
       "                        <td id=\"T_630a5_row6_col41\" class=\"data row6 col41\" >0.008616</td>\n",
       "                        <td id=\"T_630a5_row6_col42\" class=\"data row6 col42\" >0.483741</td>\n",
       "                        <td id=\"T_630a5_row6_col43\" class=\"data row6 col43\" >0.023801</td>\n",
       "                        <td id=\"T_630a5_row6_col44\" class=\"data row6 col44\" >0.487327</td>\n",
       "                        <td id=\"T_630a5_row6_col45\" class=\"data row6 col45\" >-0.080058</td>\n",
       "                        <td id=\"T_630a5_row6_col46\" class=\"data row6 col46\" >0.415343</td>\n",
       "                        <td id=\"T_630a5_row6_col47\" class=\"data row6 col47\" >0.260220</td>\n",
       "                        <td id=\"T_630a5_row6_col48\" class=\"data row6 col48\" >0.499829</td>\n",
       "                        <td id=\"T_630a5_row6_col49\" class=\"data row6 col49\" >0.155978</td>\n",
       "                        <td id=\"T_630a5_row6_col50\" class=\"data row6 col50\" >0.389594</td>\n",
       "                        <td id=\"T_630a5_row6_col51\" class=\"data row6 col51\" >0.187429</td>\n",
       "            </tr>\n",
       "            <tr>\n",
       "                        <th id=\"T_630a5_level0_row7\" class=\"row_heading level0 row7\" >primary_cleaner.state.floatbank8_b_level</th>\n",
       "                        <td id=\"T_630a5_row7_col0\" class=\"data row7 col0\" >0.139819</td>\n",
       "                        <td id=\"T_630a5_row7_col1\" class=\"data row7 col1\" >0.200031</td>\n",
       "                        <td id=\"T_630a5_row7_col2\" class=\"data row7 col2\" >0.071470</td>\n",
       "                        <td id=\"T_630a5_row7_col3\" class=\"data row7 col3\" >0.017111</td>\n",
       "                        <td id=\"T_630a5_row7_col4\" class=\"data row7 col4\" >-0.018713</td>\n",
       "                        <td id=\"T_630a5_row7_col5\" class=\"data row7 col5\" >0.417515</td>\n",
       "                        <td id=\"T_630a5_row7_col6\" class=\"data row7 col6\" >0.010220</td>\n",
       "                        <td id=\"T_630a5_row7_col7\" class=\"data row7 col7\" >1.000000</td>\n",
       "                        <td id=\"T_630a5_row7_col8\" class=\"data row7 col8\" >-0.029228</td>\n",
       "                        <td id=\"T_630a5_row7_col9\" class=\"data row7 col9\" >0.406721</td>\n",
       "                        <td id=\"T_630a5_row7_col10\" class=\"data row7 col10\" >0.015972</td>\n",
       "                        <td id=\"T_630a5_row7_col11\" class=\"data row7 col11\" >0.233257</td>\n",
       "                        <td id=\"T_630a5_row7_col12\" class=\"data row7 col12\" >0.128053</td>\n",
       "                        <td id=\"T_630a5_row7_col13\" class=\"data row7 col13\" >0.223188</td>\n",
       "                        <td id=\"T_630a5_row7_col14\" class=\"data row7 col14\" >0.031262</td>\n",
       "                        <td id=\"T_630a5_row7_col15\" class=\"data row7 col15\" >-0.043022</td>\n",
       "                        <td id=\"T_630a5_row7_col16\" class=\"data row7 col16\" >0.049419</td>\n",
       "                        <td id=\"T_630a5_row7_col17\" class=\"data row7 col17\" >0.178838</td>\n",
       "                        <td id=\"T_630a5_row7_col18\" class=\"data row7 col18\" >0.023787</td>\n",
       "                        <td id=\"T_630a5_row7_col19\" class=\"data row7 col19\" >0.067695</td>\n",
       "                        <td id=\"T_630a5_row7_col20\" class=\"data row7 col20\" >0.045953</td>\n",
       "                        <td id=\"T_630a5_row7_col21\" class=\"data row7 col21\" >0.102405</td>\n",
       "                        <td id=\"T_630a5_row7_col22\" class=\"data row7 col22\" >0.207161</td>\n",
       "                        <td id=\"T_630a5_row7_col23\" class=\"data row7 col23\" >0.076225</td>\n",
       "                        <td id=\"T_630a5_row7_col24\" class=\"data row7 col24\" >-0.014215</td>\n",
       "                        <td id=\"T_630a5_row7_col25\" class=\"data row7 col25\" >0.020230</td>\n",
       "                        <td id=\"T_630a5_row7_col26\" class=\"data row7 col26\" >-0.052763</td>\n",
       "                        <td id=\"T_630a5_row7_col27\" class=\"data row7 col27\" >0.007639</td>\n",
       "                        <td id=\"T_630a5_row7_col28\" class=\"data row7 col28\" >-0.015855</td>\n",
       "                        <td id=\"T_630a5_row7_col29\" class=\"data row7 col29\" >0.005728</td>\n",
       "                        <td id=\"T_630a5_row7_col30\" class=\"data row7 col30\" >-0.052321</td>\n",
       "                        <td id=\"T_630a5_row7_col31\" class=\"data row7 col31\" >0.002047</td>\n",
       "                        <td id=\"T_630a5_row7_col32\" class=\"data row7 col32\" >-0.007648</td>\n",
       "                        <td id=\"T_630a5_row7_col33\" class=\"data row7 col33\" >0.013656</td>\n",
       "                        <td id=\"T_630a5_row7_col34\" class=\"data row7 col34\" >0.064035</td>\n",
       "                        <td id=\"T_630a5_row7_col35\" class=\"data row7 col35\" >0.006019</td>\n",
       "                        <td id=\"T_630a5_row7_col36\" class=\"data row7 col36\" >0.104585</td>\n",
       "                        <td id=\"T_630a5_row7_col37\" class=\"data row7 col37\" >0.009400</td>\n",
       "                        <td id=\"T_630a5_row7_col38\" class=\"data row7 col38\" >0.086051</td>\n",
       "                        <td id=\"T_630a5_row7_col39\" class=\"data row7 col39\" >0.094441</td>\n",
       "                        <td id=\"T_630a5_row7_col40\" class=\"data row7 col40\" >0.081030</td>\n",
       "                        <td id=\"T_630a5_row7_col41\" class=\"data row7 col41\" >0.100982</td>\n",
       "                        <td id=\"T_630a5_row7_col42\" class=\"data row7 col42\" >0.078411</td>\n",
       "                        <td id=\"T_630a5_row7_col43\" class=\"data row7 col43\" >0.216342</td>\n",
       "                        <td id=\"T_630a5_row7_col44\" class=\"data row7 col44\" >0.054902</td>\n",
       "                        <td id=\"T_630a5_row7_col45\" class=\"data row7 col45\" >-0.038440</td>\n",
       "                        <td id=\"T_630a5_row7_col46\" class=\"data row7 col46\" >-0.009671</td>\n",
       "                        <td id=\"T_630a5_row7_col47\" class=\"data row7 col47\" >0.029409</td>\n",
       "                        <td id=\"T_630a5_row7_col48\" class=\"data row7 col48\" >0.012115</td>\n",
       "                        <td id=\"T_630a5_row7_col49\" class=\"data row7 col49\" >0.004864</td>\n",
       "                        <td id=\"T_630a5_row7_col50\" class=\"data row7 col50\" >-0.006694</td>\n",
       "                        <td id=\"T_630a5_row7_col51\" class=\"data row7 col51\" >0.012904</td>\n",
       "            </tr>\n",
       "            <tr>\n",
       "                        <th id=\"T_630a5_level0_row8\" class=\"row_heading level0 row8\" >primary_cleaner.state.floatbank8_c_air</th>\n",
       "                        <td id=\"T_630a5_row8_col0\" class=\"data row8 col0\" >0.024925</td>\n",
       "                        <td id=\"T_630a5_row8_col1\" class=\"data row8 col1\" >0.025947</td>\n",
       "                        <td id=\"T_630a5_row8_col2\" class=\"data row8 col2\" >-0.091542</td>\n",
       "                        <td id=\"T_630a5_row8_col3\" class=\"data row8 col3\" >0.045527</td>\n",
       "                        <td id=\"T_630a5_row8_col4\" class=\"data row8 col4\" >0.814992</td>\n",
       "                        <td id=\"T_630a5_row8_col5\" class=\"data row8 col5\" >-0.018378</td>\n",
       "                        <td id=\"T_630a5_row8_col6\" class=\"data row8 col6\" >0.862946</td>\n",
       "                        <td id=\"T_630a5_row8_col7\" class=\"data row8 col7\" >-0.029228</td>\n",
       "                        <td id=\"T_630a5_row8_col8\" class=\"data row8 col8\" >1.000000</td>\n",
       "                        <td id=\"T_630a5_row8_col9\" class=\"data row8 col9\" >0.003322</td>\n",
       "                        <td id=\"T_630a5_row8_col10\" class=\"data row8 col10\" >0.848010</td>\n",
       "                        <td id=\"T_630a5_row8_col11\" class=\"data row8 col11\" >0.013847</td>\n",
       "                        <td id=\"T_630a5_row8_col12\" class=\"data row8 col12\" >0.149500</td>\n",
       "                        <td id=\"T_630a5_row8_col13\" class=\"data row8 col13\" >-0.054736</td>\n",
       "                        <td id=\"T_630a5_row8_col14\" class=\"data row8 col14\" >-0.101521</td>\n",
       "                        <td id=\"T_630a5_row8_col15\" class=\"data row8 col15\" >-0.162543</td>\n",
       "                        <td id=\"T_630a5_row8_col16\" class=\"data row8 col16\" >-0.157935</td>\n",
       "                        <td id=\"T_630a5_row8_col17\" class=\"data row8 col17\" >0.168597</td>\n",
       "                        <td id=\"T_630a5_row8_col18\" class=\"data row8 col18\" >-0.016792</td>\n",
       "                        <td id=\"T_630a5_row8_col19\" class=\"data row8 col19\" >0.135009</td>\n",
       "                        <td id=\"T_630a5_row8_col20\" class=\"data row8 col20\" >0.016075</td>\n",
       "                        <td id=\"T_630a5_row8_col21\" class=\"data row8 col21\" >0.181177</td>\n",
       "                        <td id=\"T_630a5_row8_col22\" class=\"data row8 col22\" >-0.087974</td>\n",
       "                        <td id=\"T_630a5_row8_col23\" class=\"data row8 col23\" >-0.222135</td>\n",
       "                        <td id=\"T_630a5_row8_col24\" class=\"data row8 col24\" >0.300457</td>\n",
       "                        <td id=\"T_630a5_row8_col25\" class=\"data row8 col25\" >0.451746</td>\n",
       "                        <td id=\"T_630a5_row8_col26\" class=\"data row8 col26\" >0.360889</td>\n",
       "                        <td id=\"T_630a5_row8_col27\" class=\"data row8 col27\" >0.453606</td>\n",
       "                        <td id=\"T_630a5_row8_col28\" class=\"data row8 col28\" >0.310832</td>\n",
       "                        <td id=\"T_630a5_row8_col29\" class=\"data row8 col29\" >0.406637</td>\n",
       "                        <td id=\"T_630a5_row8_col30\" class=\"data row8 col30\" >0.452348</td>\n",
       "                        <td id=\"T_630a5_row8_col31\" class=\"data row8 col31\" >0.463951</td>\n",
       "                        <td id=\"T_630a5_row8_col32\" class=\"data row8 col32\" >0.354735</td>\n",
       "                        <td id=\"T_630a5_row8_col33\" class=\"data row8 col33\" >0.471963</td>\n",
       "                        <td id=\"T_630a5_row8_col34\" class=\"data row8 col34\" >0.277849</td>\n",
       "                        <td id=\"T_630a5_row8_col35\" class=\"data row8 col35\" >0.022228</td>\n",
       "                        <td id=\"T_630a5_row8_col36\" class=\"data row8 col36\" >0.363017</td>\n",
       "                        <td id=\"T_630a5_row8_col37\" class=\"data row8 col37\" >-0.014146</td>\n",
       "                        <td id=\"T_630a5_row8_col38\" class=\"data row8 col38\" >0.412137</td>\n",
       "                        <td id=\"T_630a5_row8_col39\" class=\"data row8 col39\" >-0.030285</td>\n",
       "                        <td id=\"T_630a5_row8_col40\" class=\"data row8 col40\" >0.493835</td>\n",
       "                        <td id=\"T_630a5_row8_col41\" class=\"data row8 col41\" >-0.000623</td>\n",
       "                        <td id=\"T_630a5_row8_col42\" class=\"data row8 col42\" >0.366373</td>\n",
       "                        <td id=\"T_630a5_row8_col43\" class=\"data row8 col43\" >0.047373</td>\n",
       "                        <td id=\"T_630a5_row8_col44\" class=\"data row8 col44\" >0.396029</td>\n",
       "                        <td id=\"T_630a5_row8_col45\" class=\"data row8 col45\" >-0.031081</td>\n",
       "                        <td id=\"T_630a5_row8_col46\" class=\"data row8 col46\" >0.400765</td>\n",
       "                        <td id=\"T_630a5_row8_col47\" class=\"data row8 col47\" >0.239333</td>\n",
       "                        <td id=\"T_630a5_row8_col48\" class=\"data row8 col48\" >0.500353</td>\n",
       "                        <td id=\"T_630a5_row8_col49\" class=\"data row8 col49\" >0.117465</td>\n",
       "                        <td id=\"T_630a5_row8_col50\" class=\"data row8 col50\" >0.490672</td>\n",
       "                        <td id=\"T_630a5_row8_col51\" class=\"data row8 col51\" >0.169634</td>\n",
       "            </tr>\n",
       "            <tr>\n",
       "                        <th id=\"T_630a5_level0_row9\" class=\"row_heading level0 row9\" >primary_cleaner.state.floatbank8_c_level</th>\n",
       "                        <td id=\"T_630a5_row9_col0\" class=\"data row9 col0\" >0.028155</td>\n",
       "                        <td id=\"T_630a5_row9_col1\" class=\"data row9 col1\" >0.185370</td>\n",
       "                        <td id=\"T_630a5_row9_col2\" class=\"data row9 col2\" >0.066384</td>\n",
       "                        <td id=\"T_630a5_row9_col3\" class=\"data row9 col3\" >-0.075309</td>\n",
       "                        <td id=\"T_630a5_row9_col4\" class=\"data row9 col4\" >0.114058</td>\n",
       "                        <td id=\"T_630a5_row9_col5\" class=\"data row9 col5\" >0.784061</td>\n",
       "                        <td id=\"T_630a5_row9_col6\" class=\"data row9 col6\" >0.101127</td>\n",
       "                        <td id=\"T_630a5_row9_col7\" class=\"data row9 col7\" >0.406721</td>\n",
       "                        <td id=\"T_630a5_row9_col8\" class=\"data row9 col8\" >0.003322</td>\n",
       "                        <td id=\"T_630a5_row9_col9\" class=\"data row9 col9\" >1.000000</td>\n",
       "                        <td id=\"T_630a5_row9_col10\" class=\"data row9 col10\" >0.113492</td>\n",
       "                        <td id=\"T_630a5_row9_col11\" class=\"data row9 col11\" >0.486463</td>\n",
       "                        <td id=\"T_630a5_row9_col12\" class=\"data row9 col12\" >0.162198</td>\n",
       "                        <td id=\"T_630a5_row9_col13\" class=\"data row9 col13\" >0.176345</td>\n",
       "                        <td id=\"T_630a5_row9_col14\" class=\"data row9 col14\" >-0.006190</td>\n",
       "                        <td id=\"T_630a5_row9_col15\" class=\"data row9 col15\" >0.002130</td>\n",
       "                        <td id=\"T_630a5_row9_col16\" class=\"data row9 col16\" >0.040593</td>\n",
       "                        <td id=\"T_630a5_row9_col17\" class=\"data row9 col17\" >0.143132</td>\n",
       "                        <td id=\"T_630a5_row9_col18\" class=\"data row9 col18\" >-0.069795</td>\n",
       "                        <td id=\"T_630a5_row9_col19\" class=\"data row9 col19\" >0.082145</td>\n",
       "                        <td id=\"T_630a5_row9_col20\" class=\"data row9 col20\" >-0.083834</td>\n",
       "                        <td id=\"T_630a5_row9_col21\" class=\"data row9 col21\" >0.067524</td>\n",
       "                        <td id=\"T_630a5_row9_col22\" class=\"data row9 col22\" >0.333690</td>\n",
       "                        <td id=\"T_630a5_row9_col23\" class=\"data row9 col23\" >0.131849</td>\n",
       "                        <td id=\"T_630a5_row9_col24\" class=\"data row9 col24\" >-0.039398</td>\n",
       "                        <td id=\"T_630a5_row9_col25\" class=\"data row9 col25\" >-0.015591</td>\n",
       "                        <td id=\"T_630a5_row9_col26\" class=\"data row9 col26\" >-0.089468</td>\n",
       "                        <td id=\"T_630a5_row9_col27\" class=\"data row9 col27\" >-0.020945</td>\n",
       "                        <td id=\"T_630a5_row9_col28\" class=\"data row9 col28\" >-0.089773</td>\n",
       "                        <td id=\"T_630a5_row9_col29\" class=\"data row9 col29\" >-0.049447</td>\n",
       "                        <td id=\"T_630a5_row9_col30\" class=\"data row9 col30\" >-0.067798</td>\n",
       "                        <td id=\"T_630a5_row9_col31\" class=\"data row9 col31\" >-0.048384</td>\n",
       "                        <td id=\"T_630a5_row9_col32\" class=\"data row9 col32\" >-0.022972</td>\n",
       "                        <td id=\"T_630a5_row9_col33\" class=\"data row9 col33\" >-0.019199</td>\n",
       "                        <td id=\"T_630a5_row9_col34\" class=\"data row9 col34\" >0.107413</td>\n",
       "                        <td id=\"T_630a5_row9_col35\" class=\"data row9 col35\" >0.075413</td>\n",
       "                        <td id=\"T_630a5_row9_col36\" class=\"data row9 col36\" >0.150466</td>\n",
       "                        <td id=\"T_630a5_row9_col37\" class=\"data row9 col37\" >0.066475</td>\n",
       "                        <td id=\"T_630a5_row9_col38\" class=\"data row9 col38\" >0.074927</td>\n",
       "                        <td id=\"T_630a5_row9_col39\" class=\"data row9 col39\" >0.065685</td>\n",
       "                        <td id=\"T_630a5_row9_col40\" class=\"data row9 col40\" >0.058887</td>\n",
       "                        <td id=\"T_630a5_row9_col41\" class=\"data row9 col41\" >0.050184</td>\n",
       "                        <td id=\"T_630a5_row9_col42\" class=\"data row9 col42\" >0.151945</td>\n",
       "                        <td id=\"T_630a5_row9_col43\" class=\"data row9 col43\" >0.093293</td>\n",
       "                        <td id=\"T_630a5_row9_col44\" class=\"data row9 col44\" >0.071559</td>\n",
       "                        <td id=\"T_630a5_row9_col45\" class=\"data row9 col45\" >-0.013814</td>\n",
       "                        <td id=\"T_630a5_row9_col46\" class=\"data row9 col46\" >-0.018878</td>\n",
       "                        <td id=\"T_630a5_row9_col47\" class=\"data row9 col47\" >0.143313</td>\n",
       "                        <td id=\"T_630a5_row9_col48\" class=\"data row9 col48\" >-0.004169</td>\n",
       "                        <td id=\"T_630a5_row9_col49\" class=\"data row9 col49\" >0.061153</td>\n",
       "                        <td id=\"T_630a5_row9_col50\" class=\"data row9 col50\" >-0.087866</td>\n",
       "                        <td id=\"T_630a5_row9_col51\" class=\"data row9 col51\" >0.067955</td>\n",
       "            </tr>\n",
       "            <tr>\n",
       "                        <th id=\"T_630a5_level0_row10\" class=\"row_heading level0 row10\" >primary_cleaner.state.floatbank8_d_air</th>\n",
       "                        <td id=\"T_630a5_row10_col0\" class=\"data row10 col0\" >0.093636</td>\n",
       "                        <td id=\"T_630a5_row10_col1\" class=\"data row10 col1\" >0.126572</td>\n",
       "                        <td id=\"T_630a5_row10_col2\" class=\"data row10 col2\" >-0.074156</td>\n",
       "                        <td id=\"T_630a5_row10_col3\" class=\"data row10 col3\" >0.174404</td>\n",
       "                        <td id=\"T_630a5_row10_col4\" class=\"data row10 col4\" >0.959166</td>\n",
       "                        <td id=\"T_630a5_row10_col5\" class=\"data row10 col5\" >0.110760</td>\n",
       "                        <td id=\"T_630a5_row10_col6\" class=\"data row10 col6\" >0.974342</td>\n",
       "                        <td id=\"T_630a5_row10_col7\" class=\"data row10 col7\" >0.015972</td>\n",
       "                        <td id=\"T_630a5_row10_col8\" class=\"data row10 col8\" >0.848010</td>\n",
       "                        <td id=\"T_630a5_row10_col9\" class=\"data row10 col9\" >0.113492</td>\n",
       "                        <td id=\"T_630a5_row10_col10\" class=\"data row10 col10\" >1.000000</td>\n",
       "                        <td id=\"T_630a5_row10_col11\" class=\"data row10 col11\" >0.054970</td>\n",
       "                        <td id=\"T_630a5_row10_col12\" class=\"data row10 col12\" >0.247723</td>\n",
       "                        <td id=\"T_630a5_row10_col13\" class=\"data row10 col13\" >0.060372</td>\n",
       "                        <td id=\"T_630a5_row10_col14\" class=\"data row10 col14\" >-0.027909</td>\n",
       "                        <td id=\"T_630a5_row10_col15\" class=\"data row10 col15\" >-0.098309</td>\n",
       "                        <td id=\"T_630a5_row10_col16\" class=\"data row10 col16\" >-0.081729</td>\n",
       "                        <td id=\"T_630a5_row10_col17\" class=\"data row10 col17\" >0.246374</td>\n",
       "                        <td id=\"T_630a5_row10_col18\" class=\"data row10 col18\" >0.057171</td>\n",
       "                        <td id=\"T_630a5_row10_col19\" class=\"data row10 col19\" >0.191476</td>\n",
       "                        <td id=\"T_630a5_row10_col20\" class=\"data row10 col20\" >0.064841</td>\n",
       "                        <td id=\"T_630a5_row10_col21\" class=\"data row10 col21\" >0.209859</td>\n",
       "                        <td id=\"T_630a5_row10_col22\" class=\"data row10 col22\" >0.177370</td>\n",
       "                        <td id=\"T_630a5_row10_col23\" class=\"data row10 col23\" >-0.053599</td>\n",
       "                        <td id=\"T_630a5_row10_col24\" class=\"data row10 col24\" >0.218791</td>\n",
       "                        <td id=\"T_630a5_row10_col25\" class=\"data row10 col25\" >0.354594</td>\n",
       "                        <td id=\"T_630a5_row10_col26\" class=\"data row10 col26\" >0.244368</td>\n",
       "                        <td id=\"T_630a5_row10_col27\" class=\"data row10 col27\" >0.351185</td>\n",
       "                        <td id=\"T_630a5_row10_col28\" class=\"data row10 col28\" >0.186008</td>\n",
       "                        <td id=\"T_630a5_row10_col29\" class=\"data row10 col29\" >0.314238</td>\n",
       "                        <td id=\"T_630a5_row10_col30\" class=\"data row10 col30\" >0.393679</td>\n",
       "                        <td id=\"T_630a5_row10_col31\" class=\"data row10 col31\" >0.375553</td>\n",
       "                        <td id=\"T_630a5_row10_col32\" class=\"data row10 col32\" >0.339837</td>\n",
       "                        <td id=\"T_630a5_row10_col33\" class=\"data row10 col33\" >0.382076</td>\n",
       "                        <td id=\"T_630a5_row10_col34\" class=\"data row10 col34\" >0.314295</td>\n",
       "                        <td id=\"T_630a5_row10_col35\" class=\"data row10 col35\" >-0.049503</td>\n",
       "                        <td id=\"T_630a5_row10_col36\" class=\"data row10 col36\" >0.458199</td>\n",
       "                        <td id=\"T_630a5_row10_col37\" class=\"data row10 col37\" >-0.077416</td>\n",
       "                        <td id=\"T_630a5_row10_col38\" class=\"data row10 col38\" >0.420193</td>\n",
       "                        <td id=\"T_630a5_row10_col39\" class=\"data row10 col39\" >-0.020290</td>\n",
       "                        <td id=\"T_630a5_row10_col40\" class=\"data row10 col40\" >0.507047</td>\n",
       "                        <td id=\"T_630a5_row10_col41\" class=\"data row10 col41\" >0.008843</td>\n",
       "                        <td id=\"T_630a5_row10_col42\" class=\"data row10 col42\" >0.485859</td>\n",
       "                        <td id=\"T_630a5_row10_col43\" class=\"data row10 col43\" >0.022615</td>\n",
       "                        <td id=\"T_630a5_row10_col44\" class=\"data row10 col44\" >0.491643</td>\n",
       "                        <td id=\"T_630a5_row10_col45\" class=\"data row10 col45\" >-0.072571</td>\n",
       "                        <td id=\"T_630a5_row10_col46\" class=\"data row10 col46\" >0.412552</td>\n",
       "                        <td id=\"T_630a5_row10_col47\" class=\"data row10 col47\" >0.259882</td>\n",
       "                        <td id=\"T_630a5_row10_col48\" class=\"data row10 col48\" >0.492616</td>\n",
       "                        <td id=\"T_630a5_row10_col49\" class=\"data row10 col49\" >0.158148</td>\n",
       "                        <td id=\"T_630a5_row10_col50\" class=\"data row10 col50\" >0.378070</td>\n",
       "                        <td id=\"T_630a5_row10_col51\" class=\"data row10 col51\" >0.184031</td>\n",
       "            </tr>\n",
       "            <tr>\n",
       "                        <th id=\"T_630a5_level0_row11\" class=\"row_heading level0 row11\" >primary_cleaner.state.floatbank8_d_level</th>\n",
       "                        <td id=\"T_630a5_row11_col0\" class=\"data row11 col0\" >-0.019008</td>\n",
       "                        <td id=\"T_630a5_row11_col1\" class=\"data row11 col1\" >0.073040</td>\n",
       "                        <td id=\"T_630a5_row11_col2\" class=\"data row11 col2\" >0.065808</td>\n",
       "                        <td id=\"T_630a5_row11_col3\" class=\"data row11 col3\" >-0.141550</td>\n",
       "                        <td id=\"T_630a5_row11_col4\" class=\"data row11 col4\" >0.061389</td>\n",
       "                        <td id=\"T_630a5_row11_col5\" class=\"data row11 col5\" >0.406960</td>\n",
       "                        <td id=\"T_630a5_row11_col6\" class=\"data row11 col6\" >0.059940</td>\n",
       "                        <td id=\"T_630a5_row11_col7\" class=\"data row11 col7\" >0.233257</td>\n",
       "                        <td id=\"T_630a5_row11_col8\" class=\"data row11 col8\" >0.013847</td>\n",
       "                        <td id=\"T_630a5_row11_col9\" class=\"data row11 col9\" >0.486463</td>\n",
       "                        <td id=\"T_630a5_row11_col10\" class=\"data row11 col10\" >0.054970</td>\n",
       "                        <td id=\"T_630a5_row11_col11\" class=\"data row11 col11\" >1.000000</td>\n",
       "                        <td id=\"T_630a5_row11_col12\" class=\"data row11 col12\" >0.052115</td>\n",
       "                        <td id=\"T_630a5_row11_col13\" class=\"data row11 col13\" >0.081611</td>\n",
       "                        <td id=\"T_630a5_row11_col14\" class=\"data row11 col14\" >-0.041767</td>\n",
       "                        <td id=\"T_630a5_row11_col15\" class=\"data row11 col15\" >-0.033793</td>\n",
       "                        <td id=\"T_630a5_row11_col16\" class=\"data row11 col16\" >-0.004290</td>\n",
       "                        <td id=\"T_630a5_row11_col17\" class=\"data row11 col17\" >0.047501</td>\n",
       "                        <td id=\"T_630a5_row11_col18\" class=\"data row11 col18\" >-0.074695</td>\n",
       "                        <td id=\"T_630a5_row11_col19\" class=\"data row11 col19\" >-0.037172</td>\n",
       "                        <td id=\"T_630a5_row11_col20\" class=\"data row11 col20\" >-0.081712</td>\n",
       "                        <td id=\"T_630a5_row11_col21\" class=\"data row11 col21\" >-0.057295</td>\n",
       "                        <td id=\"T_630a5_row11_col22\" class=\"data row11 col22\" >0.138906</td>\n",
       "                        <td id=\"T_630a5_row11_col23\" class=\"data row11 col23\" >0.067602</td>\n",
       "                        <td id=\"T_630a5_row11_col24\" class=\"data row11 col24\" >0.052937</td>\n",
       "                        <td id=\"T_630a5_row11_col25\" class=\"data row11 col25\" >0.022698</td>\n",
       "                        <td id=\"T_630a5_row11_col26\" class=\"data row11 col26\" >0.012577</td>\n",
       "                        <td id=\"T_630a5_row11_col27\" class=\"data row11 col27\" >0.016861</td>\n",
       "                        <td id=\"T_630a5_row11_col28\" class=\"data row11 col28\" >0.031554</td>\n",
       "                        <td id=\"T_630a5_row11_col29\" class=\"data row11 col29\" >-0.004468</td>\n",
       "                        <td id=\"T_630a5_row11_col30\" class=\"data row11 col30\" >0.021202</td>\n",
       "                        <td id=\"T_630a5_row11_col31\" class=\"data row11 col31\" >-0.000530</td>\n",
       "                        <td id=\"T_630a5_row11_col32\" class=\"data row11 col32\" >0.066417</td>\n",
       "                        <td id=\"T_630a5_row11_col33\" class=\"data row11 col33\" >0.014457</td>\n",
       "                        <td id=\"T_630a5_row11_col34\" class=\"data row11 col34\" >0.087684</td>\n",
       "                        <td id=\"T_630a5_row11_col35\" class=\"data row11 col35\" >0.002898</td>\n",
       "                        <td id=\"T_630a5_row11_col36\" class=\"data row11 col36\" >0.083247</td>\n",
       "                        <td id=\"T_630a5_row11_col37\" class=\"data row11 col37\" >-0.000880</td>\n",
       "                        <td id=\"T_630a5_row11_col38\" class=\"data row11 col38\" >0.022571</td>\n",
       "                        <td id=\"T_630a5_row11_col39\" class=\"data row11 col39\" >0.031053</td>\n",
       "                        <td id=\"T_630a5_row11_col40\" class=\"data row11 col40\" >0.028612</td>\n",
       "                        <td id=\"T_630a5_row11_col41\" class=\"data row11 col41\" >0.025846</td>\n",
       "                        <td id=\"T_630a5_row11_col42\" class=\"data row11 col42\" >0.053297</td>\n",
       "                        <td id=\"T_630a5_row11_col43\" class=\"data row11 col43\" >0.043851</td>\n",
       "                        <td id=\"T_630a5_row11_col44\" class=\"data row11 col44\" >0.001856</td>\n",
       "                        <td id=\"T_630a5_row11_col45\" class=\"data row11 col45\" >-0.017416</td>\n",
       "                        <td id=\"T_630a5_row11_col46\" class=\"data row11 col46\" >0.008748</td>\n",
       "                        <td id=\"T_630a5_row11_col47\" class=\"data row11 col47\" >0.078442</td>\n",
       "                        <td id=\"T_630a5_row11_col48\" class=\"data row11 col48\" >0.006287</td>\n",
       "                        <td id=\"T_630a5_row11_col49\" class=\"data row11 col49\" >0.006570</td>\n",
       "                        <td id=\"T_630a5_row11_col50\" class=\"data row11 col50\" >-0.036983</td>\n",
       "                        <td id=\"T_630a5_row11_col51\" class=\"data row11 col51\" >0.029999</td>\n",
       "            </tr>\n",
       "            <tr>\n",
       "                        <th id=\"T_630a5_level0_row12\" class=\"row_heading level0 row12\" >rougher.input.feed_ag</th>\n",
       "                        <td id=\"T_630a5_row12_col0\" class=\"data row12 col0\" >0.359236</td>\n",
       "                        <td id=\"T_630a5_row12_col1\" class=\"data row12 col1\" >0.497323</td>\n",
       "                        <td id=\"T_630a5_row12_col2\" class=\"data row12 col2\" >0.338795</td>\n",
       "                        <td id=\"T_630a5_row12_col3\" class=\"data row12 col3\" >0.049574</td>\n",
       "                        <td id=\"T_630a5_row12_col4\" class=\"data row12 col4\" >0.252818</td>\n",
       "                        <td id=\"T_630a5_row12_col5\" class=\"data row12 col5\" >0.197111</td>\n",
       "                        <td id=\"T_630a5_row12_col6\" class=\"data row12 col6\" >0.250553</td>\n",
       "                        <td id=\"T_630a5_row12_col7\" class=\"data row12 col7\" >0.128053</td>\n",
       "                        <td id=\"T_630a5_row12_col8\" class=\"data row12 col8\" >0.149500</td>\n",
       "                        <td id=\"T_630a5_row12_col9\" class=\"data row12 col9\" >0.162198</td>\n",
       "                        <td id=\"T_630a5_row12_col10\" class=\"data row12 col10\" >0.247723</td>\n",
       "                        <td id=\"T_630a5_row12_col11\" class=\"data row12 col11\" >0.052115</td>\n",
       "                        <td id=\"T_630a5_row12_col12\" class=\"data row12 col12\" >1.000000</td>\n",
       "                        <td id=\"T_630a5_row12_col13\" class=\"data row12 col13\" >0.466774</td>\n",
       "                        <td id=\"T_630a5_row12_col14\" class=\"data row12 col14\" >-0.128689</td>\n",
       "                        <td id=\"T_630a5_row12_col15\" class=\"data row12 col15\" >-0.204112</td>\n",
       "                        <td id=\"T_630a5_row12_col16\" class=\"data row12 col16\" >0.018783</td>\n",
       "                        <td id=\"T_630a5_row12_col17\" class=\"data row12 col17\" >0.859775</td>\n",
       "                        <td id=\"T_630a5_row12_col18\" class=\"data row12 col18\" >-0.110134</td>\n",
       "                        <td id=\"T_630a5_row12_col19\" class=\"data row12 col19\" >0.332820</td>\n",
       "                        <td id=\"T_630a5_row12_col20\" class=\"data row12 col20\" >-0.163990</td>\n",
       "                        <td id=\"T_630a5_row12_col21\" class=\"data row12 col21\" >0.309268</td>\n",
       "                        <td id=\"T_630a5_row12_col22\" class=\"data row12 col22\" >0.303702</td>\n",
       "                        <td id=\"T_630a5_row12_col23\" class=\"data row12 col23\" >-0.307004</td>\n",
       "                        <td id=\"T_630a5_row12_col24\" class=\"data row12 col24\" >-0.114345</td>\n",
       "                        <td id=\"T_630a5_row12_col25\" class=\"data row12 col25\" >0.097559</td>\n",
       "                        <td id=\"T_630a5_row12_col26\" class=\"data row12 col26\" >-0.068643</td>\n",
       "                        <td id=\"T_630a5_row12_col27\" class=\"data row12 col27\" >0.096616</td>\n",
       "                        <td id=\"T_630a5_row12_col28\" class=\"data row12 col28\" >-0.133448</td>\n",
       "                        <td id=\"T_630a5_row12_col29\" class=\"data row12 col29\" >0.116716</td>\n",
       "                        <td id=\"T_630a5_row12_col30\" class=\"data row12 col30\" >-0.119892</td>\n",
       "                        <td id=\"T_630a5_row12_col31\" class=\"data row12 col31\" >0.058745</td>\n",
       "                        <td id=\"T_630a5_row12_col32\" class=\"data row12 col32\" >-0.273927</td>\n",
       "                        <td id=\"T_630a5_row12_col33\" class=\"data row12 col33\" >0.075624</td>\n",
       "                        <td id=\"T_630a5_row12_col34\" class=\"data row12 col34\" >-0.064636</td>\n",
       "                        <td id=\"T_630a5_row12_col35\" class=\"data row12 col35\" >-0.029710</td>\n",
       "                        <td id=\"T_630a5_row12_col36\" class=\"data row12 col36\" >0.029488</td>\n",
       "                        <td id=\"T_630a5_row12_col37\" class=\"data row12 col37\" >-0.057781</td>\n",
       "                        <td id=\"T_630a5_row12_col38\" class=\"data row12 col38\" >0.208481</td>\n",
       "                        <td id=\"T_630a5_row12_col39\" class=\"data row12 col39\" >-0.025061</td>\n",
       "                        <td id=\"T_630a5_row12_col40\" class=\"data row12 col40\" >0.227194</td>\n",
       "                        <td id=\"T_630a5_row12_col41\" class=\"data row12 col41\" >-0.031011</td>\n",
       "                        <td id=\"T_630a5_row12_col42\" class=\"data row12 col42\" >0.167571</td>\n",
       "                        <td id=\"T_630a5_row12_col43\" class=\"data row12 col43\" >-0.069478</td>\n",
       "                        <td id=\"T_630a5_row12_col44\" class=\"data row12 col44\" >0.150561</td>\n",
       "                        <td id=\"T_630a5_row12_col45\" class=\"data row12 col45\" >-0.291577</td>\n",
       "                        <td id=\"T_630a5_row12_col46\" class=\"data row12 col46\" >-0.033441</td>\n",
       "                        <td id=\"T_630a5_row12_col47\" class=\"data row12 col47\" >-0.011144</td>\n",
       "                        <td id=\"T_630a5_row12_col48\" class=\"data row12 col48\" >-0.042389</td>\n",
       "                        <td id=\"T_630a5_row12_col49\" class=\"data row12 col49\" >0.039210</td>\n",
       "                        <td id=\"T_630a5_row12_col50\" class=\"data row12 col50\" >0.212922</td>\n",
       "                        <td id=\"T_630a5_row12_col51\" class=\"data row12 col51\" >-0.001060</td>\n",
       "            </tr>\n",
       "            <tr>\n",
       "                        <th id=\"T_630a5_level0_row13\" class=\"row_heading level0 row13\" >rougher.input.feed_pb</th>\n",
       "                        <td id=\"T_630a5_row13_col0\" class=\"data row13 col0\" >0.428248</td>\n",
       "                        <td id=\"T_630a5_row13_col1\" class=\"data row13 col1\" >0.466184</td>\n",
       "                        <td id=\"T_630a5_row13_col2\" class=\"data row13 col2\" >0.000398</td>\n",
       "                        <td id=\"T_630a5_row13_col3\" class=\"data row13 col3\" >0.241885</td>\n",
       "                        <td id=\"T_630a5_row13_col4\" class=\"data row13 col4\" >0.064620</td>\n",
       "                        <td id=\"T_630a5_row13_col5\" class=\"data row13 col5\" >0.231743</td>\n",
       "                        <td id=\"T_630a5_row13_col6\" class=\"data row13 col6\" >0.054633</td>\n",
       "                        <td id=\"T_630a5_row13_col7\" class=\"data row13 col7\" >0.223188</td>\n",
       "                        <td id=\"T_630a5_row13_col8\" class=\"data row13 col8\" >-0.054736</td>\n",
       "                        <td id=\"T_630a5_row13_col9\" class=\"data row13 col9\" >0.176345</td>\n",
       "                        <td id=\"T_630a5_row13_col10\" class=\"data row13 col10\" >0.060372</td>\n",
       "                        <td id=\"T_630a5_row13_col11\" class=\"data row13 col11\" >0.081611</td>\n",
       "                        <td id=\"T_630a5_row13_col12\" class=\"data row13 col12\" >0.466774</td>\n",
       "                        <td id=\"T_630a5_row13_col13\" class=\"data row13 col13\" >1.000000</td>\n",
       "                        <td id=\"T_630a5_row13_col14\" class=\"data row13 col14\" >-0.065134</td>\n",
       "                        <td id=\"T_630a5_row13_col15\" class=\"data row13 col15\" >-0.080375</td>\n",
       "                        <td id=\"T_630a5_row13_col16\" class=\"data row13 col16\" >0.034800</td>\n",
       "                        <td id=\"T_630a5_row13_col17\" class=\"data row13 col17\" >0.695707</td>\n",
       "                        <td id=\"T_630a5_row13_col18\" class=\"data row13 col18\" >0.195107</td>\n",
       "                        <td id=\"T_630a5_row13_col19\" class=\"data row13 col19\" >0.148440</td>\n",
       "                        <td id=\"T_630a5_row13_col20\" class=\"data row13 col20\" >0.205256</td>\n",
       "                        <td id=\"T_630a5_row13_col21\" class=\"data row13 col21\" >0.174549</td>\n",
       "                        <td id=\"T_630a5_row13_col22\" class=\"data row13 col22\" >0.374201</td>\n",
       "                        <td id=\"T_630a5_row13_col23\" class=\"data row13 col23\" >0.130062</td>\n",
       "                        <td id=\"T_630a5_row13_col24\" class=\"data row13 col24\" >-0.366635</td>\n",
       "                        <td id=\"T_630a5_row13_col25\" class=\"data row13 col25\" >-0.118968</td>\n",
       "                        <td id=\"T_630a5_row13_col26\" class=\"data row13 col26\" >-0.381622</td>\n",
       "                        <td id=\"T_630a5_row13_col27\" class=\"data row13 col27\" >-0.116461</td>\n",
       "                        <td id=\"T_630a5_row13_col28\" class=\"data row13 col28\" >-0.372568</td>\n",
       "                        <td id=\"T_630a5_row13_col29\" class=\"data row13 col29\" >-0.106723</td>\n",
       "                        <td id=\"T_630a5_row13_col30\" class=\"data row13 col30\" >-0.355352</td>\n",
       "                        <td id=\"T_630a5_row13_col31\" class=\"data row13 col31\" >-0.091990</td>\n",
       "                        <td id=\"T_630a5_row13_col32\" class=\"data row13 col32\" >-0.305037</td>\n",
       "                        <td id=\"T_630a5_row13_col33\" class=\"data row13 col33\" >-0.097293</td>\n",
       "                        <td id=\"T_630a5_row13_col34\" class=\"data row13 col34\" >0.038868</td>\n",
       "                        <td id=\"T_630a5_row13_col35\" class=\"data row13 col35\" >-0.103637</td>\n",
       "                        <td id=\"T_630a5_row13_col36\" class=\"data row13 col36\" >0.126858</td>\n",
       "                        <td id=\"T_630a5_row13_col37\" class=\"data row13 col37\" >-0.091755</td>\n",
       "                        <td id=\"T_630a5_row13_col38\" class=\"data row13 col38\" >0.124379</td>\n",
       "                        <td id=\"T_630a5_row13_col39\" class=\"data row13 col39\" >0.102574</td>\n",
       "                        <td id=\"T_630a5_row13_col40\" class=\"data row13 col40\" >0.108573</td>\n",
       "                        <td id=\"T_630a5_row13_col41\" class=\"data row13 col41\" >0.111390</td>\n",
       "                        <td id=\"T_630a5_row13_col42\" class=\"data row13 col42\" >0.114111</td>\n",
       "                        <td id=\"T_630a5_row13_col43\" class=\"data row13 col43\" >-0.004391</td>\n",
       "                        <td id=\"T_630a5_row13_col44\" class=\"data row13 col44\" >0.138647</td>\n",
       "                        <td id=\"T_630a5_row13_col45\" class=\"data row13 col45\" >-0.206534</td>\n",
       "                        <td id=\"T_630a5_row13_col46\" class=\"data row13 col46\" >-0.068303</td>\n",
       "                        <td id=\"T_630a5_row13_col47\" class=\"data row13 col47\" >0.052358</td>\n",
       "                        <td id=\"T_630a5_row13_col48\" class=\"data row13 col48\" >-0.029590</td>\n",
       "                        <td id=\"T_630a5_row13_col49\" class=\"data row13 col49\" >0.077829</td>\n",
       "                        <td id=\"T_630a5_row13_col50\" class=\"data row13 col50\" >-0.125363</td>\n",
       "                        <td id=\"T_630a5_row13_col51\" class=\"data row13 col51\" >0.067297</td>\n",
       "            </tr>\n",
       "            <tr>\n",
       "                        <th id=\"T_630a5_level0_row14\" class=\"row_heading level0 row14\" >rougher.input.feed_rate</th>\n",
       "                        <td id=\"T_630a5_row14_col0\" class=\"data row14 col0\" >0.461740</td>\n",
       "                        <td id=\"T_630a5_row14_col1\" class=\"data row14 col1\" >0.133046</td>\n",
       "                        <td id=\"T_630a5_row14_col2\" class=\"data row14 col2\" >0.019618</td>\n",
       "                        <td id=\"T_630a5_row14_col3\" class=\"data row14 col3\" >0.464580</td>\n",
       "                        <td id=\"T_630a5_row14_col4\" class=\"data row14 col4\" >-0.010564</td>\n",
       "                        <td id=\"T_630a5_row14_col5\" class=\"data row14 col5\" >-0.009139</td>\n",
       "                        <td id=\"T_630a5_row14_col6\" class=\"data row14 col6\" >-0.044562</td>\n",
       "                        <td id=\"T_630a5_row14_col7\" class=\"data row14 col7\" >0.031262</td>\n",
       "                        <td id=\"T_630a5_row14_col8\" class=\"data row14 col8\" >-0.101521</td>\n",
       "                        <td id=\"T_630a5_row14_col9\" class=\"data row14 col9\" >-0.006190</td>\n",
       "                        <td id=\"T_630a5_row14_col10\" class=\"data row14 col10\" >-0.027909</td>\n",
       "                        <td id=\"T_630a5_row14_col11\" class=\"data row14 col11\" >-0.041767</td>\n",
       "                        <td id=\"T_630a5_row14_col12\" class=\"data row14 col12\" >-0.128689</td>\n",
       "                        <td id=\"T_630a5_row14_col13\" class=\"data row14 col13\" >-0.065134</td>\n",
       "                        <td id=\"T_630a5_row14_col14\" class=\"data row14 col14\" >1.000000</td>\n",
       "                        <td id=\"T_630a5_row14_col15\" class=\"data row14 col15\" >0.321020</td>\n",
       "                        <td id=\"T_630a5_row14_col16\" class=\"data row14 col16\" >0.763801</td>\n",
       "                        <td id=\"T_630a5_row14_col17\" class=\"data row14 col17\" >-0.154587</td>\n",
       "                        <td id=\"T_630a5_row14_col18\" class=\"data row14 col18\" >0.671338</td>\n",
       "                        <td id=\"T_630a5_row14_col19\" class=\"data row14 col19\" >0.614511</td>\n",
       "                        <td id=\"T_630a5_row14_col20\" class=\"data row14 col20\" >0.646607</td>\n",
       "                        <td id=\"T_630a5_row14_col21\" class=\"data row14 col21\" >0.618994</td>\n",
       "                        <td id=\"T_630a5_row14_col22\" class=\"data row14 col22\" >0.259287</td>\n",
       "                        <td id=\"T_630a5_row14_col23\" class=\"data row14 col23\" >0.554573</td>\n",
       "                        <td id=\"T_630a5_row14_col24\" class=\"data row14 col24\" >-0.303961</td>\n",
       "                        <td id=\"T_630a5_row14_col25\" class=\"data row14 col25\" >-0.224300</td>\n",
       "                        <td id=\"T_630a5_row14_col26\" class=\"data row14 col26\" >-0.351360</td>\n",
       "                        <td id=\"T_630a5_row14_col27\" class=\"data row14 col27\" >-0.236798</td>\n",
       "                        <td id=\"T_630a5_row14_col28\" class=\"data row14 col28\" >-0.382220</td>\n",
       "                        <td id=\"T_630a5_row14_col29\" class=\"data row14 col29\" >-0.182464</td>\n",
       "                        <td id=\"T_630a5_row14_col30\" class=\"data row14 col30\" >-0.246990</td>\n",
       "                        <td id=\"T_630a5_row14_col31\" class=\"data row14 col31\" >-0.273754</td>\n",
       "                        <td id=\"T_630a5_row14_col32\" class=\"data row14 col32\" >-0.187218</td>\n",
       "                        <td id=\"T_630a5_row14_col33\" class=\"data row14 col33\" >-0.218182</td>\n",
       "                        <td id=\"T_630a5_row14_col34\" class=\"data row14 col34\" >-0.027157</td>\n",
       "                        <td id=\"T_630a5_row14_col35\" class=\"data row14 col35\" >-0.008737</td>\n",
       "                        <td id=\"T_630a5_row14_col36\" class=\"data row14 col36\" >0.088950</td>\n",
       "                        <td id=\"T_630a5_row14_col37\" class=\"data row14 col37\" >0.022219</td>\n",
       "                        <td id=\"T_630a5_row14_col38\" class=\"data row14 col38\" >-0.083163</td>\n",
       "                        <td id=\"T_630a5_row14_col39\" class=\"data row14 col39\" >0.105550</td>\n",
       "                        <td id=\"T_630a5_row14_col40\" class=\"data row14 col40\" >-0.155539</td>\n",
       "                        <td id=\"T_630a5_row14_col41\" class=\"data row14 col41\" >0.103763</td>\n",
       "                        <td id=\"T_630a5_row14_col42\" class=\"data row14 col42\" >0.169978</td>\n",
       "                        <td id=\"T_630a5_row14_col43\" class=\"data row14 col43\" >0.123496</td>\n",
       "                        <td id=\"T_630a5_row14_col44\" class=\"data row14 col44\" >0.128504</td>\n",
       "                        <td id=\"T_630a5_row14_col45\" class=\"data row14 col45\" >0.357253</td>\n",
       "                        <td id=\"T_630a5_row14_col46\" class=\"data row14 col46\" >-0.137284</td>\n",
       "                        <td id=\"T_630a5_row14_col47\" class=\"data row14 col47\" >0.089104</td>\n",
       "                        <td id=\"T_630a5_row14_col48\" class=\"data row14 col48\" >-0.073595</td>\n",
       "                        <td id=\"T_630a5_row14_col49\" class=\"data row14 col49\" >0.012324</td>\n",
       "                        <td id=\"T_630a5_row14_col50\" class=\"data row14 col50\" >-0.413417</td>\n",
       "                        <td id=\"T_630a5_row14_col51\" class=\"data row14 col51\" >0.022949</td>\n",
       "            </tr>\n",
       "            <tr>\n",
       "                        <th id=\"T_630a5_level0_row15\" class=\"row_heading level0 row15\" >rougher.input.feed_size</th>\n",
       "                        <td id=\"T_630a5_row15_col0\" class=\"data row15 col0\" >-0.010257</td>\n",
       "                        <td id=\"T_630a5_row15_col1\" class=\"data row15 col1\" >0.005012</td>\n",
       "                        <td id=\"T_630a5_row15_col2\" class=\"data row15 col2\" >-0.087339</td>\n",
       "                        <td id=\"T_630a5_row15_col3\" class=\"data row15 col3\" >0.195480</td>\n",
       "                        <td id=\"T_630a5_row15_col4\" class=\"data row15 col4\" >-0.073142</td>\n",
       "                        <td id=\"T_630a5_row15_col5\" class=\"data row15 col5\" >0.004788</td>\n",
       "                        <td id=\"T_630a5_row15_col6\" class=\"data row15 col6\" >-0.098048</td>\n",
       "                        <td id=\"T_630a5_row15_col7\" class=\"data row15 col7\" >-0.043022</td>\n",
       "                        <td id=\"T_630a5_row15_col8\" class=\"data row15 col8\" >-0.162543</td>\n",
       "                        <td id=\"T_630a5_row15_col9\" class=\"data row15 col9\" >0.002130</td>\n",
       "                        <td id=\"T_630a5_row15_col10\" class=\"data row15 col10\" >-0.098309</td>\n",
       "                        <td id=\"T_630a5_row15_col11\" class=\"data row15 col11\" >-0.033793</td>\n",
       "                        <td id=\"T_630a5_row15_col12\" class=\"data row15 col12\" >-0.204112</td>\n",
       "                        <td id=\"T_630a5_row15_col13\" class=\"data row15 col13\" >-0.080375</td>\n",
       "                        <td id=\"T_630a5_row15_col14\" class=\"data row15 col14\" >0.321020</td>\n",
       "                        <td id=\"T_630a5_row15_col15\" class=\"data row15 col15\" >1.000000</td>\n",
       "                        <td id=\"T_630a5_row15_col16\" class=\"data row15 col16\" >0.358210</td>\n",
       "                        <td id=\"T_630a5_row15_col17\" class=\"data row15 col17\" >-0.232345</td>\n",
       "                        <td id=\"T_630a5_row15_col18\" class=\"data row15 col18\" >0.107586</td>\n",
       "                        <td id=\"T_630a5_row15_col19\" class=\"data row15 col19\" >0.036560</td>\n",
       "                        <td id=\"T_630a5_row15_col20\" class=\"data row15 col20\" >0.195057</td>\n",
       "                        <td id=\"T_630a5_row15_col21\" class=\"data row15 col21\" >0.181652</td>\n",
       "                        <td id=\"T_630a5_row15_col22\" class=\"data row15 col22\" >0.228805</td>\n",
       "                        <td id=\"T_630a5_row15_col23\" class=\"data row15 col23\" >0.329215</td>\n",
       "                        <td id=\"T_630a5_row15_col24\" class=\"data row15 col24\" >-0.295400</td>\n",
       "                        <td id=\"T_630a5_row15_col25\" class=\"data row15 col25\" >-0.267733</td>\n",
       "                        <td id=\"T_630a5_row15_col26\" class=\"data row15 col26\" >-0.330645</td>\n",
       "                        <td id=\"T_630a5_row15_col27\" class=\"data row15 col27\" >-0.250005</td>\n",
       "                        <td id=\"T_630a5_row15_col28\" class=\"data row15 col28\" >-0.363716</td>\n",
       "                        <td id=\"T_630a5_row15_col29\" class=\"data row15 col29\" >-0.258531</td>\n",
       "                        <td id=\"T_630a5_row15_col30\" class=\"data row15 col30\" >-0.240461</td>\n",
       "                        <td id=\"T_630a5_row15_col31\" class=\"data row15 col31\" >-0.253635</td>\n",
       "                        <td id=\"T_630a5_row15_col32\" class=\"data row15 col32\" >-0.212906</td>\n",
       "                        <td id=\"T_630a5_row15_col33\" class=\"data row15 col33\" >-0.310386</td>\n",
       "                        <td id=\"T_630a5_row15_col34\" class=\"data row15 col34\" >-0.014463</td>\n",
       "                        <td id=\"T_630a5_row15_col35\" class=\"data row15 col35\" >-0.023742</td>\n",
       "                        <td id=\"T_630a5_row15_col36\" class=\"data row15 col36\" >0.016860</td>\n",
       "                        <td id=\"T_630a5_row15_col37\" class=\"data row15 col37\" >0.000916</td>\n",
       "                        <td id=\"T_630a5_row15_col38\" class=\"data row15 col38\" >-0.083722</td>\n",
       "                        <td id=\"T_630a5_row15_col39\" class=\"data row15 col39\" >0.088047</td>\n",
       "                        <td id=\"T_630a5_row15_col40\" class=\"data row15 col40\" >-0.186090</td>\n",
       "                        <td id=\"T_630a5_row15_col41\" class=\"data row15 col41\" >0.095161</td>\n",
       "                        <td id=\"T_630a5_row15_col42\" class=\"data row15 col42\" >0.127876</td>\n",
       "                        <td id=\"T_630a5_row15_col43\" class=\"data row15 col43\" >0.062334</td>\n",
       "                        <td id=\"T_630a5_row15_col44\" class=\"data row15 col44\" >0.037296</td>\n",
       "                        <td id=\"T_630a5_row15_col45\" class=\"data row15 col45\" >0.324755</td>\n",
       "                        <td id=\"T_630a5_row15_col46\" class=\"data row15 col46\" >-0.117026</td>\n",
       "                        <td id=\"T_630a5_row15_col47\" class=\"data row15 col47\" >0.042609</td>\n",
       "                        <td id=\"T_630a5_row15_col48\" class=\"data row15 col48\" >-0.104550</td>\n",
       "                        <td id=\"T_630a5_row15_col49\" class=\"data row15 col49\" >-0.004300</td>\n",
       "                        <td id=\"T_630a5_row15_col50\" class=\"data row15 col50\" >-0.355951</td>\n",
       "                        <td id=\"T_630a5_row15_col51\" class=\"data row15 col51\" >0.006842</td>\n",
       "            </tr>\n",
       "            <tr>\n",
       "                        <th id=\"T_630a5_level0_row16\" class=\"row_heading level0 row16\" >rougher.input.feed_sol</th>\n",
       "                        <td id=\"T_630a5_row16_col0\" class=\"data row16 col0\" >0.423813</td>\n",
       "                        <td id=\"T_630a5_row16_col1\" class=\"data row16 col1\" >0.171353</td>\n",
       "                        <td id=\"T_630a5_row16_col2\" class=\"data row16 col2\" >0.057400</td>\n",
       "                        <td id=\"T_630a5_row16_col3\" class=\"data row16 col3\" >0.372327</td>\n",
       "                        <td id=\"T_630a5_row16_col4\" class=\"data row16 col4\" >-0.060574</td>\n",
       "                        <td id=\"T_630a5_row16_col5\" class=\"data row16 col5\" >0.055251</td>\n",
       "                        <td id=\"T_630a5_row16_col6\" class=\"data row16 col6\" >-0.088980</td>\n",
       "                        <td id=\"T_630a5_row16_col7\" class=\"data row16 col7\" >0.049419</td>\n",
       "                        <td id=\"T_630a5_row16_col8\" class=\"data row16 col8\" >-0.157935</td>\n",
       "                        <td id=\"T_630a5_row16_col9\" class=\"data row16 col9\" >0.040593</td>\n",
       "                        <td id=\"T_630a5_row16_col10\" class=\"data row16 col10\" >-0.081729</td>\n",
       "                        <td id=\"T_630a5_row16_col11\" class=\"data row16 col11\" >-0.004290</td>\n",
       "                        <td id=\"T_630a5_row16_col12\" class=\"data row16 col12\" >0.018783</td>\n",
       "                        <td id=\"T_630a5_row16_col13\" class=\"data row16 col13\" >0.034800</td>\n",
       "                        <td id=\"T_630a5_row16_col14\" class=\"data row16 col14\" >0.763801</td>\n",
       "                        <td id=\"T_630a5_row16_col15\" class=\"data row16 col15\" >0.358210</td>\n",
       "                        <td id=\"T_630a5_row16_col16\" class=\"data row16 col16\" >1.000000</td>\n",
       "                        <td id=\"T_630a5_row16_col17\" class=\"data row16 col17\" >0.003197</td>\n",
       "                        <td id=\"T_630a5_row16_col18\" class=\"data row16 col18\" >0.524334</td>\n",
       "                        <td id=\"T_630a5_row16_col19\" class=\"data row16 col19\" >0.471386</td>\n",
       "                        <td id=\"T_630a5_row16_col20\" class=\"data row16 col20\" >0.529158</td>\n",
       "                        <td id=\"T_630a5_row16_col21\" class=\"data row16 col21\" >0.515810</td>\n",
       "                        <td id=\"T_630a5_row16_col22\" class=\"data row16 col22\" >0.246289</td>\n",
       "                        <td id=\"T_630a5_row16_col23\" class=\"data row16 col23\" >0.491827</td>\n",
       "                        <td id=\"T_630a5_row16_col24\" class=\"data row16 col24\" >-0.365504</td>\n",
       "                        <td id=\"T_630a5_row16_col25\" class=\"data row16 col25\" >-0.266977</td>\n",
       "                        <td id=\"T_630a5_row16_col26\" class=\"data row16 col26\" >-0.413400</td>\n",
       "                        <td id=\"T_630a5_row16_col27\" class=\"data row16 col27\" >-0.281627</td>\n",
       "                        <td id=\"T_630a5_row16_col28\" class=\"data row16 col28\" >-0.447322</td>\n",
       "                        <td id=\"T_630a5_row16_col29\" class=\"data row16 col29\" >-0.251632</td>\n",
       "                        <td id=\"T_630a5_row16_col30\" class=\"data row16 col30\" >-0.329815</td>\n",
       "                        <td id=\"T_630a5_row16_col31\" class=\"data row16 col31\" >-0.317873</td>\n",
       "                        <td id=\"T_630a5_row16_col32\" class=\"data row16 col32\" >-0.269185</td>\n",
       "                        <td id=\"T_630a5_row16_col33\" class=\"data row16 col33\" >-0.291274</td>\n",
       "                        <td id=\"T_630a5_row16_col34\" class=\"data row16 col34\" >-0.024106</td>\n",
       "                        <td id=\"T_630a5_row16_col35\" class=\"data row16 col35\" >0.000302</td>\n",
       "                        <td id=\"T_630a5_row16_col36\" class=\"data row16 col36\" >0.057896</td>\n",
       "                        <td id=\"T_630a5_row16_col37\" class=\"data row16 col37\" >0.030709</td>\n",
       "                        <td id=\"T_630a5_row16_col38\" class=\"data row16 col38\" >-0.084354</td>\n",
       "                        <td id=\"T_630a5_row16_col39\" class=\"data row16 col39\" >0.123382</td>\n",
       "                        <td id=\"T_630a5_row16_col40\" class=\"data row16 col40\" >-0.179392</td>\n",
       "                        <td id=\"T_630a5_row16_col41\" class=\"data row16 col41\" >0.130127</td>\n",
       "                        <td id=\"T_630a5_row16_col42\" class=\"data row16 col42\" >0.146671</td>\n",
       "                        <td id=\"T_630a5_row16_col43\" class=\"data row16 col43\" >0.065137</td>\n",
       "                        <td id=\"T_630a5_row16_col44\" class=\"data row16 col44\" >0.084524</td>\n",
       "                        <td id=\"T_630a5_row16_col45\" class=\"data row16 col45\" >0.407716</td>\n",
       "                        <td id=\"T_630a5_row16_col46\" class=\"data row16 col46\" >-0.226731</td>\n",
       "                        <td id=\"T_630a5_row16_col47\" class=\"data row16 col47\" >0.089657</td>\n",
       "                        <td id=\"T_630a5_row16_col48\" class=\"data row16 col48\" >-0.172539</td>\n",
       "                        <td id=\"T_630a5_row16_col49\" class=\"data row16 col49\" >0.009571</td>\n",
       "                        <td id=\"T_630a5_row16_col50\" class=\"data row16 col50\" >-0.483905</td>\n",
       "                        <td id=\"T_630a5_row16_col51\" class=\"data row16 col51\" >0.038228</td>\n",
       "            </tr>\n",
       "            <tr>\n",
       "                        <th id=\"T_630a5_level0_row17\" class=\"row_heading level0 row17\" >rougher.input.feed_au</th>\n",
       "                        <td id=\"T_630a5_row17_col0\" class=\"data row17 col0\" >0.436207</td>\n",
       "                        <td id=\"T_630a5_row17_col1\" class=\"data row17 col1\" >0.460382</td>\n",
       "                        <td id=\"T_630a5_row17_col2\" class=\"data row17 col2\" >0.238692</td>\n",
       "                        <td id=\"T_630a5_row17_col3\" class=\"data row17 col3\" >0.095280</td>\n",
       "                        <td id=\"T_630a5_row17_col4\" class=\"data row17 col4\" >0.218384</td>\n",
       "                        <td id=\"T_630a5_row17_col5\" class=\"data row17 col5\" >0.184980</td>\n",
       "                        <td id=\"T_630a5_row17_col6\" class=\"data row17 col6\" >0.243540</td>\n",
       "                        <td id=\"T_630a5_row17_col7\" class=\"data row17 col7\" >0.178838</td>\n",
       "                        <td id=\"T_630a5_row17_col8\" class=\"data row17 col8\" >0.168597</td>\n",
       "                        <td id=\"T_630a5_row17_col9\" class=\"data row17 col9\" >0.143132</td>\n",
       "                        <td id=\"T_630a5_row17_col10\" class=\"data row17 col10\" >0.246374</td>\n",
       "                        <td id=\"T_630a5_row17_col11\" class=\"data row17 col11\" >0.047501</td>\n",
       "                        <td id=\"T_630a5_row17_col12\" class=\"data row17 col12\" >0.859775</td>\n",
       "                        <td id=\"T_630a5_row17_col13\" class=\"data row17 col13\" >0.695707</td>\n",
       "                        <td id=\"T_630a5_row17_col14\" class=\"data row17 col14\" >-0.154587</td>\n",
       "                        <td id=\"T_630a5_row17_col15\" class=\"data row17 col15\" >-0.232345</td>\n",
       "                        <td id=\"T_630a5_row17_col16\" class=\"data row17 col16\" >0.003197</td>\n",
       "                        <td id=\"T_630a5_row17_col17\" class=\"data row17 col17\" >1.000000</td>\n",
       "                        <td id=\"T_630a5_row17_col18\" class=\"data row17 col18\" >0.030920</td>\n",
       "                        <td id=\"T_630a5_row17_col19\" class=\"data row17 col19\" >0.325525</td>\n",
       "                        <td id=\"T_630a5_row17_col20\" class=\"data row17 col20\" >-0.011463</td>\n",
       "                        <td id=\"T_630a5_row17_col21\" class=\"data row17 col21\" >0.309783</td>\n",
       "                        <td id=\"T_630a5_row17_col22\" class=\"data row17 col22\" >0.233740</td>\n",
       "                        <td id=\"T_630a5_row17_col23\" class=\"data row17 col23\" >-0.232832</td>\n",
       "                        <td id=\"T_630a5_row17_col24\" class=\"data row17 col24\" >-0.135618</td>\n",
       "                        <td id=\"T_630a5_row17_col25\" class=\"data row17 col25\" >0.158528</td>\n",
       "                        <td id=\"T_630a5_row17_col26\" class=\"data row17 col26\" >-0.088103</td>\n",
       "                        <td id=\"T_630a5_row17_col27\" class=\"data row17 col27\" >0.157465</td>\n",
       "                        <td id=\"T_630a5_row17_col28\" class=\"data row17 col28\" >-0.149577</td>\n",
       "                        <td id=\"T_630a5_row17_col29\" class=\"data row17 col29\" >0.176954</td>\n",
       "                        <td id=\"T_630a5_row17_col30\" class=\"data row17 col30\" >-0.095719</td>\n",
       "                        <td id=\"T_630a5_row17_col31\" class=\"data row17 col31\" >0.173310</td>\n",
       "                        <td id=\"T_630a5_row17_col32\" class=\"data row17 col32\" >-0.183346</td>\n",
       "                        <td id=\"T_630a5_row17_col33\" class=\"data row17 col33\" >0.186442</td>\n",
       "                        <td id=\"T_630a5_row17_col34\" class=\"data row17 col34\" >-0.004156</td>\n",
       "                        <td id=\"T_630a5_row17_col35\" class=\"data row17 col35\" >-0.067953</td>\n",
       "                        <td id=\"T_630a5_row17_col36\" class=\"data row17 col36\" >0.063430</td>\n",
       "                        <td id=\"T_630a5_row17_col37\" class=\"data row17 col37\" >-0.079734</td>\n",
       "                        <td id=\"T_630a5_row17_col38\" class=\"data row17 col38\" >0.197716</td>\n",
       "                        <td id=\"T_630a5_row17_col39\" class=\"data row17 col39\" >0.002687</td>\n",
       "                        <td id=\"T_630a5_row17_col40\" class=\"data row17 col40\" >0.231810</td>\n",
       "                        <td id=\"T_630a5_row17_col41\" class=\"data row17 col41\" >0.008094</td>\n",
       "                        <td id=\"T_630a5_row17_col42\" class=\"data row17 col42\" >0.165834</td>\n",
       "                        <td id=\"T_630a5_row17_col43\" class=\"data row17 col43\" >-0.039397</td>\n",
       "                        <td id=\"T_630a5_row17_col44\" class=\"data row17 col44\" >0.160088</td>\n",
       "                        <td id=\"T_630a5_row17_col45\" class=\"data row17 col45\" >-0.266889</td>\n",
       "                        <td id=\"T_630a5_row17_col46\" class=\"data row17 col46\" >-0.037379</td>\n",
       "                        <td id=\"T_630a5_row17_col47\" class=\"data row17 col47\" >0.016553</td>\n",
       "                        <td id=\"T_630a5_row17_col48\" class=\"data row17 col48\" >-0.015953</td>\n",
       "                        <td id=\"T_630a5_row17_col49\" class=\"data row17 col49\" >0.074743</td>\n",
       "                        <td id=\"T_630a5_row17_col50\" class=\"data row17 col50\" >0.191477</td>\n",
       "                        <td id=\"T_630a5_row17_col51\" class=\"data row17 col51\" >0.036998</td>\n",
       "            </tr>\n",
       "            <tr>\n",
       "                        <th id=\"T_630a5_level0_row18\" class=\"row_heading level0 row18\" >rougher.input.floatbank10_sulfate</th>\n",
       "                        <td id=\"T_630a5_row18_col0\" class=\"data row18 col0\" >0.616477</td>\n",
       "                        <td id=\"T_630a5_row18_col1\" class=\"data row18 col1\" >0.231353</td>\n",
       "                        <td id=\"T_630a5_row18_col2\" class=\"data row18 col2\" >-0.186211</td>\n",
       "                        <td id=\"T_630a5_row18_col3\" class=\"data row18 col3\" >0.581719</td>\n",
       "                        <td id=\"T_630a5_row18_col4\" class=\"data row18 col4\" >0.041911</td>\n",
       "                        <td id=\"T_630a5_row18_col5\" class=\"data row18 col5\" >-0.058344</td>\n",
       "                        <td id=\"T_630a5_row18_col6\" class=\"data row18 col6\" >0.035523</td>\n",
       "                        <td id=\"T_630a5_row18_col7\" class=\"data row18 col7\" >0.023787</td>\n",
       "                        <td id=\"T_630a5_row18_col8\" class=\"data row18 col8\" >-0.016792</td>\n",
       "                        <td id=\"T_630a5_row18_col9\" class=\"data row18 col9\" >-0.069795</td>\n",
       "                        <td id=\"T_630a5_row18_col10\" class=\"data row18 col10\" >0.057171</td>\n",
       "                        <td id=\"T_630a5_row18_col11\" class=\"data row18 col11\" >-0.074695</td>\n",
       "                        <td id=\"T_630a5_row18_col12\" class=\"data row18 col12\" >-0.110134</td>\n",
       "                        <td id=\"T_630a5_row18_col13\" class=\"data row18 col13\" >0.195107</td>\n",
       "                        <td id=\"T_630a5_row18_col14\" class=\"data row18 col14\" >0.671338</td>\n",
       "                        <td id=\"T_630a5_row18_col15\" class=\"data row18 col15\" >0.107586</td>\n",
       "                        <td id=\"T_630a5_row18_col16\" class=\"data row18 col16\" >0.524334</td>\n",
       "                        <td id=\"T_630a5_row18_col17\" class=\"data row18 col17\" >0.030920</td>\n",
       "                        <td id=\"T_630a5_row18_col18\" class=\"data row18 col18\" >1.000000</td>\n",
       "                        <td id=\"T_630a5_row18_col19\" class=\"data row18 col19\" >0.527083</td>\n",
       "                        <td id=\"T_630a5_row18_col20\" class=\"data row18 col20\" >0.923457</td>\n",
       "                        <td id=\"T_630a5_row18_col21\" class=\"data row18 col21\" >0.440827</td>\n",
       "                        <td id=\"T_630a5_row18_col22\" class=\"data row18 col22\" >0.187109</td>\n",
       "                        <td id=\"T_630a5_row18_col23\" class=\"data row18 col23\" >0.530547</td>\n",
       "                        <td id=\"T_630a5_row18_col24\" class=\"data row18 col24\" >-0.334035</td>\n",
       "                        <td id=\"T_630a5_row18_col25\" class=\"data row18 col25\" >-0.159752</td>\n",
       "                        <td id=\"T_630a5_row18_col26\" class=\"data row18 col26\" >-0.367035</td>\n",
       "                        <td id=\"T_630a5_row18_col27\" class=\"data row18 col27\" >-0.169574</td>\n",
       "                        <td id=\"T_630a5_row18_col28\" class=\"data row18 col28\" >-0.340417</td>\n",
       "                        <td id=\"T_630a5_row18_col29\" class=\"data row18 col29\" >-0.106543</td>\n",
       "                        <td id=\"T_630a5_row18_col30\" class=\"data row18 col30\" >-0.234237</td>\n",
       "                        <td id=\"T_630a5_row18_col31\" class=\"data row18 col31\" >-0.134184</td>\n",
       "                        <td id=\"T_630a5_row18_col32\" class=\"data row18 col32\" >-0.112554</td>\n",
       "                        <td id=\"T_630a5_row18_col33\" class=\"data row18 col33\" >-0.062685</td>\n",
       "                        <td id=\"T_630a5_row18_col34\" class=\"data row18 col34\" >0.159682</td>\n",
       "                        <td id=\"T_630a5_row18_col35\" class=\"data row18 col35\" >-0.074540</td>\n",
       "                        <td id=\"T_630a5_row18_col36\" class=\"data row18 col36\" >0.308753</td>\n",
       "                        <td id=\"T_630a5_row18_col37\" class=\"data row18 col37\" >-0.027401</td>\n",
       "                        <td id=\"T_630a5_row18_col38\" class=\"data row18 col38\" >0.027194</td>\n",
       "                        <td id=\"T_630a5_row18_col39\" class=\"data row18 col39\" >0.050717</td>\n",
       "                        <td id=\"T_630a5_row18_col40\" class=\"data row18 col40\" >0.017193</td>\n",
       "                        <td id=\"T_630a5_row18_col41\" class=\"data row18 col41\" >0.040709</td>\n",
       "                        <td id=\"T_630a5_row18_col42\" class=\"data row18 col42\" >0.306822</td>\n",
       "                        <td id=\"T_630a5_row18_col43\" class=\"data row18 col43\" >0.163263</td>\n",
       "                        <td id=\"T_630a5_row18_col44\" class=\"data row18 col44\" >0.330181</td>\n",
       "                        <td id=\"T_630a5_row18_col45\" class=\"data row18 col45\" >0.298407</td>\n",
       "                        <td id=\"T_630a5_row18_col46\" class=\"data row18 col46\" >0.041357</td>\n",
       "                        <td id=\"T_630a5_row18_col47\" class=\"data row18 col47\" >0.084638</td>\n",
       "                        <td id=\"T_630a5_row18_col48\" class=\"data row18 col48\" >0.144253</td>\n",
       "                        <td id=\"T_630a5_row18_col49\" class=\"data row18 col49\" >0.060772</td>\n",
       "                        <td id=\"T_630a5_row18_col50\" class=\"data row18 col50\" >-0.312294</td>\n",
       "                        <td id=\"T_630a5_row18_col51\" class=\"data row18 col51\" >0.067931</td>\n",
       "            </tr>\n",
       "            <tr>\n",
       "                        <th id=\"T_630a5_level0_row19\" class=\"row_heading level0 row19\" >rougher.input.floatbank10_xanthate</th>\n",
       "                        <td id=\"T_630a5_row19_col0\" class=\"data row19 col0\" >0.550640</td>\n",
       "                        <td id=\"T_630a5_row19_col1\" class=\"data row19 col1\" >0.339256</td>\n",
       "                        <td id=\"T_630a5_row19_col2\" class=\"data row19 col2\" >0.224360</td>\n",
       "                        <td id=\"T_630a5_row19_col3\" class=\"data row19 col3\" >0.350601</td>\n",
       "                        <td id=\"T_630a5_row19_col4\" class=\"data row19 col4\" >0.187693</td>\n",
       "                        <td id=\"T_630a5_row19_col5\" class=\"data row19 col5\" >0.110566</td>\n",
       "                        <td id=\"T_630a5_row19_col6\" class=\"data row19 col6\" >0.172360</td>\n",
       "                        <td id=\"T_630a5_row19_col7\" class=\"data row19 col7\" >0.067695</td>\n",
       "                        <td id=\"T_630a5_row19_col8\" class=\"data row19 col8\" >0.135009</td>\n",
       "                        <td id=\"T_630a5_row19_col9\" class=\"data row19 col9\" >0.082145</td>\n",
       "                        <td id=\"T_630a5_row19_col10\" class=\"data row19 col10\" >0.191476</td>\n",
       "                        <td id=\"T_630a5_row19_col11\" class=\"data row19 col11\" >-0.037172</td>\n",
       "                        <td id=\"T_630a5_row19_col12\" class=\"data row19 col12\" >0.332820</td>\n",
       "                        <td id=\"T_630a5_row19_col13\" class=\"data row19 col13\" >0.148440</td>\n",
       "                        <td id=\"T_630a5_row19_col14\" class=\"data row19 col14\" >0.614511</td>\n",
       "                        <td id=\"T_630a5_row19_col15\" class=\"data row19 col15\" >0.036560</td>\n",
       "                        <td id=\"T_630a5_row19_col16\" class=\"data row19 col16\" >0.471386</td>\n",
       "                        <td id=\"T_630a5_row19_col17\" class=\"data row19 col17\" >0.325525</td>\n",
       "                        <td id=\"T_630a5_row19_col18\" class=\"data row19 col18\" >0.527083</td>\n",
       "                        <td id=\"T_630a5_row19_col19\" class=\"data row19 col19\" >1.000000</td>\n",
       "                        <td id=\"T_630a5_row19_col20\" class=\"data row19 col20\" >0.372804</td>\n",
       "                        <td id=\"T_630a5_row19_col21\" class=\"data row19 col21\" >0.874116</td>\n",
       "                        <td id=\"T_630a5_row19_col22\" class=\"data row19 col22\" >0.266980</td>\n",
       "                        <td id=\"T_630a5_row19_col23\" class=\"data row19 col23\" >0.261765</td>\n",
       "                        <td id=\"T_630a5_row19_col24\" class=\"data row19 col24\" >-0.236875</td>\n",
       "                        <td id=\"T_630a5_row19_col25\" class=\"data row19 col25\" >0.013710</td>\n",
       "                        <td id=\"T_630a5_row19_col26\" class=\"data row19 col26\" >-0.220382</td>\n",
       "                        <td id=\"T_630a5_row19_col27\" class=\"data row19 col27\" >-0.005378</td>\n",
       "                        <td id=\"T_630a5_row19_col28\" class=\"data row19 col28\" >-0.312526</td>\n",
       "                        <td id=\"T_630a5_row19_col29\" class=\"data row19 col29\" >0.062455</td>\n",
       "                        <td id=\"T_630a5_row19_col30\" class=\"data row19 col30\" >-0.156861</td>\n",
       "                        <td id=\"T_630a5_row19_col31\" class=\"data row19 col31\" >-0.058459</td>\n",
       "                        <td id=\"T_630a5_row19_col32\" class=\"data row19 col32\" >-0.229613</td>\n",
       "                        <td id=\"T_630a5_row19_col33\" class=\"data row19 col33\" >0.050415</td>\n",
       "                        <td id=\"T_630a5_row19_col34\" class=\"data row19 col34\" >-0.045553</td>\n",
       "                        <td id=\"T_630a5_row19_col35\" class=\"data row19 col35\" >0.025373</td>\n",
       "                        <td id=\"T_630a5_row19_col36\" class=\"data row19 col36\" >0.086715</td>\n",
       "                        <td id=\"T_630a5_row19_col37\" class=\"data row19 col37\" >0.014776</td>\n",
       "                        <td id=\"T_630a5_row19_col38\" class=\"data row19 col38\" >0.118774</td>\n",
       "                        <td id=\"T_630a5_row19_col39\" class=\"data row19 col39\" >0.074931</td>\n",
       "                        <td id=\"T_630a5_row19_col40\" class=\"data row19 col40\" >0.056553</td>\n",
       "                        <td id=\"T_630a5_row19_col41\" class=\"data row19 col41\" >0.086418</td>\n",
       "                        <td id=\"T_630a5_row19_col42\" class=\"data row19 col42\" >0.240843</td>\n",
       "                        <td id=\"T_630a5_row19_col43\" class=\"data row19 col43\" >0.070772</td>\n",
       "                        <td id=\"T_630a5_row19_col44\" class=\"data row19 col44\" >0.187300</td>\n",
       "                        <td id=\"T_630a5_row19_col45\" class=\"data row19 col45\" >0.163137</td>\n",
       "                        <td id=\"T_630a5_row19_col46\" class=\"data row19 col46\" >-0.141634</td>\n",
       "                        <td id=\"T_630a5_row19_col47\" class=\"data row19 col47\" >0.130590</td>\n",
       "                        <td id=\"T_630a5_row19_col48\" class=\"data row19 col48\" >-0.043725</td>\n",
       "                        <td id=\"T_630a5_row19_col49\" class=\"data row19 col49\" >0.081810</td>\n",
       "                        <td id=\"T_630a5_row19_col50\" class=\"data row19 col50\" >-0.112190</td>\n",
       "                        <td id=\"T_630a5_row19_col51\" class=\"data row19 col51\" >0.112981</td>\n",
       "            </tr>\n",
       "            <tr>\n",
       "                        <th id=\"T_630a5_level0_row20\" class=\"row_heading level0 row20\" >rougher.input.floatbank11_sulfate</th>\n",
       "                        <td id=\"T_630a5_row20_col0\" class=\"data row20 col0\" >0.585522</td>\n",
       "                        <td id=\"T_630a5_row20_col1\" class=\"data row20 col1\" >0.210909</td>\n",
       "                        <td id=\"T_630a5_row20_col2\" class=\"data row20 col2\" >-0.231701</td>\n",
       "                        <td id=\"T_630a5_row20_col3\" class=\"data row20 col3\" >0.594250</td>\n",
       "                        <td id=\"T_630a5_row20_col4\" class=\"data row20 col4\" >0.046837</td>\n",
       "                        <td id=\"T_630a5_row20_col5\" class=\"data row20 col5\" >-0.079213</td>\n",
       "                        <td id=\"T_630a5_row20_col6\" class=\"data row20 col6\" >0.047361</td>\n",
       "                        <td id=\"T_630a5_row20_col7\" class=\"data row20 col7\" >0.045953</td>\n",
       "                        <td id=\"T_630a5_row20_col8\" class=\"data row20 col8\" >0.016075</td>\n",
       "                        <td id=\"T_630a5_row20_col9\" class=\"data row20 col9\" >-0.083834</td>\n",
       "                        <td id=\"T_630a5_row20_col10\" class=\"data row20 col10\" >0.064841</td>\n",
       "                        <td id=\"T_630a5_row20_col11\" class=\"data row20 col11\" >-0.081712</td>\n",
       "                        <td id=\"T_630a5_row20_col12\" class=\"data row20 col12\" >-0.163990</td>\n",
       "                        <td id=\"T_630a5_row20_col13\" class=\"data row20 col13\" >0.205256</td>\n",
       "                        <td id=\"T_630a5_row20_col14\" class=\"data row20 col14\" >0.646607</td>\n",
       "                        <td id=\"T_630a5_row20_col15\" class=\"data row20 col15\" >0.195057</td>\n",
       "                        <td id=\"T_630a5_row20_col16\" class=\"data row20 col16\" >0.529158</td>\n",
       "                        <td id=\"T_630a5_row20_col17\" class=\"data row20 col17\" >-0.011463</td>\n",
       "                        <td id=\"T_630a5_row20_col18\" class=\"data row20 col18\" >0.923457</td>\n",
       "                        <td id=\"T_630a5_row20_col19\" class=\"data row20 col19\" >0.372804</td>\n",
       "                        <td id=\"T_630a5_row20_col20\" class=\"data row20 col20\" >1.000000</td>\n",
       "                        <td id=\"T_630a5_row20_col21\" class=\"data row20 col21\" >0.460486</td>\n",
       "                        <td id=\"T_630a5_row20_col22\" class=\"data row20 col22\" >0.174805</td>\n",
       "                        <td id=\"T_630a5_row20_col23\" class=\"data row20 col23\" >0.492173</td>\n",
       "                        <td id=\"T_630a5_row20_col24\" class=\"data row20 col24\" >-0.329782</td>\n",
       "                        <td id=\"T_630a5_row20_col25\" class=\"data row20 col25\" >-0.177947</td>\n",
       "                        <td id=\"T_630a5_row20_col26\" class=\"data row20 col26\" >-0.368160</td>\n",
       "                        <td id=\"T_630a5_row20_col27\" class=\"data row20 col27\" >-0.183717</td>\n",
       "                        <td id=\"T_630a5_row20_col28\" class=\"data row20 col28\" >-0.333531</td>\n",
       "                        <td id=\"T_630a5_row20_col29\" class=\"data row20 col29\" >-0.169007</td>\n",
       "                        <td id=\"T_630a5_row20_col30\" class=\"data row20 col30\" >-0.233879</td>\n",
       "                        <td id=\"T_630a5_row20_col31\" class=\"data row20 col31\" >-0.150546</td>\n",
       "                        <td id=\"T_630a5_row20_col32\" class=\"data row20 col32\" >-0.097431</td>\n",
       "                        <td id=\"T_630a5_row20_col33\" class=\"data row20 col33\" >-0.132322</td>\n",
       "                        <td id=\"T_630a5_row20_col34\" class=\"data row20 col34\" >0.197893</td>\n",
       "                        <td id=\"T_630a5_row20_col35\" class=\"data row20 col35\" >-0.063607</td>\n",
       "                        <td id=\"T_630a5_row20_col36\" class=\"data row20 col36\" >0.325692</td>\n",
       "                        <td id=\"T_630a5_row20_col37\" class=\"data row20 col37\" >-0.015838</td>\n",
       "                        <td id=\"T_630a5_row20_col38\" class=\"data row20 col38\" >0.038922</td>\n",
       "                        <td id=\"T_630a5_row20_col39\" class=\"data row20 col39\" >0.081963</td>\n",
       "                        <td id=\"T_630a5_row20_col40\" class=\"data row20 col40\" >0.003698</td>\n",
       "                        <td id=\"T_630a5_row20_col41\" class=\"data row20 col41\" >0.073755</td>\n",
       "                        <td id=\"T_630a5_row20_col42\" class=\"data row20 col42\" >0.277188</td>\n",
       "                        <td id=\"T_630a5_row20_col43\" class=\"data row20 col43\" >0.191199</td>\n",
       "                        <td id=\"T_630a5_row20_col44\" class=\"data row20 col44\" >0.306050</td>\n",
       "                        <td id=\"T_630a5_row20_col45\" class=\"data row20 col45\" >0.321607</td>\n",
       "                        <td id=\"T_630a5_row20_col46\" class=\"data row20 col46\" >0.069535</td>\n",
       "                        <td id=\"T_630a5_row20_col47\" class=\"data row20 col47\" >0.111017</td>\n",
       "                        <td id=\"T_630a5_row20_col48\" class=\"data row20 col48\" >0.165928</td>\n",
       "                        <td id=\"T_630a5_row20_col49\" class=\"data row20 col49\" >0.069145</td>\n",
       "                        <td id=\"T_630a5_row20_col50\" class=\"data row20 col50\" >-0.315921</td>\n",
       "                        <td id=\"T_630a5_row20_col51\" class=\"data row20 col51\" >0.080315</td>\n",
       "            </tr>\n",
       "            <tr>\n",
       "                        <th id=\"T_630a5_level0_row21\" class=\"row_heading level0 row21\" >rougher.input.floatbank11_xanthate</th>\n",
       "                        <td id=\"T_630a5_row21_col0\" class=\"data row21 col0\" >0.539113</td>\n",
       "                        <td id=\"T_630a5_row21_col1\" class=\"data row21 col1\" >0.345551</td>\n",
       "                        <td id=\"T_630a5_row21_col2\" class=\"data row21 col2\" >0.200080</td>\n",
       "                        <td id=\"T_630a5_row21_col3\" class=\"data row21 col3\" >0.378950</td>\n",
       "                        <td id=\"T_630a5_row21_col4\" class=\"data row21 col4\" >0.199009</td>\n",
       "                        <td id=\"T_630a5_row21_col5\" class=\"data row21 col5\" >0.090125</td>\n",
       "                        <td id=\"T_630a5_row21_col6\" class=\"data row21 col6\" >0.194925</td>\n",
       "                        <td id=\"T_630a5_row21_col7\" class=\"data row21 col7\" >0.102405</td>\n",
       "                        <td id=\"T_630a5_row21_col8\" class=\"data row21 col8\" >0.181177</td>\n",
       "                        <td id=\"T_630a5_row21_col9\" class=\"data row21 col9\" >0.067524</td>\n",
       "                        <td id=\"T_630a5_row21_col10\" class=\"data row21 col10\" >0.209859</td>\n",
       "                        <td id=\"T_630a5_row21_col11\" class=\"data row21 col11\" >-0.057295</td>\n",
       "                        <td id=\"T_630a5_row21_col12\" class=\"data row21 col12\" >0.309268</td>\n",
       "                        <td id=\"T_630a5_row21_col13\" class=\"data row21 col13\" >0.174549</td>\n",
       "                        <td id=\"T_630a5_row21_col14\" class=\"data row21 col14\" >0.618994</td>\n",
       "                        <td id=\"T_630a5_row21_col15\" class=\"data row21 col15\" >0.181652</td>\n",
       "                        <td id=\"T_630a5_row21_col16\" class=\"data row21 col16\" >0.515810</td>\n",
       "                        <td id=\"T_630a5_row21_col17\" class=\"data row21 col17\" >0.309783</td>\n",
       "                        <td id=\"T_630a5_row21_col18\" class=\"data row21 col18\" >0.440827</td>\n",
       "                        <td id=\"T_630a5_row21_col19\" class=\"data row21 col19\" >0.874116</td>\n",
       "                        <td id=\"T_630a5_row21_col20\" class=\"data row21 col20\" >0.460486</td>\n",
       "                        <td id=\"T_630a5_row21_col21\" class=\"data row21 col21\" >1.000000</td>\n",
       "                        <td id=\"T_630a5_row21_col22\" class=\"data row21 col22\" >0.279278</td>\n",
       "                        <td id=\"T_630a5_row21_col23\" class=\"data row21 col23\" >0.222100</td>\n",
       "                        <td id=\"T_630a5_row21_col24\" class=\"data row21 col24\" >-0.260535</td>\n",
       "                        <td id=\"T_630a5_row21_col25\" class=\"data row21 col25\" >-0.013149</td>\n",
       "                        <td id=\"T_630a5_row21_col26\" class=\"data row21 col26\" >-0.247527</td>\n",
       "                        <td id=\"T_630a5_row21_col27\" class=\"data row21 col27\" >-0.019531</td>\n",
       "                        <td id=\"T_630a5_row21_col28\" class=\"data row21 col28\" >-0.344550</td>\n",
       "                        <td id=\"T_630a5_row21_col29\" class=\"data row21 col29\" >-0.009379</td>\n",
       "                        <td id=\"T_630a5_row21_col30\" class=\"data row21 col30\" >-0.179661</td>\n",
       "                        <td id=\"T_630a5_row21_col31\" class=\"data row21 col31\" >-0.080375</td>\n",
       "                        <td id=\"T_630a5_row21_col32\" class=\"data row21 col32\" >-0.248119</td>\n",
       "                        <td id=\"T_630a5_row21_col33\" class=\"data row21 col33\" >-0.042188</td>\n",
       "                        <td id=\"T_630a5_row21_col34\" class=\"data row21 col34\" >-0.017139</td>\n",
       "                        <td id=\"T_630a5_row21_col35\" class=\"data row21 col35\" >0.032756</td>\n",
       "                        <td id=\"T_630a5_row21_col36\" class=\"data row21 col36\" >0.100449</td>\n",
       "                        <td id=\"T_630a5_row21_col37\" class=\"data row21 col37\" >0.019848</td>\n",
       "                        <td id=\"T_630a5_row21_col38\" class=\"data row21 col38\" >0.146897</td>\n",
       "                        <td id=\"T_630a5_row21_col39\" class=\"data row21 col39\" >0.118810</td>\n",
       "                        <td id=\"T_630a5_row21_col40\" class=\"data row21 col40\" >0.042684</td>\n",
       "                        <td id=\"T_630a5_row21_col41\" class=\"data row21 col41\" >0.135455</td>\n",
       "                        <td id=\"T_630a5_row21_col42\" class=\"data row21 col42\" >0.214027</td>\n",
       "                        <td id=\"T_630a5_row21_col43\" class=\"data row21 col43\" >0.099220</td>\n",
       "                        <td id=\"T_630a5_row21_col44\" class=\"data row21 col44\" >0.160767</td>\n",
       "                        <td id=\"T_630a5_row21_col45\" class=\"data row21 col45\" >0.203885</td>\n",
       "                        <td id=\"T_630a5_row21_col46\" class=\"data row21 col46\" >-0.136782</td>\n",
       "                        <td id=\"T_630a5_row21_col47\" class=\"data row21 col47\" >0.153905</td>\n",
       "                        <td id=\"T_630a5_row21_col48\" class=\"data row21 col48\" >-0.033273</td>\n",
       "                        <td id=\"T_630a5_row21_col49\" class=\"data row21 col49\" >0.088701</td>\n",
       "                        <td id=\"T_630a5_row21_col50\" class=\"data row21 col50\" >-0.126049</td>\n",
       "                        <td id=\"T_630a5_row21_col51\" class=\"data row21 col51\" >0.133275</td>\n",
       "            </tr>\n",
       "            <tr>\n",
       "                        <th id=\"T_630a5_level0_row22\" class=\"row_heading level0 row22\" >rougher.state.floatbank10_a_air</th>\n",
       "                        <td id=\"T_630a5_row22_col0\" class=\"data row22 col0\" >0.234925</td>\n",
       "                        <td id=\"T_630a5_row22_col1\" class=\"data row22 col1\" >0.408884</td>\n",
       "                        <td id=\"T_630a5_row22_col2\" class=\"data row22 col2\" >0.023678</td>\n",
       "                        <td id=\"T_630a5_row22_col3\" class=\"data row22 col3\" >0.402104</td>\n",
       "                        <td id=\"T_630a5_row22_col4\" class=\"data row22 col4\" >0.215473</td>\n",
       "                        <td id=\"T_630a5_row22_col5\" class=\"data row22 col5\" >0.387206</td>\n",
       "                        <td id=\"T_630a5_row22_col6\" class=\"data row22 col6\" >0.169211</td>\n",
       "                        <td id=\"T_630a5_row22_col7\" class=\"data row22 col7\" >0.207161</td>\n",
       "                        <td id=\"T_630a5_row22_col8\" class=\"data row22 col8\" >-0.087974</td>\n",
       "                        <td id=\"T_630a5_row22_col9\" class=\"data row22 col9\" >0.333690</td>\n",
       "                        <td id=\"T_630a5_row22_col10\" class=\"data row22 col10\" >0.177370</td>\n",
       "                        <td id=\"T_630a5_row22_col11\" class=\"data row22 col11\" >0.138906</td>\n",
       "                        <td id=\"T_630a5_row22_col12\" class=\"data row22 col12\" >0.303702</td>\n",
       "                        <td id=\"T_630a5_row22_col13\" class=\"data row22 col13\" >0.374201</td>\n",
       "                        <td id=\"T_630a5_row22_col14\" class=\"data row22 col14\" >0.259287</td>\n",
       "                        <td id=\"T_630a5_row22_col15\" class=\"data row22 col15\" >0.228805</td>\n",
       "                        <td id=\"T_630a5_row22_col16\" class=\"data row22 col16\" >0.246289</td>\n",
       "                        <td id=\"T_630a5_row22_col17\" class=\"data row22 col17\" >0.233740</td>\n",
       "                        <td id=\"T_630a5_row22_col18\" class=\"data row22 col18\" >0.187109</td>\n",
       "                        <td id=\"T_630a5_row22_col19\" class=\"data row22 col19\" >0.266980</td>\n",
       "                        <td id=\"T_630a5_row22_col20\" class=\"data row22 col20\" >0.174805</td>\n",
       "                        <td id=\"T_630a5_row22_col21\" class=\"data row22 col21\" >0.279278</td>\n",
       "                        <td id=\"T_630a5_row22_col22\" class=\"data row22 col22\" >1.000000</td>\n",
       "                        <td id=\"T_630a5_row22_col23\" class=\"data row22 col23\" >0.411758</td>\n",
       "                        <td id=\"T_630a5_row22_col24\" class=\"data row22 col24\" >-0.389654</td>\n",
       "                        <td id=\"T_630a5_row22_col25\" class=\"data row22 col25\" >-0.311771</td>\n",
       "                        <td id=\"T_630a5_row22_col26\" class=\"data row22 col26\" >-0.488258</td>\n",
       "                        <td id=\"T_630a5_row22_col27\" class=\"data row22 col27\" >-0.320298</td>\n",
       "                        <td id=\"T_630a5_row22_col28\" class=\"data row22 col28\" >-0.513014</td>\n",
       "                        <td id=\"T_630a5_row22_col29\" class=\"data row22 col29\" >-0.322193</td>\n",
       "                        <td id=\"T_630a5_row22_col30\" class=\"data row22 col30\" >-0.356431</td>\n",
       "                        <td id=\"T_630a5_row22_col31\" class=\"data row22 col31\" >-0.320648</td>\n",
       "                        <td id=\"T_630a5_row22_col32\" class=\"data row22 col32\" >-0.277037</td>\n",
       "                        <td id=\"T_630a5_row22_col33\" class=\"data row22 col33\" >-0.286920</td>\n",
       "                        <td id=\"T_630a5_row22_col34\" class=\"data row22 col34\" >-0.033902</td>\n",
       "                        <td id=\"T_630a5_row22_col35\" class=\"data row22 col35\" >-0.147985</td>\n",
       "                        <td id=\"T_630a5_row22_col36\" class=\"data row22 col36\" >0.163335</td>\n",
       "                        <td id=\"T_630a5_row22_col37\" class=\"data row22 col37\" >-0.142775</td>\n",
       "                        <td id=\"T_630a5_row22_col38\" class=\"data row22 col38\" >0.026611</td>\n",
       "                        <td id=\"T_630a5_row22_col39\" class=\"data row22 col39\" >0.115620</td>\n",
       "                        <td id=\"T_630a5_row22_col40\" class=\"data row22 col40\" >0.005592</td>\n",
       "                        <td id=\"T_630a5_row22_col41\" class=\"data row22 col41\" >0.111040</td>\n",
       "                        <td id=\"T_630a5_row22_col42\" class=\"data row22 col42\" >0.296594</td>\n",
       "                        <td id=\"T_630a5_row22_col43\" class=\"data row22 col43\" >0.087591</td>\n",
       "                        <td id=\"T_630a5_row22_col44\" class=\"data row22 col44\" >0.239912</td>\n",
       "                        <td id=\"T_630a5_row22_col45\" class=\"data row22 col45\" >-0.123604</td>\n",
       "                        <td id=\"T_630a5_row22_col46\" class=\"data row22 col46\" >-0.043592</td>\n",
       "                        <td id=\"T_630a5_row22_col47\" class=\"data row22 col47\" >0.105358</td>\n",
       "                        <td id=\"T_630a5_row22_col48\" class=\"data row22 col48\" >-0.078618</td>\n",
       "                        <td id=\"T_630a5_row22_col49\" class=\"data row22 col49\" >0.072453</td>\n",
       "                        <td id=\"T_630a5_row22_col50\" class=\"data row22 col50\" >-0.334347</td>\n",
       "                        <td id=\"T_630a5_row22_col51\" class=\"data row22 col51\" >0.046717</td>\n",
       "            </tr>\n",
       "            <tr>\n",
       "                        <th id=\"T_630a5_level0_row23\" class=\"row_heading level0 row23\" >rougher.state.floatbank10_a_level</th>\n",
       "                        <td id=\"T_630a5_row23_col0\" class=\"data row23 col0\" >0.222601</td>\n",
       "                        <td id=\"T_630a5_row23_col1\" class=\"data row23 col1\" >0.130801</td>\n",
       "                        <td id=\"T_630a5_row23_col2\" class=\"data row23 col2\" >-0.236632</td>\n",
       "                        <td id=\"T_630a5_row23_col3\" class=\"data row23 col3\" >0.424813</td>\n",
       "                        <td id=\"T_630a5_row23_col4\" class=\"data row23 col4\" >-0.033903</td>\n",
       "                        <td id=\"T_630a5_row23_col5\" class=\"data row23 col5\" >0.159607</td>\n",
       "                        <td id=\"T_630a5_row23_col6\" class=\"data row23 col6\" >-0.073373</td>\n",
       "                        <td id=\"T_630a5_row23_col7\" class=\"data row23 col7\" >0.076225</td>\n",
       "                        <td id=\"T_630a5_row23_col8\" class=\"data row23 col8\" >-0.222135</td>\n",
       "                        <td id=\"T_630a5_row23_col9\" class=\"data row23 col9\" >0.131849</td>\n",
       "                        <td id=\"T_630a5_row23_col10\" class=\"data row23 col10\" >-0.053599</td>\n",
       "                        <td id=\"T_630a5_row23_col11\" class=\"data row23 col11\" >0.067602</td>\n",
       "                        <td id=\"T_630a5_row23_col12\" class=\"data row23 col12\" >-0.307004</td>\n",
       "                        <td id=\"T_630a5_row23_col13\" class=\"data row23 col13\" >0.130062</td>\n",
       "                        <td id=\"T_630a5_row23_col14\" class=\"data row23 col14\" >0.554573</td>\n",
       "                        <td id=\"T_630a5_row23_col15\" class=\"data row23 col15\" >0.329215</td>\n",
       "                        <td id=\"T_630a5_row23_col16\" class=\"data row23 col16\" >0.491827</td>\n",
       "                        <td id=\"T_630a5_row23_col17\" class=\"data row23 col17\" >-0.232832</td>\n",
       "                        <td id=\"T_630a5_row23_col18\" class=\"data row23 col18\" >0.530547</td>\n",
       "                        <td id=\"T_630a5_row23_col19\" class=\"data row23 col19\" >0.261765</td>\n",
       "                        <td id=\"T_630a5_row23_col20\" class=\"data row23 col20\" >0.492173</td>\n",
       "                        <td id=\"T_630a5_row23_col21\" class=\"data row23 col21\" >0.222100</td>\n",
       "                        <td id=\"T_630a5_row23_col22\" class=\"data row23 col22\" >0.411758</td>\n",
       "                        <td id=\"T_630a5_row23_col23\" class=\"data row23 col23\" >1.000000</td>\n",
       "                        <td id=\"T_630a5_row23_col24\" class=\"data row23 col24\" >-0.389360</td>\n",
       "                        <td id=\"T_630a5_row23_col25\" class=\"data row23 col25\" >-0.241117</td>\n",
       "                        <td id=\"T_630a5_row23_col26\" class=\"data row23 col26\" >-0.459331</td>\n",
       "                        <td id=\"T_630a5_row23_col27\" class=\"data row23 col27\" >-0.240758</td>\n",
       "                        <td id=\"T_630a5_row23_col28\" class=\"data row23 col28\" >-0.440870</td>\n",
       "                        <td id=\"T_630a5_row23_col29\" class=\"data row23 col29\" >-0.202433</td>\n",
       "                        <td id=\"T_630a5_row23_col30\" class=\"data row23 col30\" >-0.271555</td>\n",
       "                        <td id=\"T_630a5_row23_col31\" class=\"data row23 col31\" >-0.274948</td>\n",
       "                        <td id=\"T_630a5_row23_col32\" class=\"data row23 col32\" >-0.091576</td>\n",
       "                        <td id=\"T_630a5_row23_col33\" class=\"data row23 col33\" >-0.228962</td>\n",
       "                        <td id=\"T_630a5_row23_col34\" class=\"data row23 col34\" >0.019796</td>\n",
       "                        <td id=\"T_630a5_row23_col35\" class=\"data row23 col35\" >-0.090653</td>\n",
       "                        <td id=\"T_630a5_row23_col36\" class=\"data row23 col36\" >0.154486</td>\n",
       "                        <td id=\"T_630a5_row23_col37\" class=\"data row23 col37\" >-0.044971</td>\n",
       "                        <td id=\"T_630a5_row23_col38\" class=\"data row23 col38\" >-0.116859</td>\n",
       "                        <td id=\"T_630a5_row23_col39\" class=\"data row23 col39\" >0.185259</td>\n",
       "                        <td id=\"T_630a5_row23_col40\" class=\"data row23 col40\" >-0.165085</td>\n",
       "                        <td id=\"T_630a5_row23_col41\" class=\"data row23 col41\" >0.177207</td>\n",
       "                        <td id=\"T_630a5_row23_col42\" class=\"data row23 col42\" >0.207514</td>\n",
       "                        <td id=\"T_630a5_row23_col43\" class=\"data row23 col43\" >0.131345</td>\n",
       "                        <td id=\"T_630a5_row23_col44\" class=\"data row23 col44\" >0.116369</td>\n",
       "                        <td id=\"T_630a5_row23_col45\" class=\"data row23 col45\" >0.261028</td>\n",
       "                        <td id=\"T_630a5_row23_col46\" class=\"data row23 col46\" >-0.130661</td>\n",
       "                        <td id=\"T_630a5_row23_col47\" class=\"data row23 col47\" >0.119156</td>\n",
       "                        <td id=\"T_630a5_row23_col48\" class=\"data row23 col48\" >0.023681</td>\n",
       "                        <td id=\"T_630a5_row23_col49\" class=\"data row23 col49\" >0.012086</td>\n",
       "                        <td id=\"T_630a5_row23_col50\" class=\"data row23 col50\" >-0.561842</td>\n",
       "                        <td id=\"T_630a5_row23_col51\" class=\"data row23 col51\" >0.087695</td>\n",
       "            </tr>\n",
       "            <tr>\n",
       "                        <th id=\"T_630a5_level0_row24\" class=\"row_heading level0 row24\" >rougher.state.floatbank10_b_air</th>\n",
       "                        <td id=\"T_630a5_row24_col0\" class=\"data row24 col0\" >-0.229253</td>\n",
       "                        <td id=\"T_630a5_row24_col1\" class=\"data row24 col1\" >-0.356190</td>\n",
       "                        <td id=\"T_630a5_row24_col2\" class=\"data row24 col2\" >0.044605</td>\n",
       "                        <td id=\"T_630a5_row24_col3\" class=\"data row24 col3\" >-0.385724</td>\n",
       "                        <td id=\"T_630a5_row24_col4\" class=\"data row24 col4\" >0.199338</td>\n",
       "                        <td id=\"T_630a5_row24_col5\" class=\"data row24 col5\" >-0.076365</td>\n",
       "                        <td id=\"T_630a5_row24_col6\" class=\"data row24 col6\" >0.230489</td>\n",
       "                        <td id=\"T_630a5_row24_col7\" class=\"data row24 col7\" >-0.014215</td>\n",
       "                        <td id=\"T_630a5_row24_col8\" class=\"data row24 col8\" >0.300457</td>\n",
       "                        <td id=\"T_630a5_row24_col9\" class=\"data row24 col9\" >-0.039398</td>\n",
       "                        <td id=\"T_630a5_row24_col10\" class=\"data row24 col10\" >0.218791</td>\n",
       "                        <td id=\"T_630a5_row24_col11\" class=\"data row24 col11\" >0.052937</td>\n",
       "                        <td id=\"T_630a5_row24_col12\" class=\"data row24 col12\" >-0.114345</td>\n",
       "                        <td id=\"T_630a5_row24_col13\" class=\"data row24 col13\" >-0.366635</td>\n",
       "                        <td id=\"T_630a5_row24_col14\" class=\"data row24 col14\" >-0.303961</td>\n",
       "                        <td id=\"T_630a5_row24_col15\" class=\"data row24 col15\" >-0.295400</td>\n",
       "                        <td id=\"T_630a5_row24_col16\" class=\"data row24 col16\" >-0.365504</td>\n",
       "                        <td id=\"T_630a5_row24_col17\" class=\"data row24 col17\" >-0.135618</td>\n",
       "                        <td id=\"T_630a5_row24_col18\" class=\"data row24 col18\" >-0.334035</td>\n",
       "                        <td id=\"T_630a5_row24_col19\" class=\"data row24 col19\" >-0.236875</td>\n",
       "                        <td id=\"T_630a5_row24_col20\" class=\"data row24 col20\" >-0.329782</td>\n",
       "                        <td id=\"T_630a5_row24_col21\" class=\"data row24 col21\" >-0.260535</td>\n",
       "                        <td id=\"T_630a5_row24_col22\" class=\"data row24 col22\" >-0.389654</td>\n",
       "                        <td id=\"T_630a5_row24_col23\" class=\"data row24 col23\" >-0.389360</td>\n",
       "                        <td id=\"T_630a5_row24_col24\" class=\"data row24 col24\" >1.000000</td>\n",
       "                        <td id=\"T_630a5_row24_col25\" class=\"data row24 col25\" >0.456038</td>\n",
       "                        <td id=\"T_630a5_row24_col26\" class=\"data row24 col26\" >0.962024</td>\n",
       "                        <td id=\"T_630a5_row24_col27\" class=\"data row24 col27\" >0.454080</td>\n",
       "                        <td id=\"T_630a5_row24_col28\" class=\"data row24 col28\" >0.931076</td>\n",
       "                        <td id=\"T_630a5_row24_col29\" class=\"data row24 col29\" >0.415841</td>\n",
       "                        <td id=\"T_630a5_row24_col30\" class=\"data row24 col30\" >0.843948</td>\n",
       "                        <td id=\"T_630a5_row24_col31\" class=\"data row24 col31\" >0.423741</td>\n",
       "                        <td id=\"T_630a5_row24_col32\" class=\"data row24 col32\" >0.756046</td>\n",
       "                        <td id=\"T_630a5_row24_col33\" class=\"data row24 col33\" >0.430609</td>\n",
       "                        <td id=\"T_630a5_row24_col34\" class=\"data row24 col34\" >0.134559</td>\n",
       "                        <td id=\"T_630a5_row24_col35\" class=\"data row24 col35\" >0.133750</td>\n",
       "                        <td id=\"T_630a5_row24_col36\" class=\"data row24 col36\" >0.010837</td>\n",
       "                        <td id=\"T_630a5_row24_col37\" class=\"data row24 col37\" >0.084197</td>\n",
       "                        <td id=\"T_630a5_row24_col38\" class=\"data row24 col38\" >0.126110</td>\n",
       "                        <td id=\"T_630a5_row24_col39\" class=\"data row24 col39\" >-0.040749</td>\n",
       "                        <td id=\"T_630a5_row24_col40\" class=\"data row24 col40\" >0.241881</td>\n",
       "                        <td id=\"T_630a5_row24_col41\" class=\"data row24 col41\" >-0.019328</td>\n",
       "                        <td id=\"T_630a5_row24_col42\" class=\"data row24 col42\" >-0.171947</td>\n",
       "                        <td id=\"T_630a5_row24_col43\" class=\"data row24 col43\" >0.009334</td>\n",
       "                        <td id=\"T_630a5_row24_col44\" class=\"data row24 col44\" >-0.099376</td>\n",
       "                        <td id=\"T_630a5_row24_col45\" class=\"data row24 col45\" >-0.213919</td>\n",
       "                        <td id=\"T_630a5_row24_col46\" class=\"data row24 col46\" >0.351196</td>\n",
       "                        <td id=\"T_630a5_row24_col47\" class=\"data row24 col47\" >0.116437</td>\n",
       "                        <td id=\"T_630a5_row24_col48\" class=\"data row24 col48\" >0.291708</td>\n",
       "                        <td id=\"T_630a5_row24_col49\" class=\"data row24 col49\" >0.078298</td>\n",
       "                        <td id=\"T_630a5_row24_col50\" class=\"data row24 col50\" >0.533462</td>\n",
       "                        <td id=\"T_630a5_row24_col51\" class=\"data row24 col51\" >0.022975</td>\n",
       "            </tr>\n",
       "            <tr>\n",
       "                        <th id=\"T_630a5_level0_row25\" class=\"row_heading level0 row25\" >rougher.state.floatbank10_b_level</th>\n",
       "                        <td id=\"T_630a5_row25_col0\" class=\"data row25 col0\" >-0.047140</td>\n",
       "                        <td id=\"T_630a5_row25_col1\" class=\"data row25 col1\" >-0.114405</td>\n",
       "                        <td id=\"T_630a5_row25_col2\" class=\"data row25 col2\" >0.051614</td>\n",
       "                        <td id=\"T_630a5_row25_col3\" class=\"data row25 col3\" >-0.341158</td>\n",
       "                        <td id=\"T_630a5_row25_col4\" class=\"data row25 col4\" >0.291111</td>\n",
       "                        <td id=\"T_630a5_row25_col5\" class=\"data row25 col5\" >-0.037724</td>\n",
       "                        <td id=\"T_630a5_row25_col6\" class=\"data row25 col6\" >0.371841</td>\n",
       "                        <td id=\"T_630a5_row25_col7\" class=\"data row25 col7\" >0.020230</td>\n",
       "                        <td id=\"T_630a5_row25_col8\" class=\"data row25 col8\" >0.451746</td>\n",
       "                        <td id=\"T_630a5_row25_col9\" class=\"data row25 col9\" >-0.015591</td>\n",
       "                        <td id=\"T_630a5_row25_col10\" class=\"data row25 col10\" >0.354594</td>\n",
       "                        <td id=\"T_630a5_row25_col11\" class=\"data row25 col11\" >0.022698</td>\n",
       "                        <td id=\"T_630a5_row25_col12\" class=\"data row25 col12\" >0.097559</td>\n",
       "                        <td id=\"T_630a5_row25_col13\" class=\"data row25 col13\" >-0.118968</td>\n",
       "                        <td id=\"T_630a5_row25_col14\" class=\"data row25 col14\" >-0.224300</td>\n",
       "                        <td id=\"T_630a5_row25_col15\" class=\"data row25 col15\" >-0.267733</td>\n",
       "                        <td id=\"T_630a5_row25_col16\" class=\"data row25 col16\" >-0.266977</td>\n",
       "                        <td id=\"T_630a5_row25_col17\" class=\"data row25 col17\" >0.158528</td>\n",
       "                        <td id=\"T_630a5_row25_col18\" class=\"data row25 col18\" >-0.159752</td>\n",
       "                        <td id=\"T_630a5_row25_col19\" class=\"data row25 col19\" >0.013710</td>\n",
       "                        <td id=\"T_630a5_row25_col20\" class=\"data row25 col20\" >-0.177947</td>\n",
       "                        <td id=\"T_630a5_row25_col21\" class=\"data row25 col21\" >-0.013149</td>\n",
       "                        <td id=\"T_630a5_row25_col22\" class=\"data row25 col22\" >-0.311771</td>\n",
       "                        <td id=\"T_630a5_row25_col23\" class=\"data row25 col23\" >-0.241117</td>\n",
       "                        <td id=\"T_630a5_row25_col24\" class=\"data row25 col24\" >0.456038</td>\n",
       "                        <td id=\"T_630a5_row25_col25\" class=\"data row25 col25\" >1.000000</td>\n",
       "                        <td id=\"T_630a5_row25_col26\" class=\"data row25 col26\" >0.541374</td>\n",
       "                        <td id=\"T_630a5_row25_col27\" class=\"data row25 col27\" >0.986990</td>\n",
       "                        <td id=\"T_630a5_row25_col28\" class=\"data row25 col28\" >0.501733</td>\n",
       "                        <td id=\"T_630a5_row25_col29\" class=\"data row25 col29\" >0.945441</td>\n",
       "                        <td id=\"T_630a5_row25_col30\" class=\"data row25 col30\" >0.623095</td>\n",
       "                        <td id=\"T_630a5_row25_col31\" class=\"data row25 col31\" >0.915353</td>\n",
       "                        <td id=\"T_630a5_row25_col32\" class=\"data row25 col32\" >0.541564</td>\n",
       "                        <td id=\"T_630a5_row25_col33\" class=\"data row25 col33\" >0.912698</td>\n",
       "                        <td id=\"T_630a5_row25_col34\" class=\"data row25 col34\" >0.227982</td>\n",
       "                        <td id=\"T_630a5_row25_col35\" class=\"data row25 col35\" >0.073520</td>\n",
       "                        <td id=\"T_630a5_row25_col36\" class=\"data row25 col36\" >0.141611</td>\n",
       "                        <td id=\"T_630a5_row25_col37\" class=\"data row25 col37\" >0.050514</td>\n",
       "                        <td id=\"T_630a5_row25_col38\" class=\"data row25 col38\" >0.214489</td>\n",
       "                        <td id=\"T_630a5_row25_col39\" class=\"data row25 col39\" >-0.104123</td>\n",
       "                        <td id=\"T_630a5_row25_col40\" class=\"data row25 col40\" >0.360563</td>\n",
       "                        <td id=\"T_630a5_row25_col41\" class=\"data row25 col41\" >-0.083904</td>\n",
       "                        <td id=\"T_630a5_row25_col42\" class=\"data row25 col42\" >0.067727</td>\n",
       "                        <td id=\"T_630a5_row25_col43\" class=\"data row25 col43\" >0.010268</td>\n",
       "                        <td id=\"T_630a5_row25_col44\" class=\"data row25 col44\" >0.105702</td>\n",
       "                        <td id=\"T_630a5_row25_col45\" class=\"data row25 col45\" >-0.213382</td>\n",
       "                        <td id=\"T_630a5_row25_col46\" class=\"data row25 col46\" >0.177808</td>\n",
       "                        <td id=\"T_630a5_row25_col47\" class=\"data row25 col47\" >0.089507</td>\n",
       "                        <td id=\"T_630a5_row25_col48\" class=\"data row25 col48\" >0.345947</td>\n",
       "                        <td id=\"T_630a5_row25_col49\" class=\"data row25 col49\" >0.058823</td>\n",
       "                        <td id=\"T_630a5_row25_col50\" class=\"data row25 col50\" >0.455330</td>\n",
       "                        <td id=\"T_630a5_row25_col51\" class=\"data row25 col51\" >0.034661</td>\n",
       "            </tr>\n",
       "            <tr>\n",
       "                        <th id=\"T_630a5_level0_row26\" class=\"row_heading level0 row26\" >rougher.state.floatbank10_c_air</th>\n",
       "                        <td id=\"T_630a5_row26_col0\" class=\"data row26 col0\" >-0.245993</td>\n",
       "                        <td id=\"T_630a5_row26_col1\" class=\"data row26 col1\" >-0.367074</td>\n",
       "                        <td id=\"T_630a5_row26_col2\" class=\"data row26 col2\" >0.064617</td>\n",
       "                        <td id=\"T_630a5_row26_col3\" class=\"data row26 col3\" >-0.404612</td>\n",
       "                        <td id=\"T_630a5_row26_col4\" class=\"data row26 col4\" >0.216971</td>\n",
       "                        <td id=\"T_630a5_row26_col5\" class=\"data row26 col5\" >-0.129885</td>\n",
       "                        <td id=\"T_630a5_row26_col6\" class=\"data row26 col6\" >0.259523</td>\n",
       "                        <td id=\"T_630a5_row26_col7\" class=\"data row26 col7\" >-0.052763</td>\n",
       "                        <td id=\"T_630a5_row26_col8\" class=\"data row26 col8\" >0.360889</td>\n",
       "                        <td id=\"T_630a5_row26_col9\" class=\"data row26 col9\" >-0.089468</td>\n",
       "                        <td id=\"T_630a5_row26_col10\" class=\"data row26 col10\" >0.244368</td>\n",
       "                        <td id=\"T_630a5_row26_col11\" class=\"data row26 col11\" >0.012577</td>\n",
       "                        <td id=\"T_630a5_row26_col12\" class=\"data row26 col12\" >-0.068643</td>\n",
       "                        <td id=\"T_630a5_row26_col13\" class=\"data row26 col13\" >-0.381622</td>\n",
       "                        <td id=\"T_630a5_row26_col14\" class=\"data row26 col14\" >-0.351360</td>\n",
       "                        <td id=\"T_630a5_row26_col15\" class=\"data row26 col15\" >-0.330645</td>\n",
       "                        <td id=\"T_630a5_row26_col16\" class=\"data row26 col16\" >-0.413400</td>\n",
       "                        <td id=\"T_630a5_row26_col17\" class=\"data row26 col17\" >-0.088103</td>\n",
       "                        <td id=\"T_630a5_row26_col18\" class=\"data row26 col18\" >-0.367035</td>\n",
       "                        <td id=\"T_630a5_row26_col19\" class=\"data row26 col19\" >-0.220382</td>\n",
       "                        <td id=\"T_630a5_row26_col20\" class=\"data row26 col20\" >-0.368160</td>\n",
       "                        <td id=\"T_630a5_row26_col21\" class=\"data row26 col21\" >-0.247527</td>\n",
       "                        <td id=\"T_630a5_row26_col22\" class=\"data row26 col22\" >-0.488258</td>\n",
       "                        <td id=\"T_630a5_row26_col23\" class=\"data row26 col23\" >-0.459331</td>\n",
       "                        <td id=\"T_630a5_row26_col24\" class=\"data row26 col24\" >0.962024</td>\n",
       "                        <td id=\"T_630a5_row26_col25\" class=\"data row26 col25\" >0.541374</td>\n",
       "                        <td id=\"T_630a5_row26_col26\" class=\"data row26 col26\" >1.000000</td>\n",
       "                        <td id=\"T_630a5_row26_col27\" class=\"data row26 col27\" >0.543790</td>\n",
       "                        <td id=\"T_630a5_row26_col28\" class=\"data row26 col28\" >0.950722</td>\n",
       "                        <td id=\"T_630a5_row26_col29\" class=\"data row26 col29\" >0.505423</td>\n",
       "                        <td id=\"T_630a5_row26_col30\" class=\"data row26 col30\" >0.874803</td>\n",
       "                        <td id=\"T_630a5_row26_col31\" class=\"data row26 col31\" >0.503631</td>\n",
       "                        <td id=\"T_630a5_row26_col32\" class=\"data row26 col32\" >0.741393</td>\n",
       "                        <td id=\"T_630a5_row26_col33\" class=\"data row26 col33\" >0.506876</td>\n",
       "                        <td id=\"T_630a5_row26_col34\" class=\"data row26 col34\" >0.135637</td>\n",
       "                        <td id=\"T_630a5_row26_col35\" class=\"data row26 col35\" >0.133562</td>\n",
       "                        <td id=\"T_630a5_row26_col36\" class=\"data row26 col36\" >-0.012911</td>\n",
       "                        <td id=\"T_630a5_row26_col37\" class=\"data row26 col37\" >0.079925</td>\n",
       "                        <td id=\"T_630a5_row26_col38\" class=\"data row26 col38\" >0.155255</td>\n",
       "                        <td id=\"T_630a5_row26_col39\" class=\"data row26 col39\" >-0.055255</td>\n",
       "                        <td id=\"T_630a5_row26_col40\" class=\"data row26 col40\" >0.273514</td>\n",
       "                        <td id=\"T_630a5_row26_col41\" class=\"data row26 col41\" >-0.033907</td>\n",
       "                        <td id=\"T_630a5_row26_col42\" class=\"data row26 col42\" >-0.168834</td>\n",
       "                        <td id=\"T_630a5_row26_col43\" class=\"data row26 col43\" >-0.010049</td>\n",
       "                        <td id=\"T_630a5_row26_col44\" class=\"data row26 col44\" >-0.100264</td>\n",
       "                        <td id=\"T_630a5_row26_col45\" class=\"data row26 col45\" >-0.229330</td>\n",
       "                        <td id=\"T_630a5_row26_col46\" class=\"data row26 col46\" >0.334076</td>\n",
       "                        <td id=\"T_630a5_row26_col47\" class=\"data row26 col47\" >0.092861</td>\n",
       "                        <td id=\"T_630a5_row26_col48\" class=\"data row26 col48\" >0.309043</td>\n",
       "                        <td id=\"T_630a5_row26_col49\" class=\"data row26 col49\" >0.070987</td>\n",
       "                        <td id=\"T_630a5_row26_col50\" class=\"data row26 col50\" >0.621525</td>\n",
       "                        <td id=\"T_630a5_row26_col51\" class=\"data row26 col51\" >0.018168</td>\n",
       "            </tr>\n",
       "            <tr>\n",
       "                        <th id=\"T_630a5_level0_row27\" class=\"row_heading level0 row27\" >rougher.state.floatbank10_c_level</th>\n",
       "                        <td id=\"T_630a5_row27_col0\" class=\"data row27 col0\" >-0.052403</td>\n",
       "                        <td id=\"T_630a5_row27_col1\" class=\"data row27 col1\" >-0.105012</td>\n",
       "                        <td id=\"T_630a5_row27_col2\" class=\"data row27 col2\" >0.049608</td>\n",
       "                        <td id=\"T_630a5_row27_col3\" class=\"data row27 col3\" >-0.345842</td>\n",
       "                        <td id=\"T_630a5_row27_col4\" class=\"data row27 col4\" >0.285786</td>\n",
       "                        <td id=\"T_630a5_row27_col5\" class=\"data row27 col5\" >-0.043906</td>\n",
       "                        <td id=\"T_630a5_row27_col6\" class=\"data row27 col6\" >0.368792</td>\n",
       "                        <td id=\"T_630a5_row27_col7\" class=\"data row27 col7\" >0.007639</td>\n",
       "                        <td id=\"T_630a5_row27_col8\" class=\"data row27 col8\" >0.453606</td>\n",
       "                        <td id=\"T_630a5_row27_col9\" class=\"data row27 col9\" >-0.020945</td>\n",
       "                        <td id=\"T_630a5_row27_col10\" class=\"data row27 col10\" >0.351185</td>\n",
       "                        <td id=\"T_630a5_row27_col11\" class=\"data row27 col11\" >0.016861</td>\n",
       "                        <td id=\"T_630a5_row27_col12\" class=\"data row27 col12\" >0.096616</td>\n",
       "                        <td id=\"T_630a5_row27_col13\" class=\"data row27 col13\" >-0.116461</td>\n",
       "                        <td id=\"T_630a5_row27_col14\" class=\"data row27 col14\" >-0.236798</td>\n",
       "                        <td id=\"T_630a5_row27_col15\" class=\"data row27 col15\" >-0.250005</td>\n",
       "                        <td id=\"T_630a5_row27_col16\" class=\"data row27 col16\" >-0.281627</td>\n",
       "                        <td id=\"T_630a5_row27_col17\" class=\"data row27 col17\" >0.157465</td>\n",
       "                        <td id=\"T_630a5_row27_col18\" class=\"data row27 col18\" >-0.169574</td>\n",
       "                        <td id=\"T_630a5_row27_col19\" class=\"data row27 col19\" >-0.005378</td>\n",
       "                        <td id=\"T_630a5_row27_col20\" class=\"data row27 col20\" >-0.183717</td>\n",
       "                        <td id=\"T_630a5_row27_col21\" class=\"data row27 col21\" >-0.019531</td>\n",
       "                        <td id=\"T_630a5_row27_col22\" class=\"data row27 col22\" >-0.320298</td>\n",
       "                        <td id=\"T_630a5_row27_col23\" class=\"data row27 col23\" >-0.240758</td>\n",
       "                        <td id=\"T_630a5_row27_col24\" class=\"data row27 col24\" >0.454080</td>\n",
       "                        <td id=\"T_630a5_row27_col25\" class=\"data row27 col25\" >0.986990</td>\n",
       "                        <td id=\"T_630a5_row27_col26\" class=\"data row27 col26\" >0.543790</td>\n",
       "                        <td id=\"T_630a5_row27_col27\" class=\"data row27 col27\" >1.000000</td>\n",
       "                        <td id=\"T_630a5_row27_col28\" class=\"data row27 col28\" >0.503686</td>\n",
       "                        <td id=\"T_630a5_row27_col29\" class=\"data row27 col29\" >0.955387</td>\n",
       "                        <td id=\"T_630a5_row27_col30\" class=\"data row27 col30\" >0.627236</td>\n",
       "                        <td id=\"T_630a5_row27_col31\" class=\"data row27 col31\" >0.918599</td>\n",
       "                        <td id=\"T_630a5_row27_col32\" class=\"data row27 col32\" >0.542783</td>\n",
       "                        <td id=\"T_630a5_row27_col33\" class=\"data row27 col33\" >0.905252</td>\n",
       "                        <td id=\"T_630a5_row27_col34\" class=\"data row27 col34\" >0.229484</td>\n",
       "                        <td id=\"T_630a5_row27_col35\" class=\"data row27 col35\" >0.068864</td>\n",
       "                        <td id=\"T_630a5_row27_col36\" class=\"data row27 col36\" >0.141802</td>\n",
       "                        <td id=\"T_630a5_row27_col37\" class=\"data row27 col37\" >0.043664</td>\n",
       "                        <td id=\"T_630a5_row27_col38\" class=\"data row27 col38\" >0.216322</td>\n",
       "                        <td id=\"T_630a5_row27_col39\" class=\"data row27 col39\" >-0.105684</td>\n",
       "                        <td id=\"T_630a5_row27_col40\" class=\"data row27 col40\" >0.363658</td>\n",
       "                        <td id=\"T_630a5_row27_col41\" class=\"data row27 col41\" >-0.085391</td>\n",
       "                        <td id=\"T_630a5_row27_col42\" class=\"data row27 col42\" >0.068885</td>\n",
       "                        <td id=\"T_630a5_row27_col43\" class=\"data row27 col43\" >0.011038</td>\n",
       "                        <td id=\"T_630a5_row27_col44\" class=\"data row27 col44\" >0.104035</td>\n",
       "                        <td id=\"T_630a5_row27_col45\" class=\"data row27 col45\" >-0.217125</td>\n",
       "                        <td id=\"T_630a5_row27_col46\" class=\"data row27 col46\" >0.172000</td>\n",
       "                        <td id=\"T_630a5_row27_col47\" class=\"data row27 col47\" >0.078225</td>\n",
       "                        <td id=\"T_630a5_row27_col48\" class=\"data row27 col48\" >0.353681</td>\n",
       "                        <td id=\"T_630a5_row27_col49\" class=\"data row27 col49\" >0.054056</td>\n",
       "                        <td id=\"T_630a5_row27_col50\" class=\"data row27 col50\" >0.455477</td>\n",
       "                        <td id=\"T_630a5_row27_col51\" class=\"data row27 col51\" >0.031861</td>\n",
       "            </tr>\n",
       "            <tr>\n",
       "                        <th id=\"T_630a5_level0_row28\" class=\"row_heading level0 row28\" >rougher.state.floatbank10_d_air</th>\n",
       "                        <td id=\"T_630a5_row28_col0\" class=\"data row28 col0\" >-0.246659</td>\n",
       "                        <td id=\"T_630a5_row28_col1\" class=\"data row28 col1\" >-0.348432</td>\n",
       "                        <td id=\"T_630a5_row28_col2\" class=\"data row28 col2\" >-0.009526</td>\n",
       "                        <td id=\"T_630a5_row28_col3\" class=\"data row28 col3\" >-0.392190</td>\n",
       "                        <td id=\"T_630a5_row28_col4\" class=\"data row28 col4\" >0.160151</td>\n",
       "                        <td id=\"T_630a5_row28_col5\" class=\"data row28 col5\" >-0.134939</td>\n",
       "                        <td id=\"T_630a5_row28_col6\" class=\"data row28 col6\" >0.203227</td>\n",
       "                        <td id=\"T_630a5_row28_col7\" class=\"data row28 col7\" >-0.015855</td>\n",
       "                        <td id=\"T_630a5_row28_col8\" class=\"data row28 col8\" >0.310832</td>\n",
       "                        <td id=\"T_630a5_row28_col9\" class=\"data row28 col9\" >-0.089773</td>\n",
       "                        <td id=\"T_630a5_row28_col10\" class=\"data row28 col10\" >0.186008</td>\n",
       "                        <td id=\"T_630a5_row28_col11\" class=\"data row28 col11\" >0.031554</td>\n",
       "                        <td id=\"T_630a5_row28_col12\" class=\"data row28 col12\" >-0.133448</td>\n",
       "                        <td id=\"T_630a5_row28_col13\" class=\"data row28 col13\" >-0.372568</td>\n",
       "                        <td id=\"T_630a5_row28_col14\" class=\"data row28 col14\" >-0.382220</td>\n",
       "                        <td id=\"T_630a5_row28_col15\" class=\"data row28 col15\" >-0.363716</td>\n",
       "                        <td id=\"T_630a5_row28_col16\" class=\"data row28 col16\" >-0.447322</td>\n",
       "                        <td id=\"T_630a5_row28_col17\" class=\"data row28 col17\" >-0.149577</td>\n",
       "                        <td id=\"T_630a5_row28_col18\" class=\"data row28 col18\" >-0.340417</td>\n",
       "                        <td id=\"T_630a5_row28_col19\" class=\"data row28 col19\" >-0.312526</td>\n",
       "                        <td id=\"T_630a5_row28_col20\" class=\"data row28 col20\" >-0.333531</td>\n",
       "                        <td id=\"T_630a5_row28_col21\" class=\"data row28 col21\" >-0.344550</td>\n",
       "                        <td id=\"T_630a5_row28_col22\" class=\"data row28 col22\" >-0.513014</td>\n",
       "                        <td id=\"T_630a5_row28_col23\" class=\"data row28 col23\" >-0.440870</td>\n",
       "                        <td id=\"T_630a5_row28_col24\" class=\"data row28 col24\" >0.931076</td>\n",
       "                        <td id=\"T_630a5_row28_col25\" class=\"data row28 col25\" >0.501733</td>\n",
       "                        <td id=\"T_630a5_row28_col26\" class=\"data row28 col26\" >0.950722</td>\n",
       "                        <td id=\"T_630a5_row28_col27\" class=\"data row28 col27\" >0.503686</td>\n",
       "                        <td id=\"T_630a5_row28_col28\" class=\"data row28 col28\" >1.000000</td>\n",
       "                        <td id=\"T_630a5_row28_col29\" class=\"data row28 col29\" >0.465509</td>\n",
       "                        <td id=\"T_630a5_row28_col30\" class=\"data row28 col30\" >0.826221</td>\n",
       "                        <td id=\"T_630a5_row28_col31\" class=\"data row28 col31\" >0.459961</td>\n",
       "                        <td id=\"T_630a5_row28_col32\" class=\"data row28 col32\" >0.732675</td>\n",
       "                        <td id=\"T_630a5_row28_col33\" class=\"data row28 col33\" >0.461712</td>\n",
       "                        <td id=\"T_630a5_row28_col34\" class=\"data row28 col34\" >0.172628</td>\n",
       "                        <td id=\"T_630a5_row28_col35\" class=\"data row28 col35\" >0.121835</td>\n",
       "                        <td id=\"T_630a5_row28_col36\" class=\"data row28 col36\" >0.035681</td>\n",
       "                        <td id=\"T_630a5_row28_col37\" class=\"data row28 col37\" >0.076693</td>\n",
       "                        <td id=\"T_630a5_row28_col38\" class=\"data row28 col38\" >0.143623</td>\n",
       "                        <td id=\"T_630a5_row28_col39\" class=\"data row28 col39\" >-0.064725</td>\n",
       "                        <td id=\"T_630a5_row28_col40\" class=\"data row28 col40\" >0.286672</td>\n",
       "                        <td id=\"T_630a5_row28_col41\" class=\"data row28 col41\" >-0.049899</td>\n",
       "                        <td id=\"T_630a5_row28_col42\" class=\"data row28 col42\" >-0.173221</td>\n",
       "                        <td id=\"T_630a5_row28_col43\" class=\"data row28 col43\" >0.025358</td>\n",
       "                        <td id=\"T_630a5_row28_col44\" class=\"data row28 col44\" >-0.084851</td>\n",
       "                        <td id=\"T_630a5_row28_col45\" class=\"data row28 col45\" >-0.262495</td>\n",
       "                        <td id=\"T_630a5_row28_col46\" class=\"data row28 col46\" >0.368140</td>\n",
       "                        <td id=\"T_630a5_row28_col47\" class=\"data row28 col47\" >0.060210</td>\n",
       "                        <td id=\"T_630a5_row28_col48\" class=\"data row28 col48\" >0.340406</td>\n",
       "                        <td id=\"T_630a5_row28_col49\" class=\"data row28 col49\" >0.045190</td>\n",
       "                        <td id=\"T_630a5_row28_col50\" class=\"data row28 col50\" >0.598880</td>\n",
       "                        <td id=\"T_630a5_row28_col51\" class=\"data row28 col51\" >0.008341</td>\n",
       "            </tr>\n",
       "            <tr>\n",
       "                        <th id=\"T_630a5_level0_row29\" class=\"row_heading level0 row29\" >rougher.state.floatbank10_d_level</th>\n",
       "                        <td id=\"T_630a5_row29_col0\" class=\"data row29 col0\" >-0.014574</td>\n",
       "                        <td id=\"T_630a5_row29_col1\" class=\"data row29 col1\" >-0.075352</td>\n",
       "                        <td id=\"T_630a5_row29_col2\" class=\"data row29 col2\" >0.073623</td>\n",
       "                        <td id=\"T_630a5_row29_col3\" class=\"data row29 col3\" >-0.325264</td>\n",
       "                        <td id=\"T_630a5_row29_col4\" class=\"data row29 col4\" >0.245276</td>\n",
       "                        <td id=\"T_630a5_row29_col5\" class=\"data row29 col5\" >-0.071941</td>\n",
       "                        <td id=\"T_630a5_row29_col6\" class=\"data row29 col6\" >0.327134</td>\n",
       "                        <td id=\"T_630a5_row29_col7\" class=\"data row29 col7\" >0.005728</td>\n",
       "                        <td id=\"T_630a5_row29_col8\" class=\"data row29 col8\" >0.406637</td>\n",
       "                        <td id=\"T_630a5_row29_col9\" class=\"data row29 col9\" >-0.049447</td>\n",
       "                        <td id=\"T_630a5_row29_col10\" class=\"data row29 col10\" >0.314238</td>\n",
       "                        <td id=\"T_630a5_row29_col11\" class=\"data row29 col11\" >-0.004468</td>\n",
       "                        <td id=\"T_630a5_row29_col12\" class=\"data row29 col12\" >0.116716</td>\n",
       "                        <td id=\"T_630a5_row29_col13\" class=\"data row29 col13\" >-0.106723</td>\n",
       "                        <td id=\"T_630a5_row29_col14\" class=\"data row29 col14\" >-0.182464</td>\n",
       "                        <td id=\"T_630a5_row29_col15\" class=\"data row29 col15\" >-0.258531</td>\n",
       "                        <td id=\"T_630a5_row29_col16\" class=\"data row29 col16\" >-0.251632</td>\n",
       "                        <td id=\"T_630a5_row29_col17\" class=\"data row29 col17\" >0.176954</td>\n",
       "                        <td id=\"T_630a5_row29_col18\" class=\"data row29 col18\" >-0.106543</td>\n",
       "                        <td id=\"T_630a5_row29_col19\" class=\"data row29 col19\" >0.062455</td>\n",
       "                        <td id=\"T_630a5_row29_col20\" class=\"data row29 col20\" >-0.169007</td>\n",
       "                        <td id=\"T_630a5_row29_col21\" class=\"data row29 col21\" >-0.009379</td>\n",
       "                        <td id=\"T_630a5_row29_col22\" class=\"data row29 col22\" >-0.322193</td>\n",
       "                        <td id=\"T_630a5_row29_col23\" class=\"data row29 col23\" >-0.202433</td>\n",
       "                        <td id=\"T_630a5_row29_col24\" class=\"data row29 col24\" >0.415841</td>\n",
       "                        <td id=\"T_630a5_row29_col25\" class=\"data row29 col25\" >0.945441</td>\n",
       "                        <td id=\"T_630a5_row29_col26\" class=\"data row29 col26\" >0.505423</td>\n",
       "                        <td id=\"T_630a5_row29_col27\" class=\"data row29 col27\" >0.955387</td>\n",
       "                        <td id=\"T_630a5_row29_col28\" class=\"data row29 col28\" >0.465509</td>\n",
       "                        <td id=\"T_630a5_row29_col29\" class=\"data row29 col29\" >1.000000</td>\n",
       "                        <td id=\"T_630a5_row29_col30\" class=\"data row29 col30\" >0.590414</td>\n",
       "                        <td id=\"T_630a5_row29_col31\" class=\"data row29 col31\" >0.887331</td>\n",
       "                        <td id=\"T_630a5_row29_col32\" class=\"data row29 col32\" >0.505941</td>\n",
       "                        <td id=\"T_630a5_row29_col33\" class=\"data row29 col33\" >0.892289</td>\n",
       "                        <td id=\"T_630a5_row29_col34\" class=\"data row29 col34\" >0.188866</td>\n",
       "                        <td id=\"T_630a5_row29_col35\" class=\"data row29 col35\" >0.045485</td>\n",
       "                        <td id=\"T_630a5_row29_col36\" class=\"data row29 col36\" >0.122846</td>\n",
       "                        <td id=\"T_630a5_row29_col37\" class=\"data row29 col37\" >0.023838</td>\n",
       "                        <td id=\"T_630a5_row29_col38\" class=\"data row29 col38\" >0.205321</td>\n",
       "                        <td id=\"T_630a5_row29_col39\" class=\"data row29 col39\" >-0.108187</td>\n",
       "                        <td id=\"T_630a5_row29_col40\" class=\"data row29 col40\" >0.356549</td>\n",
       "                        <td id=\"T_630a5_row29_col41\" class=\"data row29 col41\" >-0.089377</td>\n",
       "                        <td id=\"T_630a5_row29_col42\" class=\"data row29 col42\" >0.072947</td>\n",
       "                        <td id=\"T_630a5_row29_col43\" class=\"data row29 col43\" >-0.013329</td>\n",
       "                        <td id=\"T_630a5_row29_col44\" class=\"data row29 col44\" >0.109479</td>\n",
       "                        <td id=\"T_630a5_row29_col45\" class=\"data row29 col45\" >-0.220828</td>\n",
       "                        <td id=\"T_630a5_row29_col46\" class=\"data row29 col46\" >0.148741</td>\n",
       "                        <td id=\"T_630a5_row29_col47\" class=\"data row29 col47\" >0.048372</td>\n",
       "                        <td id=\"T_630a5_row29_col48\" class=\"data row29 col48\" >0.332464</td>\n",
       "                        <td id=\"T_630a5_row29_col49\" class=\"data row29 col49\" >0.039969</td>\n",
       "                        <td id=\"T_630a5_row29_col50\" class=\"data row29 col50\" >0.430585</td>\n",
       "                        <td id=\"T_630a5_row29_col51\" class=\"data row29 col51\" >0.021169</td>\n",
       "            </tr>\n",
       "            <tr>\n",
       "                        <th id=\"T_630a5_level0_row30\" class=\"row_heading level0 row30\" >rougher.state.floatbank10_e_air</th>\n",
       "                        <td id=\"T_630a5_row30_col0\" class=\"data row30 col0\" >-0.233454</td>\n",
       "                        <td id=\"T_630a5_row30_col1\" class=\"data row30 col1\" >-0.362110</td>\n",
       "                        <td id=\"T_630a5_row30_col2\" class=\"data row30 col2\" >-0.012558</td>\n",
       "                        <td id=\"T_630a5_row30_col3\" class=\"data row30 col3\" >-0.320581</td>\n",
       "                        <td id=\"T_630a5_row30_col4\" class=\"data row30 col4\" >0.347687</td>\n",
       "                        <td id=\"T_630a5_row30_col5\" class=\"data row30 col5\" >-0.098849</td>\n",
       "                        <td id=\"T_630a5_row30_col6\" class=\"data row30 col6\" >0.402047</td>\n",
       "                        <td id=\"T_630a5_row30_col7\" class=\"data row30 col7\" >-0.052321</td>\n",
       "                        <td id=\"T_630a5_row30_col8\" class=\"data row30 col8\" >0.452348</td>\n",
       "                        <td id=\"T_630a5_row30_col9\" class=\"data row30 col9\" >-0.067798</td>\n",
       "                        <td id=\"T_630a5_row30_col10\" class=\"data row30 col10\" >0.393679</td>\n",
       "                        <td id=\"T_630a5_row30_col11\" class=\"data row30 col11\" >0.021202</td>\n",
       "                        <td id=\"T_630a5_row30_col12\" class=\"data row30 col12\" >-0.119892</td>\n",
       "                        <td id=\"T_630a5_row30_col13\" class=\"data row30 col13\" >-0.355352</td>\n",
       "                        <td id=\"T_630a5_row30_col14\" class=\"data row30 col14\" >-0.246990</td>\n",
       "                        <td id=\"T_630a5_row30_col15\" class=\"data row30 col15\" >-0.240461</td>\n",
       "                        <td id=\"T_630a5_row30_col16\" class=\"data row30 col16\" >-0.329815</td>\n",
       "                        <td id=\"T_630a5_row30_col17\" class=\"data row30 col17\" >-0.095719</td>\n",
       "                        <td id=\"T_630a5_row30_col18\" class=\"data row30 col18\" >-0.234237</td>\n",
       "                        <td id=\"T_630a5_row30_col19\" class=\"data row30 col19\" >-0.156861</td>\n",
       "                        <td id=\"T_630a5_row30_col20\" class=\"data row30 col20\" >-0.233879</td>\n",
       "                        <td id=\"T_630a5_row30_col21\" class=\"data row30 col21\" >-0.179661</td>\n",
       "                        <td id=\"T_630a5_row30_col22\" class=\"data row30 col22\" >-0.356431</td>\n",
       "                        <td id=\"T_630a5_row30_col23\" class=\"data row30 col23\" >-0.271555</td>\n",
       "                        <td id=\"T_630a5_row30_col24\" class=\"data row30 col24\" >0.843948</td>\n",
       "                        <td id=\"T_630a5_row30_col25\" class=\"data row30 col25\" >0.623095</td>\n",
       "                        <td id=\"T_630a5_row30_col26\" class=\"data row30 col26\" >0.874803</td>\n",
       "                        <td id=\"T_630a5_row30_col27\" class=\"data row30 col27\" >0.627236</td>\n",
       "                        <td id=\"T_630a5_row30_col28\" class=\"data row30 col28\" >0.826221</td>\n",
       "                        <td id=\"T_630a5_row30_col29\" class=\"data row30 col29\" >0.590414</td>\n",
       "                        <td id=\"T_630a5_row30_col30\" class=\"data row30 col30\" >1.000000</td>\n",
       "                        <td id=\"T_630a5_row30_col31\" class=\"data row30 col31\" >0.651922</td>\n",
       "                        <td id=\"T_630a5_row30_col32\" class=\"data row30 col32\" >0.925247</td>\n",
       "                        <td id=\"T_630a5_row30_col33\" class=\"data row30 col33\" >0.650048</td>\n",
       "                        <td id=\"T_630a5_row30_col34\" class=\"data row30 col34\" >0.218534</td>\n",
       "                        <td id=\"T_630a5_row30_col35\" class=\"data row30 col35\" >0.093995</td>\n",
       "                        <td id=\"T_630a5_row30_col36\" class=\"data row30 col36\" >0.102399</td>\n",
       "                        <td id=\"T_630a5_row30_col37\" class=\"data row30 col37\" >0.055281</td>\n",
       "                        <td id=\"T_630a5_row30_col38\" class=\"data row30 col38\" >0.247007</td>\n",
       "                        <td id=\"T_630a5_row30_col39\" class=\"data row30 col39\" >0.036728</td>\n",
       "                        <td id=\"T_630a5_row30_col40\" class=\"data row30 col40\" >0.366189</td>\n",
       "                        <td id=\"T_630a5_row30_col41\" class=\"data row30 col41\" >0.039037</td>\n",
       "                        <td id=\"T_630a5_row30_col42\" class=\"data row30 col42\" >0.018780</td>\n",
       "                        <td id=\"T_630a5_row30_col43\" class=\"data row30 col43\" >-0.034684</td>\n",
       "                        <td id=\"T_630a5_row30_col44\" class=\"data row30 col44\" >0.067346</td>\n",
       "                        <td id=\"T_630a5_row30_col45\" class=\"data row30 col45\" >-0.169546</td>\n",
       "                        <td id=\"T_630a5_row30_col46\" class=\"data row30 col46\" >0.395027</td>\n",
       "                        <td id=\"T_630a5_row30_col47\" class=\"data row30 col47\" >0.087056</td>\n",
       "                        <td id=\"T_630a5_row30_col48\" class=\"data row30 col48\" >0.414665</td>\n",
       "                        <td id=\"T_630a5_row30_col49\" class=\"data row30 col49\" >0.084650</td>\n",
       "                        <td id=\"T_630a5_row30_col50\" class=\"data row30 col50\" >0.578157</td>\n",
       "                        <td id=\"T_630a5_row30_col51\" class=\"data row30 col51\" >0.040936</td>\n",
       "            </tr>\n",
       "            <tr>\n",
       "                        <th id=\"T_630a5_level0_row31\" class=\"row_heading level0 row31\" >rougher.state.floatbank10_e_level</th>\n",
       "                        <td id=\"T_630a5_row31_col0\" class=\"data row31 col0\" >-0.119842</td>\n",
       "                        <td id=\"T_630a5_row31_col1\" class=\"data row31 col1\" >-0.127322</td>\n",
       "                        <td id=\"T_630a5_row31_col2\" class=\"data row31 col2\" >0.006890</td>\n",
       "                        <td id=\"T_630a5_row31_col3\" class=\"data row31 col3\" >-0.362139</td>\n",
       "                        <td id=\"T_630a5_row31_col4\" class=\"data row31 col4\" >0.280493</td>\n",
       "                        <td id=\"T_630a5_row31_col5\" class=\"data row31 col5\" >-0.072159</td>\n",
       "                        <td id=\"T_630a5_row31_col6\" class=\"data row31 col6\" >0.391511</td>\n",
       "                        <td id=\"T_630a5_row31_col7\" class=\"data row31 col7\" >0.002047</td>\n",
       "                        <td id=\"T_630a5_row31_col8\" class=\"data row31 col8\" >0.463951</td>\n",
       "                        <td id=\"T_630a5_row31_col9\" class=\"data row31 col9\" >-0.048384</td>\n",
       "                        <td id=\"T_630a5_row31_col10\" class=\"data row31 col10\" >0.375553</td>\n",
       "                        <td id=\"T_630a5_row31_col11\" class=\"data row31 col11\" >-0.000530</td>\n",
       "                        <td id=\"T_630a5_row31_col12\" class=\"data row31 col12\" >0.058745</td>\n",
       "                        <td id=\"T_630a5_row31_col13\" class=\"data row31 col13\" >-0.091990</td>\n",
       "                        <td id=\"T_630a5_row31_col14\" class=\"data row31 col14\" >-0.273754</td>\n",
       "                        <td id=\"T_630a5_row31_col15\" class=\"data row31 col15\" >-0.253635</td>\n",
       "                        <td id=\"T_630a5_row31_col16\" class=\"data row31 col16\" >-0.317873</td>\n",
       "                        <td id=\"T_630a5_row31_col17\" class=\"data row31 col17\" >0.173310</td>\n",
       "                        <td id=\"T_630a5_row31_col18\" class=\"data row31 col18\" >-0.134184</td>\n",
       "                        <td id=\"T_630a5_row31_col19\" class=\"data row31 col19\" >-0.058459</td>\n",
       "                        <td id=\"T_630a5_row31_col20\" class=\"data row31 col20\" >-0.150546</td>\n",
       "                        <td id=\"T_630a5_row31_col21\" class=\"data row31 col21\" >-0.080375</td>\n",
       "                        <td id=\"T_630a5_row31_col22\" class=\"data row31 col22\" >-0.320648</td>\n",
       "                        <td id=\"T_630a5_row31_col23\" class=\"data row31 col23\" >-0.274948</td>\n",
       "                        <td id=\"T_630a5_row31_col24\" class=\"data row31 col24\" >0.423741</td>\n",
       "                        <td id=\"T_630a5_row31_col25\" class=\"data row31 col25\" >0.915353</td>\n",
       "                        <td id=\"T_630a5_row31_col26\" class=\"data row31 col26\" >0.503631</td>\n",
       "                        <td id=\"T_630a5_row31_col27\" class=\"data row31 col27\" >0.918599</td>\n",
       "                        <td id=\"T_630a5_row31_col28\" class=\"data row31 col28\" >0.459961</td>\n",
       "                        <td id=\"T_630a5_row31_col29\" class=\"data row31 col29\" >0.887331</td>\n",
       "                        <td id=\"T_630a5_row31_col30\" class=\"data row31 col30\" >0.651922</td>\n",
       "                        <td id=\"T_630a5_row31_col31\" class=\"data row31 col31\" >1.000000</td>\n",
       "                        <td id=\"T_630a5_row31_col32\" class=\"data row31 col32\" >0.636159</td>\n",
       "                        <td id=\"T_630a5_row31_col33\" class=\"data row31 col33\" >0.963408</td>\n",
       "                        <td id=\"T_630a5_row31_col34\" class=\"data row31 col34\" >0.327862</td>\n",
       "                        <td id=\"T_630a5_row31_col35\" class=\"data row31 col35\" >0.049022</td>\n",
       "                        <td id=\"T_630a5_row31_col36\" class=\"data row31 col36\" >0.213473</td>\n",
       "                        <td id=\"T_630a5_row31_col37\" class=\"data row31 col37\" >0.030481</td>\n",
       "                        <td id=\"T_630a5_row31_col38\" class=\"data row31 col38\" >0.274433</td>\n",
       "                        <td id=\"T_630a5_row31_col39\" class=\"data row31 col39\" >-0.074668</td>\n",
       "                        <td id=\"T_630a5_row31_col40\" class=\"data row31 col40\" >0.422233</td>\n",
       "                        <td id=\"T_630a5_row31_col41\" class=\"data row31 col41\" >-0.059130</td>\n",
       "                        <td id=\"T_630a5_row31_col42\" class=\"data row31 col42\" >0.150501</td>\n",
       "                        <td id=\"T_630a5_row31_col43\" class=\"data row31 col43\" >0.006505</td>\n",
       "                        <td id=\"T_630a5_row31_col44\" class=\"data row31 col44\" >0.168247</td>\n",
       "                        <td id=\"T_630a5_row31_col45\" class=\"data row31 col45\" >-0.214266</td>\n",
       "                        <td id=\"T_630a5_row31_col46\" class=\"data row31 col46\" >0.264139</td>\n",
       "                        <td id=\"T_630a5_row31_col47\" class=\"data row31 col47\" >0.050704</td>\n",
       "                        <td id=\"T_630a5_row31_col48\" class=\"data row31 col48\" >0.407902</td>\n",
       "                        <td id=\"T_630a5_row31_col49\" class=\"data row31 col49\" >0.048908</td>\n",
       "                        <td id=\"T_630a5_row31_col50\" class=\"data row31 col50\" >0.484825</td>\n",
       "                        <td id=\"T_630a5_row31_col51\" class=\"data row31 col51\" >0.056080</td>\n",
       "            </tr>\n",
       "            <tr>\n",
       "                        <th id=\"T_630a5_level0_row32\" class=\"row_heading level0 row32\" >rougher.state.floatbank10_f_air</th>\n",
       "                        <td id=\"T_630a5_row32_col0\" class=\"data row32 col0\" >-0.248709</td>\n",
       "                        <td id=\"T_630a5_row32_col1\" class=\"data row32 col1\" >-0.377406</td>\n",
       "                        <td id=\"T_630a5_row32_col2\" class=\"data row32 col2\" >-0.129796</td>\n",
       "                        <td id=\"T_630a5_row32_col3\" class=\"data row32 col3\" >-0.289656</td>\n",
       "                        <td id=\"T_630a5_row32_col4\" class=\"data row32 col4\" >0.280753</td>\n",
       "                        <td id=\"T_630a5_row32_col5\" class=\"data row32 col5\" >-0.050940</td>\n",
       "                        <td id=\"T_630a5_row32_col6\" class=\"data row32 col6\" >0.344900</td>\n",
       "                        <td id=\"T_630a5_row32_col7\" class=\"data row32 col7\" >-0.007648</td>\n",
       "                        <td id=\"T_630a5_row32_col8\" class=\"data row32 col8\" >0.354735</td>\n",
       "                        <td id=\"T_630a5_row32_col9\" class=\"data row32 col9\" >-0.022972</td>\n",
       "                        <td id=\"T_630a5_row32_col10\" class=\"data row32 col10\" >0.339837</td>\n",
       "                        <td id=\"T_630a5_row32_col11\" class=\"data row32 col11\" >0.066417</td>\n",
       "                        <td id=\"T_630a5_row32_col12\" class=\"data row32 col12\" >-0.273927</td>\n",
       "                        <td id=\"T_630a5_row32_col13\" class=\"data row32 col13\" >-0.305037</td>\n",
       "                        <td id=\"T_630a5_row32_col14\" class=\"data row32 col14\" >-0.187218</td>\n",
       "                        <td id=\"T_630a5_row32_col15\" class=\"data row32 col15\" >-0.212906</td>\n",
       "                        <td id=\"T_630a5_row32_col16\" class=\"data row32 col16\" >-0.269185</td>\n",
       "                        <td id=\"T_630a5_row32_col17\" class=\"data row32 col17\" >-0.183346</td>\n",
       "                        <td id=\"T_630a5_row32_col18\" class=\"data row32 col18\" >-0.112554</td>\n",
       "                        <td id=\"T_630a5_row32_col19\" class=\"data row32 col19\" >-0.229613</td>\n",
       "                        <td id=\"T_630a5_row32_col20\" class=\"data row32 col20\" >-0.097431</td>\n",
       "                        <td id=\"T_630a5_row32_col21\" class=\"data row32 col21\" >-0.248119</td>\n",
       "                        <td id=\"T_630a5_row32_col22\" class=\"data row32 col22\" >-0.277037</td>\n",
       "                        <td id=\"T_630a5_row32_col23\" class=\"data row32 col23\" >-0.091576</td>\n",
       "                        <td id=\"T_630a5_row32_col24\" class=\"data row32 col24\" >0.756046</td>\n",
       "                        <td id=\"T_630a5_row32_col25\" class=\"data row32 col25\" >0.541564</td>\n",
       "                        <td id=\"T_630a5_row32_col26\" class=\"data row32 col26\" >0.741393</td>\n",
       "                        <td id=\"T_630a5_row32_col27\" class=\"data row32 col27\" >0.542783</td>\n",
       "                        <td id=\"T_630a5_row32_col28\" class=\"data row32 col28\" >0.732675</td>\n",
       "                        <td id=\"T_630a5_row32_col29\" class=\"data row32 col29\" >0.505941</td>\n",
       "                        <td id=\"T_630a5_row32_col30\" class=\"data row32 col30\" >0.925247</td>\n",
       "                        <td id=\"T_630a5_row32_col31\" class=\"data row32 col31\" >0.636159</td>\n",
       "                        <td id=\"T_630a5_row32_col32\" class=\"data row32 col32\" >1.000000</td>\n",
       "                        <td id=\"T_630a5_row32_col33\" class=\"data row32 col33\" >0.630766</td>\n",
       "                        <td id=\"T_630a5_row32_col34\" class=\"data row32 col34\" >0.308341</td>\n",
       "                        <td id=\"T_630a5_row32_col35\" class=\"data row32 col35\" >0.071079</td>\n",
       "                        <td id=\"T_630a5_row32_col36\" class=\"data row32 col36\" >0.177728</td>\n",
       "                        <td id=\"T_630a5_row32_col37\" class=\"data row32 col37\" >0.049622</td>\n",
       "                        <td id=\"T_630a5_row32_col38\" class=\"data row32 col38\" >0.196455</td>\n",
       "                        <td id=\"T_630a5_row32_col39\" class=\"data row32 col39\" >0.089730</td>\n",
       "                        <td id=\"T_630a5_row32_col40\" class=\"data row32 col40\" >0.331750</td>\n",
       "                        <td id=\"T_630a5_row32_col41\" class=\"data row32 col41\" >0.084503</td>\n",
       "                        <td id=\"T_630a5_row32_col42\" class=\"data row32 col42\" >0.043791</td>\n",
       "                        <td id=\"T_630a5_row32_col43\" class=\"data row32 col43\" >0.025162</td>\n",
       "                        <td id=\"T_630a5_row32_col44\" class=\"data row32 col44\" >0.084106</td>\n",
       "                        <td id=\"T_630a5_row32_col45\" class=\"data row32 col45\" >-0.112751</td>\n",
       "                        <td id=\"T_630a5_row32_col46\" class=\"data row32 col46\" >0.409527</td>\n",
       "                        <td id=\"T_630a5_row32_col47\" class=\"data row32 col47\" >0.085782</td>\n",
       "                        <td id=\"T_630a5_row32_col48\" class=\"data row32 col48\" >0.415871</td>\n",
       "                        <td id=\"T_630a5_row32_col49\" class=\"data row32 col49\" >0.074507</td>\n",
       "                        <td id=\"T_630a5_row32_col50\" class=\"data row32 col50\" >0.434982</td>\n",
       "                        <td id=\"T_630a5_row32_col51\" class=\"data row32 col51\" >0.053557</td>\n",
       "            </tr>\n",
       "            <tr>\n",
       "                        <th id=\"T_630a5_level0_row33\" class=\"row_heading level0 row33\" >rougher.state.floatbank10_f_level</th>\n",
       "                        <td id=\"T_630a5_row33_col0\" class=\"data row33 col0\" >-0.063864</td>\n",
       "                        <td id=\"T_630a5_row33_col1\" class=\"data row33 col1\" >-0.112718</td>\n",
       "                        <td id=\"T_630a5_row33_col2\" class=\"data row33 col2\" >0.036627</td>\n",
       "                        <td id=\"T_630a5_row33_col3\" class=\"data row33 col3\" >-0.333668</td>\n",
       "                        <td id=\"T_630a5_row33_col4\" class=\"data row33 col4\" >0.289477</td>\n",
       "                        <td id=\"T_630a5_row33_col5\" class=\"data row33 col5\" >-0.042153</td>\n",
       "                        <td id=\"T_630a5_row33_col6\" class=\"data row33 col6\" >0.394670</td>\n",
       "                        <td id=\"T_630a5_row33_col7\" class=\"data row33 col7\" >0.013656</td>\n",
       "                        <td id=\"T_630a5_row33_col8\" class=\"data row33 col8\" >0.471963</td>\n",
       "                        <td id=\"T_630a5_row33_col9\" class=\"data row33 col9\" >-0.019199</td>\n",
       "                        <td id=\"T_630a5_row33_col10\" class=\"data row33 col10\" >0.382076</td>\n",
       "                        <td id=\"T_630a5_row33_col11\" class=\"data row33 col11\" >0.014457</td>\n",
       "                        <td id=\"T_630a5_row33_col12\" class=\"data row33 col12\" >0.075624</td>\n",
       "                        <td id=\"T_630a5_row33_col13\" class=\"data row33 col13\" >-0.097293</td>\n",
       "                        <td id=\"T_630a5_row33_col14\" class=\"data row33 col14\" >-0.218182</td>\n",
       "                        <td id=\"T_630a5_row33_col15\" class=\"data row33 col15\" >-0.310386</td>\n",
       "                        <td id=\"T_630a5_row33_col16\" class=\"data row33 col16\" >-0.291274</td>\n",
       "                        <td id=\"T_630a5_row33_col17\" class=\"data row33 col17\" >0.186442</td>\n",
       "                        <td id=\"T_630a5_row33_col18\" class=\"data row33 col18\" >-0.062685</td>\n",
       "                        <td id=\"T_630a5_row33_col19\" class=\"data row33 col19\" >0.050415</td>\n",
       "                        <td id=\"T_630a5_row33_col20\" class=\"data row33 col20\" >-0.132322</td>\n",
       "                        <td id=\"T_630a5_row33_col21\" class=\"data row33 col21\" >-0.042188</td>\n",
       "                        <td id=\"T_630a5_row33_col22\" class=\"data row33 col22\" >-0.286920</td>\n",
       "                        <td id=\"T_630a5_row33_col23\" class=\"data row33 col23\" >-0.228962</td>\n",
       "                        <td id=\"T_630a5_row33_col24\" class=\"data row33 col24\" >0.430609</td>\n",
       "                        <td id=\"T_630a5_row33_col25\" class=\"data row33 col25\" >0.912698</td>\n",
       "                        <td id=\"T_630a5_row33_col26\" class=\"data row33 col26\" >0.506876</td>\n",
       "                        <td id=\"T_630a5_row33_col27\" class=\"data row33 col27\" >0.905252</td>\n",
       "                        <td id=\"T_630a5_row33_col28\" class=\"data row33 col28\" >0.461712</td>\n",
       "                        <td id=\"T_630a5_row33_col29\" class=\"data row33 col29\" >0.892289</td>\n",
       "                        <td id=\"T_630a5_row33_col30\" class=\"data row33 col30\" >0.650048</td>\n",
       "                        <td id=\"T_630a5_row33_col31\" class=\"data row33 col31\" >0.963408</td>\n",
       "                        <td id=\"T_630a5_row33_col32\" class=\"data row33 col32\" >0.630766</td>\n",
       "                        <td id=\"T_630a5_row33_col33\" class=\"data row33 col33\" >1.000000</td>\n",
       "                        <td id=\"T_630a5_row33_col34\" class=\"data row33 col34\" >0.314932</td>\n",
       "                        <td id=\"T_630a5_row33_col35\" class=\"data row33 col35\" >0.060038</td>\n",
       "                        <td id=\"T_630a5_row33_col36\" class=\"data row33 col36\" >0.212882</td>\n",
       "                        <td id=\"T_630a5_row33_col37\" class=\"data row33 col37\" >0.037412</td>\n",
       "                        <td id=\"T_630a5_row33_col38\" class=\"data row33 col38\" >0.270108</td>\n",
       "                        <td id=\"T_630a5_row33_col39\" class=\"data row33 col39\" >-0.067712</td>\n",
       "                        <td id=\"T_630a5_row33_col40\" class=\"data row33 col40\" >0.422930</td>\n",
       "                        <td id=\"T_630a5_row33_col41\" class=\"data row33 col41\" >-0.053534</td>\n",
       "                        <td id=\"T_630a5_row33_col42\" class=\"data row33 col42\" >0.168028</td>\n",
       "                        <td id=\"T_630a5_row33_col43\" class=\"data row33 col43\" >0.024309</td>\n",
       "                        <td id=\"T_630a5_row33_col44\" class=\"data row33 col44\" >0.188557</td>\n",
       "                        <td id=\"T_630a5_row33_col45\" class=\"data row33 col45\" >-0.210791</td>\n",
       "                        <td id=\"T_630a5_row33_col46\" class=\"data row33 col46\" >0.261930</td>\n",
       "                        <td id=\"T_630a5_row33_col47\" class=\"data row33 col47\" >0.066304</td>\n",
       "                        <td id=\"T_630a5_row33_col48\" class=\"data row33 col48\" >0.392998</td>\n",
       "                        <td id=\"T_630a5_row33_col49\" class=\"data row33 col49\" >0.056624</td>\n",
       "                        <td id=\"T_630a5_row33_col50\" class=\"data row33 col50\" >0.483501</td>\n",
       "                        <td id=\"T_630a5_row33_col51\" class=\"data row33 col51\" >0.064456</td>\n",
       "            </tr>\n",
       "            <tr>\n",
       "                        <th id=\"T_630a5_level0_row34\" class=\"row_heading level0 row34\" >secondary_cleaner.state.floatbank2_a_air</th>\n",
       "                        <td id=\"T_630a5_row34_col0\" class=\"data row34 col0\" >0.051477</td>\n",
       "                        <td id=\"T_630a5_row34_col1\" class=\"data row34 col1\" >0.077763</td>\n",
       "                        <td id=\"T_630a5_row34_col2\" class=\"data row34 col2\" >-0.128544</td>\n",
       "                        <td id=\"T_630a5_row34_col3\" class=\"data row34 col3\" >-0.038199</td>\n",
       "                        <td id=\"T_630a5_row34_col4\" class=\"data row34 col4\" >0.258797</td>\n",
       "                        <td id=\"T_630a5_row34_col5\" class=\"data row34 col5\" >0.108288</td>\n",
       "                        <td id=\"T_630a5_row34_col6\" class=\"data row34 col6\" >0.326207</td>\n",
       "                        <td id=\"T_630a5_row34_col7\" class=\"data row34 col7\" >0.064035</td>\n",
       "                        <td id=\"T_630a5_row34_col8\" class=\"data row34 col8\" >0.277849</td>\n",
       "                        <td id=\"T_630a5_row34_col9\" class=\"data row34 col9\" >0.107413</td>\n",
       "                        <td id=\"T_630a5_row34_col10\" class=\"data row34 col10\" >0.314295</td>\n",
       "                        <td id=\"T_630a5_row34_col11\" class=\"data row34 col11\" >0.087684</td>\n",
       "                        <td id=\"T_630a5_row34_col12\" class=\"data row34 col12\" >-0.064636</td>\n",
       "                        <td id=\"T_630a5_row34_col13\" class=\"data row34 col13\" >0.038868</td>\n",
       "                        <td id=\"T_630a5_row34_col14\" class=\"data row34 col14\" >-0.027157</td>\n",
       "                        <td id=\"T_630a5_row34_col15\" class=\"data row34 col15\" >-0.014463</td>\n",
       "                        <td id=\"T_630a5_row34_col16\" class=\"data row34 col16\" >-0.024106</td>\n",
       "                        <td id=\"T_630a5_row34_col17\" class=\"data row34 col17\" >-0.004156</td>\n",
       "                        <td id=\"T_630a5_row34_col18\" class=\"data row34 col18\" >0.159682</td>\n",
       "                        <td id=\"T_630a5_row34_col19\" class=\"data row34 col19\" >-0.045553</td>\n",
       "                        <td id=\"T_630a5_row34_col20\" class=\"data row34 col20\" >0.197893</td>\n",
       "                        <td id=\"T_630a5_row34_col21\" class=\"data row34 col21\" >-0.017139</td>\n",
       "                        <td id=\"T_630a5_row34_col22\" class=\"data row34 col22\" >-0.033902</td>\n",
       "                        <td id=\"T_630a5_row34_col23\" class=\"data row34 col23\" >0.019796</td>\n",
       "                        <td id=\"T_630a5_row34_col24\" class=\"data row34 col24\" >0.134559</td>\n",
       "                        <td id=\"T_630a5_row34_col25\" class=\"data row34 col25\" >0.227982</td>\n",
       "                        <td id=\"T_630a5_row34_col26\" class=\"data row34 col26\" >0.135637</td>\n",
       "                        <td id=\"T_630a5_row34_col27\" class=\"data row34 col27\" >0.229484</td>\n",
       "                        <td id=\"T_630a5_row34_col28\" class=\"data row34 col28\" >0.172628</td>\n",
       "                        <td id=\"T_630a5_row34_col29\" class=\"data row34 col29\" >0.188866</td>\n",
       "                        <td id=\"T_630a5_row34_col30\" class=\"data row34 col30\" >0.218534</td>\n",
       "                        <td id=\"T_630a5_row34_col31\" class=\"data row34 col31\" >0.327862</td>\n",
       "                        <td id=\"T_630a5_row34_col32\" class=\"data row34 col32\" >0.308341</td>\n",
       "                        <td id=\"T_630a5_row34_col33\" class=\"data row34 col33\" >0.314932</td>\n",
       "                        <td id=\"T_630a5_row34_col34\" class=\"data row34 col34\" >1.000000</td>\n",
       "                        <td id=\"T_630a5_row34_col35\" class=\"data row34 col35\" >0.495535</td>\n",
       "                        <td id=\"T_630a5_row34_col36\" class=\"data row34 col36\" >0.858422</td>\n",
       "                        <td id=\"T_630a5_row34_col37\" class=\"data row34 col37\" >0.448377</td>\n",
       "                        <td id=\"T_630a5_row34_col38\" class=\"data row34 col38\" >0.357866</td>\n",
       "                        <td id=\"T_630a5_row34_col39\" class=\"data row34 col39\" >0.022995</td>\n",
       "                        <td id=\"T_630a5_row34_col40\" class=\"data row34 col40\" >0.425576</td>\n",
       "                        <td id=\"T_630a5_row34_col41\" class=\"data row34 col41\" >0.026951</td>\n",
       "                        <td id=\"T_630a5_row34_col42\" class=\"data row34 col42\" >0.394394</td>\n",
       "                        <td id=\"T_630a5_row34_col43\" class=\"data row34 col43\" >0.181484</td>\n",
       "                        <td id=\"T_630a5_row34_col44\" class=\"data row34 col44\" >0.375035</td>\n",
       "                        <td id=\"T_630a5_row34_col45\" class=\"data row34 col45\" >-0.007873</td>\n",
       "                        <td id=\"T_630a5_row34_col46\" class=\"data row34 col46\" >0.364503</td>\n",
       "                        <td id=\"T_630a5_row34_col47\" class=\"data row34 col47\" >0.161537</td>\n",
       "                        <td id=\"T_630a5_row34_col48\" class=\"data row34 col48\" >0.482914</td>\n",
       "                        <td id=\"T_630a5_row34_col49\" class=\"data row34 col49\" >0.088558</td>\n",
       "                        <td id=\"T_630a5_row34_col50\" class=\"data row34 col50\" >0.146562</td>\n",
       "                        <td id=\"T_630a5_row34_col51\" class=\"data row34 col51\" >0.127210</td>\n",
       "            </tr>\n",
       "            <tr>\n",
       "                        <th id=\"T_630a5_level0_row35\" class=\"row_heading level0 row35\" >secondary_cleaner.state.floatbank2_a_level</th>\n",
       "                        <td id=\"T_630a5_row35_col0\" class=\"data row35 col0\" >-0.037756</td>\n",
       "                        <td id=\"T_630a5_row35_col1\" class=\"data row35 col1\" >-0.089231</td>\n",
       "                        <td id=\"T_630a5_row35_col2\" class=\"data row35 col2\" >0.044605</td>\n",
       "                        <td id=\"T_630a5_row35_col3\" class=\"data row35 col3\" >-0.160438</td>\n",
       "                        <td id=\"T_630a5_row35_col4\" class=\"data row35 col4\" >-0.059849</td>\n",
       "                        <td id=\"T_630a5_row35_col5\" class=\"data row35 col5\" >0.083484</td>\n",
       "                        <td id=\"T_630a5_row35_col6\" class=\"data row35 col6\" >-0.052484</td>\n",
       "                        <td id=\"T_630a5_row35_col7\" class=\"data row35 col7\" >0.006019</td>\n",
       "                        <td id=\"T_630a5_row35_col8\" class=\"data row35 col8\" >0.022228</td>\n",
       "                        <td id=\"T_630a5_row35_col9\" class=\"data row35 col9\" >0.075413</td>\n",
       "                        <td id=\"T_630a5_row35_col10\" class=\"data row35 col10\" >-0.049503</td>\n",
       "                        <td id=\"T_630a5_row35_col11\" class=\"data row35 col11\" >0.002898</td>\n",
       "                        <td id=\"T_630a5_row35_col12\" class=\"data row35 col12\" >-0.029710</td>\n",
       "                        <td id=\"T_630a5_row35_col13\" class=\"data row35 col13\" >-0.103637</td>\n",
       "                        <td id=\"T_630a5_row35_col14\" class=\"data row35 col14\" >-0.008737</td>\n",
       "                        <td id=\"T_630a5_row35_col15\" class=\"data row35 col15\" >-0.023742</td>\n",
       "                        <td id=\"T_630a5_row35_col16\" class=\"data row35 col16\" >0.000302</td>\n",
       "                        <td id=\"T_630a5_row35_col17\" class=\"data row35 col17\" >-0.067953</td>\n",
       "                        <td id=\"T_630a5_row35_col18\" class=\"data row35 col18\" >-0.074540</td>\n",
       "                        <td id=\"T_630a5_row35_col19\" class=\"data row35 col19\" >0.025373</td>\n",
       "                        <td id=\"T_630a5_row35_col20\" class=\"data row35 col20\" >-0.063607</td>\n",
       "                        <td id=\"T_630a5_row35_col21\" class=\"data row35 col21\" >0.032756</td>\n",
       "                        <td id=\"T_630a5_row35_col22\" class=\"data row35 col22\" >-0.147985</td>\n",
       "                        <td id=\"T_630a5_row35_col23\" class=\"data row35 col23\" >-0.090653</td>\n",
       "                        <td id=\"T_630a5_row35_col24\" class=\"data row35 col24\" >0.133750</td>\n",
       "                        <td id=\"T_630a5_row35_col25\" class=\"data row35 col25\" >0.073520</td>\n",
       "                        <td id=\"T_630a5_row35_col26\" class=\"data row35 col26\" >0.133562</td>\n",
       "                        <td id=\"T_630a5_row35_col27\" class=\"data row35 col27\" >0.068864</td>\n",
       "                        <td id=\"T_630a5_row35_col28\" class=\"data row35 col28\" >0.121835</td>\n",
       "                        <td id=\"T_630a5_row35_col29\" class=\"data row35 col29\" >0.045485</td>\n",
       "                        <td id=\"T_630a5_row35_col30\" class=\"data row35 col30\" >0.093995</td>\n",
       "                        <td id=\"T_630a5_row35_col31\" class=\"data row35 col31\" >0.049022</td>\n",
       "                        <td id=\"T_630a5_row35_col32\" class=\"data row35 col32\" >0.071079</td>\n",
       "                        <td id=\"T_630a5_row35_col33\" class=\"data row35 col33\" >0.060038</td>\n",
       "                        <td id=\"T_630a5_row35_col34\" class=\"data row35 col34\" >0.495535</td>\n",
       "                        <td id=\"T_630a5_row35_col35\" class=\"data row35 col35\" >1.000000</td>\n",
       "                        <td id=\"T_630a5_row35_col36\" class=\"data row35 col36\" >0.313391</td>\n",
       "                        <td id=\"T_630a5_row35_col37\" class=\"data row35 col37\" >0.908759</td>\n",
       "                        <td id=\"T_630a5_row35_col38\" class=\"data row35 col38\" >0.008734</td>\n",
       "                        <td id=\"T_630a5_row35_col39\" class=\"data row35 col39\" >-0.019559</td>\n",
       "                        <td id=\"T_630a5_row35_col40\" class=\"data row35 col40\" >-0.016257</td>\n",
       "                        <td id=\"T_630a5_row35_col41\" class=\"data row35 col41\" >-0.015118</td>\n",
       "                        <td id=\"T_630a5_row35_col42\" class=\"data row35 col42\" >-0.076507</td>\n",
       "                        <td id=\"T_630a5_row35_col43\" class=\"data row35 col43\" >0.029511</td>\n",
       "                        <td id=\"T_630a5_row35_col44\" class=\"data row35 col44\" >-0.097089</td>\n",
       "                        <td id=\"T_630a5_row35_col45\" class=\"data row35 col45\" >-0.016680</td>\n",
       "                        <td id=\"T_630a5_row35_col46\" class=\"data row35 col46\" >-0.013389</td>\n",
       "                        <td id=\"T_630a5_row35_col47\" class=\"data row35 col47\" >0.077666</td>\n",
       "                        <td id=\"T_630a5_row35_col48\" class=\"data row35 col48\" >0.001987</td>\n",
       "                        <td id=\"T_630a5_row35_col49\" class=\"data row35 col49\" >0.010127</td>\n",
       "                        <td id=\"T_630a5_row35_col50\" class=\"data row35 col50\" >0.048933</td>\n",
       "                        <td id=\"T_630a5_row35_col51\" class=\"data row35 col51\" >0.025503</td>\n",
       "            </tr>\n",
       "            <tr>\n",
       "                        <th id=\"T_630a5_level0_row36\" class=\"row_heading level0 row36\" >secondary_cleaner.state.floatbank2_b_air</th>\n",
       "                        <td id=\"T_630a5_row36_col0\" class=\"data row36 col0\" >0.257649</td>\n",
       "                        <td id=\"T_630a5_row36_col1\" class=\"data row36 col1\" >0.231374</td>\n",
       "                        <td id=\"T_630a5_row36_col2\" class=\"data row36 col2\" >-0.182687</td>\n",
       "                        <td id=\"T_630a5_row36_col3\" class=\"data row36 col3\" >0.221401</td>\n",
       "                        <td id=\"T_630a5_row36_col4\" class=\"data row36 col4\" >0.422603</td>\n",
       "                        <td id=\"T_630a5_row36_col5\" class=\"data row36 col5\" >0.163920</td>\n",
       "                        <td id=\"T_630a5_row36_col6\" class=\"data row36 col6\" >0.458442</td>\n",
       "                        <td id=\"T_630a5_row36_col7\" class=\"data row36 col7\" >0.104585</td>\n",
       "                        <td id=\"T_630a5_row36_col8\" class=\"data row36 col8\" >0.363017</td>\n",
       "                        <td id=\"T_630a5_row36_col9\" class=\"data row36 col9\" >0.150466</td>\n",
       "                        <td id=\"T_630a5_row36_col10\" class=\"data row36 col10\" >0.458199</td>\n",
       "                        <td id=\"T_630a5_row36_col11\" class=\"data row36 col11\" >0.083247</td>\n",
       "                        <td id=\"T_630a5_row36_col12\" class=\"data row36 col12\" >0.029488</td>\n",
       "                        <td id=\"T_630a5_row36_col13\" class=\"data row36 col13\" >0.126858</td>\n",
       "                        <td id=\"T_630a5_row36_col14\" class=\"data row36 col14\" >0.088950</td>\n",
       "                        <td id=\"T_630a5_row36_col15\" class=\"data row36 col15\" >0.016860</td>\n",
       "                        <td id=\"T_630a5_row36_col16\" class=\"data row36 col16\" >0.057896</td>\n",
       "                        <td id=\"T_630a5_row36_col17\" class=\"data row36 col17\" >0.063430</td>\n",
       "                        <td id=\"T_630a5_row36_col18\" class=\"data row36 col18\" >0.308753</td>\n",
       "                        <td id=\"T_630a5_row36_col19\" class=\"data row36 col19\" >0.086715</td>\n",
       "                        <td id=\"T_630a5_row36_col20\" class=\"data row36 col20\" >0.325692</td>\n",
       "                        <td id=\"T_630a5_row36_col21\" class=\"data row36 col21\" >0.100449</td>\n",
       "                        <td id=\"T_630a5_row36_col22\" class=\"data row36 col22\" >0.163335</td>\n",
       "                        <td id=\"T_630a5_row36_col23\" class=\"data row36 col23\" >0.154486</td>\n",
       "                        <td id=\"T_630a5_row36_col24\" class=\"data row36 col24\" >0.010837</td>\n",
       "                        <td id=\"T_630a5_row36_col25\" class=\"data row36 col25\" >0.141611</td>\n",
       "                        <td id=\"T_630a5_row36_col26\" class=\"data row36 col26\" >-0.012911</td>\n",
       "                        <td id=\"T_630a5_row36_col27\" class=\"data row36 col27\" >0.141802</td>\n",
       "                        <td id=\"T_630a5_row36_col28\" class=\"data row36 col28\" >0.035681</td>\n",
       "                        <td id=\"T_630a5_row36_col29\" class=\"data row36 col29\" >0.122846</td>\n",
       "                        <td id=\"T_630a5_row36_col30\" class=\"data row36 col30\" >0.102399</td>\n",
       "                        <td id=\"T_630a5_row36_col31\" class=\"data row36 col31\" >0.213473</td>\n",
       "                        <td id=\"T_630a5_row36_col32\" class=\"data row36 col32\" >0.177728</td>\n",
       "                        <td id=\"T_630a5_row36_col33\" class=\"data row36 col33\" >0.212882</td>\n",
       "                        <td id=\"T_630a5_row36_col34\" class=\"data row36 col34\" >0.858422</td>\n",
       "                        <td id=\"T_630a5_row36_col35\" class=\"data row36 col35\" >0.313391</td>\n",
       "                        <td id=\"T_630a5_row36_col36\" class=\"data row36 col36\" >1.000000</td>\n",
       "                        <td id=\"T_630a5_row36_col37\" class=\"data row36 col37\" >0.294010</td>\n",
       "                        <td id=\"T_630a5_row36_col38\" class=\"data row36 col38\" >0.449216</td>\n",
       "                        <td id=\"T_630a5_row36_col39\" class=\"data row36 col39\" >-0.054644</td>\n",
       "                        <td id=\"T_630a5_row36_col40\" class=\"data row36 col40\" >0.529610</td>\n",
       "                        <td id=\"T_630a5_row36_col41\" class=\"data row36 col41\" >-0.044418</td>\n",
       "                        <td id=\"T_630a5_row36_col42\" class=\"data row36 col42\" >0.637334</td>\n",
       "                        <td id=\"T_630a5_row36_col43\" class=\"data row36 col43\" >0.182724</td>\n",
       "                        <td id=\"T_630a5_row36_col44\" class=\"data row36 col44\" >0.660157</td>\n",
       "                        <td id=\"T_630a5_row36_col45\" class=\"data row36 col45\" >0.000320</td>\n",
       "                        <td id=\"T_630a5_row36_col46\" class=\"data row36 col46\" >0.511434</td>\n",
       "                        <td id=\"T_630a5_row36_col47\" class=\"data row36 col47\" >0.227661</td>\n",
       "                        <td id=\"T_630a5_row36_col48\" class=\"data row36 col48\" >0.667856</td>\n",
       "                        <td id=\"T_630a5_row36_col49\" class=\"data row36 col49\" >0.129761</td>\n",
       "                        <td id=\"T_630a5_row36_col50\" class=\"data row36 col50\" >0.104266</td>\n",
       "                        <td id=\"T_630a5_row36_col51\" class=\"data row36 col51\" >0.157649</td>\n",
       "            </tr>\n",
       "            <tr>\n",
       "                        <th id=\"T_630a5_level0_row37\" class=\"row_heading level0 row37\" >secondary_cleaner.state.floatbank2_b_level</th>\n",
       "                        <td id=\"T_630a5_row37_col0\" class=\"data row37 col0\" >-0.010734</td>\n",
       "                        <td id=\"T_630a5_row37_col1\" class=\"data row37 col1\" >-0.102904</td>\n",
       "                        <td id=\"T_630a5_row37_col2\" class=\"data row37 col2\" >0.005911</td>\n",
       "                        <td id=\"T_630a5_row37_col3\" class=\"data row37 col3\" >-0.111152</td>\n",
       "                        <td id=\"T_630a5_row37_col4\" class=\"data row37 col4\" >-0.084396</td>\n",
       "                        <td id=\"T_630a5_row37_col5\" class=\"data row37 col5\" >0.080897</td>\n",
       "                        <td id=\"T_630a5_row37_col6\" class=\"data row37 col6\" >-0.079535</td>\n",
       "                        <td id=\"T_630a5_row37_col7\" class=\"data row37 col7\" >0.009400</td>\n",
       "                        <td id=\"T_630a5_row37_col8\" class=\"data row37 col8\" >-0.014146</td>\n",
       "                        <td id=\"T_630a5_row37_col9\" class=\"data row37 col9\" >0.066475</td>\n",
       "                        <td id=\"T_630a5_row37_col10\" class=\"data row37 col10\" >-0.077416</td>\n",
       "                        <td id=\"T_630a5_row37_col11\" class=\"data row37 col11\" >-0.000880</td>\n",
       "                        <td id=\"T_630a5_row37_col12\" class=\"data row37 col12\" >-0.057781</td>\n",
       "                        <td id=\"T_630a5_row37_col13\" class=\"data row37 col13\" >-0.091755</td>\n",
       "                        <td id=\"T_630a5_row37_col14\" class=\"data row37 col14\" >0.022219</td>\n",
       "                        <td id=\"T_630a5_row37_col15\" class=\"data row37 col15\" >0.000916</td>\n",
       "                        <td id=\"T_630a5_row37_col16\" class=\"data row37 col16\" >0.030709</td>\n",
       "                        <td id=\"T_630a5_row37_col17\" class=\"data row37 col17\" >-0.079734</td>\n",
       "                        <td id=\"T_630a5_row37_col18\" class=\"data row37 col18\" >-0.027401</td>\n",
       "                        <td id=\"T_630a5_row37_col19\" class=\"data row37 col19\" >0.014776</td>\n",
       "                        <td id=\"T_630a5_row37_col20\" class=\"data row37 col20\" >-0.015838</td>\n",
       "                        <td id=\"T_630a5_row37_col21\" class=\"data row37 col21\" >0.019848</td>\n",
       "                        <td id=\"T_630a5_row37_col22\" class=\"data row37 col22\" >-0.142775</td>\n",
       "                        <td id=\"T_630a5_row37_col23\" class=\"data row37 col23\" >-0.044971</td>\n",
       "                        <td id=\"T_630a5_row37_col24\" class=\"data row37 col24\" >0.084197</td>\n",
       "                        <td id=\"T_630a5_row37_col25\" class=\"data row37 col25\" >0.050514</td>\n",
       "                        <td id=\"T_630a5_row37_col26\" class=\"data row37 col26\" >0.079925</td>\n",
       "                        <td id=\"T_630a5_row37_col27\" class=\"data row37 col27\" >0.043664</td>\n",
       "                        <td id=\"T_630a5_row37_col28\" class=\"data row37 col28\" >0.076693</td>\n",
       "                        <td id=\"T_630a5_row37_col29\" class=\"data row37 col29\" >0.023838</td>\n",
       "                        <td id=\"T_630a5_row37_col30\" class=\"data row37 col30\" >0.055281</td>\n",
       "                        <td id=\"T_630a5_row37_col31\" class=\"data row37 col31\" >0.030481</td>\n",
       "                        <td id=\"T_630a5_row37_col32\" class=\"data row37 col32\" >0.049622</td>\n",
       "                        <td id=\"T_630a5_row37_col33\" class=\"data row37 col33\" >0.037412</td>\n",
       "                        <td id=\"T_630a5_row37_col34\" class=\"data row37 col34\" >0.448377</td>\n",
       "                        <td id=\"T_630a5_row37_col35\" class=\"data row37 col35\" >0.908759</td>\n",
       "                        <td id=\"T_630a5_row37_col36\" class=\"data row37 col36\" >0.294010</td>\n",
       "                        <td id=\"T_630a5_row37_col37\" class=\"data row37 col37\" >1.000000</td>\n",
       "                        <td id=\"T_630a5_row37_col38\" class=\"data row37 col38\" >-0.028408</td>\n",
       "                        <td id=\"T_630a5_row37_col39\" class=\"data row37 col39\" >-0.030625</td>\n",
       "                        <td id=\"T_630a5_row37_col40\" class=\"data row37 col40\" >-0.039173</td>\n",
       "                        <td id=\"T_630a5_row37_col41\" class=\"data row37 col41\" >-0.024777</td>\n",
       "                        <td id=\"T_630a5_row37_col42\" class=\"data row37 col42\" >-0.062850</td>\n",
       "                        <td id=\"T_630a5_row37_col43\" class=\"data row37 col43\" >0.030289</td>\n",
       "                        <td id=\"T_630a5_row37_col44\" class=\"data row37 col44\" >-0.077545</td>\n",
       "                        <td id=\"T_630a5_row37_col45\" class=\"data row37 col45\" >0.013354</td>\n",
       "                        <td id=\"T_630a5_row37_col46\" class=\"data row37 col46\" >-0.020293</td>\n",
       "                        <td id=\"T_630a5_row37_col47\" class=\"data row37 col47\" >0.078675</td>\n",
       "                        <td id=\"T_630a5_row37_col48\" class=\"data row37 col48\" >-0.006990</td>\n",
       "                        <td id=\"T_630a5_row37_col49\" class=\"data row37 col49\" >0.014914</td>\n",
       "                        <td id=\"T_630a5_row37_col50\" class=\"data row37 col50\" >0.010788</td>\n",
       "                        <td id=\"T_630a5_row37_col51\" class=\"data row37 col51\" >0.023177</td>\n",
       "            </tr>\n",
       "            <tr>\n",
       "                        <th id=\"T_630a5_level0_row38\" class=\"row_heading level0 row38\" >secondary_cleaner.state.floatbank3_a_air</th>\n",
       "                        <td id=\"T_630a5_row38_col0\" class=\"data row38 col0\" >0.144912</td>\n",
       "                        <td id=\"T_630a5_row38_col1\" class=\"data row38 col1\" >0.280420</td>\n",
       "                        <td id=\"T_630a5_row38_col2\" class=\"data row38 col2\" >0.024735</td>\n",
       "                        <td id=\"T_630a5_row38_col3\" class=\"data row38 col3\" >-0.041667</td>\n",
       "                        <td id=\"T_630a5_row38_col4\" class=\"data row38 col4\" >0.369040</td>\n",
       "                        <td id=\"T_630a5_row38_col5\" class=\"data row38 col5\" >0.083934</td>\n",
       "                        <td id=\"T_630a5_row38_col6\" class=\"data row38 col6\" >0.415503</td>\n",
       "                        <td id=\"T_630a5_row38_col7\" class=\"data row38 col7\" >0.086051</td>\n",
       "                        <td id=\"T_630a5_row38_col8\" class=\"data row38 col8\" >0.412137</td>\n",
       "                        <td id=\"T_630a5_row38_col9\" class=\"data row38 col9\" >0.074927</td>\n",
       "                        <td id=\"T_630a5_row38_col10\" class=\"data row38 col10\" >0.420193</td>\n",
       "                        <td id=\"T_630a5_row38_col11\" class=\"data row38 col11\" >0.022571</td>\n",
       "                        <td id=\"T_630a5_row38_col12\" class=\"data row38 col12\" >0.208481</td>\n",
       "                        <td id=\"T_630a5_row38_col13\" class=\"data row38 col13\" >0.124379</td>\n",
       "                        <td id=\"T_630a5_row38_col14\" class=\"data row38 col14\" >-0.083163</td>\n",
       "                        <td id=\"T_630a5_row38_col15\" class=\"data row38 col15\" >-0.083722</td>\n",
       "                        <td id=\"T_630a5_row38_col16\" class=\"data row38 col16\" >-0.084354</td>\n",
       "                        <td id=\"T_630a5_row38_col17\" class=\"data row38 col17\" >0.197716</td>\n",
       "                        <td id=\"T_630a5_row38_col18\" class=\"data row38 col18\" >0.027194</td>\n",
       "                        <td id=\"T_630a5_row38_col19\" class=\"data row38 col19\" >0.118774</td>\n",
       "                        <td id=\"T_630a5_row38_col20\" class=\"data row38 col20\" >0.038922</td>\n",
       "                        <td id=\"T_630a5_row38_col21\" class=\"data row38 col21\" >0.146897</td>\n",
       "                        <td id=\"T_630a5_row38_col22\" class=\"data row38 col22\" >0.026611</td>\n",
       "                        <td id=\"T_630a5_row38_col23\" class=\"data row38 col23\" >-0.116859</td>\n",
       "                        <td id=\"T_630a5_row38_col24\" class=\"data row38 col24\" >0.126110</td>\n",
       "                        <td id=\"T_630a5_row38_col25\" class=\"data row38 col25\" >0.214489</td>\n",
       "                        <td id=\"T_630a5_row38_col26\" class=\"data row38 col26\" >0.155255</td>\n",
       "                        <td id=\"T_630a5_row38_col27\" class=\"data row38 col27\" >0.216322</td>\n",
       "                        <td id=\"T_630a5_row38_col28\" class=\"data row38 col28\" >0.143623</td>\n",
       "                        <td id=\"T_630a5_row38_col29\" class=\"data row38 col29\" >0.205321</td>\n",
       "                        <td id=\"T_630a5_row38_col30\" class=\"data row38 col30\" >0.247007</td>\n",
       "                        <td id=\"T_630a5_row38_col31\" class=\"data row38 col31\" >0.274433</td>\n",
       "                        <td id=\"T_630a5_row38_col32\" class=\"data row38 col32\" >0.196455</td>\n",
       "                        <td id=\"T_630a5_row38_col33\" class=\"data row38 col33\" >0.270108</td>\n",
       "                        <td id=\"T_630a5_row38_col34\" class=\"data row38 col34\" >0.357866</td>\n",
       "                        <td id=\"T_630a5_row38_col35\" class=\"data row38 col35\" >0.008734</td>\n",
       "                        <td id=\"T_630a5_row38_col36\" class=\"data row38 col36\" >0.449216</td>\n",
       "                        <td id=\"T_630a5_row38_col37\" class=\"data row38 col37\" >-0.028408</td>\n",
       "                        <td id=\"T_630a5_row38_col38\" class=\"data row38 col38\" >1.000000</td>\n",
       "                        <td id=\"T_630a5_row38_col39\" class=\"data row38 col39\" >0.600622</td>\n",
       "                        <td id=\"T_630a5_row38_col40\" class=\"data row38 col40\" >0.906338</td>\n",
       "                        <td id=\"T_630a5_row38_col41\" class=\"data row38 col41\" >0.575131</td>\n",
       "                        <td id=\"T_630a5_row38_col42\" class=\"data row38 col42\" >0.413034</td>\n",
       "                        <td id=\"T_630a5_row38_col43\" class=\"data row38 col43\" >0.051117</td>\n",
       "                        <td id=\"T_630a5_row38_col44\" class=\"data row38 col44\" >0.434205</td>\n",
       "                        <td id=\"T_630a5_row38_col45\" class=\"data row38 col45\" >-0.059103</td>\n",
       "                        <td id=\"T_630a5_row38_col46\" class=\"data row38 col46\" >0.313944</td>\n",
       "                        <td id=\"T_630a5_row38_col47\" class=\"data row38 col47\" >0.185076</td>\n",
       "                        <td id=\"T_630a5_row38_col48\" class=\"data row38 col48\" >0.526658</td>\n",
       "                        <td id=\"T_630a5_row38_col49\" class=\"data row38 col49\" >0.097897</td>\n",
       "                        <td id=\"T_630a5_row38_col50\" class=\"data row38 col50\" >0.273846</td>\n",
       "                        <td id=\"T_630a5_row38_col51\" class=\"data row38 col51\" >0.123084</td>\n",
       "            </tr>\n",
       "            <tr>\n",
       "                        <th id=\"T_630a5_level0_row39\" class=\"row_heading level0 row39\" >secondary_cleaner.state.floatbank3_a_level</th>\n",
       "                        <td id=\"T_630a5_row39_col0\" class=\"data row39 col0\" >0.004598</td>\n",
       "                        <td id=\"T_630a5_row39_col1\" class=\"data row39 col1\" >0.119902</td>\n",
       "                        <td id=\"T_630a5_row39_col2\" class=\"data row39 col2\" >0.032868</td>\n",
       "                        <td id=\"T_630a5_row39_col3\" class=\"data row39 col3\" >-0.033249</td>\n",
       "                        <td id=\"T_630a5_row39_col4\" class=\"data row39 col4\" >-0.040073</td>\n",
       "                        <td id=\"T_630a5_row39_col5\" class=\"data row39 col5\" >0.069909</td>\n",
       "                        <td id=\"T_630a5_row39_col6\" class=\"data row39 col6\" >-0.023823</td>\n",
       "                        <td id=\"T_630a5_row39_col7\" class=\"data row39 col7\" >0.094441</td>\n",
       "                        <td id=\"T_630a5_row39_col8\" class=\"data row39 col8\" >-0.030285</td>\n",
       "                        <td id=\"T_630a5_row39_col9\" class=\"data row39 col9\" >0.065685</td>\n",
       "                        <td id=\"T_630a5_row39_col10\" class=\"data row39 col10\" >-0.020290</td>\n",
       "                        <td id=\"T_630a5_row39_col11\" class=\"data row39 col11\" >0.031053</td>\n",
       "                        <td id=\"T_630a5_row39_col12\" class=\"data row39 col12\" >-0.025061</td>\n",
       "                        <td id=\"T_630a5_row39_col13\" class=\"data row39 col13\" >0.102574</td>\n",
       "                        <td id=\"T_630a5_row39_col14\" class=\"data row39 col14\" >0.105550</td>\n",
       "                        <td id=\"T_630a5_row39_col15\" class=\"data row39 col15\" >0.088047</td>\n",
       "                        <td id=\"T_630a5_row39_col16\" class=\"data row39 col16\" >0.123382</td>\n",
       "                        <td id=\"T_630a5_row39_col17\" class=\"data row39 col17\" >0.002687</td>\n",
       "                        <td id=\"T_630a5_row39_col18\" class=\"data row39 col18\" >0.050717</td>\n",
       "                        <td id=\"T_630a5_row39_col19\" class=\"data row39 col19\" >0.074931</td>\n",
       "                        <td id=\"T_630a5_row39_col20\" class=\"data row39 col20\" >0.081963</td>\n",
       "                        <td id=\"T_630a5_row39_col21\" class=\"data row39 col21\" >0.118810</td>\n",
       "                        <td id=\"T_630a5_row39_col22\" class=\"data row39 col22\" >0.115620</td>\n",
       "                        <td id=\"T_630a5_row39_col23\" class=\"data row39 col23\" >0.185259</td>\n",
       "                        <td id=\"T_630a5_row39_col24\" class=\"data row39 col24\" >-0.040749</td>\n",
       "                        <td id=\"T_630a5_row39_col25\" class=\"data row39 col25\" >-0.104123</td>\n",
       "                        <td id=\"T_630a5_row39_col26\" class=\"data row39 col26\" >-0.055255</td>\n",
       "                        <td id=\"T_630a5_row39_col27\" class=\"data row39 col27\" >-0.105684</td>\n",
       "                        <td id=\"T_630a5_row39_col28\" class=\"data row39 col28\" >-0.064725</td>\n",
       "                        <td id=\"T_630a5_row39_col29\" class=\"data row39 col29\" >-0.108187</td>\n",
       "                        <td id=\"T_630a5_row39_col30\" class=\"data row39 col30\" >0.036728</td>\n",
       "                        <td id=\"T_630a5_row39_col31\" class=\"data row39 col31\" >-0.074668</td>\n",
       "                        <td id=\"T_630a5_row39_col32\" class=\"data row39 col32\" >0.089730</td>\n",
       "                        <td id=\"T_630a5_row39_col33\" class=\"data row39 col33\" >-0.067712</td>\n",
       "                        <td id=\"T_630a5_row39_col34\" class=\"data row39 col34\" >0.022995</td>\n",
       "                        <td id=\"T_630a5_row39_col35\" class=\"data row39 col35\" >-0.019559</td>\n",
       "                        <td id=\"T_630a5_row39_col36\" class=\"data row39 col36\" >-0.054644</td>\n",
       "                        <td id=\"T_630a5_row39_col37\" class=\"data row39 col37\" >-0.030625</td>\n",
       "                        <td id=\"T_630a5_row39_col38\" class=\"data row39 col38\" >0.600622</td>\n",
       "                        <td id=\"T_630a5_row39_col39\" class=\"data row39 col39\" >1.000000</td>\n",
       "                        <td id=\"T_630a5_row39_col40\" class=\"data row39 col40\" >0.486991</td>\n",
       "                        <td id=\"T_630a5_row39_col41\" class=\"data row39 col41\" >0.906088</td>\n",
       "                        <td id=\"T_630a5_row39_col42\" class=\"data row39 col42\" >-0.067846</td>\n",
       "                        <td id=\"T_630a5_row39_col43\" class=\"data row39 col43\" >0.007752</td>\n",
       "                        <td id=\"T_630a5_row39_col44\" class=\"data row39 col44\" >-0.088951</td>\n",
       "                        <td id=\"T_630a5_row39_col45\" class=\"data row39 col45\" >0.018798</td>\n",
       "                        <td id=\"T_630a5_row39_col46\" class=\"data row39 col46\" >-0.197216</td>\n",
       "                        <td id=\"T_630a5_row39_col47\" class=\"data row39 col47\" >0.045148</td>\n",
       "                        <td id=\"T_630a5_row39_col48\" class=\"data row39 col48\" >-0.088070</td>\n",
       "                        <td id=\"T_630a5_row39_col49\" class=\"data row39 col49\" >-0.024978</td>\n",
       "                        <td id=\"T_630a5_row39_col50\" class=\"data row39 col50\" >-0.127807</td>\n",
       "                        <td id=\"T_630a5_row39_col51\" class=\"data row39 col51\" >0.010255</td>\n",
       "            </tr>\n",
       "            <tr>\n",
       "                        <th id=\"T_630a5_level0_row40\" class=\"row_heading level0 row40\" >secondary_cleaner.state.floatbank3_b_air</th>\n",
       "                        <td id=\"T_630a5_row40_col0\" class=\"data row40 col0\" >0.147967</td>\n",
       "                        <td id=\"T_630a5_row40_col1\" class=\"data row40 col1\" >0.253658</td>\n",
       "                        <td id=\"T_630a5_row40_col2\" class=\"data row40 col2\" >-0.017527</td>\n",
       "                        <td id=\"T_630a5_row40_col3\" class=\"data row40 col3\" >-0.050318</td>\n",
       "                        <td id=\"T_630a5_row40_col4\" class=\"data row40 col4\" >0.457278</td>\n",
       "                        <td id=\"T_630a5_row40_col5\" class=\"data row40 col5\" >0.057372</td>\n",
       "                        <td id=\"T_630a5_row40_col6\" class=\"data row40 col6\" >0.518832</td>\n",
       "                        <td id=\"T_630a5_row40_col7\" class=\"data row40 col7\" >0.081030</td>\n",
       "                        <td id=\"T_630a5_row40_col8\" class=\"data row40 col8\" >0.493835</td>\n",
       "                        <td id=\"T_630a5_row40_col9\" class=\"data row40 col9\" >0.058887</td>\n",
       "                        <td id=\"T_630a5_row40_col10\" class=\"data row40 col10\" >0.507047</td>\n",
       "                        <td id=\"T_630a5_row40_col11\" class=\"data row40 col11\" >0.028612</td>\n",
       "                        <td id=\"T_630a5_row40_col12\" class=\"data row40 col12\" >0.227194</td>\n",
       "                        <td id=\"T_630a5_row40_col13\" class=\"data row40 col13\" >0.108573</td>\n",
       "                        <td id=\"T_630a5_row40_col14\" class=\"data row40 col14\" >-0.155539</td>\n",
       "                        <td id=\"T_630a5_row40_col15\" class=\"data row40 col15\" >-0.186090</td>\n",
       "                        <td id=\"T_630a5_row40_col16\" class=\"data row40 col16\" >-0.179392</td>\n",
       "                        <td id=\"T_630a5_row40_col17\" class=\"data row40 col17\" >0.231810</td>\n",
       "                        <td id=\"T_630a5_row40_col18\" class=\"data row40 col18\" >0.017193</td>\n",
       "                        <td id=\"T_630a5_row40_col19\" class=\"data row40 col19\" >0.056553</td>\n",
       "                        <td id=\"T_630a5_row40_col20\" class=\"data row40 col20\" >0.003698</td>\n",
       "                        <td id=\"T_630a5_row40_col21\" class=\"data row40 col21\" >0.042684</td>\n",
       "                        <td id=\"T_630a5_row40_col22\" class=\"data row40 col22\" >0.005592</td>\n",
       "                        <td id=\"T_630a5_row40_col23\" class=\"data row40 col23\" >-0.165085</td>\n",
       "                        <td id=\"T_630a5_row40_col24\" class=\"data row40 col24\" >0.241881</td>\n",
       "                        <td id=\"T_630a5_row40_col25\" class=\"data row40 col25\" >0.360563</td>\n",
       "                        <td id=\"T_630a5_row40_col26\" class=\"data row40 col26\" >0.273514</td>\n",
       "                        <td id=\"T_630a5_row40_col27\" class=\"data row40 col27\" >0.363658</td>\n",
       "                        <td id=\"T_630a5_row40_col28\" class=\"data row40 col28\" >0.286672</td>\n",
       "                        <td id=\"T_630a5_row40_col29\" class=\"data row40 col29\" >0.356549</td>\n",
       "                        <td id=\"T_630a5_row40_col30\" class=\"data row40 col30\" >0.366189</td>\n",
       "                        <td id=\"T_630a5_row40_col31\" class=\"data row40 col31\" >0.422233</td>\n",
       "                        <td id=\"T_630a5_row40_col32\" class=\"data row40 col32\" >0.331750</td>\n",
       "                        <td id=\"T_630a5_row40_col33\" class=\"data row40 col33\" >0.422930</td>\n",
       "                        <td id=\"T_630a5_row40_col34\" class=\"data row40 col34\" >0.425576</td>\n",
       "                        <td id=\"T_630a5_row40_col35\" class=\"data row40 col35\" >-0.016257</td>\n",
       "                        <td id=\"T_630a5_row40_col36\" class=\"data row40 col36\" >0.529610</td>\n",
       "                        <td id=\"T_630a5_row40_col37\" class=\"data row40 col37\" >-0.039173</td>\n",
       "                        <td id=\"T_630a5_row40_col38\" class=\"data row40 col38\" >0.906338</td>\n",
       "                        <td id=\"T_630a5_row40_col39\" class=\"data row40 col39\" >0.486991</td>\n",
       "                        <td id=\"T_630a5_row40_col40\" class=\"data row40 col40\" >1.000000</td>\n",
       "                        <td id=\"T_630a5_row40_col41\" class=\"data row40 col41\" >0.467689</td>\n",
       "                        <td id=\"T_630a5_row40_col42\" class=\"data row40 col42\" >0.480531</td>\n",
       "                        <td id=\"T_630a5_row40_col43\" class=\"data row40 col43\" >0.073603</td>\n",
       "                        <td id=\"T_630a5_row40_col44\" class=\"data row40 col44\" >0.534658</td>\n",
       "                        <td id=\"T_630a5_row40_col45\" class=\"data row40 col45\" >-0.188031</td>\n",
       "                        <td id=\"T_630a5_row40_col46\" class=\"data row40 col46\" >0.462017</td>\n",
       "                        <td id=\"T_630a5_row40_col47\" class=\"data row40 col47\" >0.174008</td>\n",
       "                        <td id=\"T_630a5_row40_col48\" class=\"data row40 col48\" >0.641391</td>\n",
       "                        <td id=\"T_630a5_row40_col49\" class=\"data row40 col49\" >0.089819</td>\n",
       "                        <td id=\"T_630a5_row40_col50\" class=\"data row40 col50\" >0.395344</td>\n",
       "                        <td id=\"T_630a5_row40_col51\" class=\"data row40 col51\" >0.114933</td>\n",
       "            </tr>\n",
       "            <tr>\n",
       "                        <th id=\"T_630a5_level0_row41\" class=\"row_heading level0 row41\" >secondary_cleaner.state.floatbank3_b_level</th>\n",
       "                        <td id=\"T_630a5_row41_col0\" class=\"data row41 col0\" >0.020321</td>\n",
       "                        <td id=\"T_630a5_row41_col1\" class=\"data row41 col1\" >0.109505</td>\n",
       "                        <td id=\"T_630a5_row41_col2\" class=\"data row41 col2\" >0.025709</td>\n",
       "                        <td id=\"T_630a5_row41_col3\" class=\"data row41 col3\" >-0.008513</td>\n",
       "                        <td id=\"T_630a5_row41_col4\" class=\"data row41 col4\" >-0.007847</td>\n",
       "                        <td id=\"T_630a5_row41_col5\" class=\"data row41 col5\" >0.053060</td>\n",
       "                        <td id=\"T_630a5_row41_col6\" class=\"data row41 col6\" >0.008616</td>\n",
       "                        <td id=\"T_630a5_row41_col7\" class=\"data row41 col7\" >0.100982</td>\n",
       "                        <td id=\"T_630a5_row41_col8\" class=\"data row41 col8\" >-0.000623</td>\n",
       "                        <td id=\"T_630a5_row41_col9\" class=\"data row41 col9\" >0.050184</td>\n",
       "                        <td id=\"T_630a5_row41_col10\" class=\"data row41 col10\" >0.008843</td>\n",
       "                        <td id=\"T_630a5_row41_col11\" class=\"data row41 col11\" >0.025846</td>\n",
       "                        <td id=\"T_630a5_row41_col12\" class=\"data row41 col12\" >-0.031011</td>\n",
       "                        <td id=\"T_630a5_row41_col13\" class=\"data row41 col13\" >0.111390</td>\n",
       "                        <td id=\"T_630a5_row41_col14\" class=\"data row41 col14\" >0.103763</td>\n",
       "                        <td id=\"T_630a5_row41_col15\" class=\"data row41 col15\" >0.095161</td>\n",
       "                        <td id=\"T_630a5_row41_col16\" class=\"data row41 col16\" >0.130127</td>\n",
       "                        <td id=\"T_630a5_row41_col17\" class=\"data row41 col17\" >0.008094</td>\n",
       "                        <td id=\"T_630a5_row41_col18\" class=\"data row41 col18\" >0.040709</td>\n",
       "                        <td id=\"T_630a5_row41_col19\" class=\"data row41 col19\" >0.086418</td>\n",
       "                        <td id=\"T_630a5_row41_col20\" class=\"data row41 col20\" >0.073755</td>\n",
       "                        <td id=\"T_630a5_row41_col21\" class=\"data row41 col21\" >0.135455</td>\n",
       "                        <td id=\"T_630a5_row41_col22\" class=\"data row41 col22\" >0.111040</td>\n",
       "                        <td id=\"T_630a5_row41_col23\" class=\"data row41 col23\" >0.177207</td>\n",
       "                        <td id=\"T_630a5_row41_col24\" class=\"data row41 col24\" >-0.019328</td>\n",
       "                        <td id=\"T_630a5_row41_col25\" class=\"data row41 col25\" >-0.083904</td>\n",
       "                        <td id=\"T_630a5_row41_col26\" class=\"data row41 col26\" >-0.033907</td>\n",
       "                        <td id=\"T_630a5_row41_col27\" class=\"data row41 col27\" >-0.085391</td>\n",
       "                        <td id=\"T_630a5_row41_col28\" class=\"data row41 col28\" >-0.049899</td>\n",
       "                        <td id=\"T_630a5_row41_col29\" class=\"data row41 col29\" >-0.089377</td>\n",
       "                        <td id=\"T_630a5_row41_col30\" class=\"data row41 col30\" >0.039037</td>\n",
       "                        <td id=\"T_630a5_row41_col31\" class=\"data row41 col31\" >-0.059130</td>\n",
       "                        <td id=\"T_630a5_row41_col32\" class=\"data row41 col32\" >0.084503</td>\n",
       "                        <td id=\"T_630a5_row41_col33\" class=\"data row41 col33\" >-0.053534</td>\n",
       "                        <td id=\"T_630a5_row41_col34\" class=\"data row41 col34\" >0.026951</td>\n",
       "                        <td id=\"T_630a5_row41_col35\" class=\"data row41 col35\" >-0.015118</td>\n",
       "                        <td id=\"T_630a5_row41_col36\" class=\"data row41 col36\" >-0.044418</td>\n",
       "                        <td id=\"T_630a5_row41_col37\" class=\"data row41 col37\" >-0.024777</td>\n",
       "                        <td id=\"T_630a5_row41_col38\" class=\"data row41 col38\" >0.575131</td>\n",
       "                        <td id=\"T_630a5_row41_col39\" class=\"data row41 col39\" >0.906088</td>\n",
       "                        <td id=\"T_630a5_row41_col40\" class=\"data row41 col40\" >0.467689</td>\n",
       "                        <td id=\"T_630a5_row41_col41\" class=\"data row41 col41\" >1.000000</td>\n",
       "                        <td id=\"T_630a5_row41_col42\" class=\"data row41 col42\" >-0.048674</td>\n",
       "                        <td id=\"T_630a5_row41_col43\" class=\"data row41 col43\" >0.003195</td>\n",
       "                        <td id=\"T_630a5_row41_col44\" class=\"data row41 col44\" >-0.061874</td>\n",
       "                        <td id=\"T_630a5_row41_col45\" class=\"data row41 col45\" >0.035838</td>\n",
       "                        <td id=\"T_630a5_row41_col46\" class=\"data row41 col46\" >-0.174450</td>\n",
       "                        <td id=\"T_630a5_row41_col47\" class=\"data row41 col47\" >0.189707</td>\n",
       "                        <td id=\"T_630a5_row41_col48\" class=\"data row41 col48\" >-0.061240</td>\n",
       "                        <td id=\"T_630a5_row41_col49\" class=\"data row41 col49\" >0.049728</td>\n",
       "                        <td id=\"T_630a5_row41_col50\" class=\"data row41 col50\" >-0.144723</td>\n",
       "                        <td id=\"T_630a5_row41_col51\" class=\"data row41 col51\" >0.076089</td>\n",
       "            </tr>\n",
       "            <tr>\n",
       "                        <th id=\"T_630a5_level0_row42\" class=\"row_heading level0 row42\" >secondary_cleaner.state.floatbank4_a_air</th>\n",
       "                        <td id=\"T_630a5_row42_col0\" class=\"data row42 col0\" >0.305068</td>\n",
       "                        <td id=\"T_630a5_row42_col1\" class=\"data row42 col1\" >0.321422</td>\n",
       "                        <td id=\"T_630a5_row42_col2\" class=\"data row42 col2\" >-0.148328</td>\n",
       "                        <td id=\"T_630a5_row42_col3\" class=\"data row42 col3\" >0.313515</td>\n",
       "                        <td id=\"T_630a5_row42_col4\" class=\"data row42 col4\" >0.469180</td>\n",
       "                        <td id=\"T_630a5_row42_col5\" class=\"data row42 col5\" >0.171716</td>\n",
       "                        <td id=\"T_630a5_row42_col6\" class=\"data row42 col6\" >0.483741</td>\n",
       "                        <td id=\"T_630a5_row42_col7\" class=\"data row42 col7\" >0.078411</td>\n",
       "                        <td id=\"T_630a5_row42_col8\" class=\"data row42 col8\" >0.366373</td>\n",
       "                        <td id=\"T_630a5_row42_col9\" class=\"data row42 col9\" >0.151945</td>\n",
       "                        <td id=\"T_630a5_row42_col10\" class=\"data row42 col10\" >0.485859</td>\n",
       "                        <td id=\"T_630a5_row42_col11\" class=\"data row42 col11\" >0.053297</td>\n",
       "                        <td id=\"T_630a5_row42_col12\" class=\"data row42 col12\" >0.167571</td>\n",
       "                        <td id=\"T_630a5_row42_col13\" class=\"data row42 col13\" >0.114111</td>\n",
       "                        <td id=\"T_630a5_row42_col14\" class=\"data row42 col14\" >0.169978</td>\n",
       "                        <td id=\"T_630a5_row42_col15\" class=\"data row42 col15\" >0.127876</td>\n",
       "                        <td id=\"T_630a5_row42_col16\" class=\"data row42 col16\" >0.146671</td>\n",
       "                        <td id=\"T_630a5_row42_col17\" class=\"data row42 col17\" >0.165834</td>\n",
       "                        <td id=\"T_630a5_row42_col18\" class=\"data row42 col18\" >0.306822</td>\n",
       "                        <td id=\"T_630a5_row42_col19\" class=\"data row42 col19\" >0.240843</td>\n",
       "                        <td id=\"T_630a5_row42_col20\" class=\"data row42 col20\" >0.277188</td>\n",
       "                        <td id=\"T_630a5_row42_col21\" class=\"data row42 col21\" >0.214027</td>\n",
       "                        <td id=\"T_630a5_row42_col22\" class=\"data row42 col22\" >0.296594</td>\n",
       "                        <td id=\"T_630a5_row42_col23\" class=\"data row42 col23\" >0.207514</td>\n",
       "                        <td id=\"T_630a5_row42_col24\" class=\"data row42 col24\" >-0.171947</td>\n",
       "                        <td id=\"T_630a5_row42_col25\" class=\"data row42 col25\" >0.067727</td>\n",
       "                        <td id=\"T_630a5_row42_col26\" class=\"data row42 col26\" >-0.168834</td>\n",
       "                        <td id=\"T_630a5_row42_col27\" class=\"data row42 col27\" >0.068885</td>\n",
       "                        <td id=\"T_630a5_row42_col28\" class=\"data row42 col28\" >-0.173221</td>\n",
       "                        <td id=\"T_630a5_row42_col29\" class=\"data row42 col29\" >0.072947</td>\n",
       "                        <td id=\"T_630a5_row42_col30\" class=\"data row42 col30\" >0.018780</td>\n",
       "                        <td id=\"T_630a5_row42_col31\" class=\"data row42 col31\" >0.150501</td>\n",
       "                        <td id=\"T_630a5_row42_col32\" class=\"data row42 col32\" >0.043791</td>\n",
       "                        <td id=\"T_630a5_row42_col33\" class=\"data row42 col33\" >0.168028</td>\n",
       "                        <td id=\"T_630a5_row42_col34\" class=\"data row42 col34\" >0.394394</td>\n",
       "                        <td id=\"T_630a5_row42_col35\" class=\"data row42 col35\" >-0.076507</td>\n",
       "                        <td id=\"T_630a5_row42_col36\" class=\"data row42 col36\" >0.637334</td>\n",
       "                        <td id=\"T_630a5_row42_col37\" class=\"data row42 col37\" >-0.062850</td>\n",
       "                        <td id=\"T_630a5_row42_col38\" class=\"data row42 col38\" >0.413034</td>\n",
       "                        <td id=\"T_630a5_row42_col39\" class=\"data row42 col39\" >-0.067846</td>\n",
       "                        <td id=\"T_630a5_row42_col40\" class=\"data row42 col40\" >0.480531</td>\n",
       "                        <td id=\"T_630a5_row42_col41\" class=\"data row42 col41\" >-0.048674</td>\n",
       "                        <td id=\"T_630a5_row42_col42\" class=\"data row42 col42\" >1.000000</td>\n",
       "                        <td id=\"T_630a5_row42_col43\" class=\"data row42 col43\" >0.346120</td>\n",
       "                        <td id=\"T_630a5_row42_col44\" class=\"data row42 col44\" >0.925344</td>\n",
       "                        <td id=\"T_630a5_row42_col45\" class=\"data row42 col45\" >0.256080</td>\n",
       "                        <td id=\"T_630a5_row42_col46\" class=\"data row42 col46\" >0.523977</td>\n",
       "                        <td id=\"T_630a5_row42_col47\" class=\"data row42 col47\" >0.221838</td>\n",
       "                        <td id=\"T_630a5_row42_col48\" class=\"data row42 col48\" >0.630029</td>\n",
       "                        <td id=\"T_630a5_row42_col49\" class=\"data row42 col49\" >0.132053</td>\n",
       "                        <td id=\"T_630a5_row42_col50\" class=\"data row42 col50\" >0.082357</td>\n",
       "                        <td id=\"T_630a5_row42_col51\" class=\"data row42 col51\" >0.145112</td>\n",
       "            </tr>\n",
       "            <tr>\n",
       "                        <th id=\"T_630a5_level0_row43\" class=\"row_heading level0 row43\" >secondary_cleaner.state.floatbank4_a_level</th>\n",
       "                        <td id=\"T_630a5_row43_col0\" class=\"data row43 col0\" >0.116753</td>\n",
       "                        <td id=\"T_630a5_row43_col1\" class=\"data row43 col1\" >0.108111</td>\n",
       "                        <td id=\"T_630a5_row43_col2\" class=\"data row43 col2\" >-0.121148</td>\n",
       "                        <td id=\"T_630a5_row43_col3\" class=\"data row43 col3\" >0.131815</td>\n",
       "                        <td id=\"T_630a5_row43_col4\" class=\"data row43 col4\" >0.005962</td>\n",
       "                        <td id=\"T_630a5_row43_col5\" class=\"data row43 col5\" >0.096500</td>\n",
       "                        <td id=\"T_630a5_row43_col6\" class=\"data row43 col6\" >0.023801</td>\n",
       "                        <td id=\"T_630a5_row43_col7\" class=\"data row43 col7\" >0.216342</td>\n",
       "                        <td id=\"T_630a5_row43_col8\" class=\"data row43 col8\" >0.047373</td>\n",
       "                        <td id=\"T_630a5_row43_col9\" class=\"data row43 col9\" >0.093293</td>\n",
       "                        <td id=\"T_630a5_row43_col10\" class=\"data row43 col10\" >0.022615</td>\n",
       "                        <td id=\"T_630a5_row43_col11\" class=\"data row43 col11\" >0.043851</td>\n",
       "                        <td id=\"T_630a5_row43_col12\" class=\"data row43 col12\" >-0.069478</td>\n",
       "                        <td id=\"T_630a5_row43_col13\" class=\"data row43 col13\" >-0.004391</td>\n",
       "                        <td id=\"T_630a5_row43_col14\" class=\"data row43 col14\" >0.123496</td>\n",
       "                        <td id=\"T_630a5_row43_col15\" class=\"data row43 col15\" >0.062334</td>\n",
       "                        <td id=\"T_630a5_row43_col16\" class=\"data row43 col16\" >0.065137</td>\n",
       "                        <td id=\"T_630a5_row43_col17\" class=\"data row43 col17\" >-0.039397</td>\n",
       "                        <td id=\"T_630a5_row43_col18\" class=\"data row43 col18\" >0.163263</td>\n",
       "                        <td id=\"T_630a5_row43_col19\" class=\"data row43 col19\" >0.070772</td>\n",
       "                        <td id=\"T_630a5_row43_col20\" class=\"data row43 col20\" >0.191199</td>\n",
       "                        <td id=\"T_630a5_row43_col21\" class=\"data row43 col21\" >0.099220</td>\n",
       "                        <td id=\"T_630a5_row43_col22\" class=\"data row43 col22\" >0.087591</td>\n",
       "                        <td id=\"T_630a5_row43_col23\" class=\"data row43 col23\" >0.131345</td>\n",
       "                        <td id=\"T_630a5_row43_col24\" class=\"data row43 col24\" >0.009334</td>\n",
       "                        <td id=\"T_630a5_row43_col25\" class=\"data row43 col25\" >0.010268</td>\n",
       "                        <td id=\"T_630a5_row43_col26\" class=\"data row43 col26\" >-0.010049</td>\n",
       "                        <td id=\"T_630a5_row43_col27\" class=\"data row43 col27\" >0.011038</td>\n",
       "                        <td id=\"T_630a5_row43_col28\" class=\"data row43 col28\" >0.025358</td>\n",
       "                        <td id=\"T_630a5_row43_col29\" class=\"data row43 col29\" >-0.013329</td>\n",
       "                        <td id=\"T_630a5_row43_col30\" class=\"data row43 col30\" >-0.034684</td>\n",
       "                        <td id=\"T_630a5_row43_col31\" class=\"data row43 col31\" >0.006505</td>\n",
       "                        <td id=\"T_630a5_row43_col32\" class=\"data row43 col32\" >0.025162</td>\n",
       "                        <td id=\"T_630a5_row43_col33\" class=\"data row43 col33\" >0.024309</td>\n",
       "                        <td id=\"T_630a5_row43_col34\" class=\"data row43 col34\" >0.181484</td>\n",
       "                        <td id=\"T_630a5_row43_col35\" class=\"data row43 col35\" >0.029511</td>\n",
       "                        <td id=\"T_630a5_row43_col36\" class=\"data row43 col36\" >0.182724</td>\n",
       "                        <td id=\"T_630a5_row43_col37\" class=\"data row43 col37\" >0.030289</td>\n",
       "                        <td id=\"T_630a5_row43_col38\" class=\"data row43 col38\" >0.051117</td>\n",
       "                        <td id=\"T_630a5_row43_col39\" class=\"data row43 col39\" >0.007752</td>\n",
       "                        <td id=\"T_630a5_row43_col40\" class=\"data row43 col40\" >0.073603</td>\n",
       "                        <td id=\"T_630a5_row43_col41\" class=\"data row43 col41\" >0.003195</td>\n",
       "                        <td id=\"T_630a5_row43_col42\" class=\"data row43 col42\" >0.346120</td>\n",
       "                        <td id=\"T_630a5_row43_col43\" class=\"data row43 col43\" >1.000000</td>\n",
       "                        <td id=\"T_630a5_row43_col44\" class=\"data row43 col44\" >0.291668</td>\n",
       "                        <td id=\"T_630a5_row43_col45\" class=\"data row43 col45\" >0.322602</td>\n",
       "                        <td id=\"T_630a5_row43_col46\" class=\"data row43 col46\" >0.139509</td>\n",
       "                        <td id=\"T_630a5_row43_col47\" class=\"data row43 col47\" >0.129475</td>\n",
       "                        <td id=\"T_630a5_row43_col48\" class=\"data row43 col48\" >0.196989</td>\n",
       "                        <td id=\"T_630a5_row43_col49\" class=\"data row43 col49\" >0.038650</td>\n",
       "                        <td id=\"T_630a5_row43_col50\" class=\"data row43 col50\" >0.027717</td>\n",
       "                        <td id=\"T_630a5_row43_col51\" class=\"data row43 col51\" >0.028501</td>\n",
       "            </tr>\n",
       "            <tr>\n",
       "                        <th id=\"T_630a5_level0_row44\" class=\"row_heading level0 row44\" >secondary_cleaner.state.floatbank4_b_air</th>\n",
       "                        <td id=\"T_630a5_row44_col0\" class=\"data row44 col0\" >0.347817</td>\n",
       "                        <td id=\"T_630a5_row44_col1\" class=\"data row44 col1\" >0.234910</td>\n",
       "                        <td id=\"T_630a5_row44_col2\" class=\"data row44 col2\" >-0.173658</td>\n",
       "                        <td id=\"T_630a5_row44_col3\" class=\"data row44 col3\" >0.361214</td>\n",
       "                        <td id=\"T_630a5_row44_col4\" class=\"data row44 col4\" >0.476742</td>\n",
       "                        <td id=\"T_630a5_row44_col5\" class=\"data row44 col5\" >0.084418</td>\n",
       "                        <td id=\"T_630a5_row44_col6\" class=\"data row44 col6\" >0.487327</td>\n",
       "                        <td id=\"T_630a5_row44_col7\" class=\"data row44 col7\" >0.054902</td>\n",
       "                        <td id=\"T_630a5_row44_col8\" class=\"data row44 col8\" >0.396029</td>\n",
       "                        <td id=\"T_630a5_row44_col9\" class=\"data row44 col9\" >0.071559</td>\n",
       "                        <td id=\"T_630a5_row44_col10\" class=\"data row44 col10\" >0.491643</td>\n",
       "                        <td id=\"T_630a5_row44_col11\" class=\"data row44 col11\" >0.001856</td>\n",
       "                        <td id=\"T_630a5_row44_col12\" class=\"data row44 col12\" >0.150561</td>\n",
       "                        <td id=\"T_630a5_row44_col13\" class=\"data row44 col13\" >0.138647</td>\n",
       "                        <td id=\"T_630a5_row44_col14\" class=\"data row44 col14\" >0.128504</td>\n",
       "                        <td id=\"T_630a5_row44_col15\" class=\"data row44 col15\" >0.037296</td>\n",
       "                        <td id=\"T_630a5_row44_col16\" class=\"data row44 col16\" >0.084524</td>\n",
       "                        <td id=\"T_630a5_row44_col17\" class=\"data row44 col17\" >0.160088</td>\n",
       "                        <td id=\"T_630a5_row44_col18\" class=\"data row44 col18\" >0.330181</td>\n",
       "                        <td id=\"T_630a5_row44_col19\" class=\"data row44 col19\" >0.187300</td>\n",
       "                        <td id=\"T_630a5_row44_col20\" class=\"data row44 col20\" >0.306050</td>\n",
       "                        <td id=\"T_630a5_row44_col21\" class=\"data row44 col21\" >0.160767</td>\n",
       "                        <td id=\"T_630a5_row44_col22\" class=\"data row44 col22\" >0.239912</td>\n",
       "                        <td id=\"T_630a5_row44_col23\" class=\"data row44 col23\" >0.116369</td>\n",
       "                        <td id=\"T_630a5_row44_col24\" class=\"data row44 col24\" >-0.099376</td>\n",
       "                        <td id=\"T_630a5_row44_col25\" class=\"data row44 col25\" >0.105702</td>\n",
       "                        <td id=\"T_630a5_row44_col26\" class=\"data row44 col26\" >-0.100264</td>\n",
       "                        <td id=\"T_630a5_row44_col27\" class=\"data row44 col27\" >0.104035</td>\n",
       "                        <td id=\"T_630a5_row44_col28\" class=\"data row44 col28\" >-0.084851</td>\n",
       "                        <td id=\"T_630a5_row44_col29\" class=\"data row44 col29\" >0.109479</td>\n",
       "                        <td id=\"T_630a5_row44_col30\" class=\"data row44 col30\" >0.067346</td>\n",
       "                        <td id=\"T_630a5_row44_col31\" class=\"data row44 col31\" >0.168247</td>\n",
       "                        <td id=\"T_630a5_row44_col32\" class=\"data row44 col32\" >0.084106</td>\n",
       "                        <td id=\"T_630a5_row44_col33\" class=\"data row44 col33\" >0.188557</td>\n",
       "                        <td id=\"T_630a5_row44_col34\" class=\"data row44 col34\" >0.375035</td>\n",
       "                        <td id=\"T_630a5_row44_col35\" class=\"data row44 col35\" >-0.097089</td>\n",
       "                        <td id=\"T_630a5_row44_col36\" class=\"data row44 col36\" >0.660157</td>\n",
       "                        <td id=\"T_630a5_row44_col37\" class=\"data row44 col37\" >-0.077545</td>\n",
       "                        <td id=\"T_630a5_row44_col38\" class=\"data row44 col38\" >0.434205</td>\n",
       "                        <td id=\"T_630a5_row44_col39\" class=\"data row44 col39\" >-0.088951</td>\n",
       "                        <td id=\"T_630a5_row44_col40\" class=\"data row44 col40\" >0.534658</td>\n",
       "                        <td id=\"T_630a5_row44_col41\" class=\"data row44 col41\" >-0.061874</td>\n",
       "                        <td id=\"T_630a5_row44_col42\" class=\"data row44 col42\" >0.925344</td>\n",
       "                        <td id=\"T_630a5_row44_col43\" class=\"data row44 col43\" >0.291668</td>\n",
       "                        <td id=\"T_630a5_row44_col44\" class=\"data row44 col44\" >1.000000</td>\n",
       "                        <td id=\"T_630a5_row44_col45\" class=\"data row44 col45\" >0.162442</td>\n",
       "                        <td id=\"T_630a5_row44_col46\" class=\"data row44 col46\" >0.621448</td>\n",
       "                        <td id=\"T_630a5_row44_col47\" class=\"data row44 col47\" >0.231617</td>\n",
       "                        <td id=\"T_630a5_row44_col48\" class=\"data row44 col48\" >0.690637</td>\n",
       "                        <td id=\"T_630a5_row44_col49\" class=\"data row44 col49\" >0.151066</td>\n",
       "                        <td id=\"T_630a5_row44_col50\" class=\"data row44 col50\" >0.188092</td>\n",
       "                        <td id=\"T_630a5_row44_col51\" class=\"data row44 col51\" >0.142336</td>\n",
       "            </tr>\n",
       "            <tr>\n",
       "                        <th id=\"T_630a5_level0_row45\" class=\"row_heading level0 row45\" >secondary_cleaner.state.floatbank4_b_level</th>\n",
       "                        <td id=\"T_630a5_row45_col0\" class=\"data row45 col0\" >0.067733</td>\n",
       "                        <td id=\"T_630a5_row45_col1\" class=\"data row45 col1\" >-0.087961</td>\n",
       "                        <td id=\"T_630a5_row45_col2\" class=\"data row45 col2\" >-0.137180</td>\n",
       "                        <td id=\"T_630a5_row45_col3\" class=\"data row45 col3\" >0.122248</td>\n",
       "                        <td id=\"T_630a5_row45_col4\" class=\"data row45 col4\" >-0.058593</td>\n",
       "                        <td id=\"T_630a5_row45_col5\" class=\"data row45 col5\" >-0.005819</td>\n",
       "                        <td id=\"T_630a5_row45_col6\" class=\"data row45 col6\" >-0.080058</td>\n",
       "                        <td id=\"T_630a5_row45_col7\" class=\"data row45 col7\" >-0.038440</td>\n",
       "                        <td id=\"T_630a5_row45_col8\" class=\"data row45 col8\" >-0.031081</td>\n",
       "                        <td id=\"T_630a5_row45_col9\" class=\"data row45 col9\" >-0.013814</td>\n",
       "                        <td id=\"T_630a5_row45_col10\" class=\"data row45 col10\" >-0.072571</td>\n",
       "                        <td id=\"T_630a5_row45_col11\" class=\"data row45 col11\" >-0.017416</td>\n",
       "                        <td id=\"T_630a5_row45_col12\" class=\"data row45 col12\" >-0.291577</td>\n",
       "                        <td id=\"T_630a5_row45_col13\" class=\"data row45 col13\" >-0.206534</td>\n",
       "                        <td id=\"T_630a5_row45_col14\" class=\"data row45 col14\" >0.357253</td>\n",
       "                        <td id=\"T_630a5_row45_col15\" class=\"data row45 col15\" >0.324755</td>\n",
       "                        <td id=\"T_630a5_row45_col16\" class=\"data row45 col16\" >0.407716</td>\n",
       "                        <td id=\"T_630a5_row45_col17\" class=\"data row45 col17\" >-0.266889</td>\n",
       "                        <td id=\"T_630a5_row45_col18\" class=\"data row45 col18\" >0.298407</td>\n",
       "                        <td id=\"T_630a5_row45_col19\" class=\"data row45 col19\" >0.163137</td>\n",
       "                        <td id=\"T_630a5_row45_col20\" class=\"data row45 col20\" >0.321607</td>\n",
       "                        <td id=\"T_630a5_row45_col21\" class=\"data row45 col21\" >0.203885</td>\n",
       "                        <td id=\"T_630a5_row45_col22\" class=\"data row45 col22\" >-0.123604</td>\n",
       "                        <td id=\"T_630a5_row45_col23\" class=\"data row45 col23\" >0.261028</td>\n",
       "                        <td id=\"T_630a5_row45_col24\" class=\"data row45 col24\" >-0.213919</td>\n",
       "                        <td id=\"T_630a5_row45_col25\" class=\"data row45 col25\" >-0.213382</td>\n",
       "                        <td id=\"T_630a5_row45_col26\" class=\"data row45 col26\" >-0.229330</td>\n",
       "                        <td id=\"T_630a5_row45_col27\" class=\"data row45 col27\" >-0.217125</td>\n",
       "                        <td id=\"T_630a5_row45_col28\" class=\"data row45 col28\" >-0.262495</td>\n",
       "                        <td id=\"T_630a5_row45_col29\" class=\"data row45 col29\" >-0.220828</td>\n",
       "                        <td id=\"T_630a5_row45_col30\" class=\"data row45 col30\" >-0.169546</td>\n",
       "                        <td id=\"T_630a5_row45_col31\" class=\"data row45 col31\" >-0.214266</td>\n",
       "                        <td id=\"T_630a5_row45_col32\" class=\"data row45 col32\" >-0.112751</td>\n",
       "                        <td id=\"T_630a5_row45_col33\" class=\"data row45 col33\" >-0.210791</td>\n",
       "                        <td id=\"T_630a5_row45_col34\" class=\"data row45 col34\" >-0.007873</td>\n",
       "                        <td id=\"T_630a5_row45_col35\" class=\"data row45 col35\" >-0.016680</td>\n",
       "                        <td id=\"T_630a5_row45_col36\" class=\"data row45 col36\" >0.000320</td>\n",
       "                        <td id=\"T_630a5_row45_col37\" class=\"data row45 col37\" >0.013354</td>\n",
       "                        <td id=\"T_630a5_row45_col38\" class=\"data row45 col38\" >-0.059103</td>\n",
       "                        <td id=\"T_630a5_row45_col39\" class=\"data row45 col39\" >0.018798</td>\n",
       "                        <td id=\"T_630a5_row45_col40\" class=\"data row45 col40\" >-0.188031</td>\n",
       "                        <td id=\"T_630a5_row45_col41\" class=\"data row45 col41\" >0.035838</td>\n",
       "                        <td id=\"T_630a5_row45_col42\" class=\"data row45 col42\" >0.256080</td>\n",
       "                        <td id=\"T_630a5_row45_col43\" class=\"data row45 col43\" >0.322602</td>\n",
       "                        <td id=\"T_630a5_row45_col44\" class=\"data row45 col44\" >0.162442</td>\n",
       "                        <td id=\"T_630a5_row45_col45\" class=\"data row45 col45\" >1.000000</td>\n",
       "                        <td id=\"T_630a5_row45_col46\" class=\"data row45 col46\" >-0.107707</td>\n",
       "                        <td id=\"T_630a5_row45_col47\" class=\"data row45 col47\" >0.147114</td>\n",
       "                        <td id=\"T_630a5_row45_col48\" class=\"data row45 col48\" >-0.061246</td>\n",
       "                        <td id=\"T_630a5_row45_col49\" class=\"data row45 col49\" >0.085526</td>\n",
       "                        <td id=\"T_630a5_row45_col50\" class=\"data row45 col50\" >-0.336132</td>\n",
       "                        <td id=\"T_630a5_row45_col51\" class=\"data row45 col51\" >0.046965</td>\n",
       "            </tr>\n",
       "            <tr>\n",
       "                        <th id=\"T_630a5_level0_row46\" class=\"row_heading level0 row46\" >secondary_cleaner.state.floatbank5_a_air</th>\n",
       "                        <td id=\"T_630a5_row46_col0\" class=\"data row46 col0\" >0.093433</td>\n",
       "                        <td id=\"T_630a5_row46_col1\" class=\"data row46 col1\" >-0.092530</td>\n",
       "                        <td id=\"T_630a5_row46_col2\" class=\"data row46 col2\" >-0.192880</td>\n",
       "                        <td id=\"T_630a5_row46_col3\" class=\"data row46 col3\" >0.059953</td>\n",
       "                        <td id=\"T_630a5_row46_col4\" class=\"data row46 col4\" >0.408050</td>\n",
       "                        <td id=\"T_630a5_row46_col5\" class=\"data row46 col5\" >-0.036132</td>\n",
       "                        <td id=\"T_630a5_row46_col6\" class=\"data row46 col6\" >0.415343</td>\n",
       "                        <td id=\"T_630a5_row46_col7\" class=\"data row46 col7\" >-0.009671</td>\n",
       "                        <td id=\"T_630a5_row46_col8\" class=\"data row46 col8\" >0.400765</td>\n",
       "                        <td id=\"T_630a5_row46_col9\" class=\"data row46 col9\" >-0.018878</td>\n",
       "                        <td id=\"T_630a5_row46_col10\" class=\"data row46 col10\" >0.412552</td>\n",
       "                        <td id=\"T_630a5_row46_col11\" class=\"data row46 col11\" >0.008748</td>\n",
       "                        <td id=\"T_630a5_row46_col12\" class=\"data row46 col12\" >-0.033441</td>\n",
       "                        <td id=\"T_630a5_row46_col13\" class=\"data row46 col13\" >-0.068303</td>\n",
       "                        <td id=\"T_630a5_row46_col14\" class=\"data row46 col14\" >-0.137284</td>\n",
       "                        <td id=\"T_630a5_row46_col15\" class=\"data row46 col15\" >-0.117026</td>\n",
       "                        <td id=\"T_630a5_row46_col16\" class=\"data row46 col16\" >-0.226731</td>\n",
       "                        <td id=\"T_630a5_row46_col17\" class=\"data row46 col17\" >-0.037379</td>\n",
       "                        <td id=\"T_630a5_row46_col18\" class=\"data row46 col18\" >0.041357</td>\n",
       "                        <td id=\"T_630a5_row46_col19\" class=\"data row46 col19\" >-0.141634</td>\n",
       "                        <td id=\"T_630a5_row46_col20\" class=\"data row46 col20\" >0.069535</td>\n",
       "                        <td id=\"T_630a5_row46_col21\" class=\"data row46 col21\" >-0.136782</td>\n",
       "                        <td id=\"T_630a5_row46_col22\" class=\"data row46 col22\" >-0.043592</td>\n",
       "                        <td id=\"T_630a5_row46_col23\" class=\"data row46 col23\" >-0.130661</td>\n",
       "                        <td id=\"T_630a5_row46_col24\" class=\"data row46 col24\" >0.351196</td>\n",
       "                        <td id=\"T_630a5_row46_col25\" class=\"data row46 col25\" >0.177808</td>\n",
       "                        <td id=\"T_630a5_row46_col26\" class=\"data row46 col26\" >0.334076</td>\n",
       "                        <td id=\"T_630a5_row46_col27\" class=\"data row46 col27\" >0.172000</td>\n",
       "                        <td id=\"T_630a5_row46_col28\" class=\"data row46 col28\" >0.368140</td>\n",
       "                        <td id=\"T_630a5_row46_col29\" class=\"data row46 col29\" >0.148741</td>\n",
       "                        <td id=\"T_630a5_row46_col30\" class=\"data row46 col30\" >0.395027</td>\n",
       "                        <td id=\"T_630a5_row46_col31\" class=\"data row46 col31\" >0.264139</td>\n",
       "                        <td id=\"T_630a5_row46_col32\" class=\"data row46 col32\" >0.409527</td>\n",
       "                        <td id=\"T_630a5_row46_col33\" class=\"data row46 col33\" >0.261930</td>\n",
       "                        <td id=\"T_630a5_row46_col34\" class=\"data row46 col34\" >0.364503</td>\n",
       "                        <td id=\"T_630a5_row46_col35\" class=\"data row46 col35\" >-0.013389</td>\n",
       "                        <td id=\"T_630a5_row46_col36\" class=\"data row46 col36\" >0.511434</td>\n",
       "                        <td id=\"T_630a5_row46_col37\" class=\"data row46 col37\" >-0.020293</td>\n",
       "                        <td id=\"T_630a5_row46_col38\" class=\"data row46 col38\" >0.313944</td>\n",
       "                        <td id=\"T_630a5_row46_col39\" class=\"data row46 col39\" >-0.197216</td>\n",
       "                        <td id=\"T_630a5_row46_col40\" class=\"data row46 col40\" >0.462017</td>\n",
       "                        <td id=\"T_630a5_row46_col41\" class=\"data row46 col41\" >-0.174450</td>\n",
       "                        <td id=\"T_630a5_row46_col42\" class=\"data row46 col42\" >0.523977</td>\n",
       "                        <td id=\"T_630a5_row46_col43\" class=\"data row46 col43\" >0.139509</td>\n",
       "                        <td id=\"T_630a5_row46_col44\" class=\"data row46 col44\" >0.621448</td>\n",
       "                        <td id=\"T_630a5_row46_col45\" class=\"data row46 col45\" >-0.107707</td>\n",
       "                        <td id=\"T_630a5_row46_col46\" class=\"data row46 col46\" >1.000000</td>\n",
       "                        <td id=\"T_630a5_row46_col47\" class=\"data row46 col47\" >0.159737</td>\n",
       "                        <td id=\"T_630a5_row46_col48\" class=\"data row46 col48\" >0.839300</td>\n",
       "                        <td id=\"T_630a5_row46_col49\" class=\"data row46 col49\" >0.097730</td>\n",
       "                        <td id=\"T_630a5_row46_col50\" class=\"data row46 col50\" >0.508881</td>\n",
       "                        <td id=\"T_630a5_row46_col51\" class=\"data row46 col51\" >0.080659</td>\n",
       "            </tr>\n",
       "            <tr>\n",
       "                        <th id=\"T_630a5_level0_row47\" class=\"row_heading level0 row47\" >secondary_cleaner.state.floatbank5_a_level</th>\n",
       "                        <td id=\"T_630a5_row47_col0\" class=\"data row47 col0\" >0.127277</td>\n",
       "                        <td id=\"T_630a5_row47_col1\" class=\"data row47 col1\" >-0.001364</td>\n",
       "                        <td id=\"T_630a5_row47_col2\" class=\"data row47 col2\" >-0.059167</td>\n",
       "                        <td id=\"T_630a5_row47_col3\" class=\"data row47 col3\" >0.128417</td>\n",
       "                        <td id=\"T_630a5_row47_col4\" class=\"data row47 col4\" >0.271547</td>\n",
       "                        <td id=\"T_630a5_row47_col5\" class=\"data row47 col5\" >0.164220</td>\n",
       "                        <td id=\"T_630a5_row47_col6\" class=\"data row47 col6\" >0.260220</td>\n",
       "                        <td id=\"T_630a5_row47_col7\" class=\"data row47 col7\" >0.029409</td>\n",
       "                        <td id=\"T_630a5_row47_col8\" class=\"data row47 col8\" >0.239333</td>\n",
       "                        <td id=\"T_630a5_row47_col9\" class=\"data row47 col9\" >0.143313</td>\n",
       "                        <td id=\"T_630a5_row47_col10\" class=\"data row47 col10\" >0.259882</td>\n",
       "                        <td id=\"T_630a5_row47_col11\" class=\"data row47 col11\" >0.078442</td>\n",
       "                        <td id=\"T_630a5_row47_col12\" class=\"data row47 col12\" >-0.011144</td>\n",
       "                        <td id=\"T_630a5_row47_col13\" class=\"data row47 col13\" >0.052358</td>\n",
       "                        <td id=\"T_630a5_row47_col14\" class=\"data row47 col14\" >0.089104</td>\n",
       "                        <td id=\"T_630a5_row47_col15\" class=\"data row47 col15\" >0.042609</td>\n",
       "                        <td id=\"T_630a5_row47_col16\" class=\"data row47 col16\" >0.089657</td>\n",
       "                        <td id=\"T_630a5_row47_col17\" class=\"data row47 col17\" >0.016553</td>\n",
       "                        <td id=\"T_630a5_row47_col18\" class=\"data row47 col18\" >0.084638</td>\n",
       "                        <td id=\"T_630a5_row47_col19\" class=\"data row47 col19\" >0.130590</td>\n",
       "                        <td id=\"T_630a5_row47_col20\" class=\"data row47 col20\" >0.111017</td>\n",
       "                        <td id=\"T_630a5_row47_col21\" class=\"data row47 col21\" >0.153905</td>\n",
       "                        <td id=\"T_630a5_row47_col22\" class=\"data row47 col22\" >0.105358</td>\n",
       "                        <td id=\"T_630a5_row47_col23\" class=\"data row47 col23\" >0.119156</td>\n",
       "                        <td id=\"T_630a5_row47_col24\" class=\"data row47 col24\" >0.116437</td>\n",
       "                        <td id=\"T_630a5_row47_col25\" class=\"data row47 col25\" >0.089507</td>\n",
       "                        <td id=\"T_630a5_row47_col26\" class=\"data row47 col26\" >0.092861</td>\n",
       "                        <td id=\"T_630a5_row47_col27\" class=\"data row47 col27\" >0.078225</td>\n",
       "                        <td id=\"T_630a5_row47_col28\" class=\"data row47 col28\" >0.060210</td>\n",
       "                        <td id=\"T_630a5_row47_col29\" class=\"data row47 col29\" >0.048372</td>\n",
       "                        <td id=\"T_630a5_row47_col30\" class=\"data row47 col30\" >0.087056</td>\n",
       "                        <td id=\"T_630a5_row47_col31\" class=\"data row47 col31\" >0.050704</td>\n",
       "                        <td id=\"T_630a5_row47_col32\" class=\"data row47 col32\" >0.085782</td>\n",
       "                        <td id=\"T_630a5_row47_col33\" class=\"data row47 col33\" >0.066304</td>\n",
       "                        <td id=\"T_630a5_row47_col34\" class=\"data row47 col34\" >0.161537</td>\n",
       "                        <td id=\"T_630a5_row47_col35\" class=\"data row47 col35\" >0.077666</td>\n",
       "                        <td id=\"T_630a5_row47_col36\" class=\"data row47 col36\" >0.227661</td>\n",
       "                        <td id=\"T_630a5_row47_col37\" class=\"data row47 col37\" >0.078675</td>\n",
       "                        <td id=\"T_630a5_row47_col38\" class=\"data row47 col38\" >0.185076</td>\n",
       "                        <td id=\"T_630a5_row47_col39\" class=\"data row47 col39\" >0.045148</td>\n",
       "                        <td id=\"T_630a5_row47_col40\" class=\"data row47 col40\" >0.174008</td>\n",
       "                        <td id=\"T_630a5_row47_col41\" class=\"data row47 col41\" >0.189707</td>\n",
       "                        <td id=\"T_630a5_row47_col42\" class=\"data row47 col42\" >0.221838</td>\n",
       "                        <td id=\"T_630a5_row47_col43\" class=\"data row47 col43\" >0.129475</td>\n",
       "                        <td id=\"T_630a5_row47_col44\" class=\"data row47 col44\" >0.231617</td>\n",
       "                        <td id=\"T_630a5_row47_col45\" class=\"data row47 col45\" >0.147114</td>\n",
       "                        <td id=\"T_630a5_row47_col46\" class=\"data row47 col46\" >0.159737</td>\n",
       "                        <td id=\"T_630a5_row47_col47\" class=\"data row47 col47\" >1.000000</td>\n",
       "                        <td id=\"T_630a5_row47_col48\" class=\"data row47 col48\" >0.224178</td>\n",
       "                        <td id=\"T_630a5_row47_col49\" class=\"data row47 col49\" >0.516684</td>\n",
       "                        <td id=\"T_630a5_row47_col50\" class=\"data row47 col50\" >-0.013499</td>\n",
       "                        <td id=\"T_630a5_row47_col51\" class=\"data row47 col51\" >0.404586</td>\n",
       "            </tr>\n",
       "            <tr>\n",
       "                        <th id=\"T_630a5_level0_row48\" class=\"row_heading level0 row48\" >secondary_cleaner.state.floatbank5_b_air</th>\n",
       "                        <td id=\"T_630a5_row48_col0\" class=\"data row48 col0\" >0.156416</td>\n",
       "                        <td id=\"T_630a5_row48_col1\" class=\"data row48 col1\" >0.062158</td>\n",
       "                        <td id=\"T_630a5_row48_col2\" class=\"data row48 col2\" >-0.214970</td>\n",
       "                        <td id=\"T_630a5_row48_col3\" class=\"data row48 col3\" >0.078242</td>\n",
       "                        <td id=\"T_630a5_row48_col4\" class=\"data row48 col4\" >0.465492</td>\n",
       "                        <td id=\"T_630a5_row48_col5\" class=\"data row48 col5\" >-0.012665</td>\n",
       "                        <td id=\"T_630a5_row48_col6\" class=\"data row48 col6\" >0.499829</td>\n",
       "                        <td id=\"T_630a5_row48_col7\" class=\"data row48 col7\" >0.012115</td>\n",
       "                        <td id=\"T_630a5_row48_col8\" class=\"data row48 col8\" >0.500353</td>\n",
       "                        <td id=\"T_630a5_row48_col9\" class=\"data row48 col9\" >-0.004169</td>\n",
       "                        <td id=\"T_630a5_row48_col10\" class=\"data row48 col10\" >0.492616</td>\n",
       "                        <td id=\"T_630a5_row48_col11\" class=\"data row48 col11\" >0.006287</td>\n",
       "                        <td id=\"T_630a5_row48_col12\" class=\"data row48 col12\" >-0.042389</td>\n",
       "                        <td id=\"T_630a5_row48_col13\" class=\"data row48 col13\" >-0.029590</td>\n",
       "                        <td id=\"T_630a5_row48_col14\" class=\"data row48 col14\" >-0.073595</td>\n",
       "                        <td id=\"T_630a5_row48_col15\" class=\"data row48 col15\" >-0.104550</td>\n",
       "                        <td id=\"T_630a5_row48_col16\" class=\"data row48 col16\" >-0.172539</td>\n",
       "                        <td id=\"T_630a5_row48_col17\" class=\"data row48 col17\" >-0.015953</td>\n",
       "                        <td id=\"T_630a5_row48_col18\" class=\"data row48 col18\" >0.144253</td>\n",
       "                        <td id=\"T_630a5_row48_col19\" class=\"data row48 col19\" >-0.043725</td>\n",
       "                        <td id=\"T_630a5_row48_col20\" class=\"data row48 col20\" >0.165928</td>\n",
       "                        <td id=\"T_630a5_row48_col21\" class=\"data row48 col21\" >-0.033273</td>\n",
       "                        <td id=\"T_630a5_row48_col22\" class=\"data row48 col22\" >-0.078618</td>\n",
       "                        <td id=\"T_630a5_row48_col23\" class=\"data row48 col23\" >0.023681</td>\n",
       "                        <td id=\"T_630a5_row48_col24\" class=\"data row48 col24\" >0.291708</td>\n",
       "                        <td id=\"T_630a5_row48_col25\" class=\"data row48 col25\" >0.345947</td>\n",
       "                        <td id=\"T_630a5_row48_col26\" class=\"data row48 col26\" >0.309043</td>\n",
       "                        <td id=\"T_630a5_row48_col27\" class=\"data row48 col27\" >0.353681</td>\n",
       "                        <td id=\"T_630a5_row48_col28\" class=\"data row48 col28\" >0.340406</td>\n",
       "                        <td id=\"T_630a5_row48_col29\" class=\"data row48 col29\" >0.332464</td>\n",
       "                        <td id=\"T_630a5_row48_col30\" class=\"data row48 col30\" >0.414665</td>\n",
       "                        <td id=\"T_630a5_row48_col31\" class=\"data row48 col31\" >0.407902</td>\n",
       "                        <td id=\"T_630a5_row48_col32\" class=\"data row48 col32\" >0.415871</td>\n",
       "                        <td id=\"T_630a5_row48_col33\" class=\"data row48 col33\" >0.392998</td>\n",
       "                        <td id=\"T_630a5_row48_col34\" class=\"data row48 col34\" >0.482914</td>\n",
       "                        <td id=\"T_630a5_row48_col35\" class=\"data row48 col35\" >0.001987</td>\n",
       "                        <td id=\"T_630a5_row48_col36\" class=\"data row48 col36\" >0.667856</td>\n",
       "                        <td id=\"T_630a5_row48_col37\" class=\"data row48 col37\" >-0.006990</td>\n",
       "                        <td id=\"T_630a5_row48_col38\" class=\"data row48 col38\" >0.526658</td>\n",
       "                        <td id=\"T_630a5_row48_col39\" class=\"data row48 col39\" >-0.088070</td>\n",
       "                        <td id=\"T_630a5_row48_col40\" class=\"data row48 col40\" >0.641391</td>\n",
       "                        <td id=\"T_630a5_row48_col41\" class=\"data row48 col41\" >-0.061240</td>\n",
       "                        <td id=\"T_630a5_row48_col42\" class=\"data row48 col42\" >0.630029</td>\n",
       "                        <td id=\"T_630a5_row48_col43\" class=\"data row48 col43\" >0.196989</td>\n",
       "                        <td id=\"T_630a5_row48_col44\" class=\"data row48 col44\" >0.690637</td>\n",
       "                        <td id=\"T_630a5_row48_col45\" class=\"data row48 col45\" >-0.061246</td>\n",
       "                        <td id=\"T_630a5_row48_col46\" class=\"data row48 col46\" >0.839300</td>\n",
       "                        <td id=\"T_630a5_row48_col47\" class=\"data row48 col47\" >0.224178</td>\n",
       "                        <td id=\"T_630a5_row48_col48\" class=\"data row48 col48\" >1.000000</td>\n",
       "                        <td id=\"T_630a5_row48_col49\" class=\"data row48 col49\" >0.131951</td>\n",
       "                        <td id=\"T_630a5_row48_col50\" class=\"data row48 col50\" >0.463425</td>\n",
       "                        <td id=\"T_630a5_row48_col51\" class=\"data row48 col51\" >0.156877</td>\n",
       "            </tr>\n",
       "            <tr>\n",
       "                        <th id=\"T_630a5_level0_row49\" class=\"row_heading level0 row49\" >secondary_cleaner.state.floatbank5_b_level</th>\n",
       "                        <td id=\"T_630a5_row49_col0\" class=\"data row49 col0\" >0.072229</td>\n",
       "                        <td id=\"T_630a5_row49_col1\" class=\"data row49 col1\" >-0.003504</td>\n",
       "                        <td id=\"T_630a5_row49_col2\" class=\"data row49 col2\" >-0.054173</td>\n",
       "                        <td id=\"T_630a5_row49_col3\" class=\"data row49 col3\" >0.096969</td>\n",
       "                        <td id=\"T_630a5_row49_col4\" class=\"data row49 col4\" >0.161509</td>\n",
       "                        <td id=\"T_630a5_row49_col5\" class=\"data row49 col5\" >0.091263</td>\n",
       "                        <td id=\"T_630a5_row49_col6\" class=\"data row49 col6\" >0.155978</td>\n",
       "                        <td id=\"T_630a5_row49_col7\" class=\"data row49 col7\" >0.004864</td>\n",
       "                        <td id=\"T_630a5_row49_col8\" class=\"data row49 col8\" >0.117465</td>\n",
       "                        <td id=\"T_630a5_row49_col9\" class=\"data row49 col9\" >0.061153</td>\n",
       "                        <td id=\"T_630a5_row49_col10\" class=\"data row49 col10\" >0.158148</td>\n",
       "                        <td id=\"T_630a5_row49_col11\" class=\"data row49 col11\" >0.006570</td>\n",
       "                        <td id=\"T_630a5_row49_col12\" class=\"data row49 col12\" >0.039210</td>\n",
       "                        <td id=\"T_630a5_row49_col13\" class=\"data row49 col13\" >0.077829</td>\n",
       "                        <td id=\"T_630a5_row49_col14\" class=\"data row49 col14\" >0.012324</td>\n",
       "                        <td id=\"T_630a5_row49_col15\" class=\"data row49 col15\" >-0.004300</td>\n",
       "                        <td id=\"T_630a5_row49_col16\" class=\"data row49 col16\" >0.009571</td>\n",
       "                        <td id=\"T_630a5_row49_col17\" class=\"data row49 col17\" >0.074743</td>\n",
       "                        <td id=\"T_630a5_row49_col18\" class=\"data row49 col18\" >0.060772</td>\n",
       "                        <td id=\"T_630a5_row49_col19\" class=\"data row49 col19\" >0.081810</td>\n",
       "                        <td id=\"T_630a5_row49_col20\" class=\"data row49 col20\" >0.069145</td>\n",
       "                        <td id=\"T_630a5_row49_col21\" class=\"data row49 col21\" >0.088701</td>\n",
       "                        <td id=\"T_630a5_row49_col22\" class=\"data row49 col22\" >0.072453</td>\n",
       "                        <td id=\"T_630a5_row49_col23\" class=\"data row49 col23\" >0.012086</td>\n",
       "                        <td id=\"T_630a5_row49_col24\" class=\"data row49 col24\" >0.078298</td>\n",
       "                        <td id=\"T_630a5_row49_col25\" class=\"data row49 col25\" >0.058823</td>\n",
       "                        <td id=\"T_630a5_row49_col26\" class=\"data row49 col26\" >0.070987</td>\n",
       "                        <td id=\"T_630a5_row49_col27\" class=\"data row49 col27\" >0.054056</td>\n",
       "                        <td id=\"T_630a5_row49_col28\" class=\"data row49 col28\" >0.045190</td>\n",
       "                        <td id=\"T_630a5_row49_col29\" class=\"data row49 col29\" >0.039969</td>\n",
       "                        <td id=\"T_630a5_row49_col30\" class=\"data row49 col30\" >0.084650</td>\n",
       "                        <td id=\"T_630a5_row49_col31\" class=\"data row49 col31\" >0.048908</td>\n",
       "                        <td id=\"T_630a5_row49_col32\" class=\"data row49 col32\" >0.074507</td>\n",
       "                        <td id=\"T_630a5_row49_col33\" class=\"data row49 col33\" >0.056624</td>\n",
       "                        <td id=\"T_630a5_row49_col34\" class=\"data row49 col34\" >0.088558</td>\n",
       "                        <td id=\"T_630a5_row49_col35\" class=\"data row49 col35\" >0.010127</td>\n",
       "                        <td id=\"T_630a5_row49_col36\" class=\"data row49 col36\" >0.129761</td>\n",
       "                        <td id=\"T_630a5_row49_col37\" class=\"data row49 col37\" >0.014914</td>\n",
       "                        <td id=\"T_630a5_row49_col38\" class=\"data row49 col38\" >0.097897</td>\n",
       "                        <td id=\"T_630a5_row49_col39\" class=\"data row49 col39\" >-0.024978</td>\n",
       "                        <td id=\"T_630a5_row49_col40\" class=\"data row49 col40\" >0.089819</td>\n",
       "                        <td id=\"T_630a5_row49_col41\" class=\"data row49 col41\" >0.049728</td>\n",
       "                        <td id=\"T_630a5_row49_col42\" class=\"data row49 col42\" >0.132053</td>\n",
       "                        <td id=\"T_630a5_row49_col43\" class=\"data row49 col43\" >0.038650</td>\n",
       "                        <td id=\"T_630a5_row49_col44\" class=\"data row49 col44\" >0.151066</td>\n",
       "                        <td id=\"T_630a5_row49_col45\" class=\"data row49 col45\" >0.085526</td>\n",
       "                        <td id=\"T_630a5_row49_col46\" class=\"data row49 col46\" >0.097730</td>\n",
       "                        <td id=\"T_630a5_row49_col47\" class=\"data row49 col47\" >0.516684</td>\n",
       "                        <td id=\"T_630a5_row49_col48\" class=\"data row49 col48\" >0.131951</td>\n",
       "                        <td id=\"T_630a5_row49_col49\" class=\"data row49 col49\" >1.000000</td>\n",
       "                        <td id=\"T_630a5_row49_col50\" class=\"data row49 col50\" >0.028312</td>\n",
       "                        <td id=\"T_630a5_row49_col51\" class=\"data row49 col51\" >0.336502</td>\n",
       "            </tr>\n",
       "            <tr>\n",
       "                        <th id=\"T_630a5_level0_row50\" class=\"row_heading level0 row50\" >secondary_cleaner.state.floatbank6_a_air</th>\n",
       "                        <td id=\"T_630a5_row50_col0\" class=\"data row50 col0\" >-0.134194</td>\n",
       "                        <td id=\"T_630a5_row50_col1\" class=\"data row50 col1\" >-0.200422</td>\n",
       "                        <td id=\"T_630a5_row50_col2\" class=\"data row50 col2\" >0.026930</td>\n",
       "                        <td id=\"T_630a5_row50_col3\" class=\"data row50 col3\" >-0.217392</td>\n",
       "                        <td id=\"T_630a5_row50_col4\" class=\"data row50 col4\" >0.345231</td>\n",
       "                        <td id=\"T_630a5_row50_col5\" class=\"data row50 col5\" >-0.107710</td>\n",
       "                        <td id=\"T_630a5_row50_col6\" class=\"data row50 col6\" >0.389594</td>\n",
       "                        <td id=\"T_630a5_row50_col7\" class=\"data row50 col7\" >-0.006694</td>\n",
       "                        <td id=\"T_630a5_row50_col8\" class=\"data row50 col8\" >0.490672</td>\n",
       "                        <td id=\"T_630a5_row50_col9\" class=\"data row50 col9\" >-0.087866</td>\n",
       "                        <td id=\"T_630a5_row50_col10\" class=\"data row50 col10\" >0.378070</td>\n",
       "                        <td id=\"T_630a5_row50_col11\" class=\"data row50 col11\" >-0.036983</td>\n",
       "                        <td id=\"T_630a5_row50_col12\" class=\"data row50 col12\" >0.212922</td>\n",
       "                        <td id=\"T_630a5_row50_col13\" class=\"data row50 col13\" >-0.125363</td>\n",
       "                        <td id=\"T_630a5_row50_col14\" class=\"data row50 col14\" >-0.413417</td>\n",
       "                        <td id=\"T_630a5_row50_col15\" class=\"data row50 col15\" >-0.355951</td>\n",
       "                        <td id=\"T_630a5_row50_col16\" class=\"data row50 col16\" >-0.483905</td>\n",
       "                        <td id=\"T_630a5_row50_col17\" class=\"data row50 col17\" >0.191477</td>\n",
       "                        <td id=\"T_630a5_row50_col18\" class=\"data row50 col18\" >-0.312294</td>\n",
       "                        <td id=\"T_630a5_row50_col19\" class=\"data row50 col19\" >-0.112190</td>\n",
       "                        <td id=\"T_630a5_row50_col20\" class=\"data row50 col20\" >-0.315921</td>\n",
       "                        <td id=\"T_630a5_row50_col21\" class=\"data row50 col21\" >-0.126049</td>\n",
       "                        <td id=\"T_630a5_row50_col22\" class=\"data row50 col22\" >-0.334347</td>\n",
       "                        <td id=\"T_630a5_row50_col23\" class=\"data row50 col23\" >-0.561842</td>\n",
       "                        <td id=\"T_630a5_row50_col24\" class=\"data row50 col24\" >0.533462</td>\n",
       "                        <td id=\"T_630a5_row50_col25\" class=\"data row50 col25\" >0.455330</td>\n",
       "                        <td id=\"T_630a5_row50_col26\" class=\"data row50 col26\" >0.621525</td>\n",
       "                        <td id=\"T_630a5_row50_col27\" class=\"data row50 col27\" >0.455477</td>\n",
       "                        <td id=\"T_630a5_row50_col28\" class=\"data row50 col28\" >0.598880</td>\n",
       "                        <td id=\"T_630a5_row50_col29\" class=\"data row50 col29\" >0.430585</td>\n",
       "                        <td id=\"T_630a5_row50_col30\" class=\"data row50 col30\" >0.578157</td>\n",
       "                        <td id=\"T_630a5_row50_col31\" class=\"data row50 col31\" >0.484825</td>\n",
       "                        <td id=\"T_630a5_row50_col32\" class=\"data row50 col32\" >0.434982</td>\n",
       "                        <td id=\"T_630a5_row50_col33\" class=\"data row50 col33\" >0.483501</td>\n",
       "                        <td id=\"T_630a5_row50_col34\" class=\"data row50 col34\" >0.146562</td>\n",
       "                        <td id=\"T_630a5_row50_col35\" class=\"data row50 col35\" >0.048933</td>\n",
       "                        <td id=\"T_630a5_row50_col36\" class=\"data row50 col36\" >0.104266</td>\n",
       "                        <td id=\"T_630a5_row50_col37\" class=\"data row50 col37\" >0.010788</td>\n",
       "                        <td id=\"T_630a5_row50_col38\" class=\"data row50 col38\" >0.273846</td>\n",
       "                        <td id=\"T_630a5_row50_col39\" class=\"data row50 col39\" >-0.127807</td>\n",
       "                        <td id=\"T_630a5_row50_col40\" class=\"data row50 col40\" >0.395344</td>\n",
       "                        <td id=\"T_630a5_row50_col41\" class=\"data row50 col41\" >-0.144723</td>\n",
       "                        <td id=\"T_630a5_row50_col42\" class=\"data row50 col42\" >0.082357</td>\n",
       "                        <td id=\"T_630a5_row50_col43\" class=\"data row50 col43\" >0.027717</td>\n",
       "                        <td id=\"T_630a5_row50_col44\" class=\"data row50 col44\" >0.188092</td>\n",
       "                        <td id=\"T_630a5_row50_col45\" class=\"data row50 col45\" >-0.336132</td>\n",
       "                        <td id=\"T_630a5_row50_col46\" class=\"data row50 col46\" >0.508881</td>\n",
       "                        <td id=\"T_630a5_row50_col47\" class=\"data row50 col47\" >-0.013499</td>\n",
       "                        <td id=\"T_630a5_row50_col48\" class=\"data row50 col48\" >0.463425</td>\n",
       "                        <td id=\"T_630a5_row50_col49\" class=\"data row50 col49\" >0.028312</td>\n",
       "                        <td id=\"T_630a5_row50_col50\" class=\"data row50 col50\" >1.000000</td>\n",
       "                        <td id=\"T_630a5_row50_col51\" class=\"data row50 col51\" >0.189606</td>\n",
       "            </tr>\n",
       "            <tr>\n",
       "                        <th id=\"T_630a5_level0_row51\" class=\"row_heading level0 row51\" >secondary_cleaner.state.floatbank6_a_level</th>\n",
       "                        <td id=\"T_630a5_row51_col0\" class=\"data row51 col0\" >0.034655</td>\n",
       "                        <td id=\"T_630a5_row51_col1\" class=\"data row51 col1\" >0.029256</td>\n",
       "                        <td id=\"T_630a5_row51_col2\" class=\"data row51 col2\" >-0.083021</td>\n",
       "                        <td id=\"T_630a5_row51_col3\" class=\"data row51 col3\" >0.081986</td>\n",
       "                        <td id=\"T_630a5_row51_col4\" class=\"data row51 col4\" >0.172154</td>\n",
       "                        <td id=\"T_630a5_row51_col5\" class=\"data row51 col5\" >0.076271</td>\n",
       "                        <td id=\"T_630a5_row51_col6\" class=\"data row51 col6\" >0.187429</td>\n",
       "                        <td id=\"T_630a5_row51_col7\" class=\"data row51 col7\" >0.012904</td>\n",
       "                        <td id=\"T_630a5_row51_col8\" class=\"data row51 col8\" >0.169634</td>\n",
       "                        <td id=\"T_630a5_row51_col9\" class=\"data row51 col9\" >0.067955</td>\n",
       "                        <td id=\"T_630a5_row51_col10\" class=\"data row51 col10\" >0.184031</td>\n",
       "                        <td id=\"T_630a5_row51_col11\" class=\"data row51 col11\" >0.029999</td>\n",
       "                        <td id=\"T_630a5_row51_col12\" class=\"data row51 col12\" >-0.001060</td>\n",
       "                        <td id=\"T_630a5_row51_col13\" class=\"data row51 col13\" >0.067297</td>\n",
       "                        <td id=\"T_630a5_row51_col14\" class=\"data row51 col14\" >0.022949</td>\n",
       "                        <td id=\"T_630a5_row51_col15\" class=\"data row51 col15\" >0.006842</td>\n",
       "                        <td id=\"T_630a5_row51_col16\" class=\"data row51 col16\" >0.038228</td>\n",
       "                        <td id=\"T_630a5_row51_col17\" class=\"data row51 col17\" >0.036998</td>\n",
       "                        <td id=\"T_630a5_row51_col18\" class=\"data row51 col18\" >0.067931</td>\n",
       "                        <td id=\"T_630a5_row51_col19\" class=\"data row51 col19\" >0.112981</td>\n",
       "                        <td id=\"T_630a5_row51_col20\" class=\"data row51 col20\" >0.080315</td>\n",
       "                        <td id=\"T_630a5_row51_col21\" class=\"data row51 col21\" >0.133275</td>\n",
       "                        <td id=\"T_630a5_row51_col22\" class=\"data row51 col22\" >0.046717</td>\n",
       "                        <td id=\"T_630a5_row51_col23\" class=\"data row51 col23\" >0.087695</td>\n",
       "                        <td id=\"T_630a5_row51_col24\" class=\"data row51 col24\" >0.022975</td>\n",
       "                        <td id=\"T_630a5_row51_col25\" class=\"data row51 col25\" >0.034661</td>\n",
       "                        <td id=\"T_630a5_row51_col26\" class=\"data row51 col26\" >0.018168</td>\n",
       "                        <td id=\"T_630a5_row51_col27\" class=\"data row51 col27\" >0.031861</td>\n",
       "                        <td id=\"T_630a5_row51_col28\" class=\"data row51 col28\" >0.008341</td>\n",
       "                        <td id=\"T_630a5_row51_col29\" class=\"data row51 col29\" >0.021169</td>\n",
       "                        <td id=\"T_630a5_row51_col30\" class=\"data row51 col30\" >0.040936</td>\n",
       "                        <td id=\"T_630a5_row51_col31\" class=\"data row51 col31\" >0.056080</td>\n",
       "                        <td id=\"T_630a5_row51_col32\" class=\"data row51 col32\" >0.053557</td>\n",
       "                        <td id=\"T_630a5_row51_col33\" class=\"data row51 col33\" >0.064456</td>\n",
       "                        <td id=\"T_630a5_row51_col34\" class=\"data row51 col34\" >0.127210</td>\n",
       "                        <td id=\"T_630a5_row51_col35\" class=\"data row51 col35\" >0.025503</td>\n",
       "                        <td id=\"T_630a5_row51_col36\" class=\"data row51 col36\" >0.157649</td>\n",
       "                        <td id=\"T_630a5_row51_col37\" class=\"data row51 col37\" >0.023177</td>\n",
       "                        <td id=\"T_630a5_row51_col38\" class=\"data row51 col38\" >0.123084</td>\n",
       "                        <td id=\"T_630a5_row51_col39\" class=\"data row51 col39\" >0.010255</td>\n",
       "                        <td id=\"T_630a5_row51_col40\" class=\"data row51 col40\" >0.114933</td>\n",
       "                        <td id=\"T_630a5_row51_col41\" class=\"data row51 col41\" >0.076089</td>\n",
       "                        <td id=\"T_630a5_row51_col42\" class=\"data row51 col42\" >0.145112</td>\n",
       "                        <td id=\"T_630a5_row51_col43\" class=\"data row51 col43\" >0.028501</td>\n",
       "                        <td id=\"T_630a5_row51_col44\" class=\"data row51 col44\" >0.142336</td>\n",
       "                        <td id=\"T_630a5_row51_col45\" class=\"data row51 col45\" >0.046965</td>\n",
       "                        <td id=\"T_630a5_row51_col46\" class=\"data row51 col46\" >0.080659</td>\n",
       "                        <td id=\"T_630a5_row51_col47\" class=\"data row51 col47\" >0.404586</td>\n",
       "                        <td id=\"T_630a5_row51_col48\" class=\"data row51 col48\" >0.156877</td>\n",
       "                        <td id=\"T_630a5_row51_col49\" class=\"data row51 col49\" >0.336502</td>\n",
       "                        <td id=\"T_630a5_row51_col50\" class=\"data row51 col50\" >0.189606</td>\n",
       "                        <td id=\"T_630a5_row51_col51\" class=\"data row51 col51\" >1.000000</td>\n",
       "            </tr>\n",
       "    </tbody></table>"
      ],
      "text/plain": [
       "<pandas.io.formats.style.Styler at 0x7ff128614d00>"
      ]
     },
     "execution_count": 16,
     "metadata": {},
     "output_type": "execute_result"
    }
   ],
   "source": [
    "df_test_corr = df_test.corr()\n",
    "df_test_corr.style.background_gradient(cmap='coolwarm')"
   ]
  },
  {
   "cell_type": "markdown",
   "metadata": {},
   "source": [
    "Можно заметить, что некоторые значения, которые представлены в тестовой выборке имеют высокую корреляцию, что может привести к проблеме мультиколлинеарности. Для дальнейшего исследования столбцы не будут удалены, для чистоты исследования. "
   ]
  },
  {
   "cell_type": "markdown",
   "metadata": {},
   "source": [
    "## Анализ данных"
   ]
  },
  {
   "cell_type": "code",
   "execution_count": 17,
   "metadata": {},
   "outputs": [
    {
     "data": {
      "text/plain": [
       "[Text(0.5, 1.0, 'Концентрация серебра')]"
      ]
     },
     "execution_count": 17,
     "metadata": {},
     "output_type": "execute_result"
    },
    {
     "data": {
      "image/png": "[encoded data removed]",
      "text/plain": [
       "<Figure size 1440x792 with 1 Axes>"
      ]
     },
     "metadata": {},
     "output_type": "display_data"
    }
   ],
   "source": [
    "sns.set(rc={'figure.figsize':(20, 11)})\n",
    "sns.histplot(data=df_train[['rougher.output.concentrate_ag',\n",
    "                           'primary_cleaner.output.concentrate_ag',\n",
    "                           'final.output.concentrate_ag']]).set(title='Концентрация серебра') \n",
    "#sns.regplot(x=df_train.index, y=df_train['rougher.output.concentrate_ag'], robust=True)\n"
   ]
  },
  {
   "cell_type": "markdown",
   "metadata": {},
   "source": [
    "Можно заметить, что концентрация серебра постепенно падает, то есть иметт нисходящий тренд"
   ]
  },
  {
   "cell_type": "code",
   "execution_count": 18,
   "metadata": {},
   "outputs": [
    {
     "data": {
      "text/plain": [
       "[Text(0.5, 1.0, 'Концентрация золота')]"
      ]
     },
     "execution_count": 18,
     "metadata": {},
     "output_type": "execute_result"
    },
    {
     "data": {
      "image/png": "[encoded data removed]",
      "text/plain": [
       "<Figure size 1440x792 with 1 Axes>"
      ]
     },
     "metadata": {},
     "output_type": "display_data"
    }
   ],
   "source": [
    "sns.set(rc={'figure.figsize':(20, 11)})\n",
    "sns.histplot(data=df_train[['rougher.output.concentrate_au',\n",
    "                           'primary_cleaner.output.concentrate_au',\n",
    "                           'final.output.concentrate_au']]).set(title='Концентрация золота')"
   ]
  },
  {
   "cell_type": "markdown",
   "metadata": {},
   "source": [
    "В отличие от серебра, концентрация золота на всех трех этапах принимает примерно одинаковые значения. \n",
    "   "
   ]
  },
  {
   "cell_type": "code",
   "execution_count": 19,
   "metadata": {},
   "outputs": [
    {
     "data": {
      "text/plain": [
       "[Text(0.5, 1.0, 'Концентрация свинца')]"
      ]
     },
     "execution_count": 19,
     "metadata": {},
     "output_type": "execute_result"
    },
    {
     "data": {
      "image/png": "[encoded data removed]",
      "text/plain": [
       "<Figure size 1440x792 with 1 Axes>"
      ]
     },
     "metadata": {},
     "output_type": "display_data"
    }
   ],
   "source": [
    "sns.set(rc={'figure.figsize':(20, 11)})\n",
    "sns.histplot(data=df_train[['rougher.output.concentrate_pb',\n",
    "                           'primary_cleaner.output.concentrate_pb',\n",
    "                           'final.output.concentrate_pb']]).set(title='Концентрация свинца')"
   ]
  },
  {
   "cell_type": "markdown",
   "metadata": {},
   "source": [
    "Свинец же по большей части присутствует в первом и последнем этапах, когда на 2-м этапе его концентрация падает"
   ]
  },
  {
   "cell_type": "code",
   "execution_count": 20,
   "metadata": {},
   "outputs": [
    {
     "data": {
      "text/plain": [
       "[(0.0, 200.0)]"
      ]
     },
     "execution_count": 20,
     "metadata": {},
     "output_type": "execute_result"
    },
    {
     "data": {
      "image/png": "[encoded data removed]",
      "text/plain": [
       "<Figure size 1440x792 with 1 Axes>"
      ]
     },
     "metadata": {},
     "output_type": "display_data"
    }
   ],
   "source": [
    "sns.set(rc={'figure.figsize':(20, 11)})\n",
    "\n",
    "sns.set_palette('crest')\n",
    "\n",
    "sns.set(rc={'figure.figsize':(20, 11)})\n",
    "sns.histplot(data=df_test[['rougher.input.feed_size']]).set(xlim=(0, 200))\n",
    "sns.histplot(data=df_train[['rougher.input.feed_size']]).set(xlim=(0, 200))"
   ]
  },
  {
   "cell_type": "markdown",
   "metadata": {},
   "source": [
    "Таким образом можно сказать, что распределения примерно похожи, что говорит о том, что впоследствии оценка модели будет правильной. "
   ]
  },
  {
   "cell_type": "code",
   "execution_count": 21,
   "metadata": {},
   "outputs": [
    {
     "data": {
      "text/plain": [
       "<AxesSubplot:xlabel='rougher.input.feed_ag', ylabel='Count'>"
      ]
     },
     "execution_count": 21,
     "metadata": {},
     "output_type": "execute_result"
    },
    {
     "data": {
      "image/png": "[encoded data removed]",
      "text/plain": [
       "<Figure size 1440x792 with 1 Axes>"
      ]
     },
     "metadata": {},
     "output_type": "display_data"
    }
   ],
   "source": [
    "data_hist = df_train['rougher.input.feed_ag'] \n",
    "+ df_train['rougher.input.feed_pb'] \n",
    "+ df_train['rougher.input.feed_au'] \n",
    "+ df_train['rougher.input.feed_sol']\n",
    "\n",
    "data_hist2 = df_train['rougher.output.concentrate_ag']\n",
    "+ df_train['rougher.output.concentrate_pb'] \n",
    "+ df_train['rougher.output.concentrate_au']\n",
    "+ df_train['rougher.output.concentrate_sol']\n",
    "\n",
    "data_hist3 = df_train['rougher.output.tail_ag']\n",
    "+ df_train['rougher.output.tail_pb']\n",
    "+ df_train['rougher.output.tail_sol']\n",
    "+ df_train['rougher.output.tail_au']\n",
    "\n",
    "sns.set(rc={'figure.figsize':(20, 11)})\n",
    "sns.histplot(data=data_hist, color='green')\n",
    "sns.histplot(data=data_hist2, color='orange')\n",
    "sns.histplot(data=data_hist3)"
   ]
  },
  {
   "cell_type": "markdown",
   "metadata": {},
   "source": [
    "Таким образом можно сказать, что на входе суммарная концентрация веществ в сырье больше, чем на остальных этапах. Также стоит заметить выбросы в 0, их надо удалить: "
   ]
  },
  {
   "cell_type": "code",
   "execution_count": 22,
   "metadata": {},
   "outputs": [
    {
     "data": {
      "text/plain": [
       "<AxesSubplot:xlabel='rougher.input.feed_ag', ylabel='Count'>"
      ]
     },
     "execution_count": 22,
     "metadata": {},
     "output_type": "execute_result"
    },
    {
     "data": {
      "image/png": "[encoded data removed]",
      "text/plain": [
       "<Figure size 1440x792 with 1 Axes>"
      ]
     },
     "metadata": {},
     "output_type": "display_data"
    }
   ],
   "source": [
    "df_train['rougher.output.concentrate_ag'] = df_train.loc[df_train['rougher.output.concentrate_ag'] > 1]\n",
    "df_train['rougher.output.concentrate_au'] = df_train.loc[df_train['rougher.output.concentrate_au'] > 1]\n",
    "df_train['rougher.output.concentrate_pb'] = df_train.loc[df_train['rougher.output.concentrate_pb'] > 1]\n",
    "df_train['rougher.output.concentrate_sol'] = df_train.loc[df_train['rougher.output.concentrate_sol'] > 1]\n",
    "\n",
    "df_train['rougher.input.feed_ag'] = df_train.loc[df_train['rougher.input.feed_ag'] > 1]\n",
    "df_train['rougher.input.feed_au'] = df_train.loc[df_train['rougher.input.feed_au'] > 1]\n",
    "df_train['rougher.input.feed_pb'] = df_train.loc[df_train['rougher.input.feed_pb'] > 1]\n",
    "df_train['rougher.input.feed_sol'] = df_train.loc[df_train['rougher.input.feed_sol'] > 1]\n",
    "\n",
    "data_hist = df_train['rougher.input.feed_ag'] \n",
    "+ df_train['rougher.input.feed_pb'] \n",
    "+ df_train['rougher.input.feed_au'] \n",
    "+ df_train['rougher.input.feed_sol']\n",
    "\n",
    "data_hist2 = df_train['rougher.output.concentrate_ag']\n",
    "+ df_train['rougher.output.concentrate_pb'] \n",
    "+ df_train['rougher.output.concentrate_au']\n",
    "+ df_train['rougher.output.concentrate_sol']\n",
    "\n",
    "data_hist3 = df_train['rougher.output.tail_ag']\n",
    "+ df_train['rougher.output.tail_pb']\n",
    "+ df_train['rougher.output.tail_sol']\n",
    "+ df_train['rougher.output.tail_au']\n",
    "\n",
    "sns.set(rc={'figure.figsize':(20, 11)})\n",
    "sns.histplot(data=data_hist, color='green')\n",
    "sns.histplot(data=data_hist2, color='orange')\n",
    "sns.histplot(data=data_hist3)"
   ]
  },
  {
   "cell_type": "markdown",
   "metadata": {},
   "source": [
    "## Модель"
   ]
  },
  {
   "cell_type": "code",
   "execution_count": 23,
   "metadata": {},
   "outputs": [],
   "source": [
    "target_features = ['rougher.output.recovery', 'final.output.recovery']\n",
    "df_test = df_test.merge(df_full[target_features], on='date', how='left')\n",
    "\n",
    "needed_cols = list(set(df_train.columns) - set(df_test.columns))\n",
    "df_train = df_train.drop(needed_cols, axis=1)\n",
    "\n",
    "features_train = df_train.drop(target_features, axis=1) \n",
    "target_train = df_train[target_features]\n",
    "features_test = df_test.drop(target_features, axis=1) \n",
    "target_test = df_test[target_features]\n",
    "\n",
    "features_train = features_train.ffill()\n",
    "features_test = features_test.ffill()"
   ]
  },
  {
   "cell_type": "markdown",
   "metadata": {},
   "source": [
    "Преобразуем данные, сформулируем features и target для дальнейшего исследования, а также проведем кодировку данных. "
   ]
  },
  {
   "cell_type": "code",
   "execution_count": 24,
   "metadata": {},
   "outputs": [],
   "source": [
    "def smape(target, predictions):\n",
    "    num = np.abs(target - predictions)\n",
    "    denom = (np.abs(target) + np.abs(predictions)) / 2 \n",
    "    return 100 * np.sum(num/denom) / len(target)\n",
    "    \n",
    "def final_smape(target, predictions):\n",
    "    target_rougher = target['rougher.output.recovery']\n",
    "    target_final = target['final.output.recovery']\n",
    "    predictions_rougher = predictions[:, 0]\n",
    "    predictions_final = predictions[:, 1]\n",
    "    return 0.25 * smape(target_rougher, predictions_rougher) + 0.75 * smape(target_rougher, predictions_rougher)\n",
    "\n",
    "scorer=make_scorer(final_smape, greater_is_better=False) "
   ]
  },
  {
   "cell_type": "code",
   "execution_count": 25,
   "metadata": {
    "scrolled": false
   },
   "outputs": [
    {
     "name": "stdout",
     "output_type": "stream",
     "text": [
      "sMAPE равно: 12.804451982828093\n"
     ]
    }
   ],
   "source": [
    "model = LinearRegression()\n",
    "model.fit(features_train, target_train)\n",
    "smape_crossval = cross_val_score(model, features_train, target_train, cv=5, scoring=scorer).mean()\n",
    "#smape_crossval = final_smape\n",
    "    \n",
    "print('sMAPE равно:', -smape_crossval) "
   ]
  },
  {
   "cell_type": "markdown",
   "metadata": {},
   "source": [
    "Использование кросс-валидации и применение функции sMAPE"
   ]
  },
  {
   "cell_type": "code",
   "execution_count": 26,
   "metadata": {},
   "outputs": [
    {
     "name": "stdout",
     "output_type": "stream",
     "text": [
      "sMAPE равно: 11.40206789258733\n"
     ]
    }
   ],
   "source": [
    "model2 = RandomForestRegressor(random_state=12345, max_depth=7, max_features='auto', n_estimators=100)\n",
    "model2.fit(features_train, target_train) \n",
    "cross_smape = cross_val_score(model2, features_train, target_train, cv=5, scoring=scorer).mean()\n",
    "print('sMAPE равно:', -cross_smape)"
   ]
  },
  {
   "cell_type": "code",
   "execution_count": 27,
   "metadata": {},
   "outputs": [],
   "source": [
    "#params = {'max_depth': [3, 5, 7, 9]}\n",
    "\n",
    "#model_search = RandomForestRegressor()\n",
    "\n",
    "#grid_search = GridSearchCV(model_search, params)\n",
    "#grid_search.fit(features_train, target_train) \n",
    "\n",
    "#print('Params', grid_search.best_params_)\n",
    "#print('оценка', grid_search.best_score_)\n",
    "\n",
    "#best_model = grid_search.best_estimator_\n",
    "#predictions_cv = best_model.predict(features_train)\n",
    "\n",
    "#Params {'max_depth': 7}\n",
    "#оценка -0.013719621321894604\n"
   ]
  },
  {
   "cell_type": "code",
   "execution_count": 28,
   "metadata": {
    "scrolled": true
   },
   "outputs": [
    {
     "name": "stdout",
     "output_type": "stream",
     "text": [
      "sMAPE равно: 11.751600395766463\n",
      "sMAPE равно: 11.358392111161487\n",
      "sMAPE равно: 11.25736168733809\n",
      "sMAPE равно: 11.397119682256776\n",
      "sMAPE равно: 11.40206789258733\n"
     ]
    }
   ],
   "source": [
    "for d in range(3, 8): \n",
    "    rf_for = RandomForestRegressor(random_state=12345, max_depth=d) \n",
    "    rf_for.fit(features_train, target_train) \n",
    "    rf_smape = cross_val_score(rf_for, features_train, target_train, cv=5, scoring=scorer).mean()\n",
    "    print('sMAPE равно:', -rf_smape)\n",
    "    "
   ]
  },
  {
   "cell_type": "code",
   "execution_count": 29,
   "metadata": {},
   "outputs": [
    {
     "name": "stdout",
     "output_type": "stream",
     "text": [
      "sMAPE: 11.397119682256776\n"
     ]
    }
   ],
   "source": [
    "rf_d = RandomForestRegressor(random_state=12345, max_depth=6)\n",
    "rf_d.fit(features_train, target_train)\n",
    "smape_rf_d = cross_val_score(rf_d, features_train, target_train, cv=5, scoring=scorer).mean()\n",
    "print('sMAPE:', -smape_rf_d)"
   ]
  },
  {
   "cell_type": "markdown",
   "metadata": {},
   "source": [
    "Таким образом можно сказать, что первая модель случайного леса показала себя лучше второй модели случайного леса, а также показала себя лучше двух моделей линейной регресии"
   ]
  },
  {
   "cell_type": "code",
   "execution_count": 30,
   "metadata": {},
   "outputs": [
    {
     "name": "stdout",
     "output_type": "stream",
     "text": [
      "sMAPE на тестовых данных: 10.379799283438494\n"
     ]
    }
   ],
   "source": [
    "model_dummy1 = DummyRegressor()\n",
    "model_dummy1.fit(features_train, target_train) \n",
    "predictions_test1 = model_dummy1.predict(features_test) \n",
    "print('sMAPE на тестовых данных:', final_smape(target_test, predictions_test1))"
   ]
  },
  {
   "cell_type": "code",
   "execution_count": 31,
   "metadata": {},
   "outputs": [],
   "source": [
    "#columns_needed = features_test.columns\n",
    "#features_train = features_train.loc[:, columns_needed]"
   ]
  },
  {
   "cell_type": "code",
   "execution_count": 32,
   "metadata": {},
   "outputs": [
    {
     "name": "stdout",
     "output_type": "stream",
     "text": [
      "sMAPE для тестовой выборки: 9.119153533286086\n"
     ]
    }
   ],
   "source": [
    "model_final = RandomForestRegressor(random_state=12345, max_depth=6, max_features='auto', n_estimators=200) \n",
    "model_final.fit(features_train, target_train) \n",
    "predictions_final_model = model_final.predict(features_test)\n",
    "\n",
    "print('sMAPE для тестовой выборки:', final_smape(target_test, predictions_final_model))"
   ]
  },
  {
   "cell_type": "markdown",
   "metadata": {},
   "source": [
    "# Вывод"
   ]
  },
  {
   "cell_type": "markdown",
   "metadata": {},
   "source": [
    "В рамках проекта я проанализировал три датасета, а именно датасет с тестовой выборкой, тренировочной выборкой, а также датасет со всем списков значений. Были заменены пропуски, а также проанализирована правильность расчета эффективности обогащения. \n",
    "Также были проанализированы содержания металлов на разных этапах производства, а также суммарная концентрация всех веществ на разных стадиях производства.\n",
    "    \n",
    "Было построено несколько моделей, посчитаны метрики sMAPE и проведена кросс-валидация для выявления лучшей модели, которая была использована на тестовой выборке. "
   ]
  }
 ],
 "metadata": {
  "ExecuteTimeLog": [
   {
    "duration": 370,
    "start_time": "2023-04-18T08:16:02.070Z"
   },
   {
    "duration": 3,
    "start_time": "2023-04-18T08:16:10.222Z"
   },
   {
    "duration": 3437,
    "start_time": "2023-04-18T08:16:12.489Z"
   },
   {
    "duration": 39,
    "start_time": "2023-04-18T08:16:30.927Z"
   },
   {
    "duration": 20,
    "start_time": "2023-04-18T08:16:59.219Z"
   },
   {
    "duration": 22,
    "start_time": "2023-04-18T08:17:02.109Z"
   },
   {
    "duration": 21,
    "start_time": "2023-04-18T08:17:14.321Z"
   },
   {
    "duration": 20,
    "start_time": "2023-04-18T08:17:24.723Z"
   },
   {
    "duration": 20,
    "start_time": "2023-04-18T08:17:28.917Z"
   },
   {
    "duration": 26,
    "start_time": "2023-04-18T08:17:32.537Z"
   },
   {
    "duration": 19,
    "start_time": "2023-04-18T08:17:35.254Z"
   },
   {
    "duration": 34,
    "start_time": "2023-04-18T08:18:52.217Z"
   },
   {
    "duration": 42,
    "start_time": "2023-04-18T08:19:27.784Z"
   },
   {
    "duration": 92,
    "start_time": "2023-04-18T08:20:39.157Z"
   },
   {
    "duration": 9,
    "start_time": "2023-04-18T08:20:43.057Z"
   },
   {
    "duration": 9,
    "start_time": "2023-04-18T08:21:54.180Z"
   },
   {
    "duration": 9,
    "start_time": "2023-04-18T08:22:03.730Z"
   },
   {
    "duration": 12,
    "start_time": "2023-04-18T08:25:45.149Z"
   },
   {
    "duration": 10,
    "start_time": "2023-04-18T08:26:27.847Z"
   },
   {
    "duration": 5,
    "start_time": "2023-04-18T08:26:40.582Z"
   },
   {
    "duration": 7,
    "start_time": "2023-04-18T08:26:43.108Z"
   },
   {
    "duration": 29,
    "start_time": "2023-04-18T08:27:02.907Z"
   },
   {
    "duration": 9,
    "start_time": "2023-04-18T08:27:15.767Z"
   },
   {
    "duration": 10,
    "start_time": "2023-04-18T08:27:23.144Z"
   },
   {
    "duration": 13,
    "start_time": "2023-04-18T08:27:44.546Z"
   },
   {
    "duration": 10,
    "start_time": "2023-04-18T08:27:55.755Z"
   },
   {
    "duration": 13,
    "start_time": "2023-04-18T08:28:01.747Z"
   },
   {
    "duration": 7,
    "start_time": "2023-04-18T08:28:48.414Z"
   },
   {
    "duration": 9,
    "start_time": "2023-04-18T08:28:53.371Z"
   },
   {
    "duration": 9,
    "start_time": "2023-04-18T08:29:08.681Z"
   },
   {
    "duration": 28,
    "start_time": "2023-04-18T08:29:43.014Z"
   },
   {
    "duration": 10,
    "start_time": "2023-04-18T08:29:53.468Z"
   },
   {
    "duration": 7,
    "start_time": "2023-04-18T08:31:03.023Z"
   },
   {
    "duration": 7,
    "start_time": "2023-04-18T08:31:09.084Z"
   },
   {
    "duration": 60,
    "start_time": "2023-04-18T08:31:51.378Z"
   },
   {
    "duration": 10,
    "start_time": "2023-04-18T08:31:54.233Z"
   },
   {
    "duration": 14,
    "start_time": "2023-04-18T08:32:32.112Z"
   },
   {
    "duration": 38,
    "start_time": "2023-04-18T08:33:17.473Z"
   },
   {
    "duration": 23,
    "start_time": "2023-04-18T08:33:26.412Z"
   },
   {
    "duration": 10,
    "start_time": "2023-04-18T08:34:00.763Z"
   },
   {
    "duration": 22,
    "start_time": "2023-04-18T08:34:37.118Z"
   },
   {
    "duration": 20,
    "start_time": "2023-04-18T08:34:41.009Z"
   },
   {
    "duration": 18,
    "start_time": "2023-04-18T08:34:45.814Z"
   },
   {
    "duration": 9,
    "start_time": "2023-04-18T08:34:49.578Z"
   },
   {
    "duration": 7,
    "start_time": "2023-04-18T08:43:13.013Z"
   },
   {
    "duration": 6,
    "start_time": "2023-04-18T08:43:17.225Z"
   },
   {
    "duration": 7,
    "start_time": "2023-04-18T08:43:24.483Z"
   },
   {
    "duration": 7,
    "start_time": "2023-04-18T08:43:35.953Z"
   },
   {
    "duration": 2154,
    "start_time": "2023-04-18T08:44:13.665Z"
   },
   {
    "duration": 7,
    "start_time": "2023-04-18T08:52:53.414Z"
   },
   {
    "duration": 1002,
    "start_time": "2023-04-18T08:59:45.742Z"
   },
   {
    "duration": 7,
    "start_time": "2023-04-18T09:00:00.909Z"
   },
   {
    "duration": 717,
    "start_time": "2023-04-18T09:00:53.509Z"
   },
   {
    "duration": 143,
    "start_time": "2023-04-18T09:01:30.712Z"
   },
   {
    "duration": 37,
    "start_time": "2023-04-18T09:01:51.455Z"
   },
   {
    "duration": 7,
    "start_time": "2023-04-18T09:02:39.821Z"
   },
   {
    "duration": 8,
    "start_time": "2023-04-18T09:03:01.322Z"
   },
   {
    "duration": 105,
    "start_time": "2023-04-18T10:14:56.382Z"
   },
   {
    "duration": 853,
    "start_time": "2023-04-18T10:14:57.139Z"
   },
   {
    "duration": 32,
    "start_time": "2023-04-18T10:14:57.994Z"
   },
   {
    "duration": 38,
    "start_time": "2023-04-18T10:14:58.037Z"
   },
   {
    "duration": 21,
    "start_time": "2023-04-18T10:14:58.774Z"
   },
   {
    "duration": 56,
    "start_time": "2023-04-18T10:14:58.982Z"
   },
   {
    "duration": 11,
    "start_time": "2023-04-18T10:14:59.177Z"
   },
   {
    "duration": 10,
    "start_time": "2023-04-18T10:14:59.664Z"
   },
   {
    "duration": 10,
    "start_time": "2023-04-18T10:14:59.867Z"
   },
   {
    "duration": 19,
    "start_time": "2023-04-18T10:15:00.107Z"
   },
   {
    "duration": 17,
    "start_time": "2023-04-18T10:15:00.539Z"
   },
   {
    "duration": 35,
    "start_time": "2023-04-18T10:15:00.709Z"
   },
   {
    "duration": 13,
    "start_time": "2023-04-18T10:15:01.041Z"
   },
   {
    "duration": 1059,
    "start_time": "2023-04-18T10:25:09.340Z"
   },
   {
    "duration": 110,
    "start_time": "2023-04-18T10:34:58.833Z"
   },
   {
    "duration": 189,
    "start_time": "2023-04-18T10:38:22.125Z"
   },
   {
    "duration": 58,
    "start_time": "2023-04-18T10:38:26.842Z"
   },
   {
    "duration": 10,
    "start_time": "2023-04-18T10:38:40.143Z"
   },
   {
    "duration": 795,
    "start_time": "2023-04-18T10:38:58.156Z"
   },
   {
    "duration": 684,
    "start_time": "2023-04-18T10:39:03.972Z"
   },
   {
    "duration": 17,
    "start_time": "2023-04-18T10:39:12.826Z"
   },
   {
    "duration": 799,
    "start_time": "2023-04-18T10:41:25.975Z"
   },
   {
    "duration": 937,
    "start_time": "2023-04-18T10:41:47.047Z"
   },
   {
    "duration": 105033,
    "start_time": "2023-04-18T10:43:02.024Z"
   },
   {
    "duration": 945,
    "start_time": "2023-04-18T10:44:49.647Z"
   },
   {
    "duration": 617,
    "start_time": "2023-04-18T10:45:23.534Z"
   },
   {
    "duration": 968,
    "start_time": "2023-04-18T10:45:40.116Z"
   },
   {
    "duration": 1192,
    "start_time": "2023-04-18T10:46:17.612Z"
   },
   {
    "duration": 4,
    "start_time": "2023-04-18T11:05:14.146Z"
   },
   {
    "duration": 1725,
    "start_time": "2023-04-18T15:13:13.023Z"
   },
   {
    "duration": 2745,
    "start_time": "2023-04-18T15:13:15.448Z"
   },
   {
    "duration": 24,
    "start_time": "2023-04-18T15:13:18.195Z"
   },
   {
    "duration": 25,
    "start_time": "2023-04-18T15:13:18.221Z"
   },
   {
    "duration": 38,
    "start_time": "2023-04-18T15:13:18.248Z"
   },
   {
    "duration": 11,
    "start_time": "2023-04-18T15:13:18.295Z"
   },
   {
    "duration": 43,
    "start_time": "2023-04-18T15:13:18.931Z"
   },
   {
    "duration": 7,
    "start_time": "2023-04-18T15:13:19.131Z"
   },
   {
    "duration": 12,
    "start_time": "2023-04-18T15:13:19.292Z"
   },
   {
    "duration": 15,
    "start_time": "2023-04-18T15:13:19.964Z"
   },
   {
    "duration": 17,
    "start_time": "2023-04-18T15:13:20.635Z"
   },
   {
    "duration": 10,
    "start_time": "2023-04-18T15:13:21.034Z"
   },
   {
    "duration": 22,
    "start_time": "2023-04-18T15:13:21.388Z"
   },
   {
    "duration": 8,
    "start_time": "2023-04-18T15:13:21.831Z"
   },
   {
    "duration": 388,
    "start_time": "2023-04-18T15:13:23.136Z"
   },
   {
    "duration": 909,
    "start_time": "2023-04-18T15:13:25.156Z"
   },
   {
    "duration": 578,
    "start_time": "2023-04-18T15:13:26.070Z"
   },
   {
    "duration": 1045,
    "start_time": "2023-04-18T15:13:26.650Z"
   },
   {
    "duration": 28,
    "start_time": "2023-04-18T15:21:58.147Z"
   },
   {
    "duration": 151,
    "start_time": "2023-04-18T15:22:00.889Z"
   },
   {
    "duration": 2718,
    "start_time": "2023-04-18T21:22:24.702Z"
   },
   {
    "duration": 8465,
    "start_time": "2023-04-18T21:22:28.760Z"
   },
   {
    "duration": 77,
    "start_time": "2023-04-18T21:22:37.237Z"
   },
   {
    "duration": 255,
    "start_time": "2023-04-18T21:22:37.320Z"
   },
   {
    "duration": 47,
    "start_time": "2023-04-18T21:22:38.346Z"
   },
   {
    "duration": 16,
    "start_time": "2023-04-18T21:22:38.693Z"
   },
   {
    "duration": 103,
    "start_time": "2023-04-18T21:22:39.286Z"
   },
   {
    "duration": 10,
    "start_time": "2023-04-18T21:22:39.876Z"
   },
   {
    "duration": 37,
    "start_time": "2023-04-18T21:22:40.167Z"
   },
   {
    "duration": 43,
    "start_time": "2023-04-18T21:22:40.435Z"
   },
   {
    "duration": 60,
    "start_time": "2023-04-18T21:22:40.696Z"
   },
   {
    "duration": 33,
    "start_time": "2023-04-18T21:22:40.950Z"
   },
   {
    "duration": 61,
    "start_time": "2023-04-18T21:22:41.213Z"
   },
   {
    "duration": 23,
    "start_time": "2023-04-18T21:22:41.472Z"
   },
   {
    "duration": 607,
    "start_time": "2023-04-18T21:22:42.421Z"
   },
   {
    "duration": 1431,
    "start_time": "2023-04-18T21:22:44.926Z"
   },
   {
    "duration": 859,
    "start_time": "2023-04-18T21:22:46.363Z"
   },
   {
    "duration": 1276,
    "start_time": "2023-04-18T21:22:47.224Z"
   },
   {
    "duration": 40,
    "start_time": "2023-04-18T21:23:14.007Z"
   },
   {
    "duration": 18,
    "start_time": "2023-04-18T21:23:38.753Z"
   },
   {
    "duration": 24,
    "start_time": "2023-04-18T21:23:49.866Z"
   },
   {
    "duration": 67,
    "start_time": "2023-04-18T21:25:06.176Z"
   },
   {
    "duration": 53,
    "start_time": "2023-04-18T21:25:14.828Z"
   },
   {
    "duration": 40,
    "start_time": "2023-04-18T21:25:19.838Z"
   },
   {
    "duration": 711,
    "start_time": "2023-04-18T21:25:45.547Z"
   },
   {
    "duration": 175,
    "start_time": "2023-04-18T21:25:56.786Z"
   },
   {
    "duration": 653,
    "start_time": "2023-04-18T21:26:30.472Z"
   },
   {
    "duration": 1525,
    "start_time": "2023-04-18T21:26:59.847Z"
   },
   {
    "duration": 504,
    "start_time": "2023-04-18T21:27:11.539Z"
   },
   {
    "duration": 544,
    "start_time": "2023-04-18T21:27:36.284Z"
   },
   {
    "duration": 761,
    "start_time": "2023-04-18T21:27:52.471Z"
   },
   {
    "duration": 617,
    "start_time": "2023-04-18T21:29:53.624Z"
   },
   {
    "duration": 848,
    "start_time": "2023-04-18T21:30:12.418Z"
   },
   {
    "duration": 60,
    "start_time": "2023-04-18T21:30:46.338Z"
   },
   {
    "duration": 858,
    "start_time": "2023-04-18T21:32:09.060Z"
   },
   {
    "duration": 1097,
    "start_time": "2023-04-18T21:32:20.881Z"
   },
   {
    "duration": 919,
    "start_time": "2023-04-18T21:32:27.950Z"
   },
   {
    "duration": 106,
    "start_time": "2023-04-18T21:33:08.151Z"
   },
   {
    "duration": 103,
    "start_time": "2023-04-18T21:33:37.437Z"
   },
   {
    "duration": 1035,
    "start_time": "2023-04-18T21:33:43.659Z"
   },
   {
    "duration": 1028,
    "start_time": "2023-04-18T21:33:55.786Z"
   },
   {
    "duration": 551,
    "start_time": "2023-04-18T21:34:47.264Z"
   },
   {
    "duration": 817,
    "start_time": "2023-04-18T21:35:07.748Z"
   },
   {
    "duration": 40,
    "start_time": "2023-04-18T21:35:26.230Z"
   },
   {
    "duration": 78,
    "start_time": "2023-04-18T21:35:29.543Z"
   },
   {
    "duration": 36,
    "start_time": "2023-04-18T21:35:59.739Z"
   },
   {
    "duration": 546,
    "start_time": "2023-04-18T21:36:12.137Z"
   },
   {
    "duration": 981,
    "start_time": "2023-04-18T21:36:45.180Z"
   },
   {
    "duration": 725,
    "start_time": "2023-04-18T21:37:18.393Z"
   },
   {
    "duration": 457,
    "start_time": "2023-04-18T21:37:39.809Z"
   },
   {
    "duration": 1732,
    "start_time": "2023-04-19T13:36:25.513Z"
   },
   {
    "duration": 3199,
    "start_time": "2023-04-19T13:36:27.247Z"
   },
   {
    "duration": 34,
    "start_time": "2023-04-19T13:36:30.449Z"
   },
   {
    "duration": 33,
    "start_time": "2023-04-19T13:36:30.486Z"
   },
   {
    "duration": 45,
    "start_time": "2023-04-19T13:36:30.521Z"
   },
   {
    "duration": 43,
    "start_time": "2023-04-19T13:36:30.568Z"
   },
   {
    "duration": 98,
    "start_time": "2023-04-19T13:36:30.613Z"
   },
   {
    "duration": 30,
    "start_time": "2023-04-19T13:36:30.713Z"
   },
   {
    "duration": 35,
    "start_time": "2023-04-19T13:36:30.745Z"
   },
   {
    "duration": 22,
    "start_time": "2023-04-19T13:36:30.783Z"
   },
   {
    "duration": 67,
    "start_time": "2023-04-19T13:36:30.807Z"
   },
   {
    "duration": 24,
    "start_time": "2023-04-19T13:36:30.876Z"
   },
   {
    "duration": 37,
    "start_time": "2023-04-19T13:36:30.902Z"
   },
   {
    "duration": 40,
    "start_time": "2023-04-19T13:36:30.941Z"
   },
   {
    "duration": 347,
    "start_time": "2023-04-19T13:36:30.982Z"
   },
   {
    "duration": 804,
    "start_time": "2023-04-19T13:36:32.056Z"
   },
   {
    "duration": 583,
    "start_time": "2023-04-19T13:36:32.862Z"
   },
   {
    "duration": 911,
    "start_time": "2023-04-19T13:36:33.448Z"
   },
   {
    "duration": 309,
    "start_time": "2023-04-19T13:36:34.493Z"
   },
   {
    "duration": 19,
    "start_time": "2023-04-19T13:36:35.184Z"
   },
   {
    "duration": 2,
    "start_time": "2023-04-19T13:37:23.922Z"
   },
   {
    "duration": 2,
    "start_time": "2023-04-19T13:37:26.269Z"
   },
   {
    "duration": 5,
    "start_time": "2023-04-19T13:38:00.642Z"
   },
   {
    "duration": 7,
    "start_time": "2023-04-19T13:48:57.674Z"
   },
   {
    "duration": 8,
    "start_time": "2023-04-19T13:49:10.646Z"
   },
   {
    "duration": 10,
    "start_time": "2023-04-19T13:49:38.495Z"
   },
   {
    "duration": 16,
    "start_time": "2023-04-19T13:49:50.038Z"
   },
   {
    "duration": 192,
    "start_time": "2023-04-19T13:52:11.976Z"
   },
   {
    "duration": 50,
    "start_time": "2023-04-19T13:52:16.552Z"
   },
   {
    "duration": 54,
    "start_time": "2023-04-19T13:52:32.874Z"
   },
   {
    "duration": 71,
    "start_time": "2023-04-19T13:52:39.362Z"
   },
   {
    "duration": 8,
    "start_time": "2023-04-19T13:52:51.070Z"
   },
   {
    "duration": 97,
    "start_time": "2023-04-19T13:54:04.214Z"
   },
   {
    "duration": 584,
    "start_time": "2023-04-19T13:55:12.237Z"
   },
   {
    "duration": 3,
    "start_time": "2023-04-19T13:55:27.048Z"
   },
   {
    "duration": 3,
    "start_time": "2023-04-19T13:55:30.274Z"
   },
   {
    "duration": 6,
    "start_time": "2023-04-19T13:59:07.391Z"
   },
   {
    "duration": 9,
    "start_time": "2023-04-19T14:03:46.482Z"
   },
   {
    "duration": 1093,
    "start_time": "2023-04-19T14:04:46.554Z"
   },
   {
    "duration": 3351,
    "start_time": "2023-04-19T14:05:28.450Z"
   },
   {
    "duration": 9,
    "start_time": "2023-04-19T14:06:04.939Z"
   },
   {
    "duration": 10,
    "start_time": "2023-04-19T14:10:22.780Z"
   },
   {
    "duration": 14,
    "start_time": "2023-04-19T14:10:31.172Z"
   },
   {
    "duration": 12,
    "start_time": "2023-04-19T14:24:32.982Z"
   },
   {
    "duration": 54,
    "start_time": "2023-04-19T14:24:48.219Z"
   },
   {
    "duration": 13,
    "start_time": "2023-04-19T14:24:56.124Z"
   },
   {
    "duration": 103,
    "start_time": "2023-04-19T14:25:30.925Z"
   },
   {
    "duration": 93,
    "start_time": "2023-04-19T14:25:36.377Z"
   },
   {
    "duration": 24,
    "start_time": "2023-04-19T14:26:37.448Z"
   },
   {
    "duration": 27,
    "start_time": "2023-04-19T14:26:45.211Z"
   },
   {
    "duration": 25,
    "start_time": "2023-04-19T14:26:54.562Z"
   },
   {
    "duration": 23,
    "start_time": "2023-04-19T14:29:16.405Z"
   },
   {
    "duration": 19,
    "start_time": "2023-04-19T14:29:30.085Z"
   },
   {
    "duration": 21,
    "start_time": "2023-04-19T14:29:34.849Z"
   },
   {
    "duration": 1617,
    "start_time": "2023-04-19T22:11:47.024Z"
   },
   {
    "duration": 4326,
    "start_time": "2023-04-19T22:11:49.421Z"
   },
   {
    "duration": 21,
    "start_time": "2023-04-19T22:11:53.748Z"
   },
   {
    "duration": 38,
    "start_time": "2023-04-19T22:11:53.770Z"
   },
   {
    "duration": 21,
    "start_time": "2023-04-19T22:11:53.810Z"
   },
   {
    "duration": 9,
    "start_time": "2023-04-19T22:11:53.833Z"
   },
   {
    "duration": 53,
    "start_time": "2023-04-19T22:11:53.843Z"
   },
   {
    "duration": 7,
    "start_time": "2023-04-19T22:11:54.539Z"
   },
   {
    "duration": 11,
    "start_time": "2023-04-19T22:11:54.758Z"
   },
   {
    "duration": 12,
    "start_time": "2023-04-19T22:11:54.934Z"
   },
   {
    "duration": 21,
    "start_time": "2023-04-19T22:11:55.128Z"
   },
   {
    "duration": 12,
    "start_time": "2023-04-19T22:11:55.330Z"
   },
   {
    "duration": 27,
    "start_time": "2023-04-19T22:11:55.601Z"
   },
   {
    "duration": 15,
    "start_time": "2023-04-19T22:11:55.790Z"
   },
   {
    "duration": 410,
    "start_time": "2023-04-19T22:11:56.241Z"
   },
   {
    "duration": 752,
    "start_time": "2023-04-19T22:11:57.129Z"
   },
   {
    "duration": 500,
    "start_time": "2023-04-19T22:11:57.889Z"
   },
   {
    "duration": 795,
    "start_time": "2023-04-19T22:11:58.994Z"
   },
   {
    "duration": 2,
    "start_time": "2023-04-19T22:11:59.795Z"
   },
   {
    "duration": 3,
    "start_time": "2023-04-19T22:12:00.022Z"
   },
   {
    "duration": 2,
    "start_time": "2023-04-19T22:12:00.450Z"
   },
   {
    "duration": 550,
    "start_time": "2023-04-19T22:12:00.888Z"
   },
   {
    "duration": 5,
    "start_time": "2023-04-19T22:12:02.459Z"
   },
   {
    "duration": 18,
    "start_time": "2023-04-19T22:12:02.928Z"
   },
   {
    "duration": 147,
    "start_time": "2023-04-19T22:12:03.303Z"
   },
   {
    "duration": 44,
    "start_time": "2023-04-19T22:16:15.718Z"
   },
   {
    "duration": 33,
    "start_time": "2023-04-19T22:16:26.062Z"
   },
   {
    "duration": 684,
    "start_time": "2023-04-19T22:16:39.586Z"
   },
   {
    "duration": 553,
    "start_time": "2023-04-19T22:16:46.406Z"
   },
   {
    "duration": 549,
    "start_time": "2023-04-19T22:17:11.709Z"
   },
   {
    "duration": 100,
    "start_time": "2023-04-19T22:17:33.994Z"
   },
   {
    "duration": 3691,
    "start_time": "2023-04-19T22:19:23.548Z"
   },
   {
    "duration": 4173,
    "start_time": "2023-04-19T22:19:27.241Z"
   },
   {
    "duration": 22,
    "start_time": "2023-04-19T22:19:31.416Z"
   },
   {
    "duration": 26,
    "start_time": "2023-04-19T22:19:31.439Z"
   },
   {
    "duration": 71,
    "start_time": "2023-04-19T22:19:31.468Z"
   },
   {
    "duration": 75,
    "start_time": "2023-04-19T22:19:31.541Z"
   },
   {
    "duration": 49,
    "start_time": "2023-04-19T22:19:31.618Z"
   },
   {
    "duration": 28,
    "start_time": "2023-04-19T22:19:31.668Z"
   },
   {
    "duration": 45,
    "start_time": "2023-04-19T22:19:31.704Z"
   },
   {
    "duration": 79,
    "start_time": "2023-04-19T22:19:31.751Z"
   },
   {
    "duration": 61,
    "start_time": "2023-04-19T22:19:31.831Z"
   },
   {
    "duration": 23,
    "start_time": "2023-04-19T22:19:31.918Z"
   },
   {
    "duration": 99,
    "start_time": "2023-04-19T22:19:31.942Z"
   },
   {
    "duration": 8,
    "start_time": "2023-04-19T22:19:32.044Z"
   },
   {
    "duration": 467,
    "start_time": "2023-04-19T22:19:32.054Z"
   },
   {
    "duration": 911,
    "start_time": "2023-04-19T22:19:32.523Z"
   },
   {
    "duration": 551,
    "start_time": "2023-04-19T22:19:33.435Z"
   },
   {
    "duration": 866,
    "start_time": "2023-04-19T22:19:33.987Z"
   },
   {
    "duration": 2,
    "start_time": "2023-04-19T22:19:34.855Z"
   },
   {
    "duration": 53,
    "start_time": "2023-04-19T22:19:34.859Z"
   },
   {
    "duration": 7,
    "start_time": "2023-04-19T22:19:34.915Z"
   },
   {
    "duration": 610,
    "start_time": "2023-04-19T22:19:34.924Z"
   },
   {
    "duration": 5,
    "start_time": "2023-04-19T22:19:35.536Z"
   },
   {
    "duration": 698,
    "start_time": "2023-04-19T22:19:35.543Z"
   },
   {
    "duration": 189,
    "start_time": "2023-04-19T22:19:36.243Z"
   },
   {
    "duration": 648,
    "start_time": "2023-04-19T22:27:02.618Z"
   },
   {
    "duration": 2311,
    "start_time": "2023-04-20T04:51:54.712Z"
   },
   {
    "duration": 3313,
    "start_time": "2023-04-20T04:51:57.025Z"
   },
   {
    "duration": 20,
    "start_time": "2023-04-20T04:52:00.339Z"
   },
   {
    "duration": 28,
    "start_time": "2023-04-20T04:52:00.360Z"
   },
   {
    "duration": 44,
    "start_time": "2023-04-20T04:52:00.389Z"
   },
   {
    "duration": 9,
    "start_time": "2023-04-20T04:52:00.435Z"
   },
   {
    "duration": 62,
    "start_time": "2023-04-20T04:52:00.446Z"
   },
   {
    "duration": 6,
    "start_time": "2023-04-20T04:52:00.509Z"
   },
   {
    "duration": 35,
    "start_time": "2023-04-20T04:52:00.516Z"
   },
   {
    "duration": 21,
    "start_time": "2023-04-20T04:52:00.553Z"
   },
   {
    "duration": 21,
    "start_time": "2023-04-20T04:52:00.576Z"
   },
   {
    "duration": 34,
    "start_time": "2023-04-20T04:52:00.599Z"
   },
   {
    "duration": 41,
    "start_time": "2023-04-20T04:52:00.634Z"
   },
   {
    "duration": 82,
    "start_time": "2023-04-20T04:52:00.677Z"
   },
   {
    "duration": 119,
    "start_time": "2023-04-20T04:52:00.760Z"
   },
   {
    "duration": 0,
    "start_time": "2023-04-20T04:52:00.881Z"
   },
   {
    "duration": 0,
    "start_time": "2023-04-20T04:52:00.882Z"
   },
   {
    "duration": 0,
    "start_time": "2023-04-20T04:52:00.883Z"
   },
   {
    "duration": 0,
    "start_time": "2023-04-20T04:52:00.884Z"
   },
   {
    "duration": 0,
    "start_time": "2023-04-20T04:52:00.884Z"
   },
   {
    "duration": 0,
    "start_time": "2023-04-20T04:52:00.886Z"
   },
   {
    "duration": 0,
    "start_time": "2023-04-20T04:52:00.887Z"
   },
   {
    "duration": 1600,
    "start_time": "2023-04-20T22:54:07.685Z"
   },
   {
    "duration": 3153,
    "start_time": "2023-04-20T22:54:10.729Z"
   },
   {
    "duration": 22,
    "start_time": "2023-04-20T22:54:14.652Z"
   },
   {
    "duration": 19,
    "start_time": "2023-04-20T22:54:15.027Z"
   },
   {
    "duration": 19,
    "start_time": "2023-04-20T22:54:15.354Z"
   },
   {
    "duration": 4,
    "start_time": "2023-04-20T22:54:15.552Z"
   },
   {
    "duration": 37,
    "start_time": "2023-04-20T22:54:15.876Z"
   },
   {
    "duration": 7,
    "start_time": "2023-04-20T22:54:16.741Z"
   },
   {
    "duration": 9,
    "start_time": "2023-04-20T22:54:16.901Z"
   },
   {
    "duration": 9,
    "start_time": "2023-04-20T22:54:17.416Z"
   },
   {
    "duration": 20,
    "start_time": "2023-04-20T22:54:17.710Z"
   },
   {
    "duration": 11,
    "start_time": "2023-04-20T22:54:18.021Z"
   },
   {
    "duration": 20,
    "start_time": "2023-04-20T22:54:18.174Z"
   },
   {
    "duration": 96,
    "start_time": "2023-04-20T22:54:18.440Z"
   },
   {
    "duration": 120,
    "start_time": "2023-04-20T22:54:19.996Z"
   },
   {
    "duration": 297,
    "start_time": "2023-04-20T22:54:22.843Z"
   },
   {
    "duration": 764,
    "start_time": "2023-04-20T22:54:24.242Z"
   },
   {
    "duration": 12,
    "start_time": "2023-04-20T22:54:29.240Z"
   },
   {
    "duration": 538,
    "start_time": "2023-04-20T22:54:29.504Z"
   },
   {
    "duration": 358,
    "start_time": "2023-04-20T22:54:37.928Z"
   },
   {
    "duration": 982,
    "start_time": "2023-04-20T22:54:44.325Z"
   },
   {
    "duration": 1604,
    "start_time": "2023-04-21T14:42:07.536Z"
   },
   {
    "duration": 1979,
    "start_time": "2023-04-21T14:42:10.495Z"
   },
   {
    "duration": 24,
    "start_time": "2023-04-21T14:42:12.476Z"
   },
   {
    "duration": 19,
    "start_time": "2023-04-21T14:42:12.536Z"
   },
   {
    "duration": 27,
    "start_time": "2023-04-21T14:42:12.729Z"
   },
   {
    "duration": 5,
    "start_time": "2023-04-21T14:42:12.948Z"
   },
   {
    "duration": 52,
    "start_time": "2023-04-21T14:42:13.316Z"
   },
   {
    "duration": 7,
    "start_time": "2023-04-21T14:42:14.754Z"
   },
   {
    "duration": 8,
    "start_time": "2023-04-21T14:42:15.326Z"
   },
   {
    "duration": 12,
    "start_time": "2023-04-21T14:42:16.145Z"
   },
   {
    "duration": 20,
    "start_time": "2023-04-21T14:42:16.571Z"
   },
   {
    "duration": 12,
    "start_time": "2023-04-21T14:42:17.025Z"
   },
   {
    "duration": 26,
    "start_time": "2023-04-21T14:42:17.404Z"
   },
   {
    "duration": 121,
    "start_time": "2023-04-21T14:42:17.849Z"
   },
   {
    "duration": 129,
    "start_time": "2023-04-21T14:42:19.313Z"
   },
   {
    "duration": 362,
    "start_time": "2023-04-21T14:42:23.830Z"
   },
   {
    "duration": 848,
    "start_time": "2023-04-21T14:42:26.216Z"
   },
   {
    "duration": 442,
    "start_time": "2023-04-21T14:42:28.072Z"
   },
   {
    "duration": 510,
    "start_time": "2023-04-21T14:42:29.407Z"
   },
   {
    "duration": 965,
    "start_time": "2023-04-21T14:42:31.119Z"
   },
   {
    "duration": 520,
    "start_time": "2023-04-21T14:42:34.389Z"
   },
   {
    "duration": 11,
    "start_time": "2023-04-21T14:49:40.811Z"
   },
   {
    "duration": 10,
    "start_time": "2023-04-21T14:50:03.226Z"
   },
   {
    "duration": 10,
    "start_time": "2023-04-21T14:50:07.209Z"
   },
   {
    "duration": 68,
    "start_time": "2023-04-21T14:50:11.969Z"
   },
   {
    "duration": 10,
    "start_time": "2023-04-21T14:50:25.843Z"
   },
   {
    "duration": 28,
    "start_time": "2023-04-21T14:50:33.043Z"
   },
   {
    "duration": 4,
    "start_time": "2023-04-21T14:50:35.934Z"
   },
   {
    "duration": 2,
    "start_time": "2023-04-21T14:50:37.048Z"
   },
   {
    "duration": 11,
    "start_time": "2023-04-21T14:50:39.095Z"
   },
   {
    "duration": 470,
    "start_time": "2023-04-21T14:50:59.157Z"
   },
   {
    "duration": 8,
    "start_time": "2023-04-21T14:52:24.595Z"
   },
   {
    "duration": 9,
    "start_time": "2023-04-21T14:52:24.829Z"
   },
   {
    "duration": 8,
    "start_time": "2023-04-21T14:52:25.832Z"
   },
   {
    "duration": 14,
    "start_time": "2023-04-21T14:52:26.525Z"
   },
   {
    "duration": 10,
    "start_time": "2023-04-21T14:52:26.958Z"
   },
   {
    "duration": 23,
    "start_time": "2023-04-21T14:52:27.179Z"
   },
   {
    "duration": 103,
    "start_time": "2023-04-21T14:52:27.401Z"
   },
   {
    "duration": 505,
    "start_time": "2023-04-21T14:52:34.996Z"
   },
   {
    "duration": 12,
    "start_time": "2023-04-21T14:52:56.369Z"
   },
   {
    "duration": 28,
    "start_time": "2023-04-21T14:53:11.295Z"
   },
   {
    "duration": 11,
    "start_time": "2023-04-21T14:53:16.225Z"
   },
   {
    "duration": 230,
    "start_time": "2023-04-21T14:53:19.539Z"
   },
   {
    "duration": 32,
    "start_time": "2023-04-21T14:53:34.471Z"
   },
   {
    "duration": 311,
    "start_time": "2023-04-21T14:53:38.353Z"
   },
   {
    "duration": 514,
    "start_time": "2023-04-21T14:54:56.461Z"
   },
   {
    "duration": 29,
    "start_time": "2023-04-21T14:55:14.781Z"
   },
   {
    "duration": 6,
    "start_time": "2023-04-21T14:55:43.991Z"
   },
   {
    "duration": 6,
    "start_time": "2023-04-21T14:55:46.553Z"
   },
   {
    "duration": 5,
    "start_time": "2023-04-21T14:56:37.305Z"
   },
   {
    "duration": 11,
    "start_time": "2023-04-21T14:57:25.325Z"
   },
   {
    "duration": 695,
    "start_time": "2023-04-21T14:58:02.741Z"
   },
   {
    "duration": 33,
    "start_time": "2023-04-21T14:58:03.438Z"
   },
   {
    "duration": 23,
    "start_time": "2023-04-21T14:58:03.519Z"
   },
   {
    "duration": 20,
    "start_time": "2023-04-21T14:58:08.057Z"
   },
   {
    "duration": 5,
    "start_time": "2023-04-21T14:58:08.344Z"
   },
   {
    "duration": 39,
    "start_time": "2023-04-21T14:58:09.168Z"
   },
   {
    "duration": 7,
    "start_time": "2023-04-21T14:58:11.375Z"
   },
   {
    "duration": 8,
    "start_time": "2023-04-21T14:58:12.231Z"
   },
   {
    "duration": 12,
    "start_time": "2023-04-21T14:58:13.726Z"
   },
   {
    "duration": 14,
    "start_time": "2023-04-21T14:58:14.329Z"
   },
   {
    "duration": 11,
    "start_time": "2023-04-21T14:58:14.962Z"
   },
   {
    "duration": 16,
    "start_time": "2023-04-21T14:58:15.604Z"
   },
   {
    "duration": 73,
    "start_time": "2023-04-21T14:58:16.355Z"
   },
   {
    "duration": 12,
    "start_time": "2023-04-21T14:58:26.278Z"
   },
   {
    "duration": 9,
    "start_time": "2023-04-21T14:59:05.606Z"
   },
   {
    "duration": 99,
    "start_time": "2023-04-21T14:59:11.017Z"
   },
   {
    "duration": 4,
    "start_time": "2023-04-21T14:59:12.589Z"
   },
   {
    "duration": 17,
    "start_time": "2023-04-21T15:00:45.951Z"
   },
   {
    "duration": 303,
    "start_time": "2023-04-21T15:00:56.565Z"
   },
   {
    "duration": 14,
    "start_time": "2023-04-21T15:01:13.216Z"
   },
   {
    "duration": 328,
    "start_time": "2023-04-21T15:01:18.139Z"
   },
   {
    "duration": 647,
    "start_time": "2023-04-21T15:02:26.235Z"
   },
   {
    "duration": 20,
    "start_time": "2023-04-21T15:02:26.884Z"
   },
   {
    "duration": 24,
    "start_time": "2023-04-21T15:02:27.051Z"
   },
   {
    "duration": 20,
    "start_time": "2023-04-21T15:02:27.504Z"
   },
   {
    "duration": 5,
    "start_time": "2023-04-21T15:02:28.132Z"
   },
   {
    "duration": 37,
    "start_time": "2023-04-21T15:02:28.875Z"
   },
   {
    "duration": 8,
    "start_time": "2023-04-21T15:02:30.584Z"
   },
   {
    "duration": 8,
    "start_time": "2023-04-21T15:02:31.630Z"
   },
   {
    "duration": 11,
    "start_time": "2023-04-21T15:02:32.324Z"
   },
   {
    "duration": 18,
    "start_time": "2023-04-21T15:02:32.849Z"
   },
   {
    "duration": 10,
    "start_time": "2023-04-21T15:02:33.375Z"
   },
   {
    "duration": 17,
    "start_time": "2023-04-21T15:02:33.896Z"
   },
   {
    "duration": 80,
    "start_time": "2023-04-21T15:02:35.757Z"
   },
   {
    "duration": 368,
    "start_time": "2023-04-21T15:03:18.572Z"
   },
   {
    "duration": 524,
    "start_time": "2023-04-21T15:04:49.384Z"
   },
   {
    "duration": 37,
    "start_time": "2023-04-21T15:04:53.583Z"
   },
   {
    "duration": 23,
    "start_time": "2023-04-21T15:05:00.648Z"
   },
   {
    "duration": 5,
    "start_time": "2023-04-21T15:05:03.405Z"
   },
   {
    "duration": 5,
    "start_time": "2023-04-21T15:05:09.506Z"
   },
   {
    "duration": 366,
    "start_time": "2023-04-21T15:05:23.898Z"
   },
   {
    "duration": 5,
    "start_time": "2023-04-21T15:05:57.157Z"
   },
   {
    "duration": 24,
    "start_time": "2023-04-21T15:07:10.266Z"
   },
   {
    "duration": 22,
    "start_time": "2023-04-21T15:07:18.859Z"
   },
   {
    "duration": 5,
    "start_time": "2023-04-21T15:07:23.701Z"
   },
   {
    "duration": 864,
    "start_time": "2023-04-21T15:07:35.805Z"
   },
   {
    "duration": 3,
    "start_time": "2023-04-21T15:07:50.166Z"
   },
   {
    "duration": 3,
    "start_time": "2023-04-21T15:08:59.622Z"
   },
   {
    "duration": 4,
    "start_time": "2023-04-21T15:09:14.253Z"
   },
   {
    "duration": 73,
    "start_time": "2023-04-21T15:11:27.504Z"
   },
   {
    "duration": 632,
    "start_time": "2023-04-21T15:11:29.673Z"
   },
   {
    "duration": 20,
    "start_time": "2023-04-21T15:11:31.694Z"
   },
   {
    "duration": 19,
    "start_time": "2023-04-21T15:11:31.866Z"
   },
   {
    "duration": 20,
    "start_time": "2023-04-21T15:11:32.084Z"
   },
   {
    "duration": 4,
    "start_time": "2023-04-21T15:11:33.061Z"
   },
   {
    "duration": 155,
    "start_time": "2023-04-21T15:11:33.631Z"
   },
   {
    "duration": 7,
    "start_time": "2023-04-21T15:11:38.441Z"
   },
   {
    "duration": 11,
    "start_time": "2023-04-21T15:11:54.752Z"
   },
   {
    "duration": 9,
    "start_time": "2023-04-21T15:14:16.741Z"
   },
   {
    "duration": 9,
    "start_time": "2023-04-21T15:14:23.079Z"
   },
   {
    "duration": 614,
    "start_time": "2023-04-21T15:14:28.127Z"
   },
   {
    "duration": 8,
    "start_time": "2023-04-21T15:14:35.059Z"
   },
   {
    "duration": 9,
    "start_time": "2023-04-21T15:14:36.142Z"
   },
   {
    "duration": 7,
    "start_time": "2023-04-21T15:15:16.723Z"
   },
   {
    "duration": 6,
    "start_time": "2023-04-21T15:15:28.312Z"
   },
   {
    "duration": 9,
    "start_time": "2023-04-21T15:15:45.575Z"
   },
   {
    "duration": 14,
    "start_time": "2023-04-21T15:15:52.786Z"
   },
   {
    "duration": 14,
    "start_time": "2023-04-21T15:16:01.035Z"
   },
   {
    "duration": 8,
    "start_time": "2023-04-21T15:16:06.309Z"
   },
   {
    "duration": 592,
    "start_time": "2023-04-21T15:16:10.548Z"
   },
   {
    "duration": 20,
    "start_time": "2023-04-21T15:16:11.519Z"
   },
   {
    "duration": 21,
    "start_time": "2023-04-21T15:16:11.714Z"
   },
   {
    "duration": 20,
    "start_time": "2023-04-21T15:16:11.920Z"
   },
   {
    "duration": 4,
    "start_time": "2023-04-21T15:16:12.126Z"
   },
   {
    "duration": 37,
    "start_time": "2023-04-21T15:16:12.531Z"
   },
   {
    "duration": 6,
    "start_time": "2023-04-21T15:16:16.136Z"
   },
   {
    "duration": 5,
    "start_time": "2023-04-21T15:16:21.587Z"
   },
   {
    "duration": 9,
    "start_time": "2023-04-21T15:16:27.595Z"
   },
   {
    "duration": 9,
    "start_time": "2023-04-21T15:16:35.303Z"
   },
   {
    "duration": 15,
    "start_time": "2023-04-21T15:16:37.252Z"
   },
   {
    "duration": 11,
    "start_time": "2023-04-21T15:16:41.044Z"
   },
   {
    "duration": 17,
    "start_time": "2023-04-21T15:16:45.768Z"
   },
   {
    "duration": 72,
    "start_time": "2023-04-21T15:17:03.134Z"
   },
   {
    "duration": 15,
    "start_time": "2023-04-21T15:17:12.467Z"
   },
   {
    "duration": 10,
    "start_time": "2023-04-21T15:27:48.302Z"
   },
   {
    "duration": 44,
    "start_time": "2023-04-21T15:27:57.342Z"
   },
   {
    "duration": 56,
    "start_time": "2023-04-21T15:29:00.923Z"
   },
   {
    "duration": 5,
    "start_time": "2023-04-21T15:29:17.764Z"
   },
   {
    "duration": 4,
    "start_time": "2023-04-21T15:29:20.706Z"
   },
   {
    "duration": 313,
    "start_time": "2023-04-21T15:29:23.252Z"
   },
   {
    "duration": 8,
    "start_time": "2023-04-21T15:30:50.859Z"
   },
   {
    "duration": 12,
    "start_time": "2023-04-21T15:31:12.284Z"
   },
   {
    "duration": 59,
    "start_time": "2023-04-21T15:32:51.174Z"
   },
   {
    "duration": 17,
    "start_time": "2023-04-21T15:33:42.043Z"
   },
   {
    "duration": 9,
    "start_time": "2023-04-21T15:33:46.298Z"
   },
   {
    "duration": 21,
    "start_time": "2023-04-21T15:33:46.981Z"
   },
   {
    "duration": 627,
    "start_time": "2023-04-21T15:34:24.152Z"
   },
   {
    "duration": 25,
    "start_time": "2023-04-21T15:34:24.781Z"
   },
   {
    "duration": 22,
    "start_time": "2023-04-21T15:34:24.808Z"
   },
   {
    "duration": 20,
    "start_time": "2023-04-21T15:34:24.911Z"
   },
   {
    "duration": 4,
    "start_time": "2023-04-21T15:34:25.185Z"
   },
   {
    "duration": 40,
    "start_time": "2023-04-21T15:34:25.436Z"
   },
   {
    "duration": 7,
    "start_time": "2023-04-21T15:34:26.600Z"
   },
   {
    "duration": 9,
    "start_time": "2023-04-21T15:34:27.106Z"
   },
   {
    "duration": 9,
    "start_time": "2023-04-21T15:34:28.429Z"
   },
   {
    "duration": 14,
    "start_time": "2023-04-21T15:34:28.983Z"
   },
   {
    "duration": 10,
    "start_time": "2023-04-21T15:34:29.514Z"
   },
   {
    "duration": 17,
    "start_time": "2023-04-21T15:34:30.798Z"
   },
   {
    "duration": 81,
    "start_time": "2023-04-21T15:34:36.475Z"
   },
   {
    "duration": 13,
    "start_time": "2023-04-21T15:34:41.579Z"
   },
   {
    "duration": 18,
    "start_time": "2023-04-21T15:34:42.334Z"
   },
   {
    "duration": 637,
    "start_time": "2023-04-21T15:35:04.650Z"
   },
   {
    "duration": 19,
    "start_time": "2023-04-21T15:35:05.381Z"
   },
   {
    "duration": 24,
    "start_time": "2023-04-21T15:35:05.918Z"
   },
   {
    "duration": 23,
    "start_time": "2023-04-21T15:35:06.124Z"
   },
   {
    "duration": 5,
    "start_time": "2023-04-21T15:35:06.320Z"
   },
   {
    "duration": 38,
    "start_time": "2023-04-21T15:35:06.633Z"
   },
   {
    "duration": 9,
    "start_time": "2023-04-21T15:35:07.420Z"
   },
   {
    "duration": 8,
    "start_time": "2023-04-21T15:35:07.583Z"
   },
   {
    "duration": 8,
    "start_time": "2023-04-21T15:35:09.915Z"
   },
   {
    "duration": 15,
    "start_time": "2023-04-21T15:35:10.507Z"
   },
   {
    "duration": 10,
    "start_time": "2023-04-21T15:35:10.759Z"
   },
   {
    "duration": 19,
    "start_time": "2023-04-21T15:35:11.282Z"
   },
   {
    "duration": 3,
    "start_time": "2023-04-21T15:35:11.586Z"
   },
   {
    "duration": 57,
    "start_time": "2023-04-21T15:35:20.705Z"
   },
   {
    "duration": 5,
    "start_time": "2023-04-21T15:35:23.359Z"
   },
   {
    "duration": 12,
    "start_time": "2023-04-21T15:35:24.311Z"
   },
   {
    "duration": 920,
    "start_time": "2023-04-21T15:35:26.351Z"
   },
   {
    "duration": 3,
    "start_time": "2023-04-21T15:35:43.054Z"
   },
   {
    "duration": 4,
    "start_time": "2023-04-21T15:36:40.335Z"
   },
   {
    "duration": 5,
    "start_time": "2023-04-21T15:37:00.219Z"
   },
   {
    "duration": 996,
    "start_time": "2023-04-21T15:38:10.078Z"
   },
   {
    "duration": 4,
    "start_time": "2023-04-21T15:44:26.668Z"
   },
   {
    "duration": 822,
    "start_time": "2023-04-21T15:44:29.051Z"
   },
   {
    "duration": 5,
    "start_time": "2023-04-21T15:45:22.173Z"
   },
   {
    "duration": 585,
    "start_time": "2023-04-21T15:45:40.279Z"
   },
   {
    "duration": 20,
    "start_time": "2023-04-21T15:45:41.373Z"
   },
   {
    "duration": 20,
    "start_time": "2023-04-21T15:45:41.526Z"
   },
   {
    "duration": 19,
    "start_time": "2023-04-21T15:45:41.700Z"
   },
   {
    "duration": 5,
    "start_time": "2023-04-21T15:45:41.849Z"
   },
   {
    "duration": 38,
    "start_time": "2023-04-21T15:45:42.005Z"
   },
   {
    "duration": 8,
    "start_time": "2023-04-21T15:45:42.438Z"
   },
   {
    "duration": 8,
    "start_time": "2023-04-21T15:45:42.570Z"
   },
   {
    "duration": 10,
    "start_time": "2023-04-21T15:45:42.870Z"
   },
   {
    "duration": 16,
    "start_time": "2023-04-21T15:45:43.467Z"
   },
   {
    "duration": 9,
    "start_time": "2023-04-21T15:45:43.904Z"
   },
   {
    "duration": 18,
    "start_time": "2023-04-21T15:45:44.271Z"
   },
   {
    "duration": 2,
    "start_time": "2023-04-21T15:45:44.707Z"
   },
   {
    "duration": 7,
    "start_time": "2023-04-21T15:45:58.101Z"
   },
   {
    "duration": 253,
    "start_time": "2023-04-21T15:46:00.488Z"
   },
   {
    "duration": 667,
    "start_time": "2023-04-21T15:46:00.999Z"
   },
   {
    "duration": 59,
    "start_time": "2023-04-21T15:46:08.220Z"
   },
   {
    "duration": 5,
    "start_time": "2023-04-21T15:46:10.205Z"
   },
   {
    "duration": 6,
    "start_time": "2023-04-21T15:46:10.899Z"
   },
   {
    "duration": 793,
    "start_time": "2023-04-21T15:46:13.575Z"
   },
   {
    "duration": 761,
    "start_time": "2023-04-21T15:49:35.010Z"
   },
   {
    "duration": 854,
    "start_time": "2023-04-21T15:49:45.020Z"
   },
   {
    "duration": 1240,
    "start_time": "2023-04-21T15:50:16.717Z"
   },
   {
    "duration": 1205,
    "start_time": "2023-04-21T15:50:24.389Z"
   },
   {
    "duration": 5,
    "start_time": "2023-04-21T15:50:36.590Z"
   },
   {
    "duration": 5,
    "start_time": "2023-04-21T15:51:41.145Z"
   },
   {
    "duration": 8,
    "start_time": "2023-04-21T15:52:06.375Z"
   },
   {
    "duration": 1065,
    "start_time": "2023-04-21T15:53:13.105Z"
   },
   {
    "duration": 4,
    "start_time": "2023-04-21T15:53:46.655Z"
   },
   {
    "duration": 5,
    "start_time": "2023-04-21T15:54:04.535Z"
   },
   {
    "duration": 7,
    "start_time": "2023-04-21T15:54:36.518Z"
   },
   {
    "duration": 980,
    "start_time": "2023-04-21T15:54:39.893Z"
   },
   {
    "duration": 15,
    "start_time": "2023-04-21T15:55:46.748Z"
   },
   {
    "duration": 4,
    "start_time": "2023-04-21T16:01:07.458Z"
   },
   {
    "duration": 15,
    "start_time": "2023-04-21T16:01:09.250Z"
   },
   {
    "duration": 6,
    "start_time": "2023-04-21T16:01:18.260Z"
   },
   {
    "duration": 1217,
    "start_time": "2023-04-21T16:01:23.453Z"
   },
   {
    "duration": 652,
    "start_time": "2023-04-21T16:01:33.321Z"
   },
   {
    "duration": 693,
    "start_time": "2023-04-21T16:01:39.778Z"
   },
   {
    "duration": 11,
    "start_time": "2023-04-21T16:03:52.377Z"
   },
   {
    "duration": 54,
    "start_time": "2023-04-21T16:04:33.813Z"
   },
   {
    "duration": 213792,
    "start_time": "2023-04-21T16:04:47.944Z"
   },
   {
    "duration": 2,
    "start_time": "2023-04-21T16:08:53.924Z"
   },
   {
    "duration": 49910,
    "start_time": "2023-04-21T16:11:31.641Z"
   },
   {
    "duration": 17469,
    "start_time": "2023-04-21T16:12:26.811Z"
   },
   {
    "duration": 173313,
    "start_time": "2023-04-21T16:12:52.613Z"
   },
   {
    "duration": 25585,
    "start_time": "2023-04-21T16:16:06.523Z"
   },
   {
    "duration": 864,
    "start_time": "2023-04-21T16:16:35.764Z"
   },
   {
    "duration": 159904,
    "start_time": "2023-04-21T16:17:01.425Z"
   },
   {
    "duration": 0,
    "start_time": "2023-04-21T16:19:41.331Z"
   },
   {
    "duration": 35821,
    "start_time": "2023-04-21T16:19:58.694Z"
   },
   {
    "duration": 35422,
    "start_time": "2023-04-21T16:21:47.650Z"
   },
   {
    "duration": 2,
    "start_time": "2023-04-21T16:22:43.621Z"
   },
   {
    "duration": 3,
    "start_time": "2023-04-21T16:25:36.882Z"
   },
   {
    "duration": 40,
    "start_time": "2023-04-21T16:26:18.744Z"
   },
   {
    "duration": 4,
    "start_time": "2023-04-21T16:27:20.097Z"
   },
   {
    "duration": 14,
    "start_time": "2023-04-21T16:28:21.844Z"
   },
   {
    "duration": 41,
    "start_time": "2023-04-21T16:28:53.602Z"
   },
   {
    "duration": 1727,
    "start_time": "2023-04-21T16:29:01.342Z"
   },
   {
    "duration": 4,
    "start_time": "2023-04-21T16:29:27.959Z"
   },
   {
    "duration": 3,
    "start_time": "2023-04-21T16:29:29.741Z"
   },
   {
    "duration": 1785,
    "start_time": "2023-04-21T16:29:33.680Z"
   },
   {
    "duration": 212890,
    "start_time": "2023-04-21T16:30:02.860Z"
   },
   {
    "duration": 112721,
    "start_time": "2023-04-21T16:36:13.580Z"
   },
   {
    "duration": 42,
    "start_time": "2023-04-21T16:38:27.392Z"
   },
   {
    "duration": 3,
    "start_time": "2023-04-21T16:38:39.900Z"
   },
   {
    "duration": 8,
    "start_time": "2023-04-21T16:41:10.520Z"
   },
   {
    "duration": 18325,
    "start_time": "2023-04-21T16:49:07.847Z"
   },
   {
    "duration": 4,
    "start_time": "2023-04-21T16:50:08.728Z"
   },
   {
    "duration": 9,
    "start_time": "2023-04-21T16:50:30.386Z"
   },
   {
    "duration": 3,
    "start_time": "2023-04-21T16:50:35.272Z"
   },
   {
    "duration": 3,
    "start_time": "2023-04-21T16:50:44.950Z"
   },
   {
    "duration": 3,
    "start_time": "2023-04-21T16:50:58.393Z"
   },
   {
    "duration": 3,
    "start_time": "2023-04-21T16:51:08.955Z"
   },
   {
    "duration": 4,
    "start_time": "2023-04-21T16:51:11.106Z"
   },
   {
    "duration": 5,
    "start_time": "2023-04-21T16:52:17.360Z"
   },
   {
    "duration": 9,
    "start_time": "2023-04-21T16:54:07.406Z"
   },
   {
    "duration": 70,
    "start_time": "2023-04-21T16:54:11.974Z"
   },
   {
    "duration": 3,
    "start_time": "2023-04-21T16:54:16.723Z"
   },
   {
    "duration": 4,
    "start_time": "2023-04-21T16:55:35.711Z"
   },
   {
    "duration": 291,
    "start_time": "2023-04-21T16:56:52.975Z"
   },
   {
    "duration": 11,
    "start_time": "2023-04-21T16:57:12.943Z"
   },
   {
    "duration": 5,
    "start_time": "2023-04-21T17:02:59.886Z"
   },
   {
    "duration": 15,
    "start_time": "2023-04-21T17:03:04.852Z"
   },
   {
    "duration": 4,
    "start_time": "2023-04-21T17:03:32.177Z"
   },
   {
    "duration": 15,
    "start_time": "2023-04-21T17:07:45.197Z"
   },
   {
    "duration": 3,
    "start_time": "2023-04-21T17:07:49.059Z"
   },
   {
    "duration": 52,
    "start_time": "2023-04-21T17:09:16.336Z"
   },
   {
    "duration": 18581,
    "start_time": "2023-04-21T17:09:21.210Z"
   },
   {
    "duration": 3,
    "start_time": "2023-04-21T17:09:57.615Z"
   },
   {
    "duration": 3,
    "start_time": "2023-04-21T17:10:35.095Z"
   },
   {
    "duration": 15,
    "start_time": "2023-04-21T17:10:36.138Z"
   },
   {
    "duration": 3,
    "start_time": "2023-04-21T17:10:38.913Z"
   },
   {
    "duration": 4,
    "start_time": "2023-04-21T17:12:36.236Z"
   },
   {
    "duration": 14,
    "start_time": "2023-04-21T17:12:37.878Z"
   },
   {
    "duration": 3,
    "start_time": "2023-04-21T17:12:40.350Z"
   },
   {
    "duration": 52,
    "start_time": "2023-04-21T17:12:44.263Z"
   },
   {
    "duration": 5,
    "start_time": "2023-04-21T17:12:48.185Z"
   },
   {
    "duration": 14850,
    "start_time": "2023-04-21T17:12:50.279Z"
   },
   {
    "duration": 14698,
    "start_time": "2023-04-21T17:13:53.688Z"
   },
   {
    "duration": 71094,
    "start_time": "2023-04-21T17:15:34.153Z"
   },
   {
    "duration": 141176,
    "start_time": "2023-04-21T17:17:02.703Z"
   },
   {
    "duration": 75059,
    "start_time": "2023-04-21T17:19:34.633Z"
   },
   {
    "duration": 1434,
    "start_time": "2023-04-21T17:28:54.043Z"
   },
   {
    "duration": 695,
    "start_time": "2023-04-21T17:28:55.478Z"
   },
   {
    "duration": 23,
    "start_time": "2023-04-21T17:28:56.175Z"
   },
   {
    "duration": 38,
    "start_time": "2023-04-21T17:28:56.199Z"
   },
   {
    "duration": 88,
    "start_time": "2023-04-21T17:28:56.240Z"
   },
   {
    "duration": 33,
    "start_time": "2023-04-21T17:28:56.330Z"
   },
   {
    "duration": 70,
    "start_time": "2023-04-21T17:28:56.365Z"
   },
   {
    "duration": 16,
    "start_time": "2023-04-21T17:28:56.437Z"
   },
   {
    "duration": 36,
    "start_time": "2023-04-21T17:28:56.455Z"
   },
   {
    "duration": 20,
    "start_time": "2023-04-21T17:28:56.493Z"
   },
   {
    "duration": 30,
    "start_time": "2023-04-21T17:28:56.514Z"
   },
   {
    "duration": 13,
    "start_time": "2023-04-21T17:28:56.545Z"
   },
   {
    "duration": 34,
    "start_time": "2023-04-21T17:28:56.560Z"
   },
   {
    "duration": 2,
    "start_time": "2023-04-21T17:28:56.597Z"
   },
   {
    "duration": 14,
    "start_time": "2023-04-21T17:28:56.601Z"
   },
   {
    "duration": 323,
    "start_time": "2023-04-21T17:28:56.617Z"
   },
   {
    "duration": 841,
    "start_time": "2023-04-21T17:28:56.941Z"
   },
   {
    "duration": 368,
    "start_time": "2023-04-21T17:28:57.783Z"
   },
   {
    "duration": 513,
    "start_time": "2023-04-21T17:28:58.153Z"
   },
   {
    "duration": 908,
    "start_time": "2023-04-21T17:28:58.667Z"
   },
   {
    "duration": 513,
    "start_time": "2023-04-21T17:28:59.576Z"
   },
   {
    "duration": 86,
    "start_time": "2023-04-21T17:29:00.091Z"
   },
   {
    "duration": 4,
    "start_time": "2023-04-21T17:29:00.179Z"
   },
   {
    "duration": 786,
    "start_time": "2023-04-21T17:29:00.185Z"
   },
   {
    "duration": 3909,
    "start_time": "2023-04-21T17:29:01.063Z"
   },
   {
    "duration": 101767,
    "start_time": "2023-04-21T17:29:04.974Z"
   },
   {
    "duration": 394980,
    "start_time": "2023-04-21T17:30:46.742Z"
   },
   {
    "duration": 8,
    "start_time": "2023-04-21T17:37:21.724Z"
   },
   {
    "duration": 15,
    "start_time": "2023-04-21T17:37:21.734Z"
   },
   {
    "duration": 77503,
    "start_time": "2023-04-21T17:37:21.751Z"
   },
   {
    "duration": 9,
    "start_time": "2023-04-21T17:38:39.256Z"
   },
   {
    "duration": 2,
    "start_time": "2023-04-21T18:03:31.012Z"
   },
   {
    "duration": 110,
    "start_time": "2023-04-21T18:05:36.278Z"
   },
   {
    "duration": 40,
    "start_time": "2023-04-21T18:05:55.329Z"
   },
   {
    "duration": 1453,
    "start_time": "2023-04-21T18:06:05.324Z"
   },
   {
    "duration": 305,
    "start_time": "2023-04-21T18:07:02.927Z"
   },
   {
    "duration": 360,
    "start_time": "2023-04-21T18:07:27.314Z"
   },
   {
    "duration": 5773,
    "start_time": "2023-04-21T18:10:06.216Z"
   },
   {
    "duration": 292,
    "start_time": "2023-04-21T18:10:40.082Z"
   },
   {
    "duration": 320,
    "start_time": "2023-04-21T18:11:13.576Z"
   },
   {
    "duration": 299,
    "start_time": "2023-04-21T18:12:48.797Z"
   },
   {
    "duration": 777,
    "start_time": "2023-04-21T18:12:55.629Z"
   },
   {
    "duration": 1213,
    "start_time": "2023-04-21T18:13:28.824Z"
   },
   {
    "duration": 1210,
    "start_time": "2023-04-21T18:14:42.611Z"
   },
   {
    "duration": 1156,
    "start_time": "2023-04-21T18:14:49.465Z"
   },
   {
    "duration": 12,
    "start_time": "2023-04-21T18:15:27.776Z"
   },
   {
    "duration": 17,
    "start_time": "2023-04-21T18:15:41.330Z"
   },
   {
    "duration": 1034,
    "start_time": "2023-04-21T18:15:56.206Z"
   },
   {
    "duration": 18,
    "start_time": "2023-04-21T18:16:08.890Z"
   },
   {
    "duration": 1225,
    "start_time": "2023-04-21T18:16:14.520Z"
   },
   {
    "duration": 1204,
    "start_time": "2023-04-21T18:16:35.821Z"
   },
   {
    "duration": 12,
    "start_time": "2023-04-21T18:28:57.980Z"
   },
   {
    "duration": 12,
    "start_time": "2023-04-21T18:29:08.994Z"
   },
   {
    "duration": 15,
    "start_time": "2023-04-21T18:29:30.155Z"
   },
   {
    "duration": 1370,
    "start_time": "2023-04-21T18:32:24.203Z"
   },
   {
    "duration": 672,
    "start_time": "2023-04-21T18:32:25.575Z"
   },
   {
    "duration": 28,
    "start_time": "2023-04-21T18:32:26.249Z"
   },
   {
    "duration": 20,
    "start_time": "2023-04-21T18:32:26.278Z"
   },
   {
    "duration": 21,
    "start_time": "2023-04-21T18:32:26.300Z"
   },
   {
    "duration": 4,
    "start_time": "2023-04-21T18:32:26.322Z"
   },
   {
    "duration": 67,
    "start_time": "2023-04-21T18:32:26.328Z"
   },
   {
    "duration": 6,
    "start_time": "2023-04-21T18:32:26.396Z"
   },
   {
    "duration": 8,
    "start_time": "2023-04-21T18:32:26.403Z"
   },
   {
    "duration": 7,
    "start_time": "2023-04-21T18:32:26.412Z"
   },
   {
    "duration": 44,
    "start_time": "2023-04-21T18:32:26.420Z"
   },
   {
    "duration": 9,
    "start_time": "2023-04-21T18:32:26.465Z"
   },
   {
    "duration": 23,
    "start_time": "2023-04-21T18:32:26.476Z"
   },
   {
    "duration": 2,
    "start_time": "2023-04-21T18:32:26.502Z"
   },
   {
    "duration": 9,
    "start_time": "2023-04-21T18:32:26.506Z"
   },
   {
    "duration": 312,
    "start_time": "2023-04-21T18:32:26.516Z"
   },
   {
    "duration": 790,
    "start_time": "2023-04-21T18:32:26.829Z"
   },
   {
    "duration": 2,
    "start_time": "2023-04-21T18:32:27.621Z"
   },
   {
    "duration": 508,
    "start_time": "2023-04-21T18:32:27.624Z"
   },
   {
    "duration": 768,
    "start_time": "2023-04-21T18:32:28.133Z"
   },
   {
    "duration": 627,
    "start_time": "2023-04-21T18:32:28.903Z"
   },
   {
    "duration": 1013,
    "start_time": "2023-04-21T18:32:29.532Z"
   },
   {
    "duration": 37,
    "start_time": "2023-04-21T18:32:30.547Z"
   },
   {
    "duration": 69,
    "start_time": "2023-04-21T18:32:30.585Z"
   },
   {
    "duration": 8,
    "start_time": "2023-04-21T18:32:30.655Z"
   },
   {
    "duration": 908,
    "start_time": "2023-04-21T18:32:30.664Z"
   },
   {
    "duration": 4402,
    "start_time": "2023-04-21T18:32:31.664Z"
   },
   {
    "duration": 100566,
    "start_time": "2023-04-21T18:32:36.068Z"
   },
   {
    "duration": 3931,
    "start_time": "2023-04-22T14:02:55.306Z"
   },
   {
    "duration": 696,
    "start_time": "2023-04-22T14:02:59.239Z"
   },
   {
    "duration": 23,
    "start_time": "2023-04-22T14:02:59.936Z"
   },
   {
    "duration": 32,
    "start_time": "2023-04-22T14:02:59.960Z"
   },
   {
    "duration": 43,
    "start_time": "2023-04-22T14:02:59.993Z"
   },
   {
    "duration": 35,
    "start_time": "2023-04-22T14:03:00.038Z"
   },
   {
    "duration": 50,
    "start_time": "2023-04-22T14:03:00.075Z"
   },
   {
    "duration": 29,
    "start_time": "2023-04-22T14:03:00.127Z"
   },
   {
    "duration": 27,
    "start_time": "2023-04-22T14:03:00.158Z"
   },
   {
    "duration": 20,
    "start_time": "2023-04-22T14:03:00.186Z"
   },
   {
    "duration": 40,
    "start_time": "2023-04-22T14:03:00.207Z"
   },
   {
    "duration": 10,
    "start_time": "2023-04-22T14:03:00.248Z"
   },
   {
    "duration": 34,
    "start_time": "2023-04-22T14:03:00.260Z"
   },
   {
    "duration": 7,
    "start_time": "2023-04-22T14:03:00.297Z"
   },
   {
    "duration": 321,
    "start_time": "2023-04-22T14:03:00.306Z"
   },
   {
    "duration": 780,
    "start_time": "2023-04-22T14:03:00.629Z"
   },
   {
    "duration": 487,
    "start_time": "2023-04-22T14:03:01.411Z"
   },
   {
    "duration": 758,
    "start_time": "2023-04-22T14:03:01.899Z"
   },
   {
    "duration": 1067,
    "start_time": "2023-04-22T14:03:02.659Z"
   },
   {
    "duration": 14,
    "start_time": "2023-04-22T14:03:03.734Z"
   },
   {
    "duration": 33,
    "start_time": "2023-04-22T14:03:03.749Z"
   },
   {
    "duration": 15,
    "start_time": "2023-04-22T14:03:03.784Z"
   },
   {
    "duration": 74,
    "start_time": "2023-04-22T14:04:46.825Z"
   },
   {
    "duration": 16,
    "start_time": "2023-04-22T14:05:36.835Z"
   },
   {
    "duration": 110,
    "start_time": "2023-04-22T14:15:34.135Z"
   },
   {
    "duration": 4,
    "start_time": "2023-04-22T14:15:43.588Z"
   },
   {
    "duration": 9,
    "start_time": "2023-04-22T14:15:47.159Z"
   },
   {
    "duration": 3,
    "start_time": "2023-04-22T14:18:01.315Z"
   },
   {
    "duration": 1689,
    "start_time": "2023-04-22T14:28:41.946Z"
   },
   {
    "duration": 3413,
    "start_time": "2023-04-22T14:28:44.874Z"
   },
   {
    "duration": 24,
    "start_time": "2023-04-22T14:28:48.289Z"
   },
   {
    "duration": 18,
    "start_time": "2023-04-22T14:28:48.932Z"
   },
   {
    "duration": 26,
    "start_time": "2023-04-22T14:28:49.196Z"
   },
   {
    "duration": 5,
    "start_time": "2023-04-22T14:28:49.451Z"
   },
   {
    "duration": 42,
    "start_time": "2023-04-22T14:28:49.862Z"
   },
   {
    "duration": 9,
    "start_time": "2023-04-22T14:28:52.445Z"
   },
   {
    "duration": 10,
    "start_time": "2023-04-22T14:28:52.931Z"
   },
   {
    "duration": 9,
    "start_time": "2023-04-22T14:28:55.304Z"
   },
   {
    "duration": 18,
    "start_time": "2023-04-22T14:28:55.748Z"
   },
   {
    "duration": 10,
    "start_time": "2023-04-22T14:28:56.243Z"
   },
   {
    "duration": 22,
    "start_time": "2023-04-22T14:28:56.674Z"
   },
   {
    "duration": 124,
    "start_time": "2023-04-22T14:28:58.314Z"
   },
   {
    "duration": 8,
    "start_time": "2023-04-22T14:29:17.392Z"
   },
   {
    "duration": 35,
    "start_time": "2023-04-22T14:56:24.446Z"
   },
   {
    "duration": 36,
    "start_time": "2023-04-22T14:56:27.180Z"
   },
   {
    "duration": 861,
    "start_time": "2023-04-22T14:56:28.103Z"
   },
   {
    "duration": 24,
    "start_time": "2023-04-22T14:56:28.966Z"
   },
   {
    "duration": 23,
    "start_time": "2023-04-22T14:56:29.568Z"
   },
   {
    "duration": 21,
    "start_time": "2023-04-22T14:56:29.755Z"
   },
   {
    "duration": 4,
    "start_time": "2023-04-22T14:56:30.179Z"
   },
   {
    "duration": 40,
    "start_time": "2023-04-22T14:56:30.356Z"
   },
   {
    "duration": 9,
    "start_time": "2023-04-22T14:56:31.362Z"
   },
   {
    "duration": 11,
    "start_time": "2023-04-22T14:56:31.695Z"
   },
   {
    "duration": 19,
    "start_time": "2023-04-22T14:56:32.619Z"
   },
   {
    "duration": 21,
    "start_time": "2023-04-22T14:56:32.779Z"
   },
   {
    "duration": 11,
    "start_time": "2023-04-22T14:56:33.088Z"
   },
   {
    "duration": 19,
    "start_time": "2023-04-22T14:56:33.290Z"
   },
   {
    "duration": 7,
    "start_time": "2023-04-22T14:56:33.971Z"
   },
   {
    "duration": 452,
    "start_time": "2023-04-22T14:56:38.964Z"
   },
   {
    "duration": 5,
    "start_time": "2023-04-22T14:57:49.527Z"
   },
   {
    "duration": 20,
    "start_time": "2023-04-22T15:01:57.412Z"
   },
   {
    "duration": 17,
    "start_time": "2023-04-22T15:02:06.008Z"
   },
   {
    "duration": 12,
    "start_time": "2023-04-22T15:02:33.239Z"
   },
   {
    "duration": 14,
    "start_time": "2023-04-22T15:02:40.095Z"
   },
   {
    "duration": 17,
    "start_time": "2023-04-22T15:02:56.662Z"
   },
   {
    "duration": 881,
    "start_time": "2023-04-22T15:03:05.410Z"
   },
   {
    "duration": 943,
    "start_time": "2023-04-22T15:03:14.632Z"
   },
   {
    "duration": 198,
    "start_time": "2023-04-22T15:04:02.649Z"
   },
   {
    "duration": 393,
    "start_time": "2023-04-22T15:04:22.471Z"
   },
   {
    "duration": 401,
    "start_time": "2023-04-22T15:04:34.258Z"
   },
   {
    "duration": 1191,
    "start_time": "2023-04-22T15:05:59.214Z"
   },
   {
    "duration": 359,
    "start_time": "2023-04-22T15:07:23.175Z"
   },
   {
    "duration": 716,
    "start_time": "2023-04-22T15:11:07.085Z"
   },
   {
    "duration": 784,
    "start_time": "2023-04-22T15:12:26.432Z"
   },
   {
    "duration": 650,
    "start_time": "2023-04-22T15:12:33.973Z"
   },
   {
    "duration": 798,
    "start_time": "2023-04-22T15:12:39.612Z"
   },
   {
    "duration": 40,
    "start_time": "2023-04-22T15:19:41.191Z"
   },
   {
    "duration": 29,
    "start_time": "2023-04-22T15:22:38.604Z"
   },
   {
    "duration": 66,
    "start_time": "2023-04-22T15:23:55.071Z"
   },
   {
    "duration": 83,
    "start_time": "2023-04-22T15:25:56.192Z"
   },
   {
    "duration": 48,
    "start_time": "2023-04-22T15:26:59.068Z"
   },
   {
    "duration": 31,
    "start_time": "2023-04-22T15:27:11.811Z"
   },
   {
    "duration": 5,
    "start_time": "2023-04-22T15:28:57.063Z"
   },
   {
    "duration": 122,
    "start_time": "2023-04-22T15:29:57.250Z"
   },
   {
    "duration": 848,
    "start_time": "2023-04-22T15:47:38.213Z"
   },
   {
    "duration": 10,
    "start_time": "2023-04-22T15:47:57.008Z"
   },
   {
    "duration": 15,
    "start_time": "2023-04-22T15:48:01.685Z"
   },
   {
    "duration": 11,
    "start_time": "2023-04-22T15:48:28.526Z"
   },
   {
    "duration": 6,
    "start_time": "2023-04-22T15:48:35.908Z"
   },
   {
    "duration": 6,
    "start_time": "2023-04-22T15:48:42.929Z"
   },
   {
    "duration": 4,
    "start_time": "2023-04-22T15:49:48.343Z"
   },
   {
    "duration": 22,
    "start_time": "2023-04-22T15:49:50.664Z"
   },
   {
    "duration": 10,
    "start_time": "2023-04-22T15:50:18.377Z"
   },
   {
    "duration": 15,
    "start_time": "2023-04-22T15:50:23.514Z"
   },
   {
    "duration": 21,
    "start_time": "2023-04-22T15:50:25.375Z"
   },
   {
    "duration": 13,
    "start_time": "2023-04-22T15:52:21.292Z"
   },
   {
    "duration": 27,
    "start_time": "2023-04-22T15:53:16.425Z"
   },
   {
    "duration": 34,
    "start_time": "2023-04-22T15:56:05.788Z"
   },
   {
    "duration": 15,
    "start_time": "2023-04-22T15:56:10.061Z"
   },
   {
    "duration": 27,
    "start_time": "2023-04-22T15:59:09.039Z"
   },
   {
    "duration": 790,
    "start_time": "2023-04-22T15:59:58.117Z"
   },
   {
    "duration": 13,
    "start_time": "2023-04-22T15:59:59.454Z"
   },
   {
    "duration": 21,
    "start_time": "2023-04-22T15:59:59.762Z"
   },
   {
    "duration": 22,
    "start_time": "2023-04-22T16:00:00.059Z"
   },
   {
    "duration": 22,
    "start_time": "2023-04-22T16:00:00.529Z"
   },
   {
    "duration": 7,
    "start_time": "2023-04-22T16:00:00.726Z"
   },
   {
    "duration": 38,
    "start_time": "2023-04-22T16:00:01.051Z"
   },
   {
    "duration": 8,
    "start_time": "2023-04-22T16:00:02.268Z"
   },
   {
    "duration": 9,
    "start_time": "2023-04-22T16:00:02.699Z"
   },
   {
    "duration": 12,
    "start_time": "2023-04-22T16:00:05.512Z"
   },
   {
    "duration": 13,
    "start_time": "2023-04-22T16:00:05.955Z"
   },
   {
    "duration": 9,
    "start_time": "2023-04-22T16:00:06.378Z"
   },
   {
    "duration": 15,
    "start_time": "2023-04-22T16:00:06.767Z"
   },
   {
    "duration": 9,
    "start_time": "2023-04-22T16:00:08.568Z"
   },
   {
    "duration": 23,
    "start_time": "2023-04-22T16:00:19.272Z"
   },
   {
    "duration": 800,
    "start_time": "2023-04-22T16:00:55.413Z"
   },
   {
    "duration": 15,
    "start_time": "2023-04-22T16:00:58.450Z"
   },
   {
    "duration": 32,
    "start_time": "2023-04-22T16:00:59.697Z"
   },
   {
    "duration": 20,
    "start_time": "2023-04-22T16:01:00.191Z"
   },
   {
    "duration": 21,
    "start_time": "2023-04-22T16:01:00.268Z"
   },
   {
    "duration": 5,
    "start_time": "2023-04-22T16:01:00.356Z"
   },
   {
    "duration": 48,
    "start_time": "2023-04-22T16:01:00.434Z"
   },
   {
    "duration": 8,
    "start_time": "2023-04-22T16:01:00.694Z"
   },
   {
    "duration": 8,
    "start_time": "2023-04-22T16:01:01.288Z"
   },
   {
    "duration": 8,
    "start_time": "2023-04-22T16:01:02.175Z"
   },
   {
    "duration": 15,
    "start_time": "2023-04-22T16:01:02.532Z"
   },
   {
    "duration": 8,
    "start_time": "2023-04-22T16:01:02.958Z"
   },
   {
    "duration": 21,
    "start_time": "2023-04-22T16:01:03.327Z"
   },
   {
    "duration": 9,
    "start_time": "2023-04-22T16:01:04.168Z"
   },
   {
    "duration": 31,
    "start_time": "2023-04-22T16:01:11.775Z"
   },
   {
    "duration": 4,
    "start_time": "2023-04-22T16:01:18.932Z"
   },
   {
    "duration": 625,
    "start_time": "2023-04-22T16:01:23.006Z"
   },
   {
    "duration": 3041,
    "start_time": "2023-04-22T16:01:27.882Z"
   },
   {
    "duration": 4,
    "start_time": "2023-04-22T16:03:04.841Z"
   },
   {
    "duration": 836,
    "start_time": "2023-04-22T16:03:07.905Z"
   },
   {
    "duration": 4694,
    "start_time": "2023-04-22T16:03:09.930Z"
   },
   {
    "duration": 95511,
    "start_time": "2023-04-22T16:03:21.196Z"
   },
   {
    "duration": 32,
    "start_time": "2023-04-22T16:11:35.953Z"
   },
   {
    "duration": 41,
    "start_time": "2023-04-22T16:12:58.590Z"
   },
   {
    "duration": 508700,
    "start_time": "2023-04-22T16:13:50.099Z"
   },
   {
    "duration": 2,
    "start_time": "2023-04-22T16:24:13.311Z"
   },
   {
    "duration": 83447,
    "start_time": "2023-04-22T16:27:58.849Z"
   },
   {
    "duration": 6061,
    "start_time": "2023-04-22T16:32:05.196Z"
   },
   {
    "duration": 289723,
    "start_time": "2023-04-22T16:33:59.186Z"
   },
   {
    "duration": 1524,
    "start_time": "2023-04-22T16:41:10.141Z"
   },
   {
    "duration": 901,
    "start_time": "2023-04-22T16:41:11.667Z"
   },
   {
    "duration": 21,
    "start_time": "2023-04-22T16:41:12.570Z"
   },
   {
    "duration": 46,
    "start_time": "2023-04-22T16:41:12.594Z"
   },
   {
    "duration": 53,
    "start_time": "2023-04-22T16:41:12.642Z"
   },
   {
    "duration": 64,
    "start_time": "2023-04-22T16:41:12.697Z"
   },
   {
    "duration": 24,
    "start_time": "2023-04-22T16:41:12.763Z"
   },
   {
    "duration": 59,
    "start_time": "2023-04-22T16:41:12.789Z"
   },
   {
    "duration": 7,
    "start_time": "2023-04-22T16:41:12.850Z"
   },
   {
    "duration": 36,
    "start_time": "2023-04-22T16:41:12.859Z"
   },
   {
    "duration": 52,
    "start_time": "2023-04-22T16:41:12.896Z"
   },
   {
    "duration": 29,
    "start_time": "2023-04-22T16:41:12.950Z"
   },
   {
    "duration": 64,
    "start_time": "2023-04-22T16:41:12.982Z"
   },
   {
    "duration": 31,
    "start_time": "2023-04-22T16:41:13.049Z"
   },
   {
    "duration": 10,
    "start_time": "2023-04-22T16:41:13.082Z"
   },
   {
    "duration": 393,
    "start_time": "2023-04-22T16:41:13.094Z"
   },
   {
    "duration": 915,
    "start_time": "2023-04-22T16:41:13.489Z"
   },
   {
    "duration": 638,
    "start_time": "2023-04-22T16:41:14.406Z"
   },
   {
    "duration": 908,
    "start_time": "2023-04-22T16:41:15.046Z"
   },
   {
    "duration": 1361,
    "start_time": "2023-04-22T16:41:15.956Z"
   },
   {
    "duration": 7,
    "start_time": "2023-04-22T16:41:17.320Z"
   },
   {
    "duration": 742,
    "start_time": "2023-04-22T16:41:17.329Z"
   },
   {
    "duration": 50,
    "start_time": "2023-04-22T16:41:18.073Z"
   },
   {
    "duration": 9,
    "start_time": "2023-04-22T16:41:18.126Z"
   },
   {
    "duration": 157,
    "start_time": "2023-04-22T16:41:18.137Z"
   },
   {
    "duration": 0,
    "start_time": "2023-04-22T16:41:18.296Z"
   },
   {
    "duration": 0,
    "start_time": "2023-04-22T16:41:18.297Z"
   },
   {
    "duration": 0,
    "start_time": "2023-04-22T16:41:18.298Z"
   },
   {
    "duration": 0,
    "start_time": "2023-04-22T16:41:18.300Z"
   },
   {
    "duration": 0,
    "start_time": "2023-04-22T16:41:18.301Z"
   },
   {
    "duration": 0,
    "start_time": "2023-04-22T16:41:18.318Z"
   },
   {
    "duration": 0,
    "start_time": "2023-04-22T16:41:18.319Z"
   },
   {
    "duration": 0,
    "start_time": "2023-04-22T16:41:18.321Z"
   },
   {
    "duration": 0,
    "start_time": "2023-04-22T16:41:18.323Z"
   },
   {
    "duration": 178,
    "start_time": "2023-04-22T16:43:06.846Z"
   },
   {
    "duration": 10,
    "start_time": "2023-04-22T16:43:41.150Z"
   },
   {
    "duration": 539,
    "start_time": "2023-04-22T16:43:49.909Z"
   },
   {
    "duration": 468,
    "start_time": "2023-04-22T16:44:19.336Z"
   },
   {
    "duration": 316,
    "start_time": "2023-04-22T16:45:01.303Z"
   },
   {
    "duration": 135,
    "start_time": "2023-04-22T16:45:05.085Z"
   },
   {
    "duration": 11,
    "start_time": "2023-04-22T16:45:26.030Z"
   },
   {
    "duration": 9,
    "start_time": "2023-04-22T16:46:21.551Z"
   },
   {
    "duration": 27,
    "start_time": "2023-04-22T16:46:28.044Z"
   },
   {
    "duration": 6,
    "start_time": "2023-04-22T16:52:50.473Z"
   },
   {
    "duration": 19,
    "start_time": "2023-04-22T16:53:03.534Z"
   },
   {
    "duration": 411,
    "start_time": "2023-04-22T16:53:13.811Z"
   },
   {
    "duration": 5,
    "start_time": "2023-04-22T16:53:38.982Z"
   },
   {
    "duration": 231,
    "start_time": "2023-04-22T16:53:41.708Z"
   },
   {
    "duration": 233,
    "start_time": "2023-04-22T16:53:56.794Z"
   },
   {
    "duration": 314,
    "start_time": "2023-04-22T16:54:00.519Z"
   },
   {
    "duration": 1463,
    "start_time": "2023-04-22T16:56:43.760Z"
   },
   {
    "duration": 1558,
    "start_time": "2023-04-22T16:57:05.566Z"
   },
   {
    "duration": 1537,
    "start_time": "2023-04-22T16:57:49.189Z"
   },
   {
    "duration": 12,
    "start_time": "2023-04-22T16:58:54.120Z"
   },
   {
    "duration": 169483,
    "start_time": "2023-04-22T16:59:02.707Z"
   },
   {
    "duration": 414666,
    "start_time": "2023-04-22T17:02:02.345Z"
   },
   {
    "duration": 9,
    "start_time": "2023-04-22T17:13:40.366Z"
   },
   {
    "duration": 11,
    "start_time": "2023-04-22T17:14:04.739Z"
   },
   {
    "duration": 93578,
    "start_time": "2023-04-22T17:14:09.899Z"
   },
   {
    "duration": 68816,
    "start_time": "2023-04-22T17:16:16.141Z"
   },
   {
    "duration": 1439,
    "start_time": "2023-04-22T17:17:44.809Z"
   },
   {
    "duration": 743,
    "start_time": "2023-04-22T17:17:46.250Z"
   },
   {
    "duration": 23,
    "start_time": "2023-04-22T17:17:46.994Z"
   },
   {
    "duration": 27,
    "start_time": "2023-04-22T17:17:47.020Z"
   },
   {
    "duration": 22,
    "start_time": "2023-04-22T17:17:47.049Z"
   },
   {
    "duration": 47,
    "start_time": "2023-04-22T17:17:47.072Z"
   },
   {
    "duration": 7,
    "start_time": "2023-04-22T17:17:47.120Z"
   },
   {
    "duration": 48,
    "start_time": "2023-04-22T17:17:47.129Z"
   },
   {
    "duration": 8,
    "start_time": "2023-04-22T17:17:47.179Z"
   },
   {
    "duration": 31,
    "start_time": "2023-04-22T17:17:47.191Z"
   },
   {
    "duration": 16,
    "start_time": "2023-04-22T17:17:47.224Z"
   },
   {
    "duration": 21,
    "start_time": "2023-04-22T17:17:47.243Z"
   },
   {
    "duration": 13,
    "start_time": "2023-04-22T17:17:47.266Z"
   },
   {
    "duration": 56,
    "start_time": "2023-04-22T17:17:47.281Z"
   },
   {
    "duration": 14,
    "start_time": "2023-04-22T17:17:47.339Z"
   },
   {
    "duration": 372,
    "start_time": "2023-04-22T17:17:47.355Z"
   },
   {
    "duration": 851,
    "start_time": "2023-04-22T17:17:47.729Z"
   },
   {
    "duration": 572,
    "start_time": "2023-04-22T17:17:48.582Z"
   },
   {
    "duration": 864,
    "start_time": "2023-04-22T17:17:49.156Z"
   },
   {
    "duration": 1289,
    "start_time": "2023-04-22T17:17:50.022Z"
   },
   {
    "duration": 8,
    "start_time": "2023-04-22T17:17:51.313Z"
   },
   {
    "duration": 697,
    "start_time": "2023-04-22T17:17:51.324Z"
   },
   {
    "duration": 38,
    "start_time": "2023-04-22T17:17:52.023Z"
   },
   {
    "duration": 4,
    "start_time": "2023-04-22T17:17:52.063Z"
   },
   {
    "duration": 2154,
    "start_time": "2023-04-22T17:17:52.069Z"
   },
   {
    "duration": 169583,
    "start_time": "2023-04-22T17:17:54.227Z"
   },
   {
    "duration": 6,
    "start_time": "2023-04-22T17:20:43.812Z"
   },
   {
    "duration": 4479,
    "start_time": "2023-04-23T09:29:50.582Z"
   },
   {
    "duration": 712,
    "start_time": "2023-04-23T09:29:55.064Z"
   },
   {
    "duration": 17,
    "start_time": "2023-04-23T09:29:55.778Z"
   },
   {
    "duration": 63,
    "start_time": "2023-04-23T09:29:55.798Z"
   },
   {
    "duration": 21,
    "start_time": "2023-04-23T09:29:55.864Z"
   },
   {
    "duration": 59,
    "start_time": "2023-04-23T09:29:55.887Z"
   },
   {
    "duration": 16,
    "start_time": "2023-04-23T09:29:55.948Z"
   },
   {
    "duration": 54,
    "start_time": "2023-04-23T09:29:55.966Z"
   },
   {
    "duration": 7,
    "start_time": "2023-04-23T09:29:56.022Z"
   },
   {
    "duration": 21,
    "start_time": "2023-04-23T09:29:56.032Z"
   },
   {
    "duration": 12,
    "start_time": "2023-04-23T09:29:56.055Z"
   },
   {
    "duration": 57,
    "start_time": "2023-04-23T09:29:56.069Z"
   },
   {
    "duration": 15,
    "start_time": "2023-04-23T09:29:56.128Z"
   },
   {
    "duration": 20,
    "start_time": "2023-04-23T09:29:56.144Z"
   },
   {
    "duration": 25,
    "start_time": "2023-04-23T09:29:56.166Z"
   },
   {
    "duration": 335,
    "start_time": "2023-04-23T09:29:56.193Z"
   },
   {
    "duration": 876,
    "start_time": "2023-04-23T09:29:56.530Z"
   },
   {
    "duration": 592,
    "start_time": "2023-04-23T09:29:57.407Z"
   },
   {
    "duration": 1075,
    "start_time": "2023-04-23T09:29:58.002Z"
   },
   {
    "duration": 1204,
    "start_time": "2023-04-23T09:29:59.079Z"
   },
   {
    "duration": 4,
    "start_time": "2023-04-23T09:30:00.285Z"
   },
   {
    "duration": 691,
    "start_time": "2023-04-23T09:30:00.291Z"
   },
   {
    "duration": 38,
    "start_time": "2023-04-23T09:30:00.984Z"
   },
   {
    "duration": 159,
    "start_time": "2023-04-23T09:30:01.024Z"
   },
   {
    "duration": 7,
    "start_time": "2023-04-23T09:30:44.209Z"
   },
   {
    "duration": 6,
    "start_time": "2023-04-23T09:31:00.257Z"
   },
   {
    "duration": 1541,
    "start_time": "2023-04-23T13:55:07.385Z"
   },
   {
    "duration": 2964,
    "start_time": "2023-04-23T13:55:11.124Z"
   },
   {
    "duration": 19,
    "start_time": "2023-04-23T13:55:15.787Z"
   },
   {
    "duration": 22,
    "start_time": "2023-04-23T13:55:17.547Z"
   },
   {
    "duration": 19,
    "start_time": "2023-04-23T13:55:18.420Z"
   },
   {
    "duration": 19,
    "start_time": "2023-04-23T13:55:18.888Z"
   },
   {
    "duration": 4,
    "start_time": "2023-04-23T13:55:19.087Z"
   },
   {
    "duration": 35,
    "start_time": "2023-04-23T13:55:19.300Z"
   },
   {
    "duration": 7,
    "start_time": "2023-04-23T13:55:19.930Z"
   },
   {
    "duration": 9,
    "start_time": "2023-04-23T13:55:20.230Z"
   },
   {
    "duration": 9,
    "start_time": "2023-04-23T13:55:20.825Z"
   },
   {
    "duration": 13,
    "start_time": "2023-04-23T13:55:21.087Z"
   },
   {
    "duration": 8,
    "start_time": "2023-04-23T13:55:21.228Z"
   },
   {
    "duration": 18,
    "start_time": "2023-04-23T13:55:21.511Z"
   },
   {
    "duration": 10,
    "start_time": "2023-04-23T13:55:22.042Z"
   },
   {
    "duration": 392,
    "start_time": "2023-04-23T13:57:13.694Z"
   },
   {
    "duration": 98,
    "start_time": "2023-04-23T13:57:33.347Z"
   },
   {
    "duration": 626,
    "start_time": "2023-04-23T13:57:36.488Z"
   },
   {
    "duration": 7,
    "start_time": "2023-04-23T13:57:38.804Z"
   },
   {
    "duration": 7,
    "start_time": "2023-04-23T13:58:12.107Z"
   },
   {
    "duration": 5,
    "start_time": "2023-04-23T13:58:28.493Z"
   },
   {
    "duration": 5,
    "start_time": "2023-04-23T13:58:38.585Z"
   },
   {
    "duration": 6,
    "start_time": "2023-04-23T13:58:44.204Z"
   },
   {
    "duration": 16,
    "start_time": "2023-04-23T13:59:20.417Z"
   },
   {
    "duration": 13,
    "start_time": "2023-04-23T14:02:21.172Z"
   },
   {
    "duration": 6,
    "start_time": "2023-04-23T14:02:26.619Z"
   },
   {
    "duration": 14,
    "start_time": "2023-04-23T14:02:37.285Z"
   },
   {
    "duration": 8,
    "start_time": "2023-04-23T14:03:57.784Z"
   },
   {
    "duration": 10,
    "start_time": "2023-04-23T14:04:19.332Z"
   },
   {
    "duration": 3,
    "start_time": "2023-04-23T14:12:45.981Z"
   },
   {
    "duration": 29,
    "start_time": "2023-04-23T14:13:28.383Z"
   },
   {
    "duration": 9,
    "start_time": "2023-04-23T14:13:55.954Z"
   },
   {
    "duration": 29,
    "start_time": "2023-04-23T14:14:25.545Z"
   },
   {
    "duration": 15,
    "start_time": "2023-04-23T14:14:38.310Z"
   },
   {
    "duration": 14,
    "start_time": "2023-04-23T14:15:30.767Z"
   },
   {
    "duration": 4,
    "start_time": "2023-04-23T14:15:41.639Z"
   },
   {
    "duration": 21,
    "start_time": "2023-04-23T14:15:50.135Z"
   },
   {
    "duration": 14,
    "start_time": "2023-04-23T14:16:00.854Z"
   },
   {
    "duration": 9,
    "start_time": "2023-04-23T14:16:05.349Z"
   },
   {
    "duration": 567,
    "start_time": "2023-04-23T14:16:12.084Z"
   },
   {
    "duration": 9,
    "start_time": "2023-04-23T14:16:27.115Z"
   },
   {
    "duration": 17,
    "start_time": "2023-04-23T14:16:34.617Z"
   },
   {
    "duration": 19,
    "start_time": "2023-04-23T14:17:00.901Z"
   },
   {
    "duration": 12,
    "start_time": "2023-04-23T14:17:08.197Z"
   },
   {
    "duration": 16,
    "start_time": "2023-04-23T14:17:10.581Z"
   },
   {
    "duration": 15,
    "start_time": "2023-04-23T14:17:18.915Z"
   },
   {
    "duration": 24,
    "start_time": "2023-04-23T14:18:11.190Z"
   },
   {
    "duration": 16,
    "start_time": "2023-04-23T14:18:28.436Z"
   },
   {
    "duration": 17,
    "start_time": "2023-04-23T14:19:49.780Z"
   },
   {
    "duration": 24,
    "start_time": "2023-04-23T14:20:17.876Z"
   },
   {
    "duration": 23,
    "start_time": "2023-04-23T14:21:04.932Z"
   },
   {
    "duration": 22,
    "start_time": "2023-04-23T14:21:20.589Z"
   },
   {
    "duration": 20,
    "start_time": "2023-04-23T14:21:47.780Z"
   },
   {
    "duration": 32,
    "start_time": "2023-04-23T14:22:14.251Z"
   },
   {
    "duration": 590,
    "start_time": "2023-04-23T14:22:26.574Z"
   },
   {
    "duration": 895,
    "start_time": "2023-04-23T14:23:49.081Z"
   },
   {
    "duration": 666,
    "start_time": "2023-04-23T14:24:07.300Z"
   },
   {
    "duration": 34,
    "start_time": "2023-04-23T14:24:19.809Z"
   },
   {
    "duration": 4,
    "start_time": "2023-04-23T14:24:29.235Z"
   },
   {
    "duration": 17,
    "start_time": "2023-04-23T14:24:35.593Z"
   },
   {
    "duration": 654,
    "start_time": "2023-04-23T14:25:17.413Z"
   },
   {
    "duration": 18,
    "start_time": "2023-04-23T14:25:18.607Z"
   },
   {
    "duration": 19,
    "start_time": "2023-04-23T14:25:18.827Z"
   },
   {
    "duration": 20,
    "start_time": "2023-04-23T14:25:19.000Z"
   },
   {
    "duration": 20,
    "start_time": "2023-04-23T14:25:19.204Z"
   },
   {
    "duration": 3,
    "start_time": "2023-04-23T14:25:19.478Z"
   },
   {
    "duration": 32,
    "start_time": "2023-04-23T14:25:19.680Z"
   },
   {
    "duration": 6,
    "start_time": "2023-04-23T14:25:20.397Z"
   },
   {
    "duration": 7,
    "start_time": "2023-04-23T14:25:20.654Z"
   },
   {
    "duration": 8,
    "start_time": "2023-04-23T14:25:21.401Z"
   },
   {
    "duration": 12,
    "start_time": "2023-04-23T14:25:21.641Z"
   },
   {
    "duration": 9,
    "start_time": "2023-04-23T14:25:22.144Z"
   },
   {
    "duration": 15,
    "start_time": "2023-04-23T14:25:22.382Z"
   },
   {
    "duration": 8,
    "start_time": "2023-04-23T14:25:23.129Z"
   },
   {
    "duration": 24,
    "start_time": "2023-04-23T14:25:35.276Z"
   },
   {
    "duration": 4,
    "start_time": "2023-04-23T14:25:37.989Z"
   },
   {
    "duration": 1317,
    "start_time": "2023-04-23T14:25:39.519Z"
   },
   {
    "duration": 1262,
    "start_time": "2023-04-23T14:25:46.678Z"
   },
   {
    "duration": 786,
    "start_time": "2023-04-23T14:25:50.092Z"
   },
   {
    "duration": 893,
    "start_time": "2023-04-23T14:25:51.478Z"
   },
   {
    "duration": 1364,
    "start_time": "2023-04-23T14:26:11.180Z"
   },
   {
    "duration": 725,
    "start_time": "2023-04-23T14:26:12.546Z"
   },
   {
    "duration": 19,
    "start_time": "2023-04-23T14:26:13.273Z"
   },
   {
    "duration": 25,
    "start_time": "2023-04-23T14:26:13.294Z"
   },
   {
    "duration": 19,
    "start_time": "2023-04-23T14:26:13.335Z"
   },
   {
    "duration": 22,
    "start_time": "2023-04-23T14:26:13.356Z"
   },
   {
    "duration": 8,
    "start_time": "2023-04-23T14:26:13.379Z"
   },
   {
    "duration": 50,
    "start_time": "2023-04-23T14:26:13.388Z"
   },
   {
    "duration": 6,
    "start_time": "2023-04-23T14:26:13.440Z"
   },
   {
    "duration": 7,
    "start_time": "2023-04-23T14:26:13.447Z"
   },
   {
    "duration": 10,
    "start_time": "2023-04-23T14:26:13.455Z"
   },
   {
    "duration": 14,
    "start_time": "2023-04-23T14:26:13.467Z"
   },
   {
    "duration": 8,
    "start_time": "2023-04-23T14:26:13.483Z"
   },
   {
    "duration": 54,
    "start_time": "2023-04-23T14:26:13.494Z"
   },
   {
    "duration": 9,
    "start_time": "2023-04-23T14:26:13.550Z"
   },
   {
    "duration": 326,
    "start_time": "2023-04-23T14:26:13.561Z"
   },
   {
    "duration": 827,
    "start_time": "2023-04-23T14:26:13.889Z"
   },
   {
    "duration": 550,
    "start_time": "2023-04-23T14:26:14.718Z"
   },
   {
    "duration": 827,
    "start_time": "2023-04-23T14:26:15.270Z"
   },
   {
    "duration": 1116,
    "start_time": "2023-04-23T14:26:16.098Z"
   },
   {
    "duration": 596,
    "start_time": "2023-04-23T14:26:17.216Z"
   },
   {
    "duration": 924,
    "start_time": "2023-04-23T14:26:17.814Z"
   },
   {
    "duration": 25,
    "start_time": "2023-04-23T14:26:18.739Z"
   },
   {
    "duration": 4,
    "start_time": "2023-04-23T14:26:18.765Z"
   },
   {
    "duration": 140,
    "start_time": "2023-04-23T14:26:18.771Z"
   },
   {
    "duration": 0,
    "start_time": "2023-04-23T14:26:18.912Z"
   },
   {
    "duration": 0,
    "start_time": "2023-04-23T14:26:18.914Z"
   },
   {
    "duration": 0,
    "start_time": "2023-04-23T14:26:18.915Z"
   },
   {
    "duration": 0,
    "start_time": "2023-04-23T14:26:18.916Z"
   },
   {
    "duration": 0,
    "start_time": "2023-04-23T14:26:18.917Z"
   },
   {
    "duration": 0,
    "start_time": "2023-04-23T14:26:18.934Z"
   },
   {
    "duration": 8,
    "start_time": "2023-04-23T14:28:04.749Z"
   },
   {
    "duration": 29,
    "start_time": "2023-04-23T14:28:33.880Z"
   },
   {
    "duration": 704,
    "start_time": "2023-04-23T14:28:52.409Z"
   },
   {
    "duration": 26,
    "start_time": "2023-04-23T14:28:53.114Z"
   },
   {
    "duration": 20,
    "start_time": "2023-04-23T14:28:53.141Z"
   },
   {
    "duration": 20,
    "start_time": "2023-04-23T14:28:53.648Z"
   },
   {
    "duration": 20,
    "start_time": "2023-04-23T14:28:54.150Z"
   },
   {
    "duration": 5,
    "start_time": "2023-04-23T14:28:54.219Z"
   },
   {
    "duration": 36,
    "start_time": "2023-04-23T14:28:54.301Z"
   },
   {
    "duration": 6,
    "start_time": "2023-04-23T14:28:54.581Z"
   },
   {
    "duration": 8,
    "start_time": "2023-04-23T14:28:54.846Z"
   },
   {
    "duration": 8,
    "start_time": "2023-04-23T14:28:55.535Z"
   },
   {
    "duration": 14,
    "start_time": "2023-04-23T14:28:55.707Z"
   },
   {
    "duration": 9,
    "start_time": "2023-04-23T14:28:56.080Z"
   },
   {
    "duration": 18,
    "start_time": "2023-04-23T14:28:56.278Z"
   },
   {
    "duration": 9,
    "start_time": "2023-04-23T14:28:57.313Z"
   },
   {
    "duration": 6,
    "start_time": "2023-04-23T14:29:14.396Z"
   },
   {
    "duration": 24,
    "start_time": "2023-04-23T14:29:37.386Z"
   },
   {
    "duration": 1391,
    "start_time": "2023-04-23T14:29:43.145Z"
   },
   {
    "duration": 4,
    "start_time": "2023-04-23T14:33:41.397Z"
   },
   {
    "duration": 1655,
    "start_time": "2023-04-23T14:33:45.881Z"
   },
   {
    "duration": 1987,
    "start_time": "2023-04-23T14:34:50.048Z"
   },
   {
    "duration": 148942,
    "start_time": "2023-04-23T14:35:49.098Z"
   },
   {
    "duration": 348727,
    "start_time": "2023-04-23T14:39:02.792Z"
   },
   {
    "duration": 246637,
    "start_time": "2023-04-23T14:45:11.585Z"
   },
   {
    "duration": 448320,
    "start_time": "2023-04-23T16:05:36.829Z"
   },
   {
    "duration": 85,
    "start_time": "2023-04-23T16:15:04.976Z"
   },
   {
    "duration": 4861,
    "start_time": "2023-04-23T16:15:09.720Z"
   },
   {
    "duration": 91134,
    "start_time": "2023-04-23T16:15:29.968Z"
   },
   {
    "duration": 90214,
    "start_time": "2023-04-23T16:18:18.484Z"
   },
   {
    "duration": 552115,
    "start_time": "2023-04-23T16:20:06.518Z"
   },
   {
    "duration": 1387,
    "start_time": "2023-04-23T16:31:20.312Z"
   },
   {
    "duration": 668,
    "start_time": "2023-04-23T16:31:21.701Z"
   },
   {
    "duration": 17,
    "start_time": "2023-04-23T16:31:22.371Z"
   },
   {
    "duration": 21,
    "start_time": "2023-04-23T16:31:22.390Z"
   },
   {
    "duration": 36,
    "start_time": "2023-04-23T16:31:22.412Z"
   },
   {
    "duration": 21,
    "start_time": "2023-04-23T16:31:22.450Z"
   },
   {
    "duration": 6,
    "start_time": "2023-04-23T16:31:22.472Z"
   },
   {
    "duration": 36,
    "start_time": "2023-04-23T16:31:22.479Z"
   },
   {
    "duration": 19,
    "start_time": "2023-04-23T16:31:22.516Z"
   },
   {
    "duration": 6,
    "start_time": "2023-04-23T16:31:22.536Z"
   },
   {
    "duration": 7,
    "start_time": "2023-04-23T16:31:22.543Z"
   },
   {
    "duration": 13,
    "start_time": "2023-04-23T16:31:22.552Z"
   },
   {
    "duration": 7,
    "start_time": "2023-04-23T16:31:22.567Z"
   },
   {
    "duration": 21,
    "start_time": "2023-04-23T16:31:22.576Z"
   },
   {
    "duration": 41,
    "start_time": "2023-04-23T16:31:22.598Z"
   },
   {
    "duration": 295,
    "start_time": "2023-04-23T16:31:22.640Z"
   },
   {
    "duration": 721,
    "start_time": "2023-04-23T16:31:22.936Z"
   },
   {
    "duration": 473,
    "start_time": "2023-04-23T16:31:23.658Z"
   },
   {
    "duration": 761,
    "start_time": "2023-04-23T16:31:24.133Z"
   },
   {
    "duration": 1101,
    "start_time": "2023-04-23T16:31:24.896Z"
   },
   {
    "duration": 539,
    "start_time": "2023-04-23T16:31:25.998Z"
   },
   {
    "duration": 844,
    "start_time": "2023-04-23T16:31:26.539Z"
   },
   {
    "duration": 26,
    "start_time": "2023-04-23T16:31:27.385Z"
   },
   {
    "duration": 5,
    "start_time": "2023-04-23T16:31:27.412Z"
   },
   {
    "duration": 1824,
    "start_time": "2023-04-23T16:31:27.418Z"
   },
   {
    "duration": 152156,
    "start_time": "2023-04-23T16:31:29.247Z"
   },
   {
    "duration": 2,
    "start_time": "2023-04-23T16:34:01.405Z"
   },
   {
    "duration": 560117,
    "start_time": "2023-04-23T16:34:01.408Z"
   },
   {
    "duration": 131468,
    "start_time": "2023-04-23T16:43:21.526Z"
   },
   {
    "duration": 8,
    "start_time": "2023-04-23T16:45:32.996Z"
   },
   {
    "duration": 8,
    "start_time": "2023-04-23T16:45:33.005Z"
   },
   {
    "duration": 61194,
    "start_time": "2023-04-23T16:45:33.015Z"
   }
  ],
  "kernelspec": {
   "display_name": "Python 3 (ipykernel)",
   "language": "python",
   "name": "python3"
  },
  "language_info": {
   "codemirror_mode": {
    "name": "ipython",
    "version": 3
   },
   "file_extension": ".py",
   "mimetype": "text/x-python",
   "name": "python",
   "nbconvert_exporter": "python",
   "pygments_lexer": "ipython3",
   "version": "3.9.13"
  },
  "toc": {
   "base_numbering": 1,
   "nav_menu": {},
   "number_sections": true,
   "sideBar": true,
   "skip_h1_title": true,
   "title_cell": "Содержание",
   "title_sidebar": "Contents",
   "toc_cell": true,
   "toc_position": {
    "height": "calc(100% - 180px)",
    "left": "10px",
    "top": "150px",
    "width": "349px"
   },
   "toc_section_display": true,
   "toc_window_display": false
  }
 },
 "nbformat": 4,
 "nbformat_minor": 2
}
