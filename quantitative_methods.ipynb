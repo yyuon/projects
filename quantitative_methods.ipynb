{
 "cells": [
  {
   "cell_type": "markdown",
   "metadata": {},
   "source": [
    "# Определение стоимости автомобилей"
   ]
  },
  {
   "cell_type": "markdown",
   "metadata": {},
   "source": [
    "Сервис по продаже автомобилей с пробегом «Не бит, не крашен» разрабатывает приложение для привлечения новых клиентов. В нём можно быстро узнать рыночную стоимость своего автомобиля. В вашем распоряжении исторические данные: технические характеристики, комплектации и цены автомобилей. Построим модель для определения стоимости автомобиля."
   ]
  },
  {
   "cell_type": "code",
   "execution_count": 30,
   "metadata": {},
   "outputs": [],
   "source": [
    "import pandas as pd\n",
    "import numpy as np\n",
    "import seaborn as sns\n",
    "import scipy.stats as stats\n",
    "import warnings\n",
    "from sklearn.metrics import mean_squared_error\n",
    "from sklearn.linear_model import LinearRegression\n",
    "from sklearn.model_selection import train_test_split, GridSearchCV, RandomizedSearchCV, cross_val_score\n",
    "from sklearn.preprocessing import OneHotEncoder\n",
    "from sklearn.preprocessing import OrdinalEncoder\n",
    "from sklearn.preprocessing import StandardScaler\n",
    "\n",
    "from lightgbm import LGBMRegressor\n",
    "from catboost import CatBoostRegressor"
   ]
  },
  {
   "cell_type": "markdown",
   "metadata": {},
   "source": [
    "## Подготовка данных"
   ]
  },
  {
   "cell_type": "code",
   "execution_count": 2,
   "metadata": {},
   "outputs": [],
   "source": [
    "df = pd.read_csv('/datasets/autos.csv')"
   ]
  },
  {
   "cell_type": "code",
   "execution_count": 3,
   "metadata": {},
   "outputs": [
    {
     "data": {
      "text/html": [
       "<div>\n",
       "<style scoped>\n",
       "    .dataframe tbody tr th:only-of-type {\n",
       "        vertical-align: middle;\n",
       "    }\n",
       "\n",
       "    .dataframe tbody tr th {\n",
       "        vertical-align: top;\n",
       "    }\n",
       "\n",
       "    .dataframe thead th {\n",
       "        text-align: right;\n",
       "    }\n",
       "</style>\n",
       "<table border=\"1\" class=\"dataframe\">\n",
       "  <thead>\n",
       "    <tr style=\"text-align: right;\">\n",
       "      <th></th>\n",
       "      <th>DateCrawled</th>\n",
       "      <th>Price</th>\n",
       "      <th>VehicleType</th>\n",
       "      <th>RegistrationYear</th>\n",
       "      <th>Gearbox</th>\n",
       "      <th>Power</th>\n",
       "      <th>Model</th>\n",
       "      <th>Kilometer</th>\n",
       "      <th>RegistrationMonth</th>\n",
       "      <th>FuelType</th>\n",
       "      <th>Brand</th>\n",
       "      <th>Repaired</th>\n",
       "      <th>DateCreated</th>\n",
       "      <th>NumberOfPictures</th>\n",
       "      <th>PostalCode</th>\n",
       "      <th>LastSeen</th>\n",
       "    </tr>\n",
       "  </thead>\n",
       "  <tbody>\n",
       "    <tr>\n",
       "      <th>343118</th>\n",
       "      <td>2016-03-31 13:56:22</td>\n",
       "      <td>1200</td>\n",
       "      <td>small</td>\n",
       "      <td>2000</td>\n",
       "      <td>manual</td>\n",
       "      <td>75</td>\n",
       "      <td>clio</td>\n",
       "      <td>150000</td>\n",
       "      <td>6</td>\n",
       "      <td>petrol</td>\n",
       "      <td>renault</td>\n",
       "      <td>no</td>\n",
       "      <td>2016-03-31 00:00:00</td>\n",
       "      <td>0</td>\n",
       "      <td>14612</td>\n",
       "      <td>2016-04-06 06:44:54</td>\n",
       "    </tr>\n",
       "    <tr>\n",
       "      <th>320764</th>\n",
       "      <td>2016-03-08 15:53:06</td>\n",
       "      <td>2100</td>\n",
       "      <td>NaN</td>\n",
       "      <td>2018</td>\n",
       "      <td>manual</td>\n",
       "      <td>0</td>\n",
       "      <td>other</td>\n",
       "      <td>150000</td>\n",
       "      <td>6</td>\n",
       "      <td>gasoline</td>\n",
       "      <td>opel</td>\n",
       "      <td>no</td>\n",
       "      <td>2016-03-08 00:00:00</td>\n",
       "      <td>0</td>\n",
       "      <td>66333</td>\n",
       "      <td>2016-03-08 15:53:06</td>\n",
       "    </tr>\n",
       "    <tr>\n",
       "      <th>323664</th>\n",
       "      <td>2016-03-25 12:54:42</td>\n",
       "      <td>1</td>\n",
       "      <td>NaN</td>\n",
       "      <td>2000</td>\n",
       "      <td>manual</td>\n",
       "      <td>0</td>\n",
       "      <td>carisma</td>\n",
       "      <td>150000</td>\n",
       "      <td>8</td>\n",
       "      <td>NaN</td>\n",
       "      <td>mitsubishi</td>\n",
       "      <td>yes</td>\n",
       "      <td>2016-03-25 00:00:00</td>\n",
       "      <td>0</td>\n",
       "      <td>19395</td>\n",
       "      <td>2016-04-06 14:44:49</td>\n",
       "    </tr>\n",
       "  </tbody>\n",
       "</table>\n",
       "</div>"
      ],
      "text/plain": [
       "                DateCrawled  Price VehicleType  RegistrationYear Gearbox  \\\n",
       "343118  2016-03-31 13:56:22   1200       small              2000  manual   \n",
       "320764  2016-03-08 15:53:06   2100         NaN              2018  manual   \n",
       "323664  2016-03-25 12:54:42      1         NaN              2000  manual   \n",
       "\n",
       "        Power    Model  Kilometer  RegistrationMonth  FuelType       Brand  \\\n",
       "343118     75     clio     150000                  6    petrol     renault   \n",
       "320764      0    other     150000                  6  gasoline        opel   \n",
       "323664      0  carisma     150000                  8       NaN  mitsubishi   \n",
       "\n",
       "       Repaired          DateCreated  NumberOfPictures  PostalCode  \\\n",
       "343118       no  2016-03-31 00:00:00                 0       14612   \n",
       "320764       no  2016-03-08 00:00:00                 0       66333   \n",
       "323664      yes  2016-03-25 00:00:00                 0       19395   \n",
       "\n",
       "                   LastSeen  \n",
       "343118  2016-04-06 06:44:54  \n",
       "320764  2016-03-08 15:53:06  \n",
       "323664  2016-04-06 14:44:49  "
      ]
     },
     "execution_count": 3,
     "metadata": {},
     "output_type": "execute_result"
    }
   ],
   "source": [
    "df.sample(3)"
   ]
  },
  {
   "cell_type": "code",
   "execution_count": 4,
   "metadata": {},
   "outputs": [
    {
     "name": "stdout",
     "output_type": "stream",
     "text": [
      "<class 'pandas.core.frame.DataFrame'>\n",
      "RangeIndex: 354369 entries, 0 to 354368\n",
      "Data columns (total 16 columns):\n",
      " #   Column             Non-Null Count   Dtype \n",
      "---  ------             --------------   ----- \n",
      " 0   DateCrawled        354369 non-null  object\n",
      " 1   Price              354369 non-null  int64 \n",
      " 2   VehicleType        316879 non-null  object\n",
      " 3   RegistrationYear   354369 non-null  int64 \n",
      " 4   Gearbox            334536 non-null  object\n",
      " 5   Power              354369 non-null  int64 \n",
      " 6   Model              334664 non-null  object\n",
      " 7   Kilometer          354369 non-null  int64 \n",
      " 8   RegistrationMonth  354369 non-null  int64 \n",
      " 9   FuelType           321474 non-null  object\n",
      " 10  Brand              354369 non-null  object\n",
      " 11  Repaired           283215 non-null  object\n",
      " 12  DateCreated        354369 non-null  object\n",
      " 13  NumberOfPictures   354369 non-null  int64 \n",
      " 14  PostalCode         354369 non-null  int64 \n",
      " 15  LastSeen           354369 non-null  object\n",
      "dtypes: int64(7), object(9)\n",
      "memory usage: 43.3+ MB\n"
     ]
    }
   ],
   "source": [
    "df.info() "
   ]
  },
  {
   "cell_type": "code",
   "execution_count": 5,
   "metadata": {},
   "outputs": [
    {
     "data": {
      "text/plain": [
       "Index(['DateCrawled', 'Price', 'VehicleType', 'RegistrationYear', 'Gearbox',\n",
       "       'Power', 'Model', 'Kilometer', 'RegistrationMonth', 'FuelType', 'Brand',\n",
       "       'Repaired', 'DateCreated', 'NumberOfPictures', 'PostalCode',\n",
       "       'LastSeen'],\n",
       "      dtype='object')"
      ]
     },
     "execution_count": 5,
     "metadata": {},
     "output_type": "execute_result"
    }
   ],
   "source": [
    "df.columns "
   ]
  },
  {
   "cell_type": "code",
   "execution_count": 6,
   "metadata": {},
   "outputs": [],
   "source": [
    "df = df.drop(columns=['DateCrawled', \n",
    "                      'DateCreated', \n",
    "                      'LastSeen', \n",
    "                      'NumberOfPictures', \n",
    "                      'PostalCode', \n",
    "                      'RegistrationMonth'])"
   ]
  },
  {
   "cell_type": "markdown",
   "metadata": {},
   "source": [
    "Удлаим ненужные для исследования столбцы"
   ]
  },
  {
   "cell_type": "code",
   "execution_count": 7,
   "metadata": {},
   "outputs": [
    {
     "data": {
      "text/plain": [
       "(354369, 10)"
      ]
     },
     "execution_count": 7,
     "metadata": {},
     "output_type": "execute_result"
    }
   ],
   "source": [
    "df.shape"
   ]
  },
  {
   "cell_type": "code",
   "execution_count": 8,
   "metadata": {},
   "outputs": [
    {
     "data": {
      "text/plain": [
       "Price                   0\n",
       "VehicleType         37490\n",
       "RegistrationYear        0\n",
       "Gearbox             19833\n",
       "Power                   0\n",
       "Model               19705\n",
       "Kilometer               0\n",
       "FuelType            32895\n",
       "Brand                   0\n",
       "Repaired            71154\n",
       "dtype: int64"
      ]
     },
     "execution_count": 8,
     "metadata": {},
     "output_type": "execute_result"
    }
   ],
   "source": [
    "df.isna().sum() "
   ]
  },
  {
   "cell_type": "markdown",
   "metadata": {},
   "source": [
    "Проверим, сколько пропусков есть в датасете"
   ]
  },
  {
   "cell_type": "code",
   "execution_count": 9,
   "metadata": {},
   "outputs": [],
   "source": [
    "df = df.dropna(subset=['Model'])"
   ]
  },
  {
   "cell_type": "code",
   "execution_count": 10,
   "metadata": {},
   "outputs": [],
   "source": [
    "df = df.dropna(subset=['FuelType'])"
   ]
  },
  {
   "cell_type": "code",
   "execution_count": 11,
   "metadata": {},
   "outputs": [],
   "source": [
    "df = df.dropna(subset=['Gearbox'])"
   ]
  },
  {
   "cell_type": "code",
   "execution_count": 12,
   "metadata": {},
   "outputs": [],
   "source": [
    "df['VehicleType'] = df['VehicleType'].dropna()"
   ]
  },
  {
   "cell_type": "code",
   "execution_count": 13,
   "metadata": {},
   "outputs": [],
   "source": [
    "df['Repaired'] = df['Repaired'].fillna('unknown')\n",
    "df['VehicleType'] = df['VehicleType'].fillna('unknown')"
   ]
  },
  {
   "cell_type": "code",
   "execution_count": 14,
   "metadata": {},
   "outputs": [
    {
     "data": {
      "text/plain": [
       "Price               0\n",
       "VehicleType         0\n",
       "RegistrationYear    0\n",
       "Gearbox             0\n",
       "Power               0\n",
       "Model               0\n",
       "Kilometer           0\n",
       "FuelType            0\n",
       "Brand               0\n",
       "Repaired            0\n",
       "dtype: int64"
      ]
     },
     "execution_count": 14,
     "metadata": {},
     "output_type": "execute_result"
    }
   ],
   "source": [
    "df.isna().sum()"
   ]
  },
  {
   "cell_type": "markdown",
   "metadata": {},
   "source": [
    "Удалим все пропуски и провери правильность использованного метода"
   ]
  },
  {
   "cell_type": "code",
   "execution_count": 15,
   "metadata": {},
   "outputs": [],
   "source": [
    "df = df.rename(columns={'Price': 'price', \n",
    "                        'VehicleType': 'vehicle_type', \n",
    "                        'RegistrationYear': 'registration_year', \n",
    "                        'Gearbox': 'gearbox', \n",
    "                        'Power': 'power', \n",
    "                        'Model': 'model', \n",
    "                        'Kilometer': 'kilometer', \n",
    "                        'FuelType': 'fuel_type', \n",
    "                        'Brand': 'brand', \n",
    "                        'Repaired': 'repaired'})"
   ]
  },
  {
   "cell_type": "markdown",
   "metadata": {},
   "source": [
    "Переименуем колонки"
   ]
  },
  {
   "cell_type": "code",
   "execution_count": 16,
   "metadata": {},
   "outputs": [
    {
     "data": {
      "text/plain": [
       "Index(['price', 'vehicle_type', 'registration_year', 'gearbox', 'power',\n",
       "       'model', 'kilometer', 'fuel_type', 'brand', 'repaired'],\n",
       "      dtype='object')"
      ]
     },
     "execution_count": 16,
     "metadata": {},
     "output_type": "execute_result"
    }
   ],
   "source": [
    "df.columns"
   ]
  },
  {
   "cell_type": "code",
   "execution_count": 17,
   "metadata": {},
   "outputs": [],
   "source": [
    "warnings.filterwarnings('ignore')\n",
    "\n",
    "def remove(df, col):\n",
    "    q1 = df[col].quantile(0.25) \n",
    "    q3 = df[col].quantile(0.75) \n",
    "    iqr = q3 - q1 \n",
    "\n",
    "    lower = q1 - 1.5 * iqr\n",
    "    upper = q3 + 1.5 * iqr\n",
    "\n",
    "    filtered_df = df[(df[col] >= lower) & (df[col] <= upper)]\n",
    "\n",
    "    return filtered_df\n",
    "\n",
    "df = remove(df, 'price')\n",
    "df = remove(df, 'registration_year')\n",
    "df = remove(df, 'kilometer')\n",
    "df = remove(df, 'power')"
   ]
  },
  {
   "cell_type": "code",
   "execution_count": 18,
   "metadata": {},
   "outputs": [
    {
     "data": {
      "text/plain": [
       "<AxesSubplot:ylabel='Frequency'>"
      ]
     },
     "execution_count": 18,
     "metadata": {},
     "output_type": "execute_result"
    },
    {
     "data": {
      "image/png": "[encoded data removed]",
      "text/plain": [
       "<Figure size 432x288 with 1 Axes>"
      ]
     },
     "metadata": {
      "needs_background": "light"
     },
     "output_type": "display_data"
    }
   ],
   "source": [
    "df['power'].plot(kind='hist', bins=30)"
   ]
  },
  {
   "cell_type": "code",
   "execution_count": 19,
   "metadata": {},
   "outputs": [],
   "source": [
    "df = df[df['power'] > 10]"
   ]
  },
  {
   "cell_type": "code",
   "execution_count": 20,
   "metadata": {},
   "outputs": [
    {
     "data": {
      "text/plain": [
       "<AxesSubplot:ylabel='Frequency'>"
      ]
     },
     "execution_count": 20,
     "metadata": {},
     "output_type": "execute_result"
    },
    {
     "data": {
      "image/png": "[encoded data removed]",
      "text/plain": [
       "<Figure size 432x288 with 1 Axes>"
      ]
     },
     "metadata": {
      "needs_background": "light"
     },
     "output_type": "display_data"
    }
   ],
   "source": [
    "df['power'].plot(kind='hist', bins=30)"
   ]
  },
  {
   "cell_type": "code",
   "execution_count": 21,
   "metadata": {},
   "outputs": [],
   "source": [
    "df = df[df['registration_year'] < 2016]"
   ]
  },
  {
   "cell_type": "code",
   "execution_count": 22,
   "metadata": {},
   "outputs": [
    {
     "data": {
      "text/plain": [
       "2015"
      ]
     },
     "execution_count": 22,
     "metadata": {},
     "output_type": "execute_result"
    }
   ],
   "source": [
    "df['registration_year'].max() "
   ]
  },
  {
   "cell_type": "markdown",
   "metadata": {},
   "source": [
    "Удалим выбросы в оставшихся колонках с количественными данными"
   ]
  },
  {
   "cell_type": "code",
   "execution_count": 23,
   "metadata": {},
   "outputs": [
    {
     "data": {
      "text/html": [
       "<style  type=\"text/css\" >\n",
       "#T_88eba_row0_col0,#T_88eba_row1_col1,#T_88eba_row2_col2,#T_88eba_row3_col3{\n",
       "            background-color:  #b40426;\n",
       "            color:  #f1f1f1;\n",
       "        }#T_88eba_row0_col1{\n",
       "            background-color:  #f7a98b;\n",
       "            color:  #000000;\n",
       "        }#T_88eba_row0_col2{\n",
       "            background-color:  #d9dce1;\n",
       "            color:  #000000;\n",
       "        }#T_88eba_row0_col3{\n",
       "            background-color:  #3f53c6;\n",
       "            color:  #f1f1f1;\n",
       "        }#T_88eba_row1_col0{\n",
       "            background-color:  #f7aa8c;\n",
       "            color:  #000000;\n",
       "        }#T_88eba_row1_col2{\n",
       "            background-color:  #6384eb;\n",
       "            color:  #000000;\n",
       "        }#T_88eba_row1_col3,#T_88eba_row3_col0,#T_88eba_row3_col1,#T_88eba_row3_col2{\n",
       "            background-color:  #3b4cc0;\n",
       "            color:  #f1f1f1;\n",
       "        }#T_88eba_row2_col0{\n",
       "            background-color:  #f5c4ac;\n",
       "            color:  #000000;\n",
       "        }#T_88eba_row2_col1{\n",
       "            background-color:  #b9d0f9;\n",
       "            color:  #000000;\n",
       "        }#T_88eba_row2_col3{\n",
       "            background-color:  #98b9ff;\n",
       "            color:  #000000;\n",
       "        }</style><table id=\"T_88eba_\" ><thead>    <tr>        <th class=\"blank level0\" ></th>        <th class=\"col_heading level0 col0\" >price</th>        <th class=\"col_heading level0 col1\" >registration_year</th>        <th class=\"col_heading level0 col2\" >power</th>        <th class=\"col_heading level0 col3\" >kilometer</th>    </tr></thead><tbody>\n",
       "                <tr>\n",
       "                        <th id=\"T_88eba_level0_row0\" class=\"row_heading level0 row0\" >price</th>\n",
       "                        <td id=\"T_88eba_row0_col0\" class=\"data row0 col0\" >1.000000</td>\n",
       "                        <td id=\"T_88eba_row0_col1\" class=\"data row0 col1\" >0.635437</td>\n",
       "                        <td id=\"T_88eba_row0_col2\" class=\"data row0 col2\" >0.538475</td>\n",
       "                        <td id=\"T_88eba_row0_col3\" class=\"data row0 col3\" >-0.231987</td>\n",
       "            </tr>\n",
       "            <tr>\n",
       "                        <th id=\"T_88eba_level0_row1\" class=\"row_heading level0 row1\" >registration_year</th>\n",
       "                        <td id=\"T_88eba_row1_col0\" class=\"data row1 col0\" >0.635437</td>\n",
       "                        <td id=\"T_88eba_row1_col1\" class=\"data row1 col1\" >1.000000</td>\n",
       "                        <td id=\"T_88eba_row1_col2\" class=\"data row1 col2\" >0.221151</td>\n",
       "                        <td id=\"T_88eba_row1_col3\" class=\"data row1 col3\" >-0.253510</td>\n",
       "            </tr>\n",
       "            <tr>\n",
       "                        <th id=\"T_88eba_level0_row2\" class=\"row_heading level0 row2\" >power</th>\n",
       "                        <td id=\"T_88eba_row2_col0\" class=\"data row2 col0\" >0.538475</td>\n",
       "                        <td id=\"T_88eba_row2_col1\" class=\"data row2 col1\" >0.221151</td>\n",
       "                        <td id=\"T_88eba_row2_col2\" class=\"data row2 col2\" >1.000000</td>\n",
       "                        <td id=\"T_88eba_row2_col3\" class=\"data row2 col3\" >0.102690</td>\n",
       "            </tr>\n",
       "            <tr>\n",
       "                        <th id=\"T_88eba_level0_row3\" class=\"row_heading level0 row3\" >kilometer</th>\n",
       "                        <td id=\"T_88eba_row3_col0\" class=\"data row3 col0\" >-0.231987</td>\n",
       "                        <td id=\"T_88eba_row3_col1\" class=\"data row3 col1\" >-0.253510</td>\n",
       "                        <td id=\"T_88eba_row3_col2\" class=\"data row3 col2\" >0.102690</td>\n",
       "                        <td id=\"T_88eba_row3_col3\" class=\"data row3 col3\" >1.000000</td>\n",
       "            </tr>\n",
       "    </tbody></table>"
      ],
      "text/plain": [
       "<pandas.io.formats.style.Styler at 0x7ff125b41e20>"
      ]
     },
     "execution_count": 23,
     "metadata": {},
     "output_type": "execute_result"
    }
   ],
   "source": [
    "corr = df.corr()\n",
    "corr.style.background_gradient(cmap='coolwarm')"
   ]
  },
  {
   "cell_type": "markdown",
   "metadata": {},
   "source": [
    "Матрица корреляций показывает, что тема мультиколлинеарности не относится к текущему исследованию потому что нет сильных линейных связей"
   ]
  },
  {
   "cell_type": "markdown",
   "metadata": {},
   "source": [
    "## Обучение моделей"
   ]
  },
  {
   "cell_type": "code",
   "execution_count": 24,
   "metadata": {},
   "outputs": [],
   "source": [
    "cat_features = ['vehicle_type', 'gearbox', 'model', 'fuel_type', 'brand', 'repaired']"
   ]
  },
  {
   "cell_type": "markdown",
   "metadata": {},
   "source": [
    "Выделим категориальные признаки"
   ]
  },
  {
   "cell_type": "code",
   "execution_count": 27,
   "metadata": {},
   "outputs": [],
   "source": [
    "features = df.drop(columns='price')\n",
    "target = df['price']\n",
    "\n",
    "features_train, features_test, target_train, target_test = train_test_split(\n",
    "                                        features, target, test_size=0.2, random_state=12345)\n",
    "\n",
    "features_test, features_valid, target_test, target_valid = train_test_split(\n",
    "                                        features_test, target_test, test_size=0.5, random_state=12345)\n",
    "\n",
    "features_train_ohe = pd.get_dummies(features_train, drop_first=True)\n",
    "features_valid_ohe = pd.get_dummies(features_valid, drop_first=True)\n",
    "features_test_ohe = pd.get_dummies(features_test, drop_first=True)\n",
    "\n",
    "common_columns = set(features_train_ohe.columns) & set(features_valid_ohe.columns) & set(features_test_ohe.columns)\n",
    "\n",
    "features_train_ohe = features_train_ohe[list(common_columns)]\n",
    "features_valid_ohe = features_valid_ohe[list(common_columns)]\n",
    "features_test_ohe = features_test_ohe[list(common_columns)]"
   ]
  },
  {
   "cell_type": "code",
   "execution_count": 34,
   "metadata": {},
   "outputs": [],
   "source": [
    "numeric = ['registration_year', 'power', 'kilometer']\n",
    "\n",
    "scaler = StandardScaler()\n",
    "scaler.fit(features_train[numeric])\n",
    "features_train_ohe[numeric] = scaler.transform(features_train_ohe[numeric])\n",
    "features_test_ohe[numeric] = scaler.transform(features_test_ohe[numeric])\n",
    "features_valid_ohe[numeric] = scaler.transform(features_valid_ohe[numeric])"
   ]
  },
  {
   "cell_type": "code",
   "execution_count": 64,
   "metadata": {},
   "outputs": [
    {
     "name": "stdout",
     "output_type": "stream",
     "text": [
      "CPU times: user 16 µs, sys: 5 µs, total: 21 µs\n",
      "Wall time: 24.3 µs\n"
     ]
    }
   ],
   "source": [
    "LR = LinearRegression()"
   ]
  },
  {
   "cell_type": "code",
   "execution_count": 65,
   "metadata": {},
   "outputs": [
    {
     "name": "stdout",
     "output_type": "stream",
     "text": [
      "CPU times: user 11.1 s, sys: 18.9 s, total: 30 s\n",
      "Wall time: 30.1 s\n"
     ]
    },
    {
     "data": {
      "text/plain": [
       "LinearRegression()"
      ]
     },
     "execution_count": 65,
     "metadata": {},
     "output_type": "execute_result"
    }
   ],
   "source": [
    "%%time\n",
    "\n",
    "LR.fit(features_train_ohe, target_train)"
   ]
  },
  {
   "cell_type": "code",
   "execution_count": null,
   "metadata": {},
   "outputs": [],
   "source": [
    "predictions_lr = LR.predict(features_train_ohe) "
   ]
  },
  {
   "cell_type": "markdown",
   "metadata": {},
   "source": [
    "Оценим модель линейной регрессии"
   ]
  },
  {
   "cell_type": "code",
   "execution_count": 41,
   "metadata": {},
   "outputs": [
    {
     "name": "stdout",
     "output_type": "stream",
     "text": [
      "RMSE: 1783.9442123325782\n"
     ]
    }
   ],
   "source": [
    "mse_lr = np.sqrt(mean_squared_error(target_train, predictions_lr))\n",
    "print('RMSE:', mse_lr)"
   ]
  },
  {
   "cell_type": "code",
   "execution_count": 43,
   "metadata": {},
   "outputs": [
    {
     "name": "stdout",
     "output_type": "stream",
     "text": [
      "-1787.3110313087461\n",
      "CPU times: user 39.9 s, sys: 1min 8s, total: 1min 48s\n",
      "Wall time: 1min 48s\n"
     ]
    }
   ],
   "source": [
    "%%time\n",
    "\n",
    "print(cross_val_score(LR, features_train_ohe, target_train, cv=5, scoring='neg_root_mean_squared_error').mean())"
   ]
  },
  {
   "cell_type": "code",
   "execution_count": 44,
   "metadata": {},
   "outputs": [],
   "source": [
    "features_cbr = df.drop(columns='price')\n",
    "target_cbr = df['price']\n",
    "\n",
    "features_trainc, features_testc, target_trainc, target_testc = train_test_split(\n",
    "                                        features_cbr, target_cbr, test_size=0.2, random_state=12345)"
   ]
  },
  {
   "cell_type": "code",
   "execution_count": 25,
   "metadata": {},
   "outputs": [
    {
     "name": "stdout",
     "output_type": "stream",
     "text": [
      "CPU times: user 36min 12s, sys: 10.5 s, total: 36min 22s\n",
      "Wall time: 37min 24s\n"
     ]
    },
    {
     "data": {
      "text/plain": [
       "GridSearchCV(cv=5,\n",
       "             estimator=<catboost.core.CatBoostRegressor object at 0x7f68344158b0>,\n",
       "             param_grid={'iterations': [100, 200, 300],\n",
       "                         'l2_leaf_reg': [1, 3, 5],\n",
       "                         'learning_rate': [0.01, 0.1]},\n",
       "             scoring='neg_mean_squared_error')"
      ]
     },
     "execution_count": 25,
     "metadata": {},
     "output_type": "execute_result"
    }
   ],
   "source": [
    "%%time\n",
    "\n",
    "model = CatBoostRegressor(random_state=12345, loss_function='RMSE', silent=True, cat_features=categ)\n",
    "\n",
    "param_grid = {\n",
    "    'iterations': [100, 200, 300],\n",
    "    'learning_rate': [0.01, 0.1],\n",
    "    #'depth': [4, 6, 8],\n",
    "    'l2_leaf_reg': [1, 3, 5]\n",
    "}\n",
    "\n",
    "grid_search = GridSearchCV(estimator=model, param_grid=param_grid, cv=5, scoring='neg_root_mean_squared_error')\n",
    "\n",
    "grid_search.fit(features_trainc, target_trainc)"
   ]
  },
  {
   "cell_type": "markdown",
   "metadata": {},
   "source": [
    "Найдем гиперпараметры через Grid Search CV для Cat Boost Regressor"
   ]
  },
  {
   "cell_type": "code",
   "execution_count": 33,
   "metadata": {},
   "outputs": [
    {
     "name": "stdout",
     "output_type": "stream",
     "text": [
      "Best hyperparams: {'iterations': 300, 'l2_leaf_reg': 1, 'learning_rate': 0.1}\n",
      "Best score: nan\n"
     ]
    }
   ],
   "source": [
    "print('Best hyperparams:', grid_search.best_params_) \n",
    "print('Best score:', np.sqrt(grid_search.best_score_))"
   ]
  },
  {
   "cell_type": "code",
   "execution_count": 66,
   "metadata": {
    "scrolled": false
   },
   "outputs": [],
   "source": [
    "model = CatBoostRegressor(random_state=12345, loss_function='RMSE', silent=True,\n",
    "                         iterations=300, l2_leaf_reg=1, learning_rate=0.1, cat_features=cat_features) "
   ]
  },
  {
   "cell_type": "code",
   "execution_count": 68,
   "metadata": {},
   "outputs": [
    {
     "name": "stderr",
     "output_type": "stream",
     "text": [
      "Custom logger is already specified. Specify more than one logger at same time is not thread safe."
     ]
    },
    {
     "name": "stdout",
     "output_type": "stream",
     "text": [
      "CPU times: user 42.9 s, sys: 0 ns, total: 42.9 s\n",
      "Wall time: 43.8 s\n"
     ]
    },
    {
     "data": {
      "text/plain": [
       "<catboost.core.CatBoostRegressor at 0x7ff114b727f0>"
      ]
     },
     "execution_count": 68,
     "metadata": {},
     "output_type": "execute_result"
    }
   ],
   "source": [
    "%%time\n",
    "\n",
    "model.fit(features_trainc, target_trainc)"
   ]
  },
  {
   "cell_type": "code",
   "execution_count": null,
   "metadata": {},
   "outputs": [],
   "source": [
    "pred = model.predict(features_valid)\n",
    "metric = np.sqrt(mean_squared_error(target_valid, pred))"
   ]
  },
  {
   "cell_type": "code",
   "execution_count": 59,
   "metadata": {},
   "outputs": [
    {
     "name": "stdout",
     "output_type": "stream",
     "text": [
      "RMSE для CatBoostRegressor: 1355.818649897066\n"
     ]
    }
   ],
   "source": [
    "print('RMSE для CatBoostRegressor:', metric)"
   ]
  },
  {
   "cell_type": "markdown",
   "metadata": {},
   "source": [
    "Выведем результаты"
   ]
  },
  {
   "cell_type": "code",
   "execution_count": 29,
   "metadata": {},
   "outputs": [
    {
     "name": "stdout",
     "output_type": "stream",
     "text": [
      "CPU times: user 53 µs, sys: 0 ns, total: 53 µs\n",
      "Wall time: 56.5 µs\n"
     ]
    }
   ],
   "source": [
    "%%time\n",
    "\n",
    "model = LGBMRegressor(random_state=12345, silent=True) \n",
    "\n",
    "param_dist = {\n",
    "    'learning_rate': [0.01, 0.1], \n",
    "    'max_depth': [4, 6, 8], \n",
    "    'n_estimators': [60, 80, 100]\n",
    "}\n",
    "\n",
    "search = RandomizedSearchCV(estimator=model, param_distributions=param_dist, cv=5) "
   ]
  },
  {
   "cell_type": "code",
   "execution_count": 30,
   "metadata": {},
   "outputs": [
    {
     "name": "stdout",
     "output_type": "stream",
     "text": [
      "CPU times: user 23min 50s, sys: 24 s, total: 24min 14s\n",
      "Wall time: 24min 23s\n"
     ]
    },
    {
     "data": {
      "text/plain": [
       "RandomizedSearchCV(cv=5,\n",
       "                   estimator=LGBMRegressor(random_state=12345, silent=True),\n",
       "                   param_distributions={'learning_rate': [0.01, 0.1],\n",
       "                                        'max_depth': [4, 6, 8],\n",
       "                                        'n_estimators': [60, 80, 100]})"
      ]
     },
     "execution_count": 30,
     "metadata": {},
     "output_type": "execute_result"
    }
   ],
   "source": [
    "%%time\n",
    "\n",
    "search.fit(features_train, target_train)"
   ]
  },
  {
   "cell_type": "markdown",
   "metadata": {},
   "source": [
    "Воспользуемся Random Search для LGBM Regressor и получим: "
   ]
  },
  {
   "cell_type": "code",
   "execution_count": 35,
   "metadata": {},
   "outputs": [
    {
     "name": "stdout",
     "output_type": "stream",
     "text": [
      "Best hyperparams: {'n_estimators': 100, 'max_depth': 8, 'learning_rate': 0.1}\n",
      "Best score: 0.9092596227246815\n"
     ]
    }
   ],
   "source": [
    "print('Best hyperparams:', search.best_params_) \n",
    "print('Best score:', np.sqrt(search.best_score_))"
   ]
  },
  {
   "cell_type": "code",
   "execution_count": 69,
   "metadata": {},
   "outputs": [],
   "source": [
    "model = LGBMRegressor(random_state=12345, n_estimators=100, max_depth=8, learning_rate=0.1) "
   ]
  },
  {
   "cell_type": "code",
   "execution_count": 70,
   "metadata": {},
   "outputs": [
    {
     "name": "stdout",
     "output_type": "stream",
     "text": [
      "CPU times: user 5min 37s, sys: 3.99 s, total: 5min 41s\n",
      "Wall time: 5min 43s\n"
     ]
    },
    {
     "data": {
      "text/plain": [
       "LGBMRegressor(max_depth=8, random_state=12345)"
      ]
     },
     "execution_count": 70,
     "metadata": {},
     "output_type": "execute_result"
    }
   ],
   "source": [
    "%%time\n",
    "\n",
    "model.fit(features_train_ohe, target_train) "
   ]
  },
  {
   "cell_type": "code",
   "execution_count": 71,
   "metadata": {},
   "outputs": [],
   "source": [
    "predict = model.predict(features_valid_ohe) "
   ]
  },
  {
   "cell_type": "code",
   "execution_count": 72,
   "metadata": {},
   "outputs": [],
   "source": [
    "res = np.sqrt(mean_squared_error(target_valid, predict))"
   ]
  },
  {
   "cell_type": "code",
   "execution_count": 62,
   "metadata": {},
   "outputs": [
    {
     "name": "stdout",
     "output_type": "stream",
     "text": [
      "RMSE для LGBMRegressor: 1377.5882501662836\n"
     ]
    }
   ],
   "source": [
    "print('RMSE для LGBMRegressor:', res)"
   ]
  },
  {
   "cell_type": "markdown",
   "metadata": {},
   "source": [
    "<div class=\"alert alert-block alert-success\">\n",
    "<b>V2 ✔️ Успешно исправлено</b>\n",
    "</div>"
   ]
  },
  {
   "cell_type": "markdown",
   "metadata": {},
   "source": [
    "## Анализ моделей"
   ]
  },
  {
   "cell_type": "markdown",
   "metadata": {},
   "source": [
    "Таким образом, было проведено исследование трех моделей, были подобраны оптимальные гиперпараметры для каждой модели, кроме линейной регрессии. Лучше всего себя показала LGBM Regressor с гиперпараметрами: 'n_estimators': 100, 'max_depth': 8, 'learning_rate': 0.1, а RMSE составила 0.909. "
   ]
  },
  {
   "cell_type": "code",
   "execution_count": 77,
   "metadata": {},
   "outputs": [
    {
     "data": {
      "text/html": [
       "<div>\n",
       "<style scoped>\n",
       "    .dataframe tbody tr th:only-of-type {\n",
       "        vertical-align: middle;\n",
       "    }\n",
       "\n",
       "    .dataframe tbody tr th {\n",
       "        vertical-align: top;\n",
       "    }\n",
       "\n",
       "    .dataframe thead th {\n",
       "        text-align: right;\n",
       "    }\n",
       "</style>\n",
       "<table border=\"1\" class=\"dataframe\">\n",
       "  <thead>\n",
       "    <tr style=\"text-align: right;\">\n",
       "      <th></th>\n",
       "      <th>model</th>\n",
       "      <th>pred_time</th>\n",
       "      <th>fitting_time</th>\n",
       "      <th>RMSE</th>\n",
       "    </tr>\n",
       "  </thead>\n",
       "  <tbody>\n",
       "    <tr>\n",
       "      <th>0</th>\n",
       "      <td>Linear Regression</td>\n",
       "      <td>1min 48s</td>\n",
       "      <td>30 s</td>\n",
       "      <td>1787.31</td>\n",
       "    </tr>\n",
       "    <tr>\n",
       "      <th>1</th>\n",
       "      <td>CatBoostRegressor</td>\n",
       "      <td>44.1 s</td>\n",
       "      <td>42.9 s</td>\n",
       "      <td>1355.81</td>\n",
       "    </tr>\n",
       "    <tr>\n",
       "      <th>2</th>\n",
       "      <td>LGBMRegressor</td>\n",
       "      <td>4min 31s</td>\n",
       "      <td>5min 41s</td>\n",
       "      <td>1377.58</td>\n",
       "    </tr>\n",
       "  </tbody>\n",
       "</table>\n",
       "</div>"
      ],
      "text/plain": [
       "               model pred_time fitting_time     RMSE\n",
       "0  Linear Regression  1min 48s         30 s  1787.31\n",
       "1  CatBoostRegressor    44.1 s       42.9 s  1355.81\n",
       "2      LGBMRegressor  4min 31s     5min 41s  1377.58"
      ]
     },
     "execution_count": 77,
     "metadata": {},
     "output_type": "execute_result"
    }
   ],
   "source": [
    "results = {\n",
    "    'model': ['Linear Regression', 'CatBoostRegressor', 'LGBMRegressor'],\n",
    "    'pred_time': ['1min 48s', '44.1 s', '4min 31s'],\n",
    "    'fitting_time': ['30 s', '42.9 s', '5min 41s'],\n",
    "    'RMSE': [1787.31, 1355.81, 1377.58]\n",
    "}\n",
    "\n",
    "results = pd.DataFrame(results)\n",
    "\n",
    "results"
   ]
  },
  {
   "cell_type": "markdown",
   "metadata": {},
   "source": [
    "Таким образом можно сказать, что исходя из полученных результатов модель CatBoost будет лучше других, потому что имеет наименьшую метрику RMSE, а также обучается и предсказывает результаты быстрее других рассмотренных моделей."
   ]
  },
  {
   "cell_type": "markdown",
   "metadata": {},
   "source": [
    "## Тестирование лучшей модели"
   ]
  },
  {
   "cell_type": "code",
   "execution_count": 79,
   "metadata": {},
   "outputs": [],
   "source": [
    "model_final = CatBoostRegressor(random_state=12345, loss_function='RMSE', silent=True,\n",
    "                         iterations=300, l2_leaf_reg=1, learning_rate=0.1, cat_features=cat_features) \n",
    "\n",
    "model_final.fit(features_trainc, target_trainc)\n",
    "\n",
    "pred_final = model_final.predict(features_testc)"
   ]
  },
  {
   "cell_type": "code",
   "execution_count": 86,
   "metadata": {},
   "outputs": [],
   "source": [
    "final_res = np.sqrt(mean_squared_error(target_testc, pred_final))"
   ]
  },
  {
   "cell_type": "code",
   "execution_count": 88,
   "metadata": {},
   "outputs": [
    {
     "name": "stdout",
     "output_type": "stream",
     "text": [
      "Лучшая модель с оптимальными гиперпараметрами на тестовой выборке имеет RMSE равное 1339.9255696267517\n"
     ]
    }
   ],
   "source": [
    "print('Лучшая модель с оптимальными гиперпараметрами на тестовой выборке имеет RMSE равное', final_res)"
   ]
  }
 ],
 "metadata": {
  "ExecuteTimeLog": [
   {
    "duration": 438,
    "start_time": "2023-06-02T00:27:33.537Z"
   },
   {
    "duration": 1473,
    "start_time": "2023-06-02T00:28:01.090Z"
   },
   {
    "duration": 31,
    "start_time": "2023-06-02T00:28:09.471Z"
   },
   {
    "duration": 148,
    "start_time": "2023-06-02T00:28:16.421Z"
   },
   {
    "duration": 982,
    "start_time": "2023-06-02T00:31:25.753Z"
   },
   {
    "duration": 24,
    "start_time": "2023-06-02T00:31:48.606Z"
   },
   {
    "duration": 5,
    "start_time": "2023-06-02T00:37:00.811Z"
   },
   {
    "duration": 28,
    "start_time": "2023-06-02T00:40:47.764Z"
   },
   {
    "duration": 97,
    "start_time": "2023-06-02T00:41:46.275Z"
   },
   {
    "duration": 4,
    "start_time": "2023-06-02T00:41:57.905Z"
   },
   {
    "duration": 204,
    "start_time": "2023-06-02T00:43:20.556Z"
   },
   {
    "duration": 6,
    "start_time": "2023-06-02T00:43:52.959Z"
   },
   {
    "duration": 74,
    "start_time": "2023-06-02T00:44:33.254Z"
   },
   {
    "duration": 116,
    "start_time": "2023-06-02T00:44:41.266Z"
   },
   {
    "duration": 43,
    "start_time": "2023-06-02T00:45:27.174Z"
   },
   {
    "duration": 50,
    "start_time": "2023-06-02T00:45:27.758Z"
   },
   {
    "duration": 59,
    "start_time": "2023-06-02T00:45:28.114Z"
   },
   {
    "duration": 29,
    "start_time": "2023-06-02T00:45:28.605Z"
   },
   {
    "duration": 43,
    "start_time": "2023-06-02T00:45:30.561Z"
   },
   {
    "duration": 97,
    "start_time": "2023-06-02T00:45:31.174Z"
   },
   {
    "duration": 128,
    "start_time": "2023-06-02T00:46:02.069Z"
   },
   {
    "duration": 68,
    "start_time": "2023-06-02T00:46:58.267Z"
   },
   {
    "duration": 84,
    "start_time": "2023-06-02T00:47:00.589Z"
   },
   {
    "duration": 66,
    "start_time": "2023-06-02T00:47:20.490Z"
   },
   {
    "duration": 113,
    "start_time": "2023-06-02T00:47:23.782Z"
   },
   {
    "duration": 64,
    "start_time": "2023-06-02T00:47:34.853Z"
   },
   {
    "duration": 93,
    "start_time": "2023-06-02T00:47:37.015Z"
   },
   {
    "duration": 27,
    "start_time": "2023-06-02T00:50:46.157Z"
   },
   {
    "duration": 1266,
    "start_time": "2023-06-02T00:50:56.212Z"
   },
   {
    "duration": 1011,
    "start_time": "2023-06-02T00:50:57.482Z"
   },
   {
    "duration": 62,
    "start_time": "2023-06-02T00:50:58.496Z"
   },
   {
    "duration": 170,
    "start_time": "2023-06-02T00:50:58.560Z"
   },
   {
    "duration": 17,
    "start_time": "2023-06-02T00:50:58.732Z"
   },
   {
    "duration": 89,
    "start_time": "2023-06-02T00:50:58.751Z"
   },
   {
    "duration": 48,
    "start_time": "2023-06-02T00:50:58.844Z"
   },
   {
    "duration": 98,
    "start_time": "2023-06-02T00:50:58.894Z"
   },
   {
    "duration": 80,
    "start_time": "2023-06-02T00:50:58.993Z"
   },
   {
    "duration": 52,
    "start_time": "2023-06-02T00:50:59.074Z"
   },
   {
    "duration": 42,
    "start_time": "2023-06-02T00:50:59.128Z"
   },
   {
    "duration": 59,
    "start_time": "2023-06-02T00:50:59.171Z"
   },
   {
    "duration": 45,
    "start_time": "2023-06-02T00:50:59.232Z"
   },
   {
    "duration": 102,
    "start_time": "2023-06-02T00:50:59.281Z"
   },
   {
    "duration": 16,
    "start_time": "2023-06-02T00:54:27.816Z"
   },
   {
    "duration": 4,
    "start_time": "2023-06-02T00:54:31.295Z"
   },
   {
    "duration": 3,
    "start_time": "2023-06-02T00:55:59.756Z"
   },
   {
    "duration": 138,
    "start_time": "2023-06-02T00:56:04.332Z"
   },
   {
    "duration": 16193,
    "start_time": "2023-06-02T00:56:09.287Z"
   },
   {
    "duration": 64,
    "start_time": "2023-06-02T00:56:33.314Z"
   },
   {
    "duration": 3,
    "start_time": "2023-06-02T00:56:37.802Z"
   },
   {
    "duration": 16723,
    "start_time": "2023-06-02T00:56:40.616Z"
   },
   {
    "duration": 3,
    "start_time": "2023-06-02T00:57:19.019Z"
   },
   {
    "duration": 52,
    "start_time": "2023-06-02T00:58:04.386Z"
   },
   {
    "duration": 96,
    "start_time": "2023-06-02T00:59:04.512Z"
   },
   {
    "duration": 590,
    "start_time": "2023-06-02T00:59:16.671Z"
   },
   {
    "duration": 123,
    "start_time": "2023-06-02T00:59:32.511Z"
   },
   {
    "duration": 573,
    "start_time": "2023-06-02T00:59:42.163Z"
   },
   {
    "duration": 133,
    "start_time": "2023-06-02T00:59:42.941Z"
   },
   {
    "duration": 24,
    "start_time": "2023-06-02T00:59:52.789Z"
   },
   {
    "duration": 1036,
    "start_time": "2023-06-02T00:59:53.976Z"
   },
   {
    "duration": 22,
    "start_time": "2023-06-02T00:59:55.014Z"
   },
   {
    "duration": 97,
    "start_time": "2023-06-02T01:00:02.810Z"
   },
   {
    "duration": 1518,
    "start_time": "2023-06-02T01:02:33.668Z"
   },
   {
    "duration": 42,
    "start_time": "2023-06-02T01:02:42.840Z"
   },
   {
    "duration": 14,
    "start_time": "2023-06-02T01:02:44.206Z"
   },
   {
    "duration": 5,
    "start_time": "2023-06-02T01:02:45.269Z"
   },
   {
    "duration": 27,
    "start_time": "2023-06-02T01:02:50.702Z"
   },
   {
    "duration": 69,
    "start_time": "2023-06-02T01:03:12.302Z"
   },
   {
    "duration": 19,
    "start_time": "2023-06-02T01:03:17.537Z"
   },
   {
    "duration": 42,
    "start_time": "2023-06-02T01:03:23.368Z"
   },
   {
    "duration": 1384,
    "start_time": "2023-06-02T01:03:56.479Z"
   },
   {
    "duration": 1120,
    "start_time": "2023-06-02T01:03:57.866Z"
   },
   {
    "duration": 40,
    "start_time": "2023-06-02T01:03:58.990Z"
   },
   {
    "duration": 195,
    "start_time": "2023-06-02T01:03:59.032Z"
   },
   {
    "duration": 4,
    "start_time": "2023-06-02T01:03:59.230Z"
   },
   {
    "duration": 132,
    "start_time": "2023-06-02T01:03:59.236Z"
   },
   {
    "duration": 39,
    "start_time": "2023-06-02T01:03:59.371Z"
   },
   {
    "duration": 112,
    "start_time": "2023-06-02T01:03:59.412Z"
   },
   {
    "duration": 73,
    "start_time": "2023-06-02T01:03:59.526Z"
   },
   {
    "duration": 69,
    "start_time": "2023-06-02T01:03:59.606Z"
   },
   {
    "duration": 53,
    "start_time": "2023-06-02T01:03:59.677Z"
   },
   {
    "duration": 43,
    "start_time": "2023-06-02T01:03:59.732Z"
   },
   {
    "duration": 73,
    "start_time": "2023-06-02T01:03:59.776Z"
   },
   {
    "duration": 89,
    "start_time": "2023-06-02T01:03:59.851Z"
   },
   {
    "duration": 90,
    "start_time": "2023-06-02T01:03:59.950Z"
   },
   {
    "duration": 48,
    "start_time": "2023-06-02T01:04:00.042Z"
   },
   {
    "duration": 1660,
    "start_time": "2023-06-02T01:04:00.094Z"
   },
   {
    "duration": 383,
    "start_time": "2023-06-02T01:04:53.177Z"
   },
   {
    "duration": 458,
    "start_time": "2023-06-02T01:05:06.972Z"
   },
   {
    "duration": 476,
    "start_time": "2023-06-02T01:05:12.637Z"
   },
   {
    "duration": 418,
    "start_time": "2023-06-02T01:05:17.234Z"
   },
   {
    "duration": 378,
    "start_time": "2023-06-02T01:05:20.570Z"
   },
   {
    "duration": 70,
    "start_time": "2023-06-02T01:05:24.283Z"
   },
   {
    "duration": 45,
    "start_time": "2023-06-02T01:05:53.737Z"
   },
   {
    "duration": 27,
    "start_time": "2023-06-02T01:06:02.189Z"
   },
   {
    "duration": 92,
    "start_time": "2023-06-02T01:06:18.914Z"
   },
   {
    "duration": 121,
    "start_time": "2023-06-02T01:06:59.035Z"
   },
   {
    "duration": 412,
    "start_time": "2023-06-02T01:16:49.417Z"
   },
   {
    "duration": 26,
    "start_time": "2023-06-02T01:17:30.533Z"
   },
   {
    "duration": 70,
    "start_time": "2023-06-02T01:19:11.530Z"
   },
   {
    "duration": 76,
    "start_time": "2023-06-02T01:21:25.797Z"
   },
   {
    "duration": 43,
    "start_time": "2023-06-02T01:23:15.793Z"
   },
   {
    "duration": 2,
    "start_time": "2023-06-02T01:23:56.611Z"
   },
   {
    "duration": 1631,
    "start_time": "2023-06-02T09:44:25.346Z"
   },
   {
    "duration": 1024,
    "start_time": "2023-06-02T09:44:26.979Z"
   },
   {
    "duration": 27,
    "start_time": "2023-06-02T09:44:28.005Z"
   },
   {
    "duration": 115,
    "start_time": "2023-06-02T09:44:28.034Z"
   },
   {
    "duration": 5,
    "start_time": "2023-06-02T09:44:28.151Z"
   },
   {
    "duration": 47,
    "start_time": "2023-06-02T09:44:28.157Z"
   },
   {
    "duration": 13,
    "start_time": "2023-06-02T09:44:28.206Z"
   },
   {
    "duration": 90,
    "start_time": "2023-06-02T09:44:28.221Z"
   },
   {
    "duration": 59,
    "start_time": "2023-06-02T09:44:28.312Z"
   },
   {
    "duration": 40,
    "start_time": "2023-06-02T09:44:28.373Z"
   },
   {
    "duration": 34,
    "start_time": "2023-06-02T09:44:28.415Z"
   },
   {
    "duration": 26,
    "start_time": "2023-06-02T09:44:28.451Z"
   },
   {
    "duration": 60,
    "start_time": "2023-06-02T09:44:28.479Z"
   },
   {
    "duration": 58,
    "start_time": "2023-06-02T09:44:28.543Z"
   },
   {
    "duration": 21,
    "start_time": "2023-06-02T09:44:28.603Z"
   },
   {
    "duration": 4,
    "start_time": "2023-06-02T09:44:28.626Z"
   },
   {
    "duration": 102,
    "start_time": "2023-06-02T09:44:28.631Z"
   },
   {
    "duration": 67,
    "start_time": "2023-06-02T09:44:28.734Z"
   },
   {
    "duration": 55,
    "start_time": "2023-06-02T09:44:28.803Z"
   },
   {
    "duration": 11,
    "start_time": "2023-06-02T09:44:28.860Z"
   },
   {
    "duration": 58,
    "start_time": "2023-06-02T09:44:28.873Z"
   },
   {
    "duration": 3,
    "start_time": "2023-06-02T09:44:28.933Z"
   },
   {
    "duration": 187,
    "start_time": "2023-06-02T09:44:28.938Z"
   },
   {
    "duration": 10,
    "start_time": "2023-06-02T10:30:43.664Z"
   },
   {
    "duration": 9,
    "start_time": "2023-06-02T10:30:53.990Z"
   },
   {
    "duration": 4,
    "start_time": "2023-06-02T10:31:01.461Z"
   },
   {
    "duration": 1841,
    "start_time": "2023-06-02T10:31:41.093Z"
   },
   {
    "duration": 17,
    "start_time": "2023-06-02T10:32:30.262Z"
   },
   {
    "duration": 73,
    "start_time": "2023-06-02T10:32:46.186Z"
   },
   {
    "duration": 1556,
    "start_time": "2023-06-02T10:33:05.958Z"
   },
   {
    "duration": 798,
    "start_time": "2023-06-02T10:33:07.516Z"
   },
   {
    "duration": 27,
    "start_time": "2023-06-02T10:33:08.316Z"
   },
   {
    "duration": 129,
    "start_time": "2023-06-02T10:33:08.345Z"
   },
   {
    "duration": 8,
    "start_time": "2023-06-02T10:33:08.476Z"
   },
   {
    "duration": 55,
    "start_time": "2023-06-02T10:33:08.485Z"
   },
   {
    "duration": 4,
    "start_time": "2023-06-02T10:33:08.541Z"
   },
   {
    "duration": 81,
    "start_time": "2023-06-02T10:33:08.546Z"
   },
   {
    "duration": 47,
    "start_time": "2023-06-02T10:33:08.629Z"
   },
   {
    "duration": 55,
    "start_time": "2023-06-02T10:33:08.678Z"
   },
   {
    "duration": 33,
    "start_time": "2023-06-02T10:33:08.735Z"
   },
   {
    "duration": 27,
    "start_time": "2023-06-02T10:33:08.770Z"
   },
   {
    "duration": 44,
    "start_time": "2023-06-02T10:33:08.799Z"
   },
   {
    "duration": 78,
    "start_time": "2023-06-02T10:33:08.846Z"
   },
   {
    "duration": 20,
    "start_time": "2023-06-02T10:33:08.926Z"
   },
   {
    "duration": 13,
    "start_time": "2023-06-02T10:33:08.948Z"
   },
   {
    "duration": 89,
    "start_time": "2023-06-02T10:33:08.963Z"
   },
   {
    "duration": 75,
    "start_time": "2023-06-02T10:33:09.053Z"
   },
   {
    "duration": 54,
    "start_time": "2023-06-02T10:33:09.129Z"
   },
   {
    "duration": 13,
    "start_time": "2023-06-02T10:33:09.185Z"
   },
   {
    "duration": 52,
    "start_time": "2023-06-02T10:33:09.200Z"
   },
   {
    "duration": 3,
    "start_time": "2023-06-02T10:33:09.253Z"
   },
   {
    "duration": 27,
    "start_time": "2023-06-02T10:33:09.258Z"
   },
   {
    "duration": 2066,
    "start_time": "2023-06-02T10:33:09.287Z"
   },
   {
    "duration": 0,
    "start_time": "2023-06-02T10:33:11.355Z"
   },
   {
    "duration": 20,
    "start_time": "2023-06-02T10:33:30.906Z"
   },
   {
    "duration": 42,
    "start_time": "2023-06-02T10:33:49.057Z"
   },
   {
    "duration": 1652,
    "start_time": "2023-06-02T10:33:56.581Z"
   },
   {
    "duration": 15,
    "start_time": "2023-06-02T10:36:30.465Z"
   },
   {
    "duration": 13,
    "start_time": "2023-06-02T10:36:57.889Z"
   },
   {
    "duration": 1490,
    "start_time": "2023-06-02T10:37:11.619Z"
   },
   {
    "duration": 753,
    "start_time": "2023-06-02T10:37:13.111Z"
   },
   {
    "duration": 24,
    "start_time": "2023-06-02T10:37:13.865Z"
   },
   {
    "duration": 127,
    "start_time": "2023-06-02T10:37:13.891Z"
   },
   {
    "duration": 4,
    "start_time": "2023-06-02T10:37:14.020Z"
   },
   {
    "duration": 44,
    "start_time": "2023-06-02T10:37:14.025Z"
   },
   {
    "duration": 4,
    "start_time": "2023-06-02T10:37:14.070Z"
   },
   {
    "duration": 98,
    "start_time": "2023-06-02T10:37:14.075Z"
   },
   {
    "duration": 52,
    "start_time": "2023-06-02T10:37:14.175Z"
   },
   {
    "duration": 41,
    "start_time": "2023-06-02T10:37:14.229Z"
   },
   {
    "duration": 48,
    "start_time": "2023-06-02T10:37:14.271Z"
   },
   {
    "duration": 28,
    "start_time": "2023-06-02T10:37:14.320Z"
   },
   {
    "duration": 29,
    "start_time": "2023-06-02T10:37:14.350Z"
   },
   {
    "duration": 96,
    "start_time": "2023-06-02T10:37:14.380Z"
   },
   {
    "duration": 19,
    "start_time": "2023-06-02T10:37:14.478Z"
   },
   {
    "duration": 4,
    "start_time": "2023-06-02T10:37:14.499Z"
   },
   {
    "duration": 88,
    "start_time": "2023-06-02T10:37:14.518Z"
   },
   {
    "duration": 73,
    "start_time": "2023-06-02T10:37:14.608Z"
   },
   {
    "duration": 68,
    "start_time": "2023-06-02T10:37:14.683Z"
   },
   {
    "duration": 13,
    "start_time": "2023-06-02T10:37:14.752Z"
   },
   {
    "duration": 51,
    "start_time": "2023-06-02T10:37:14.766Z"
   },
   {
    "duration": 3,
    "start_time": "2023-06-02T10:37:14.819Z"
   },
   {
    "duration": 16,
    "start_time": "2023-06-02T10:37:14.823Z"
   },
   {
    "duration": 143,
    "start_time": "2023-06-02T10:37:14.840Z"
   },
   {
    "duration": 0,
    "start_time": "2023-06-02T10:37:14.985Z"
   },
   {
    "duration": 1767,
    "start_time": "2023-06-02T10:37:37.064Z"
   },
   {
    "duration": 4,
    "start_time": "2023-06-02T10:43:19.301Z"
   },
   {
    "duration": 4,
    "start_time": "2023-06-02T10:44:02.057Z"
   },
   {
    "duration": 4,
    "start_time": "2023-06-02T10:46:52.318Z"
   },
   {
    "duration": 499,
    "start_time": "2023-06-02T10:47:29.093Z"
   },
   {
    "duration": 49,
    "start_time": "2023-06-02T10:47:49.657Z"
   },
   {
    "duration": 648,
    "start_time": "2023-06-02T10:47:54.261Z"
   },
   {
    "duration": 70,
    "start_time": "2023-06-02T10:47:59.016Z"
   },
   {
    "duration": 611,
    "start_time": "2023-06-02T10:48:11.477Z"
   },
   {
    "duration": 54,
    "start_time": "2023-06-02T10:48:14.274Z"
   },
   {
    "duration": 18,
    "start_time": "2023-06-02T10:48:21.861Z"
   },
   {
    "duration": 51,
    "start_time": "2023-06-02T10:50:40.494Z"
   },
   {
    "duration": 3,
    "start_time": "2023-06-02T10:52:31.570Z"
   },
   {
    "duration": 491,
    "start_time": "2023-06-02T10:53:31.058Z"
   },
   {
    "duration": 64,
    "start_time": "2023-06-02T10:53:32.506Z"
   },
   {
    "duration": 1437,
    "start_time": "2023-06-02T10:53:53.677Z"
   },
   {
    "duration": 750,
    "start_time": "2023-06-02T10:53:55.116Z"
   },
   {
    "duration": 24,
    "start_time": "2023-06-02T10:53:55.867Z"
   },
   {
    "duration": 122,
    "start_time": "2023-06-02T10:53:55.893Z"
   },
   {
    "duration": 30,
    "start_time": "2023-06-02T10:53:56.017Z"
   },
   {
    "duration": 69,
    "start_time": "2023-06-02T10:53:56.048Z"
   },
   {
    "duration": 17,
    "start_time": "2023-06-02T10:53:56.119Z"
   },
   {
    "duration": 93,
    "start_time": "2023-06-02T10:53:56.138Z"
   },
   {
    "duration": 45,
    "start_time": "2023-06-02T10:53:56.233Z"
   },
   {
    "duration": 53,
    "start_time": "2023-06-02T10:53:56.281Z"
   },
   {
    "duration": 33,
    "start_time": "2023-06-02T10:53:56.336Z"
   },
   {
    "duration": 26,
    "start_time": "2023-06-02T10:53:56.370Z"
   },
   {
    "duration": 46,
    "start_time": "2023-06-02T10:53:56.398Z"
   },
   {
    "duration": 57,
    "start_time": "2023-06-02T10:53:56.446Z"
   },
   {
    "duration": 49,
    "start_time": "2023-06-02T10:53:56.504Z"
   },
   {
    "duration": 5,
    "start_time": "2023-06-02T10:53:56.554Z"
   },
   {
    "duration": 88,
    "start_time": "2023-06-02T10:53:56.561Z"
   },
   {
    "duration": 67,
    "start_time": "2023-06-02T10:53:56.651Z"
   },
   {
    "duration": 3,
    "start_time": "2023-06-02T10:53:56.719Z"
   },
   {
    "duration": 5,
    "start_time": "2023-06-02T10:53:56.723Z"
   },
   {
    "duration": 516,
    "start_time": "2023-06-02T10:53:56.730Z"
   },
   {
    "duration": 174,
    "start_time": "2023-06-02T10:53:57.248Z"
   },
   {
    "duration": 768,
    "start_time": "2023-06-02T10:55:08.960Z"
   },
   {
    "duration": 16973,
    "start_time": "2023-06-02T10:55:10.954Z"
   },
   {
    "duration": 20340,
    "start_time": "2023-06-02T10:56:26.787Z"
   },
   {
    "duration": 5,
    "start_time": "2023-06-02T10:57:26.361Z"
   },
   {
    "duration": 35,
    "start_time": "2023-06-02T11:10:22.220Z"
   },
   {
    "duration": 26025,
    "start_time": "2023-06-02T11:10:55.085Z"
   },
   {
    "duration": 12,
    "start_time": "2023-06-02T11:14:02.775Z"
   },
   {
    "duration": 42,
    "start_time": "2023-06-02T11:14:40.919Z"
   },
   {
    "duration": 1943954,
    "start_time": "2023-06-02T11:14:48.601Z"
   },
   {
    "duration": 11846,
    "start_time": "2023-06-02T11:48:07.278Z"
   },
   {
    "duration": 25,
    "start_time": "2023-06-02T11:48:45.157Z"
   },
   {
    "duration": 1455,
    "start_time": "2023-06-02T12:30:08.459Z"
   },
   {
    "duration": 784,
    "start_time": "2023-06-02T12:30:09.916Z"
   },
   {
    "duration": 25,
    "start_time": "2023-06-02T12:30:10.701Z"
   },
   {
    "duration": 133,
    "start_time": "2023-06-02T12:30:10.727Z"
   },
   {
    "duration": 5,
    "start_time": "2023-06-02T12:30:10.862Z"
   },
   {
    "duration": 63,
    "start_time": "2023-06-02T12:30:10.869Z"
   },
   {
    "duration": 15,
    "start_time": "2023-06-02T12:30:10.934Z"
   },
   {
    "duration": 76,
    "start_time": "2023-06-02T12:30:10.951Z"
   },
   {
    "duration": 49,
    "start_time": "2023-06-02T12:30:11.029Z"
   },
   {
    "duration": 52,
    "start_time": "2023-06-02T12:30:11.080Z"
   },
   {
    "duration": 34,
    "start_time": "2023-06-02T12:30:11.134Z"
   },
   {
    "duration": 26,
    "start_time": "2023-06-02T12:30:11.170Z"
   },
   {
    "duration": 45,
    "start_time": "2023-06-02T12:30:11.198Z"
   },
   {
    "duration": 59,
    "start_time": "2023-06-02T12:30:11.246Z"
   },
   {
    "duration": 21,
    "start_time": "2023-06-02T12:30:11.306Z"
   },
   {
    "duration": 7,
    "start_time": "2023-06-02T12:30:11.329Z"
   },
   {
    "duration": 96,
    "start_time": "2023-06-02T12:30:11.338Z"
   },
   {
    "duration": 66,
    "start_time": "2023-06-02T12:30:11.435Z"
   },
   {
    "duration": 3,
    "start_time": "2023-06-02T12:30:11.502Z"
   },
   {
    "duration": 13,
    "start_time": "2023-06-02T12:30:11.506Z"
   },
   {
    "duration": 722,
    "start_time": "2023-06-02T12:30:11.521Z"
   },
   {
    "duration": 15677,
    "start_time": "2023-06-02T12:30:12.244Z"
   },
   {
    "duration": 5,
    "start_time": "2023-06-02T12:30:27.923Z"
   },
   {
    "duration": 138,
    "start_time": "2023-06-02T12:30:27.929Z"
   },
   {
    "duration": 2448954,
    "start_time": "2023-06-02T12:30:28.069Z"
   },
   {
    "duration": 1592,
    "start_time": "2023-06-05T07:00:33.456Z"
   },
   {
    "duration": 2777,
    "start_time": "2023-06-05T07:00:35.050Z"
   },
   {
    "duration": 27,
    "start_time": "2023-06-05T07:00:37.829Z"
   },
   {
    "duration": 111,
    "start_time": "2023-06-05T07:00:37.859Z"
   },
   {
    "duration": 13,
    "start_time": "2023-06-05T07:00:37.972Z"
   },
   {
    "duration": 63,
    "start_time": "2023-06-05T07:00:37.987Z"
   },
   {
    "duration": 3,
    "start_time": "2023-06-05T07:00:38.052Z"
   },
   {
    "duration": 81,
    "start_time": "2023-06-05T07:00:38.057Z"
   },
   {
    "duration": 51,
    "start_time": "2023-06-05T07:00:38.140Z"
   },
   {
    "duration": 42,
    "start_time": "2023-06-05T07:00:38.194Z"
   },
   {
    "duration": 48,
    "start_time": "2023-06-05T07:00:38.238Z"
   },
   {
    "duration": 39,
    "start_time": "2023-06-05T07:00:38.288Z"
   },
   {
    "duration": 43,
    "start_time": "2023-06-05T07:00:38.330Z"
   },
   {
    "duration": 63,
    "start_time": "2023-06-05T07:00:38.375Z"
   },
   {
    "duration": 29,
    "start_time": "2023-06-05T07:00:38.440Z"
   },
   {
    "duration": 6,
    "start_time": "2023-06-05T07:00:38.470Z"
   },
   {
    "duration": 97,
    "start_time": "2023-06-05T07:00:38.477Z"
   },
   {
    "duration": 64,
    "start_time": "2023-06-05T07:00:38.576Z"
   },
   {
    "duration": 2,
    "start_time": "2023-06-05T07:00:38.642Z"
   },
   {
    "duration": 2,
    "start_time": "2023-06-05T07:00:38.656Z"
   },
   {
    "duration": 1023,
    "start_time": "2023-06-05T07:00:38.659Z"
   },
   {
    "duration": 18181,
    "start_time": "2023-06-05T07:00:39.683Z"
   },
   {
    "duration": 92,
    "start_time": "2023-06-05T07:00:57.866Z"
   },
   {
    "duration": 152,
    "start_time": "2023-06-05T07:00:57.960Z"
   },
   {
    "duration": 3,
    "start_time": "2023-06-05T07:00:58.113Z"
   },
   {
    "duration": 136,
    "start_time": "2023-06-05T07:15:23.097Z"
   },
   {
    "duration": 5,
    "start_time": "2023-06-05T07:15:26.197Z"
   },
   {
    "duration": 53322,
    "start_time": "2023-06-05T07:19:35.969Z"
   },
   {
    "duration": 218166,
    "start_time": "2023-06-05T07:20:36.385Z"
   },
   {
    "duration": 29075,
    "start_time": "2023-06-05T07:24:21.307Z"
   },
   {
    "duration": 4,
    "start_time": "2023-06-05T07:24:57.167Z"
   },
   {
    "duration": 4498181,
    "start_time": "2023-06-05T07:25:20.399Z"
   },
   {
    "duration": 45,
    "start_time": "2023-06-05T13:49:40.253Z"
   },
   {
    "duration": 1628,
    "start_time": "2023-06-05T13:55:20.606Z"
   },
   {
    "duration": 1060,
    "start_time": "2023-06-05T13:55:22.236Z"
   },
   {
    "duration": 31,
    "start_time": "2023-06-05T13:55:23.298Z"
   },
   {
    "duration": 117,
    "start_time": "2023-06-05T13:55:23.331Z"
   },
   {
    "duration": 4,
    "start_time": "2023-06-05T13:55:23.449Z"
   },
   {
    "duration": 60,
    "start_time": "2023-06-05T13:55:23.454Z"
   },
   {
    "duration": 11,
    "start_time": "2023-06-05T13:55:23.521Z"
   },
   {
    "duration": 72,
    "start_time": "2023-06-05T13:55:23.533Z"
   },
   {
    "duration": 64,
    "start_time": "2023-06-05T13:55:23.606Z"
   },
   {
    "duration": 39,
    "start_time": "2023-06-05T13:55:23.672Z"
   },
   {
    "duration": 40,
    "start_time": "2023-06-05T13:55:23.712Z"
   },
   {
    "duration": 24,
    "start_time": "2023-06-05T13:55:23.754Z"
   },
   {
    "duration": 49,
    "start_time": "2023-06-05T13:55:23.779Z"
   },
   {
    "duration": 73,
    "start_time": "2023-06-05T13:55:23.830Z"
   },
   {
    "duration": 25,
    "start_time": "2023-06-05T13:55:23.904Z"
   },
   {
    "duration": 34,
    "start_time": "2023-06-05T13:55:23.930Z"
   },
   {
    "duration": 117,
    "start_time": "2023-06-05T13:55:23.966Z"
   },
   {
    "duration": 73,
    "start_time": "2023-06-05T13:55:24.084Z"
   },
   {
    "duration": 2,
    "start_time": "2023-06-05T13:55:24.159Z"
   },
   {
    "duration": 31,
    "start_time": "2023-06-05T13:55:24.162Z"
   },
   {
    "duration": 734,
    "start_time": "2023-06-05T13:55:24.194Z"
   },
   {
    "duration": 25907,
    "start_time": "2023-06-05T13:55:24.929Z"
   },
   {
    "duration": 6,
    "start_time": "2023-06-05T13:55:50.916Z"
   },
   {
    "duration": 239,
    "start_time": "2023-06-05T13:55:50.924Z"
   },
   {
    "duration": 0,
    "start_time": "2023-06-05T13:55:51.165Z"
   },
   {
    "duration": 0,
    "start_time": "2023-06-05T13:55:51.166Z"
   },
   {
    "duration": 0,
    "start_time": "2023-06-05T13:55:51.167Z"
   },
   {
    "duration": 0,
    "start_time": "2023-06-05T13:55:51.168Z"
   },
   {
    "duration": 0,
    "start_time": "2023-06-05T13:55:51.169Z"
   },
   {
    "duration": 0,
    "start_time": "2023-06-05T13:55:51.170Z"
   },
   {
    "duration": 0,
    "start_time": "2023-06-05T13:55:51.171Z"
   },
   {
    "duration": 1372,
    "start_time": "2023-06-05T13:58:04.540Z"
   },
   {
    "duration": 765,
    "start_time": "2023-06-05T13:58:05.914Z"
   },
   {
    "duration": 24,
    "start_time": "2023-06-05T13:58:06.680Z"
   },
   {
    "duration": 136,
    "start_time": "2023-06-05T13:58:06.706Z"
   },
   {
    "duration": 4,
    "start_time": "2023-06-05T13:58:06.844Z"
   },
   {
    "duration": 45,
    "start_time": "2023-06-05T13:58:06.850Z"
   },
   {
    "duration": 24,
    "start_time": "2023-06-05T13:58:06.897Z"
   },
   {
    "duration": 75,
    "start_time": "2023-06-05T13:58:06.922Z"
   },
   {
    "duration": 57,
    "start_time": "2023-06-05T13:58:06.998Z"
   },
   {
    "duration": 39,
    "start_time": "2023-06-05T13:58:07.058Z"
   },
   {
    "duration": 37,
    "start_time": "2023-06-05T13:58:07.098Z"
   },
   {
    "duration": 26,
    "start_time": "2023-06-05T13:58:07.136Z"
   },
   {
    "duration": 30,
    "start_time": "2023-06-05T13:58:07.163Z"
   },
   {
    "duration": 72,
    "start_time": "2023-06-05T13:58:07.195Z"
   },
   {
    "duration": 25,
    "start_time": "2023-06-05T13:58:07.268Z"
   },
   {
    "duration": 5,
    "start_time": "2023-06-05T13:58:07.295Z"
   },
   {
    "duration": 83,
    "start_time": "2023-06-05T13:58:07.301Z"
   },
   {
    "duration": 70,
    "start_time": "2023-06-05T13:58:07.386Z"
   },
   {
    "duration": 2,
    "start_time": "2023-06-05T13:58:07.458Z"
   },
   {
    "duration": 8,
    "start_time": "2023-06-05T13:58:07.461Z"
   },
   {
    "duration": 725,
    "start_time": "2023-06-05T13:58:07.470Z"
   },
   {
    "duration": 31227,
    "start_time": "2023-06-05T13:58:08.196Z"
   },
   {
    "duration": 9,
    "start_time": "2023-06-05T13:58:39.430Z"
   },
   {
    "duration": 136,
    "start_time": "2023-06-05T13:58:39.441Z"
   },
   {
    "duration": 2440787,
    "start_time": "2023-06-05T13:58:39.578Z"
   },
   {
    "duration": 5,
    "start_time": "2023-06-05T14:39:20.367Z"
   },
   {
    "duration": 2166,
    "start_time": "2023-06-06T08:21:39.708Z"
   },
   {
    "duration": 2738,
    "start_time": "2023-06-06T08:21:41.876Z"
   },
   {
    "duration": 26,
    "start_time": "2023-06-06T08:21:44.616Z"
   },
   {
    "duration": 121,
    "start_time": "2023-06-06T08:21:44.643Z"
   },
   {
    "duration": 4,
    "start_time": "2023-06-06T08:21:44.766Z"
   },
   {
    "duration": 51,
    "start_time": "2023-06-06T08:21:44.771Z"
   },
   {
    "duration": 9,
    "start_time": "2023-06-06T08:21:44.824Z"
   },
   {
    "duration": 110,
    "start_time": "2023-06-06T08:21:44.835Z"
   },
   {
    "duration": 45,
    "start_time": "2023-06-06T08:21:44.947Z"
   },
   {
    "duration": 40,
    "start_time": "2023-06-06T08:21:44.994Z"
   },
   {
    "duration": 62,
    "start_time": "2023-06-06T08:21:45.036Z"
   },
   {
    "duration": 30,
    "start_time": "2023-06-06T08:21:45.100Z"
   },
   {
    "duration": 27,
    "start_time": "2023-06-06T08:21:45.132Z"
   },
   {
    "duration": 57,
    "start_time": "2023-06-06T08:21:45.162Z"
   },
   {
    "duration": 24,
    "start_time": "2023-06-06T08:21:45.221Z"
   },
   {
    "duration": 4,
    "start_time": "2023-06-06T08:21:45.247Z"
   },
   {
    "duration": 81,
    "start_time": "2023-06-06T08:21:45.253Z"
   },
   {
    "duration": 73,
    "start_time": "2023-06-06T08:21:45.336Z"
   },
   {
    "duration": 2,
    "start_time": "2023-06-06T08:21:45.411Z"
   },
   {
    "duration": 5,
    "start_time": "2023-06-06T08:21:45.415Z"
   },
   {
    "duration": 908,
    "start_time": "2023-06-06T08:21:45.421Z"
   },
   {
    "duration": 18229,
    "start_time": "2023-06-06T08:21:46.330Z"
   },
   {
    "duration": 6,
    "start_time": "2023-06-06T08:22:04.651Z"
   },
   {
    "duration": 148,
    "start_time": "2023-06-06T08:22:04.660Z"
   },
   {
    "duration": 2244170,
    "start_time": "2023-06-06T08:22:04.810Z"
   },
   {
    "duration": 112,
    "start_time": "2023-06-06T08:59:28.981Z"
   },
   {
    "duration": 0,
    "start_time": "2023-06-06T08:59:29.094Z"
   },
   {
    "duration": 0,
    "start_time": "2023-06-06T08:59:29.096Z"
   },
   {
    "duration": 0,
    "start_time": "2023-06-06T08:59:29.097Z"
   },
   {
    "duration": 4,
    "start_time": "2023-06-06T09:09:53.140Z"
   },
   {
    "duration": 3,
    "start_time": "2023-06-06T09:10:28.390Z"
   },
   {
    "duration": 3,
    "start_time": "2023-06-06T09:10:37.603Z"
   },
   {
    "duration": 1463072,
    "start_time": "2023-06-06T09:10:37.781Z"
   },
   {
    "duration": 4,
    "start_time": "2023-06-06T09:35:00.855Z"
   },
   {
    "duration": 6,
    "start_time": "2023-06-06T10:17:45.723Z"
   },
   {
    "duration": 4,
    "start_time": "2023-06-06T10:18:18.152Z"
   },
   {
    "duration": 4,
    "start_time": "2023-06-06T10:21:10.087Z"
   },
   {
    "duration": 5,
    "start_time": "2023-06-06T10:26:24.542Z"
   },
   {
    "duration": 3,
    "start_time": "2023-06-06T11:51:09.276Z"
   },
   {
    "duration": 752,
    "start_time": "2023-06-06T11:51:10.493Z"
   },
   {
    "duration": 24,
    "start_time": "2023-06-06T11:51:11.247Z"
   },
   {
    "duration": 137,
    "start_time": "2023-06-06T11:51:11.273Z"
   },
   {
    "duration": 3,
    "start_time": "2023-06-06T11:51:11.412Z"
   },
   {
    "duration": 35,
    "start_time": "2023-06-06T11:51:11.836Z"
   },
   {
    "duration": 4,
    "start_time": "2023-06-06T11:51:12.507Z"
   },
   {
    "duration": 67,
    "start_time": "2023-06-06T11:51:12.715Z"
   },
   {
    "duration": 44,
    "start_time": "2023-06-06T11:51:13.502Z"
   },
   {
    "duration": 34,
    "start_time": "2023-06-06T11:51:13.692Z"
   },
   {
    "duration": 32,
    "start_time": "2023-06-06T11:51:13.847Z"
   },
   {
    "duration": 30,
    "start_time": "2023-06-06T11:51:13.996Z"
   },
   {
    "duration": 37,
    "start_time": "2023-06-06T11:51:14.130Z"
   },
   {
    "duration": 71,
    "start_time": "2023-06-06T11:51:14.255Z"
   },
   {
    "duration": 13,
    "start_time": "2023-06-06T11:51:15.261Z"
   },
   {
    "duration": 5,
    "start_time": "2023-06-06T11:51:18.223Z"
   },
   {
    "duration": 101,
    "start_time": "2023-06-06T11:51:30.955Z"
   },
   {
    "duration": 28,
    "start_time": "2023-06-06T11:51:34.331Z"
   },
   {
    "duration": 1709,
    "start_time": "2023-06-12T14:08:27.039Z"
   },
   {
    "duration": 1347,
    "start_time": "2023-06-12T14:08:30.885Z"
   },
   {
    "duration": 26,
    "start_time": "2023-06-12T14:08:32.234Z"
   },
   {
    "duration": 134,
    "start_time": "2023-06-12T14:08:33.152Z"
   },
   {
    "duration": 4,
    "start_time": "2023-06-12T14:08:33.500Z"
   },
   {
    "duration": 54,
    "start_time": "2023-06-12T14:08:33.802Z"
   },
   {
    "duration": 4,
    "start_time": "2023-06-12T14:08:34.899Z"
   },
   {
    "duration": 62,
    "start_time": "2023-06-12T14:08:35.204Z"
   },
   {
    "duration": 55,
    "start_time": "2023-06-12T14:08:36.042Z"
   },
   {
    "duration": 52,
    "start_time": "2023-06-12T14:08:36.352Z"
   },
   {
    "duration": 33,
    "start_time": "2023-06-12T14:08:36.603Z"
   },
   {
    "duration": 30,
    "start_time": "2023-06-12T14:08:36.898Z"
   },
   {
    "duration": 30,
    "start_time": "2023-06-12T14:08:37.192Z"
   },
   {
    "duration": 53,
    "start_time": "2023-06-12T14:08:37.506Z"
   },
   {
    "duration": 19,
    "start_time": "2023-06-12T14:08:38.992Z"
   },
   {
    "duration": 5,
    "start_time": "2023-06-12T14:08:40.917Z"
   },
   {
    "duration": 108,
    "start_time": "2023-06-12T14:08:41.411Z"
   },
   {
    "duration": 84,
    "start_time": "2023-06-12T14:08:44.584Z"
   },
   {
    "duration": 129,
    "start_time": "2023-06-12T14:26:18.643Z"
   },
   {
    "duration": 1693,
    "start_time": "2023-06-13T11:14:59.912Z"
   },
   {
    "duration": 3301,
    "start_time": "2023-06-13T11:15:03.002Z"
   },
   {
    "duration": 30,
    "start_time": "2023-06-13T11:15:06.305Z"
   },
   {
    "duration": 126,
    "start_time": "2023-06-13T11:15:06.337Z"
   },
   {
    "duration": 5,
    "start_time": "2023-06-13T11:15:06.466Z"
   },
   {
    "duration": 56,
    "start_time": "2023-06-13T11:15:07.797Z"
   },
   {
    "duration": 5,
    "start_time": "2023-06-13T11:15:08.616Z"
   },
   {
    "duration": 81,
    "start_time": "2023-06-13T11:15:08.906Z"
   },
   {
    "duration": 54,
    "start_time": "2023-06-13T11:15:09.476Z"
   },
   {
    "duration": 45,
    "start_time": "2023-06-13T11:15:09.746Z"
   },
   {
    "duration": 36,
    "start_time": "2023-06-13T11:15:10.015Z"
   },
   {
    "duration": 36,
    "start_time": "2023-06-13T11:15:10.308Z"
   },
   {
    "duration": 30,
    "start_time": "2023-06-13T11:15:10.535Z"
   },
   {
    "duration": 59,
    "start_time": "2023-06-13T11:15:10.809Z"
   },
   {
    "duration": 16,
    "start_time": "2023-06-13T11:15:11.696Z"
   },
   {
    "duration": 5,
    "start_time": "2023-06-13T11:15:15.006Z"
   },
   {
    "duration": 109,
    "start_time": "2023-06-13T11:15:15.710Z"
   },
   {
    "duration": 5,
    "start_time": "2023-06-13T11:15:26.639Z"
   },
   {
    "duration": 164,
    "start_time": "2023-06-13T11:15:54.454Z"
   },
   {
    "duration": 14,
    "start_time": "2023-06-13T11:16:02.893Z"
   },
   {
    "duration": 14,
    "start_time": "2023-06-13T11:16:24.992Z"
   },
   {
    "duration": 14,
    "start_time": "2023-06-13T11:16:34.829Z"
   },
   {
    "duration": 20,
    "start_time": "2023-06-13T11:16:41.918Z"
   },
   {
    "duration": 8,
    "start_time": "2023-06-13T11:17:10.732Z"
   },
   {
    "duration": 487,
    "start_time": "2023-06-13T11:17:13.698Z"
   },
   {
    "duration": 152,
    "start_time": "2023-06-13T11:17:18.795Z"
   },
   {
    "duration": 178,
    "start_time": "2023-06-13T11:17:30.018Z"
   },
   {
    "duration": 175,
    "start_time": "2023-06-13T11:17:35.956Z"
   },
   {
    "duration": 143,
    "start_time": "2023-06-13T11:18:21.088Z"
   },
   {
    "duration": 6,
    "start_time": "2023-06-13T11:18:27.205Z"
   },
   {
    "duration": 308,
    "start_time": "2023-06-13T11:18:36.537Z"
   },
   {
    "duration": 6,
    "start_time": "2023-06-13T11:18:56.820Z"
   },
   {
    "duration": 59,
    "start_time": "2023-06-13T11:19:26.422Z"
   },
   {
    "duration": 14,
    "start_time": "2023-06-13T11:19:30.186Z"
   },
   {
    "duration": 11,
    "start_time": "2023-06-13T11:19:30.410Z"
   },
   {
    "duration": 789,
    "start_time": "2023-06-13T11:19:42.514Z"
   },
   {
    "duration": 24,
    "start_time": "2023-06-13T11:19:43.305Z"
   },
   {
    "duration": 136,
    "start_time": "2023-06-13T11:19:43.332Z"
   },
   {
    "duration": 5,
    "start_time": "2023-06-13T11:19:43.928Z"
   },
   {
    "duration": 41,
    "start_time": "2023-06-13T11:19:44.120Z"
   },
   {
    "duration": 4,
    "start_time": "2023-06-13T11:19:44.729Z"
   },
   {
    "duration": 67,
    "start_time": "2023-06-13T11:19:45.358Z"
   },
   {
    "duration": 43,
    "start_time": "2023-06-13T11:19:45.785Z"
   },
   {
    "duration": 37,
    "start_time": "2023-06-13T11:19:45.959Z"
   },
   {
    "duration": 35,
    "start_time": "2023-06-13T11:19:46.495Z"
   },
   {
    "duration": 30,
    "start_time": "2023-06-13T11:19:46.643Z"
   },
   {
    "duration": 29,
    "start_time": "2023-06-13T11:19:46.822Z"
   },
   {
    "duration": 56,
    "start_time": "2023-06-13T11:19:47.020Z"
   },
   {
    "duration": 14,
    "start_time": "2023-06-13T11:19:59.810Z"
   },
   {
    "duration": 4,
    "start_time": "2023-06-13T11:20:02.096Z"
   },
   {
    "duration": 108,
    "start_time": "2023-06-13T11:20:02.734Z"
   },
   {
    "duration": 176,
    "start_time": "2023-06-13T11:20:04.153Z"
   },
   {
    "duration": 18,
    "start_time": "2023-06-13T11:24:40.533Z"
   },
   {
    "duration": 221,
    "start_time": "2023-06-13T11:24:48.961Z"
   },
   {
    "duration": 66,
    "start_time": "2023-06-13T11:25:14.892Z"
   },
   {
    "duration": 6,
    "start_time": "2023-06-13T11:25:29.722Z"
   },
   {
    "duration": 13,
    "start_time": "2023-06-13T11:25:34.710Z"
   },
   {
    "duration": 5,
    "start_time": "2023-06-13T11:25:36.686Z"
   },
   {
    "duration": 18,
    "start_time": "2023-06-13T11:25:58.594Z"
   },
   {
    "duration": 5,
    "start_time": "2023-06-13T11:26:17.348Z"
   },
   {
    "duration": 1740,
    "start_time": "2023-06-13T16:19:16.359Z"
   },
   {
    "duration": 3418,
    "start_time": "2023-06-13T16:19:18.348Z"
   },
   {
    "duration": 27,
    "start_time": "2023-06-13T16:19:21.770Z"
   },
   {
    "duration": 150,
    "start_time": "2023-06-13T16:19:22.459Z"
   },
   {
    "duration": 7,
    "start_time": "2023-06-13T16:19:22.714Z"
   },
   {
    "duration": 40,
    "start_time": "2023-06-13T16:19:23.045Z"
   },
   {
    "duration": 4,
    "start_time": "2023-06-13T16:19:24.054Z"
   },
   {
    "duration": 75,
    "start_time": "2023-06-13T16:19:24.431Z"
   },
   {
    "duration": 46,
    "start_time": "2023-06-13T16:19:25.015Z"
   },
   {
    "duration": 40,
    "start_time": "2023-06-13T16:19:25.233Z"
   },
   {
    "duration": 41,
    "start_time": "2023-06-13T16:19:25.450Z"
   },
   {
    "duration": 31,
    "start_time": "2023-06-13T16:19:25.650Z"
   },
   {
    "duration": 31,
    "start_time": "2023-06-13T16:19:25.846Z"
   },
   {
    "duration": 76,
    "start_time": "2023-06-13T16:19:26.070Z"
   },
   {
    "duration": 16,
    "start_time": "2023-06-13T16:19:27.055Z"
   },
   {
    "duration": 6,
    "start_time": "2023-06-13T16:19:28.163Z"
   },
   {
    "duration": 106,
    "start_time": "2023-06-13T16:19:28.588Z"
   },
   {
    "duration": 226,
    "start_time": "2023-06-13T16:19:29.138Z"
   },
   {
    "duration": 16,
    "start_time": "2023-06-13T16:19:30.358Z"
   },
   {
    "duration": 220,
    "start_time": "2023-06-13T16:19:31.196Z"
   },
   {
    "duration": 18,
    "start_time": "2023-06-13T16:19:31.890Z"
   },
   {
    "duration": 5,
    "start_time": "2023-06-13T16:19:32.833Z"
   },
   {
    "duration": 85,
    "start_time": "2023-06-13T16:19:34.892Z"
   },
   {
    "duration": 4,
    "start_time": "2023-06-13T16:19:39.586Z"
   },
   {
    "duration": 3,
    "start_time": "2023-06-13T16:19:43.691Z"
   },
   {
    "duration": 129,
    "start_time": "2023-06-13T16:20:21.354Z"
   },
   {
    "duration": 542,
    "start_time": "2023-06-13T16:21:18.277Z"
   },
   {
    "duration": 96,
    "start_time": "2023-06-13T16:21:23.180Z"
   },
   {
    "duration": 63,
    "start_time": "2023-06-13T16:21:30.822Z"
   },
   {
    "duration": 6,
    "start_time": "2023-06-13T16:22:03.774Z"
   },
   {
    "duration": 4,
    "start_time": "2023-06-13T16:22:43.434Z"
   },
   {
    "duration": 26,
    "start_time": "2023-06-13T16:22:50.305Z"
   },
   {
    "duration": 24,
    "start_time": "2023-06-13T16:22:54.737Z"
   },
   {
    "duration": 95,
    "start_time": "2023-06-13T16:33:23.204Z"
   },
   {
    "duration": 18,
    "start_time": "2023-06-13T16:33:27.099Z"
   },
   {
    "duration": 15003,
    "start_time": "2023-06-13T16:33:46.839Z"
   },
   {
    "duration": 9,
    "start_time": "2023-06-13T16:36:50.390Z"
   },
   {
    "duration": 10,
    "start_time": "2023-06-13T16:36:59.103Z"
   },
   {
    "duration": 19983,
    "start_time": "2023-06-13T16:37:08.856Z"
   },
   {
    "duration": 21593,
    "start_time": "2023-06-13T16:37:39.530Z"
   },
   {
    "duration": 4,
    "start_time": "2023-06-13T16:38:04.656Z"
   },
   {
    "duration": 40304,
    "start_time": "2023-06-13T16:38:06.453Z"
   },
   {
    "duration": 108717,
    "start_time": "2023-06-13T16:38:50.105Z"
   },
   {
    "duration": 49,
    "start_time": "2023-06-13T17:17:26.909Z"
   },
   {
    "duration": 111,
    "start_time": "2023-06-13T17:30:36.657Z"
   },
   {
    "duration": 91,
    "start_time": "2023-06-13T17:30:50.300Z"
   },
   {
    "duration": 88,
    "start_time": "2023-06-13T17:31:30.486Z"
   },
   {
    "duration": 87,
    "start_time": "2023-06-13T17:31:38.134Z"
   },
   {
    "duration": 3205,
    "start_time": "2023-06-13T17:33:30.236Z"
   },
   {
    "duration": 47305,
    "start_time": "2023-06-13T17:34:01.547Z"
   },
   {
    "duration": 57,
    "start_time": "2023-06-13T17:35:25.120Z"
   },
   {
    "duration": 47823,
    "start_time": "2023-06-13T17:35:31.007Z"
   },
   {
    "duration": 5,
    "start_time": "2023-06-13T17:36:32.423Z"
   },
   {
    "duration": 4,
    "start_time": "2023-06-13T17:36:41.342Z"
   },
   {
    "duration": 5,
    "start_time": "2023-06-13T17:36:45.247Z"
   },
   {
    "duration": 4,
    "start_time": "2023-06-13T17:36:56.085Z"
   },
   {
    "duration": 44142,
    "start_time": "2023-06-13T17:37:08.144Z"
   },
   {
    "duration": 3,
    "start_time": "2023-06-13T17:38:40.485Z"
   },
   {
    "duration": 9,
    "start_time": "2023-06-13T17:39:08.507Z"
   },
   {
    "duration": 273331,
    "start_time": "2023-06-13T17:44:29.980Z"
   },
   {
    "duration": 3,
    "start_time": "2023-06-13T17:49:09.880Z"
   },
   {
    "duration": 8,
    "start_time": "2023-06-13T17:49:59.608Z"
   },
   {
    "duration": 27169,
    "start_time": "2023-06-13T17:58:41.443Z"
   },
   {
    "duration": 5,
    "start_time": "2023-06-13T18:00:36.752Z"
   },
   {
    "duration": 30069,
    "start_time": "2023-06-13T18:00:43.646Z"
   },
   {
    "duration": 4,
    "start_time": "2023-06-13T18:02:03.624Z"
   },
   {
    "duration": 12475,
    "start_time": "2023-06-13T18:02:04.854Z"
   },
   {
    "duration": 0,
    "start_time": "2023-06-13T18:02:17.331Z"
   },
   {
    "duration": 43843,
    "start_time": "2023-06-13T18:02:24.691Z"
   },
   {
    "duration": 3,
    "start_time": "2023-06-13T18:07:20.648Z"
   },
   {
    "duration": 343077,
    "start_time": "2023-06-13T18:07:21.437Z"
   },
   {
    "duration": 218,
    "start_time": "2023-06-13T18:13:04.516Z"
   },
   {
    "duration": 3,
    "start_time": "2023-06-13T18:13:04.736Z"
   },
   {
    "duration": 82,
    "start_time": "2023-06-13T18:14:40.040Z"
   },
   {
    "duration": 2,
    "start_time": "2023-06-13T18:14:46.692Z"
   },
   {
    "duration": 5,
    "start_time": "2023-06-13T18:14:51.580Z"
   },
   {
    "duration": 4,
    "start_time": "2023-06-13T18:15:05.880Z"
   },
   {
    "duration": 9,
    "start_time": "2023-06-13T18:15:10.084Z"
   },
   {
    "duration": 22,
    "start_time": "2023-06-13T18:22:19.651Z"
   },
   {
    "duration": 43197,
    "start_time": "2023-06-13T18:22:39.162Z"
   },
   {
    "duration": 13,
    "start_time": "2023-06-13T18:24:23.102Z"
   },
   {
    "duration": 4,
    "start_time": "2023-06-13T18:24:37.161Z"
   },
   {
    "duration": 4,
    "start_time": "2023-06-13T18:24:51.985Z"
   },
   {
    "duration": 7,
    "start_time": "2023-06-13T18:24:57.817Z"
   },
   {
    "duration": 3,
    "start_time": "2023-06-13T18:25:08.684Z"
   },
   {
    "duration": 4,
    "start_time": "2023-06-13T18:25:21.243Z"
   },
   {
    "duration": 4,
    "start_time": "2023-06-13T18:29:05.600Z"
   },
   {
    "duration": 3,
    "start_time": "2023-06-13T18:29:45.351Z"
   },
   {
    "duration": 6,
    "start_time": "2023-06-13T18:29:49.012Z"
   }
  ],
  "kernelspec": {
   "display_name": "Python 3 (ipykernel)",
   "language": "python",
   "name": "python3"
  },
  "language_info": {
   "codemirror_mode": {
    "name": "ipython",
    "version": 3
   },
   "file_extension": ".py",
   "mimetype": "text/x-python",
   "name": "python",
   "nbconvert_exporter": "python",
   "pygments_lexer": "ipython3",
   "version": "3.9.13"
  },
  "toc": {
   "base_numbering": 1,
   "nav_menu": {},
   "number_sections": true,
   "sideBar": true,
   "skip_h1_title": true,
   "title_cell": "Table of Contents",
   "title_sidebar": "Contents",
   "toc_cell": false,
   "toc_position": {},
   "toc_section_display": true,
   "toc_window_display": false
  }
 },
 "nbformat": 4,
 "nbformat_minor": 2
}
