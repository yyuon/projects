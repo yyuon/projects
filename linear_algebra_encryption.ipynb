{
 "cells": [
  {
   "cell_type": "markdown",
   "metadata": {},
   "source": [
    "# Защита персональных данных клиентов"
   ]
  },
  {
   "cell_type": "markdown",
   "metadata": {},
   "source": [
    "Вам нужно защитить данные клиентов страховой компании «Хоть потоп». Разработайте такой метод преобразования данных, чтобы по ним было сложно восстановить персональную информацию. Обоснуйте корректность его работы.\n",
    "\n",
    "Нужно защитить данные, чтобы при преобразовании качество моделей машинного обучения не ухудшилось. Подбирать наилучшую модель не требуется."
   ]
  },
  {
   "cell_type": "markdown",
   "metadata": {},
   "source": [
    "В представленном проекте будет использована модель линейной регрессии для того, что прогнозировать данные клиентов, а также метрика r2 для того, чтобы понять, можно ли будет использовать зашифрованные данные клиентов, а также проверить, правильно ли сделан алгоритм шифрования и можно ли его использовать. Таким образом для выполнения проекта потребуется 4 библиотеки , которые представлены ниже:"
   ]
  },
  {
   "cell_type": "code",
   "execution_count": 11,
   "metadata": {},
   "outputs": [],
   "source": [
    "import pandas as pd \n",
    "import numpy as np\n",
    "from sklearn.linear_model import LinearRegression\n",
    "from sklearn.metrics import r2_score"
   ]
  },
  {
   "cell_type": "markdown",
   "metadata": {},
   "source": [
    "## Загрузка данных"
   ]
  },
  {
   "cell_type": "code",
   "execution_count": 2,
   "metadata": {},
   "outputs": [],
   "source": [
    "df = pd.read_csv('/datasets/insurance.csv')"
   ]
  },
  {
   "cell_type": "code",
   "execution_count": 3,
   "metadata": {},
   "outputs": [
    {
     "data": {
      "text/html": [
       "<div>\n",
       "<style scoped>\n",
       "    .dataframe tbody tr th:only-of-type {\n",
       "        vertical-align: middle;\n",
       "    }\n",
       "\n",
       "    .dataframe tbody tr th {\n",
       "        vertical-align: top;\n",
       "    }\n",
       "\n",
       "    .dataframe thead th {\n",
       "        text-align: right;\n",
       "    }\n",
       "</style>\n",
       "<table border=\"1\" class=\"dataframe\">\n",
       "  <thead>\n",
       "    <tr style=\"text-align: right;\">\n",
       "      <th></th>\n",
       "      <th>Пол</th>\n",
       "      <th>Возраст</th>\n",
       "      <th>Зарплата</th>\n",
       "      <th>Члены семьи</th>\n",
       "      <th>Страховые выплаты</th>\n",
       "    </tr>\n",
       "  </thead>\n",
       "  <tbody>\n",
       "    <tr>\n",
       "      <th>0</th>\n",
       "      <td>1</td>\n",
       "      <td>41.0</td>\n",
       "      <td>49600.0</td>\n",
       "      <td>1</td>\n",
       "      <td>0</td>\n",
       "    </tr>\n",
       "    <tr>\n",
       "      <th>1</th>\n",
       "      <td>0</td>\n",
       "      <td>46.0</td>\n",
       "      <td>38000.0</td>\n",
       "      <td>1</td>\n",
       "      <td>1</td>\n",
       "    </tr>\n",
       "    <tr>\n",
       "      <th>2</th>\n",
       "      <td>0</td>\n",
       "      <td>29.0</td>\n",
       "      <td>21000.0</td>\n",
       "      <td>0</td>\n",
       "      <td>0</td>\n",
       "    </tr>\n",
       "    <tr>\n",
       "      <th>3</th>\n",
       "      <td>0</td>\n",
       "      <td>21.0</td>\n",
       "      <td>41700.0</td>\n",
       "      <td>2</td>\n",
       "      <td>0</td>\n",
       "    </tr>\n",
       "    <tr>\n",
       "      <th>4</th>\n",
       "      <td>1</td>\n",
       "      <td>28.0</td>\n",
       "      <td>26100.0</td>\n",
       "      <td>0</td>\n",
       "      <td>0</td>\n",
       "    </tr>\n",
       "    <tr>\n",
       "      <th>...</th>\n",
       "      <td>...</td>\n",
       "      <td>...</td>\n",
       "      <td>...</td>\n",
       "      <td>...</td>\n",
       "      <td>...</td>\n",
       "    </tr>\n",
       "    <tr>\n",
       "      <th>4995</th>\n",
       "      <td>0</td>\n",
       "      <td>28.0</td>\n",
       "      <td>35700.0</td>\n",
       "      <td>2</td>\n",
       "      <td>0</td>\n",
       "    </tr>\n",
       "    <tr>\n",
       "      <th>4996</th>\n",
       "      <td>0</td>\n",
       "      <td>34.0</td>\n",
       "      <td>52400.0</td>\n",
       "      <td>1</td>\n",
       "      <td>0</td>\n",
       "    </tr>\n",
       "    <tr>\n",
       "      <th>4997</th>\n",
       "      <td>0</td>\n",
       "      <td>20.0</td>\n",
       "      <td>33900.0</td>\n",
       "      <td>2</td>\n",
       "      <td>0</td>\n",
       "    </tr>\n",
       "    <tr>\n",
       "      <th>4998</th>\n",
       "      <td>1</td>\n",
       "      <td>22.0</td>\n",
       "      <td>32700.0</td>\n",
       "      <td>3</td>\n",
       "      <td>0</td>\n",
       "    </tr>\n",
       "    <tr>\n",
       "      <th>4999</th>\n",
       "      <td>1</td>\n",
       "      <td>28.0</td>\n",
       "      <td>40600.0</td>\n",
       "      <td>1</td>\n",
       "      <td>0</td>\n",
       "    </tr>\n",
       "  </tbody>\n",
       "</table>\n",
       "<p>5000 rows × 5 columns</p>\n",
       "</div>"
      ],
      "text/plain": [
       "      Пол  Возраст  Зарплата  Члены семьи  Страховые выплаты\n",
       "0       1     41.0   49600.0            1                  0\n",
       "1       0     46.0   38000.0            1                  1\n",
       "2       0     29.0   21000.0            0                  0\n",
       "3       0     21.0   41700.0            2                  0\n",
       "4       1     28.0   26100.0            0                  0\n",
       "...   ...      ...       ...          ...                ...\n",
       "4995    0     28.0   35700.0            2                  0\n",
       "4996    0     34.0   52400.0            1                  0\n",
       "4997    0     20.0   33900.0            2                  0\n",
       "4998    1     22.0   32700.0            3                  0\n",
       "4999    1     28.0   40600.0            1                  0\n",
       "\n",
       "[5000 rows x 5 columns]"
      ]
     },
     "metadata": {},
     "output_type": "display_data"
    }
   ],
   "source": [
    "display(df)"
   ]
  },
  {
   "cell_type": "code",
   "execution_count": 4,
   "metadata": {},
   "outputs": [
    {
     "data": {
      "text/plain": [
       "Пол                  0\n",
       "Возраст              0\n",
       "Зарплата             0\n",
       "Члены семьи          0\n",
       "Страховые выплаты    0\n",
       "dtype: int64"
      ]
     },
     "execution_count": 4,
     "metadata": {},
     "output_type": "execute_result"
    }
   ],
   "source": [
    "df.isna().sum()"
   ]
  },
  {
   "cell_type": "markdown",
   "metadata": {},
   "source": [
    "Пропущенных значений нет, что позволяет продолжить работу"
   ]
  },
  {
   "cell_type": "code",
   "execution_count": 5,
   "metadata": {},
   "outputs": [],
   "source": [
    "df = df.rename(columns={'Пол': 'sex', \n",
    "                        'Возраст': 'age', \n",
    "                        'Зарплата': 'revenue', \n",
    "                        'Члены семьи': 'family_members', \n",
    "                        'Страховые выплаты': 'insurance_payments'})"
   ]
  },
  {
   "cell_type": "markdown",
   "metadata": {},
   "source": [
    "Преобразуем названия столбцов на английский язык"
   ]
  },
  {
   "cell_type": "code",
   "execution_count": 6,
   "metadata": {},
   "outputs": [
    {
     "data": {
      "text/plain": [
       "Index(['sex', 'age', 'revenue', 'family_members', 'insurance_payments'], dtype='object')"
      ]
     },
     "execution_count": 6,
     "metadata": {},
     "output_type": "execute_result"
    }
   ],
   "source": [
    "df.columns"
   ]
  },
  {
   "cell_type": "code",
   "execution_count": 20,
   "metadata": {},
   "outputs": [
    {
     "data": {
      "text/html": [
       "<style  type=\"text/css\" >\n",
       "#T_4b398_row0_col0,#T_4b398_row1_col1,#T_4b398_row2_col2,#T_4b398_row3_col3,#T_4b398_row4_col4{\n",
       "            background-color:  #b40426;\n",
       "            color:  #f1f1f1;\n",
       "        }#T_4b398_row0_col1,#T_4b398_row2_col4{\n",
       "            background-color:  #4055c8;\n",
       "            color:  #f1f1f1;\n",
       "        }#T_4b398_row0_col2,#T_4b398_row0_col4{\n",
       "            background-color:  #485fd1;\n",
       "            color:  #f1f1f1;\n",
       "        }#T_4b398_row0_col3,#T_4b398_row2_col0{\n",
       "            background-color:  #4257c9;\n",
       "            color:  #f1f1f1;\n",
       "        }#T_4b398_row1_col0,#T_4b398_row1_col2{\n",
       "            background-color:  #3d50c3;\n",
       "            color:  #f1f1f1;\n",
       "        }#T_4b398_row1_col3{\n",
       "            background-color:  #4358cb;\n",
       "            color:  #f1f1f1;\n",
       "        }#T_4b398_row1_col4{\n",
       "            background-color:  #f7b99e;\n",
       "            color:  #000000;\n",
       "        }#T_4b398_row2_col1,#T_4b398_row3_col0,#T_4b398_row3_col2,#T_4b398_row3_col4,#T_4b398_row4_col3{\n",
       "            background-color:  #3b4cc0;\n",
       "            color:  #f1f1f1;\n",
       "        }#T_4b398_row2_col3{\n",
       "            background-color:  #3c4ec2;\n",
       "            color:  #f1f1f1;\n",
       "        }#T_4b398_row3_col1,#T_4b398_row4_col2{\n",
       "            background-color:  #3e51c5;\n",
       "            color:  #f1f1f1;\n",
       "        }#T_4b398_row4_col0{\n",
       "            background-color:  #3f53c6;\n",
       "            color:  #f1f1f1;\n",
       "        }#T_4b398_row4_col1{\n",
       "            background-color:  #f7ba9f;\n",
       "            color:  #000000;\n",
       "        }</style><table id=\"T_4b398_\" ><thead>    <tr>        <th class=\"blank level0\" ></th>        <th class=\"col_heading level0 col0\" >sex</th>        <th class=\"col_heading level0 col1\" >age</th>        <th class=\"col_heading level0 col2\" >revenue</th>        <th class=\"col_heading level0 col3\" >family_members</th>        <th class=\"col_heading level0 col4\" >insurance_payments</th>    </tr></thead><tbody>\n",
       "                <tr>\n",
       "                        <th id=\"T_4b398_level0_row0\" class=\"row_heading level0 row0\" >sex</th>\n",
       "                        <td id=\"T_4b398_row0_col0\" class=\"data row0 col0\" >1.000000</td>\n",
       "                        <td id=\"T_4b398_row0_col1\" class=\"data row0 col1\" >0.002074</td>\n",
       "                        <td id=\"T_4b398_row0_col2\" class=\"data row0 col2\" >0.014910</td>\n",
       "                        <td id=\"T_4b398_row0_col3\" class=\"data row0 col3\" >-0.008991</td>\n",
       "                        <td id=\"T_4b398_row0_col4\" class=\"data row0 col4\" >0.010140</td>\n",
       "            </tr>\n",
       "            <tr>\n",
       "                        <th id=\"T_4b398_level0_row1\" class=\"row_heading level0 row1\" >age</th>\n",
       "                        <td id=\"T_4b398_row1_col0\" class=\"data row1 col0\" >0.002074</td>\n",
       "                        <td id=\"T_4b398_row1_col1\" class=\"data row1 col1\" >1.000000</td>\n",
       "                        <td id=\"T_4b398_row1_col2\" class=\"data row1 col2\" >-0.019093</td>\n",
       "                        <td id=\"T_4b398_row1_col3\" class=\"data row1 col3\" >-0.006692</td>\n",
       "                        <td id=\"T_4b398_row1_col4\" class=\"data row1 col4\" >0.651030</td>\n",
       "            </tr>\n",
       "            <tr>\n",
       "                        <th id=\"T_4b398_level0_row2\" class=\"row_heading level0 row2\" >revenue</th>\n",
       "                        <td id=\"T_4b398_row2_col0\" class=\"data row2 col0\" >0.014910</td>\n",
       "                        <td id=\"T_4b398_row2_col1\" class=\"data row2 col1\" >-0.019093</td>\n",
       "                        <td id=\"T_4b398_row2_col2\" class=\"data row2 col2\" >1.000000</td>\n",
       "                        <td id=\"T_4b398_row2_col3\" class=\"data row2 col3\" >-0.030296</td>\n",
       "                        <td id=\"T_4b398_row2_col4\" class=\"data row2 col4\" >-0.014963</td>\n",
       "            </tr>\n",
       "            <tr>\n",
       "                        <th id=\"T_4b398_level0_row3\" class=\"row_heading level0 row3\" >family_members</th>\n",
       "                        <td id=\"T_4b398_row3_col0\" class=\"data row3 col0\" >-0.008991</td>\n",
       "                        <td id=\"T_4b398_row3_col1\" class=\"data row3 col1\" >-0.006692</td>\n",
       "                        <td id=\"T_4b398_row3_col2\" class=\"data row3 col2\" >-0.030296</td>\n",
       "                        <td id=\"T_4b398_row3_col3\" class=\"data row3 col3\" >1.000000</td>\n",
       "                        <td id=\"T_4b398_row3_col4\" class=\"data row3 col4\" >-0.036290</td>\n",
       "            </tr>\n",
       "            <tr>\n",
       "                        <th id=\"T_4b398_level0_row4\" class=\"row_heading level0 row4\" >insurance_payments</th>\n",
       "                        <td id=\"T_4b398_row4_col0\" class=\"data row4 col0\" >0.010140</td>\n",
       "                        <td id=\"T_4b398_row4_col1\" class=\"data row4 col1\" >0.651030</td>\n",
       "                        <td id=\"T_4b398_row4_col2\" class=\"data row4 col2\" >-0.014963</td>\n",
       "                        <td id=\"T_4b398_row4_col3\" class=\"data row4 col3\" >-0.036290</td>\n",
       "                        <td id=\"T_4b398_row4_col4\" class=\"data row4 col4\" >1.000000</td>\n",
       "            </tr>\n",
       "    </tbody></table>"
      ],
      "text/plain": [
       "<pandas.io.formats.style.Styler at 0x7fce7a74c9d0>"
      ]
     },
     "execution_count": 20,
     "metadata": {},
     "output_type": "execute_result"
    }
   ],
   "source": [
    "corr =df.corr()\n",
    "corr.style.background_gradient(cmap='coolwarm')\n"
   ]
  },
  {
   "cell_type": "markdown",
   "metadata": {},
   "source": [
    "Можно заметить, что среди данных есть только два признака с сильной линейной зависимостью."
   ]
  },
  {
   "cell_type": "markdown",
   "metadata": {},
   "source": [
    "## Умножение матриц"
   ]
  },
  {
   "cell_type": "markdown",
   "metadata": {},
   "source": [
    "Обозначения:\n",
    "\n",
    "- $X$ — матрица признаков (нулевой столбец состоит из единиц)\n",
    "\n",
    "- $y$ — вектор целевого признака\n",
    "\n",
    "- $P$ — матрица, на которую умножаются признаки\n",
    "\n",
    "- $w$ — вектор весов линейной регрессии (нулевой элемент равен сдвигу)"
   ]
  },
  {
   "cell_type": "markdown",
   "metadata": {},
   "source": [
    "Предсказания:\n",
    "\n",
    "$$\n",
    "a = Xw\n",
    "$$\n",
    "\n",
    "Задача обучения:\n",
    "\n",
    "$$\n",
    "w = \\arg\\min_w MSE(Xw, y)\n",
    "$$\n",
    "\n",
    "Формула обучения:\n",
    "\n",
    "$$\n",
    "w = (X^T X)^{-1} X^T y\n",
    "$$"
   ]
  },
  {
   "cell_type": "markdown",
   "metadata": {},
   "source": [
    "**Ответ:** Точность линейной регрессии не изменится. "
   ]
  },
  {
   "cell_type": "markdown",
   "metadata": {},
   "source": [
    "**Обоснование:**\n",
    "\n",
    "Используемые свойства:\n",
    "$$\n",
    "(AB)^T=B^T A^T\n",
    "$$\n",
    "$$\n",
    "(AB)^{-1} = B^{-1} A^{-1}\n",
    "$$\n",
    "$$\n",
    "A A^{-1} = A^{-1} A = E\n",
    "$$\n",
    "$$\n",
    "AE = EA = A\n",
    "$$\n",
    "Доказательство:\n",
    "$$\n",
    "a = Xw = XEw = XPP^{-1}w = (XP)P^{-1}w = (XP)w'\n",
    "$$\n",
    "\\\n",
    "Требуется доказать, что предсказания не изменятся, имеем  $a =  Xw$,   $a' = X'w'$\n",
    "\\\n",
    "\\\n",
    "$$\n",
    "    w = (X^T X)^{-1} X^T y\n",
    "$$\n",
    "\\\n",
    "$$\n",
    "w' = ((XP)^T XP)^{-1} (XP)^T y\n",
    "$$\n",
    "$$\n",
    "w' = (P^T (X^T X) P)^{-1} (XP)^T y\n",
    "$$\n",
    "$$\n",
    "w' = (P^T (X^T X) P)^{-1} P^T X^T y\n",
    "$$\n",
    "$$\n",
    "w' = (P)^{-1} (X^T X)^{-1} (P^T)^{-1} P^T X^T y\n",
    "$$\n",
    "$$\n",
    "w' = (P)^{-1} (X^T X)^{-1} E X^T y\n",
    "$$\n",
    "$$\n",
    "w' = (P)^{-1} (X^T X)^{-1} X^T y\n",
    "$$\n"
   ]
  },
  {
   "cell_type": "markdown",
   "metadata": {},
   "source": [
    "## Алгоритм преобразования"
   ]
  },
  {
   "cell_type": "markdown",
   "metadata": {},
   "source": [
    "**Алгоритм**\n",
    "\n",
    "Для того, чтобы зашифровать данные клиентов, можно создать случайную обратимую матрицу и ее обратную матрицу, далее умножить матрицу признаков (features) на случайную обратимую матрицу, чтобы получить зашифрованные данные. Далее, чтобы получить расшифрованные данные можно умножить зашифрованную матрицу на обратную матрицу. "
   ]
  },
  {
   "cell_type": "markdown",
   "metadata": {},
   "source": [
    "**Обоснование**\n",
    "\n",
    "Генерация лучайной обратимой матрицы обеспечивает сохранение информации, а обратимость матрицы говорит о том, что можно будет впоследствии расшифровать данные без изменения качества модели. Умножение матрицы признаков на обратимую матрицу сохраняет корреляции, что позволит сохранить способность модели прогнозировать данные."
   ]
  },
  {
   "cell_type": "markdown",
   "metadata": {},
   "source": [
    "## Проверка алгоритма"
   ]
  },
  {
   "cell_type": "code",
   "execution_count": 7,
   "metadata": {},
   "outputs": [],
   "source": [
    "features = df.drop('insurance_payments', axis=1)\n",
    "target = df['insurance_payments']"
   ]
  },
  {
   "cell_type": "code",
   "execution_count": 10,
   "metadata": {},
   "outputs": [],
   "source": [
    "random_matrix = np.random.rand(features.shape[1], features.shape[1]) # случ матрица\n",
    "inv_rand_mat = np.linalg.inv(random_matrix) # случайная обратимая матрица\n",
    "\n",
    "features_enc = features.dot(random_matrix) \n",
    "features_dec = features_enc.dot(inv_rand_mat)"
   ]
  },
  {
   "cell_type": "code",
   "execution_count": 17,
   "metadata": {},
   "outputs": [],
   "source": [
    "model = LinearRegression()\n",
    "model.fit(features, target) \n",
    "predictions = model.predict(features) \n",
    "predictions_dec = model.predict(features_dec) "
   ]
  },
  {
   "cell_type": "code",
   "execution_count": 18,
   "metadata": {},
   "outputs": [
    {
     "name": "stdout",
     "output_type": "stream",
     "text": [
      "R2 для оригинальных данных: 0.4249455028666801\n",
      "-------------------------------------\n",
      "R2 для преобразоввнных данных: 0.42494550286666355\n"
     ]
    }
   ],
   "source": [
    "r2_enc = r2_score(target, predictions) \n",
    "r2_dec = r2_score(target, predictions_dec)\n",
    "\n",
    "print('R2 для оригинальных данных:', r2_enc) \n",
    "print('-------------------------------------') \n",
    "print('R2 для преобразоввнных данных:', r2_dec)"
   ]
  },
  {
   "cell_type": "markdown",
   "metadata": {},
   "source": [
    "## Вывод"
   ]
  },
  {
   "cell_type": "markdown",
   "metadata": {},
   "source": [
    "Таким образом можно сказать, что в проекте были использована модель линейной регресии, а также два типа данных: обычные данные (без шифрования) и зашифрованные данные. Модель линейной регресии была обучена и проверены ее прогнозы на основе метрики R2 для того, чтобы понять, можно ли использовать представленный алгоритм шифрования с учетом того, что модель должна сохранять коэффициент детерминации. Можно заметить, что полученная модель и полученные данные прошли проверку, следовательно, можно использовать представленные алгоритм шифрования данных."
   ]
  }
 ],
 "metadata": {
  "ExecuteTimeLog": [
   {
    "duration": 466,
    "start_time": "2023-05-04T09:51:12.085Z"
   },
   {
    "duration": 433,
    "start_time": "2023-05-04T09:59:36.187Z"
   },
   {
    "duration": 118,
    "start_time": "2023-05-04T09:59:36.622Z"
   },
   {
    "duration": 40,
    "start_time": "2023-05-04T09:59:43.521Z"
   },
   {
    "duration": 10,
    "start_time": "2023-05-04T10:00:16.671Z"
   },
   {
    "duration": 8,
    "start_time": "2023-05-04T11:25:39.931Z"
   },
   {
    "duration": 6,
    "start_time": "2023-05-04T11:25:45.459Z"
   },
   {
    "duration": 398,
    "start_time": "2023-05-16T11:50:22.676Z"
   },
   {
    "duration": 105,
    "start_time": "2023-05-16T11:50:24.788Z"
   },
   {
    "duration": 31,
    "start_time": "2023-05-16T11:50:26.588Z"
   },
   {
    "duration": 7,
    "start_time": "2023-05-16T11:50:27.470Z"
   },
   {
    "duration": 4,
    "start_time": "2023-05-16T11:50:27.827Z"
   },
   {
    "duration": 5,
    "start_time": "2023-05-16T11:50:28.771Z"
   },
   {
    "duration": 6,
    "start_time": "2023-05-16T12:31:33.522Z"
   },
   {
    "duration": 111,
    "start_time": "2023-05-16T12:35:09.408Z"
   },
   {
    "duration": 19,
    "start_time": "2023-05-16T12:36:47.755Z"
   },
   {
    "duration": 27,
    "start_time": "2023-05-16T12:37:33.026Z"
   },
   {
    "duration": 1084,
    "start_time": "2023-05-16T12:39:30.102Z"
   },
   {
    "duration": 129,
    "start_time": "2023-05-16T12:40:16.091Z"
   },
   {
    "duration": 8,
    "start_time": "2023-05-16T12:42:17.867Z"
   },
   {
    "duration": 16,
    "start_time": "2023-05-16T12:42:27.677Z"
   },
   {
    "duration": 106,
    "start_time": "2023-05-16T12:48:16.632Z"
   },
   {
    "duration": 18,
    "start_time": "2023-05-16T12:48:17.406Z"
   },
   {
    "duration": 43,
    "start_time": "2023-05-16T12:49:12.624Z"
   },
   {
    "duration": 11,
    "start_time": "2023-05-16T12:49:15.205Z"
   },
   {
    "duration": 14,
    "start_time": "2023-05-16T12:57:59.954Z"
   },
   {
    "duration": 818,
    "start_time": "2023-05-16T12:58:35.359Z"
   }
  ],
  "kernelspec": {
   "display_name": "Python 3 (ipykernel)",
   "language": "python",
   "name": "python3"
  },
  "language_info": {
   "codemirror_mode": {
    "name": "ipython",
    "version": 3
   },
   "file_extension": ".py",
   "mimetype": "text/x-python",
   "name": "python",
   "nbconvert_exporter": "python",
   "pygments_lexer": "ipython3",
   "version": "3.9.13"
  },
  "toc": {
   "base_numbering": 1,
   "nav_menu": {},
   "number_sections": true,
   "sideBar": true,
   "skip_h1_title": true,
   "title_cell": "Содержание",
   "title_sidebar": "Contents",
   "toc_cell": true,
   "toc_position": {},
   "toc_section_display": true,
   "toc_window_display": false
  }
 },
 "nbformat": 4,
 "nbformat_minor": 2
}
